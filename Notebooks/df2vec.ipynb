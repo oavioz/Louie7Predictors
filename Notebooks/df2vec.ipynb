{
 "cells": [
  {
   "cell_type": "code",
   "execution_count": 1,
   "id": "e3c6b3ff",
   "metadata": {},
   "outputs": [],
   "source": [
    "import numpy as np\n",
    "from statsmodels.robust.scale import huber\n",
    "from statsmodels.tsa.stattools import adfuller"
   ]
  },
  {
   "cell_type": "code",
   "execution_count": 2,
   "id": "e18e35f1",
   "metadata": {},
   "outputs": [],
   "source": [
    "import pandas as pd\n",
    "import time,datetime"
   ]
  },
  {
   "cell_type": "code",
   "execution_count": 3,
   "id": "1fe19298",
   "metadata": {},
   "outputs": [],
   "source": [
    "from statsmodels.robust.scale import qn,qn_scale"
   ]
  },
  {
   "cell_type": "code",
   "execution_count": 4,
   "id": "fd92bf81",
   "metadata": {},
   "outputs": [],
   "source": [
    "# Mean and standard deviation to generate normal random variates\n",
    "mean, std_dev = 0, 2\n",
    "sample_size = 125\n",
    "np.random.seed(42)\n",
    "x = np.random.normal(mean, std_dev, sample_size)\n",
    "# Appends a couple of outliers\n",
    "#x = np.append(x, (50, 100))"
   ]
  },
  {
   "cell_type": "code",
   "execution_count": 5,
   "id": "b981012e",
   "metadata": {},
   "outputs": [
    {
     "data": {
      "text/plain": [
       "array([ 0.99342831, -0.2765286 ,  1.29537708,  3.04605971, -0.46830675,\n",
       "       -0.46827391,  3.15842563,  1.53486946, -0.93894877,  1.08512009,\n",
       "       -0.92683539, -0.93145951,  0.48392454, -3.82656049, -3.44983567,\n",
       "       -1.12457506, -2.02566224,  0.62849467, -1.81604815, -2.8246074 ,\n",
       "        2.93129754, -0.4515526 ,  0.13505641, -2.84949637, -1.08876545,\n",
       "        0.22184518, -2.30198715,  0.75139604, -1.20127738, -0.5833875 ,\n",
       "       -1.20341322,  3.70455637, -0.02699445, -2.11542186,  1.64508982,\n",
       "       -2.4416873 ,  0.41772719, -3.91934025, -2.6563721 ,  0.39372247,\n",
       "        1.47693316,  0.34273656, -0.23129656, -0.60220739, -2.95704398,\n",
       "       -1.43968842, -0.92127754,  2.11424445,  0.68723658, -3.52608031,\n",
       "        0.64816794, -0.77016456, -1.353844  ,  1.22335258,  2.06199904,\n",
       "        1.86256024, -1.67843505, -0.61842475,  0.66252686,  1.95109025,\n",
       "       -0.95834848, -0.37131795, -2.21266995, -2.39241325,  1.62505164,\n",
       "        2.71248006, -0.14402024,  2.0070658 ,  0.72327205, -1.29023951,\n",
       "        0.72279121,  3.07607313, -0.07165208,  3.12928731, -5.23949021,\n",
       "        1.64380501,  0.17409414, -0.5980147 ,  0.18352155, -3.97513783,\n",
       "       -0.43934378,  0.71422514,  2.95578809, -1.03654044, -1.61698721,\n",
       "       -1.00351409,  1.83080424,  0.65750222, -1.05952041,  1.02653487,\n",
       "        0.1941551 ,  1.93728998, -1.40410619, -0.65532429, -0.78421631,\n",
       "       -2.9270299 ,  0.59224055,  0.52211054,  0.01022691, -0.46917427,\n",
       "       -2.83074148, -0.84129065, -0.68542903, -1.60455454, -0.32257142,\n",
       "        0.80810171,  3.7723718 ,  0.34915563,  0.51510078, -0.14889183,\n",
       "       -3.83754243, -0.05302775,  0.12046042,  4.92648422, -0.38472193,\n",
       "        0.60309468, -0.06942354, -2.33735608,  2.28564563,  1.50386607,\n",
       "        1.58206389, -1.81877491,  2.80558862, -2.80370213,  1.17371419])"
      ]
     },
     "execution_count": 5,
     "metadata": {},
     "output_type": "execute_result"
    }
   ],
   "source": [
    "x"
   ]
  },
  {
   "cell_type": "code",
   "execution_count": 20,
   "id": "80d0b170",
   "metadata": {},
   "outputs": [],
   "source": [
    "f = adfuller(x)"
   ]
  },
  {
   "cell_type": "code",
   "execution_count": 23,
   "id": "fab83018",
   "metadata": {},
   "outputs": [
    {
     "data": {
      "text/plain": [
       "(-11.424779824371464,\n",
       " 6.736995964954299e-21,\n",
       " 0,\n",
       " 124,\n",
       " {'1%': -3.484219653271961,\n",
       "  '5%': -2.885145235641637,\n",
       "  '10%': -2.579359138917794},\n",
       " 457.0457307352889)"
      ]
     },
     "execution_count": 23,
     "metadata": {},
     "output_type": "execute_result"
    }
   ],
   "source": [
    "f"
   ]
  },
  {
   "cell_type": "code",
   "execution_count": 24,
   "id": "253ee90b",
   "metadata": {},
   "outputs": [
    {
     "data": {
      "text/plain": [
       "tuple"
      ]
     },
     "execution_count": 24,
     "metadata": {},
     "output_type": "execute_result"
    }
   ],
   "source": [
    "type(f)"
   ]
  },
  {
   "cell_type": "code",
   "execution_count": 6,
   "id": "98bac046",
   "metadata": {},
   "outputs": [
    {
     "name": "stdout",
     "output_type": "stream",
     "text": [
      "5.2527628543368685 20.945734041764215\n"
     ]
    }
   ],
   "source": [
    "print (np.mean(x), np.std(x))"
   ]
  },
  {
   "cell_type": "code",
   "execution_count": 9,
   "id": "07faf4af",
   "metadata": {
    "scrolled": false
   },
   "outputs": [],
   "source": [
    "y = huber(x)"
   ]
  },
  {
   "cell_type": "code",
   "execution_count": 10,
   "id": "a1581fa5",
   "metadata": {},
   "outputs": [
    {
     "data": {
      "text/plain": [
       "(array(-0.03323791), array(2.36742171))"
      ]
     },
     "execution_count": 10,
     "metadata": {},
     "output_type": "execute_result"
    }
   ],
   "source": [
    "y"
   ]
  },
  {
   "cell_type": "code",
   "execution_count": 11,
   "id": "50b07267",
   "metadata": {},
   "outputs": [
    {
     "data": {
      "text/plain": [
       "2.367421713671407"
      ]
     },
     "execution_count": 11,
     "metadata": {},
     "output_type": "execute_result"
    }
   ],
   "source": [
    "y[1].item(0)"
   ]
  },
  {
   "cell_type": "code",
   "execution_count": 12,
   "id": "3c89ce20",
   "metadata": {},
   "outputs": [
    {
     "name": "stdout",
     "output_type": "stream",
     "text": [
      "2.4281939407751443\n"
     ]
    }
   ],
   "source": [
    "print(qn_scale(x))"
   ]
  },
  {
   "cell_type": "code",
   "execution_count": 10,
   "id": "14aeb55e",
   "metadata": {},
   "outputs": [
    {
     "data": {
      "text/plain": [
       "-0.8974235880007292"
      ]
     },
     "execution_count": 10,
     "metadata": {},
     "output_type": "execute_result"
    }
   ],
   "source": [
    "len(x)*y.item(0)"
   ]
  },
  {
   "cell_type": "code",
   "execution_count": 4,
   "id": "4f498571",
   "metadata": {},
   "outputs": [],
   "source": [
    "dfd =  pd.read_csv('/Users/smuel/Developer/Python/Louie7Predictors/sample_salesv3.csv')\n",
    "dfd['date'] = pd.to_datetime(dfd['date'])"
   ]
  },
  {
   "cell_type": "code",
   "execution_count": 23,
   "id": "6e1acfc4",
   "metadata": {},
   "outputs": [],
   "source": [
    "x1= dfd.loc[dfd['name'] == 'BartonLLC']"
   ]
  },
  {
   "cell_type": "code",
   "execution_count": 24,
   "id": "22bbf823",
   "metadata": {},
   "outputs": [],
   "source": [
    "x1 = x1.set_index('date')"
   ]
  },
  {
   "cell_type": "code",
   "execution_count": 25,
   "id": "53f1528a",
   "metadata": {},
   "outputs": [],
   "source": [
    "x2 = x1.between_time('04:00', '10:00')                     "
   ]
  },
  {
   "cell_type": "code",
   "execution_count": 26,
   "id": "5595b304",
   "metadata": {},
   "outputs": [
    {
     "data": {
      "text/html": [
       "<div>\n",
       "<style scoped>\n",
       "    .dataframe tbody tr th:only-of-type {\n",
       "        vertical-align: middle;\n",
       "    }\n",
       "\n",
       "    .dataframe tbody tr th {\n",
       "        vertical-align: top;\n",
       "    }\n",
       "\n",
       "    .dataframe thead th {\n",
       "        text-align: right;\n",
       "    }\n",
       "</style>\n",
       "<table border=\"1\" class=\"dataframe\">\n",
       "  <thead>\n",
       "    <tr style=\"text-align: right;\">\n",
       "      <th></th>\n",
       "      <th>Unnamed: 0</th>\n",
       "      <th>account number</th>\n",
       "      <th>name</th>\n",
       "      <th>sku</th>\n",
       "      <th>quantity</th>\n",
       "      <th>unit price</th>\n",
       "      <th>ext price</th>\n",
       "    </tr>\n",
       "    <tr>\n",
       "      <th>date</th>\n",
       "      <th></th>\n",
       "      <th></th>\n",
       "      <th></th>\n",
       "      <th></th>\n",
       "      <th></th>\n",
       "      <th></th>\n",
       "      <th></th>\n",
       "    </tr>\n",
       "  </thead>\n",
       "  <tbody>\n",
       "    <tr>\n",
       "      <th>2014-01-01 04:21:00</th>\n",
       "      <td>0</td>\n",
       "      <td>740150</td>\n",
       "      <td>BartonLLC</td>\n",
       "      <td>B1-20000</td>\n",
       "      <td>39</td>\n",
       "      <td>86.69</td>\n",
       "      <td>3380.91</td>\n",
       "    </tr>\n",
       "    <tr>\n",
       "      <th>2014-01-01 04:21:30</th>\n",
       "      <td>1</td>\n",
       "      <td>714466</td>\n",
       "      <td>BartonLLC</td>\n",
       "      <td>S2-77896</td>\n",
       "      <td>-1</td>\n",
       "      <td>63.16</td>\n",
       "      <td>-63.16</td>\n",
       "    </tr>\n",
       "    <tr>\n",
       "      <th>2014-01-01 05:22:00</th>\n",
       "      <td>2</td>\n",
       "      <td>218895</td>\n",
       "      <td>BartonLLC</td>\n",
       "      <td>B1-69924</td>\n",
       "      <td>23</td>\n",
       "      <td>90.70</td>\n",
       "      <td>2086.10</td>\n",
       "    </tr>\n",
       "    <tr>\n",
       "      <th>2014-01-01 06:22:30</th>\n",
       "      <td>3</td>\n",
       "      <td>740150</td>\n",
       "      <td>BartonLLC</td>\n",
       "      <td>B1-69924</td>\n",
       "      <td>41</td>\n",
       "      <td>21.05</td>\n",
       "      <td>863.05</td>\n",
       "    </tr>\n",
       "  </tbody>\n",
       "</table>\n",
       "</div>"
      ],
      "text/plain": [
       "                     Unnamed: 0  account number       name       sku  \\\n",
       "date                                                                   \n",
       "2014-01-01 04:21:00           0          740150  BartonLLC  B1-20000   \n",
       "2014-01-01 04:21:30           1          714466  BartonLLC  S2-77896   \n",
       "2014-01-01 05:22:00           2          218895  BartonLLC  B1-69924   \n",
       "2014-01-01 06:22:30           3          740150  BartonLLC  B1-69924   \n",
       "\n",
       "                     quantity  unit price  ext price  \n",
       "date                                                  \n",
       "2014-01-01 04:21:00        39       86.69    3380.91  \n",
       "2014-01-01 04:21:30        -1       63.16     -63.16  \n",
       "2014-01-01 05:22:00        23       90.70    2086.10  \n",
       "2014-01-01 06:22:30        41       21.05     863.05  "
      ]
     },
     "execution_count": 26,
     "metadata": {},
     "output_type": "execute_result"
    }
   ],
   "source": [
    "x2.head()"
   ]
  },
  {
   "cell_type": "code",
   "execution_count": 27,
   "id": "3e1d2536",
   "metadata": {},
   "outputs": [
    {
     "data": {
      "text/plain": [
       "pandas.core.frame.DataFrame"
      ]
     },
     "execution_count": 27,
     "metadata": {},
     "output_type": "execute_result"
    }
   ],
   "source": [
    "type(x2)"
   ]
  },
  {
   "cell_type": "code",
   "execution_count": 29,
   "id": "f7f92dfd",
   "metadata": {},
   "outputs": [
    {
     "name": "stdout",
     "output_type": "stream",
     "text": [
      "fuck\n"
     ]
    }
   ],
   "source": [
    "if not x2.empty:\n",
    "    print(\"fuck\")"
   ]
  },
  {
   "cell_type": "code",
   "execution_count": 13,
   "id": "aaea43ac",
   "metadata": {
    "scrolled": true
   },
   "outputs": [
    {
     "data": {
      "text/plain": [
       "date\n",
       "2014-01-01    58.36440\n",
       "2014-01-02    50.58125\n",
       "Freq: D, Name: unit price, dtype: float64"
      ]
     },
     "execution_count": 13,
     "metadata": {},
     "output_type": "execute_result"
    }
   ],
   "source": [
    "x1.groupby(pd.Grouper( freq='D'))['unit price'].agg('mean')"
   ]
  },
  {
   "cell_type": "code",
   "execution_count": 29,
   "id": "0772cd9b",
   "metadata": {},
   "outputs": [],
   "source": [
    "y = dfd.groupby(pd.Grouper(key='date', freq='D'))['unit price'].apply(lambda x : x.to_numpy())"
   ]
  },
  {
   "cell_type": "code",
   "execution_count": 30,
   "id": "69433c43",
   "metadata": {},
   "outputs": [
    {
     "data": {
      "text/plain": [
       "pandas.core.series.Series"
      ]
     },
     "execution_count": 30,
     "metadata": {},
     "output_type": "execute_result"
    }
   ],
   "source": [
    "type(y)"
   ]
  },
  {
   "cell_type": "code",
   "execution_count": 32,
   "id": "4dc7de81",
   "metadata": {},
   "outputs": [],
   "source": [
    "ya = y.to_numpy()"
   ]
  },
  {
   "cell_type": "code",
   "execution_count": 33,
   "id": "2b693ca3",
   "metadata": {},
   "outputs": [
    {
     "data": {
      "text/plain": [
       "array([86.69, 63.16, 90.7 , 21.05, 83.21, 87.63, 31.1 , 33.25, 84.09,\n",
       "       81.92, 67.74, 20.26, 61.31, 12.44, 71.56, 71.51, 72.75, 16.23,\n",
       "       94.3 , 31.18, 96.95, 50.29, 52.41, 16.97, 60.41])"
      ]
     },
     "execution_count": 33,
     "metadata": {},
     "output_type": "execute_result"
    }
   ],
   "source": [
    "ya[0]"
   ]
  },
  {
   "cell_type": "code",
   "execution_count": 34,
   "id": "926c9209",
   "metadata": {},
   "outputs": [
    {
     "data": {
      "text/plain": [
       "41"
      ]
     },
     "execution_count": 34,
     "metadata": {},
     "output_type": "execute_result"
    }
   ],
   "source": [
    "len(dfd['date'])"
   ]
  },
  {
   "cell_type": "code",
   "execution_count": 41,
   "id": "11b561df",
   "metadata": {},
   "outputs": [
    {
     "data": {
      "text/plain": [
       "48"
      ]
     },
     "execution_count": 41,
     "metadata": {},
     "output_type": "execute_result"
    }
   ],
   "source": [
    "np.abs(dfd['quantity'].max())"
   ]
  },
  {
   "cell_type": "code",
   "execution_count": 38,
   "id": "2192fa1a",
   "metadata": {},
   "outputs": [],
   "source": [
    "na = np.arange(0, dfd['quantity'].max() + 5 , 5)"
   ]
  },
  {
   "cell_type": "code",
   "execution_count": 39,
   "id": "85d21a72",
   "metadata": {
    "scrolled": true
   },
   "outputs": [
    {
     "data": {
      "text/plain": [
       "array([ 0,  5, 10, 15, 20, 25, 30, 35, 40, 45, 50])"
      ]
     },
     "execution_count": 39,
     "metadata": {},
     "output_type": "execute_result"
    }
   ],
   "source": [
    "na"
   ]
  },
  {
   "cell_type": "code",
   "execution_count": 7,
   "id": "f471cf65",
   "metadata": {},
   "outputs": [],
   "source": [
    "df1 =  pd.read_csv('/Users/smuel/Developer/Python/Louie7Predictors/sample_salesv3.csv')\n",
    "df1['date'] = pd.to_datetime(df1['date'])"
   ]
  },
  {
   "cell_type": "code",
   "execution_count": 131,
   "id": "7c5ffacf",
   "metadata": {},
   "outputs": [],
   "source": [
    "df1['days'] = df1['date'].dt.date\n",
    "df1['days'] = pd.to_datetime(df1['days'])"
   ]
  },
  {
   "cell_type": "code",
   "execution_count": 132,
   "id": "07e3d730",
   "metadata": {},
   "outputs": [
    {
     "data": {
      "text/html": [
       "<div>\n",
       "<style scoped>\n",
       "    .dataframe tbody tr th:only-of-type {\n",
       "        vertical-align: middle;\n",
       "    }\n",
       "\n",
       "    .dataframe tbody tr th {\n",
       "        vertical-align: top;\n",
       "    }\n",
       "\n",
       "    .dataframe thead th {\n",
       "        text-align: right;\n",
       "    }\n",
       "</style>\n",
       "<table border=\"1\" class=\"dataframe\">\n",
       "  <thead>\n",
       "    <tr style=\"text-align: right;\">\n",
       "      <th></th>\n",
       "      <th>Unnamed: 0</th>\n",
       "      <th>account number</th>\n",
       "      <th>name</th>\n",
       "      <th>sku</th>\n",
       "      <th>quantity</th>\n",
       "      <th>unit price</th>\n",
       "      <th>ext price</th>\n",
       "      <th>date</th>\n",
       "      <th>days</th>\n",
       "    </tr>\n",
       "  </thead>\n",
       "  <tbody>\n",
       "    <tr>\n",
       "      <th>0</th>\n",
       "      <td>0</td>\n",
       "      <td>740150</td>\n",
       "      <td>BartonLLC</td>\n",
       "      <td>B1-20000</td>\n",
       "      <td>39</td>\n",
       "      <td>86.69</td>\n",
       "      <td>3380.91</td>\n",
       "      <td>2014-01-01 04:21:00</td>\n",
       "      <td>2014-01-01</td>\n",
       "    </tr>\n",
       "    <tr>\n",
       "      <th>1</th>\n",
       "      <td>1</td>\n",
       "      <td>714466</td>\n",
       "      <td>BartonLLC</td>\n",
       "      <td>S2-77896</td>\n",
       "      <td>-1</td>\n",
       "      <td>63.16</td>\n",
       "      <td>-63.16</td>\n",
       "      <td>2014-01-01 04:21:30</td>\n",
       "      <td>2014-01-01</td>\n",
       "    </tr>\n",
       "    <tr>\n",
       "      <th>2</th>\n",
       "      <td>2</td>\n",
       "      <td>218895</td>\n",
       "      <td>BartonLLC</td>\n",
       "      <td>B1-69924</td>\n",
       "      <td>23</td>\n",
       "      <td>90.70</td>\n",
       "      <td>2086.10</td>\n",
       "      <td>2014-01-01 05:22:00</td>\n",
       "      <td>2014-01-01</td>\n",
       "    </tr>\n",
       "    <tr>\n",
       "      <th>3</th>\n",
       "      <td>3</td>\n",
       "      <td>740150</td>\n",
       "      <td>BartonLLC</td>\n",
       "      <td>B1-69924</td>\n",
       "      <td>41</td>\n",
       "      <td>21.05</td>\n",
       "      <td>863.05</td>\n",
       "      <td>2014-01-01 06:22:30</td>\n",
       "      <td>2014-01-01</td>\n",
       "    </tr>\n",
       "    <tr>\n",
       "      <th>4</th>\n",
       "      <td>4</td>\n",
       "      <td>412290</td>\n",
       "      <td>Kassulke</td>\n",
       "      <td>S2-34077</td>\n",
       "      <td>6</td>\n",
       "      <td>83.21</td>\n",
       "      <td>499.26</td>\n",
       "      <td>NaT</td>\n",
       "      <td>NaT</td>\n",
       "    </tr>\n",
       "  </tbody>\n",
       "</table>\n",
       "</div>"
      ],
      "text/plain": [
       "   Unnamed: 0  account number       name       sku  quantity  unit price  \\\n",
       "0           0          740150  BartonLLC  B1-20000        39       86.69   \n",
       "1           1          714466  BartonLLC  S2-77896        -1       63.16   \n",
       "2           2          218895  BartonLLC  B1-69924        23       90.70   \n",
       "3           3          740150  BartonLLC  B1-69924        41       21.05   \n",
       "4           4          412290   Kassulke  S2-34077         6       83.21   \n",
       "\n",
       "   ext price                date       days  \n",
       "0    3380.91 2014-01-01 04:21:00 2014-01-01  \n",
       "1     -63.16 2014-01-01 04:21:30 2014-01-01  \n",
       "2    2086.10 2014-01-01 05:22:00 2014-01-01  \n",
       "3     863.05 2014-01-01 06:22:30 2014-01-01  \n",
       "4     499.26                 NaT        NaT  "
      ]
     },
     "execution_count": 132,
     "metadata": {},
     "output_type": "execute_result"
    }
   ],
   "source": [
    "df1.head(5)"
   ]
  },
  {
   "cell_type": "code",
   "execution_count": 8,
   "id": "144bc202",
   "metadata": {},
   "outputs": [],
   "source": [
    "y1 = df1.groupby(pd.Grouper(key='date', freq='2H'))['unit price'].agg(sum)"
   ]
  },
  {
   "cell_type": "code",
   "execution_count": 9,
   "id": "0165ae54",
   "metadata": {},
   "outputs": [
    {
     "data": {
      "text/plain": [
       "pandas.core.series.Series"
      ]
     },
     "execution_count": 9,
     "metadata": {},
     "output_type": "execute_result"
    }
   ],
   "source": [
    "type(y1)"
   ]
  },
  {
   "cell_type": "code",
   "execution_count": 10,
   "id": "d8517941",
   "metadata": {},
   "outputs": [
    {
     "data": {
      "text/plain": [
       "date\n",
       "2014-01-01 04:00:00    240.55\n",
       "2014-01-01 06:00:00    191.89\n",
       "2014-01-01 08:00:00    230.36\n",
       "2014-01-01 10:00:00     88.00\n",
       "2014-01-01 12:00:00    216.82\n",
       "2014-01-01 14:00:00    183.28\n",
       "2014-01-01 16:00:00    308.21\n",
       "2014-01-01 18:00:00      0.00\n",
       "2014-01-01 20:00:00      0.00\n",
       "2014-01-01 22:00:00      0.00\n",
       "2014-01-02 00:00:00      0.00\n",
       "2014-01-02 02:00:00      0.00\n",
       "2014-01-02 04:00:00      0.00\n",
       "2014-01-02 06:00:00    180.72\n",
       "2014-01-02 08:00:00      0.00\n",
       "2014-01-02 10:00:00    218.07\n",
       "2014-01-02 12:00:00     55.40\n",
       "2014-01-02 14:00:00     43.40\n",
       "2014-01-02 16:00:00      0.00\n",
       "2014-01-02 18:00:00     73.04\n",
       "2014-01-02 20:00:00    169.31\n",
       "2014-01-02 22:00:00     69.36\n",
       "Freq: 2H, Name: unit price, dtype: float64"
      ]
     },
     "execution_count": 10,
     "metadata": {},
     "output_type": "execute_result"
    }
   ],
   "source": [
    "y1"
   ]
  },
  {
   "cell_type": "code",
   "execution_count": 21,
   "id": "362a7873",
   "metadata": {},
   "outputs": [],
   "source": [
    "y2 = y1.resample('D').apply(lambda x : x.to_numpy())"
   ]
  },
  {
   "cell_type": "code",
   "execution_count": 22,
   "id": "9a540ccc",
   "metadata": {},
   "outputs": [
    {
     "data": {
      "text/plain": [
       "pandas.core.series.Series"
      ]
     },
     "execution_count": 22,
     "metadata": {},
     "output_type": "execute_result"
    }
   ],
   "source": [
    "type(y2)"
   ]
  },
  {
   "cell_type": "code",
   "execution_count": 23,
   "id": "c71420d6",
   "metadata": {},
   "outputs": [
    {
     "data": {
      "text/plain": [
       "date\n",
       "2014-01-01    [240.55, 191.89, 230.36, 88.0, 216.82, 183.28,...\n",
       "2014-01-02    [0.0, 0.0, 0.0, 180.72, 0.0, 218.0700000000000...\n",
       "Freq: D, Name: unit price, dtype: object"
      ]
     },
     "execution_count": 23,
     "metadata": {},
     "output_type": "execute_result"
    }
   ],
   "source": [
    "y2"
   ]
  },
  {
   "cell_type": "code",
   "execution_count": 20,
   "id": "9ecc13c0",
   "metadata": {},
   "outputs": [
    {
     "data": {
      "text/plain": [
       "(2,)"
      ]
     },
     "execution_count": 20,
     "metadata": {},
     "output_type": "execute_result"
    }
   ],
   "source": [
    "y2.shape"
   ]
  },
  {
   "cell_type": "code",
   "execution_count": 233,
   "id": "cd1179a0",
   "metadata": {},
   "outputs": [],
   "source": [
    "y2[0] = np.pad(y2[0], (2, 0), 'constant')"
   ]
  },
  {
   "cell_type": "code",
   "execution_count": 234,
   "id": "3b042f61",
   "metadata": {},
   "outputs": [
    {
     "data": {
      "text/plain": [
       "12"
      ]
     },
     "execution_count": 234,
     "metadata": {},
     "output_type": "execute_result"
    }
   ],
   "source": [
    "len(y2[0])"
   ]
  },
  {
   "cell_type": "code",
   "execution_count": 235,
   "id": "7d907fe8",
   "metadata": {},
   "outputs": [
    {
     "data": {
      "text/plain": [
       "12"
      ]
     },
     "execution_count": 235,
     "metadata": {},
     "output_type": "execute_result"
    }
   ],
   "source": [
    "y2[0].size"
   ]
  },
  {
   "cell_type": "code",
   "execution_count": 210,
   "id": "ff29efe1",
   "metadata": {},
   "outputs": [
    {
     "data": {
      "text/html": [
       "<div>\n",
       "<style scoped>\n",
       "    .dataframe tbody tr th:only-of-type {\n",
       "        vertical-align: middle;\n",
       "    }\n",
       "\n",
       "    .dataframe tbody tr th {\n",
       "        vertical-align: top;\n",
       "    }\n",
       "\n",
       "    .dataframe thead th {\n",
       "        text-align: right;\n",
       "    }\n",
       "</style>\n",
       "<table border=\"1\" class=\"dataframe\">\n",
       "  <thead>\n",
       "    <tr style=\"text-align: right;\">\n",
       "      <th></th>\n",
       "      <th>Unnamed: 0</th>\n",
       "      <th>account number</th>\n",
       "      <th>name</th>\n",
       "      <th>sku</th>\n",
       "      <th>quantity</th>\n",
       "      <th>unit price</th>\n",
       "      <th>ext price</th>\n",
       "      <th>date</th>\n",
       "    </tr>\n",
       "  </thead>\n",
       "  <tbody>\n",
       "    <tr>\n",
       "      <th>0</th>\n",
       "      <td>0</td>\n",
       "      <td>740150</td>\n",
       "      <td>BartonLLC</td>\n",
       "      <td>B1-20000</td>\n",
       "      <td>39</td>\n",
       "      <td>86.69</td>\n",
       "      <td>3380.91</td>\n",
       "      <td>2014-01-01 04:21:00</td>\n",
       "    </tr>\n",
       "    <tr>\n",
       "      <th>1</th>\n",
       "      <td>1</td>\n",
       "      <td>714466</td>\n",
       "      <td>BartonLLC</td>\n",
       "      <td>S2-77896</td>\n",
       "      <td>-1</td>\n",
       "      <td>63.16</td>\n",
       "      <td>-63.16</td>\n",
       "      <td>2014-01-01 04:21:30</td>\n",
       "    </tr>\n",
       "    <tr>\n",
       "      <th>2</th>\n",
       "      <td>2</td>\n",
       "      <td>218895</td>\n",
       "      <td>BartonLLC</td>\n",
       "      <td>B1-69924</td>\n",
       "      <td>23</td>\n",
       "      <td>90.70</td>\n",
       "      <td>2086.10</td>\n",
       "      <td>2014-01-01 05:22:00</td>\n",
       "    </tr>\n",
       "    <tr>\n",
       "      <th>3</th>\n",
       "      <td>3</td>\n",
       "      <td>307599</td>\n",
       "      <td>BartonLLC</td>\n",
       "      <td>B1-69924</td>\n",
       "      <td>41</td>\n",
       "      <td>21.05</td>\n",
       "      <td>863.05</td>\n",
       "      <td>2014-01-01 06:22:30</td>\n",
       "    </tr>\n",
       "    <tr>\n",
       "      <th>4</th>\n",
       "      <td>4</td>\n",
       "      <td>412290</td>\n",
       "      <td>Kassulke</td>\n",
       "      <td>S2-34077</td>\n",
       "      <td>6</td>\n",
       "      <td>83.21</td>\n",
       "      <td>499.26</td>\n",
       "      <td>2014-01-01 07:23:00</td>\n",
       "    </tr>\n",
       "  </tbody>\n",
       "</table>\n",
       "</div>"
      ],
      "text/plain": [
       "   Unnamed: 0  account number       name       sku  quantity  unit price  \\\n",
       "0           0          740150  BartonLLC  B1-20000        39       86.69   \n",
       "1           1          714466  BartonLLC  S2-77896        -1       63.16   \n",
       "2           2          218895  BartonLLC  B1-69924        23       90.70   \n",
       "3           3          307599  BartonLLC  B1-69924        41       21.05   \n",
       "4           4          412290   Kassulke  S2-34077         6       83.21   \n",
       "\n",
       "   ext price                date  \n",
       "0    3380.91 2014-01-01 04:21:00  \n",
       "1     -63.16 2014-01-01 04:21:30  \n",
       "2    2086.10 2014-01-01 05:22:00  \n",
       "3     863.05 2014-01-01 06:22:30  \n",
       "4     499.26 2014-01-01 07:23:00  "
      ]
     },
     "execution_count": 210,
     "metadata": {},
     "output_type": "execute_result"
    }
   ],
   "source": [
    "df2.head(5)"
   ]
  },
  {
   "cell_type": "code",
   "execution_count": 154,
   "id": "00113da6",
   "metadata": {},
   "outputs": [],
   "source": [
    "x  = pd.Timestamp(df2['date'][0])"
   ]
  },
  {
   "cell_type": "code",
   "execution_count": 183,
   "id": "151329d3",
   "metadata": {},
   "outputs": [],
   "source": [
    "idx = len(df2['date'])"
   ]
  },
  {
   "cell_type": "code",
   "execution_count": 184,
   "id": "eb13109c",
   "metadata": {},
   "outputs": [
    {
     "data": {
      "text/plain": [
       "41"
      ]
     },
     "execution_count": 184,
     "metadata": {},
     "output_type": "execute_result"
    }
   ],
   "source": [
    "idx"
   ]
  },
  {
   "cell_type": "code",
   "execution_count": 155,
   "id": "ce603bd7",
   "metadata": {},
   "outputs": [
    {
     "data": {
      "text/plain": [
       "Timestamp('2014-01-01 04:21:00')"
      ]
     },
     "execution_count": 155,
     "metadata": {},
     "output_type": "execute_result"
    }
   ],
   "source": [
    "x"
   ]
  },
  {
   "cell_type": "code",
   "execution_count": 178,
   "id": "6387d409",
   "metadata": {},
   "outputs": [],
   "source": [
    "y  = pd.Timestamp(df2['date'][idx-1])"
   ]
  },
  {
   "cell_type": "code",
   "execution_count": 179,
   "id": "b231b2c1",
   "metadata": {},
   "outputs": [
    {
     "data": {
      "text/plain": [
       "Timestamp('2014-01-02 23:41:00')"
      ]
     },
     "execution_count": 179,
     "metadata": {},
     "output_type": "execute_result"
    }
   ],
   "source": [
    "y"
   ]
  },
  {
   "cell_type": "code",
   "execution_count": 180,
   "id": "04b0bac5",
   "metadata": {},
   "outputs": [],
   "source": [
    "z = (y-x)"
   ]
  },
  {
   "cell_type": "code",
   "execution_count": 185,
   "id": "0e8a2035",
   "metadata": {},
   "outputs": [],
   "source": [
    "z1 = (y-x).to_pytimedelta().days"
   ]
  },
  {
   "cell_type": "code",
   "execution_count": 186,
   "id": "1dd6acbd",
   "metadata": {},
   "outputs": [
    {
     "data": {
      "text/plain": [
       "1"
      ]
     },
     "execution_count": 186,
     "metadata": {},
     "output_type": "execute_result"
    }
   ],
   "source": [
    "z1"
   ]
  },
  {
   "cell_type": "code",
   "execution_count": 236,
   "id": "835e250f",
   "metadata": {},
   "outputs": [],
   "source": [
    "z = np.stack(y2, axis=0)"
   ]
  },
  {
   "cell_type": "code",
   "execution_count": 237,
   "id": "ff740e28",
   "metadata": {},
   "outputs": [
    {
     "data": {
      "text/plain": [
       "array([[  0.  ,   0.  , 240.55, 191.89, 230.36,  88.  , 216.82, 183.28,\n",
       "        308.21,   0.  ,   0.  ,   0.  ],\n",
       "       [  0.  ,   0.  ,   0.  , 180.72,   0.  , 218.07,  55.4 ,  43.4 ,\n",
       "          0.  ,  73.04, 169.31,  69.36]])"
      ]
     },
     "execution_count": 237,
     "metadata": {},
     "output_type": "execute_result"
    }
   ],
   "source": [
    "z"
   ]
  },
  {
   "cell_type": "code",
   "execution_count": 110,
   "id": "9ff6c427",
   "metadata": {},
   "outputs": [
    {
     "data": {
      "text/plain": [
       "(8,)"
      ]
     },
     "execution_count": 110,
     "metadata": {},
     "output_type": "execute_result"
    }
   ],
   "source": [
    "z.shape"
   ]
  },
  {
   "cell_type": "code",
   "execution_count": 111,
   "id": "b8b7c1a9",
   "metadata": {
    "scrolled": true
   },
   "outputs": [
    {
     "ename": "IndexError",
     "evalue": "too many indices for array: array is 1-dimensional, but 2 were indexed",
     "output_type": "error",
     "traceback": [
      "\u001b[0;31m---------------------------------------------------------------------------\u001b[0m",
      "\u001b[0;31mIndexError\u001b[0m                                Traceback (most recent call last)",
      "\u001b[0;32m<ipython-input-111-1095c7566ec8>\u001b[0m in \u001b[0;36m<module>\u001b[0;34m\u001b[0m\n\u001b[0;32m----> 1\u001b[0;31m \u001b[0mz1\u001b[0m \u001b[0;34m=\u001b[0m \u001b[0mz\u001b[0m\u001b[0;34m[\u001b[0m\u001b[0;34m:\u001b[0m\u001b[0;34m,\u001b[0m\u001b[0;36m3\u001b[0m\u001b[0;34m]\u001b[0m\u001b[0;34m\u001b[0m\u001b[0;34m\u001b[0m\u001b[0m\n\u001b[0m",
      "\u001b[0;31mIndexError\u001b[0m: too many indices for array: array is 1-dimensional, but 2 were indexed"
     ]
    }
   ],
   "source": [
    "z1 = z[:,3]"
   ]
  },
  {
   "cell_type": "code",
   "execution_count": 109,
   "id": "5e71ca4b",
   "metadata": {},
   "outputs": [
    {
     "ename": "NameError",
     "evalue": "name 'z1' is not defined",
     "output_type": "error",
     "traceback": [
      "\u001b[0;31m---------------------------------------------------------------------------\u001b[0m",
      "\u001b[0;31mNameError\u001b[0m                                 Traceback (most recent call last)",
      "\u001b[0;32m<ipython-input-109-8fdf29504afa>\u001b[0m in \u001b[0;36m<module>\u001b[0;34m\u001b[0m\n\u001b[0;32m----> 1\u001b[0;31m \u001b[0mz1\u001b[0m\u001b[0;34m\u001b[0m\u001b[0;34m\u001b[0m\u001b[0m\n\u001b[0m",
      "\u001b[0;31mNameError\u001b[0m: name 'z1' is not defined"
     ]
    }
   ],
   "source": [
    "z1"
   ]
  },
  {
   "cell_type": "code",
   "execution_count": 241,
   "id": "435df1e6",
   "metadata": {},
   "outputs": [
    {
     "data": {
      "text/plain": [
       "186.305"
      ]
     },
     "execution_count": 241,
     "metadata": {},
     "output_type": "execute_result"
    }
   ],
   "source": [
    "np.mean(z1)"
   ]
  },
  {
   "cell_type": "code",
   "execution_count": 242,
   "id": "54d2cc90",
   "metadata": {},
   "outputs": [
    {
     "data": {
      "text/plain": [
       "5.584999999999994"
      ]
     },
     "execution_count": 242,
     "metadata": {},
     "output_type": "execute_result"
    }
   ],
   "source": [
    "np.std(z1)"
   ]
  },
  {
   "cell_type": "code",
   "execution_count": 7,
   "id": "1d252738",
   "metadata": {},
   "outputs": [],
   "source": [
    "df1 =  pd.read_csv('/Users/smuel/Developer/Python/Louie7Predictors/sample_salesv3.csv')\n",
    "df1['date'] = pd.to_datetime(df1['date'])"
   ]
  },
  {
   "cell_type": "code",
   "execution_count": 8,
   "id": "315dc20f",
   "metadata": {},
   "outputs": [
    {
     "data": {
      "text/html": [
       "<div>\n",
       "<style scoped>\n",
       "    .dataframe tbody tr th:only-of-type {\n",
       "        vertical-align: middle;\n",
       "    }\n",
       "\n",
       "    .dataframe tbody tr th {\n",
       "        vertical-align: top;\n",
       "    }\n",
       "\n",
       "    .dataframe thead th {\n",
       "        text-align: right;\n",
       "    }\n",
       "</style>\n",
       "<table border=\"1\" class=\"dataframe\">\n",
       "  <thead>\n",
       "    <tr style=\"text-align: right;\">\n",
       "      <th></th>\n",
       "      <th>Unnamed: 0</th>\n",
       "      <th>account number</th>\n",
       "      <th>name</th>\n",
       "      <th>sku</th>\n",
       "      <th>quantity</th>\n",
       "      <th>unit price</th>\n",
       "      <th>ext price</th>\n",
       "      <th>date</th>\n",
       "    </tr>\n",
       "  </thead>\n",
       "  <tbody>\n",
       "    <tr>\n",
       "      <th>0</th>\n",
       "      <td>0</td>\n",
       "      <td>740150</td>\n",
       "      <td>BartonLLC</td>\n",
       "      <td>B1-20000</td>\n",
       "      <td>39</td>\n",
       "      <td>86.69</td>\n",
       "      <td>3380.91</td>\n",
       "      <td>2014-01-01 04:21:00</td>\n",
       "    </tr>\n",
       "    <tr>\n",
       "      <th>1</th>\n",
       "      <td>1</td>\n",
       "      <td>714466</td>\n",
       "      <td>BartonLLC</td>\n",
       "      <td>S2-77896</td>\n",
       "      <td>-1</td>\n",
       "      <td>63.16</td>\n",
       "      <td>-63.16</td>\n",
       "      <td>2014-01-01 04:21:30</td>\n",
       "    </tr>\n",
       "    <tr>\n",
       "      <th>2</th>\n",
       "      <td>2</td>\n",
       "      <td>218895</td>\n",
       "      <td>BartonLLC</td>\n",
       "      <td>B1-69924</td>\n",
       "      <td>23</td>\n",
       "      <td>90.70</td>\n",
       "      <td>2086.10</td>\n",
       "      <td>2014-01-01 05:22:00</td>\n",
       "    </tr>\n",
       "    <tr>\n",
       "      <th>3</th>\n",
       "      <td>3</td>\n",
       "      <td>740150</td>\n",
       "      <td>BartonLLC</td>\n",
       "      <td>B1-69924</td>\n",
       "      <td>41</td>\n",
       "      <td>21.05</td>\n",
       "      <td>863.05</td>\n",
       "      <td>2014-01-01 06:22:30</td>\n",
       "    </tr>\n",
       "    <tr>\n",
       "      <th>4</th>\n",
       "      <td>4</td>\n",
       "      <td>412290</td>\n",
       "      <td>Kassulke</td>\n",
       "      <td>S2-34077</td>\n",
       "      <td>6</td>\n",
       "      <td>83.21</td>\n",
       "      <td>499.26</td>\n",
       "      <td>2014-01-01 07:23:00</td>\n",
       "    </tr>\n",
       "  </tbody>\n",
       "</table>\n",
       "</div>"
      ],
      "text/plain": [
       "   Unnamed: 0  account number       name       sku  quantity  unit price  \\\n",
       "0           0          740150  BartonLLC  B1-20000        39       86.69   \n",
       "1           1          714466  BartonLLC  S2-77896        -1       63.16   \n",
       "2           2          218895  BartonLLC  B1-69924        23       90.70   \n",
       "3           3          740150  BartonLLC  B1-69924        41       21.05   \n",
       "4           4          412290   Kassulke  S2-34077         6       83.21   \n",
       "\n",
       "   ext price                date  \n",
       "0    3380.91 2014-01-01 04:21:00  \n",
       "1     -63.16 2014-01-01 04:21:30  \n",
       "2    2086.10 2014-01-01 05:22:00  \n",
       "3     863.05 2014-01-01 06:22:30  \n",
       "4     499.26 2014-01-01 07:23:00  "
      ]
     },
     "execution_count": 8,
     "metadata": {},
     "output_type": "execute_result"
    }
   ],
   "source": [
    "df1.head(5)"
   ]
  },
  {
   "cell_type": "code",
   "execution_count": 9,
   "id": "c0f821de",
   "metadata": {},
   "outputs": [],
   "source": [
    "df2 = df1.loc[df1['name'] == 'BartonLLC']"
   ]
  },
  {
   "cell_type": "code",
   "execution_count": 10,
   "id": "bbd2a42b",
   "metadata": {},
   "outputs": [
    {
     "data": {
      "text/html": [
       "<div>\n",
       "<style scoped>\n",
       "    .dataframe tbody tr th:only-of-type {\n",
       "        vertical-align: middle;\n",
       "    }\n",
       "\n",
       "    .dataframe tbody tr th {\n",
       "        vertical-align: top;\n",
       "    }\n",
       "\n",
       "    .dataframe thead th {\n",
       "        text-align: right;\n",
       "    }\n",
       "</style>\n",
       "<table border=\"1\" class=\"dataframe\">\n",
       "  <thead>\n",
       "    <tr style=\"text-align: right;\">\n",
       "      <th></th>\n",
       "      <th>Unnamed: 0</th>\n",
       "      <th>account number</th>\n",
       "      <th>name</th>\n",
       "      <th>sku</th>\n",
       "      <th>quantity</th>\n",
       "      <th>unit price</th>\n",
       "      <th>ext price</th>\n",
       "      <th>date</th>\n",
       "    </tr>\n",
       "  </thead>\n",
       "  <tbody>\n",
       "    <tr>\n",
       "      <th>0</th>\n",
       "      <td>0</td>\n",
       "      <td>740150</td>\n",
       "      <td>BartonLLC</td>\n",
       "      <td>B1-20000</td>\n",
       "      <td>39</td>\n",
       "      <td>86.69</td>\n",
       "      <td>3380.91</td>\n",
       "      <td>2014-01-01 04:21:00</td>\n",
       "    </tr>\n",
       "    <tr>\n",
       "      <th>1</th>\n",
       "      <td>1</td>\n",
       "      <td>714466</td>\n",
       "      <td>BartonLLC</td>\n",
       "      <td>S2-77896</td>\n",
       "      <td>-1</td>\n",
       "      <td>63.16</td>\n",
       "      <td>-63.16</td>\n",
       "      <td>2014-01-01 04:21:30</td>\n",
       "    </tr>\n",
       "    <tr>\n",
       "      <th>2</th>\n",
       "      <td>2</td>\n",
       "      <td>218895</td>\n",
       "      <td>BartonLLC</td>\n",
       "      <td>B1-69924</td>\n",
       "      <td>23</td>\n",
       "      <td>90.70</td>\n",
       "      <td>2086.10</td>\n",
       "      <td>2014-01-01 05:22:00</td>\n",
       "    </tr>\n",
       "    <tr>\n",
       "      <th>3</th>\n",
       "      <td>3</td>\n",
       "      <td>740150</td>\n",
       "      <td>BartonLLC</td>\n",
       "      <td>B1-69924</td>\n",
       "      <td>41</td>\n",
       "      <td>21.05</td>\n",
       "      <td>863.05</td>\n",
       "      <td>2014-01-01 06:22:30</td>\n",
       "    </tr>\n",
       "    <tr>\n",
       "      <th>29</th>\n",
       "      <td>29</td>\n",
       "      <td>729833</td>\n",
       "      <td>BartonLLC</td>\n",
       "      <td>B1-86481</td>\n",
       "      <td>6</td>\n",
       "      <td>81.79</td>\n",
       "      <td>490.74</td>\n",
       "      <td>2014-01-02 10:35:30</td>\n",
       "    </tr>\n",
       "    <tr>\n",
       "      <th>30</th>\n",
       "      <td>30</td>\n",
       "      <td>642753</td>\n",
       "      <td>BartonLLC</td>\n",
       "      <td>B1-86481</td>\n",
       "      <td>4</td>\n",
       "      <td>87.18</td>\n",
       "      <td>348.72</td>\n",
       "      <td>2014-01-02 10:36:00</td>\n",
       "    </tr>\n",
       "    <tr>\n",
       "      <th>31</th>\n",
       "      <td>31</td>\n",
       "      <td>714466</td>\n",
       "      <td>BartonLLC</td>\n",
       "      <td>B1-86481</td>\n",
       "      <td>32</td>\n",
       "      <td>19.56</td>\n",
       "      <td>625.92</td>\n",
       "      <td>2014-01-02 10:36:30</td>\n",
       "    </tr>\n",
       "    <tr>\n",
       "      <th>32</th>\n",
       "      <td>32</td>\n",
       "      <td>737550</td>\n",
       "      <td>BartonLLC</td>\n",
       "      <td>B1-86481</td>\n",
       "      <td>20</td>\n",
       "      <td>29.54</td>\n",
       "      <td>590.80</td>\n",
       "      <td>2014-01-02 10:37:00</td>\n",
       "    </tr>\n",
       "    <tr>\n",
       "      <th>33</th>\n",
       "      <td>33</td>\n",
       "      <td>218895</td>\n",
       "      <td>BartonLLC</td>\n",
       "      <td>B1-86481</td>\n",
       "      <td>3</td>\n",
       "      <td>22.36</td>\n",
       "      <td>67.08</td>\n",
       "      <td>2014-01-02 13:37:30</td>\n",
       "    </tr>\n",
       "    <tr>\n",
       "      <th>34</th>\n",
       "      <td>34</td>\n",
       "      <td>307599</td>\n",
       "      <td>BartonLLC</td>\n",
       "      <td>B1-86481</td>\n",
       "      <td>35</td>\n",
       "      <td>33.04</td>\n",
       "      <td>1156.40</td>\n",
       "      <td>2014-01-02 13:38:00</td>\n",
       "    </tr>\n",
       "  </tbody>\n",
       "</table>\n",
       "</div>"
      ],
      "text/plain": [
       "    Unnamed: 0  account number       name       sku  quantity  unit price  \\\n",
       "0            0          740150  BartonLLC  B1-20000        39       86.69   \n",
       "1            1          714466  BartonLLC  S2-77896        -1       63.16   \n",
       "2            2          218895  BartonLLC  B1-69924        23       90.70   \n",
       "3            3          740150  BartonLLC  B1-69924        41       21.05   \n",
       "29          29          729833  BartonLLC  B1-86481         6       81.79   \n",
       "30          30          642753  BartonLLC  B1-86481         4       87.18   \n",
       "31          31          714466  BartonLLC  B1-86481        32       19.56   \n",
       "32          32          737550  BartonLLC  B1-86481        20       29.54   \n",
       "33          33          218895  BartonLLC  B1-86481         3       22.36   \n",
       "34          34          307599  BartonLLC  B1-86481        35       33.04   \n",
       "\n",
       "    ext price                date  \n",
       "0     3380.91 2014-01-01 04:21:00  \n",
       "1      -63.16 2014-01-01 04:21:30  \n",
       "2     2086.10 2014-01-01 05:22:00  \n",
       "3      863.05 2014-01-01 06:22:30  \n",
       "29     490.74 2014-01-02 10:35:30  \n",
       "30     348.72 2014-01-02 10:36:00  \n",
       "31     625.92 2014-01-02 10:36:30  \n",
       "32     590.80 2014-01-02 10:37:00  \n",
       "33      67.08 2014-01-02 13:37:30  \n",
       "34    1156.40 2014-01-02 13:38:00  "
      ]
     },
     "execution_count": 10,
     "metadata": {},
     "output_type": "execute_result"
    }
   ],
   "source": [
    "df2.head(10)"
   ]
  },
  {
   "cell_type": "code",
   "execution_count": 11,
   "id": "0a06075b",
   "metadata": {},
   "outputs": [],
   "source": [
    "y = df2.groupby('account number')['account number'].agg('count')"
   ]
  },
  {
   "cell_type": "code",
   "execution_count": 12,
   "id": "6aa8c671",
   "metadata": {},
   "outputs": [
    {
     "data": {
      "text/plain": [
       "account number\n",
       "218895    3\n",
       "307599    1\n",
       "527099    1\n",
       "642753    1\n",
       "714466    2\n",
       "729833    1\n",
       "737550    1\n",
       "740150    2\n",
       "Name: account number, dtype: int64"
      ]
     },
     "execution_count": 12,
     "metadata": {},
     "output_type": "execute_result"
    }
   ],
   "source": [
    "y"
   ]
  },
  {
   "cell_type": "code",
   "execution_count": 59,
   "id": "37fb0452",
   "metadata": {},
   "outputs": [
    {
     "data": {
      "text/plain": [
       "pandas.core.series.Series"
      ]
     },
     "execution_count": 59,
     "metadata": {},
     "output_type": "execute_result"
    }
   ],
   "source": [
    "type(y)"
   ]
  },
  {
   "cell_type": "code",
   "execution_count": 60,
   "id": "1f68cfc4",
   "metadata": {},
   "outputs": [
    {
     "data": {
      "text/plain": [
       "array([3, 1, 1, 1, 2, 1, 1, 2])"
      ]
     },
     "execution_count": 60,
     "metadata": {},
     "output_type": "execute_result"
    }
   ],
   "source": [
    "y.to_numpy()"
   ]
  },
  {
   "cell_type": "code",
   "execution_count": 63,
   "id": "799c865d",
   "metadata": {},
   "outputs": [],
   "source": [
    "z = df2.groupby('account number')['account number'].agg('nunique').to_numpy()"
   ]
  },
  {
   "cell_type": "code",
   "execution_count": 64,
   "id": "9ff0ead0",
   "metadata": {},
   "outputs": [
    {
     "data": {
      "text/plain": [
       "array([1, 1, 1, 1, 1, 1, 1, 1])"
      ]
     },
     "execution_count": 64,
     "metadata": {},
     "output_type": "execute_result"
    }
   ],
   "source": [
    "z"
   ]
  },
  {
   "cell_type": "code",
   "execution_count": 68,
   "id": "c5f2a0bd",
   "metadata": {},
   "outputs": [
    {
     "data": {
      "text/plain": [
       "array([0., 0.])"
      ]
     },
     "execution_count": 68,
     "metadata": {},
     "output_type": "execute_result"
    }
   ],
   "source": [
    " np.zeros(shape=2, dtype=float)"
   ]
  },
  {
   "cell_type": "code",
   "execution_count": 86,
   "id": "bcee9bf0",
   "metadata": {},
   "outputs": [],
   "source": [
    "df1['date'] = pd.to_datetime(df1['date'])"
   ]
  },
  {
   "cell_type": "code",
   "execution_count": 99,
   "id": "9a7a5a5b",
   "metadata": {},
   "outputs": [
    {
     "data": {
      "text/html": [
       "<div>\n",
       "<style scoped>\n",
       "    .dataframe tbody tr th:only-of-type {\n",
       "        vertical-align: middle;\n",
       "    }\n",
       "\n",
       "    .dataframe tbody tr th {\n",
       "        vertical-align: top;\n",
       "    }\n",
       "\n",
       "    .dataframe thead th {\n",
       "        text-align: right;\n",
       "    }\n",
       "</style>\n",
       "<table border=\"1\" class=\"dataframe\">\n",
       "  <thead>\n",
       "    <tr style=\"text-align: right;\">\n",
       "      <th></th>\n",
       "      <th>Unnamed: 0</th>\n",
       "      <th>account number</th>\n",
       "      <th>name</th>\n",
       "      <th>sku</th>\n",
       "      <th>quantity</th>\n",
       "      <th>unit price</th>\n",
       "      <th>ext price</th>\n",
       "    </tr>\n",
       "    <tr>\n",
       "      <th>date</th>\n",
       "      <th></th>\n",
       "      <th></th>\n",
       "      <th></th>\n",
       "      <th></th>\n",
       "      <th></th>\n",
       "      <th></th>\n",
       "      <th></th>\n",
       "    </tr>\n",
       "  </thead>\n",
       "  <tbody>\n",
       "    <tr>\n",
       "      <th>2014-01-01 04:21:00</th>\n",
       "      <td>0</td>\n",
       "      <td>740150</td>\n",
       "      <td>BartonLLC</td>\n",
       "      <td>B1-20000</td>\n",
       "      <td>39</td>\n",
       "      <td>86.69</td>\n",
       "      <td>3380.91</td>\n",
       "    </tr>\n",
       "    <tr>\n",
       "      <th>2014-01-01 04:21:30</th>\n",
       "      <td>1</td>\n",
       "      <td>714466</td>\n",
       "      <td>BartonLLC</td>\n",
       "      <td>S2-77896</td>\n",
       "      <td>-1</td>\n",
       "      <td>63.16</td>\n",
       "      <td>-63.16</td>\n",
       "    </tr>\n",
       "    <tr>\n",
       "      <th>2014-01-01 05:22:00</th>\n",
       "      <td>2</td>\n",
       "      <td>218895</td>\n",
       "      <td>BartonLLC</td>\n",
       "      <td>B1-69924</td>\n",
       "      <td>23</td>\n",
       "      <td>90.70</td>\n",
       "      <td>2086.10</td>\n",
       "    </tr>\n",
       "    <tr>\n",
       "      <th>2014-01-01 06:22:30</th>\n",
       "      <td>3</td>\n",
       "      <td>740150</td>\n",
       "      <td>BartonLLC</td>\n",
       "      <td>B1-69924</td>\n",
       "      <td>41</td>\n",
       "      <td>21.05</td>\n",
       "      <td>863.05</td>\n",
       "    </tr>\n",
       "    <tr>\n",
       "      <th>2014-01-01 07:23:00</th>\n",
       "      <td>4</td>\n",
       "      <td>412290</td>\n",
       "      <td>Kassulke</td>\n",
       "      <td>S2-34077</td>\n",
       "      <td>6</td>\n",
       "      <td>83.21</td>\n",
       "      <td>499.26</td>\n",
       "    </tr>\n",
       "  </tbody>\n",
       "</table>\n",
       "</div>"
      ],
      "text/plain": [
       "                     Unnamed: 0  account number       name       sku  \\\n",
       "date                                                                   \n",
       "2014-01-01 04:21:00           0          740150  BartonLLC  B1-20000   \n",
       "2014-01-01 04:21:30           1          714466  BartonLLC  S2-77896   \n",
       "2014-01-01 05:22:00           2          218895  BartonLLC  B1-69924   \n",
       "2014-01-01 06:22:30           3          740150  BartonLLC  B1-69924   \n",
       "2014-01-01 07:23:00           4          412290   Kassulke  S2-34077   \n",
       "\n",
       "                     quantity  unit price  ext price  \n",
       "date                                                  \n",
       "2014-01-01 04:21:00        39       86.69    3380.91  \n",
       "2014-01-01 04:21:30        -1       63.16     -63.16  \n",
       "2014-01-01 05:22:00        23       90.70    2086.10  \n",
       "2014-01-01 06:22:30        41       21.05     863.05  \n",
       "2014-01-01 07:23:00         6       83.21     499.26  "
      ]
     },
     "execution_count": 99,
     "metadata": {},
     "output_type": "execute_result"
    }
   ],
   "source": [
    "df1.head()"
   ]
  },
  {
   "cell_type": "code",
   "execution_count": 101,
   "id": "0babdc81",
   "metadata": {
    "scrolled": true
   },
   "outputs": [],
   "source": [
    "mask = df1.between_time('04:00:00', '07:00:00')"
   ]
  },
  {
   "cell_type": "code",
   "execution_count": 105,
   "id": "4bf48594",
   "metadata": {},
   "outputs": [
    {
     "data": {
      "text/html": [
       "<div>\n",
       "<style scoped>\n",
       "    .dataframe tbody tr th:only-of-type {\n",
       "        vertical-align: middle;\n",
       "    }\n",
       "\n",
       "    .dataframe tbody tr th {\n",
       "        vertical-align: top;\n",
       "    }\n",
       "\n",
       "    .dataframe thead th {\n",
       "        text-align: right;\n",
       "    }\n",
       "</style>\n",
       "<table border=\"1\" class=\"dataframe\">\n",
       "  <thead>\n",
       "    <tr style=\"text-align: right;\">\n",
       "      <th></th>\n",
       "      <th>Unnamed: 0</th>\n",
       "      <th>account number</th>\n",
       "      <th>name</th>\n",
       "      <th>sku</th>\n",
       "      <th>quantity</th>\n",
       "      <th>unit price</th>\n",
       "      <th>ext price</th>\n",
       "    </tr>\n",
       "    <tr>\n",
       "      <th>date</th>\n",
       "      <th></th>\n",
       "      <th></th>\n",
       "      <th></th>\n",
       "      <th></th>\n",
       "      <th></th>\n",
       "      <th></th>\n",
       "      <th></th>\n",
       "    </tr>\n",
       "  </thead>\n",
       "  <tbody>\n",
       "    <tr>\n",
       "      <th>2014-01-01 04:21:00</th>\n",
       "      <td>0</td>\n",
       "      <td>740150</td>\n",
       "      <td>BartonLLC</td>\n",
       "      <td>B1-20000</td>\n",
       "      <td>39</td>\n",
       "      <td>86.69</td>\n",
       "      <td>3380.91</td>\n",
       "    </tr>\n",
       "    <tr>\n",
       "      <th>2014-01-01 04:21:30</th>\n",
       "      <td>1</td>\n",
       "      <td>714466</td>\n",
       "      <td>BartonLLC</td>\n",
       "      <td>S2-77896</td>\n",
       "      <td>-1</td>\n",
       "      <td>63.16</td>\n",
       "      <td>-63.16</td>\n",
       "    </tr>\n",
       "    <tr>\n",
       "      <th>2014-01-01 05:22:00</th>\n",
       "      <td>2</td>\n",
       "      <td>218895</td>\n",
       "      <td>BartonLLC</td>\n",
       "      <td>B1-69924</td>\n",
       "      <td>23</td>\n",
       "      <td>90.70</td>\n",
       "      <td>2086.10</td>\n",
       "    </tr>\n",
       "    <tr>\n",
       "      <th>2014-01-01 06:22:30</th>\n",
       "      <td>3</td>\n",
       "      <td>740150</td>\n",
       "      <td>BartonLLC</td>\n",
       "      <td>B1-69924</td>\n",
       "      <td>41</td>\n",
       "      <td>21.05</td>\n",
       "      <td>863.05</td>\n",
       "    </tr>\n",
       "  </tbody>\n",
       "</table>\n",
       "</div>"
      ],
      "text/plain": [
       "                     Unnamed: 0  account number       name       sku  \\\n",
       "date                                                                   \n",
       "2014-01-01 04:21:00           0          740150  BartonLLC  B1-20000   \n",
       "2014-01-01 04:21:30           1          714466  BartonLLC  S2-77896   \n",
       "2014-01-01 05:22:00           2          218895  BartonLLC  B1-69924   \n",
       "2014-01-01 06:22:30           3          740150  BartonLLC  B1-69924   \n",
       "\n",
       "                     quantity  unit price  ext price  \n",
       "date                                                  \n",
       "2014-01-01 04:21:00        39       86.69    3380.91  \n",
       "2014-01-01 04:21:30        -1       63.16     -63.16  \n",
       "2014-01-01 05:22:00        23       90.70    2086.10  \n",
       "2014-01-01 06:22:30        41       21.05     863.05  "
      ]
     },
     "execution_count": 105,
     "metadata": {},
     "output_type": "execute_result"
    }
   ],
   "source": [
    "mask"
   ]
  },
  {
   "cell_type": "code",
   "execution_count": 106,
   "id": "cb2cf067",
   "metadata": {},
   "outputs": [
    {
     "data": {
      "text/plain": [
       "pandas.core.frame.DataFrame"
      ]
     },
     "execution_count": 106,
     "metadata": {},
     "output_type": "execute_result"
    }
   ],
   "source": [
    "type(mask)"
   ]
  },
  {
   "cell_type": "code",
   "execution_count": 107,
   "id": "f5ed9ce8",
   "metadata": {},
   "outputs": [
    {
     "data": {
      "text/plain": [
       "Index(['Unnamed: 0', 'account number', 'name', 'sku', 'quantity', 'unit price',\n",
       "       'ext price'],\n",
       "      dtype='object')"
      ]
     },
     "execution_count": 107,
     "metadata": {},
     "output_type": "execute_result"
    }
   ],
   "source": [
    "mask.columns"
   ]
  },
  {
   "cell_type": "code",
   "execution_count": 122,
   "id": "58d389aa",
   "metadata": {},
   "outputs": [
    {
     "data": {
      "text/plain": [
       "array([[0., 1., 2.],\n",
       "       [3., 4., 5.],\n",
       "       [6., 7., 8.]])"
      ]
     },
     "execution_count": 122,
     "metadata": {},
     "output_type": "execute_result"
    }
   ],
   "source": [
    "np.arange(9.0).reshape((3, 3))"
   ]
  },
  {
   "cell_type": "code",
   "execution_count": 123,
   "id": "ba8fe19d",
   "metadata": {},
   "outputs": [
    {
     "data": {
      "text/plain": [
       "array([0., 1., 2.])"
      ]
     },
     "execution_count": 123,
     "metadata": {},
     "output_type": "execute_result"
    }
   ],
   "source": [
    "np.arange(3.0)"
   ]
  },
  {
   "cell_type": "code",
   "execution_count": 23,
   "id": "7ae563a7",
   "metadata": {},
   "outputs": [],
   "source": [
    "z = np.array([\"4\", \"6\", \"14\", \"2\"])"
   ]
  },
  {
   "cell_type": "code",
   "execution_count": 24,
   "id": "8c3313a6",
   "metadata": {},
   "outputs": [],
   "source": [
    "z1 = 10 * np.round(z.astype(np.float)/10)"
   ]
  },
  {
   "cell_type": "code",
   "execution_count": 25,
   "id": "15a94730",
   "metadata": {},
   "outputs": [
    {
     "data": {
      "text/plain": [
       "array([ 0., 10., 10.,  0.])"
      ]
     },
     "execution_count": 25,
     "metadata": {},
     "output_type": "execute_result"
    }
   ],
   "source": [
    "z1"
   ]
  },
  {
   "cell_type": "code",
   "execution_count": null,
   "id": "2aefb356",
   "metadata": {},
   "outputs": [],
   "source": []
  }
 ],
 "metadata": {
  "kernelspec": {
   "display_name": "Python 3",
   "language": "python",
   "name": "python3"
  },
  "language_info": {
   "codemirror_mode": {
    "name": "ipython",
    "version": 3
   },
   "file_extension": ".py",
   "mimetype": "text/x-python",
   "name": "python",
   "nbconvert_exporter": "python",
   "pygments_lexer": "ipython3",
   "version": "3.8.6"
  }
 },
 "nbformat": 4,
 "nbformat_minor": 5
}
