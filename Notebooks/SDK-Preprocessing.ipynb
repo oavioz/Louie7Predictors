{
 "cells": [
  {
   "cell_type": "code",
   "execution_count": 1,
   "metadata": {},
   "outputs": [],
   "source": [
    "import pandas as pd"
   ]
  },
  {
   "cell_type": "code",
   "execution_count": 2,
   "metadata": {},
   "outputs": [],
   "source": [
    "import os"
   ]
  },
  {
   "cell_type": "code",
   "execution_count": 3,
   "metadata": {},
   "outputs": [],
   "source": [
    "import glob"
   ]
  },
  {
   "cell_type": "code",
   "execution_count": 4,
   "metadata": {},
   "outputs": [],
   "source": [
    "import fnmatch"
   ]
  },
  {
   "cell_type": "code",
   "execution_count": 5,
   "metadata": {},
   "outputs": [],
   "source": [
    "import json"
   ]
  },
  {
   "cell_type": "code",
   "execution_count": 6,
   "metadata": {},
   "outputs": [],
   "source": [
    "import codecs"
   ]
  },
  {
   "cell_type": "code",
   "execution_count": 7,
   "metadata": {},
   "outputs": [],
   "source": [
    "import datetime"
   ]
  },
  {
   "cell_type": "code",
   "execution_count": 8,
   "metadata": {},
   "outputs": [],
   "source": [
    "import numpy as np"
   ]
  },
  {
   "cell_type": "code",
   "execution_count": 215,
   "metadata": {},
   "outputs": [],
   "source": [
    "import geopy as gp"
   ]
  },
  {
   "cell_type": "code",
   "execution_count": 7,
   "metadata": {},
   "outputs": [],
   "source": [
    "path = '/Users/smuel/AndroidStudioProjects/Louie7APKs/test-22-4/json-files/Init/'\n",
    "listOfFiles = os.listdir(path)\n",
    "for entry in listOfFiles:\n",
    "    if not fnmatch.fnmatch(entry, '*.json'):\n",
    "        listOfFiles.remove(entry)"
   ]
  },
  {
   "cell_type": "code",
   "execution_count": 10,
   "metadata": {},
   "outputs": [],
   "source": [
    "#with open(path+listOfFiles[0]) as initRawData:\n",
    "#    rawData = json.load(initRawData)"
   ]
  },
  {
   "cell_type": "code",
   "execution_count": 20,
   "metadata": {},
   "outputs": [],
   "source": [
    "rawData = json.load(codecs.open(path+listOfFiles[0], 'r', 'utf-8-sig' ))"
   ]
  },
  {
   "cell_type": "code",
   "execution_count": 22,
   "metadata": {},
   "outputs": [],
   "source": [
    "df_contect = pd.json_normalize(rawData, record_path=['Contact'])"
   ]
  },
  {
   "cell_type": "code",
   "execution_count": 23,
   "metadata": {},
   "outputs": [
    {
     "data": {
      "text/html": [
       "<div>\n",
       "<style scoped>\n",
       "    .dataframe tbody tr th:only-of-type {\n",
       "        vertical-align: middle;\n",
       "    }\n",
       "\n",
       "    .dataframe tbody tr th {\n",
       "        vertical-align: top;\n",
       "    }\n",
       "\n",
       "    .dataframe thead th {\n",
       "        text-align: right;\n",
       "    }\n",
       "</style>\n",
       "<table border=\"1\" class=\"dataframe\">\n",
       "  <thead>\n",
       "    <tr style=\"text-align: right;\">\n",
       "      <th></th>\n",
       "      <th>CONTACT_NAME</th>\n",
       "      <th>CONTACT_NUMBER</th>\n",
       "    </tr>\n",
       "  </thead>\n",
       "  <tbody>\n",
       "    <tr>\n",
       "      <th>0</th>\n",
       "      <td>481B94E674CE906EC9F55A39AD957C386F180108</td>\n",
       "      <td>D02D42B32E2F76FB22D480A9A785F7173C69FC93</td>\n",
       "    </tr>\n",
       "    <tr>\n",
       "      <th>1</th>\n",
       "      <td>35CC6A03E1D127213EC81FC9C089B58C21D7A216</td>\n",
       "      <td>4C41CB2AC0B572C3059599FD4868EA74AA9FDC3B</td>\n",
       "    </tr>\n",
       "    <tr>\n",
       "      <th>2</th>\n",
       "      <td>7CC169143411323FC14C492E13DE5EAD73C0DAB6</td>\n",
       "      <td>44C930D75A6CCE9C05A0DEABB7BBF17E6D149972</td>\n",
       "    </tr>\n",
       "    <tr>\n",
       "      <th>3</th>\n",
       "      <td>E009DEC9156865BD4869565B3272A6E95AD3AF9D</td>\n",
       "      <td>A55D80F98D860402DC4DDF056E2448AC0F034218</td>\n",
       "    </tr>\n",
       "    <tr>\n",
       "      <th>4</th>\n",
       "      <td>7CC169143411323FC14C492E13DE5EAD73C0DAB6</td>\n",
       "      <td>403CF6CE507A8792C2ED5A9B16B0E626F06BCFB4</td>\n",
       "    </tr>\n",
       "  </tbody>\n",
       "</table>\n",
       "</div>"
      ],
      "text/plain": [
       "                               CONTACT_NAME  \\\n",
       "0  481B94E674CE906EC9F55A39AD957C386F180108   \n",
       "1  35CC6A03E1D127213EC81FC9C089B58C21D7A216   \n",
       "2  7CC169143411323FC14C492E13DE5EAD73C0DAB6   \n",
       "3  E009DEC9156865BD4869565B3272A6E95AD3AF9D   \n",
       "4  7CC169143411323FC14C492E13DE5EAD73C0DAB6   \n",
       "\n",
       "                             CONTACT_NUMBER  \n",
       "0  D02D42B32E2F76FB22D480A9A785F7173C69FC93  \n",
       "1  4C41CB2AC0B572C3059599FD4868EA74AA9FDC3B  \n",
       "2  44C930D75A6CCE9C05A0DEABB7BBF17E6D149972  \n",
       "3  A55D80F98D860402DC4DDF056E2448AC0F034218  \n",
       "4  403CF6CE507A8792C2ED5A9B16B0E626F06BCFB4  "
      ]
     },
     "execution_count": 23,
     "metadata": {},
     "output_type": "execute_result"
    }
   ],
   "source": [
    "df_contect"
   ]
  },
  {
   "cell_type": "code",
   "execution_count": 24,
   "metadata": {},
   "outputs": [],
   "source": [
    "df_callogs = pd.json_normalize(rawData, record_path=['CallLogs'])"
   ]
  },
  {
   "cell_type": "code",
   "execution_count": 25,
   "metadata": {},
   "outputs": [
    {
     "data": {
      "text/html": [
       "<div>\n",
       "<style scoped>\n",
       "    .dataframe tbody tr th:only-of-type {\n",
       "        vertical-align: middle;\n",
       "    }\n",
       "\n",
       "    .dataframe tbody tr th {\n",
       "        vertical-align: top;\n",
       "    }\n",
       "\n",
       "    .dataframe thead th {\n",
       "        text-align: right;\n",
       "    }\n",
       "</style>\n",
       "<table border=\"1\" class=\"dataframe\">\n",
       "  <thead>\n",
       "    <tr style=\"text-align: right;\">\n",
       "      <th></th>\n",
       "      <th>CALL_DURATION</th>\n",
       "      <th>CALL_DATE_TIME</th>\n",
       "      <th>CALL_TYPE</th>\n",
       "      <th>CALL_NUMBER</th>\n",
       "    </tr>\n",
       "  </thead>\n",
       "  <tbody>\n",
       "    <tr>\n",
       "      <th>0</th>\n",
       "      <td>0</td>\n",
       "      <td>05-04-2021</td>\n",
       "      <td>OUTGOING</td>\n",
       "      <td>42075D71F8E4E53970DD402AF9721DCD9B553DAA</td>\n",
       "    </tr>\n",
       "    <tr>\n",
       "      <th>1</th>\n",
       "      <td>13</td>\n",
       "      <td>10-10-2018</td>\n",
       "      <td>INCOMING</td>\n",
       "      <td>11DF13621D1880389D27523F4C624DE76E4B5DCA</td>\n",
       "    </tr>\n",
       "    <tr>\n",
       "      <th>2</th>\n",
       "      <td>0</td>\n",
       "      <td>10-10-2018</td>\n",
       "      <td>OUTGOING</td>\n",
       "      <td>04D5D26AD6CB56FC30D1ECE2393DE2A3D1D385C2</td>\n",
       "    </tr>\n",
       "  </tbody>\n",
       "</table>\n",
       "</div>"
      ],
      "text/plain": [
       "   CALL_DURATION CALL_DATE_TIME CALL_TYPE  \\\n",
       "0              0     05-04-2021  OUTGOING   \n",
       "1             13     10-10-2018  INCOMING   \n",
       "2              0     10-10-2018  OUTGOING   \n",
       "\n",
       "                                CALL_NUMBER  \n",
       "0  42075D71F8E4E53970DD402AF9721DCD9B553DAA  \n",
       "1  11DF13621D1880389D27523F4C624DE76E4B5DCA  \n",
       "2  04D5D26AD6CB56FC30D1ECE2393DE2A3D1D385C2  "
      ]
     },
     "execution_count": 25,
     "metadata": {},
     "output_type": "execute_result"
    }
   ],
   "source": [
    "df_callogs"
   ]
  },
  {
   "cell_type": "code",
   "execution_count": 26,
   "metadata": {},
   "outputs": [],
   "source": [
    "df_gallery = pd.json_normalize(rawData, record_path=['ImgMetaData'])"
   ]
  },
  {
   "cell_type": "code",
   "execution_count": 27,
   "metadata": {},
   "outputs": [
    {
     "data": {
      "text/html": [
       "<div>\n",
       "<style scoped>\n",
       "    .dataframe tbody tr th:only-of-type {\n",
       "        vertical-align: middle;\n",
       "    }\n",
       "\n",
       "    .dataframe tbody tr th {\n",
       "        vertical-align: top;\n",
       "    }\n",
       "\n",
       "    .dataframe thead th {\n",
       "        text-align: right;\n",
       "    }\n",
       "</style>\n",
       "<table border=\"1\" class=\"dataframe\">\n",
       "  <thead>\n",
       "    <tr style=\"text-align: right;\">\n",
       "      <th></th>\n",
       "      <th>IMAGE_TYPE</th>\n",
       "      <th>IMAGE_DATE_TIME</th>\n",
       "    </tr>\n",
       "  </thead>\n",
       "  <tbody>\n",
       "    <tr>\n",
       "      <th>0</th>\n",
       "      <td>image/png</td>\n",
       "      <td>1475654217</td>\n",
       "    </tr>\n",
       "    <tr>\n",
       "      <th>1</th>\n",
       "      <td>image/png</td>\n",
       "      <td>1475654217</td>\n",
       "    </tr>\n",
       "    <tr>\n",
       "      <th>2</th>\n",
       "      <td>image/jpeg</td>\n",
       "      <td>1476026177</td>\n",
       "    </tr>\n",
       "    <tr>\n",
       "      <th>3</th>\n",
       "      <td>image/jpeg</td>\n",
       "      <td>1475654181</td>\n",
       "    </tr>\n",
       "  </tbody>\n",
       "</table>\n",
       "</div>"
      ],
      "text/plain": [
       "   IMAGE_TYPE  IMAGE_DATE_TIME\n",
       "0   image/png       1475654217\n",
       "1   image/png       1475654217\n",
       "2  image/jpeg       1476026177\n",
       "3  image/jpeg       1475654181"
      ]
     },
     "execution_count": 27,
     "metadata": {},
     "output_type": "execute_result"
    }
   ],
   "source": [
    "df_gallery"
   ]
  },
  {
   "cell_type": "code",
   "execution_count": 28,
   "metadata": {},
   "outputs": [],
   "source": [
    "df_applist = pd.json_normalize(rawData, record_path=['InstallApps'])"
   ]
  },
  {
   "cell_type": "code",
   "execution_count": 29,
   "metadata": {},
   "outputs": [
    {
     "data": {
      "text/html": [
       "<div>\n",
       "<style scoped>\n",
       "    .dataframe tbody tr th:only-of-type {\n",
       "        vertical-align: middle;\n",
       "    }\n",
       "\n",
       "    .dataframe tbody tr th {\n",
       "        vertical-align: top;\n",
       "    }\n",
       "\n",
       "    .dataframe thead th {\n",
       "        text-align: right;\n",
       "    }\n",
       "</style>\n",
       "<table border=\"1\" class=\"dataframe\">\n",
       "  <thead>\n",
       "    <tr style=\"text-align: right;\">\n",
       "      <th></th>\n",
       "      <th>INSTALL_DATETIME</th>\n",
       "      <th>APP_CATEGORY</th>\n",
       "      <th>APP_VARIANT</th>\n",
       "    </tr>\n",
       "  </thead>\n",
       "  <tbody>\n",
       "    <tr>\n",
       "      <th>0</th>\n",
       "      <td>1480756438782</td>\n",
       "      <td>Others</td>\n",
       "      <td>Free</td>\n",
       "    </tr>\n",
       "    <tr>\n",
       "      <th>1</th>\n",
       "      <td>1519193104591</td>\n",
       "      <td>Social</td>\n",
       "      <td>Free</td>\n",
       "    </tr>\n",
       "    <tr>\n",
       "      <th>2</th>\n",
       "      <td>1530338067896</td>\n",
       "      <td>Game</td>\n",
       "      <td>Free</td>\n",
       "    </tr>\n",
       "    <tr>\n",
       "      <th>3</th>\n",
       "      <td>1520277074320</td>\n",
       "      <td>Social</td>\n",
       "      <td>Paid Feature</td>\n",
       "    </tr>\n",
       "  </tbody>\n",
       "</table>\n",
       "</div>"
      ],
      "text/plain": [
       "   INSTALL_DATETIME APP_CATEGORY   APP_VARIANT\n",
       "0     1480756438782       Others          Free\n",
       "1     1519193104591       Social          Free\n",
       "2     1530338067896         Game          Free\n",
       "3     1520277074320       Social  Paid Feature"
      ]
     },
     "execution_count": 29,
     "metadata": {},
     "output_type": "execute_result"
    }
   ],
   "source": [
    "df_applist"
   ]
  },
  {
   "cell_type": "code",
   "execution_count": 31,
   "metadata": {},
   "outputs": [
    {
     "data": {
      "text/plain": [
       "'/Users/smuel/AndroidStudioProjects/Louie7APKs/test-22-4/json-files/Init/'"
      ]
     },
     "execution_count": 31,
     "metadata": {},
     "output_type": "execute_result"
    }
   ],
   "source": [
    "path"
   ]
  },
  {
   "cell_type": "code",
   "execution_count": 32,
   "metadata": {},
   "outputs": [
    {
     "data": {
      "text/plain": [
       "['ab71cf90-7909-414d-aafa-80a95ba9fa29_22-04-2021_19-29-08.json']"
      ]
     },
     "execution_count": 32,
     "metadata": {},
     "output_type": "execute_result"
    }
   ],
   "source": [
    "listOfFiles"
   ]
  },
  {
   "cell_type": "code",
   "execution_count": 34,
   "metadata": {},
   "outputs": [],
   "source": [
    "pathc = '/Users/smuel/AndroidStudioProjects/Louie7APKs/test-22-4/json-files/Continuous/'\n",
    "listOfContFiles = os.listdir(pathc)\n",
    "for entry in listOfContFiles:\n",
    "    if not fnmatch.fnmatch(entry, '*.json'):\n",
    "        listOfContFiles.remove(entry)"
   ]
  },
  {
   "cell_type": "code",
   "execution_count": 35,
   "metadata": {},
   "outputs": [
    {
     "data": {
      "text/plain": [
       "['ab71cf90-7909-414d-aafa-80a95ba9fa29_22-04-2021_19-30-18.json',\n",
       " 'ab71cf90-7909-414d-aafa-80a95ba9fa29_22-04-2021_20-02-41.json']"
      ]
     },
     "execution_count": 35,
     "metadata": {},
     "output_type": "execute_result"
    }
   ],
   "source": [
    "listOfContFiles"
   ]
  },
  {
   "cell_type": "code",
   "execution_count": 36,
   "metadata": {},
   "outputs": [],
   "source": [
    "setOfUsers = set(map(lambda x : x.split('_')[0], listOfContFiles))"
   ]
  },
  {
   "cell_type": "code",
   "execution_count": 37,
   "metadata": {},
   "outputs": [
    {
     "data": {
      "text/plain": [
       "{'ab71cf90-7909-414d-aafa-80a95ba9fa29'}"
      ]
     },
     "execution_count": 37,
     "metadata": {},
     "output_type": "execute_result"
    }
   ],
   "source": [
    "setOfUsers"
   ]
  },
  {
   "cell_type": "code",
   "execution_count": 41,
   "metadata": {},
   "outputs": [
    {
     "name": "stdout",
     "output_type": "stream",
     "text": [
      "  ActiveAppSamplingTime  APP_CATEGORY\n",
      "0              19:29:25  Productivity\n",
      "1              19:29:25        Social\n",
      "2              19:29:25        Social\n",
      "3              19:29:45        Others\n",
      "4              19:29:45        Others\n",
      "5              19:29:45          Game\n",
      "6              19:29:45          Maps\n",
      "  ActiveAppSamplingTime  APP_CATEGORY\n",
      "0   22-04-2021 19:29:25  Productivity\n",
      "1   22-04-2021 19:29:25        Social\n",
      "2   22-04-2021 19:29:25        Social\n",
      "3   22-04-2021 19:29:45        Others\n",
      "4   22-04-2021 19:29:45        Others\n",
      "5   22-04-2021 19:29:45          Game\n",
      "6   22-04-2021 19:29:45          Maps\n",
      "  ActiveAppSamplingTime  APP_CATEGORY\n",
      "0              20:02:06        Others\n",
      "1              20:02:06        Others\n",
      "2              20:02:26  Productivity\n",
      "3              20:02:26        Others\n",
      "4              20:02:26        Social\n",
      "  ActiveAppSamplingTime  APP_CATEGORY\n",
      "0   22-04-2021 20:02:06        Others\n",
      "1   22-04-2021 20:02:06        Others\n",
      "2   22-04-2021 20:02:26  Productivity\n",
      "3   22-04-2021 20:02:26        Others\n",
      "4   22-04-2021 20:02:26        Social\n"
     ]
    },
    {
     "data": {
      "text/html": [
       "<div>\n",
       "<style scoped>\n",
       "    .dataframe tbody tr th:only-of-type {\n",
       "        vertical-align: middle;\n",
       "    }\n",
       "\n",
       "    .dataframe tbody tr th {\n",
       "        vertical-align: top;\n",
       "    }\n",
       "\n",
       "    .dataframe thead th {\n",
       "        text-align: right;\n",
       "    }\n",
       "</style>\n",
       "<table border=\"1\" class=\"dataframe\">\n",
       "  <thead>\n",
       "    <tr style=\"text-align: right;\">\n",
       "      <th></th>\n",
       "      <th>ActiveAppSamplingTime</th>\n",
       "      <th>APP_CATEGORY</th>\n",
       "    </tr>\n",
       "  </thead>\n",
       "  <tbody>\n",
       "    <tr>\n",
       "      <th>0</th>\n",
       "      <td>22-04-2021 19:29:25</td>\n",
       "      <td>Productivity</td>\n",
       "    </tr>\n",
       "    <tr>\n",
       "      <th>1</th>\n",
       "      <td>22-04-2021 19:29:25</td>\n",
       "      <td>Social</td>\n",
       "    </tr>\n",
       "    <tr>\n",
       "      <th>2</th>\n",
       "      <td>22-04-2021 19:29:25</td>\n",
       "      <td>Social</td>\n",
       "    </tr>\n",
       "    <tr>\n",
       "      <th>3</th>\n",
       "      <td>22-04-2021 19:29:45</td>\n",
       "      <td>Others</td>\n",
       "    </tr>\n",
       "    <tr>\n",
       "      <th>4</th>\n",
       "      <td>22-04-2021 19:29:45</td>\n",
       "      <td>Others</td>\n",
       "    </tr>\n",
       "    <tr>\n",
       "      <th>5</th>\n",
       "      <td>22-04-2021 19:29:45</td>\n",
       "      <td>Game</td>\n",
       "    </tr>\n",
       "    <tr>\n",
       "      <th>6</th>\n",
       "      <td>22-04-2021 19:29:45</td>\n",
       "      <td>Maps</td>\n",
       "    </tr>\n",
       "    <tr>\n",
       "      <th>0</th>\n",
       "      <td>22-04-2021 20:02:06</td>\n",
       "      <td>Others</td>\n",
       "    </tr>\n",
       "    <tr>\n",
       "      <th>1</th>\n",
       "      <td>22-04-2021 20:02:06</td>\n",
       "      <td>Others</td>\n",
       "    </tr>\n",
       "    <tr>\n",
       "      <th>2</th>\n",
       "      <td>22-04-2021 20:02:26</td>\n",
       "      <td>Productivity</td>\n",
       "    </tr>\n",
       "    <tr>\n",
       "      <th>3</th>\n",
       "      <td>22-04-2021 20:02:26</td>\n",
       "      <td>Others</td>\n",
       "    </tr>\n",
       "    <tr>\n",
       "      <th>4</th>\n",
       "      <td>22-04-2021 20:02:26</td>\n",
       "      <td>Social</td>\n",
       "    </tr>\n",
       "  </tbody>\n",
       "</table>\n",
       "</div>"
      ],
      "text/plain": [
       "  ActiveAppSamplingTime  APP_CATEGORY\n",
       "0   22-04-2021 19:29:25  Productivity\n",
       "1   22-04-2021 19:29:25        Social\n",
       "2   22-04-2021 19:29:25        Social\n",
       "3   22-04-2021 19:29:45        Others\n",
       "4   22-04-2021 19:29:45        Others\n",
       "5   22-04-2021 19:29:45          Game\n",
       "6   22-04-2021 19:29:45          Maps\n",
       "0   22-04-2021 20:02:06        Others\n",
       "1   22-04-2021 20:02:06        Others\n",
       "2   22-04-2021 20:02:26  Productivity\n",
       "3   22-04-2021 20:02:26        Others\n",
       "4   22-04-2021 20:02:26        Social"
      ]
     },
     "execution_count": 41,
     "metadata": {},
     "output_type": "execute_result"
    }
   ],
   "source": [
    "dfs = []\n",
    "for user in setOfUsers:\n",
    "    userFiles = list(filter(lambda x : x.startswith(user), listOfContFiles))\n",
    "    for f in userFiles:\n",
    "        dt = f.split('_')[1]\n",
    "        rawData = json.load(codecs.open(pathc+f, 'r', 'utf-8-sig' ))\n",
    "        activeApps = pd.json_normalize(rawData[\"ActiveAppSamplingInfo\"], record_path=['ActiveApps'])\n",
    "        activeApps['ActiveAppSamplingTime'] = dt + \" \" + activeApps['ActiveAppSamplingTime']\n",
    "        dfs.append(activeApps)\n",
    "user_df = pd.concat(dfs)\n",
    "print(user_df)"
   ]
  },
  {
   "cell_type": "code",
   "execution_count": 46,
   "metadata": {},
   "outputs": [
    {
     "data": {
      "text/plain": [
       "['22', '04', '2021']"
      ]
     },
     "execution_count": 46,
     "metadata": {},
     "output_type": "execute_result"
    }
   ],
   "source": [
    "new_dt"
   ]
  },
  {
   "cell_type": "code",
   "execution_count": 48,
   "metadata": {},
   "outputs": [],
   "source": [
    "str1 = new_dt[2]+'-'+new_dt[1]+'-'+new_dt[0]+ ' ' + tm"
   ]
  },
  {
   "cell_type": "code",
   "execution_count": 49,
   "metadata": {},
   "outputs": [
    {
     "data": {
      "text/plain": [
       "'2021-04-22 19:29:25'"
      ]
     },
     "execution_count": 49,
     "metadata": {},
     "output_type": "execute_result"
    }
   ],
   "source": [
    "str1"
   ]
  },
  {
   "cell_type": "code",
   "execution_count": 50,
   "metadata": {},
   "outputs": [],
   "source": [
    "dt_obj = datetime.datetime.strptime(str1, '%Y-%m-%d %H:%M:%S')"
   ]
  },
  {
   "cell_type": "code",
   "execution_count": 51,
   "metadata": {},
   "outputs": [
    {
     "data": {
      "text/plain": [
       "datetime.datetime(2021, 4, 22, 19, 29, 25)"
      ]
     },
     "execution_count": 51,
     "metadata": {},
     "output_type": "execute_result"
    }
   ],
   "source": [
    "dt_obj"
   ]
  },
  {
   "cell_type": "code",
   "execution_count": 52,
   "metadata": {},
   "outputs": [
    {
     "name": "stdout",
     "output_type": "stream",
     "text": [
      "2021-04-22 19:29:25\n"
     ]
    }
   ],
   "source": [
    "print(dt_obj)"
   ]
  },
  {
   "cell_type": "code",
   "execution_count": 62,
   "metadata": {},
   "outputs": [
    {
     "name": "stdout",
     "output_type": "stream",
     "text": [
      "  ActiveAppSamplingTime  APP_CATEGORY\n",
      "0   2021-04-22 19:29:25  Productivity\n",
      "1   2021-04-22 19:29:25        Social\n",
      "2   2021-04-22 19:29:25        Social\n",
      "3   2021-04-22 19:29:45        Others\n",
      "4   2021-04-22 19:29:45        Others\n",
      "5   2021-04-22 19:29:45          Game\n",
      "6   2021-04-22 19:29:45          Maps\n",
      "0   2021-04-22 20:02:06        Others\n",
      "1   2021-04-22 20:02:06        Others\n",
      "2   2021-04-22 20:02:26  Productivity\n",
      "3   2021-04-22 20:02:26        Others\n",
      "4   2021-04-22 20:02:26        Social\n"
     ]
    }
   ],
   "source": [
    "dfs = []\n",
    "for user in setOfUsers:\n",
    "    userFiles = list(filter(lambda x : x.startswith(user), listOfContFiles))\n",
    "    for f in userFiles:\n",
    "        dt = f.split('_')[1]\n",
    "        rawData = json.load(codecs.open(pathc+f, 'r', 'utf-8-sig' ))\n",
    "        activeApps = pd.json_normalize(rawData[\"ActiveAppSamplingInfo\"], record_path=['ActiveApps'])\n",
    "        dt = dt.split('-')\n",
    "        dt_obj = new_dt[2]+'-'+new_dt[1]+'-'+new_dt[0]\n",
    "        activeApps['ActiveAppSamplingTime'] = dt_obj + ' ' + activeApps['ActiveAppSamplingTime']\n",
    "        activeApps['ActiveAppSamplingTime'] = pd.to_datetime(activeApps['ActiveAppSamplingTime'], format='%Y-%m-%d %H:%M:%S') \n",
    "        dfs.append(activeApps)\n",
    "user_df = pd.concat(dfs)\n",
    "print(user_df)"
   ]
  },
  {
   "cell_type": "code",
   "execution_count": 64,
   "metadata": {},
   "outputs": [
    {
     "name": "stdout",
     "output_type": "stream",
     "text": [
      "  ActiveAppSamplingTime  APP_CATEGORY\n",
      "0   2021-04-22 19:29:25  Productivity\n",
      "1   2021-04-22 19:29:25        Social\n",
      "2   2021-04-22 19:29:25        Social\n",
      "3   2021-04-22 19:29:45        Others\n",
      "4   2021-04-22 19:29:45        Others\n",
      "5   2021-04-22 19:29:45          Game\n",
      "6   2021-04-22 19:29:45          Maps\n",
      "0   2021-04-22 20:02:06        Others\n",
      "1   2021-04-22 20:02:06        Others\n",
      "2   2021-04-22 20:02:26  Productivity\n",
      "3   2021-04-22 20:02:26        Others\n",
      "4   2021-04-22 20:02:26        Social\n"
     ]
    }
   ],
   "source": [
    "dfs = []\n",
    "for user in setOfUsers:\n",
    "    userFiles = list(filter(lambda x : x.startswith(user), listOfContFiles))\n",
    "    for f in userFiles:\n",
    "        dt = f.split('_')[1]\n",
    "        rawData = json.load(codecs.open(pathc+f, 'r', 'utf-8-sig' ))\n",
    "        activeApps = pd.json_normalize(rawData[\"ActiveAppSamplingInfo\"], record_path=['ActiveApps'])\n",
    "        dt = datetime.datetime.strptime(dt, '%d-%m-%Y').strftime('%Y-%m-%d')\n",
    "        activeApps['ActiveAppSamplingTime'] = dt + ' ' + activeApps['ActiveAppSamplingTime']\n",
    "        activeApps['ActiveAppSamplingTime'] = pd.to_datetime(activeApps['ActiveAppSamplingTime'], format='%Y-%m-%d %H:%M:%S') \n",
    "        dfs.append(activeApps)\n",
    "user_df = pd.concat(dfs)\n",
    "print(user_df)"
   ]
  },
  {
   "cell_type": "code",
   "execution_count": 65,
   "metadata": {},
   "outputs": [],
   "source": [
    "def listOfJsonFiles(path):\n",
    "    listOfFiles = os.listdir(path)\n",
    "    for entry in listOfFiles:\n",
    "        if not fnmatch.fnmatch(entry, '*.json'):\n",
    "            listOfFiles.remove(entry)\n",
    "    return listOfFiles\n",
    "fileLst = listOfJsonFiles(path)"
   ]
  },
  {
   "cell_type": "code",
   "execution_count": 66,
   "metadata": {},
   "outputs": [
    {
     "data": {
      "text/plain": [
       "['ab71cf90-7909-414d-aafa-80a95ba9fa29_22-04-2021_19-29-08.json']"
      ]
     },
     "execution_count": 66,
     "metadata": {},
     "output_type": "execute_result"
    }
   ],
   "source": [
    "fileLst"
   ]
  },
  {
   "cell_type": "code",
   "execution_count": 67,
   "metadata": {},
   "outputs": [],
   "source": [
    "def createDfFromRaw(path, fname, field, ts_field):\n",
    "    rawData = json.load(codecs.open(path + fname, 'r', 'utf-8-sig'))\n",
    "    df = pd.json_normalize(rawData, record_path=[field])\n",
    "    df[ts_field] = pd.to_datetime(df[ts_field], unit='s')\n",
    "    return df\n",
    "df0 = createDfFromRaw(path, fileLst[0], 'ImgMetaData', 'IMAGE_DATE_TIME')"
   ]
  },
  {
   "cell_type": "code",
   "execution_count": 68,
   "metadata": {},
   "outputs": [
    {
     "name": "stdout",
     "output_type": "stream",
     "text": [
      "   IMAGE_TYPE     IMAGE_DATE_TIME\n",
      "0   image/png 2016-10-05 07:56:57\n",
      "1   image/png 2016-10-05 07:56:57\n",
      "2  image/jpeg 2016-10-09 15:16:17\n",
      "3  image/jpeg 2016-10-05 07:56:21\n"
     ]
    }
   ],
   "source": [
    "print(df0)"
   ]
  },
  {
   "cell_type": "code",
   "execution_count": 69,
   "metadata": {},
   "outputs": [],
   "source": [
    "df1 = createDfFromRaw(path, fileLst[0], 'InstallApps', 'INSTALL_DATETIME')"
   ]
  },
  {
   "cell_type": "code",
   "execution_count": 70,
   "metadata": {},
   "outputs": [
    {
     "name": "stdout",
     "output_type": "stream",
     "text": [
      "               INSTALL_DATETIME APP_CATEGORY   APP_VARIANT\n",
      "0 2016-12-03 09:13:58.782000128       Others          Free\n",
      "1 2018-02-21 06:05:04.591000064       Social          Free\n",
      "2 2018-06-30 05:54:27.896000000         Game          Free\n",
      "3 2018-03-05 19:11:14.320000000       Social  Paid Feature\n"
     ]
    }
   ],
   "source": [
    "print(df1)"
   ]
  },
  {
   "cell_type": "code",
   "execution_count": 81,
   "metadata": {},
   "outputs": [],
   "source": [
    "def setAllUsersId(listOfContMetaDataFiles):\n",
    "    setOfUsersId = set(map(lambda x: x.split('_')[0], listOfContMetaDataFiles))\n",
    "    return setOfUsersId\n",
    "\n",
    "def contDfByFiled(userId, path, listOfContMetaDataFiles, field, datetime_field):\n",
    "    dfs = []\n",
    "    userIdFiles = list(filter(lambda x : x.startswith(userId), listOfContMetaDataFiles))\n",
    "    for uid in userIdFiles:\n",
    "        d = uid.split('_')[1] # extract date\n",
    "        rawData = json.load(codecs.open(path + uid, 'r', 'utf-8-sig'))\n",
    "        if field == 'ActiveApps':\n",
    "            df = pd.json_normalize(rawData[\"ActiveAppSamplingInfo\"], record_path=['ActiveApps'])\n",
    "        else:\n",
    "            df = pd.json_normalize(rawData, record_path=[field])\n",
    "        # update datetime field in df with ISO 8601\n",
    "        date_obj = datetime.datetime.strptime(d, '%d-%m-%Y').strftime('%Y-%m-%d')\n",
    "        df[datetime_field] = date_obj +  ' ' + df[datetime_field]\n",
    "        df[datetime_field] = pd.to_datetime(df[datetime_field], format='%Y-%m-%d %H:%M:%S')\n",
    "        dfs.append(df)\n",
    "    return pd.concat(dfs)\n",
    "\n",
    "fileLst1 = listOfJsonFiles(pathc)"
   ]
  },
  {
   "cell_type": "code",
   "execution_count": 72,
   "metadata": {},
   "outputs": [
    {
     "data": {
      "text/plain": [
       "['ab71cf90-7909-414d-aafa-80a95ba9fa29_22-04-2021_19-30-18.json',\n",
       " 'ab71cf90-7909-414d-aafa-80a95ba9fa29_22-04-2021_20-02-41.json']"
      ]
     },
     "execution_count": 72,
     "metadata": {},
     "output_type": "execute_result"
    }
   ],
   "source": [
    "fileLst1"
   ]
  },
  {
   "cell_type": "code",
   "execution_count": 73,
   "metadata": {},
   "outputs": [],
   "source": [
    "userId = setAllUsersId(fileLst1)"
   ]
  },
  {
   "cell_type": "code",
   "execution_count": 76,
   "metadata": {},
   "outputs": [
    {
     "data": {
      "text/plain": [
       "{'ab71cf90-7909-414d-aafa-80a95ba9fa29'}"
      ]
     },
     "execution_count": 76,
     "metadata": {},
     "output_type": "execute_result"
    }
   ],
   "source": [
    "userId"
   ]
  },
  {
   "cell_type": "code",
   "execution_count": 82,
   "metadata": {},
   "outputs": [],
   "source": [
    "for uid in userId:\n",
    "    df2 = contDfByFiled(uid, pathc, fileLst1, 'ScreenInfo', 'Sampling_Collect_Time')"
   ]
  },
  {
   "cell_type": "code",
   "execution_count": 83,
   "metadata": {},
   "outputs": [
    {
     "name": "stdout",
     "output_type": "stream",
     "text": [
      "   Screen_On Sampling_Collect_Time\n",
      "0       True   2021-04-22 19:29:25\n",
      "1       True   2021-04-22 19:29:40\n",
      "2       True   2021-04-22 19:29:55\n",
      "3       True   2021-04-22 19:30:10\n",
      "0       True   2021-04-22 20:02:05\n",
      "1       True   2021-04-22 20:02:20\n",
      "2       True   2021-04-22 20:02:35\n"
     ]
    }
   ],
   "source": [
    "print(df2)"
   ]
  },
  {
   "cell_type": "code",
   "execution_count": 87,
   "metadata": {},
   "outputs": [
    {
     "name": "stdout",
     "output_type": "stream",
     "text": [
      "Collecting xlrd\n",
      "  Downloading xlrd-2.0.1-py2.py3-none-any.whl (96 kB)\n",
      "\u001b[K     |████████████████████████████████| 96 kB 451 kB/s eta 0:00:01\n",
      "\u001b[?25hInstalling collected packages: xlrd\n",
      "Successfully installed xlrd-2.0.1\n",
      "\u001b[33mWARNING: You are using pip version 21.0.1; however, version 21.1.1 is available.\n",
      "You should consider upgrading via the '/Users/smuel/Developer/Python/Louie7Predictors/venv/bin/python -m pip install --upgrade pip' command.\u001b[0m\n",
      "Note: you may need to restart the kernel to use updated packages.\n"
     ]
    }
   ],
   "source": [
    "pip install xlrd"
   ]
  },
  {
   "cell_type": "code",
   "execution_count": 89,
   "metadata": {},
   "outputs": [
    {
     "name": "stdout",
     "output_type": "stream",
     "text": [
      "Collecting openpyxl\n",
      "  Downloading openpyxl-3.0.7-py2.py3-none-any.whl (243 kB)\n",
      "\u001b[K     |████████████████████████████████| 243 kB 1.0 MB/s eta 0:00:01\n",
      "\u001b[?25hCollecting et-xmlfile\n",
      "  Downloading et_xmlfile-1.1.0-py3-none-any.whl (4.7 kB)\n",
      "Installing collected packages: et-xmlfile, openpyxl\n",
      "Successfully installed et-xmlfile-1.1.0 openpyxl-3.0.7\n",
      "\u001b[33mWARNING: You are using pip version 21.0.1; however, version 21.1.1 is available.\n",
      "You should consider upgrading via the '/Users/smuel/Developer/Python/Louie7Predictors/venv/bin/python -m pip install --upgrade pip' command.\u001b[0m\n",
      "Note: you may need to restart the kernel to use updated packages.\n"
     ]
    }
   ],
   "source": [
    "pip install openpyxl\n"
   ]
  },
  {
   "cell_type": "code",
   "execution_count": 253,
   "metadata": {},
   "outputs": [],
   "source": [
    "df = pd.read_excel('/Users/smuel/Developer/Python/Louie7Predictors/sample-salesv3.xlsx')\n",
    "df[\"date\"] = pd.to_datetime(df['date'])"
   ]
  },
  {
   "cell_type": "code",
   "execution_count": 254,
   "metadata": {},
   "outputs": [
    {
     "data": {
      "text/html": [
       "<div>\n",
       "<style scoped>\n",
       "    .dataframe tbody tr th:only-of-type {\n",
       "        vertical-align: middle;\n",
       "    }\n",
       "\n",
       "    .dataframe tbody tr th {\n",
       "        vertical-align: top;\n",
       "    }\n",
       "\n",
       "    .dataframe thead th {\n",
       "        text-align: right;\n",
       "    }\n",
       "</style>\n",
       "<table border=\"1\" class=\"dataframe\">\n",
       "  <thead>\n",
       "    <tr style=\"text-align: right;\">\n",
       "      <th></th>\n",
       "      <th>account number</th>\n",
       "      <th>name</th>\n",
       "      <th>sku</th>\n",
       "      <th>quantity</th>\n",
       "      <th>unit price</th>\n",
       "      <th>ext price</th>\n",
       "      <th>date</th>\n",
       "    </tr>\n",
       "  </thead>\n",
       "  <tbody>\n",
       "    <tr>\n",
       "      <th>0</th>\n",
       "      <td>740150</td>\n",
       "      <td>Barton LLC</td>\n",
       "      <td>B1-20000</td>\n",
       "      <td>39</td>\n",
       "      <td>86.69</td>\n",
       "      <td>3380.91</td>\n",
       "      <td>2014-01-01 07:21:51</td>\n",
       "    </tr>\n",
       "    <tr>\n",
       "      <th>1</th>\n",
       "      <td>714466</td>\n",
       "      <td>Trantow-Barrows</td>\n",
       "      <td>S2-77896</td>\n",
       "      <td>-1</td>\n",
       "      <td>63.16</td>\n",
       "      <td>-63.16</td>\n",
       "      <td>2014-01-01 10:00:47</td>\n",
       "    </tr>\n",
       "    <tr>\n",
       "      <th>2</th>\n",
       "      <td>218895</td>\n",
       "      <td>Kulas Inc</td>\n",
       "      <td>B1-69924</td>\n",
       "      <td>23</td>\n",
       "      <td>90.70</td>\n",
       "      <td>2086.10</td>\n",
       "      <td>2014-01-01 13:24:58</td>\n",
       "    </tr>\n",
       "    <tr>\n",
       "      <th>3</th>\n",
       "      <td>307599</td>\n",
       "      <td>Kassulke, Ondricka and Metz</td>\n",
       "      <td>S1-65481</td>\n",
       "      <td>41</td>\n",
       "      <td>21.05</td>\n",
       "      <td>863.05</td>\n",
       "      <td>2014-01-01 15:05:22</td>\n",
       "    </tr>\n",
       "    <tr>\n",
       "      <th>4</th>\n",
       "      <td>412290</td>\n",
       "      <td>Jerde-Hilpert</td>\n",
       "      <td>S2-34077</td>\n",
       "      <td>6</td>\n",
       "      <td>83.21</td>\n",
       "      <td>499.26</td>\n",
       "      <td>2014-01-01 23:26:55</td>\n",
       "    </tr>\n",
       "  </tbody>\n",
       "</table>\n",
       "</div>"
      ],
      "text/plain": [
       "   account number                         name       sku  quantity  \\\n",
       "0          740150                   Barton LLC  B1-20000        39   \n",
       "1          714466              Trantow-Barrows  S2-77896        -1   \n",
       "2          218895                    Kulas Inc  B1-69924        23   \n",
       "3          307599  Kassulke, Ondricka and Metz  S1-65481        41   \n",
       "4          412290                Jerde-Hilpert  S2-34077         6   \n",
       "\n",
       "   unit price  ext price                date  \n",
       "0       86.69    3380.91 2014-01-01 07:21:51  \n",
       "1       63.16     -63.16 2014-01-01 10:00:47  \n",
       "2       90.70    2086.10 2014-01-01 13:24:58  \n",
       "3       21.05     863.05 2014-01-01 15:05:22  \n",
       "4       83.21     499.26 2014-01-01 23:26:55  "
      ]
     },
     "execution_count": 254,
     "metadata": {},
     "output_type": "execute_result"
    }
   ],
   "source": [
    "df.head()"
   ]
  },
  {
   "cell_type": "code",
   "execution_count": 260,
   "metadata": {},
   "outputs": [],
   "source": [
    "df1= df.groupby(['name', pd.Grouper(key='date', freq='M')]).agg({'name' : ['count']})"
   ]
  },
  {
   "cell_type": "code",
   "execution_count": 262,
   "metadata": {},
   "outputs": [
    {
     "data": {
      "text/html": [
       "<div>\n",
       "<style scoped>\n",
       "    .dataframe tbody tr th:only-of-type {\n",
       "        vertical-align: middle;\n",
       "    }\n",
       "\n",
       "    .dataframe tbody tr th {\n",
       "        vertical-align: top;\n",
       "    }\n",
       "\n",
       "    .dataframe thead tr th {\n",
       "        text-align: left;\n",
       "    }\n",
       "\n",
       "    .dataframe thead tr:last-of-type th {\n",
       "        text-align: right;\n",
       "    }\n",
       "</style>\n",
       "<table border=\"1\" class=\"dataframe\">\n",
       "  <thead>\n",
       "    <tr>\n",
       "      <th></th>\n",
       "      <th></th>\n",
       "      <th>name</th>\n",
       "    </tr>\n",
       "    <tr>\n",
       "      <th></th>\n",
       "      <th></th>\n",
       "      <th>count</th>\n",
       "    </tr>\n",
       "    <tr>\n",
       "      <th>name</th>\n",
       "      <th>date</th>\n",
       "      <th></th>\n",
       "    </tr>\n",
       "  </thead>\n",
       "  <tbody>\n",
       "    <tr>\n",
       "      <th rowspan=\"10\" valign=\"top\">Barton LLC</th>\n",
       "      <th>2014-01-31</th>\n",
       "      <td>8</td>\n",
       "    </tr>\n",
       "    <tr>\n",
       "      <th>2014-02-28</th>\n",
       "      <td>7</td>\n",
       "    </tr>\n",
       "    <tr>\n",
       "      <th>2014-03-31</th>\n",
       "      <td>3</td>\n",
       "    </tr>\n",
       "    <tr>\n",
       "      <th>2014-04-30</th>\n",
       "      <td>10</td>\n",
       "    </tr>\n",
       "    <tr>\n",
       "      <th>2014-05-31</th>\n",
       "      <td>8</td>\n",
       "    </tr>\n",
       "    <tr>\n",
       "      <th>2014-06-30</th>\n",
       "      <td>8</td>\n",
       "    </tr>\n",
       "    <tr>\n",
       "      <th>2014-07-31</th>\n",
       "      <td>4</td>\n",
       "    </tr>\n",
       "    <tr>\n",
       "      <th>2014-08-31</th>\n",
       "      <td>12</td>\n",
       "    </tr>\n",
       "    <tr>\n",
       "      <th>2014-09-30</th>\n",
       "      <td>8</td>\n",
       "    </tr>\n",
       "    <tr>\n",
       "      <th>2014-10-31</th>\n",
       "      <td>7</td>\n",
       "    </tr>\n",
       "  </tbody>\n",
       "</table>\n",
       "</div>"
      ],
      "text/plain": [
       "                       name\n",
       "                      count\n",
       "name       date            \n",
       "Barton LLC 2014-01-31     8\n",
       "           2014-02-28     7\n",
       "           2014-03-31     3\n",
       "           2014-04-30    10\n",
       "           2014-05-31     8\n",
       "           2014-06-30     8\n",
       "           2014-07-31     4\n",
       "           2014-08-31    12\n",
       "           2014-09-30     8\n",
       "           2014-10-31     7"
      ]
     },
     "execution_count": 262,
     "metadata": {},
     "output_type": "execute_result"
    }
   ],
   "source": [
    "df1.head(10)"
   ]
  },
  {
   "cell_type": "code",
   "execution_count": 263,
   "metadata": {},
   "outputs": [
    {
     "data": {
      "text/plain": [
       "pandas.core.frame.DataFrame"
      ]
     },
     "execution_count": 263,
     "metadata": {},
     "output_type": "execute_result"
    }
   ],
   "source": [
    "type(df1)"
   ]
  },
  {
   "cell_type": "code",
   "execution_count": 265,
   "metadata": {},
   "outputs": [],
   "source": [
    "df1 = df1.groupby(level=0).agg((np.mean, np.std))"
   ]
  },
  {
   "cell_type": "code",
   "execution_count": 364,
   "metadata": {},
   "outputs": [
    {
     "data": {
      "text/html": [
       "<div>\n",
       "<style scoped>\n",
       "    .dataframe tbody tr th:only-of-type {\n",
       "        vertical-align: middle;\n",
       "    }\n",
       "\n",
       "    .dataframe tbody tr th {\n",
       "        vertical-align: top;\n",
       "    }\n",
       "\n",
       "    .dataframe thead tr th {\n",
       "        text-align: left;\n",
       "    }\n",
       "\n",
       "    .dataframe thead tr:last-of-type th {\n",
       "        text-align: right;\n",
       "    }\n",
       "</style>\n",
       "<table border=\"1\" class=\"dataframe\">\n",
       "  <thead>\n",
       "    <tr>\n",
       "      <th></th>\n",
       "      <th colspan=\"2\" halign=\"left\">name</th>\n",
       "    </tr>\n",
       "    <tr>\n",
       "      <th></th>\n",
       "      <th colspan=\"2\" halign=\"left\">count</th>\n",
       "    </tr>\n",
       "    <tr>\n",
       "      <th></th>\n",
       "      <th>mean</th>\n",
       "      <th>std</th>\n",
       "    </tr>\n",
       "    <tr>\n",
       "      <th>name</th>\n",
       "      <th></th>\n",
       "      <th></th>\n",
       "    </tr>\n",
       "  </thead>\n",
       "  <tbody>\n",
       "    <tr>\n",
       "      <th>Barton LLC</th>\n",
       "      <td>6.833333</td>\n",
       "      <td>2.823065</td>\n",
       "    </tr>\n",
       "    <tr>\n",
       "      <th>Cronin, Oberbrunner and Spencer</th>\n",
       "      <td>5.583333</td>\n",
       "      <td>2.466441</td>\n",
       "    </tr>\n",
       "    <tr>\n",
       "      <th>Frami, Hills and Schmidt</th>\n",
       "      <td>6.000000</td>\n",
       "      <td>1.809068</td>\n",
       "    </tr>\n",
       "    <tr>\n",
       "      <th>Fritsch, Russel and Anderson</th>\n",
       "      <td>6.750000</td>\n",
       "      <td>2.800162</td>\n",
       "    </tr>\n",
       "    <tr>\n",
       "      <th>Halvorson, Crona and Champlin</th>\n",
       "      <td>4.833333</td>\n",
       "      <td>1.403459</td>\n",
       "    </tr>\n",
       "  </tbody>\n",
       "</table>\n",
       "</div>"
      ],
      "text/plain": [
       "                                     name          \n",
       "                                    count          \n",
       "                                     mean       std\n",
       "name                                               \n",
       "Barton LLC                       6.833333  2.823065\n",
       "Cronin, Oberbrunner and Spencer  5.583333  2.466441\n",
       "Frami, Hills and Schmidt         6.000000  1.809068\n",
       "Fritsch, Russel and Anderson     6.750000  2.800162\n",
       "Halvorson, Crona and Champlin    4.833333  1.403459"
      ]
     },
     "execution_count": 364,
     "metadata": {},
     "output_type": "execute_result"
    }
   ],
   "source": [
    "df1.head(5)"
   ]
  },
  {
   "cell_type": "code",
   "execution_count": 270,
   "metadata": {},
   "outputs": [],
   "source": [
    " l = df1.loc['Halvorson': ].iloc[0].to_numpy()"
   ]
  },
  {
   "cell_type": "code",
   "execution_count": 271,
   "metadata": {},
   "outputs": [
    {
     "data": {
      "text/plain": [
       "array([4.83333333, 1.40345893])"
      ]
     },
     "execution_count": 271,
     "metadata": {},
     "output_type": "execute_result"
    }
   ],
   "source": [
    "l"
   ]
  },
  {
   "cell_type": "code",
   "execution_count": 275,
   "metadata": {},
   "outputs": [],
   "source": [
    "r = df1.index.values"
   ]
  },
  {
   "cell_type": "code",
   "execution_count": 276,
   "metadata": {},
   "outputs": [
    {
     "name": "stdout",
     "output_type": "stream",
     "text": [
      "[0. 0.]\n"
     ]
    }
   ],
   "source": [
    "if 'lalala' in r :\n",
    "    print(l)\n",
    "else :\n",
    "    print(np.zeros(2))"
   ]
  },
  {
   "cell_type": "code",
   "execution_count": 273,
   "metadata": {},
   "outputs": [
    {
     "data": {
      "text/plain": [
       "array([6.08333333, 2.19330939])"
      ]
     },
     "execution_count": 273,
     "metadata": {},
     "output_type": "execute_result"
    }
   ],
   "source": [
    "l1"
   ]
  },
  {
   "cell_type": "code",
   "execution_count": 169,
   "metadata": {},
   "outputs": [],
   "source": [
    "df = df.loc[df['name'] == 'Barton LLC']"
   ]
  },
  {
   "cell_type": "code",
   "execution_count": 170,
   "metadata": {},
   "outputs": [
    {
     "data": {
      "text/html": [
       "<div>\n",
       "<style scoped>\n",
       "    .dataframe tbody tr th:only-of-type {\n",
       "        vertical-align: middle;\n",
       "    }\n",
       "\n",
       "    .dataframe tbody tr th {\n",
       "        vertical-align: top;\n",
       "    }\n",
       "\n",
       "    .dataframe thead th {\n",
       "        text-align: right;\n",
       "    }\n",
       "</style>\n",
       "<table border=\"1\" class=\"dataframe\">\n",
       "  <thead>\n",
       "    <tr style=\"text-align: right;\">\n",
       "      <th></th>\n",
       "      <th>account number</th>\n",
       "      <th>name</th>\n",
       "      <th>sku</th>\n",
       "      <th>quantity</th>\n",
       "      <th>unit price</th>\n",
       "      <th>ext price</th>\n",
       "      <th>date</th>\n",
       "      <th>cat</th>\n",
       "    </tr>\n",
       "  </thead>\n",
       "  <tbody>\n",
       "    <tr>\n",
       "      <th>0</th>\n",
       "      <td>740150</td>\n",
       "      <td>Barton LLC</td>\n",
       "      <td>B1-20000</td>\n",
       "      <td>39</td>\n",
       "      <td>86.69</td>\n",
       "      <td>3380.91</td>\n",
       "      <td>2014-01-01 07:21:51</td>\n",
       "      <td>1</td>\n",
       "    </tr>\n",
       "    <tr>\n",
       "      <th>85</th>\n",
       "      <td>740150</td>\n",
       "      <td>Barton LLC</td>\n",
       "      <td>B1-50809</td>\n",
       "      <td>8</td>\n",
       "      <td>19.60</td>\n",
       "      <td>156.80</td>\n",
       "      <td>2014-01-20 01:48:47</td>\n",
       "      <td>1</td>\n",
       "    </tr>\n",
       "    <tr>\n",
       "      <th>91</th>\n",
       "      <td>740150</td>\n",
       "      <td>Barton LLC</td>\n",
       "      <td>B1-53102</td>\n",
       "      <td>1</td>\n",
       "      <td>68.06</td>\n",
       "      <td>68.06</td>\n",
       "      <td>2014-01-20 13:27:52</td>\n",
       "      <td>1</td>\n",
       "    </tr>\n",
       "    <tr>\n",
       "      <th>96</th>\n",
       "      <td>740150</td>\n",
       "      <td>Barton LLC</td>\n",
       "      <td>S2-16558</td>\n",
       "      <td>2</td>\n",
       "      <td>90.91</td>\n",
       "      <td>181.82</td>\n",
       "      <td>2014-01-21 21:21:01</td>\n",
       "      <td>1</td>\n",
       "    </tr>\n",
       "    <tr>\n",
       "      <th>99</th>\n",
       "      <td>740150</td>\n",
       "      <td>Barton LLC</td>\n",
       "      <td>B1-86481</td>\n",
       "      <td>20</td>\n",
       "      <td>30.41</td>\n",
       "      <td>608.20</td>\n",
       "      <td>2014-01-22 16:33:51</td>\n",
       "      <td>1</td>\n",
       "    </tr>\n",
       "  </tbody>\n",
       "</table>\n",
       "</div>"
      ],
      "text/plain": [
       "    account number        name       sku  quantity  unit price  ext price  \\\n",
       "0           740150  Barton LLC  B1-20000        39       86.69    3380.91   \n",
       "85          740150  Barton LLC  B1-50809         8       19.60     156.80   \n",
       "91          740150  Barton LLC  B1-53102         1       68.06      68.06   \n",
       "96          740150  Barton LLC  S2-16558         2       90.91     181.82   \n",
       "99          740150  Barton LLC  B1-86481        20       30.41     608.20   \n",
       "\n",
       "                  date  cat  \n",
       "0  2014-01-01 07:21:51    1  \n",
       "85 2014-01-20 01:48:47    1  \n",
       "91 2014-01-20 13:27:52    1  \n",
       "96 2014-01-21 21:21:01    1  \n",
       "99 2014-01-22 16:33:51    1  "
      ]
     },
     "execution_count": 170,
     "metadata": {},
     "output_type": "execute_result"
    }
   ],
   "source": [
    "df.head()"
   ]
  },
  {
   "cell_type": "code",
   "execution_count": 178,
   "metadata": {},
   "outputs": [],
   "source": [
    "ds2 = df.groupby(pd.Grouper(key='date', freq='M'))['name'].count()"
   ]
  },
  {
   "cell_type": "code",
   "execution_count": 179,
   "metadata": {},
   "outputs": [
    {
     "data": {
      "text/plain": [
       "pandas.core.series.Series"
      ]
     },
     "execution_count": 179,
     "metadata": {},
     "output_type": "execute_result"
    }
   ],
   "source": [
    "type(ds2)"
   ]
  },
  {
   "cell_type": "code",
   "execution_count": 180,
   "metadata": {},
   "outputs": [
    {
     "data": {
      "text/plain": [
       "date\n",
       "2014-01-31    134\n",
       "2014-02-28    108\n",
       "2014-03-31    142\n",
       "2014-04-30    134\n",
       "2014-05-31    132\n",
       "2014-06-30    128\n",
       "2014-07-31    128\n",
       "2014-08-31    117\n",
       "2014-09-30    118\n",
       "2014-10-31    126\n",
       "2014-11-30    114\n",
       "2014-12-31    119\n",
       "Freq: M, Name: name, dtype: int64"
      ]
     },
     "execution_count": 180,
     "metadata": {},
     "output_type": "execute_result"
    }
   ],
   "source": [
    "ds2.head(30)"
   ]
  },
  {
   "cell_type": "code",
   "execution_count": 181,
   "metadata": {},
   "outputs": [],
   "source": [
    "ret = ds2.agg((np.mean, np.std)).to_numpy()"
   ]
  },
  {
   "cell_type": "code",
   "execution_count": 182,
   "metadata": {},
   "outputs": [
    {
     "data": {
      "text/plain": [
       "numpy.ndarray"
      ]
     },
     "execution_count": 182,
     "metadata": {},
     "output_type": "execute_result"
    }
   ],
   "source": [
    "type(ret)"
   ]
  },
  {
   "cell_type": "code",
   "execution_count": 183,
   "metadata": {},
   "outputs": [
    {
     "data": {
      "text/plain": [
       "array([125.        ,   9.89949494])"
      ]
     },
     "execution_count": 183,
     "metadata": {},
     "output_type": "execute_result"
    }
   ],
   "source": [
    "ret"
   ]
  },
  {
   "cell_type": "raw",
   "metadata": {},
   "source": [
    "ret[0]"
   ]
  },
  {
   "cell_type": "code",
   "execution_count": 259,
   "metadata": {},
   "outputs": [
    {
     "data": {
      "text/plain": [
       "125.0"
      ]
     },
     "execution_count": 259,
     "metadata": {},
     "output_type": "execute_result"
    }
   ],
   "source": [
    "ret[0]"
   ]
  },
  {
   "cell_type": "code",
   "execution_count": 312,
   "metadata": {},
   "outputs": [],
   "source": [
    "df['deltaT'] = (df['date'] - df['date'].shift()).fillna(pd.Timedelta('0 days'))"
   ]
  },
  {
   "cell_type": "code",
   "execution_count": 313,
   "metadata": {},
   "outputs": [
    {
     "data": {
      "text/html": [
       "<div>\n",
       "<style scoped>\n",
       "    .dataframe tbody tr th:only-of-type {\n",
       "        vertical-align: middle;\n",
       "    }\n",
       "\n",
       "    .dataframe tbody tr th {\n",
       "        vertical-align: top;\n",
       "    }\n",
       "\n",
       "    .dataframe thead th {\n",
       "        text-align: right;\n",
       "    }\n",
       "</style>\n",
       "<table border=\"1\" class=\"dataframe\">\n",
       "  <thead>\n",
       "    <tr style=\"text-align: right;\">\n",
       "      <th></th>\n",
       "      <th>account number</th>\n",
       "      <th>name</th>\n",
       "      <th>sku</th>\n",
       "      <th>quantity</th>\n",
       "      <th>unit price</th>\n",
       "      <th>ext price</th>\n",
       "      <th>date</th>\n",
       "      <th>cat</th>\n",
       "      <th>deltaT</th>\n",
       "    </tr>\n",
       "  </thead>\n",
       "  <tbody>\n",
       "    <tr>\n",
       "      <th>0</th>\n",
       "      <td>740150</td>\n",
       "      <td>Barton LLC</td>\n",
       "      <td>B1-20000</td>\n",
       "      <td>39</td>\n",
       "      <td>86.69</td>\n",
       "      <td>3380.91</td>\n",
       "      <td>2014-01-01 07:21:51</td>\n",
       "      <td>1</td>\n",
       "      <td>0 days 00:00:00</td>\n",
       "    </tr>\n",
       "    <tr>\n",
       "      <th>1</th>\n",
       "      <td>714466</td>\n",
       "      <td>Trantow-Barrows</td>\n",
       "      <td>S2-77896</td>\n",
       "      <td>-1</td>\n",
       "      <td>63.16</td>\n",
       "      <td>-63.16</td>\n",
       "      <td>2014-01-01 10:00:47</td>\n",
       "      <td>1</td>\n",
       "      <td>0 days 02:38:56</td>\n",
       "    </tr>\n",
       "    <tr>\n",
       "      <th>2</th>\n",
       "      <td>218895</td>\n",
       "      <td>Kulas Inc</td>\n",
       "      <td>B1-69924</td>\n",
       "      <td>23</td>\n",
       "      <td>90.70</td>\n",
       "      <td>2086.10</td>\n",
       "      <td>2014-01-01 13:24:58</td>\n",
       "      <td>1</td>\n",
       "      <td>0 days 03:24:11</td>\n",
       "    </tr>\n",
       "    <tr>\n",
       "      <th>3</th>\n",
       "      <td>307599</td>\n",
       "      <td>Kassulke, Ondricka and Metz</td>\n",
       "      <td>S1-65481</td>\n",
       "      <td>41</td>\n",
       "      <td>21.05</td>\n",
       "      <td>863.05</td>\n",
       "      <td>2014-01-01 15:05:22</td>\n",
       "      <td>1</td>\n",
       "      <td>0 days 01:40:24</td>\n",
       "    </tr>\n",
       "    <tr>\n",
       "      <th>4</th>\n",
       "      <td>412290</td>\n",
       "      <td>Jerde-Hilpert</td>\n",
       "      <td>S2-34077</td>\n",
       "      <td>6</td>\n",
       "      <td>83.21</td>\n",
       "      <td>499.26</td>\n",
       "      <td>2014-01-01 23:26:55</td>\n",
       "      <td>1</td>\n",
       "      <td>0 days 08:21:33</td>\n",
       "    </tr>\n",
       "    <tr>\n",
       "      <th>...</th>\n",
       "      <td>...</td>\n",
       "      <td>...</td>\n",
       "      <td>...</td>\n",
       "      <td>...</td>\n",
       "      <td>...</td>\n",
       "      <td>...</td>\n",
       "      <td>...</td>\n",
       "      <td>...</td>\n",
       "      <td>...</td>\n",
       "    </tr>\n",
       "    <tr>\n",
       "      <th>1495</th>\n",
       "      <td>737550</td>\n",
       "      <td>Fritsch, Russel and Anderson</td>\n",
       "      <td>S1-06532</td>\n",
       "      <td>12</td>\n",
       "      <td>55.80</td>\n",
       "      <td>669.60</td>\n",
       "      <td>2014-12-30 13:38:13</td>\n",
       "      <td>1</td>\n",
       "      <td>0 days 00:59:48</td>\n",
       "    </tr>\n",
       "    <tr>\n",
       "      <th>1496</th>\n",
       "      <td>786968</td>\n",
       "      <td>Frami, Hills and Schmidt</td>\n",
       "      <td>S1-06532</td>\n",
       "      <td>37</td>\n",
       "      <td>13.14</td>\n",
       "      <td>486.18</td>\n",
       "      <td>2014-12-30 21:42:17</td>\n",
       "      <td>1</td>\n",
       "      <td>0 days 08:04:04</td>\n",
       "    </tr>\n",
       "    <tr>\n",
       "      <th>1497</th>\n",
       "      <td>239344</td>\n",
       "      <td>Stokes LLC</td>\n",
       "      <td>S2-10342</td>\n",
       "      <td>14</td>\n",
       "      <td>38.75</td>\n",
       "      <td>542.50</td>\n",
       "      <td>2014-12-30 22:45:19</td>\n",
       "      <td>1</td>\n",
       "      <td>0 days 01:03:02</td>\n",
       "    </tr>\n",
       "    <tr>\n",
       "      <th>1498</th>\n",
       "      <td>642753</td>\n",
       "      <td>Pollich LLC</td>\n",
       "      <td>S2-82423</td>\n",
       "      <td>3</td>\n",
       "      <td>65.97</td>\n",
       "      <td>197.91</td>\n",
       "      <td>2014-12-31 10:36:24</td>\n",
       "      <td>1</td>\n",
       "      <td>0 days 11:51:05</td>\n",
       "    </tr>\n",
       "    <tr>\n",
       "      <th>1499</th>\n",
       "      <td>383080</td>\n",
       "      <td>Will LLC</td>\n",
       "      <td>S2-00301</td>\n",
       "      <td>38</td>\n",
       "      <td>46.44</td>\n",
       "      <td>1764.72</td>\n",
       "      <td>2014-12-31 12:48:35</td>\n",
       "      <td>1</td>\n",
       "      <td>0 days 02:12:11</td>\n",
       "    </tr>\n",
       "  </tbody>\n",
       "</table>\n",
       "<p>1500 rows × 9 columns</p>\n",
       "</div>"
      ],
      "text/plain": [
       "      account number                          name       sku  quantity  \\\n",
       "0             740150                    Barton LLC  B1-20000        39   \n",
       "1             714466               Trantow-Barrows  S2-77896        -1   \n",
       "2             218895                     Kulas Inc  B1-69924        23   \n",
       "3             307599   Kassulke, Ondricka and Metz  S1-65481        41   \n",
       "4             412290                 Jerde-Hilpert  S2-34077         6   \n",
       "...              ...                           ...       ...       ...   \n",
       "1495          737550  Fritsch, Russel and Anderson  S1-06532        12   \n",
       "1496          786968      Frami, Hills and Schmidt  S1-06532        37   \n",
       "1497          239344                    Stokes LLC  S2-10342        14   \n",
       "1498          642753                   Pollich LLC  S2-82423         3   \n",
       "1499          383080                      Will LLC  S2-00301        38   \n",
       "\n",
       "      unit price  ext price                date  cat          deltaT  \n",
       "0          86.69    3380.91 2014-01-01 07:21:51    1 0 days 00:00:00  \n",
       "1          63.16     -63.16 2014-01-01 10:00:47    1 0 days 02:38:56  \n",
       "2          90.70    2086.10 2014-01-01 13:24:58    1 0 days 03:24:11  \n",
       "3          21.05     863.05 2014-01-01 15:05:22    1 0 days 01:40:24  \n",
       "4          83.21     499.26 2014-01-01 23:26:55    1 0 days 08:21:33  \n",
       "...          ...        ...                 ...  ...             ...  \n",
       "1495       55.80     669.60 2014-12-30 13:38:13    1 0 days 00:59:48  \n",
       "1496       13.14     486.18 2014-12-30 21:42:17    1 0 days 08:04:04  \n",
       "1497       38.75     542.50 2014-12-30 22:45:19    1 0 days 01:03:02  \n",
       "1498       65.97     197.91 2014-12-31 10:36:24    1 0 days 11:51:05  \n",
       "1499       46.44    1764.72 2014-12-31 12:48:35    1 0 days 02:12:11  \n",
       "\n",
       "[1500 rows x 9 columns]"
      ]
     },
     "execution_count": 313,
     "metadata": {},
     "output_type": "execute_result"
    }
   ],
   "source": [
    "df"
   ]
  },
  {
   "cell_type": "code",
   "execution_count": 305,
   "metadata": {},
   "outputs": [],
   "source": [
    "df['deltaT'] = pd.to_timedelta(df['deltaT'].dt.total_seconds().astype(float))"
   ]
  },
  {
   "cell_type": "code",
   "execution_count": 314,
   "metadata": {},
   "outputs": [],
   "source": [
    "df['deltaT'] = pd.to_timedelta(df['deltaT']).dt.total_seconds()"
   ]
  },
  {
   "cell_type": "code",
   "execution_count": 317,
   "metadata": {},
   "outputs": [],
   "source": [
    "df.to_csv('sample_salesv3.csv')"
   ]
  },
  {
   "cell_type": "code",
   "execution_count": 34,
   "metadata": {},
   "outputs": [],
   "source": [
    "ndf = pd.read_csv('/Users/smuel/Developer/Python/Louie7Predictors/sample_salesv3.csv')\n",
    "ndf['date'] = pd.to_datetime(ndf['date'])"
   ]
  },
  {
   "cell_type": "code",
   "execution_count": 36,
   "metadata": {},
   "outputs": [],
   "source": [
    "ndf['norm'] = ndf.deltaT.apply(lambda x : 0 if x < 4000 else 1)"
   ]
  },
  {
   "cell_type": "code",
   "execution_count": 37,
   "metadata": {},
   "outputs": [],
   "source": [
    "ndf['sub_group'] = ndf['norm'].cumsum()"
   ]
  },
  {
   "cell_type": "code",
   "execution_count": 40,
   "metadata": {},
   "outputs": [],
   "source": [
    "df_acc= 2.0 * ndf.groupby('sub_group').apply(lambda x : x.shape[0])"
   ]
  },
  {
   "cell_type": "code",
   "execution_count": 41,
   "metadata": {},
   "outputs": [
    {
     "data": {
      "text/plain": [
       "sub_group\n",
       "0      8.0\n",
       "1      2.0\n",
       "2     12.0\n",
       "3     18.0\n",
       "4     12.0\n",
       "5     46.0\n",
       "6      6.0\n",
       "7     22.0\n",
       "8     32.0\n",
       "9     16.0\n",
       "10     2.0\n",
       "11    16.0\n",
       "dtype: float64"
      ]
     },
     "execution_count": 41,
     "metadata": {},
     "output_type": "execute_result"
    }
   ],
   "source": [
    "df_acc.head(20)"
   ]
  },
  {
   "cell_type": "code",
   "execution_count": 32,
   "metadata": {},
   "outputs": [
    {
     "data": {
      "text/plain": [
       "pandas.core.series.Series"
      ]
     },
     "execution_count": 32,
     "metadata": {},
     "output_type": "execute_result"
    }
   ],
   "source": [
    "type(df_acc)"
   ]
  },
  {
   "cell_type": "code",
   "execution_count": 42,
   "metadata": {},
   "outputs": [],
   "source": [
    "df_a = ndf.groupby('sub_group').apply(lambda x : x.shape[0])"
   ]
  },
  {
   "cell_type": "code",
   "execution_count": 43,
   "metadata": {},
   "outputs": [
    {
     "data": {
      "text/plain": [
       "sub_group\n",
       "0      4\n",
       "1      1\n",
       "2      6\n",
       "3      9\n",
       "4      6\n",
       "5     23\n",
       "6      3\n",
       "7     11\n",
       "8     16\n",
       "9      8\n",
       "10     1\n",
       "11     8\n",
       "dtype: int64"
      ]
     },
     "execution_count": 43,
     "metadata": {},
     "output_type": "execute_result"
    }
   ],
   "source": [
    "df_a.head(20)"
   ]
  },
  {
   "cell_type": "code",
   "execution_count": 44,
   "metadata": {},
   "outputs": [
    {
     "data": {
      "text/html": [
       "<div>\n",
       "<style scoped>\n",
       "    .dataframe tbody tr th:only-of-type {\n",
       "        vertical-align: middle;\n",
       "    }\n",
       "\n",
       "    .dataframe tbody tr th {\n",
       "        vertical-align: top;\n",
       "    }\n",
       "\n",
       "    .dataframe thead th {\n",
       "        text-align: right;\n",
       "    }\n",
       "</style>\n",
       "<table border=\"1\" class=\"dataframe\">\n",
       "  <thead>\n",
       "    <tr style=\"text-align: right;\">\n",
       "      <th></th>\n",
       "      <th>Unnamed: 0</th>\n",
       "      <th>account number</th>\n",
       "      <th>name</th>\n",
       "      <th>sku</th>\n",
       "      <th>quantity</th>\n",
       "      <th>unit price</th>\n",
       "      <th>ext price</th>\n",
       "      <th>date</th>\n",
       "      <th>cat</th>\n",
       "      <th>deltaT</th>\n",
       "      <th>norm</th>\n",
       "      <th>sub_group</th>\n",
       "    </tr>\n",
       "  </thead>\n",
       "  <tbody>\n",
       "    <tr>\n",
       "      <th>0</th>\n",
       "      <td>0</td>\n",
       "      <td>740150</td>\n",
       "      <td>Barton LLC</td>\n",
       "      <td>B1-20000</td>\n",
       "      <td>39</td>\n",
       "      <td>86.69</td>\n",
       "      <td>3380.91</td>\n",
       "      <td>2014-01-01 07:21:51</td>\n",
       "      <td>1</td>\n",
       "      <td>0.0</td>\n",
       "      <td>0</td>\n",
       "      <td>0</td>\n",
       "    </tr>\n",
       "    <tr>\n",
       "      <th>1</th>\n",
       "      <td>1</td>\n",
       "      <td>714466</td>\n",
       "      <td>Trantow-Barrows</td>\n",
       "      <td>S2-77896</td>\n",
       "      <td>-1</td>\n",
       "      <td>63.16</td>\n",
       "      <td>-63.16</td>\n",
       "      <td>2014-01-01 10:00:47</td>\n",
       "      <td>1</td>\n",
       "      <td>536.0</td>\n",
       "      <td>0</td>\n",
       "      <td>0</td>\n",
       "    </tr>\n",
       "    <tr>\n",
       "      <th>2</th>\n",
       "      <td>2</td>\n",
       "      <td>218895</td>\n",
       "      <td>Kulas Inc</td>\n",
       "      <td>B1-69924</td>\n",
       "      <td>23</td>\n",
       "      <td>90.70</td>\n",
       "      <td>2086.10</td>\n",
       "      <td>2014-01-01 13:24:58</td>\n",
       "      <td>1</td>\n",
       "      <td>2251.0</td>\n",
       "      <td>0</td>\n",
       "      <td>0</td>\n",
       "    </tr>\n",
       "    <tr>\n",
       "      <th>3</th>\n",
       "      <td>3</td>\n",
       "      <td>307599</td>\n",
       "      <td>Kassulke, Ondricka and Metz</td>\n",
       "      <td>S1-65481</td>\n",
       "      <td>41</td>\n",
       "      <td>21.05</td>\n",
       "      <td>863.05</td>\n",
       "      <td>2014-01-01 15:05:22</td>\n",
       "      <td>1</td>\n",
       "      <td>2024.0</td>\n",
       "      <td>0</td>\n",
       "      <td>0</td>\n",
       "    </tr>\n",
       "    <tr>\n",
       "      <th>4</th>\n",
       "      <td>4</td>\n",
       "      <td>412290</td>\n",
       "      <td>Jerde-Hilpert</td>\n",
       "      <td>S2-34077</td>\n",
       "      <td>6</td>\n",
       "      <td>83.21</td>\n",
       "      <td>499.26</td>\n",
       "      <td>2014-01-01 23:26:55</td>\n",
       "      <td>1</td>\n",
       "      <td>30093.0</td>\n",
       "      <td>1</td>\n",
       "      <td>1</td>\n",
       "    </tr>\n",
       "  </tbody>\n",
       "</table>\n",
       "</div>"
      ],
      "text/plain": [
       "   Unnamed: 0  account number                         name       sku  \\\n",
       "0           0          740150                   Barton LLC  B1-20000   \n",
       "1           1          714466              Trantow-Barrows  S2-77896   \n",
       "2           2          218895                    Kulas Inc  B1-69924   \n",
       "3           3          307599  Kassulke, Ondricka and Metz  S1-65481   \n",
       "4           4          412290                Jerde-Hilpert  S2-34077   \n",
       "\n",
       "   quantity  unit price  ext price                date  cat   deltaT  norm  \\\n",
       "0        39       86.69    3380.91 2014-01-01 07:21:51    1      0.0     0   \n",
       "1        -1       63.16     -63.16 2014-01-01 10:00:47    1    536.0     0   \n",
       "2        23       90.70    2086.10 2014-01-01 13:24:58    1   2251.0     0   \n",
       "3        41       21.05     863.05 2014-01-01 15:05:22    1   2024.0     0   \n",
       "4         6       83.21     499.26 2014-01-01 23:26:55    1  30093.0     1   \n",
       "\n",
       "   sub_group  \n",
       "0          0  \n",
       "1          0  \n",
       "2          0  \n",
       "3          0  \n",
       "4          1  "
      ]
     },
     "execution_count": 44,
     "metadata": {},
     "output_type": "execute_result"
    }
   ],
   "source": [
    "ndf.head()"
   ]
  },
  {
   "cell_type": "code",
   "execution_count": 46,
   "metadata": {},
   "outputs": [],
   "source": [
    "df0 = ndf.groupby('name')"
   ]
  },
  {
   "cell_type": "code",
   "execution_count": 48,
   "metadata": {},
   "outputs": [
    {
     "data": {
      "text/plain": [
       "pandas.core.groupby.generic.DataFrameGroupBy"
      ]
     },
     "execution_count": 48,
     "metadata": {},
     "output_type": "execute_result"
    }
   ],
   "source": [
    "type(df0)"
   ]
  },
  {
   "cell_type": "code",
   "execution_count": 52,
   "metadata": {},
   "outputs": [],
   "source": [
    "df1 = ndf.loc[ndf['name'] == 'Trantow-Barrows']"
   ]
  },
  {
   "cell_type": "code",
   "execution_count": 53,
   "metadata": {},
   "outputs": [
    {
     "data": {
      "text/plain": [
       "pandas.core.frame.DataFrame"
      ]
     },
     "execution_count": 53,
     "metadata": {},
     "output_type": "execute_result"
    }
   ],
   "source": [
    "type(df1)"
   ]
  },
  {
   "cell_type": "code",
   "execution_count": 54,
   "metadata": {},
   "outputs": [
    {
     "data": {
      "text/html": [
       "<div>\n",
       "<style scoped>\n",
       "    .dataframe tbody tr th:only-of-type {\n",
       "        vertical-align: middle;\n",
       "    }\n",
       "\n",
       "    .dataframe tbody tr th {\n",
       "        vertical-align: top;\n",
       "    }\n",
       "\n",
       "    .dataframe thead th {\n",
       "        text-align: right;\n",
       "    }\n",
       "</style>\n",
       "<table border=\"1\" class=\"dataframe\">\n",
       "  <thead>\n",
       "    <tr style=\"text-align: right;\">\n",
       "      <th></th>\n",
       "      <th>Unnamed: 0</th>\n",
       "      <th>account number</th>\n",
       "      <th>name</th>\n",
       "      <th>sku</th>\n",
       "      <th>quantity</th>\n",
       "      <th>unit price</th>\n",
       "      <th>ext price</th>\n",
       "      <th>date</th>\n",
       "      <th>cat</th>\n",
       "      <th>deltaT</th>\n",
       "      <th>norm</th>\n",
       "      <th>sub_group</th>\n",
       "    </tr>\n",
       "  </thead>\n",
       "  <tbody>\n",
       "    <tr>\n",
       "      <th>1</th>\n",
       "      <td>1</td>\n",
       "      <td>714466</td>\n",
       "      <td>Trantow-Barrows</td>\n",
       "      <td>S2-77896</td>\n",
       "      <td>-1</td>\n",
       "      <td>63.16</td>\n",
       "      <td>-63.16</td>\n",
       "      <td>2014-01-01 10:00:47</td>\n",
       "      <td>1</td>\n",
       "      <td>536.0</td>\n",
       "      <td>0</td>\n",
       "      <td>0</td>\n",
       "    </tr>\n",
       "    <tr>\n",
       "      <th>5</th>\n",
       "      <td>5</td>\n",
       "      <td>714466</td>\n",
       "      <td>Trantow-Barrows</td>\n",
       "      <td>S2-77896</td>\n",
       "      <td>17</td>\n",
       "      <td>87.63</td>\n",
       "      <td>1489.71</td>\n",
       "      <td>2014-01-02 10:07:15</td>\n",
       "      <td>1</td>\n",
       "      <td>38420.0</td>\n",
       "      <td>1</td>\n",
       "      <td>2</td>\n",
       "    </tr>\n",
       "    <tr>\n",
       "      <th>8</th>\n",
       "      <td>8</td>\n",
       "      <td>714466</td>\n",
       "      <td>Trantow-Barrows</td>\n",
       "      <td>S1-50961</td>\n",
       "      <td>22</td>\n",
       "      <td>84.09</td>\n",
       "      <td>1849.98</td>\n",
       "      <td>2014-01-03 11:29:02</td>\n",
       "      <td>1</td>\n",
       "      <td>2811.0</td>\n",
       "      <td>0</td>\n",
       "      <td>2</td>\n",
       "    </tr>\n",
       "    <tr>\n",
       "      <th>23</th>\n",
       "      <td>23</td>\n",
       "      <td>714466</td>\n",
       "      <td>Trantow-Barrows</td>\n",
       "      <td>S1-30248</td>\n",
       "      <td>-1</td>\n",
       "      <td>16.97</td>\n",
       "      <td>-16.97</td>\n",
       "      <td>2014-01-06 18:27:28</td>\n",
       "      <td>1</td>\n",
       "      <td>2219.0</td>\n",
       "      <td>0</td>\n",
       "      <td>4</td>\n",
       "    </tr>\n",
       "    <tr>\n",
       "      <th>28</th>\n",
       "      <td>28</td>\n",
       "      <td>714466</td>\n",
       "      <td>Trantow-Barrows</td>\n",
       "      <td>B1-38851</td>\n",
       "      <td>4</td>\n",
       "      <td>60.04</td>\n",
       "      <td>240.16</td>\n",
       "      <td>2014-01-08 11:50:18</td>\n",
       "      <td>1</td>\n",
       "      <td>2610.0</td>\n",
       "      <td>0</td>\n",
       "      <td>5</td>\n",
       "    </tr>\n",
       "  </tbody>\n",
       "</table>\n",
       "</div>"
      ],
      "text/plain": [
       "    Unnamed: 0  account number             name       sku  quantity  \\\n",
       "1            1          714466  Trantow-Barrows  S2-77896        -1   \n",
       "5            5          714466  Trantow-Barrows  S2-77896        17   \n",
       "8            8          714466  Trantow-Barrows  S1-50961        22   \n",
       "23          23          714466  Trantow-Barrows  S1-30248        -1   \n",
       "28          28          714466  Trantow-Barrows  B1-38851         4   \n",
       "\n",
       "    unit price  ext price                date  cat   deltaT  norm  sub_group  \n",
       "1        63.16     -63.16 2014-01-01 10:00:47    1    536.0     0          0  \n",
       "5        87.63    1489.71 2014-01-02 10:07:15    1  38420.0     1          2  \n",
       "8        84.09    1849.98 2014-01-03 11:29:02    1   2811.0     0          2  \n",
       "23       16.97     -16.97 2014-01-06 18:27:28    1   2219.0     0          4  \n",
       "28       60.04     240.16 2014-01-08 11:50:18    1   2610.0     0          5  "
      ]
     },
     "execution_count": 54,
     "metadata": {},
     "output_type": "execute_result"
    }
   ],
   "source": [
    "df1.head()"
   ]
  },
  {
   "cell_type": "code",
   "execution_count": 55,
   "metadata": {},
   "outputs": [
    {
     "data": {
      "text/plain": [
       "array([ 4,  1,  6,  9,  6, 23,  3, 11, 16,  8,  1,  8])"
      ]
     },
     "execution_count": 55,
     "metadata": {},
     "output_type": "execute_result"
    }
   ],
   "source": [
    "df_a.to_numpy()"
   ]
  },
  {
   "cell_type": "code",
   "execution_count": 73,
   "metadata": {},
   "outputs": [
    {
     "data": {
      "text/plain": [
       "name\n",
       "Barton LLC                                         [30, 30, 30]\n",
       "Cronin, Oberbrunner and Spencer                            [30]\n",
       "Frami, Hills and Schmidt                   [30, 30, 30, 30, 30]\n",
       "Fritsch, Russel and Anderson       [30, 30, 30, 30, 30, 30, 30]\n",
       "Halvorson, Crona and Champlin                      [30, 30, 30]\n",
       "dtype: object"
      ]
     },
     "execution_count": 73,
     "metadata": {},
     "output_type": "execute_result"
    }
   ],
   "source": [
    "df4.head(5)"
   ]
  },
  {
   "cell_type": "code",
   "execution_count": 58,
   "metadata": {},
   "outputs": [
    {
     "data": {
      "text/plain": [
       "pandas.core.series.Series"
      ]
     },
     "execution_count": 58,
     "metadata": {},
     "output_type": "execute_result"
    }
   ],
   "source": [
    "type(df4)"
   ]
  },
  {
   "cell_type": "code",
   "execution_count": 60,
   "metadata": {},
   "outputs": [],
   "source": [
    "df = pd.read_excel('/Users/smuel/Developer/Python/Louie7Predictors/sample-salesv3.xlsx')\n",
    "df['date'] = pd.to_datetime(df['date'])"
   ]
  },
  {
   "cell_type": "code",
   "execution_count": null,
   "metadata": {},
   "outputs": [],
   "source": []
  },
  {
   "cell_type": "code",
   "execution_count": 63,
   "metadata": {},
   "outputs": [],
   "source": [
    "df['deltaT'] = (df['date'] - df['date'].shift()).fillna(pd.Timedelta('0 days'))"
   ]
  },
  {
   "cell_type": "code",
   "execution_count": 65,
   "metadata": {},
   "outputs": [],
   "source": [
    "df['deltaT'] = pd.to_timedelta(df['deltaT']).dt.total_seconds()"
   ]
  },
  {
   "cell_type": "code",
   "execution_count": 67,
   "metadata": {},
   "outputs": [],
   "source": [
    "df['Dur'] = df.deltaT.apply(lambda x : 0 if x <= 10000 else 1)\n",
    "df['Dur'] = df.Dur.cumsum()"
   ]
  },
  {
   "cell_type": "code",
   "execution_count": 82,
   "metadata": {},
   "outputs": [],
   "source": [
    "df0 = 30 * df.groupby('Dur').apply(lambda x : (df['name'], x.shape[0]))"
   ]
  },
  {
   "cell_type": "code",
   "execution_count": 83,
   "metadata": {},
   "outputs": [
    {
     "data": {
      "text/plain": [
       "pandas.core.series.Series"
      ]
     },
     "execution_count": 83,
     "metadata": {},
     "output_type": "execute_result"
    }
   ],
   "source": [
    "type(df0)"
   ]
  },
  {
   "cell_type": "code",
   "execution_count": 9,
   "metadata": {},
   "outputs": [],
   "source": [
    "dfx =  pd.read_csv('/Users/smuel/Developer/Python/Louie7Predictors/sample_salesv3.csv')\n",
    "dfx['date'] = pd.to_datetime(dfx['date'])"
   ]
  },
  {
   "cell_type": "code",
   "execution_count": 10,
   "metadata": {},
   "outputs": [
    {
     "data": {
      "text/html": [
       "<div>\n",
       "<style scoped>\n",
       "    .dataframe tbody tr th:only-of-type {\n",
       "        vertical-align: middle;\n",
       "    }\n",
       "\n",
       "    .dataframe tbody tr th {\n",
       "        vertical-align: top;\n",
       "    }\n",
       "\n",
       "    .dataframe thead th {\n",
       "        text-align: right;\n",
       "    }\n",
       "</style>\n",
       "<table border=\"1\" class=\"dataframe\">\n",
       "  <thead>\n",
       "    <tr style=\"text-align: right;\">\n",
       "      <th></th>\n",
       "      <th>Unnamed: 0</th>\n",
       "      <th>account number</th>\n",
       "      <th>name</th>\n",
       "      <th>sku</th>\n",
       "      <th>quantity</th>\n",
       "      <th>unit price</th>\n",
       "      <th>ext price</th>\n",
       "      <th>date</th>\n",
       "    </tr>\n",
       "  </thead>\n",
       "  <tbody>\n",
       "    <tr>\n",
       "      <th>0</th>\n",
       "      <td>0</td>\n",
       "      <td>740150</td>\n",
       "      <td>BartonLLC</td>\n",
       "      <td>B1-20000</td>\n",
       "      <td>39</td>\n",
       "      <td>86.69</td>\n",
       "      <td>3380.91</td>\n",
       "      <td>2014-01-01 07:21:00</td>\n",
       "    </tr>\n",
       "    <tr>\n",
       "      <th>1</th>\n",
       "      <td>1</td>\n",
       "      <td>714466</td>\n",
       "      <td>BartonLLC</td>\n",
       "      <td>S2-77896</td>\n",
       "      <td>-1</td>\n",
       "      <td>63.16</td>\n",
       "      <td>-63.16</td>\n",
       "      <td>2014-01-01 07:21:30</td>\n",
       "    </tr>\n",
       "    <tr>\n",
       "      <th>2</th>\n",
       "      <td>2</td>\n",
       "      <td>218895</td>\n",
       "      <td>BartonLLC</td>\n",
       "      <td>B1-69924</td>\n",
       "      <td>23</td>\n",
       "      <td>90.70</td>\n",
       "      <td>2086.10</td>\n",
       "      <td>2014-01-01 07:22:00</td>\n",
       "    </tr>\n",
       "    <tr>\n",
       "      <th>3</th>\n",
       "      <td>3</td>\n",
       "      <td>307599</td>\n",
       "      <td>BartonLLC</td>\n",
       "      <td>S1-65481</td>\n",
       "      <td>41</td>\n",
       "      <td>21.05</td>\n",
       "      <td>863.05</td>\n",
       "      <td>2014-01-01 07:22:30</td>\n",
       "    </tr>\n",
       "    <tr>\n",
       "      <th>4</th>\n",
       "      <td>4</td>\n",
       "      <td>412290</td>\n",
       "      <td>Kassulke</td>\n",
       "      <td>S2-34077</td>\n",
       "      <td>6</td>\n",
       "      <td>83.21</td>\n",
       "      <td>499.26</td>\n",
       "      <td>2014-01-01 07:23:00</td>\n",
       "    </tr>\n",
       "  </tbody>\n",
       "</table>\n",
       "</div>"
      ],
      "text/plain": [
       "   Unnamed: 0  account number       name       sku  quantity  unit price  \\\n",
       "0           0          740150  BartonLLC  B1-20000        39       86.69   \n",
       "1           1          714466  BartonLLC  S2-77896        -1       63.16   \n",
       "2           2          218895  BartonLLC  B1-69924        23       90.70   \n",
       "3           3          307599  BartonLLC  S1-65481        41       21.05   \n",
       "4           4          412290   Kassulke  S2-34077         6       83.21   \n",
       "\n",
       "   ext price                date  \n",
       "0    3380.91 2014-01-01 07:21:00  \n",
       "1     -63.16 2014-01-01 07:21:30  \n",
       "2    2086.10 2014-01-01 07:22:00  \n",
       "3     863.05 2014-01-01 07:22:30  \n",
       "4     499.26 2014-01-01 07:23:00  "
      ]
     },
     "execution_count": 10,
     "metadata": {},
     "output_type": "execute_result"
    }
   ],
   "source": [
    "dfx.head(5)"
   ]
  },
  {
   "cell_type": "code",
   "execution_count": 225,
   "metadata": {},
   "outputs": [],
   "source": [
    "df0 = dfx.loc[dfx['name'] == 'BartonLLC']"
   ]
  },
  {
   "cell_type": "code",
   "execution_count": 228,
   "metadata": {},
   "outputs": [],
   "source": [
    "df0['deltaT'] = (df0['date'] - df0['date'].shift()).fillna(pd.Timedelta('0 days'))"
   ]
  },
  {
   "cell_type": "code",
   "execution_count": 229,
   "metadata": {},
   "outputs": [],
   "source": [
    "df0['deltaT'] = pd.to_timedelta(df0['deltaT']).dt.total_seconds()"
   ]
  },
  {
   "cell_type": "code",
   "execution_count": 230,
   "metadata": {},
   "outputs": [],
   "source": [
    "df0['dur'] = df0.deltaT.apply(lambda x : 1 if x > 31.0 else 0)"
   ]
  },
  {
   "cell_type": "code",
   "execution_count": 231,
   "metadata": {},
   "outputs": [],
   "source": [
    "df0['dur'] = df0.dur.cumsum()"
   ]
  },
  {
   "cell_type": "code",
   "execution_count": 379,
   "metadata": {},
   "outputs": [
    {
     "data": {
      "text/html": [
       "<div>\n",
       "<style scoped>\n",
       "    .dataframe tbody tr th:only-of-type {\n",
       "        vertical-align: middle;\n",
       "    }\n",
       "\n",
       "    .dataframe tbody tr th {\n",
       "        vertical-align: top;\n",
       "    }\n",
       "\n",
       "    .dataframe thead th {\n",
       "        text-align: right;\n",
       "    }\n",
       "</style>\n",
       "<table border=\"1\" class=\"dataframe\">\n",
       "  <thead>\n",
       "    <tr style=\"text-align: right;\">\n",
       "      <th></th>\n",
       "      <th>Unnamed: 0</th>\n",
       "      <th>account number</th>\n",
       "      <th>name</th>\n",
       "      <th>sku</th>\n",
       "      <th>quantity</th>\n",
       "      <th>unit price</th>\n",
       "      <th>ext price</th>\n",
       "      <th>date</th>\n",
       "      <th>dur</th>\n",
       "      <th>deltaT</th>\n",
       "    </tr>\n",
       "  </thead>\n",
       "  <tbody>\n",
       "    <tr>\n",
       "      <th>0</th>\n",
       "      <td>0</td>\n",
       "      <td>740150</td>\n",
       "      <td>BartonLLC</td>\n",
       "      <td>B1-20000</td>\n",
       "      <td>39</td>\n",
       "      <td>86.69</td>\n",
       "      <td>3380.91</td>\n",
       "      <td>2014-01-01 07:21:00</td>\n",
       "      <td>0 days 00:00:00</td>\n",
       "      <td>0 days 00:00:00</td>\n",
       "    </tr>\n",
       "    <tr>\n",
       "      <th>1</th>\n",
       "      <td>1</td>\n",
       "      <td>714466</td>\n",
       "      <td>BartonLLC</td>\n",
       "      <td>S2-77896</td>\n",
       "      <td>-1</td>\n",
       "      <td>63.16</td>\n",
       "      <td>-63.16</td>\n",
       "      <td>2014-01-01 07:21:30</td>\n",
       "      <td>0 days 00:00:30</td>\n",
       "      <td>0 days 00:00:30</td>\n",
       "    </tr>\n",
       "    <tr>\n",
       "      <th>2</th>\n",
       "      <td>2</td>\n",
       "      <td>218895</td>\n",
       "      <td>BartonLLC</td>\n",
       "      <td>B1-69924</td>\n",
       "      <td>23</td>\n",
       "      <td>90.70</td>\n",
       "      <td>2086.10</td>\n",
       "      <td>2014-01-01 07:22:00</td>\n",
       "      <td>0 days 00:00:30</td>\n",
       "      <td>0 days 00:00:30</td>\n",
       "    </tr>\n",
       "    <tr>\n",
       "      <th>3</th>\n",
       "      <td>3</td>\n",
       "      <td>307599</td>\n",
       "      <td>BartonLLC</td>\n",
       "      <td>S1-65481</td>\n",
       "      <td>41</td>\n",
       "      <td>21.05</td>\n",
       "      <td>863.05</td>\n",
       "      <td>2014-01-01 07:22:30</td>\n",
       "      <td>0 days 00:00:30</td>\n",
       "      <td>0 days 00:00:30</td>\n",
       "    </tr>\n",
       "    <tr>\n",
       "      <th>29</th>\n",
       "      <td>29</td>\n",
       "      <td>729833</td>\n",
       "      <td>BartonLLC</td>\n",
       "      <td>B1-86481</td>\n",
       "      <td>6</td>\n",
       "      <td>81.79</td>\n",
       "      <td>490.74</td>\n",
       "      <td>2014-01-01 07:35:30</td>\n",
       "      <td>0 days 00:13:00</td>\n",
       "      <td>0 days 00:13:00</td>\n",
       "    </tr>\n",
       "    <tr>\n",
       "      <th>30</th>\n",
       "      <td>30</td>\n",
       "      <td>642753</td>\n",
       "      <td>BartonLLC</td>\n",
       "      <td>S1-93683</td>\n",
       "      <td>4</td>\n",
       "      <td>87.18</td>\n",
       "      <td>348.72</td>\n",
       "      <td>2014-01-01 07:36:00</td>\n",
       "      <td>0 days 00:00:30</td>\n",
       "      <td>0 days 00:00:30</td>\n",
       "    </tr>\n",
       "    <tr>\n",
       "      <th>31</th>\n",
       "      <td>31</td>\n",
       "      <td>714466</td>\n",
       "      <td>BartonLLC</td>\n",
       "      <td>B1-33087</td>\n",
       "      <td>32</td>\n",
       "      <td>19.56</td>\n",
       "      <td>625.92</td>\n",
       "      <td>2014-01-01 07:36:30</td>\n",
       "      <td>0 days 00:00:30</td>\n",
       "      <td>0 days 00:00:30</td>\n",
       "    </tr>\n",
       "    <tr>\n",
       "      <th>32</th>\n",
       "      <td>32</td>\n",
       "      <td>737550</td>\n",
       "      <td>BartonLLC</td>\n",
       "      <td>S1-27722</td>\n",
       "      <td>20</td>\n",
       "      <td>29.54</td>\n",
       "      <td>590.80</td>\n",
       "      <td>2014-01-01 07:37:00</td>\n",
       "      <td>0 days 00:00:30</td>\n",
       "      <td>0 days 00:00:30</td>\n",
       "    </tr>\n",
       "    <tr>\n",
       "      <th>33</th>\n",
       "      <td>33</td>\n",
       "      <td>218895</td>\n",
       "      <td>BartonLLC</td>\n",
       "      <td>S1-06532</td>\n",
       "      <td>3</td>\n",
       "      <td>22.36</td>\n",
       "      <td>67.08</td>\n",
       "      <td>2014-01-01 07:37:30</td>\n",
       "      <td>0 days 00:00:30</td>\n",
       "      <td>0 days 00:00:30</td>\n",
       "    </tr>\n",
       "    <tr>\n",
       "      <th>34</th>\n",
       "      <td>34</td>\n",
       "      <td>307599</td>\n",
       "      <td>BartonLLC</td>\n",
       "      <td>S2-78676</td>\n",
       "      <td>35</td>\n",
       "      <td>33.04</td>\n",
       "      <td>1156.40</td>\n",
       "      <td>2014-01-01 07:38:00</td>\n",
       "      <td>0 days 00:00:30</td>\n",
       "      <td>0 days 00:00:30</td>\n",
       "    </tr>\n",
       "  </tbody>\n",
       "</table>\n",
       "</div>"
      ],
      "text/plain": [
       "    Unnamed: 0  account number       name       sku  quantity  unit price  \\\n",
       "0            0          740150  BartonLLC  B1-20000        39       86.69   \n",
       "1            1          714466  BartonLLC  S2-77896        -1       63.16   \n",
       "2            2          218895  BartonLLC  B1-69924        23       90.70   \n",
       "3            3          307599  BartonLLC  S1-65481        41       21.05   \n",
       "29          29          729833  BartonLLC  B1-86481         6       81.79   \n",
       "30          30          642753  BartonLLC  S1-93683         4       87.18   \n",
       "31          31          714466  BartonLLC  B1-33087        32       19.56   \n",
       "32          32          737550  BartonLLC  S1-27722        20       29.54   \n",
       "33          33          218895  BartonLLC  S1-06532         3       22.36   \n",
       "34          34          307599  BartonLLC  S2-78676        35       33.04   \n",
       "\n",
       "    ext price                date             dur          deltaT  \n",
       "0     3380.91 2014-01-01 07:21:00 0 days 00:00:00 0 days 00:00:00  \n",
       "1      -63.16 2014-01-01 07:21:30 0 days 00:00:30 0 days 00:00:30  \n",
       "2     2086.10 2014-01-01 07:22:00 0 days 00:00:30 0 days 00:00:30  \n",
       "3      863.05 2014-01-01 07:22:30 0 days 00:00:30 0 days 00:00:30  \n",
       "29     490.74 2014-01-01 07:35:30 0 days 00:13:00 0 days 00:13:00  \n",
       "30     348.72 2014-01-01 07:36:00 0 days 00:00:30 0 days 00:00:30  \n",
       "31     625.92 2014-01-01 07:36:30 0 days 00:00:30 0 days 00:00:30  \n",
       "32     590.80 2014-01-01 07:37:00 0 days 00:00:30 0 days 00:00:30  \n",
       "33      67.08 2014-01-01 07:37:30 0 days 00:00:30 0 days 00:00:30  \n",
       "34    1156.40 2014-01-01 07:38:00 0 days 00:00:30 0 days 00:00:30  "
      ]
     },
     "execution_count": 379,
     "metadata": {},
     "output_type": "execute_result"
    }
   ],
   "source": [
    "df0.head(10)"
   ]
  },
  {
   "cell_type": "code",
   "execution_count": 233,
   "metadata": {},
   "outputs": [],
   "source": [
    "ar = 10 * df0.groupby('dur').apply(lambda x : x.shape[0]).to_numpy()"
   ]
  },
  {
   "cell_type": "code",
   "execution_count": 234,
   "metadata": {},
   "outputs": [
    {
     "data": {
      "text/plain": [
       "array([40, 80])"
      ]
     },
     "execution_count": 234,
     "metadata": {},
     "output_type": "execute_result"
    }
   ],
   "source": [
    "ar"
   ]
  },
  {
   "cell_type": "code",
   "execution_count": 11,
   "metadata": {},
   "outputs": [],
   "source": [
    "df0['deltaT'] = (df0['date'] - df0['date'].shift()).fillna(pd.Timedelta('0 days'))"
   ]
  },
  {
   "cell_type": "code",
   "execution_count": 13,
   "metadata": {},
   "outputs": [],
   "source": [
    "dfx['deltaT'] = pd.to_timedelta(dfx['deltaT']).dt.total_seconds()"
   ]
  },
  {
   "cell_type": "code",
   "execution_count": 15,
   "metadata": {},
   "outputs": [],
   "source": [
    "dfx['dur'] = dfx.deltaT.apply(lambda x : 1 if x > 31.0 else 0)"
   ]
  },
  {
   "cell_type": "code",
   "execution_count": 17,
   "metadata": {},
   "outputs": [],
   "source": [
    "dfx['dur'] = dfx.dur.cumsum()"
   ]
  },
  {
   "cell_type": "code",
   "execution_count": 380,
   "metadata": {},
   "outputs": [
    {
     "data": {
      "text/html": [
       "<div>\n",
       "<style scoped>\n",
       "    .dataframe tbody tr th:only-of-type {\n",
       "        vertical-align: middle;\n",
       "    }\n",
       "\n",
       "    .dataframe tbody tr th {\n",
       "        vertical-align: top;\n",
       "    }\n",
       "\n",
       "    .dataframe thead th {\n",
       "        text-align: right;\n",
       "    }\n",
       "</style>\n",
       "<table border=\"1\" class=\"dataframe\">\n",
       "  <thead>\n",
       "    <tr style=\"text-align: right;\">\n",
       "      <th></th>\n",
       "      <th>Unnamed: 0</th>\n",
       "      <th>account number</th>\n",
       "      <th>name</th>\n",
       "      <th>sku</th>\n",
       "      <th>quantity</th>\n",
       "      <th>unit price</th>\n",
       "      <th>ext price</th>\n",
       "      <th>date</th>\n",
       "      <th>deltaT</th>\n",
       "      <th>dur</th>\n",
       "    </tr>\n",
       "  </thead>\n",
       "  <tbody>\n",
       "    <tr>\n",
       "      <th>0</th>\n",
       "      <td>0</td>\n",
       "      <td>740150</td>\n",
       "      <td>BartonLLC</td>\n",
       "      <td>B1-20000</td>\n",
       "      <td>39</td>\n",
       "      <td>86.69</td>\n",
       "      <td>3380.91</td>\n",
       "      <td>2014-01-01 07:21:00</td>\n",
       "      <td>0.0</td>\n",
       "      <td>0</td>\n",
       "    </tr>\n",
       "    <tr>\n",
       "      <th>1</th>\n",
       "      <td>1</td>\n",
       "      <td>714466</td>\n",
       "      <td>BartonLLC</td>\n",
       "      <td>S2-77896</td>\n",
       "      <td>-1</td>\n",
       "      <td>63.16</td>\n",
       "      <td>-63.16</td>\n",
       "      <td>2014-01-01 07:21:30</td>\n",
       "      <td>30.0</td>\n",
       "      <td>0</td>\n",
       "    </tr>\n",
       "    <tr>\n",
       "      <th>2</th>\n",
       "      <td>2</td>\n",
       "      <td>218895</td>\n",
       "      <td>BartonLLC</td>\n",
       "      <td>B1-69924</td>\n",
       "      <td>23</td>\n",
       "      <td>90.70</td>\n",
       "      <td>2086.10</td>\n",
       "      <td>2014-01-01 07:22:00</td>\n",
       "      <td>30.0</td>\n",
       "      <td>0</td>\n",
       "    </tr>\n",
       "    <tr>\n",
       "      <th>3</th>\n",
       "      <td>3</td>\n",
       "      <td>307599</td>\n",
       "      <td>BartonLLC</td>\n",
       "      <td>S1-65481</td>\n",
       "      <td>41</td>\n",
       "      <td>21.05</td>\n",
       "      <td>863.05</td>\n",
       "      <td>2014-01-01 07:22:30</td>\n",
       "      <td>30.0</td>\n",
       "      <td>0</td>\n",
       "    </tr>\n",
       "    <tr>\n",
       "      <th>4</th>\n",
       "      <td>4</td>\n",
       "      <td>412290</td>\n",
       "      <td>Kassulke</td>\n",
       "      <td>S2-34077</td>\n",
       "      <td>6</td>\n",
       "      <td>83.21</td>\n",
       "      <td>499.26</td>\n",
       "      <td>2014-01-01 07:23:00</td>\n",
       "      <td>30.0</td>\n",
       "      <td>0</td>\n",
       "    </tr>\n",
       "    <tr>\n",
       "      <th>5</th>\n",
       "      <td>5</td>\n",
       "      <td>714466</td>\n",
       "      <td>KulasInc</td>\n",
       "      <td>S2-77896</td>\n",
       "      <td>17</td>\n",
       "      <td>87.63</td>\n",
       "      <td>1489.71</td>\n",
       "      <td>2014-01-01 07:23:30</td>\n",
       "      <td>30.0</td>\n",
       "      <td>0</td>\n",
       "    </tr>\n",
       "    <tr>\n",
       "      <th>6</th>\n",
       "      <td>6</td>\n",
       "      <td>218895</td>\n",
       "      <td>KulasInc</td>\n",
       "      <td>B1-65551</td>\n",
       "      <td>2</td>\n",
       "      <td>31.10</td>\n",
       "      <td>62.20</td>\n",
       "      <td>2014-01-01 07:24:00</td>\n",
       "      <td>30.0</td>\n",
       "      <td>0</td>\n",
       "    </tr>\n",
       "    <tr>\n",
       "      <th>7</th>\n",
       "      <td>7</td>\n",
       "      <td>729833</td>\n",
       "      <td>KulasInc</td>\n",
       "      <td>S1-30248</td>\n",
       "      <td>8</td>\n",
       "      <td>33.25</td>\n",
       "      <td>266.00</td>\n",
       "      <td>2014-01-01 07:24:30</td>\n",
       "      <td>30.0</td>\n",
       "      <td>0</td>\n",
       "    </tr>\n",
       "    <tr>\n",
       "      <th>8</th>\n",
       "      <td>8</td>\n",
       "      <td>714466</td>\n",
       "      <td>KulasInc</td>\n",
       "      <td>S1-50961</td>\n",
       "      <td>22</td>\n",
       "      <td>84.09</td>\n",
       "      <td>1849.98</td>\n",
       "      <td>2014-01-01 07:25:00</td>\n",
       "      <td>30.0</td>\n",
       "      <td>0</td>\n",
       "    </tr>\n",
       "    <tr>\n",
       "      <th>9</th>\n",
       "      <td>9</td>\n",
       "      <td>737550</td>\n",
       "      <td>KulasInc</td>\n",
       "      <td>S2-82423</td>\n",
       "      <td>14</td>\n",
       "      <td>81.92</td>\n",
       "      <td>1146.88</td>\n",
       "      <td>2014-01-01 07:25:30</td>\n",
       "      <td>30.0</td>\n",
       "      <td>0</td>\n",
       "    </tr>\n",
       "  </tbody>\n",
       "</table>\n",
       "</div>"
      ],
      "text/plain": [
       "   Unnamed: 0  account number       name       sku  quantity  unit price  \\\n",
       "0           0          740150  BartonLLC  B1-20000        39       86.69   \n",
       "1           1          714466  BartonLLC  S2-77896        -1       63.16   \n",
       "2           2          218895  BartonLLC  B1-69924        23       90.70   \n",
       "3           3          307599  BartonLLC  S1-65481        41       21.05   \n",
       "4           4          412290   Kassulke  S2-34077         6       83.21   \n",
       "5           5          714466   KulasInc  S2-77896        17       87.63   \n",
       "6           6          218895   KulasInc  B1-65551         2       31.10   \n",
       "7           7          729833   KulasInc  S1-30248         8       33.25   \n",
       "8           8          714466   KulasInc  S1-50961        22       84.09   \n",
       "9           9          737550   KulasInc  S2-82423        14       81.92   \n",
       "\n",
       "   ext price                date  deltaT  dur  \n",
       "0    3380.91 2014-01-01 07:21:00     0.0    0  \n",
       "1     -63.16 2014-01-01 07:21:30    30.0    0  \n",
       "2    2086.10 2014-01-01 07:22:00    30.0    0  \n",
       "3     863.05 2014-01-01 07:22:30    30.0    0  \n",
       "4     499.26 2014-01-01 07:23:00    30.0    0  \n",
       "5    1489.71 2014-01-01 07:23:30    30.0    0  \n",
       "6      62.20 2014-01-01 07:24:00    30.0    0  \n",
       "7     266.00 2014-01-01 07:24:30    30.0    0  \n",
       "8    1849.98 2014-01-01 07:25:00    30.0    0  \n",
       "9    1146.88 2014-01-01 07:25:30    30.0    0  "
      ]
     },
     "execution_count": 380,
     "metadata": {},
     "output_type": "execute_result"
    }
   ],
   "source": [
    "dfx.head(10)"
   ]
  },
  {
   "cell_type": "code",
   "execution_count": 36,
   "metadata": {},
   "outputs": [],
   "source": [
    "np_list = dfx.groupby('name').apply(lambda x : x.groupby('dur').apply(lambda y : 10 * y.shape[0]).to_numpy())"
   ]
  },
  {
   "cell_type": "code",
   "execution_count": 37,
   "metadata": {},
   "outputs": [
    {
     "data": {
      "text/plain": [
       "name\n",
       "BartonLLC       [120]\n",
       "Fritsch          [30]\n",
       "Kassulke         [10]\n",
       "KeelingLLC       [90]\n",
       "KulasInc        [100]\n",
       "WhiteTrantow     [60]\n",
       "dtype: object"
      ]
     },
     "execution_count": 37,
     "metadata": {},
     "output_type": "execute_result"
    }
   ],
   "source": [
    "np_list"
   ]
  },
  {
   "cell_type": "code",
   "execution_count": 38,
   "metadata": {},
   "outputs": [
    {
     "data": {
      "text/plain": [
       "pandas.core.series.Series"
      ]
     },
     "execution_count": 38,
     "metadata": {},
     "output_type": "execute_result"
    }
   ],
   "source": [
    "type(np_list)"
   ]
  },
  {
   "cell_type": "code",
   "execution_count": 35,
   "metadata": {},
   "outputs": [
    {
     "data": {
      "text/plain": [
       "Int64Index([0], dtype='int64', name='dur')"
      ]
     },
     "execution_count": 35,
     "metadata": {},
     "output_type": "execute_result"
    }
   ],
   "source": [
    "np_list.columns"
   ]
  },
  {
   "cell_type": "code",
   "execution_count": 39,
   "metadata": {},
   "outputs": [
    {
     "data": {
      "text/plain": [
       "{'BartonLLC': array([120]),\n",
       " 'Fritsch': array([30]),\n",
       " 'Kassulke': array([10]),\n",
       " 'KeelingLLC': array([90]),\n",
       " 'KulasInc': array([100]),\n",
       " 'WhiteTrantow': array([60])}"
      ]
     },
     "execution_count": 39,
     "metadata": {},
     "output_type": "execute_result"
    }
   ],
   "source": [
    "np_list.to_dict()"
   ]
  },
  {
   "cell_type": "code",
   "execution_count": 53,
   "metadata": {},
   "outputs": [],
   "source": [
    "def dfWithDur(df):\n",
    "    # add column of time diff between 2 consecutive rows measure time delta in seconds.\n",
    "    X = (df['date'] - df['date'].shift()).fillna(pd.Timedelta('0 days'))\n",
    "    Y =  pd.to_timedelta(X).dt.total_seconds()\n",
    "    res =  1 if Y > (30+1) else 0\n",
    "    return res"
   ]
  },
  {
   "cell_type": "code",
   "execution_count": 54,
   "metadata": {},
   "outputs": [],
   "source": [
    "dfy =  pd.read_csv('/Users/smuel/Developer/Python/Louie7Predictors/sample_salesv3.csv')\n",
    "dfy['date'] = pd.to_datetime(dfy['date'])\n",
    "df0 = dfy.loc[dfy['name'] == 'BartonLLC']"
   ]
  },
  {
   "cell_type": "code",
   "execution_count": 57,
   "metadata": {},
   "outputs": [
    {
     "data": {
      "text/html": [
       "<div>\n",
       "<style scoped>\n",
       "    .dataframe tbody tr th:only-of-type {\n",
       "        vertical-align: middle;\n",
       "    }\n",
       "\n",
       "    .dataframe tbody tr th {\n",
       "        vertical-align: top;\n",
       "    }\n",
       "\n",
       "    .dataframe thead th {\n",
       "        text-align: right;\n",
       "    }\n",
       "</style>\n",
       "<table border=\"1\" class=\"dataframe\">\n",
       "  <thead>\n",
       "    <tr style=\"text-align: right;\">\n",
       "      <th></th>\n",
       "      <th>Unnamed: 0</th>\n",
       "      <th>account number</th>\n",
       "      <th>name</th>\n",
       "      <th>sku</th>\n",
       "      <th>quantity</th>\n",
       "      <th>unit price</th>\n",
       "      <th>ext price</th>\n",
       "      <th>date</th>\n",
       "    </tr>\n",
       "  </thead>\n",
       "  <tbody>\n",
       "    <tr>\n",
       "      <th>0</th>\n",
       "      <td>0</td>\n",
       "      <td>740150</td>\n",
       "      <td>BartonLLC</td>\n",
       "      <td>B1-20000</td>\n",
       "      <td>39</td>\n",
       "      <td>86.69</td>\n",
       "      <td>3380.91</td>\n",
       "      <td>2014-01-01 07:21:00</td>\n",
       "    </tr>\n",
       "    <tr>\n",
       "      <th>1</th>\n",
       "      <td>1</td>\n",
       "      <td>714466</td>\n",
       "      <td>BartonLLC</td>\n",
       "      <td>S2-77896</td>\n",
       "      <td>-1</td>\n",
       "      <td>63.16</td>\n",
       "      <td>-63.16</td>\n",
       "      <td>2014-01-01 07:21:30</td>\n",
       "    </tr>\n",
       "    <tr>\n",
       "      <th>2</th>\n",
       "      <td>2</td>\n",
       "      <td>218895</td>\n",
       "      <td>BartonLLC</td>\n",
       "      <td>B1-69924</td>\n",
       "      <td>23</td>\n",
       "      <td>90.70</td>\n",
       "      <td>2086.10</td>\n",
       "      <td>2014-01-01 07:22:00</td>\n",
       "    </tr>\n",
       "    <tr>\n",
       "      <th>3</th>\n",
       "      <td>3</td>\n",
       "      <td>307599</td>\n",
       "      <td>BartonLLC</td>\n",
       "      <td>S1-65481</td>\n",
       "      <td>41</td>\n",
       "      <td>21.05</td>\n",
       "      <td>863.05</td>\n",
       "      <td>2014-01-01 07:22:30</td>\n",
       "    </tr>\n",
       "    <tr>\n",
       "      <th>29</th>\n",
       "      <td>29</td>\n",
       "      <td>729833</td>\n",
       "      <td>BartonLLC</td>\n",
       "      <td>B1-86481</td>\n",
       "      <td>6</td>\n",
       "      <td>81.79</td>\n",
       "      <td>490.74</td>\n",
       "      <td>2014-01-01 07:35:30</td>\n",
       "    </tr>\n",
       "    <tr>\n",
       "      <th>30</th>\n",
       "      <td>30</td>\n",
       "      <td>642753</td>\n",
       "      <td>BartonLLC</td>\n",
       "      <td>S1-93683</td>\n",
       "      <td>4</td>\n",
       "      <td>87.18</td>\n",
       "      <td>348.72</td>\n",
       "      <td>2014-01-01 07:36:00</td>\n",
       "    </tr>\n",
       "    <tr>\n",
       "      <th>31</th>\n",
       "      <td>31</td>\n",
       "      <td>714466</td>\n",
       "      <td>BartonLLC</td>\n",
       "      <td>B1-33087</td>\n",
       "      <td>32</td>\n",
       "      <td>19.56</td>\n",
       "      <td>625.92</td>\n",
       "      <td>2014-01-01 07:36:30</td>\n",
       "    </tr>\n",
       "    <tr>\n",
       "      <th>32</th>\n",
       "      <td>32</td>\n",
       "      <td>737550</td>\n",
       "      <td>BartonLLC</td>\n",
       "      <td>S1-27722</td>\n",
       "      <td>20</td>\n",
       "      <td>29.54</td>\n",
       "      <td>590.80</td>\n",
       "      <td>2014-01-01 07:37:00</td>\n",
       "    </tr>\n",
       "    <tr>\n",
       "      <th>33</th>\n",
       "      <td>33</td>\n",
       "      <td>218895</td>\n",
       "      <td>BartonLLC</td>\n",
       "      <td>S1-06532</td>\n",
       "      <td>3</td>\n",
       "      <td>22.36</td>\n",
       "      <td>67.08</td>\n",
       "      <td>2014-01-01 07:37:30</td>\n",
       "    </tr>\n",
       "    <tr>\n",
       "      <th>34</th>\n",
       "      <td>34</td>\n",
       "      <td>307599</td>\n",
       "      <td>BartonLLC</td>\n",
       "      <td>S2-78676</td>\n",
       "      <td>35</td>\n",
       "      <td>33.04</td>\n",
       "      <td>1156.40</td>\n",
       "      <td>2014-01-01 07:38:00</td>\n",
       "    </tr>\n",
       "    <tr>\n",
       "      <th>35</th>\n",
       "      <td>35</td>\n",
       "      <td>527099</td>\n",
       "      <td>BartonLLC</td>\n",
       "      <td>S1-27722</td>\n",
       "      <td>48</td>\n",
       "      <td>43.40</td>\n",
       "      <td>2083.20</td>\n",
       "      <td>2014-01-01 07:38:30</td>\n",
       "    </tr>\n",
       "    <tr>\n",
       "      <th>36</th>\n",
       "      <td>36</td>\n",
       "      <td>218895</td>\n",
       "      <td>BartonLLC</td>\n",
       "      <td>S2-34077</td>\n",
       "      <td>16</td>\n",
       "      <td>73.04</td>\n",
       "      <td>1168.64</td>\n",
       "      <td>2014-01-01 07:39:00</td>\n",
       "    </tr>\n",
       "  </tbody>\n",
       "</table>\n",
       "</div>"
      ],
      "text/plain": [
       "    Unnamed: 0  account number       name       sku  quantity  unit price  \\\n",
       "0            0          740150  BartonLLC  B1-20000        39       86.69   \n",
       "1            1          714466  BartonLLC  S2-77896        -1       63.16   \n",
       "2            2          218895  BartonLLC  B1-69924        23       90.70   \n",
       "3            3          307599  BartonLLC  S1-65481        41       21.05   \n",
       "29          29          729833  BartonLLC  B1-86481         6       81.79   \n",
       "30          30          642753  BartonLLC  S1-93683         4       87.18   \n",
       "31          31          714466  BartonLLC  B1-33087        32       19.56   \n",
       "32          32          737550  BartonLLC  S1-27722        20       29.54   \n",
       "33          33          218895  BartonLLC  S1-06532         3       22.36   \n",
       "34          34          307599  BartonLLC  S2-78676        35       33.04   \n",
       "35          35          527099  BartonLLC  S1-27722        48       43.40   \n",
       "36          36          218895  BartonLLC  S2-34077        16       73.04   \n",
       "\n",
       "    ext price                date  \n",
       "0     3380.91 2014-01-01 07:21:00  \n",
       "1      -63.16 2014-01-01 07:21:30  \n",
       "2     2086.10 2014-01-01 07:22:00  \n",
       "3      863.05 2014-01-01 07:22:30  \n",
       "29     490.74 2014-01-01 07:35:30  \n",
       "30     348.72 2014-01-01 07:36:00  \n",
       "31     625.92 2014-01-01 07:36:30  \n",
       "32     590.80 2014-01-01 07:37:00  \n",
       "33      67.08 2014-01-01 07:37:30  \n",
       "34    1156.40 2014-01-01 07:38:00  \n",
       "35    2083.20 2014-01-01 07:38:30  \n",
       "36    1168.64 2014-01-01 07:39:00  "
      ]
     },
     "execution_count": 57,
     "metadata": {},
     "output_type": "execute_result"
    }
   ],
   "source": [
    "df0"
   ]
  },
  {
   "cell_type": "code",
   "execution_count": 80,
   "metadata": {},
   "outputs": [],
   "source": [
    "dfy['dur'] = dfy['date'].diff().apply(lambda x: x/np.timedelta64(1, 's')).fillna(0).astype('int64').apply(lambda x: 1 if x > 31 else 0)"
   ]
  },
  {
   "cell_type": "code",
   "execution_count": 104,
   "metadata": {},
   "outputs": [],
   "source": [
    "dfy =  pd.read_csv('/Users/smuel/Developer/Python/Louie7Predictors/sample_salesv3.csv')\n",
    "dfy['date'] = pd.to_datetime(dfy['date'])\n",
    "dfy = dfy.loc[dfy['name'] == 'BartonLLC']"
   ]
  },
  {
   "cell_type": "code",
   "execution_count": 106,
   "metadata": {},
   "outputs": [],
   "source": [
    "dfy = dfy.loc[dfy['name'] == 'BartonLLC']"
   ]
  },
  {
   "cell_type": "code",
   "execution_count": 107,
   "metadata": {
    "scrolled": true
   },
   "outputs": [
    {
     "data": {
      "text/html": [
       "<div>\n",
       "<style scoped>\n",
       "    .dataframe tbody tr th:only-of-type {\n",
       "        vertical-align: middle;\n",
       "    }\n",
       "\n",
       "    .dataframe tbody tr th {\n",
       "        vertical-align: top;\n",
       "    }\n",
       "\n",
       "    .dataframe thead th {\n",
       "        text-align: right;\n",
       "    }\n",
       "</style>\n",
       "<table border=\"1\" class=\"dataframe\">\n",
       "  <thead>\n",
       "    <tr style=\"text-align: right;\">\n",
       "      <th></th>\n",
       "      <th>Unnamed: 0</th>\n",
       "      <th>account number</th>\n",
       "      <th>name</th>\n",
       "      <th>sku</th>\n",
       "      <th>quantity</th>\n",
       "      <th>unit price</th>\n",
       "      <th>ext price</th>\n",
       "      <th>date</th>\n",
       "    </tr>\n",
       "  </thead>\n",
       "  <tbody>\n",
       "    <tr>\n",
       "      <th>0</th>\n",
       "      <td>0</td>\n",
       "      <td>740150</td>\n",
       "      <td>BartonLLC</td>\n",
       "      <td>B1-20000</td>\n",
       "      <td>39</td>\n",
       "      <td>86.69</td>\n",
       "      <td>3380.91</td>\n",
       "      <td>2014-01-01 07:21:00</td>\n",
       "    </tr>\n",
       "    <tr>\n",
       "      <th>1</th>\n",
       "      <td>1</td>\n",
       "      <td>714466</td>\n",
       "      <td>BartonLLC</td>\n",
       "      <td>S2-77896</td>\n",
       "      <td>-1</td>\n",
       "      <td>63.16</td>\n",
       "      <td>-63.16</td>\n",
       "      <td>2014-01-01 07:21:30</td>\n",
       "    </tr>\n",
       "    <tr>\n",
       "      <th>2</th>\n",
       "      <td>2</td>\n",
       "      <td>218895</td>\n",
       "      <td>BartonLLC</td>\n",
       "      <td>B1-69924</td>\n",
       "      <td>23</td>\n",
       "      <td>90.70</td>\n",
       "      <td>2086.10</td>\n",
       "      <td>2014-01-01 07:22:00</td>\n",
       "    </tr>\n",
       "    <tr>\n",
       "      <th>3</th>\n",
       "      <td>3</td>\n",
       "      <td>307599</td>\n",
       "      <td>BartonLLC</td>\n",
       "      <td>S1-65481</td>\n",
       "      <td>41</td>\n",
       "      <td>21.05</td>\n",
       "      <td>863.05</td>\n",
       "      <td>2014-01-01 07:22:30</td>\n",
       "    </tr>\n",
       "    <tr>\n",
       "      <th>29</th>\n",
       "      <td>29</td>\n",
       "      <td>729833</td>\n",
       "      <td>BartonLLC</td>\n",
       "      <td>B1-86481</td>\n",
       "      <td>6</td>\n",
       "      <td>81.79</td>\n",
       "      <td>490.74</td>\n",
       "      <td>2014-01-01 07:35:30</td>\n",
       "    </tr>\n",
       "    <tr>\n",
       "      <th>30</th>\n",
       "      <td>30</td>\n",
       "      <td>642753</td>\n",
       "      <td>BartonLLC</td>\n",
       "      <td>S1-93683</td>\n",
       "      <td>4</td>\n",
       "      <td>87.18</td>\n",
       "      <td>348.72</td>\n",
       "      <td>2014-01-01 07:36:00</td>\n",
       "    </tr>\n",
       "    <tr>\n",
       "      <th>31</th>\n",
       "      <td>31</td>\n",
       "      <td>714466</td>\n",
       "      <td>BartonLLC</td>\n",
       "      <td>B1-33087</td>\n",
       "      <td>32</td>\n",
       "      <td>19.56</td>\n",
       "      <td>625.92</td>\n",
       "      <td>2014-01-01 07:36:30</td>\n",
       "    </tr>\n",
       "    <tr>\n",
       "      <th>32</th>\n",
       "      <td>32</td>\n",
       "      <td>737550</td>\n",
       "      <td>BartonLLC</td>\n",
       "      <td>S1-27722</td>\n",
       "      <td>20</td>\n",
       "      <td>29.54</td>\n",
       "      <td>590.80</td>\n",
       "      <td>2014-01-01 07:37:00</td>\n",
       "    </tr>\n",
       "    <tr>\n",
       "      <th>33</th>\n",
       "      <td>33</td>\n",
       "      <td>218895</td>\n",
       "      <td>BartonLLC</td>\n",
       "      <td>S1-06532</td>\n",
       "      <td>3</td>\n",
       "      <td>22.36</td>\n",
       "      <td>67.08</td>\n",
       "      <td>2014-01-01 07:37:30</td>\n",
       "    </tr>\n",
       "    <tr>\n",
       "      <th>34</th>\n",
       "      <td>34</td>\n",
       "      <td>307599</td>\n",
       "      <td>BartonLLC</td>\n",
       "      <td>S2-78676</td>\n",
       "      <td>35</td>\n",
       "      <td>33.04</td>\n",
       "      <td>1156.40</td>\n",
       "      <td>2014-01-01 07:38:00</td>\n",
       "    </tr>\n",
       "  </tbody>\n",
       "</table>\n",
       "</div>"
      ],
      "text/plain": [
       "    Unnamed: 0  account number       name       sku  quantity  unit price  \\\n",
       "0            0          740150  BartonLLC  B1-20000        39       86.69   \n",
       "1            1          714466  BartonLLC  S2-77896        -1       63.16   \n",
       "2            2          218895  BartonLLC  B1-69924        23       90.70   \n",
       "3            3          307599  BartonLLC  S1-65481        41       21.05   \n",
       "29          29          729833  BartonLLC  B1-86481         6       81.79   \n",
       "30          30          642753  BartonLLC  S1-93683         4       87.18   \n",
       "31          31          714466  BartonLLC  B1-33087        32       19.56   \n",
       "32          32          737550  BartonLLC  S1-27722        20       29.54   \n",
       "33          33          218895  BartonLLC  S1-06532         3       22.36   \n",
       "34          34          307599  BartonLLC  S2-78676        35       33.04   \n",
       "\n",
       "    ext price                date  \n",
       "0     3380.91 2014-01-01 07:21:00  \n",
       "1      -63.16 2014-01-01 07:21:30  \n",
       "2     2086.10 2014-01-01 07:22:00  \n",
       "3      863.05 2014-01-01 07:22:30  \n",
       "29     490.74 2014-01-01 07:35:30  \n",
       "30     348.72 2014-01-01 07:36:00  \n",
       "31     625.92 2014-01-01 07:36:30  \n",
       "32     590.80 2014-01-01 07:37:00  \n",
       "33      67.08 2014-01-01 07:37:30  \n",
       "34    1156.40 2014-01-01 07:38:00  "
      ]
     },
     "execution_count": 107,
     "metadata": {},
     "output_type": "execute_result"
    }
   ],
   "source": [
    "dfy.head(10)"
   ]
  },
  {
   "cell_type": "code",
   "execution_count": 108,
   "metadata": {},
   "outputs": [],
   "source": [
    "dfy['dur'] = dfy['date'].diff().apply(lambda x: x/np.timedelta64(1, 's')).fillna(0).astype('int64').apply(lambda x: 1 if x > 31 else 0)"
   ]
  },
  {
   "cell_type": "code",
   "execution_count": 110,
   "metadata": {},
   "outputs": [],
   "source": [
    "dfy['dur'] = dfy.dur.cumsum()"
   ]
  },
  {
   "cell_type": "code",
   "execution_count": 184,
   "metadata": {},
   "outputs": [
    {
     "data": {
      "text/html": [
       "<div>\n",
       "<style scoped>\n",
       "    .dataframe tbody tr th:only-of-type {\n",
       "        vertical-align: middle;\n",
       "    }\n",
       "\n",
       "    .dataframe tbody tr th {\n",
       "        vertical-align: top;\n",
       "    }\n",
       "\n",
       "    .dataframe thead th {\n",
       "        text-align: right;\n",
       "    }\n",
       "</style>\n",
       "<table border=\"1\" class=\"dataframe\">\n",
       "  <thead>\n",
       "    <tr style=\"text-align: right;\">\n",
       "      <th></th>\n",
       "      <th>Unnamed: 0</th>\n",
       "      <th>account number</th>\n",
       "      <th>name</th>\n",
       "      <th>sku</th>\n",
       "      <th>quantity</th>\n",
       "      <th>unit price</th>\n",
       "      <th>ext price</th>\n",
       "      <th>date</th>\n",
       "      <th>dur</th>\n",
       "    </tr>\n",
       "  </thead>\n",
       "  <tbody>\n",
       "    <tr>\n",
       "      <th>0</th>\n",
       "      <td>0</td>\n",
       "      <td>740150</td>\n",
       "      <td>BartonLLC</td>\n",
       "      <td>B1-20000</td>\n",
       "      <td>39</td>\n",
       "      <td>86.69</td>\n",
       "      <td>3380.91</td>\n",
       "      <td>2014-01-01 07:21:00</td>\n",
       "      <td>0</td>\n",
       "    </tr>\n",
       "    <tr>\n",
       "      <th>1</th>\n",
       "      <td>1</td>\n",
       "      <td>714466</td>\n",
       "      <td>BartonLLC</td>\n",
       "      <td>S2-77896</td>\n",
       "      <td>-1</td>\n",
       "      <td>63.16</td>\n",
       "      <td>-63.16</td>\n",
       "      <td>2014-01-01 07:21:30</td>\n",
       "      <td>0</td>\n",
       "    </tr>\n",
       "    <tr>\n",
       "      <th>2</th>\n",
       "      <td>2</td>\n",
       "      <td>218895</td>\n",
       "      <td>BartonLLC</td>\n",
       "      <td>B1-69924</td>\n",
       "      <td>23</td>\n",
       "      <td>90.70</td>\n",
       "      <td>2086.10</td>\n",
       "      <td>2014-01-01 07:22:00</td>\n",
       "      <td>0</td>\n",
       "    </tr>\n",
       "    <tr>\n",
       "      <th>3</th>\n",
       "      <td>3</td>\n",
       "      <td>307599</td>\n",
       "      <td>BartonLLC</td>\n",
       "      <td>S1-65481</td>\n",
       "      <td>41</td>\n",
       "      <td>21.05</td>\n",
       "      <td>863.05</td>\n",
       "      <td>2014-01-01 07:22:30</td>\n",
       "      <td>0</td>\n",
       "    </tr>\n",
       "    <tr>\n",
       "      <th>29</th>\n",
       "      <td>29</td>\n",
       "      <td>729833</td>\n",
       "      <td>BartonLLC</td>\n",
       "      <td>B1-86481</td>\n",
       "      <td>6</td>\n",
       "      <td>81.79</td>\n",
       "      <td>490.74</td>\n",
       "      <td>2014-01-01 07:35:30</td>\n",
       "      <td>1</td>\n",
       "    </tr>\n",
       "    <tr>\n",
       "      <th>30</th>\n",
       "      <td>30</td>\n",
       "      <td>642753</td>\n",
       "      <td>BartonLLC</td>\n",
       "      <td>S1-93683</td>\n",
       "      <td>4</td>\n",
       "      <td>87.18</td>\n",
       "      <td>348.72</td>\n",
       "      <td>2014-01-01 07:36:00</td>\n",
       "      <td>1</td>\n",
       "    </tr>\n",
       "    <tr>\n",
       "      <th>31</th>\n",
       "      <td>31</td>\n",
       "      <td>714466</td>\n",
       "      <td>BartonLLC</td>\n",
       "      <td>B1-33087</td>\n",
       "      <td>32</td>\n",
       "      <td>19.56</td>\n",
       "      <td>625.92</td>\n",
       "      <td>2014-01-01 07:36:30</td>\n",
       "      <td>1</td>\n",
       "    </tr>\n",
       "    <tr>\n",
       "      <th>32</th>\n",
       "      <td>32</td>\n",
       "      <td>737550</td>\n",
       "      <td>BartonLLC</td>\n",
       "      <td>S1-27722</td>\n",
       "      <td>20</td>\n",
       "      <td>29.54</td>\n",
       "      <td>590.80</td>\n",
       "      <td>2014-01-01 07:37:00</td>\n",
       "      <td>1</td>\n",
       "    </tr>\n",
       "    <tr>\n",
       "      <th>33</th>\n",
       "      <td>33</td>\n",
       "      <td>218895</td>\n",
       "      <td>BartonLLC</td>\n",
       "      <td>S1-06532</td>\n",
       "      <td>3</td>\n",
       "      <td>22.36</td>\n",
       "      <td>67.08</td>\n",
       "      <td>2014-01-01 07:37:30</td>\n",
       "      <td>1</td>\n",
       "    </tr>\n",
       "    <tr>\n",
       "      <th>34</th>\n",
       "      <td>34</td>\n",
       "      <td>307599</td>\n",
       "      <td>BartonLLC</td>\n",
       "      <td>S2-78676</td>\n",
       "      <td>35</td>\n",
       "      <td>33.04</td>\n",
       "      <td>1156.40</td>\n",
       "      <td>2014-01-01 07:38:00</td>\n",
       "      <td>1</td>\n",
       "    </tr>\n",
       "  </tbody>\n",
       "</table>\n",
       "</div>"
      ],
      "text/plain": [
       "    Unnamed: 0  account number       name       sku  quantity  unit price  \\\n",
       "0            0          740150  BartonLLC  B1-20000        39       86.69   \n",
       "1            1          714466  BartonLLC  S2-77896        -1       63.16   \n",
       "2            2          218895  BartonLLC  B1-69924        23       90.70   \n",
       "3            3          307599  BartonLLC  S1-65481        41       21.05   \n",
       "29          29          729833  BartonLLC  B1-86481         6       81.79   \n",
       "30          30          642753  BartonLLC  S1-93683         4       87.18   \n",
       "31          31          714466  BartonLLC  B1-33087        32       19.56   \n",
       "32          32          737550  BartonLLC  S1-27722        20       29.54   \n",
       "33          33          218895  BartonLLC  S1-06532         3       22.36   \n",
       "34          34          307599  BartonLLC  S2-78676        35       33.04   \n",
       "\n",
       "    ext price                date  dur  \n",
       "0     3380.91 2014-01-01 07:21:00    0  \n",
       "1      -63.16 2014-01-01 07:21:30    0  \n",
       "2     2086.10 2014-01-01 07:22:00    0  \n",
       "3      863.05 2014-01-01 07:22:30    0  \n",
       "29     490.74 2014-01-01 07:35:30    1  \n",
       "30     348.72 2014-01-01 07:36:00    1  \n",
       "31     625.92 2014-01-01 07:36:30    1  \n",
       "32     590.80 2014-01-01 07:37:00    1  \n",
       "33      67.08 2014-01-01 07:37:30    1  \n",
       "34    1156.40 2014-01-01 07:38:00    1  "
      ]
     },
     "execution_count": 184,
     "metadata": {},
     "output_type": "execute_result"
    }
   ],
   "source": [
    "dfy.head(10)"
   ]
  },
  {
   "cell_type": "code",
   "execution_count": 185,
   "metadata": {},
   "outputs": [],
   "source": [
    "np_list =  dfy.groupby('dur').apply(lambda x : x.shape[0])"
   ]
  },
  {
   "cell_type": "code",
   "execution_count": 381,
   "metadata": {},
   "outputs": [
    {
     "data": {
      "text/plain": [
       "dur\n",
       "0    40\n",
       "1    80\n",
       "dtype: int64"
      ]
     },
     "execution_count": 381,
     "metadata": {},
     "output_type": "execute_result"
    }
   ],
   "source": [
    "np_list.head(5)"
   ]
  },
  {
   "cell_type": "code",
   "execution_count": 199,
   "metadata": {},
   "outputs": [],
   "source": [
    "dfy['daily'] = (dfy['date']).dt.date"
   ]
  },
  {
   "cell_type": "code",
   "execution_count": 200,
   "metadata": {},
   "outputs": [],
   "source": [
    "dfzz =  dfy.groupby('daily').apply(lambda y : y.groupby('dur').apply(lambda x : x.shape[0]))"
   ]
  },
  {
   "cell_type": "code",
   "execution_count": 186,
   "metadata": {},
   "outputs": [
    {
     "data": {
      "text/plain": [
       "dur\n",
       "0    40\n",
       "1    80\n",
       "dtype: int64"
      ]
     },
     "execution_count": 186,
     "metadata": {},
     "output_type": "execute_result"
    }
   ],
   "source": [
    "np_list.head(10)"
   ]
  },
  {
   "cell_type": "code",
   "execution_count": 144,
   "metadata": {},
   "outputs": [
    {
     "data": {
      "text/plain": [
       "2"
      ]
     },
     "execution_count": 144,
     "metadata": {},
     "output_type": "execute_result"
    }
   ],
   "source": [
    "np_list.size"
   ]
  },
  {
   "cell_type": "code",
   "execution_count": 198,
   "metadata": {},
   "outputs": [
    {
     "data": {
      "text/plain": [
       "0     2014-01-01\n",
       "1     2014-01-01\n",
       "2     2014-01-01\n",
       "3     2014-01-01\n",
       "29    2014-01-01\n",
       "30    2014-01-01\n",
       "31    2014-01-01\n",
       "32    2014-01-01\n",
       "33    2014-01-01\n",
       "34    2014-01-01\n",
       "35    2014-01-01\n",
       "36    2014-01-01\n",
       "Name: date, dtype: object"
      ]
     },
     "execution_count": 198,
     "metadata": {},
     "output_type": "execute_result"
    }
   ],
   "source": [
    "(dfy['date']).dt.date"
   ]
  },
  {
   "cell_type": "code",
   "execution_count": 201,
   "metadata": {},
   "outputs": [
    {
     "data": {
      "text/html": [
       "<div>\n",
       "<style scoped>\n",
       "    .dataframe tbody tr th:only-of-type {\n",
       "        vertical-align: middle;\n",
       "    }\n",
       "\n",
       "    .dataframe tbody tr th {\n",
       "        vertical-align: top;\n",
       "    }\n",
       "\n",
       "    .dataframe thead th {\n",
       "        text-align: right;\n",
       "    }\n",
       "</style>\n",
       "<table border=\"1\" class=\"dataframe\">\n",
       "  <thead>\n",
       "    <tr style=\"text-align: right;\">\n",
       "      <th>dur</th>\n",
       "      <th>0</th>\n",
       "      <th>1</th>\n",
       "    </tr>\n",
       "    <tr>\n",
       "      <th>daily</th>\n",
       "      <th></th>\n",
       "      <th></th>\n",
       "    </tr>\n",
       "  </thead>\n",
       "  <tbody>\n",
       "    <tr>\n",
       "      <th>2014-01-01</th>\n",
       "      <td>4</td>\n",
       "      <td>8</td>\n",
       "    </tr>\n",
       "  </tbody>\n",
       "</table>\n",
       "</div>"
      ],
      "text/plain": [
       "dur         0  1\n",
       "daily           \n",
       "2014-01-01  4  8"
      ]
     },
     "execution_count": 201,
     "metadata": {},
     "output_type": "execute_result"
    }
   ],
   "source": [
    "dfzz.head(10)"
   ]
  },
  {
   "cell_type": "code",
   "execution_count": 202,
   "metadata": {},
   "outputs": [
    {
     "data": {
      "text/plain": [
       "pandas.core.frame.DataFrame"
      ]
     },
     "execution_count": 202,
     "metadata": {},
     "output_type": "execute_result"
    }
   ],
   "source": [
    "type(dfzz)"
   ]
  },
  {
   "cell_type": "code",
   "execution_count": 205,
   "metadata": {},
   "outputs": [
    {
     "data": {
      "text/plain": [
       "{0: {datetime.date(2014, 1, 1): 4}, 1: {datetime.date(2014, 1, 1): 8}}"
      ]
     },
     "execution_count": 205,
     "metadata": {},
     "output_type": "execute_result"
    }
   ],
   "source": [
    "dfzz.to_dict()"
   ]
  },
  {
   "cell_type": "code",
   "execution_count": 206,
   "metadata": {},
   "outputs": [
    {
     "data": {
      "text/plain": [
       "dur\n",
       "0    40\n",
       "1    80\n",
       "dtype: int64"
      ]
     },
     "execution_count": 206,
     "metadata": {},
     "output_type": "execute_result"
    }
   ],
   "source": [
    "np_list"
   ]
  },
  {
   "cell_type": "code",
   "execution_count": 207,
   "metadata": {},
   "outputs": [
    {
     "data": {
      "text/plain": [
       "pandas.core.series.Series"
      ]
     },
     "execution_count": 207,
     "metadata": {},
     "output_type": "execute_result"
    }
   ],
   "source": [
    "type(np_list)"
   ]
  },
  {
   "cell_type": "code",
   "execution_count": 209,
   "metadata": {},
   "outputs": [],
   "source": [
    "x = np_list.to_numpy()"
   ]
  },
  {
   "cell_type": "code",
   "execution_count": 210,
   "metadata": {},
   "outputs": [],
   "source": [
    "y = np_list.to_numpy()"
   ]
  },
  {
   "cell_type": "code",
   "execution_count": 213,
   "metadata": {},
   "outputs": [],
   "source": [
    "c = np.empty((x.size + y.size,), dtype=x.dtype)\n",
    "c[0::2] = x\n",
    "c[1::2] = y"
   ]
  },
  {
   "cell_type": "code",
   "execution_count": 214,
   "metadata": {},
   "outputs": [
    {
     "data": {
      "text/plain": [
       "array([40, 40, 80, 80])"
      ]
     },
     "execution_count": 214,
     "metadata": {},
     "output_type": "execute_result"
    }
   ],
   "source": [
    "c"
   ]
  },
  {
   "cell_type": "code",
   "execution_count": 216,
   "metadata": {},
   "outputs": [],
   "source": [
    "from geopy.geocoders import Nominatim"
   ]
  },
  {
   "cell_type": "code",
   "execution_count": 222,
   "metadata": {},
   "outputs": [],
   "source": [
    "geolocator = Nominatim(user_agent='smuel')"
   ]
  },
  {
   "cell_type": "code",
   "execution_count": 238,
   "metadata": {},
   "outputs": [],
   "source": [
    "location = geolocator.reverse([32.0875634, 34.7854761], exactly_one=True, language='en')"
   ]
  },
  {
   "cell_type": "code",
   "execution_count": 239,
   "metadata": {},
   "outputs": [
    {
     "data": {
      "text/plain": [
       "'Gimnasia hertzliya/Jabotinsky, Jabotinsky, Tel Aviv, The New North, Tel Aviv-Yafo, Tel Aviv Subdistrict, Tel Aviv District, no, Israel'"
      ]
     },
     "execution_count": 239,
     "metadata": {},
     "output_type": "execute_result"
    }
   ],
   "source": [
    "location.address"
   ]
  },
  {
   "cell_type": "code",
   "execution_count": 347,
   "metadata": {},
   "outputs": [],
   "source": [
    "address = location.raw['address'].get('country')"
   ]
  },
  {
   "cell_type": "code",
   "execution_count": 348,
   "metadata": {},
   "outputs": [
    {
     "data": {
      "text/plain": [
       "'Israel'"
      ]
     },
     "execution_count": 348,
     "metadata": {},
     "output_type": "execute_result"
    }
   ],
   "source": [
    "address"
   ]
  },
  {
   "cell_type": "code",
   "execution_count": 249,
   "metadata": {},
   "outputs": [],
   "source": [
    "dfy['daily'] = pd.to_datetime(dfy['daily'])"
   ]
  },
  {
   "cell_type": "code",
   "execution_count": 250,
   "metadata": {},
   "outputs": [
    {
     "data": {
      "text/plain": [
       "0     Wednesday\n",
       "1     Wednesday\n",
       "2     Wednesday\n",
       "3     Wednesday\n",
       "29    Wednesday\n",
       "30    Wednesday\n",
       "31    Wednesday\n",
       "32    Wednesday\n",
       "33    Wednesday\n",
       "34    Wednesday\n",
       "35    Wednesday\n",
       "36    Wednesday\n",
       "Name: daily, dtype: object"
      ]
     },
     "execution_count": 250,
     "metadata": {},
     "output_type": "execute_result"
    }
   ],
   "source": [
    "dfy['daily'].dt.day_name()"
   ]
  },
  {
   "cell_type": "code",
   "execution_count": 252,
   "metadata": {},
   "outputs": [
    {
     "data": {
      "text/plain": [
       "0     Wednesday\n",
       "1     Wednesday\n",
       "2     Wednesday\n",
       "3     Wednesday\n",
       "29    Wednesday\n",
       "30    Wednesday\n",
       "31    Wednesday\n",
       "32    Wednesday\n",
       "33    Wednesday\n",
       "34    Wednesday\n",
       "35    Wednesday\n",
       "36    Wednesday\n",
       "Name: daily, dtype: object"
      ]
     },
     "execution_count": 252,
     "metadata": {},
     "output_type": "execute_result"
    }
   ],
   "source": [
    "pd.to_datetime(dfy['daily']).dt.day_name()"
   ]
  },
  {
   "cell_type": "code",
   "execution_count": 277,
   "metadata": {},
   "outputs": [],
   "source": [
    "Boxes = {'Color': ['Green','Green','Green','Blue','Blue','Red','Red','Red'],\n",
    "         'Shape': ['Rectangle','Rectangle','Square','Rectangle','Square','Square','Square','Rectangle']\n",
    "        }\n",
    "\n",
    "dfe = pd.DataFrame(Boxes, columns= ['Color','Shape'])"
   ]
  },
  {
   "cell_type": "code",
   "execution_count": 278,
   "metadata": {},
   "outputs": [],
   "source": [
    "dups = dfe.pivot_table(index=['Color','Shape'], aggfunc='size')"
   ]
  },
  {
   "cell_type": "code",
   "execution_count": 279,
   "metadata": {},
   "outputs": [
    {
     "data": {
      "text/plain": [
       "pandas.core.series.Series"
      ]
     },
     "execution_count": 279,
     "metadata": {},
     "output_type": "execute_result"
    }
   ],
   "source": [
    "type(dups)"
   ]
  },
  {
   "cell_type": "code",
   "execution_count": 280,
   "metadata": {},
   "outputs": [
    {
     "data": {
      "text/plain": [
       "Color  Shape    \n",
       "Blue   Rectangle    1\n",
       "       Square       1\n",
       "Green  Rectangle    2\n",
       "       Square       1\n",
       "Red    Rectangle    1\n",
       "       Square       2\n",
       "dtype: int64"
      ]
     },
     "execution_count": 280,
     "metadata": {},
     "output_type": "execute_result"
    }
   ],
   "source": [
    "dups"
   ]
  },
  {
   "cell_type": "code",
   "execution_count": 290,
   "metadata": {},
   "outputs": [],
   "source": [
    "shape = dups.groupby(level=0).agg((np.mean, np.std))"
   ]
  },
  {
   "cell_type": "code",
   "execution_count": 291,
   "metadata": {},
   "outputs": [
    {
     "data": {
      "text/plain": [
       "pandas.core.frame.DataFrame"
      ]
     },
     "execution_count": 291,
     "metadata": {},
     "output_type": "execute_result"
    }
   ],
   "source": [
    "type(shape)"
   ]
  },
  {
   "cell_type": "code",
   "execution_count": 292,
   "metadata": {},
   "outputs": [
    {
     "data": {
      "text/html": [
       "<div>\n",
       "<style scoped>\n",
       "    .dataframe tbody tr th:only-of-type {\n",
       "        vertical-align: middle;\n",
       "    }\n",
       "\n",
       "    .dataframe tbody tr th {\n",
       "        vertical-align: top;\n",
       "    }\n",
       "\n",
       "    .dataframe thead th {\n",
       "        text-align: right;\n",
       "    }\n",
       "</style>\n",
       "<table border=\"1\" class=\"dataframe\">\n",
       "  <thead>\n",
       "    <tr style=\"text-align: right;\">\n",
       "      <th></th>\n",
       "      <th>mean</th>\n",
       "      <th>std</th>\n",
       "    </tr>\n",
       "    <tr>\n",
       "      <th>Color</th>\n",
       "      <th></th>\n",
       "      <th></th>\n",
       "    </tr>\n",
       "  </thead>\n",
       "  <tbody>\n",
       "    <tr>\n",
       "      <th>Blue</th>\n",
       "      <td>1.0</td>\n",
       "      <td>0.000000</td>\n",
       "    </tr>\n",
       "    <tr>\n",
       "      <th>Green</th>\n",
       "      <td>1.5</td>\n",
       "      <td>0.707107</td>\n",
       "    </tr>\n",
       "    <tr>\n",
       "      <th>Red</th>\n",
       "      <td>1.5</td>\n",
       "      <td>0.707107</td>\n",
       "    </tr>\n",
       "  </tbody>\n",
       "</table>\n",
       "</div>"
      ],
      "text/plain": [
       "       mean       std\n",
       "Color                \n",
       "Blue    1.0  0.000000\n",
       "Green   1.5  0.707107\n",
       "Red     1.5  0.707107"
      ]
     },
     "execution_count": 292,
     "metadata": {},
     "output_type": "execute_result"
    }
   ],
   "source": [
    "shape"
   ]
  },
  {
   "cell_type": "code",
   "execution_count": 285,
   "metadata": {},
   "outputs": [],
   "source": [
    "dfd =  pd.read_csv('/Users/smuel/Developer/Python/Louie7Predictors/sample_salesv3.csv')\n",
    "dfd['date'] = pd.to_datetime(dfd['date'])"
   ]
  },
  {
   "cell_type": "code",
   "execution_count": 287,
   "metadata": {},
   "outputs": [
    {
     "data": {
      "text/html": [
       "<div>\n",
       "<style scoped>\n",
       "    .dataframe tbody tr th:only-of-type {\n",
       "        vertical-align: middle;\n",
       "    }\n",
       "\n",
       "    .dataframe tbody tr th {\n",
       "        vertical-align: top;\n",
       "    }\n",
       "\n",
       "    .dataframe thead th {\n",
       "        text-align: right;\n",
       "    }\n",
       "</style>\n",
       "<table border=\"1\" class=\"dataframe\">\n",
       "  <thead>\n",
       "    <tr style=\"text-align: right;\">\n",
       "      <th></th>\n",
       "      <th>Unnamed: 0</th>\n",
       "      <th>account number</th>\n",
       "      <th>name</th>\n",
       "      <th>sku</th>\n",
       "      <th>quantity</th>\n",
       "      <th>unit price</th>\n",
       "      <th>ext price</th>\n",
       "      <th>date</th>\n",
       "    </tr>\n",
       "  </thead>\n",
       "  <tbody>\n",
       "    <tr>\n",
       "      <th>36</th>\n",
       "      <td>36</td>\n",
       "      <td>218895</td>\n",
       "      <td>BartonLLC</td>\n",
       "      <td>S2-34077</td>\n",
       "      <td>16</td>\n",
       "      <td>73.04</td>\n",
       "      <td>1168.64</td>\n",
       "      <td>2014-01-02 07:39:00</td>\n",
       "    </tr>\n",
       "    <tr>\n",
       "      <th>37</th>\n",
       "      <td>37</td>\n",
       "      <td>383080</td>\n",
       "      <td>KulasInc</td>\n",
       "      <td>S2-23246</td>\n",
       "      <td>23</td>\n",
       "      <td>59.98</td>\n",
       "      <td>1379.54</td>\n",
       "      <td>2014-01-02 07:39:30</td>\n",
       "    </tr>\n",
       "    <tr>\n",
       "      <th>38</th>\n",
       "      <td>38</td>\n",
       "      <td>383080</td>\n",
       "      <td>KulasInc</td>\n",
       "      <td>B1-05914</td>\n",
       "      <td>25</td>\n",
       "      <td>98.46</td>\n",
       "      <td>2461.50</td>\n",
       "      <td>2014-01-02 07:40:00</td>\n",
       "    </tr>\n",
       "    <tr>\n",
       "      <th>39</th>\n",
       "      <td>39</td>\n",
       "      <td>729833</td>\n",
       "      <td>KulasInc</td>\n",
       "      <td>B1-33364</td>\n",
       "      <td>7</td>\n",
       "      <td>10.87</td>\n",
       "      <td>76.09</td>\n",
       "      <td>2014-01-02 07:40:30</td>\n",
       "    </tr>\n",
       "    <tr>\n",
       "      <th>40</th>\n",
       "      <td>40</td>\n",
       "      <td>714466</td>\n",
       "      <td>KulasInc</td>\n",
       "      <td>B1-65551</td>\n",
       "      <td>48</td>\n",
       "      <td>69.36</td>\n",
       "      <td>3329.28</td>\n",
       "      <td>2014-01-02 07:41:00</td>\n",
       "    </tr>\n",
       "  </tbody>\n",
       "</table>\n",
       "</div>"
      ],
      "text/plain": [
       "    Unnamed: 0  account number       name       sku  quantity  unit price  \\\n",
       "36          36          218895  BartonLLC  S2-34077        16       73.04   \n",
       "37          37          383080   KulasInc  S2-23246        23       59.98   \n",
       "38          38          383080   KulasInc  B1-05914        25       98.46   \n",
       "39          39          729833   KulasInc  B1-33364         7       10.87   \n",
       "40          40          714466   KulasInc  B1-65551        48       69.36   \n",
       "\n",
       "    ext price                date  \n",
       "36    1168.64 2014-01-02 07:39:00  \n",
       "37    1379.54 2014-01-02 07:39:30  \n",
       "38    2461.50 2014-01-02 07:40:00  \n",
       "39      76.09 2014-01-02 07:40:30  \n",
       "40    3329.28 2014-01-02 07:41:00  "
      ]
     },
     "execution_count": 287,
     "metadata": {},
     "output_type": "execute_result"
    }
   ],
   "source": [
    "dfd.tail()"
   ]
  },
  {
   "cell_type": "code",
   "execution_count": 288,
   "metadata": {},
   "outputs": [],
   "source": [
    "dsd = dfd.groupby(pd.Grouper(key='date', freq='D')).apply(lambda x : x.pivot_table(index=['name'], aggfunc='size'))"
   ]
  },
  {
   "cell_type": "code",
   "execution_count": 289,
   "metadata": {},
   "outputs": [
    {
     "data": {
      "text/plain": [
       "date        name        \n",
       "2014-01-01  BartonLLC       4\n",
       "            Kassulke        1\n",
       "            KeelingLLC      9\n",
       "            KulasInc        6\n",
       "            WhiteTrantow    5\n",
       "2014-01-02  BartonLLC       8\n",
       "            Fritsch         3\n",
       "            KulasInc        4\n",
       "            WhiteTrantow    1\n",
       "dtype: int64"
      ]
     },
     "execution_count": 289,
     "metadata": {},
     "output_type": "execute_result"
    }
   ],
   "source": [
    "dsd"
   ]
  },
  {
   "cell_type": "code",
   "execution_count": 297,
   "metadata": {},
   "outputs": [],
   "source": [
    "npl = dsd.groupby(level=0).agg(np.mean).to_numpy()"
   ]
  },
  {
   "cell_type": "code",
   "execution_count": 298,
   "metadata": {},
   "outputs": [
    {
     "data": {
      "text/plain": [
       "array([5, 4])"
      ]
     },
     "execution_count": 298,
     "metadata": {},
     "output_type": "execute_result"
    }
   ],
   "source": [
    "npl"
   ]
  },
  {
   "cell_type": "code",
   "execution_count": 299,
   "metadata": {},
   "outputs": [
    {
     "data": {
      "text/plain": [
       "4.5"
      ]
     },
     "execution_count": 299,
     "metadata": {},
     "output_type": "execute_result"
    }
   ],
   "source": [
    "np.mean(npl)"
   ]
  },
  {
   "cell_type": "code",
   "execution_count": 300,
   "metadata": {},
   "outputs": [],
   "source": [
    "dfd =  pd.read_csv('/Users/smuel/Developer/Python/Louie7Predictors/sample_salesv3.csv')\n",
    "dfd['date'] = pd.to_datetime(dfd['date'])"
   ]
  },
  {
   "cell_type": "code",
   "execution_count": 301,
   "metadata": {},
   "outputs": [],
   "source": [
    "dss = dfd.groupby(['name', pd.Grouper(key='date', freq='D')]).apply(lambda x : x.pivot_table(index=['sku'], aggfunc='size'))"
   ]
  },
  {
   "cell_type": "code",
   "execution_count": 302,
   "metadata": {},
   "outputs": [
    {
     "data": {
      "text/plain": [
       "name          date        sku     \n",
       "BartonLLC     2014-01-01  B1-20000    1\n",
       "                          B1-69924    2\n",
       "                          S2-77896    1\n",
       "              2014-01-02  B1-86481    6\n",
       "                          S1-27722    2\n",
       "Fritsch       2014-01-02  B1-38851    1\n",
       "                          B1-53636    1\n",
       "                          S2-83881    1\n",
       "Kassulke      2014-01-01  S2-34077    1\n",
       "KeelingLLC    2014-01-01  S1-06532    1\n",
       "                          S1-30248    4\n",
       "                          S2-00301    1\n",
       "                          S2-23246    3\n",
       "KulasInc      2014-01-01  S1-50961    3\n",
       "                          S2-34077    3\n",
       "              2014-01-02  B1-05914    3\n",
       "                          S2-23246    1\n",
       "WhiteTrantow  2014-01-01  S2-00301    4\n",
       "                          S2-83881    1\n",
       "              2014-01-02  S2-83881    1\n",
       "dtype: int64"
      ]
     },
     "execution_count": 302,
     "metadata": {},
     "output_type": "execute_result"
    }
   ],
   "source": [
    "dss"
   ]
  },
  {
   "cell_type": "code",
   "execution_count": 303,
   "metadata": {},
   "outputs": [
    {
     "data": {
      "text/plain": [
       "pandas.core.series.Series"
      ]
     },
     "execution_count": 303,
     "metadata": {},
     "output_type": "execute_result"
    }
   ],
   "source": [
    "type(dss)"
   ]
  },
  {
   "cell_type": "code",
   "execution_count": 316,
   "metadata": {},
   "outputs": [],
   "source": [
    "dff = dss.groupby(level=0).apply(lambda x : x.groupby('date').agg(np.mean))"
   ]
  },
  {
   "cell_type": "code",
   "execution_count": 317,
   "metadata": {},
   "outputs": [
    {
     "data": {
      "text/plain": [
       "name          date      \n",
       "BartonLLC     2014-01-01    1.333333\n",
       "              2014-01-02    4.000000\n",
       "Fritsch       2014-01-02    1.000000\n",
       "Kassulke      2014-01-01    1.000000\n",
       "KeelingLLC    2014-01-01    2.250000\n",
       "KulasInc      2014-01-01    3.000000\n",
       "              2014-01-02    2.000000\n",
       "WhiteTrantow  2014-01-01    2.500000\n",
       "              2014-01-02    1.000000\n",
       "dtype: float64"
      ]
     },
     "execution_count": 317,
     "metadata": {},
     "output_type": "execute_result"
    }
   ],
   "source": [
    "dff"
   ]
  },
  {
   "cell_type": "code",
   "execution_count": 312,
   "metadata": {},
   "outputs": [
    {
     "data": {
      "text/plain": [
       "pandas.core.series.Series"
      ]
     },
     "execution_count": 312,
     "metadata": {},
     "output_type": "execute_result"
    }
   ],
   "source": [
    "type(dff)"
   ]
  },
  {
   "cell_type": "code",
   "execution_count": 334,
   "metadata": {},
   "outputs": [
    {
     "data": {
      "text/plain": [
       "name\n",
       "BartonLLC       (2.6666666666666665, 1.3333333333333335)\n",
       "Fritsch                                       (1.0, 0.0)\n",
       "Kassulke                                      (1.0, 0.0)\n",
       "KeelingLLC                                   (2.25, 0.0)\n",
       "KulasInc                                      (2.5, 0.5)\n",
       "WhiteTrantow                                (1.75, 0.75)\n",
       "dtype: object"
      ]
     },
     "execution_count": 334,
     "metadata": {},
     "output_type": "execute_result"
    }
   ],
   "source": [
    "dff.groupby(level=0).apply(lambda x : (np.mean(x), np.std(x)))"
   ]
  },
  {
   "cell_type": "code",
   "execution_count": 335,
   "metadata": {},
   "outputs": [],
   "source": [
    "dfz = dff.groupby(level=0).apply(lambda x : (np.mean(x), np.std(x)))"
   ]
  },
  {
   "cell_type": "code",
   "execution_count": 337,
   "metadata": {},
   "outputs": [
    {
     "data": {
      "text/plain": [
       "pandas.core.series.Series"
      ]
     },
     "execution_count": 337,
     "metadata": {},
     "output_type": "execute_result"
    }
   ],
   "source": [
    "type(dfz)"
   ]
  },
  {
   "cell_type": "code",
   "execution_count": 338,
   "metadata": {},
   "outputs": [
    {
     "data": {
      "text/plain": [
       "(1.75, 0.75)"
      ]
     },
     "execution_count": 338,
     "metadata": {},
     "output_type": "execute_result"
    }
   ],
   "source": [
    "dfz.loc['WhiteTrantow' : ].iloc[0]"
   ]
  },
  {
   "cell_type": "code",
   "execution_count": 340,
   "metadata": {},
   "outputs": [
    {
     "data": {
      "text/plain": [
       "array([39, -1, 23, 41,  6, 17,  2,  8, 22, 14, 15,  7,  6, 17, 23, 34, 14,\n",
       "       14, 10, 33, 45, 24,  2, -1, 34,  5, 42, 42,  4,  6,  4, 32, 20,  3,\n",
       "       35, 48, 16, 23, 25,  7, 48])"
      ]
     },
     "execution_count": 340,
     "metadata": {},
     "output_type": "execute_result"
    }
   ],
   "source": [
    "dfd['quantity'].to_numpy()"
   ]
  },
  {
   "cell_type": "code",
   "execution_count": 345,
   "metadata": {},
   "outputs": [],
   "source": [
    "dfy['day'] = pd.to_datetime((dfy['date']).dt.date).dt.day_name()"
   ]
  },
  {
   "cell_type": "code",
   "execution_count": 355,
   "metadata": {},
   "outputs": [
    {
     "data": {
      "text/html": [
       "<div>\n",
       "<style scoped>\n",
       "    .dataframe tbody tr th:only-of-type {\n",
       "        vertical-align: middle;\n",
       "    }\n",
       "\n",
       "    .dataframe tbody tr th {\n",
       "        vertical-align: top;\n",
       "    }\n",
       "\n",
       "    .dataframe thead th {\n",
       "        text-align: right;\n",
       "    }\n",
       "</style>\n",
       "<table border=\"1\" class=\"dataframe\">\n",
       "  <thead>\n",
       "    <tr style=\"text-align: right;\">\n",
       "      <th></th>\n",
       "      <th>Unnamed: 0</th>\n",
       "      <th>account number</th>\n",
       "      <th>name</th>\n",
       "      <th>sku</th>\n",
       "      <th>quantity</th>\n",
       "      <th>unit price</th>\n",
       "      <th>ext price</th>\n",
       "      <th>date</th>\n",
       "    </tr>\n",
       "  </thead>\n",
       "  <tbody>\n",
       "    <tr>\n",
       "      <th>0</th>\n",
       "      <td>0</td>\n",
       "      <td>740150</td>\n",
       "      <td>BartonLLC</td>\n",
       "      <td>B1-20000</td>\n",
       "      <td>39</td>\n",
       "      <td>86.69</td>\n",
       "      <td>3380.91</td>\n",
       "      <td>2014-01-01 07:21:00</td>\n",
       "    </tr>\n",
       "    <tr>\n",
       "      <th>1</th>\n",
       "      <td>1</td>\n",
       "      <td>714466</td>\n",
       "      <td>BartonLLC</td>\n",
       "      <td>S2-77896</td>\n",
       "      <td>-1</td>\n",
       "      <td>63.16</td>\n",
       "      <td>-63.16</td>\n",
       "      <td>2014-01-01 07:21:30</td>\n",
       "    </tr>\n",
       "    <tr>\n",
       "      <th>2</th>\n",
       "      <td>2</td>\n",
       "      <td>218895</td>\n",
       "      <td>BartonLLC</td>\n",
       "      <td>B1-69924</td>\n",
       "      <td>23</td>\n",
       "      <td>90.70</td>\n",
       "      <td>2086.10</td>\n",
       "      <td>2014-01-01 07:22:00</td>\n",
       "    </tr>\n",
       "    <tr>\n",
       "      <th>3</th>\n",
       "      <td>3</td>\n",
       "      <td>307599</td>\n",
       "      <td>BartonLLC</td>\n",
       "      <td>B1-69924</td>\n",
       "      <td>41</td>\n",
       "      <td>21.05</td>\n",
       "      <td>863.05</td>\n",
       "      <td>2014-01-01 07:22:30</td>\n",
       "    </tr>\n",
       "    <tr>\n",
       "      <th>4</th>\n",
       "      <td>4</td>\n",
       "      <td>412290</td>\n",
       "      <td>Kassulke</td>\n",
       "      <td>S2-34077</td>\n",
       "      <td>6</td>\n",
       "      <td>83.21</td>\n",
       "      <td>499.26</td>\n",
       "      <td>2014-01-01 07:23:00</td>\n",
       "    </tr>\n",
       "  </tbody>\n",
       "</table>\n",
       "</div>"
      ],
      "text/plain": [
       "   Unnamed: 0  account number       name       sku  quantity  unit price  \\\n",
       "0           0          740150  BartonLLC  B1-20000        39       86.69   \n",
       "1           1          714466  BartonLLC  S2-77896        -1       63.16   \n",
       "2           2          218895  BartonLLC  B1-69924        23       90.70   \n",
       "3           3          307599  BartonLLC  B1-69924        41       21.05   \n",
       "4           4          412290   Kassulke  S2-34077         6       83.21   \n",
       "\n",
       "   ext price                date  \n",
       "0    3380.91 2014-01-01 07:21:00  \n",
       "1     -63.16 2014-01-01 07:21:30  \n",
       "2    2086.10 2014-01-01 07:22:00  \n",
       "3     863.05 2014-01-01 07:22:30  \n",
       "4     499.26 2014-01-01 07:23:00  "
      ]
     },
     "execution_count": 355,
     "metadata": {},
     "output_type": "execute_result"
    }
   ],
   "source": [
    "dfd.head(5)"
   ]
  },
  {
   "cell_type": "code",
   "execution_count": 357,
   "metadata": {},
   "outputs": [],
   "source": [
    "dn = df.groupby('name').agg({'name' : ['count']})"
   ]
  },
  {
   "cell_type": "code",
   "execution_count": 358,
   "metadata": {},
   "outputs": [
    {
     "data": {
      "text/plain": [
       "pandas.core.frame.DataFrame"
      ]
     },
     "execution_count": 358,
     "metadata": {},
     "output_type": "execute_result"
    }
   ],
   "source": [
    "type(dn)"
   ]
  },
  {
   "cell_type": "code",
   "execution_count": 359,
   "metadata": {},
   "outputs": [
    {
     "data": {
      "text/html": [
       "<div>\n",
       "<style scoped>\n",
       "    .dataframe tbody tr th:only-of-type {\n",
       "        vertical-align: middle;\n",
       "    }\n",
       "\n",
       "    .dataframe tbody tr th {\n",
       "        vertical-align: top;\n",
       "    }\n",
       "\n",
       "    .dataframe thead tr th {\n",
       "        text-align: left;\n",
       "    }\n",
       "\n",
       "    .dataframe thead tr:last-of-type th {\n",
       "        text-align: right;\n",
       "    }\n",
       "</style>\n",
       "<table border=\"1\" class=\"dataframe\">\n",
       "  <thead>\n",
       "    <tr>\n",
       "      <th></th>\n",
       "      <th>name</th>\n",
       "    </tr>\n",
       "    <tr>\n",
       "      <th></th>\n",
       "      <th>count</th>\n",
       "    </tr>\n",
       "    <tr>\n",
       "      <th>name</th>\n",
       "      <th></th>\n",
       "    </tr>\n",
       "  </thead>\n",
       "  <tbody>\n",
       "    <tr>\n",
       "      <th>Barton LLC</th>\n",
       "      <td>82</td>\n",
       "    </tr>\n",
       "    <tr>\n",
       "      <th>Cronin, Oberbrunner and Spencer</th>\n",
       "      <td>67</td>\n",
       "    </tr>\n",
       "    <tr>\n",
       "      <th>Frami, Hills and Schmidt</th>\n",
       "      <td>72</td>\n",
       "    </tr>\n",
       "    <tr>\n",
       "      <th>Fritsch, Russel and Anderson</th>\n",
       "      <td>81</td>\n",
       "    </tr>\n",
       "    <tr>\n",
       "      <th>Halvorson, Crona and Champlin</th>\n",
       "      <td>58</td>\n",
       "    </tr>\n",
       "    <tr>\n",
       "      <th>Herman LLC</th>\n",
       "      <td>62</td>\n",
       "    </tr>\n",
       "    <tr>\n",
       "      <th>Jerde-Hilpert</th>\n",
       "      <td>89</td>\n",
       "    </tr>\n",
       "    <tr>\n",
       "      <th>Kassulke, Ondricka and Metz</th>\n",
       "      <td>64</td>\n",
       "    </tr>\n",
       "    <tr>\n",
       "      <th>Keeling LLC</th>\n",
       "      <td>74</td>\n",
       "    </tr>\n",
       "    <tr>\n",
       "      <th>Kiehn-Spinka</th>\n",
       "      <td>79</td>\n",
       "    </tr>\n",
       "    <tr>\n",
       "      <th>Koepp Ltd</th>\n",
       "      <td>82</td>\n",
       "    </tr>\n",
       "    <tr>\n",
       "      <th>Kuhn-Gusikowski</th>\n",
       "      <td>73</td>\n",
       "    </tr>\n",
       "    <tr>\n",
       "      <th>Kulas Inc</th>\n",
       "      <td>94</td>\n",
       "    </tr>\n",
       "    <tr>\n",
       "      <th>Pollich LLC</th>\n",
       "      <td>73</td>\n",
       "    </tr>\n",
       "    <tr>\n",
       "      <th>Purdy-Kunde</th>\n",
       "      <td>53</td>\n",
       "    </tr>\n",
       "    <tr>\n",
       "      <th>Sanford and Sons</th>\n",
       "      <td>71</td>\n",
       "    </tr>\n",
       "    <tr>\n",
       "      <th>Stokes LLC</th>\n",
       "      <td>72</td>\n",
       "    </tr>\n",
       "    <tr>\n",
       "      <th>Trantow-Barrows</th>\n",
       "      <td>94</td>\n",
       "    </tr>\n",
       "    <tr>\n",
       "      <th>White-Trantow</th>\n",
       "      <td>86</td>\n",
       "    </tr>\n",
       "    <tr>\n",
       "      <th>Will LLC</th>\n",
       "      <td>74</td>\n",
       "    </tr>\n",
       "  </tbody>\n",
       "</table>\n",
       "</div>"
      ],
      "text/plain": [
       "                                 name\n",
       "                                count\n",
       "name                                 \n",
       "Barton LLC                         82\n",
       "Cronin, Oberbrunner and Spencer    67\n",
       "Frami, Hills and Schmidt           72\n",
       "Fritsch, Russel and Anderson       81\n",
       "Halvorson, Crona and Champlin      58\n",
       "Herman LLC                         62\n",
       "Jerde-Hilpert                      89\n",
       "Kassulke, Ondricka and Metz        64\n",
       "Keeling LLC                        74\n",
       "Kiehn-Spinka                       79\n",
       "Koepp Ltd                          82\n",
       "Kuhn-Gusikowski                    73\n",
       "Kulas Inc                          94\n",
       "Pollich LLC                        73\n",
       "Purdy-Kunde                        53\n",
       "Sanford and Sons                   71\n",
       "Stokes LLC                         72\n",
       "Trantow-Barrows                    94\n",
       "White-Trantow                      86\n",
       "Will LLC                           74"
      ]
     },
     "execution_count": 359,
     "metadata": {},
     "output_type": "execute_result"
    }
   ],
   "source": [
    "dn"
   ]
  },
  {
   "cell_type": "code",
   "execution_count": 378,
   "metadata": {},
   "outputs": [
    {
     "data": {
      "text/plain": [
       "array([94])"
      ]
     },
     "execution_count": 378,
     "metadata": {},
     "output_type": "execute_result"
    }
   ],
   "source": [
    "dn.loc['Trantow-Barrows': ].iloc[0].to_numpy()"
   ]
  },
  {
   "cell_type": "code",
   "execution_count": 387,
   "metadata": {},
   "outputs": [
    {
     "name": "stdout",
     "output_type": "stream",
     "text": [
      "2020-07-12 15:34:24\n"
     ]
    }
   ],
   "source": [
    "ts = \"1594568007.937\"\n",
    "f = pd.to_numeric(ts, downcast=\"float\")\n",
    "t = pd.to_datetime(f, unit='s')\n",
    "print(t)"
   ]
  },
  {
   "cell_type": "code",
   "execution_count": 407,
   "metadata": {},
   "outputs": [],
   "source": [
    "df2 =  pd.read_csv('/Users/smuel/Developer/Python/Louie7Predictors/sample_salesv3.csv')\n",
    "df2['date'] = pd.to_datetime(dfd['date'])"
   ]
  },
  {
   "cell_type": "code",
   "execution_count": 408,
   "metadata": {},
   "outputs": [
    {
     "data": {
      "text/html": [
       "<div>\n",
       "<style scoped>\n",
       "    .dataframe tbody tr th:only-of-type {\n",
       "        vertical-align: middle;\n",
       "    }\n",
       "\n",
       "    .dataframe tbody tr th {\n",
       "        vertical-align: top;\n",
       "    }\n",
       "\n",
       "    .dataframe thead th {\n",
       "        text-align: right;\n",
       "    }\n",
       "</style>\n",
       "<table border=\"1\" class=\"dataframe\">\n",
       "  <thead>\n",
       "    <tr style=\"text-align: right;\">\n",
       "      <th></th>\n",
       "      <th>Unnamed: 0</th>\n",
       "      <th>account number</th>\n",
       "      <th>name</th>\n",
       "      <th>sku</th>\n",
       "      <th>quantity</th>\n",
       "      <th>unit price</th>\n",
       "      <th>ext price</th>\n",
       "      <th>date</th>\n",
       "    </tr>\n",
       "  </thead>\n",
       "  <tbody>\n",
       "    <tr>\n",
       "      <th>0</th>\n",
       "      <td>0</td>\n",
       "      <td>740150</td>\n",
       "      <td>BartonLLC</td>\n",
       "      <td>B1-20000</td>\n",
       "      <td>39</td>\n",
       "      <td>86.69</td>\n",
       "      <td>3380.91</td>\n",
       "      <td>2014-01-01 07:21:00</td>\n",
       "    </tr>\n",
       "    <tr>\n",
       "      <th>1</th>\n",
       "      <td>1</td>\n",
       "      <td>714466</td>\n",
       "      <td>BartonLLC</td>\n",
       "      <td>S2-77896</td>\n",
       "      <td>-1</td>\n",
       "      <td>63.16</td>\n",
       "      <td>-63.16</td>\n",
       "      <td>2014-01-01 07:21:30</td>\n",
       "    </tr>\n",
       "    <tr>\n",
       "      <th>2</th>\n",
       "      <td>2</td>\n",
       "      <td>218895</td>\n",
       "      <td>BartonLLC</td>\n",
       "      <td>B1-69924</td>\n",
       "      <td>23</td>\n",
       "      <td>90.70</td>\n",
       "      <td>2086.10</td>\n",
       "      <td>2014-01-01 07:22:00</td>\n",
       "    </tr>\n",
       "    <tr>\n",
       "      <th>3</th>\n",
       "      <td>3</td>\n",
       "      <td>307599</td>\n",
       "      <td>BartonLLC</td>\n",
       "      <td>B1-69924</td>\n",
       "      <td>41</td>\n",
       "      <td>21.05</td>\n",
       "      <td>863.05</td>\n",
       "      <td>2014-01-01 07:22:30</td>\n",
       "    </tr>\n",
       "    <tr>\n",
       "      <th>4</th>\n",
       "      <td>4</td>\n",
       "      <td>412290</td>\n",
       "      <td>Kassulke</td>\n",
       "      <td>S2-34077</td>\n",
       "      <td>6</td>\n",
       "      <td>83.21</td>\n",
       "      <td>499.26</td>\n",
       "      <td>2014-01-01 07:23:00</td>\n",
       "    </tr>\n",
       "  </tbody>\n",
       "</table>\n",
       "</div>"
      ],
      "text/plain": [
       "   Unnamed: 0  account number       name       sku  quantity  unit price  \\\n",
       "0           0          740150  BartonLLC  B1-20000        39       86.69   \n",
       "1           1          714466  BartonLLC  S2-77896        -1       63.16   \n",
       "2           2          218895  BartonLLC  B1-69924        23       90.70   \n",
       "3           3          307599  BartonLLC  B1-69924        41       21.05   \n",
       "4           4          412290   Kassulke  S2-34077         6       83.21   \n",
       "\n",
       "   ext price                date  \n",
       "0    3380.91 2014-01-01 07:21:00  \n",
       "1     -63.16 2014-01-01 07:21:30  \n",
       "2    2086.10 2014-01-01 07:22:00  \n",
       "3     863.05 2014-01-01 07:22:30  \n",
       "4     499.26 2014-01-01 07:23:00  "
      ]
     },
     "execution_count": 408,
     "metadata": {},
     "output_type": "execute_result"
    }
   ],
   "source": [
    "df2.head(5)"
   ]
  },
  {
   "cell_type": "code",
   "execution_count": 391,
   "metadata": {},
   "outputs": [],
   "source": [
    "ds = df1.groupby(pd.Grouper(key='date', freq='D'))['quantity'].apply(lambda x: x.to_numpy())"
   ]
  },
  {
   "cell_type": "code",
   "execution_count": 392,
   "metadata": {},
   "outputs": [
    {
     "data": {
      "text/plain": [
       "date\n",
       "2014-01-01    [39, -1, 23, 41, 6, 17, 2, 8, 22, 14, 15, 7, 6...\n",
       "2014-01-02    [5, 42, 42, 4, 6, 4, 32, 20, 3, 35, 48, 16, 23...\n",
       "Freq: D, Name: quantity, dtype: object"
      ]
     },
     "execution_count": 392,
     "metadata": {},
     "output_type": "execute_result"
    }
   ],
   "source": [
    "ds"
   ]
  },
  {
   "cell_type": "code",
   "execution_count": 393,
   "metadata": {},
   "outputs": [
    {
     "data": {
      "text/plain": [
       "pandas.core.series.Series"
      ]
     },
     "execution_count": 393,
     "metadata": {},
     "output_type": "execute_result"
    }
   ],
   "source": [
    "type(ds)"
   ]
  },
  {
   "cell_type": "code",
   "execution_count": 394,
   "metadata": {},
   "outputs": [
    {
     "data": {
      "text/plain": [
       "2"
      ]
     },
     "execution_count": 394,
     "metadata": {},
     "output_type": "execute_result"
    }
   ],
   "source": [
    "ds.size"
   ]
  },
  {
   "cell_type": "code",
   "execution_count": 395,
   "metadata": {},
   "outputs": [
    {
     "data": {
      "text/plain": [
       "(2,)"
      ]
     },
     "execution_count": 395,
     "metadata": {},
     "output_type": "execute_result"
    }
   ],
   "source": [
    "ds.shape"
   ]
  },
  {
   "cell_type": "code",
   "execution_count": 396,
   "metadata": {},
   "outputs": [],
   "source": [
    "mrx = ds.to_numpy()"
   ]
  },
  {
   "cell_type": "code",
   "execution_count": 397,
   "metadata": {},
   "outputs": [
    {
     "data": {
      "text/plain": [
       "array([array([39, -1, 23, 41,  6, 17,  2,  8, 22, 14, 15,  7,  6, 17, 23, 34, 14,\n",
       "       14, 10, 33, 45, 24,  2, -1, 34]),\n",
       "       array([ 5, 42, 42,  4,  6,  4, 32, 20,  3, 35, 48, 16, 23, 25,  7, 48])],\n",
       "      dtype=object)"
      ]
     },
     "execution_count": 397,
     "metadata": {},
     "output_type": "execute_result"
    }
   ],
   "source": [
    "mrx"
   ]
  },
  {
   "cell_type": "code",
   "execution_count": 400,
   "metadata": {},
   "outputs": [
    {
     "data": {
      "text/plain": [
       "16"
      ]
     },
     "execution_count": 400,
     "metadata": {},
     "output_type": "execute_result"
    }
   ],
   "source": [
    "mrx[1].size"
   ]
  },
  {
   "cell_type": "code",
   "execution_count": 402,
   "metadata": {},
   "outputs": [
    {
     "data": {
      "text/plain": [
       "25"
      ]
     },
     "execution_count": 402,
     "metadata": {},
     "output_type": "execute_result"
    }
   ],
   "source": [
    "mrx[0].size"
   ]
  },
  {
   "cell_type": "code",
   "execution_count": null,
   "metadata": {},
   "outputs": [],
   "source": []
  }
 ],
 "metadata": {
  "kernelspec": {
   "display_name": "Python 3",
   "language": "python",
   "name": "python3"
  },
  "language_info": {
   "codemirror_mode": {
    "name": "ipython",
    "version": 3
   },
   "file_extension": ".py",
   "mimetype": "text/x-python",
   "name": "python",
   "nbconvert_exporter": "python",
   "pygments_lexer": "ipython3",
   "version": "3.8.6"
  }
 },
 "nbformat": 4,
 "nbformat_minor": 4
}
