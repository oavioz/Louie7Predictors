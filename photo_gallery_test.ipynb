{
 "cells": [
  {
   "cell_type": "code",
   "execution_count": 1,
   "metadata": {},
   "outputs": [],
   "source": [
    "import numpy as np\n",
    "import pandas as pd\n",
    "import json\n",
    "import codecs\n",
    "import datetime\n",
    "import os\n",
    "import sys\n",
    "sys.path.append('.')\n",
    "import matplotlib as mpl\n",
    "import matplotlib.pyplot as plt\n",
    "from vector_creator.raw_to_df.rawdata_to_df import *\n",
    "from vector_creator.score_vectors.score_vectors_assembly import *\n",
    "from vector_creator.stats_models.entropy import *\n",
    "from vector_creator.preprocess.est_by_df_column import *\n",
    "from vector_creator.stats_models.auto_regression import *\n",
    "from vector_creator.preprocess.install_apps_features import *\n",
    "from vector_creator.stats_models.estimators import *\n",
    "from vector_creator.score_vectors.vector_indexer import vector_desc_call_logs\n",
    "from vector_creator.score_vectors.vector_descriptor import *\n",
    "path = '/Users/smuel/AndroidStudioProjects/LuckyMeIntgratedSDK/metadata_init_phase/'"
   ]
  },
  {
   "cell_type": "code",
   "execution_count": 2,
   "metadata": {},
   "outputs": [
    {
     "data": {
      "text/plain": [
       "'05fa68e5-0ba3-4783-9c07-42740c4914c6'"
      ]
     },
     "execution_count": 2,
     "metadata": {},
     "output_type": "execute_result"
    }
   ],
   "source": [
    "rdata = list_of_json_files(path)\n",
    "rdata[0][0]"
   ]
  },
  {
   "cell_type": "code",
   "execution_count": 3,
   "metadata": {},
   "outputs": [],
   "source": [
    "raw = group_metadata(path)\n",
    "uid  = '05fa68e5-0ba3-4783-9c07-42740c4914c6'\n",
    "file = '05fa68e5-0ba3-4783-9c07-42740c4914c6_11-06-2021_09-53-01.json'\n",
    "raw_data = json.load(codecs.open(path + file, 'r', 'utf-8-sig'))"
   ]
  },
  {
   "cell_type": "code",
   "execution_count": 4,
   "metadata": {},
   "outputs": [
    {
     "data": {
      "text/plain": [
       "dict_keys(['SamplingConfigurations', 'CallLogs', 'ImgMetaData', 'InstallApps', 'LocationInfo', 'BatteryInfo', 'WifiInfo', 'ScreenInfo'])"
      ]
     },
     "execution_count": 4,
     "metadata": {},
     "output_type": "execute_result"
    }
   ],
   "source": [
    "raw_data.keys()"
   ]
  },
  {
   "cell_type": "code",
   "execution_count": 5,
   "metadata": {},
   "outputs": [],
   "source": [
    "loc, df_r = create_df_from_init_metadata(uid, raw_data)"
   ]
  },
  {
   "cell_type": "code",
   "execution_count": 6,
   "metadata": {},
   "outputs": [
    {
     "data": {
      "text/plain": [
       "dict_keys(['05fa68e5-0ba3-4783-9c07-42740c4914c6_SamplingConfigurations', '05fa68e5-0ba3-4783-9c07-42740c4914c6_CallLogs', '05fa68e5-0ba3-4783-9c07-42740c4914c6_ImgMetaData', '05fa68e5-0ba3-4783-9c07-42740c4914c6_InstallApps', '05fa68e5-0ba3-4783-9c07-42740c4914c6_LocationInfo', '05fa68e5-0ba3-4783-9c07-42740c4914c6_BatteryInfo', '05fa68e5-0ba3-4783-9c07-42740c4914c6_WifiInfo', '05fa68e5-0ba3-4783-9c07-42740c4914c6_ScreenInfo'])"
      ]
     },
     "execution_count": 6,
     "metadata": {},
     "output_type": "execute_result"
    }
   ],
   "source": [
    "df_r.keys()"
   ]
  },
  {
   "cell_type": "code",
   "execution_count": 7,
   "metadata": {},
   "outputs": [],
   "source": [
    "df=df_r['05fa68e5-0ba3-4783-9c07-42740c4914c6_ImgMetaData']"
   ]
  },
  {
   "cell_type": "code",
   "execution_count": 8,
   "metadata": {},
   "outputs": [
    {
     "data": {
      "text/html": [
       "<div>\n",
       "<style scoped>\n",
       "    .dataframe tbody tr th:only-of-type {\n",
       "        vertical-align: middle;\n",
       "    }\n",
       "\n",
       "    .dataframe tbody tr th {\n",
       "        vertical-align: top;\n",
       "    }\n",
       "\n",
       "    .dataframe thead th {\n",
       "        text-align: right;\n",
       "    }\n",
       "</style>\n",
       "<table border=\"1\" class=\"dataframe\">\n",
       "  <thead>\n",
       "    <tr style=\"text-align: right;\">\n",
       "      <th></th>\n",
       "      <th>IMAGE_TYPE</th>\n",
       "      <th>IMAGE_DATE_TIME</th>\n",
       "    </tr>\n",
       "  </thead>\n",
       "  <tbody>\n",
       "    <tr>\n",
       "      <th>0</th>\n",
       "      <td>image/jpeg</td>\n",
       "      <td>2019-10-16 08:48:55</td>\n",
       "    </tr>\n",
       "    <tr>\n",
       "      <th>1</th>\n",
       "      <td>image/jpeg</td>\n",
       "      <td>2019-10-16 08:49:06</td>\n",
       "    </tr>\n",
       "    <tr>\n",
       "      <th>2</th>\n",
       "      <td>image/jpeg</td>\n",
       "      <td>2019-10-16 08:49:07</td>\n",
       "    </tr>\n",
       "    <tr>\n",
       "      <th>3</th>\n",
       "      <td>image/jpeg</td>\n",
       "      <td>2019-10-20 15:42:48</td>\n",
       "    </tr>\n",
       "    <tr>\n",
       "      <th>4</th>\n",
       "      <td>image/jpeg</td>\n",
       "      <td>2019-10-22 14:09:27</td>\n",
       "    </tr>\n",
       "  </tbody>\n",
       "</table>\n",
       "</div>"
      ],
      "text/plain": [
       "   IMAGE_TYPE     IMAGE_DATE_TIME\n",
       "0  image/jpeg 2019-10-16 08:48:55\n",
       "1  image/jpeg 2019-10-16 08:49:06\n",
       "2  image/jpeg 2019-10-16 08:49:07\n",
       "3  image/jpeg 2019-10-20 15:42:48\n",
       "4  image/jpeg 2019-10-22 14:09:27"
      ]
     },
     "execution_count": 8,
     "metadata": {},
     "output_type": "execute_result"
    }
   ],
   "source": [
    "df.head(5)"
   ]
  },
  {
   "cell_type": "code",
   "execution_count": 9,
   "metadata": {},
   "outputs": [],
   "source": [
    "loc_tuple = (loc[0]['Latitude'], loc[0]['Longitude'])"
   ]
  },
  {
   "cell_type": "code",
   "execution_count": 10,
   "metadata": {
    "scrolled": false
   },
   "outputs": [
    {
     "name": "stdout",
     "output_type": "stream",
     "text": [
      "-> processed -> 724\n",
      "-> processed -> 1448\n",
      "-> processed -> 1558\n",
      "-> processed -> 420\n",
      "-> processed -> 1278\n",
      "-> processed -> 311\n",
      "-> processed -> 462\n",
      "-> processed -> 3294\n",
      "-> processed -> 1436\n",
      "-> processed -> 1369\n",
      "-> processed -> 2398\n",
      "-> data to small to process -> 54\n",
      "-> processed -> 607\n",
      "-> processed -> 553\n",
      "-> data to small to process -> 193\n",
      "-> processed -> 204\n",
      "-> data to small to process -> 137\n",
      "-> processed -> 1526\n",
      "-> processed -> 964\n",
      "-> processed -> 897\n",
      "-> data to small to process -> 28\n",
      "(17, 33)\n"
     ]
    }
   ],
   "source": [
    "x = score_vector_constructor(path, 'photo-gallery')"
   ]
  },
  {
   "cell_type": "code",
   "execution_count": 42,
   "metadata": {},
   "outputs": [],
   "source": [
    "from scipy.stats import zscore\n",
    "from sklearn import preprocessing"
   ]
  },
  {
   "cell_type": "code",
   "execution_count": 18,
   "metadata": {},
   "outputs": [],
   "source": [
    "#read the tags from json file for user register non register and create df with tag column\n",
    "def create_tag_df(json_file_path, column_name): # 'entries.json'\n",
    "    tag_data = json.load(codecs.open(json_file_path, 'r', 'utf-8-sig'))\n",
    "    df_tag = pd.DataFrame(tag_data)\n",
    "    df_tag = df_tag.rename(columns={column_name: ''}) # 'app_userid'\n",
    "    dftag = df_tag.set_index('')\n",
    "    return dftag"
   ]
  },
  {
   "cell_type": "code",
   "execution_count": 68,
   "metadata": {},
   "outputs": [],
   "source": [
    "def norm_df(old_df):\n",
    "    inxs = old_df.index.values\n",
    "    zs = zscore(old_df.values, axis=0, ddof=1)\n",
    "    return pd.DataFrame(zs, columns=old_df.columns, index=inxs)\n",
    "n_df = norm_df(x)"
   ]
  },
  {
   "cell_type": "code",
   "execution_count": 44,
   "metadata": {},
   "outputs": [],
   "source": [
    "def norm_df_2(df):\n",
    "    inxs = df.index.values\n",
    "    std_scale = preprocessing.StandardScaler().fit(df)\n",
    "    df_std = std_scale.transform(df)\n",
    "    return pd.DataFrame(df_std, columns=df.columns, index=inxs)\n",
    "n2_df = norm_df_2(x)"
   ]
  },
  {
   "cell_type": "code",
   "execution_count": 52,
   "metadata": {},
   "outputs": [
    {
     "data": {
      "text/plain": [
       "17"
      ]
     },
     "execution_count": 52,
     "metadata": {},
     "output_type": "execute_result"
    }
   ],
   "source": [
    "len(n2_df)"
   ]
  },
  {
   "cell_type": "code",
   "execution_count": 70,
   "metadata": {},
   "outputs": [
    {
     "data": {
      "text/plain": [
       "0.970142500145332"
      ]
     },
     "execution_count": 70,
     "metadata": {},
     "output_type": "execute_result"
    }
   ],
   "source": []
  },
  {
   "cell_type": "code",
   "execution_count": 24,
   "metadata": {},
   "outputs": [
    {
     "data": {
      "text/html": [
       "<div>\n",
       "<style scoped>\n",
       "    .dataframe tbody tr th:only-of-type {\n",
       "        vertical-align: middle;\n",
       "    }\n",
       "\n",
       "    .dataframe tbody tr th {\n",
       "        vertical-align: top;\n",
       "    }\n",
       "\n",
       "    .dataframe thead th {\n",
       "        text-align: right;\n",
       "    }\n",
       "</style>\n",
       "<table border=\"1\" class=\"dataframe\">\n",
       "  <thead>\n",
       "    <tr style=\"text-align: right;\">\n",
       "      <th></th>\n",
       "      <th>User_Register</th>\n",
       "    </tr>\n",
       "    <tr>\n",
       "      <th></th>\n",
       "      <th></th>\n",
       "    </tr>\n",
       "  </thead>\n",
       "  <tbody>\n",
       "    <tr>\n",
       "      <th>005b6c49-c4ed-438b-9092-ad02ed4d672e</th>\n",
       "      <td>false</td>\n",
       "    </tr>\n",
       "    <tr>\n",
       "      <th>005d6e1d-7a19-422f-a71a-1555b6ca5724</th>\n",
       "      <td>false</td>\n",
       "    </tr>\n",
       "    <tr>\n",
       "      <th>007a0785-1321-4112-be89-e6549a4725a2</th>\n",
       "      <td>true</td>\n",
       "    </tr>\n",
       "    <tr>\n",
       "      <th>008e4a51-2ded-4a7f-a822-e1a4756d7ebd</th>\n",
       "      <td>false</td>\n",
       "    </tr>\n",
       "    <tr>\n",
       "      <th>00c86b27-f076-4560-bb3d-2fb0364b23a1</th>\n",
       "      <td>false</td>\n",
       "    </tr>\n",
       "    <tr>\n",
       "      <th>...</th>\n",
       "      <td>...</td>\n",
       "    </tr>\n",
       "    <tr>\n",
       "      <th>ff992f28-a57d-400d-87eb-5249fdc84337</th>\n",
       "      <td>true</td>\n",
       "    </tr>\n",
       "    <tr>\n",
       "      <th>ffc7b3ed-d66e-4075-ba35-aa1b96c88db7</th>\n",
       "      <td>false</td>\n",
       "    </tr>\n",
       "    <tr>\n",
       "      <th>ffccdd4d-03a1-41ba-bfcf-5f1428db631b</th>\n",
       "      <td>false</td>\n",
       "    </tr>\n",
       "    <tr>\n",
       "      <th>ffe09b02-12df-4551-9d88-3f7f52707d57</th>\n",
       "      <td>true</td>\n",
       "    </tr>\n",
       "    <tr>\n",
       "      <th>fff4c564-d0f5-4358-9d34-0a15da2d588e</th>\n",
       "      <td>true</td>\n",
       "    </tr>\n",
       "  </tbody>\n",
       "</table>\n",
       "<p>2976 rows × 1 columns</p>\n",
       "</div>"
      ],
      "text/plain": [
       "                                     User_Register\n",
       "                                                  \n",
       "005b6c49-c4ed-438b-9092-ad02ed4d672e         false\n",
       "005d6e1d-7a19-422f-a71a-1555b6ca5724         false\n",
       "007a0785-1321-4112-be89-e6549a4725a2          true\n",
       "008e4a51-2ded-4a7f-a822-e1a4756d7ebd         false\n",
       "00c86b27-f076-4560-bb3d-2fb0364b23a1         false\n",
       "...                                            ...\n",
       "ff992f28-a57d-400d-87eb-5249fdc84337          true\n",
       "ffc7b3ed-d66e-4075-ba35-aa1b96c88db7         false\n",
       "ffccdd4d-03a1-41ba-bfcf-5f1428db631b         false\n",
       "ffe09b02-12df-4551-9d88-3f7f52707d57          true\n",
       "fff4c564-d0f5-4358-9d34-0a15da2d588e          true\n",
       "\n",
       "[2976 rows x 1 columns]"
      ]
     },
     "execution_count": 24,
     "metadata": {},
     "output_type": "execute_result"
    }
   ],
   "source": [
    "dftag = create_tag_df('entries.json')\n",
    "dftag"
   ]
  },
  {
   "cell_type": "code",
   "execution_count": 30,
   "metadata": {},
   "outputs": [
    {
     "data": {
      "text/plain": [
       "2976"
      ]
     },
     "execution_count": 30,
     "metadata": {},
     "output_type": "execute_result"
    }
   ],
   "source": [
    "len(dftag)"
   ]
  },
  {
   "cell_type": "code",
   "execution_count": 71,
   "metadata": {},
   "outputs": [],
   "source": [
    "dfjoin = n_df.join(dftag)\n",
    "dfjoin['User_Register'] = dfjoin['User_Register'].fillna('false')"
   ]
  },
  {
   "cell_type": "code",
   "execution_count": 72,
   "metadata": {},
   "outputs": [
    {
     "data": {
      "text/plain": [
       "17"
      ]
     },
     "execution_count": 72,
     "metadata": {},
     "output_type": "execute_result"
    }
   ],
   "source": [
    "len(dfjoin)"
   ]
  },
  {
   "cell_type": "code",
   "execution_count": 73,
   "metadata": {},
   "outputs": [
    {
     "data": {
      "text/html": [
       "<div>\n",
       "<style scoped>\n",
       "    .dataframe tbody tr th:only-of-type {\n",
       "        vertical-align: middle;\n",
       "    }\n",
       "\n",
       "    .dataframe tbody tr th {\n",
       "        vertical-align: top;\n",
       "    }\n",
       "\n",
       "    .dataframe thead th {\n",
       "        text-align: right;\n",
       "    }\n",
       "</style>\n",
       "<table border=\"1\" class=\"dataframe\">\n",
       "  <thead>\n",
       "    <tr style=\"text-align: right;\">\n",
       "      <th></th>\n",
       "      <th>median number photos taken in week - location</th>\n",
       "      <th>mad number photos taken in week - scale</th>\n",
       "      <th>sample weeks ratio</th>\n",
       "      <th>mean number of photos in burst</th>\n",
       "      <th>mean number of bursts a week</th>\n",
       "      <th>median night time number photos</th>\n",
       "      <th>mad night time number photos</th>\n",
       "      <th>sampled week nights ratio</th>\n",
       "      <th>entropy on number of photos taken in night time</th>\n",
       "      <th>ar of num of photos in night time lag-1</th>\n",
       "      <th>...</th>\n",
       "      <th>mean number of photos in burst at weekend</th>\n",
       "      <th>mean number of bursts in weekend</th>\n",
       "      <th>median work days number photos</th>\n",
       "      <th>mad work days number photos</th>\n",
       "      <th>sampled weekdays ratio</th>\n",
       "      <th>entropy on number of photos taken in weekdays</th>\n",
       "      <th>ar of num of photos in weekdays lag-1</th>\n",
       "      <th>mean number of photos in burst at weekdays</th>\n",
       "      <th>mean number of bursts in weekdays</th>\n",
       "      <th>User_Register</th>\n",
       "    </tr>\n",
       "  </thead>\n",
       "  <tbody>\n",
       "    <tr>\n",
       "      <th>05fa68e5-0ba3-4783-9c07-42740c4914c6</th>\n",
       "      <td>-0.341279</td>\n",
       "      <td>-0.241303</td>\n",
       "      <td>0.228388</td>\n",
       "      <td>-0.358423</td>\n",
       "      <td>-0.519930</td>\n",
       "      <td>-0.543800</td>\n",
       "      <td>-0.669567</td>\n",
       "      <td>-0.378252</td>\n",
       "      <td>0.252810</td>\n",
       "      <td>-0.440430</td>\n",
       "      <td>...</td>\n",
       "      <td>-0.193704</td>\n",
       "      <td>-0.619958</td>\n",
       "      <td>-0.333202</td>\n",
       "      <td>-0.299917</td>\n",
       "      <td>0.244903</td>\n",
       "      <td>1.030968</td>\n",
       "      <td>-0.525729</td>\n",
       "      <td>-0.334137</td>\n",
       "      <td>-0.499302</td>\n",
       "      <td>false</td>\n",
       "    </tr>\n",
       "    <tr>\n",
       "      <th>12fa7561-2e77-4334-b9e1-6858ed27570f</th>\n",
       "      <td>-0.501170</td>\n",
       "      <td>-0.676379</td>\n",
       "      <td>-1.032462</td>\n",
       "      <td>2.112833</td>\n",
       "      <td>-0.751947</td>\n",
       "      <td>-0.543800</td>\n",
       "      <td>-0.669567</td>\n",
       "      <td>-0.895632</td>\n",
       "      <td>-0.401850</td>\n",
       "      <td>1.168912</td>\n",
       "      <td>...</td>\n",
       "      <td>3.345062</td>\n",
       "      <td>-0.723825</td>\n",
       "      <td>-0.462675</td>\n",
       "      <td>-0.571842</td>\n",
       "      <td>-1.079343</td>\n",
       "      <td>-1.142863</td>\n",
       "      <td>1.459075</td>\n",
       "      <td>-0.626437</td>\n",
       "      <td>-0.701210</td>\n",
       "      <td>true</td>\n",
       "    </tr>\n",
       "    <tr>\n",
       "      <th>1362474c-0fb5-4932-a33d-5a30f23ac7e3</th>\n",
       "      <td>-0.501170</td>\n",
       "      <td>-0.676379</td>\n",
       "      <td>-1.168924</td>\n",
       "      <td>-0.264540</td>\n",
       "      <td>-0.451051</td>\n",
       "      <td>-0.543800</td>\n",
       "      <td>-0.669567</td>\n",
       "      <td>-1.021261</td>\n",
       "      <td>0.667828</td>\n",
       "      <td>-0.225490</td>\n",
       "      <td>...</td>\n",
       "      <td>-0.281951</td>\n",
       "      <td>0.425935</td>\n",
       "      <td>-0.462675</td>\n",
       "      <td>-0.571842</td>\n",
       "      <td>-1.066459</td>\n",
       "      <td>0.792936</td>\n",
       "      <td>-0.354127</td>\n",
       "      <td>-0.027463</td>\n",
       "      <td>-0.507707</td>\n",
       "      <td>false</td>\n",
       "    </tr>\n",
       "    <tr>\n",
       "      <th>148b0326-09e2-404f-9de6-aff6d44f2a38</th>\n",
       "      <td>0.138393</td>\n",
       "      <td>-0.054842</td>\n",
       "      <td>1.206315</td>\n",
       "      <td>-0.379527</td>\n",
       "      <td>-0.041939</td>\n",
       "      <td>0.350839</td>\n",
       "      <td>0.572176</td>\n",
       "      <td>1.281879</td>\n",
       "      <td>0.032790</td>\n",
       "      <td>-0.641499</td>\n",
       "      <td>...</td>\n",
       "      <td>-0.341736</td>\n",
       "      <td>0.085349</td>\n",
       "      <td>0.055216</td>\n",
       "      <td>-0.027992</td>\n",
       "      <td>1.349899</td>\n",
       "      <td>-0.383312</td>\n",
       "      <td>-0.796691</td>\n",
       "      <td>-0.194126</td>\n",
       "      <td>-0.151655</td>\n",
       "      <td>false</td>\n",
       "    </tr>\n",
       "    <tr>\n",
       "      <th>17ac0e20-b292-492c-9adc-faf60a068926</th>\n",
       "      <td>-0.501170</td>\n",
       "      <td>-0.676379</td>\n",
       "      <td>-1.123054</td>\n",
       "      <td>2.298451</td>\n",
       "      <td>-0.832466</td>\n",
       "      <td>-0.543800</td>\n",
       "      <td>-0.669567</td>\n",
       "      <td>-1.115439</td>\n",
       "      <td>-1.636334</td>\n",
       "      <td>-0.509754</td>\n",
       "      <td>...</td>\n",
       "      <td>1.650791</td>\n",
       "      <td>-0.737410</td>\n",
       "      <td>-0.462675</td>\n",
       "      <td>-0.571842</td>\n",
       "      <td>-1.150562</td>\n",
       "      <td>0.026391</td>\n",
       "      <td>-0.565696</td>\n",
       "      <td>1.385942</td>\n",
       "      <td>-0.704461</td>\n",
       "      <td>true</td>\n",
       "    </tr>\n",
       "  </tbody>\n",
       "</table>\n",
       "<p>5 rows × 34 columns</p>\n",
       "</div>"
      ],
      "text/plain": [
       "                                      median number photos taken in week - location  \\\n",
       "05fa68e5-0ba3-4783-9c07-42740c4914c6                                      -0.341279   \n",
       "12fa7561-2e77-4334-b9e1-6858ed27570f                                      -0.501170   \n",
       "1362474c-0fb5-4932-a33d-5a30f23ac7e3                                      -0.501170   \n",
       "148b0326-09e2-404f-9de6-aff6d44f2a38                                       0.138393   \n",
       "17ac0e20-b292-492c-9adc-faf60a068926                                      -0.501170   \n",
       "\n",
       "                                      mad number photos taken in week - scale  \\\n",
       "05fa68e5-0ba3-4783-9c07-42740c4914c6                                -0.241303   \n",
       "12fa7561-2e77-4334-b9e1-6858ed27570f                                -0.676379   \n",
       "1362474c-0fb5-4932-a33d-5a30f23ac7e3                                -0.676379   \n",
       "148b0326-09e2-404f-9de6-aff6d44f2a38                                -0.054842   \n",
       "17ac0e20-b292-492c-9adc-faf60a068926                                -0.676379   \n",
       "\n",
       "                                      sample weeks ratio  \\\n",
       "05fa68e5-0ba3-4783-9c07-42740c4914c6            0.228388   \n",
       "12fa7561-2e77-4334-b9e1-6858ed27570f           -1.032462   \n",
       "1362474c-0fb5-4932-a33d-5a30f23ac7e3           -1.168924   \n",
       "148b0326-09e2-404f-9de6-aff6d44f2a38            1.206315   \n",
       "17ac0e20-b292-492c-9adc-faf60a068926           -1.123054   \n",
       "\n",
       "                                      mean number of photos in burst  \\\n",
       "05fa68e5-0ba3-4783-9c07-42740c4914c6                       -0.358423   \n",
       "12fa7561-2e77-4334-b9e1-6858ed27570f                        2.112833   \n",
       "1362474c-0fb5-4932-a33d-5a30f23ac7e3                       -0.264540   \n",
       "148b0326-09e2-404f-9de6-aff6d44f2a38                       -0.379527   \n",
       "17ac0e20-b292-492c-9adc-faf60a068926                        2.298451   \n",
       "\n",
       "                                      mean number of bursts a week  \\\n",
       "05fa68e5-0ba3-4783-9c07-42740c4914c6                     -0.519930   \n",
       "12fa7561-2e77-4334-b9e1-6858ed27570f                     -0.751947   \n",
       "1362474c-0fb5-4932-a33d-5a30f23ac7e3                     -0.451051   \n",
       "148b0326-09e2-404f-9de6-aff6d44f2a38                     -0.041939   \n",
       "17ac0e20-b292-492c-9adc-faf60a068926                     -0.832466   \n",
       "\n",
       "                                      median night time number photos  \\\n",
       "05fa68e5-0ba3-4783-9c07-42740c4914c6                        -0.543800   \n",
       "12fa7561-2e77-4334-b9e1-6858ed27570f                        -0.543800   \n",
       "1362474c-0fb5-4932-a33d-5a30f23ac7e3                        -0.543800   \n",
       "148b0326-09e2-404f-9de6-aff6d44f2a38                         0.350839   \n",
       "17ac0e20-b292-492c-9adc-faf60a068926                        -0.543800   \n",
       "\n",
       "                                      mad night time number photos  \\\n",
       "05fa68e5-0ba3-4783-9c07-42740c4914c6                     -0.669567   \n",
       "12fa7561-2e77-4334-b9e1-6858ed27570f                     -0.669567   \n",
       "1362474c-0fb5-4932-a33d-5a30f23ac7e3                     -0.669567   \n",
       "148b0326-09e2-404f-9de6-aff6d44f2a38                      0.572176   \n",
       "17ac0e20-b292-492c-9adc-faf60a068926                     -0.669567   \n",
       "\n",
       "                                      sampled week nights ratio  \\\n",
       "05fa68e5-0ba3-4783-9c07-42740c4914c6                  -0.378252   \n",
       "12fa7561-2e77-4334-b9e1-6858ed27570f                  -0.895632   \n",
       "1362474c-0fb5-4932-a33d-5a30f23ac7e3                  -1.021261   \n",
       "148b0326-09e2-404f-9de6-aff6d44f2a38                   1.281879   \n",
       "17ac0e20-b292-492c-9adc-faf60a068926                  -1.115439   \n",
       "\n",
       "                                      entropy on number of photos taken in night time  \\\n",
       "05fa68e5-0ba3-4783-9c07-42740c4914c6                                         0.252810   \n",
       "12fa7561-2e77-4334-b9e1-6858ed27570f                                        -0.401850   \n",
       "1362474c-0fb5-4932-a33d-5a30f23ac7e3                                         0.667828   \n",
       "148b0326-09e2-404f-9de6-aff6d44f2a38                                         0.032790   \n",
       "17ac0e20-b292-492c-9adc-faf60a068926                                        -1.636334   \n",
       "\n",
       "                                      ar of num of photos in night time lag-1  \\\n",
       "05fa68e5-0ba3-4783-9c07-42740c4914c6                                -0.440430   \n",
       "12fa7561-2e77-4334-b9e1-6858ed27570f                                 1.168912   \n",
       "1362474c-0fb5-4932-a33d-5a30f23ac7e3                                -0.225490   \n",
       "148b0326-09e2-404f-9de6-aff6d44f2a38                                -0.641499   \n",
       "17ac0e20-b292-492c-9adc-faf60a068926                                -0.509754   \n",
       "\n",
       "                                      ...  \\\n",
       "05fa68e5-0ba3-4783-9c07-42740c4914c6  ...   \n",
       "12fa7561-2e77-4334-b9e1-6858ed27570f  ...   \n",
       "1362474c-0fb5-4932-a33d-5a30f23ac7e3  ...   \n",
       "148b0326-09e2-404f-9de6-aff6d44f2a38  ...   \n",
       "17ac0e20-b292-492c-9adc-faf60a068926  ...   \n",
       "\n",
       "                                      mean number of photos in burst at weekend  \\\n",
       "05fa68e5-0ba3-4783-9c07-42740c4914c6                                  -0.193704   \n",
       "12fa7561-2e77-4334-b9e1-6858ed27570f                                   3.345062   \n",
       "1362474c-0fb5-4932-a33d-5a30f23ac7e3                                  -0.281951   \n",
       "148b0326-09e2-404f-9de6-aff6d44f2a38                                  -0.341736   \n",
       "17ac0e20-b292-492c-9adc-faf60a068926                                   1.650791   \n",
       "\n",
       "                                      mean number of bursts in weekend  \\\n",
       "05fa68e5-0ba3-4783-9c07-42740c4914c6                         -0.619958   \n",
       "12fa7561-2e77-4334-b9e1-6858ed27570f                         -0.723825   \n",
       "1362474c-0fb5-4932-a33d-5a30f23ac7e3                          0.425935   \n",
       "148b0326-09e2-404f-9de6-aff6d44f2a38                          0.085349   \n",
       "17ac0e20-b292-492c-9adc-faf60a068926                         -0.737410   \n",
       "\n",
       "                                      median work days number photos  \\\n",
       "05fa68e5-0ba3-4783-9c07-42740c4914c6                       -0.333202   \n",
       "12fa7561-2e77-4334-b9e1-6858ed27570f                       -0.462675   \n",
       "1362474c-0fb5-4932-a33d-5a30f23ac7e3                       -0.462675   \n",
       "148b0326-09e2-404f-9de6-aff6d44f2a38                        0.055216   \n",
       "17ac0e20-b292-492c-9adc-faf60a068926                       -0.462675   \n",
       "\n",
       "                                      mad work days number photos  \\\n",
       "05fa68e5-0ba3-4783-9c07-42740c4914c6                    -0.299917   \n",
       "12fa7561-2e77-4334-b9e1-6858ed27570f                    -0.571842   \n",
       "1362474c-0fb5-4932-a33d-5a30f23ac7e3                    -0.571842   \n",
       "148b0326-09e2-404f-9de6-aff6d44f2a38                    -0.027992   \n",
       "17ac0e20-b292-492c-9adc-faf60a068926                    -0.571842   \n",
       "\n",
       "                                      sampled weekdays ratio  \\\n",
       "05fa68e5-0ba3-4783-9c07-42740c4914c6                0.244903   \n",
       "12fa7561-2e77-4334-b9e1-6858ed27570f               -1.079343   \n",
       "1362474c-0fb5-4932-a33d-5a30f23ac7e3               -1.066459   \n",
       "148b0326-09e2-404f-9de6-aff6d44f2a38                1.349899   \n",
       "17ac0e20-b292-492c-9adc-faf60a068926               -1.150562   \n",
       "\n",
       "                                      entropy on number of photos taken in weekdays  \\\n",
       "05fa68e5-0ba3-4783-9c07-42740c4914c6                                       1.030968   \n",
       "12fa7561-2e77-4334-b9e1-6858ed27570f                                      -1.142863   \n",
       "1362474c-0fb5-4932-a33d-5a30f23ac7e3                                       0.792936   \n",
       "148b0326-09e2-404f-9de6-aff6d44f2a38                                      -0.383312   \n",
       "17ac0e20-b292-492c-9adc-faf60a068926                                       0.026391   \n",
       "\n",
       "                                      ar of num of photos in weekdays lag-1  \\\n",
       "05fa68e5-0ba3-4783-9c07-42740c4914c6                              -0.525729   \n",
       "12fa7561-2e77-4334-b9e1-6858ed27570f                               1.459075   \n",
       "1362474c-0fb5-4932-a33d-5a30f23ac7e3                              -0.354127   \n",
       "148b0326-09e2-404f-9de6-aff6d44f2a38                              -0.796691   \n",
       "17ac0e20-b292-492c-9adc-faf60a068926                              -0.565696   \n",
       "\n",
       "                                      mean number of photos in burst at weekdays  \\\n",
       "05fa68e5-0ba3-4783-9c07-42740c4914c6                                   -0.334137   \n",
       "12fa7561-2e77-4334-b9e1-6858ed27570f                                   -0.626437   \n",
       "1362474c-0fb5-4932-a33d-5a30f23ac7e3                                   -0.027463   \n",
       "148b0326-09e2-404f-9de6-aff6d44f2a38                                   -0.194126   \n",
       "17ac0e20-b292-492c-9adc-faf60a068926                                    1.385942   \n",
       "\n",
       "                                      mean number of bursts in weekdays  \\\n",
       "05fa68e5-0ba3-4783-9c07-42740c4914c6                          -0.499302   \n",
       "12fa7561-2e77-4334-b9e1-6858ed27570f                          -0.701210   \n",
       "1362474c-0fb5-4932-a33d-5a30f23ac7e3                          -0.507707   \n",
       "148b0326-09e2-404f-9de6-aff6d44f2a38                          -0.151655   \n",
       "17ac0e20-b292-492c-9adc-faf60a068926                          -0.704461   \n",
       "\n",
       "                                      User_Register  \n",
       "05fa68e5-0ba3-4783-9c07-42740c4914c6          false  \n",
       "12fa7561-2e77-4334-b9e1-6858ed27570f           true  \n",
       "1362474c-0fb5-4932-a33d-5a30f23ac7e3          false  \n",
       "148b0326-09e2-404f-9de6-aff6d44f2a38          false  \n",
       "17ac0e20-b292-492c-9adc-faf60a068926           true  \n",
       "\n",
       "[5 rows x 34 columns]"
      ]
     },
     "execution_count": 73,
     "metadata": {},
     "output_type": "execute_result"
    }
   ],
   "source": [
    "dfjoin.head(5)"
   ]
  },
  {
   "cell_type": "code",
   "execution_count": 28,
   "metadata": {},
   "outputs": [
    {
     "data": {
      "text/plain": [
       "13"
      ]
     },
     "execution_count": 28,
     "metadata": {},
     "output_type": "execute_result"
    }
   ],
   "source": [
    "len(dfjoin[dfjoin.User_Register == 'false'])"
   ]
  },
  {
   "cell_type": "code",
   "execution_count": 78,
   "metadata": {},
   "outputs": [
    {
     "data": {
      "text/plain": [
       "0.9701425001453321"
      ]
     },
     "execution_count": 78,
     "metadata": {},
     "output_type": "execute_result"
    }
   ],
   "source": [
    "dfjoin.values[:,4].std()"
   ]
  },
  {
   "cell_type": "code",
   "execution_count": null,
   "metadata": {},
   "outputs": [],
   "source": []
  }
 ],
 "metadata": {
  "kernelspec": {
   "display_name": "Python 3",
   "language": "python",
   "name": "python3"
  },
  "language_info": {
   "codemirror_mode": {
    "name": "ipython",
    "version": 3
   },
   "file_extension": ".py",
   "mimetype": "text/x-python",
   "name": "python",
   "nbconvert_exporter": "python",
   "pygments_lexer": "ipython3",
   "version": "3.8.6"
  }
 },
 "nbformat": 4,
 "nbformat_minor": 4
}
