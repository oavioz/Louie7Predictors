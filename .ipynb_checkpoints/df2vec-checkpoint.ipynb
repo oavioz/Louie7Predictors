{
 "cells": [
  {
   "cell_type": "code",
   "execution_count": 1,
   "id": "e3c6b3ff",
   "metadata": {},
   "outputs": [],
   "source": [
    "import numpy as np\n",
    "from statsmodels.robust.scale import huber"
   ]
  },
  {
   "cell_type": "code",
   "execution_count": 2,
   "id": "e18e35f1",
   "metadata": {},
   "outputs": [],
   "source": [
    "import pandas as pd\n",
    "import time,datetime"
   ]
  },
  {
   "cell_type": "code",
   "execution_count": 3,
   "id": "1fe19298",
   "metadata": {},
   "outputs": [],
   "source": [
    "from statsmodels.robust.scale import qn,qn_scale"
   ]
  },
  {
   "cell_type": "code",
   "execution_count": 4,
   "id": "fd92bf81",
   "metadata": {},
   "outputs": [],
   "source": [
    "# Mean and standard deviation to generate normal random variates\n",
    "mean, std_dev = 0, 2\n",
    "sample_size = 25\n",
    "np.random.seed(42)\n",
    "x = np.random.normal(mean, std_dev, sample_size)\n",
    "# Appends a couple of outliers\n",
    "x = np.append(x, (50, 100))"
   ]
  },
  {
   "cell_type": "code",
   "execution_count": 5,
   "id": "b981012e",
   "metadata": {},
   "outputs": [
    {
     "data": {
      "text/plain": [
       "array([  0.99342831,  -0.2765286 ,   1.29537708,   3.04605971,\n",
       "        -0.46830675,  -0.46827391,   3.15842563,   1.53486946,\n",
       "        -0.93894877,   1.08512009,  -0.92683539,  -0.93145951,\n",
       "         0.48392454,  -3.82656049,  -3.44983567,  -1.12457506,\n",
       "        -2.02566224,   0.62849467,  -1.81604815,  -2.8246074 ,\n",
       "         2.93129754,  -0.4515526 ,   0.13505641,  -2.84949637,\n",
       "        -1.08876545,  50.        , 100.        ])"
      ]
     },
     "execution_count": 5,
     "metadata": {},
     "output_type": "execute_result"
    }
   ],
   "source": [
    "x"
   ]
  },
  {
   "cell_type": "code",
   "execution_count": 6,
   "id": "98bac046",
   "metadata": {},
   "outputs": [
    {
     "name": "stdout",
     "output_type": "stream",
     "text": [
      "5.2527628543368685 20.945734041764215\n"
     ]
    }
   ],
   "source": [
    "print (np.mean(x), np.std(x))"
   ]
  },
  {
   "cell_type": "code",
   "execution_count": 7,
   "id": "07faf4af",
   "metadata": {},
   "outputs": [
    {
     "name": "stdout",
     "output_type": "stream",
     "text": [
      "(array(-0.03323791), array(2.36742171))\n"
     ]
    }
   ],
   "source": [
    "print(huber(x))"
   ]
  },
  {
   "cell_type": "code",
   "execution_count": 8,
   "id": "3c89ce20",
   "metadata": {},
   "outputs": [
    {
     "name": "stdout",
     "output_type": "stream",
     "text": [
      "2.4281939407751443\n"
     ]
    }
   ],
   "source": [
    "print(qn_scale(x))"
   ]
  },
  {
   "cell_type": "code",
   "execution_count": 9,
   "id": "da309756",
   "metadata": {},
   "outputs": [],
   "source": [
    "y = huber(x)[0]"
   ]
  },
  {
   "cell_type": "code",
   "execution_count": 10,
   "id": "14aeb55e",
   "metadata": {},
   "outputs": [
    {
     "data": {
      "text/plain": [
       "-0.8974235880007292"
      ]
     },
     "execution_count": 10,
     "metadata": {},
     "output_type": "execute_result"
    }
   ],
   "source": [
    "len(x)*y.item(0)"
   ]
  },
  {
   "cell_type": "code",
   "execution_count": 11,
   "id": "dee2ceb8",
   "metadata": {},
   "outputs": [
    {
     "data": {
      "text/plain": [
       "array([1, 2, 3, 4, 5, 6])"
      ]
     },
     "execution_count": 11,
     "metadata": {},
     "output_type": "execute_result"
    }
   ],
   "source": [
    "np.concatenate(([1,2,3], [4,5,6]), axis=0)"
   ]
  },
  {
   "cell_type": "code",
   "execution_count": 23,
   "id": "4f498571",
   "metadata": {},
   "outputs": [],
   "source": [
    "dfd =  pd.read_csv('/Users/smuel/Developer/Python/Louie7Predictors/sample_salesv3.csv')\n",
    "dfd['date'] = pd.to_datetime(dfd['date'])"
   ]
  },
  {
   "cell_type": "code",
   "execution_count": 25,
   "id": "22bbf823",
   "metadata": {},
   "outputs": [],
   "source": [
    "ar_data = dfd['date'].to_numpy()"
   ]
  },
  {
   "cell_type": "code",
   "execution_count": 27,
   "id": "5595b304",
   "metadata": {},
   "outputs": [
    {
     "data": {
      "text/html": [
       "<div>\n",
       "<style scoped>\n",
       "    .dataframe tbody tr th:only-of-type {\n",
       "        vertical-align: middle;\n",
       "    }\n",
       "\n",
       "    .dataframe tbody tr th {\n",
       "        vertical-align: top;\n",
       "    }\n",
       "\n",
       "    .dataframe thead th {\n",
       "        text-align: right;\n",
       "    }\n",
       "</style>\n",
       "<table border=\"1\" class=\"dataframe\">\n",
       "  <thead>\n",
       "    <tr style=\"text-align: right;\">\n",
       "      <th></th>\n",
       "      <th>Unnamed: 0</th>\n",
       "      <th>account number</th>\n",
       "      <th>name</th>\n",
       "      <th>sku</th>\n",
       "      <th>quantity</th>\n",
       "      <th>unit price</th>\n",
       "      <th>ext price</th>\n",
       "      <th>date</th>\n",
       "    </tr>\n",
       "  </thead>\n",
       "  <tbody>\n",
       "    <tr>\n",
       "      <th>0</th>\n",
       "      <td>0</td>\n",
       "      <td>740150</td>\n",
       "      <td>BartonLLC</td>\n",
       "      <td>B1-20000</td>\n",
       "      <td>39</td>\n",
       "      <td>86.69</td>\n",
       "      <td>3380.91</td>\n",
       "      <td>2014-01-01 07:21:00</td>\n",
       "    </tr>\n",
       "    <tr>\n",
       "      <th>1</th>\n",
       "      <td>1</td>\n",
       "      <td>714466</td>\n",
       "      <td>BartonLLC</td>\n",
       "      <td>S2-77896</td>\n",
       "      <td>-1</td>\n",
       "      <td>63.16</td>\n",
       "      <td>-63.16</td>\n",
       "      <td>2014-01-01 07:21:30</td>\n",
       "    </tr>\n",
       "    <tr>\n",
       "      <th>2</th>\n",
       "      <td>2</td>\n",
       "      <td>218895</td>\n",
       "      <td>BartonLLC</td>\n",
       "      <td>B1-69924</td>\n",
       "      <td>23</td>\n",
       "      <td>90.70</td>\n",
       "      <td>2086.10</td>\n",
       "      <td>2014-01-01 07:22:00</td>\n",
       "    </tr>\n",
       "    <tr>\n",
       "      <th>3</th>\n",
       "      <td>3</td>\n",
       "      <td>307599</td>\n",
       "      <td>BartonLLC</td>\n",
       "      <td>B1-69924</td>\n",
       "      <td>41</td>\n",
       "      <td>21.05</td>\n",
       "      <td>863.05</td>\n",
       "      <td>2014-01-01 07:22:30</td>\n",
       "    </tr>\n",
       "    <tr>\n",
       "      <th>4</th>\n",
       "      <td>4</td>\n",
       "      <td>412290</td>\n",
       "      <td>Kassulke</td>\n",
       "      <td>S2-34077</td>\n",
       "      <td>6</td>\n",
       "      <td>83.21</td>\n",
       "      <td>499.26</td>\n",
       "      <td>2014-01-01 07:23:00</td>\n",
       "    </tr>\n",
       "  </tbody>\n",
       "</table>\n",
       "</div>"
      ],
      "text/plain": [
       "   Unnamed: 0  account number       name       sku  quantity  unit price  \\\n",
       "0           0          740150  BartonLLC  B1-20000        39       86.69   \n",
       "1           1          714466  BartonLLC  S2-77896        -1       63.16   \n",
       "2           2          218895  BartonLLC  B1-69924        23       90.70   \n",
       "3           3          307599  BartonLLC  B1-69924        41       21.05   \n",
       "4           4          412290   Kassulke  S2-34077         6       83.21   \n",
       "\n",
       "   ext price                date  \n",
       "0    3380.91 2014-01-01 07:21:00  \n",
       "1     -63.16 2014-01-01 07:21:30  \n",
       "2    2086.10 2014-01-01 07:22:00  \n",
       "3     863.05 2014-01-01 07:22:30  \n",
       "4     499.26 2014-01-01 07:23:00  "
      ]
     },
     "execution_count": 27,
     "metadata": {},
     "output_type": "execute_result"
    }
   ],
   "source": [
    "dfd.head(5)"
   ]
  },
  {
   "cell_type": "code",
   "execution_count": 29,
   "id": "0772cd9b",
   "metadata": {},
   "outputs": [],
   "source": [
    "y = dfd.groupby(pd.Grouper(key='date', freq='D'))['unit price'].apply(lambda x : x.to_numpy())"
   ]
  },
  {
   "cell_type": "code",
   "execution_count": 30,
   "id": "69433c43",
   "metadata": {},
   "outputs": [
    {
     "data": {
      "text/plain": [
       "pandas.core.series.Series"
      ]
     },
     "execution_count": 30,
     "metadata": {},
     "output_type": "execute_result"
    }
   ],
   "source": [
    "type(y)"
   ]
  },
  {
   "cell_type": "code",
   "execution_count": 32,
   "id": "4dc7de81",
   "metadata": {},
   "outputs": [],
   "source": [
    "ya = y.to_numpy()"
   ]
  },
  {
   "cell_type": "code",
   "execution_count": 33,
   "id": "2b693ca3",
   "metadata": {},
   "outputs": [
    {
     "data": {
      "text/plain": [
       "array([86.69, 63.16, 90.7 , 21.05, 83.21, 87.63, 31.1 , 33.25, 84.09,\n",
       "       81.92, 67.74, 20.26, 61.31, 12.44, 71.56, 71.51, 72.75, 16.23,\n",
       "       94.3 , 31.18, 96.95, 50.29, 52.41, 16.97, 60.41])"
      ]
     },
     "execution_count": 33,
     "metadata": {},
     "output_type": "execute_result"
    }
   ],
   "source": [
    "ya[0]"
   ]
  },
  {
   "cell_type": "code",
   "execution_count": 34,
   "id": "926c9209",
   "metadata": {},
   "outputs": [
    {
     "data": {
      "text/plain": [
       "41"
      ]
     },
     "execution_count": 34,
     "metadata": {},
     "output_type": "execute_result"
    }
   ],
   "source": [
    "len(dfd['date'])"
   ]
  },
  {
   "cell_type": "code",
   "execution_count": 41,
   "id": "11b561df",
   "metadata": {},
   "outputs": [
    {
     "data": {
      "text/plain": [
       "48"
      ]
     },
     "execution_count": 41,
     "metadata": {},
     "output_type": "execute_result"
    }
   ],
   "source": [
    "np.abs(dfd['quantity'].max())"
   ]
  },
  {
   "cell_type": "code",
   "execution_count": 38,
   "id": "2192fa1a",
   "metadata": {},
   "outputs": [],
   "source": [
    "na = np.arange(0, dfd['quantity'].max() + 5 , 5)"
   ]
  },
  {
   "cell_type": "code",
   "execution_count": 39,
   "id": "85d21a72",
   "metadata": {
    "scrolled": true
   },
   "outputs": [
    {
     "data": {
      "text/plain": [
       "array([ 0,  5, 10, 15, 20, 25, 30, 35, 40, 45, 50])"
      ]
     },
     "execution_count": 39,
     "metadata": {},
     "output_type": "execute_result"
    }
   ],
   "source": [
    "na"
   ]
  },
  {
   "cell_type": "code",
   "execution_count": 151,
   "id": "f471cf65",
   "metadata": {},
   "outputs": [],
   "source": [
    "df3 =  pd.read_csv('/Users/smuel/Developer/Python/Louie7Predictors/sample_salesv3.csv')\n",
    "df3['date'] = pd.to_datetime(df2['date'])"
   ]
  },
  {
   "cell_type": "code",
   "execution_count": 153,
   "id": "a83ac0a9",
   "metadata": {},
   "outputs": [
    {
     "data": {
      "text/html": [
       "<div>\n",
       "<style scoped>\n",
       "    .dataframe tbody tr th:only-of-type {\n",
       "        vertical-align: middle;\n",
       "    }\n",
       "\n",
       "    .dataframe tbody tr th {\n",
       "        vertical-align: top;\n",
       "    }\n",
       "\n",
       "    .dataframe thead th {\n",
       "        text-align: right;\n",
       "    }\n",
       "</style>\n",
       "<table border=\"1\" class=\"dataframe\">\n",
       "  <thead>\n",
       "    <tr style=\"text-align: right;\">\n",
       "      <th></th>\n",
       "      <th>Unnamed: 0</th>\n",
       "      <th>account number</th>\n",
       "      <th>name</th>\n",
       "      <th>sku</th>\n",
       "      <th>quantity</th>\n",
       "      <th>unit price</th>\n",
       "      <th>ext price</th>\n",
       "      <th>date</th>\n",
       "    </tr>\n",
       "  </thead>\n",
       "  <tbody>\n",
       "    <tr>\n",
       "      <th>0</th>\n",
       "      <td>0</td>\n",
       "      <td>740150</td>\n",
       "      <td>BartonLLC</td>\n",
       "      <td>B1-20000</td>\n",
       "      <td>39</td>\n",
       "      <td>86.69</td>\n",
       "      <td>3380.91</td>\n",
       "      <td>2014-01-01 04:21:00</td>\n",
       "    </tr>\n",
       "    <tr>\n",
       "      <th>1</th>\n",
       "      <td>1</td>\n",
       "      <td>714466</td>\n",
       "      <td>BartonLLC</td>\n",
       "      <td>S2-77896</td>\n",
       "      <td>-1</td>\n",
       "      <td>63.16</td>\n",
       "      <td>-63.16</td>\n",
       "      <td>2014-01-01 04:21:30</td>\n",
       "    </tr>\n",
       "    <tr>\n",
       "      <th>2</th>\n",
       "      <td>2</td>\n",
       "      <td>218895</td>\n",
       "      <td>BartonLLC</td>\n",
       "      <td>B1-69924</td>\n",
       "      <td>23</td>\n",
       "      <td>90.70</td>\n",
       "      <td>2086.10</td>\n",
       "      <td>2014-01-01 05:22:00</td>\n",
       "    </tr>\n",
       "    <tr>\n",
       "      <th>3</th>\n",
       "      <td>3</td>\n",
       "      <td>307599</td>\n",
       "      <td>BartonLLC</td>\n",
       "      <td>B1-69924</td>\n",
       "      <td>41</td>\n",
       "      <td>21.05</td>\n",
       "      <td>863.05</td>\n",
       "      <td>2014-01-01 06:22:30</td>\n",
       "    </tr>\n",
       "    <tr>\n",
       "      <th>4</th>\n",
       "      <td>4</td>\n",
       "      <td>412290</td>\n",
       "      <td>Kassulke</td>\n",
       "      <td>S2-34077</td>\n",
       "      <td>6</td>\n",
       "      <td>83.21</td>\n",
       "      <td>499.26</td>\n",
       "      <td>2014-01-01 07:23:00</td>\n",
       "    </tr>\n",
       "  </tbody>\n",
       "</table>\n",
       "</div>"
      ],
      "text/plain": [
       "   Unnamed: 0  account number       name       sku  quantity  unit price  \\\n",
       "0           0          740150  BartonLLC  B1-20000        39       86.69   \n",
       "1           1          714466  BartonLLC  S2-77896        -1       63.16   \n",
       "2           2          218895  BartonLLC  B1-69924        23       90.70   \n",
       "3           3          307599  BartonLLC  B1-69924        41       21.05   \n",
       "4           4          412290   Kassulke  S2-34077         6       83.21   \n",
       "\n",
       "   ext price                date  \n",
       "0    3380.91 2014-01-01 04:21:00  \n",
       "1     -63.16 2014-01-01 04:21:30  \n",
       "2    2086.10 2014-01-01 05:22:00  \n",
       "3     863.05 2014-01-01 06:22:30  \n",
       "4     499.26 2014-01-01 07:23:00  "
      ]
     },
     "execution_count": 153,
     "metadata": {},
     "output_type": "execute_result"
    }
   ],
   "source": [
    "df3.head(5)"
   ]
  },
  {
   "cell_type": "code",
   "execution_count": 31,
   "id": "533dc5cd",
   "metadata": {},
   "outputs": [],
   "source": [
    "y1 = df1.groupby(pd.Grouper(key='date', freq='2H'))['unit price'].agg(sum)"
   ]
  },
  {
   "cell_type": "code",
   "execution_count": 32,
   "id": "01a2fa84",
   "metadata": {},
   "outputs": [
    {
     "data": {
      "text/plain": [
       "pandas.core.series.Series"
      ]
     },
     "execution_count": 32,
     "metadata": {},
     "output_type": "execute_result"
    }
   ],
   "source": [
    "type(y1)"
   ]
  },
  {
   "cell_type": "code",
   "execution_count": 33,
   "id": "e4541a77",
   "metadata": {
    "scrolled": true
   },
   "outputs": [
    {
     "data": {
      "text/plain": [
       "date\n",
       "2014-01-01 04:00:00    240.55\n",
       "2014-01-01 06:00:00    191.89\n",
       "2014-01-01 08:00:00    230.36\n",
       "2014-01-01 10:00:00     88.00\n",
       "2014-01-01 12:00:00    216.82\n",
       "2014-01-01 14:00:00    183.28\n",
       "2014-01-01 16:00:00    308.21\n",
       "2014-01-01 18:00:00      0.00\n",
       "2014-01-01 20:00:00      0.00\n",
       "2014-01-01 22:00:00      0.00\n",
       "2014-01-02 00:00:00      0.00\n",
       "2014-01-02 02:00:00      0.00\n",
       "2014-01-02 04:00:00      0.00\n",
       "2014-01-02 06:00:00    180.72\n",
       "2014-01-02 08:00:00      0.00\n",
       "2014-01-02 10:00:00    218.07\n",
       "2014-01-02 12:00:00     55.40\n",
       "2014-01-02 14:00:00     43.40\n",
       "2014-01-02 16:00:00      0.00\n",
       "2014-01-02 18:00:00     73.04\n",
       "2014-01-02 20:00:00    169.31\n",
       "2014-01-02 22:00:00     69.36\n",
       "Freq: 2H, Name: unit price, dtype: float64"
      ]
     },
     "execution_count": 33,
     "metadata": {},
     "output_type": "execute_result"
    }
   ],
   "source": [
    "y1"
   ]
  },
  {
   "cell_type": "code",
   "execution_count": 38,
   "id": "dd904ba0",
   "metadata": {},
   "outputs": [],
   "source": [
    "l0 = y1.values"
   ]
  },
  {
   "cell_type": "code",
   "execution_count": 40,
   "id": "1d0fde00",
   "metadata": {},
   "outputs": [],
   "source": [
    "train , test = l0[0:len(l0-3)] , l0[len(l0-3):] "
   ]
  },
  {
   "cell_type": "code",
   "execution_count": 41,
   "id": "bd649699",
   "metadata": {},
   "outputs": [
    {
     "data": {
      "text/plain": [
       "array([240.55, 191.89, 230.36,  88.  , 216.82, 183.28, 308.21,   0.  ,\n",
       "         0.  ,   0.  ,   0.  ,   0.  ,   0.  , 180.72,   0.  , 218.07,\n",
       "        55.4 ,  43.4 ,   0.  ,  73.04, 169.31,  69.36])"
      ]
     },
     "execution_count": 41,
     "metadata": {},
     "output_type": "execute_result"
    }
   ],
   "source": [
    "train"
   ]
  },
  {
   "cell_type": "code",
   "execution_count": null,
   "id": "18a8d295",
   "metadata": {},
   "outputs": [],
   "source": []
  },
  {
   "cell_type": "code",
   "execution_count": 221,
   "id": "daecd523",
   "metadata": {},
   "outputs": [],
   "source": [
    "y2 = y1.resample('D').apply(lambda x : x.to_numpy()).to_numpy()"
   ]
  },
  {
   "cell_type": "code",
   "execution_count": 206,
   "id": "712f0414",
   "metadata": {},
   "outputs": [
    {
     "data": {
      "text/plain": [
       "pandas.core.series.Series"
      ]
     },
     "execution_count": 206,
     "metadata": {},
     "output_type": "execute_result"
    }
   ],
   "source": [
    "type(y1)"
   ]
  },
  {
   "cell_type": "code",
   "execution_count": 222,
   "id": "e919a078",
   "metadata": {},
   "outputs": [
    {
     "data": {
      "text/plain": [
       "array([array([240.55, 191.89, 230.36,  88.  , 216.82, 183.28, 308.21,   0.  ,\n",
       "         0.  ,   0.  ]),\n",
       "       array([  0.  ,   0.  ,   0.  , 180.72,   0.  , 218.07,  55.4 ,  43.4 ,\n",
       "         0.  ,  73.04, 169.31,  69.36])], dtype=object)"
      ]
     },
     "execution_count": 222,
     "metadata": {},
     "output_type": "execute_result"
    }
   ],
   "source": [
    "y2"
   ]
  },
  {
   "cell_type": "code",
   "execution_count": 223,
   "id": "452a2c54",
   "metadata": {},
   "outputs": [
    {
     "data": {
      "text/plain": [
       "2"
      ]
     },
     "execution_count": 223,
     "metadata": {},
     "output_type": "execute_result"
    }
   ],
   "source": [
    "y2.size"
   ]
  },
  {
   "cell_type": "code",
   "execution_count": 233,
   "id": "cf5c6728",
   "metadata": {},
   "outputs": [],
   "source": [
    "y2[0] = np.pad(y2[0], (2, 0), 'constant')"
   ]
  },
  {
   "cell_type": "code",
   "execution_count": 234,
   "id": "ff18ba06",
   "metadata": {},
   "outputs": [
    {
     "data": {
      "text/plain": [
       "12"
      ]
     },
     "execution_count": 234,
     "metadata": {},
     "output_type": "execute_result"
    }
   ],
   "source": [
    "len(y2[0])"
   ]
  },
  {
   "cell_type": "code",
   "execution_count": 235,
   "id": "5b7954e1",
   "metadata": {},
   "outputs": [
    {
     "data": {
      "text/plain": [
       "12"
      ]
     },
     "execution_count": 235,
     "metadata": {},
     "output_type": "execute_result"
    }
   ],
   "source": [
    "y2[0].size"
   ]
  },
  {
   "cell_type": "code",
   "execution_count": 210,
   "id": "3f50f797",
   "metadata": {},
   "outputs": [
    {
     "data": {
      "text/html": [
       "<div>\n",
       "<style scoped>\n",
       "    .dataframe tbody tr th:only-of-type {\n",
       "        vertical-align: middle;\n",
       "    }\n",
       "\n",
       "    .dataframe tbody tr th {\n",
       "        vertical-align: top;\n",
       "    }\n",
       "\n",
       "    .dataframe thead th {\n",
       "        text-align: right;\n",
       "    }\n",
       "</style>\n",
       "<table border=\"1\" class=\"dataframe\">\n",
       "  <thead>\n",
       "    <tr style=\"text-align: right;\">\n",
       "      <th></th>\n",
       "      <th>Unnamed: 0</th>\n",
       "      <th>account number</th>\n",
       "      <th>name</th>\n",
       "      <th>sku</th>\n",
       "      <th>quantity</th>\n",
       "      <th>unit price</th>\n",
       "      <th>ext price</th>\n",
       "      <th>date</th>\n",
       "    </tr>\n",
       "  </thead>\n",
       "  <tbody>\n",
       "    <tr>\n",
       "      <th>0</th>\n",
       "      <td>0</td>\n",
       "      <td>740150</td>\n",
       "      <td>BartonLLC</td>\n",
       "      <td>B1-20000</td>\n",
       "      <td>39</td>\n",
       "      <td>86.69</td>\n",
       "      <td>3380.91</td>\n",
       "      <td>2014-01-01 04:21:00</td>\n",
       "    </tr>\n",
       "    <tr>\n",
       "      <th>1</th>\n",
       "      <td>1</td>\n",
       "      <td>714466</td>\n",
       "      <td>BartonLLC</td>\n",
       "      <td>S2-77896</td>\n",
       "      <td>-1</td>\n",
       "      <td>63.16</td>\n",
       "      <td>-63.16</td>\n",
       "      <td>2014-01-01 04:21:30</td>\n",
       "    </tr>\n",
       "    <tr>\n",
       "      <th>2</th>\n",
       "      <td>2</td>\n",
       "      <td>218895</td>\n",
       "      <td>BartonLLC</td>\n",
       "      <td>B1-69924</td>\n",
       "      <td>23</td>\n",
       "      <td>90.70</td>\n",
       "      <td>2086.10</td>\n",
       "      <td>2014-01-01 05:22:00</td>\n",
       "    </tr>\n",
       "    <tr>\n",
       "      <th>3</th>\n",
       "      <td>3</td>\n",
       "      <td>307599</td>\n",
       "      <td>BartonLLC</td>\n",
       "      <td>B1-69924</td>\n",
       "      <td>41</td>\n",
       "      <td>21.05</td>\n",
       "      <td>863.05</td>\n",
       "      <td>2014-01-01 06:22:30</td>\n",
       "    </tr>\n",
       "    <tr>\n",
       "      <th>4</th>\n",
       "      <td>4</td>\n",
       "      <td>412290</td>\n",
       "      <td>Kassulke</td>\n",
       "      <td>S2-34077</td>\n",
       "      <td>6</td>\n",
       "      <td>83.21</td>\n",
       "      <td>499.26</td>\n",
       "      <td>2014-01-01 07:23:00</td>\n",
       "    </tr>\n",
       "  </tbody>\n",
       "</table>\n",
       "</div>"
      ],
      "text/plain": [
       "   Unnamed: 0  account number       name       sku  quantity  unit price  \\\n",
       "0           0          740150  BartonLLC  B1-20000        39       86.69   \n",
       "1           1          714466  BartonLLC  S2-77896        -1       63.16   \n",
       "2           2          218895  BartonLLC  B1-69924        23       90.70   \n",
       "3           3          307599  BartonLLC  B1-69924        41       21.05   \n",
       "4           4          412290   Kassulke  S2-34077         6       83.21   \n",
       "\n",
       "   ext price                date  \n",
       "0    3380.91 2014-01-01 04:21:00  \n",
       "1     -63.16 2014-01-01 04:21:30  \n",
       "2    2086.10 2014-01-01 05:22:00  \n",
       "3     863.05 2014-01-01 06:22:30  \n",
       "4     499.26 2014-01-01 07:23:00  "
      ]
     },
     "execution_count": 210,
     "metadata": {},
     "output_type": "execute_result"
    }
   ],
   "source": [
    "df2.head(5)"
   ]
  },
  {
   "cell_type": "code",
   "execution_count": 154,
   "id": "1846679c",
   "metadata": {},
   "outputs": [],
   "source": [
    "x  = pd.Timestamp(df2['date'][0])"
   ]
  },
  {
   "cell_type": "code",
   "execution_count": 183,
   "id": "a9172d57",
   "metadata": {},
   "outputs": [],
   "source": [
    "idx = len(df2['date'])"
   ]
  },
  {
   "cell_type": "code",
   "execution_count": 184,
   "id": "38d08860",
   "metadata": {},
   "outputs": [
    {
     "data": {
      "text/plain": [
       "41"
      ]
     },
     "execution_count": 184,
     "metadata": {},
     "output_type": "execute_result"
    }
   ],
   "source": [
    "idx"
   ]
  },
  {
   "cell_type": "code",
   "execution_count": 155,
   "id": "ade68ad0",
   "metadata": {},
   "outputs": [
    {
     "data": {
      "text/plain": [
       "Timestamp('2014-01-01 04:21:00')"
      ]
     },
     "execution_count": 155,
     "metadata": {},
     "output_type": "execute_result"
    }
   ],
   "source": [
    "x"
   ]
  },
  {
   "cell_type": "code",
   "execution_count": 178,
   "id": "e55b37f0",
   "metadata": {},
   "outputs": [],
   "source": [
    "y  = pd.Timestamp(df2['date'][idx-1])"
   ]
  },
  {
   "cell_type": "code",
   "execution_count": 179,
   "id": "7b9efc15",
   "metadata": {},
   "outputs": [
    {
     "data": {
      "text/plain": [
       "Timestamp('2014-01-02 23:41:00')"
      ]
     },
     "execution_count": 179,
     "metadata": {},
     "output_type": "execute_result"
    }
   ],
   "source": [
    "y"
   ]
  },
  {
   "cell_type": "code",
   "execution_count": 180,
   "id": "8d5a543c",
   "metadata": {},
   "outputs": [],
   "source": [
    "z = (y-x)"
   ]
  },
  {
   "cell_type": "code",
   "execution_count": 185,
   "id": "1fbc375b",
   "metadata": {},
   "outputs": [],
   "source": [
    "z1 = (y-x).to_pytimedelta().days"
   ]
  },
  {
   "cell_type": "code",
   "execution_count": 186,
   "id": "bd07b014",
   "metadata": {},
   "outputs": [
    {
     "data": {
      "text/plain": [
       "1"
      ]
     },
     "execution_count": 186,
     "metadata": {},
     "output_type": "execute_result"
    }
   ],
   "source": [
    "z1"
   ]
  },
  {
   "cell_type": "code",
   "execution_count": 236,
   "id": "e1284efb",
   "metadata": {},
   "outputs": [],
   "source": [
    "z = np.stack(y2, axis=0)"
   ]
  },
  {
   "cell_type": "code",
   "execution_count": 237,
   "id": "5fdfda22",
   "metadata": {},
   "outputs": [
    {
     "data": {
      "text/plain": [
       "array([[  0.  ,   0.  , 240.55, 191.89, 230.36,  88.  , 216.82, 183.28,\n",
       "        308.21,   0.  ,   0.  ,   0.  ],\n",
       "       [  0.  ,   0.  ,   0.  , 180.72,   0.  , 218.07,  55.4 ,  43.4 ,\n",
       "          0.  ,  73.04, 169.31,  69.36]])"
      ]
     },
     "execution_count": 237,
     "metadata": {},
     "output_type": "execute_result"
    }
   ],
   "source": [
    "z"
   ]
  },
  {
   "cell_type": "code",
   "execution_count": 238,
   "id": "b0f24810",
   "metadata": {},
   "outputs": [
    {
     "data": {
      "text/plain": [
       "(2, 12)"
      ]
     },
     "execution_count": 238,
     "metadata": {},
     "output_type": "execute_result"
    }
   ],
   "source": [
    "z.shape"
   ]
  },
  {
   "cell_type": "code",
   "execution_count": 240,
   "id": "11e294af",
   "metadata": {},
   "outputs": [],
   "source": [
    "z1 = z[:,3]"
   ]
  },
  {
   "cell_type": "code",
   "execution_count": 241,
   "id": "662ac256",
   "metadata": {},
   "outputs": [
    {
     "data": {
      "text/plain": [
       "186.305"
      ]
     },
     "execution_count": 241,
     "metadata": {},
     "output_type": "execute_result"
    }
   ],
   "source": [
    "np.mean(z1)"
   ]
  },
  {
   "cell_type": "code",
   "execution_count": 242,
   "id": "e0c8ae44",
   "metadata": {},
   "outputs": [
    {
     "data": {
      "text/plain": [
       "5.584999999999994"
      ]
     },
     "execution_count": 242,
     "metadata": {},
     "output_type": "execute_result"
    }
   ],
   "source": [
    "np.std(z1)"
   ]
  },
  {
   "cell_type": "code",
   "execution_count": 16,
   "id": "145d450e",
   "metadata": {},
   "outputs": [],
   "source": [
    "df1 =  pd.read_csv('/Users/smuel/Developer/Python/Louie7Predictors/sample_salesv3.csv')\n",
    "df1['date'] = pd.to_datetime(df1['date'])"
   ]
  },
  {
   "cell_type": "code",
   "execution_count": 17,
   "id": "0d30a131",
   "metadata": {},
   "outputs": [
    {
     "data": {
      "text/html": [
       "<div>\n",
       "<style scoped>\n",
       "    .dataframe tbody tr th:only-of-type {\n",
       "        vertical-align: middle;\n",
       "    }\n",
       "\n",
       "    .dataframe tbody tr th {\n",
       "        vertical-align: top;\n",
       "    }\n",
       "\n",
       "    .dataframe thead th {\n",
       "        text-align: right;\n",
       "    }\n",
       "</style>\n",
       "<table border=\"1\" class=\"dataframe\">\n",
       "  <thead>\n",
       "    <tr style=\"text-align: right;\">\n",
       "      <th></th>\n",
       "      <th>Unnamed: 0</th>\n",
       "      <th>account number</th>\n",
       "      <th>name</th>\n",
       "      <th>sku</th>\n",
       "      <th>quantity</th>\n",
       "      <th>unit price</th>\n",
       "      <th>ext price</th>\n",
       "      <th>date</th>\n",
       "    </tr>\n",
       "  </thead>\n",
       "  <tbody>\n",
       "    <tr>\n",
       "      <th>0</th>\n",
       "      <td>0</td>\n",
       "      <td>740150</td>\n",
       "      <td>BartonLLC</td>\n",
       "      <td>B1-20000</td>\n",
       "      <td>39</td>\n",
       "      <td>86.69</td>\n",
       "      <td>3380.91</td>\n",
       "      <td>2014-01-01 04:21:00</td>\n",
       "    </tr>\n",
       "    <tr>\n",
       "      <th>1</th>\n",
       "      <td>1</td>\n",
       "      <td>714466</td>\n",
       "      <td>BartonLLC</td>\n",
       "      <td>S2-77896</td>\n",
       "      <td>-1</td>\n",
       "      <td>63.16</td>\n",
       "      <td>-63.16</td>\n",
       "      <td>2014-01-01 04:21:30</td>\n",
       "    </tr>\n",
       "    <tr>\n",
       "      <th>2</th>\n",
       "      <td>2</td>\n",
       "      <td>218895</td>\n",
       "      <td>BartonLLC</td>\n",
       "      <td>B1-69924</td>\n",
       "      <td>23</td>\n",
       "      <td>90.70</td>\n",
       "      <td>2086.10</td>\n",
       "      <td>2014-01-01 05:22:00</td>\n",
       "    </tr>\n",
       "    <tr>\n",
       "      <th>3</th>\n",
       "      <td>3</td>\n",
       "      <td>740150</td>\n",
       "      <td>BartonLLC</td>\n",
       "      <td>B1-69924</td>\n",
       "      <td>41</td>\n",
       "      <td>21.05</td>\n",
       "      <td>863.05</td>\n",
       "      <td>2014-01-01 06:22:30</td>\n",
       "    </tr>\n",
       "    <tr>\n",
       "      <th>4</th>\n",
       "      <td>4</td>\n",
       "      <td>412290</td>\n",
       "      <td>Kassulke</td>\n",
       "      <td>S2-34077</td>\n",
       "      <td>6</td>\n",
       "      <td>83.21</td>\n",
       "      <td>499.26</td>\n",
       "      <td>2014-01-01 07:23:00</td>\n",
       "    </tr>\n",
       "  </tbody>\n",
       "</table>\n",
       "</div>"
      ],
      "text/plain": [
       "   Unnamed: 0  account number       name       sku  quantity  unit price  \\\n",
       "0           0          740150  BartonLLC  B1-20000        39       86.69   \n",
       "1           1          714466  BartonLLC  S2-77896        -1       63.16   \n",
       "2           2          218895  BartonLLC  B1-69924        23       90.70   \n",
       "3           3          740150  BartonLLC  B1-69924        41       21.05   \n",
       "4           4          412290   Kassulke  S2-34077         6       83.21   \n",
       "\n",
       "   ext price                date  \n",
       "0    3380.91 2014-01-01 04:21:00  \n",
       "1     -63.16 2014-01-01 04:21:30  \n",
       "2    2086.10 2014-01-01 05:22:00  \n",
       "3     863.05 2014-01-01 06:22:30  \n",
       "4     499.26 2014-01-01 07:23:00  "
      ]
     },
     "execution_count": 17,
     "metadata": {},
     "output_type": "execute_result"
    }
   ],
   "source": [
    "df1.head(5)"
   ]
  },
  {
   "cell_type": "code",
   "execution_count": null,
   "id": "a1a3e3cc",
   "metadata": {},
   "outputs": [],
   "source": []
  }
 ],
 "metadata": {
  "kernelspec": {
   "display_name": "Python 3",
   "language": "python",
   "name": "python3"
  },
  "language_info": {
   "codemirror_mode": {
    "name": "ipython",
    "version": 3
   },
   "file_extension": ".py",
   "mimetype": "text/x-python",
   "name": "python",
   "nbconvert_exporter": "python",
   "pygments_lexer": "ipython3",
   "version": "3.8.6"
  }
 },
 "nbformat": 4,
 "nbformat_minor": 5
}
