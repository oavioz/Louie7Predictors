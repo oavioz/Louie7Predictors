{
 "cells": [
  {
   "cell_type": "code",
   "execution_count": 1,
   "metadata": {},
   "outputs": [],
   "source": [
    "import numpy as np\n",
    "import pandas as pd\n",
    "import json\n",
    "import codecs\n",
    "import datetime"
   ]
  },
  {
   "cell_type": "code",
   "execution_count": 2,
   "metadata": {},
   "outputs": [],
   "source": [
    "import sys"
   ]
  },
  {
   "cell_type": "code",
   "execution_count": 3,
   "metadata": {},
   "outputs": [],
   "source": [
    "sys.path.append('.')"
   ]
  },
  {
   "cell_type": "code",
   "execution_count": 4,
   "metadata": {},
   "outputs": [],
   "source": [
    "import vector_creator.score_vectors_assembly as svec\n",
    "import process_estimators.auto_regression as ar\n",
    "import process_estimators.estimators as est"
   ]
  },
  {
   "cell_type": "code",
   "execution_count": 5,
   "metadata": {},
   "outputs": [],
   "source": [
    "import matplotlib as mpl\n",
    "import matplotlib.pyplot as plt"
   ]
  },
  {
   "cell_type": "code",
   "execution_count": 6,
   "metadata": {},
   "outputs": [],
   "source": [
    "def plot_df(df, x, y, title=\"\", xlabel='Date', ylabel='Value', dpi=100):\n",
    "    plt.figure(figsize=(16,9), dpi=dpi)\n",
    "    plt.plot(x, y, color='tab:blue')\n",
    "    plt.gca().set(title=title, xlabel=xlabel, ylabel=ylabel)\n",
    "    plt.show()"
   ]
  },
  {
   "cell_type": "code",
   "execution_count": 7,
   "metadata": {},
   "outputs": [],
   "source": [
    "path = '/Users/smuel/AndroidStudioProjects/LuckyMeIntgratedSDK/metadata_init_phase/'"
   ]
  },
  {
   "cell_type": "code",
   "execution_count": 8,
   "metadata": {},
   "outputs": [],
   "source": [
    "lst = svec.file_list_with_unique_id(path, [])"
   ]
  },
  {
   "cell_type": "code",
   "execution_count": 9,
   "metadata": {},
   "outputs": [
    {
     "data": {
      "text/plain": [
       "{'unique_ids': array(['05fa68e5-0ba3-4783-9c07-42740c4914c6',\n",
       "        '236b91d2-cefb-405a-9de5-a3673ef1c736',\n",
       "        '5d8a3562-60bf-4186-9d35-a4bb86c4d329',\n",
       "        'c615dcc5-243e-4fde-8737-917e7ec29329'], dtype='<U36'),\n",
       " 'file_list': ['05fa68e5-0ba3-4783-9c07-42740c4914c6_11-06-2021_09-53-01.json',\n",
       "  '236b91d2-cefb-405a-9de5-a3673ef1c736_30-06-2021_01-17-49.json',\n",
       "  '5d8a3562-60bf-4186-9d35-a4bb86c4d329_28-06-2021_11-14-45.json',\n",
       "  'c615dcc5-243e-4fde-8737-917e7ec29329_27-06-2021_12-47-52.json']}"
      ]
     },
     "execution_count": 9,
     "metadata": {},
     "output_type": "execute_result"
    }
   ],
   "source": [
    "lst"
   ]
  },
  {
   "cell_type": "code",
   "execution_count": 10,
   "metadata": {},
   "outputs": [],
   "source": [
    "uid = lst.get('unique_ids')[0]\n",
    "meta_files = lst.get('file_list')"
   ]
  },
  {
   "cell_type": "code",
   "execution_count": 11,
   "metadata": {},
   "outputs": [
    {
     "data": {
      "text/plain": [
       "'05fa68e5-0ba3-4783-9c07-42740c4914c6'"
      ]
     },
     "execution_count": 11,
     "metadata": {},
     "output_type": "execute_result"
    }
   ],
   "source": [
    "uid"
   ]
  },
  {
   "cell_type": "markdown",
   "metadata": {},
   "source": [
    "CONVERT JSON METADATA BY UNIQUE_UID TO:  \n",
    "1. Dict. OF DataFrames BY KEY FIELD {CallLogs, ImgMetaData, InstallApps} \n",
    "2. CONFIGURATION OF SAMPLING RATED AND LIFE CYCLE \n",
    "3. TUPLE OF GPS (LAT, LONG) IF EXISTS"
   ]
  },
  {
   "cell_type": "code",
   "execution_count": 12,
   "metadata": {
    "scrolled": true
   },
   "outputs": [],
   "source": [
    "config_dict, loc_dict, df_dict = svec.df_for_init_meta(uid, path, lst['file_list'])"
   ]
  },
  {
   "cell_type": "code",
   "execution_count": 13,
   "metadata": {},
   "outputs": [
    {
     "data": {
      "text/plain": [
       "{'LifeCycleInDays': '1',\n",
       " 'WifiGpsBatterySamplingTime': '90000',\n",
       " 'ScreenSensorTime': '45000',\n",
       " 'ActiveAppSamplingTime': '30000'}"
      ]
     },
     "execution_count": 13,
     "metadata": {},
     "output_type": "execute_result"
    }
   ],
   "source": [
    "config_dict"
   ]
  },
  {
   "cell_type": "code",
   "execution_count": 14,
   "metadata": {
    "scrolled": false
   },
   "outputs": [
    {
     "data": {
      "text/plain": [
       "{'Latitude': 32.0875366,\n",
       " 'Longitude': 34.7854512,\n",
       " 'Sampling_Collect_Time': '09:53:01'}"
      ]
     },
     "execution_count": 14,
     "metadata": {},
     "output_type": "execute_result"
    }
   ],
   "source": [
    "loc_dict[0]"
   ]
  },
  {
   "cell_type": "code",
   "execution_count": 15,
   "metadata": {},
   "outputs": [
    {
     "data": {
      "text/plain": [
       "dict_keys(['05fa68e5-0ba3-4783-9c07-42740c4914c6_CallLogs', '05fa68e5-0ba3-4783-9c07-42740c4914c6_ImgMetaData', '05fa68e5-0ba3-4783-9c07-42740c4914c6_InstallApps'])"
      ]
     },
     "execution_count": 15,
     "metadata": {},
     "output_type": "execute_result"
    }
   ],
   "source": [
    "df_dict.keys()"
   ]
  },
  {
   "cell_type": "markdown",
   "metadata": {},
   "source": [
    "EXTRACT BY UNIQUE_UID: \n",
    "1. Extract call-logs DataFrame qiven by unique_uid\n",
    "2. '05fa68e5-0ba3-4783-9c07-42740c4914c6_CallLogs' is Dict key in the format : UNIQUE-ID_FEILD-TYPE\n",
    "3. the Dict Value for this key is the corresponding data frame "
   ]
  },
  {
   "cell_type": "code",
   "execution_count": 16,
   "metadata": {},
   "outputs": [],
   "source": [
    "df2 = df_dict['05fa68e5-0ba3-4783-9c07-42740c4914c6_ImgMetaData']"
   ]
  },
  {
   "cell_type": "code",
   "execution_count": 17,
   "metadata": {},
   "outputs": [
    {
     "data": {
      "text/html": [
       "<div>\n",
       "<style scoped>\n",
       "    .dataframe tbody tr th:only-of-type {\n",
       "        vertical-align: middle;\n",
       "    }\n",
       "\n",
       "    .dataframe tbody tr th {\n",
       "        vertical-align: top;\n",
       "    }\n",
       "\n",
       "    .dataframe thead th {\n",
       "        text-align: right;\n",
       "    }\n",
       "</style>\n",
       "<table border=\"1\" class=\"dataframe\">\n",
       "  <thead>\n",
       "    <tr style=\"text-align: right;\">\n",
       "      <th></th>\n",
       "      <th>IMAGE_TYPE</th>\n",
       "      <th>IMAGE_DATE_TIME</th>\n",
       "    </tr>\n",
       "  </thead>\n",
       "  <tbody>\n",
       "    <tr>\n",
       "      <th>0</th>\n",
       "      <td>jpeg</td>\n",
       "      <td>2019-10-16 08:48:55</td>\n",
       "    </tr>\n",
       "    <tr>\n",
       "      <th>1</th>\n",
       "      <td>jpeg</td>\n",
       "      <td>2019-10-16 08:49:06</td>\n",
       "    </tr>\n",
       "    <tr>\n",
       "      <th>2</th>\n",
       "      <td>jpeg</td>\n",
       "      <td>2019-10-16 08:49:07</td>\n",
       "    </tr>\n",
       "    <tr>\n",
       "      <th>3</th>\n",
       "      <td>jpeg</td>\n",
       "      <td>2019-10-20 15:42:48</td>\n",
       "    </tr>\n",
       "    <tr>\n",
       "      <th>4</th>\n",
       "      <td>jpeg</td>\n",
       "      <td>2019-10-22 14:09:27</td>\n",
       "    </tr>\n",
       "  </tbody>\n",
       "</table>\n",
       "</div>"
      ],
      "text/plain": [
       "  IMAGE_TYPE     IMAGE_DATE_TIME\n",
       "0       jpeg 2019-10-16 08:48:55\n",
       "1       jpeg 2019-10-16 08:49:06\n",
       "2       jpeg 2019-10-16 08:49:07\n",
       "3       jpeg 2019-10-20 15:42:48\n",
       "4       jpeg 2019-10-22 14:09:27"
      ]
     },
     "execution_count": 17,
     "metadata": {},
     "output_type": "execute_result"
    }
   ],
   "source": [
    "df2.head(5)"
   ]
  },
  {
   "cell_type": "code",
   "execution_count": 18,
   "metadata": {},
   "outputs": [],
   "source": [
    "df = df_dict['05fa68e5-0ba3-4783-9c07-42740c4914c6_CallLogs']"
   ]
  },
  {
   "cell_type": "code",
   "execution_count": 19,
   "metadata": {
    "scrolled": true
   },
   "outputs": [
    {
     "data": {
      "text/html": [
       "<div>\n",
       "<style scoped>\n",
       "    .dataframe tbody tr th:only-of-type {\n",
       "        vertical-align: middle;\n",
       "    }\n",
       "\n",
       "    .dataframe tbody tr th {\n",
       "        vertical-align: top;\n",
       "    }\n",
       "\n",
       "    .dataframe thead th {\n",
       "        text-align: right;\n",
       "    }\n",
       "</style>\n",
       "<table border=\"1\" class=\"dataframe\">\n",
       "  <thead>\n",
       "    <tr style=\"text-align: right;\">\n",
       "      <th></th>\n",
       "      <th>CALL_NUMBER</th>\n",
       "      <th>CALL_DATE_TIME</th>\n",
       "      <th>CALL_TYPE</th>\n",
       "      <th>CALL_DURATION</th>\n",
       "    </tr>\n",
       "  </thead>\n",
       "  <tbody>\n",
       "    <tr>\n",
       "      <th>0</th>\n",
       "      <td>588957574B738DBFD1C851F3F2FE248C1D20A20C</td>\n",
       "      <td>2020-07-12 15:33:27.936999936</td>\n",
       "      <td>INCOMING</td>\n",
       "      <td>42</td>\n",
       "    </tr>\n",
       "    <tr>\n",
       "      <th>1</th>\n",
       "      <td>588957574B738DBFD1C851F3F2FE248C1D20A20C</td>\n",
       "      <td>2020-07-13 06:22:11.676000000</td>\n",
       "      <td>INCOMING</td>\n",
       "      <td>43</td>\n",
       "    </tr>\n",
       "    <tr>\n",
       "      <th>2</th>\n",
       "      <td>588957574B738DBFD1C851F3F2FE248C1D20A20C</td>\n",
       "      <td>2020-07-13 09:59:22.920000000</td>\n",
       "      <td>NaN</td>\n",
       "      <td>0</td>\n",
       "    </tr>\n",
       "    <tr>\n",
       "      <th>3</th>\n",
       "      <td>588957574B738DBFD1C851F3F2FE248C1D20A20C</td>\n",
       "      <td>2020-07-13 09:59:38.879000064</td>\n",
       "      <td>OUTGOING</td>\n",
       "      <td>0</td>\n",
       "    </tr>\n",
       "    <tr>\n",
       "      <th>4</th>\n",
       "      <td>AE183B922FA98F156CF973AAED3FA7C194D3BA37</td>\n",
       "      <td>2020-07-13 10:33:59.004000000</td>\n",
       "      <td>MISSED</td>\n",
       "      <td>0</td>\n",
       "    </tr>\n",
       "  </tbody>\n",
       "</table>\n",
       "</div>"
      ],
      "text/plain": [
       "                                CALL_NUMBER                CALL_DATE_TIME  \\\n",
       "0  588957574B738DBFD1C851F3F2FE248C1D20A20C 2020-07-12 15:33:27.936999936   \n",
       "1  588957574B738DBFD1C851F3F2FE248C1D20A20C 2020-07-13 06:22:11.676000000   \n",
       "2  588957574B738DBFD1C851F3F2FE248C1D20A20C 2020-07-13 09:59:22.920000000   \n",
       "3  588957574B738DBFD1C851F3F2FE248C1D20A20C 2020-07-13 09:59:38.879000064   \n",
       "4  AE183B922FA98F156CF973AAED3FA7C194D3BA37 2020-07-13 10:33:59.004000000   \n",
       "\n",
       "  CALL_TYPE CALL_DURATION  \n",
       "0  INCOMING            42  \n",
       "1  INCOMING            43  \n",
       "2       NaN             0  \n",
       "3  OUTGOING             0  \n",
       "4    MISSED             0  "
      ]
     },
     "execution_count": 19,
     "metadata": {},
     "output_type": "execute_result"
    }
   ],
   "source": [
    "df.head(5)"
   ]
  },
  {
   "cell_type": "code",
   "execution_count": 20,
   "metadata": {},
   "outputs": [],
   "source": [
    "lat = loc_dict[0]['Latitude']\n",
    "long = loc_dict[0]['Longitude']"
   ]
  },
  {
   "cell_type": "code",
   "execution_count": 21,
   "metadata": {},
   "outputs": [
    {
     "data": {
      "text/plain": [
       "(32.0875366, 34.7854512)"
      ]
     },
     "execution_count": 21,
     "metadata": {},
     "output_type": "execute_result"
    }
   ],
   "source": [
    "(lat, long)"
   ]
  },
  {
   "cell_type": "code",
   "execution_count": 22,
   "metadata": {
    "scrolled": false
   },
   "outputs": [],
   "source": [
    "vec1, vec2 = svec.create_call_logs_vector_for_unique_id(uid, df, (lat, long))"
   ]
  },
  {
   "cell_type": "code",
   "execution_count": 23,
   "metadata": {},
   "outputs": [
    {
     "data": {
      "text/plain": [
       "62    1.546345\n",
       "63    1.182539\n",
       "64    1.228291\n",
       "65    1.000000\n",
       "66    7.059615\n",
       "67    4.804478\n",
       "68    8.514697\n",
       "69    0.049796\n",
       "70    0.026997\n",
       "71    0.028692\n",
       "72    0.028013\n",
       "73    0.083387\n",
       "74    0.047296\n",
       "75    0.047108\n",
       "76    0.042353\n",
       "Name: 05fa68e5-0ba3-4783-9c07-42740c4914c6, dtype: float64"
      ]
     },
     "execution_count": 23,
     "metadata": {},
     "output_type": "execute_result"
    }
   ],
   "source": [
    "vec.tail(15)"
   ]
  },
  {
   "cell_type": "code",
   "execution_count": null,
   "metadata": {},
   "outputs": [],
   "source": []
  }
 ],
 "metadata": {
  "kernelspec": {
   "display_name": "Python 3",
   "language": "python",
   "name": "python3"
  },
  "language_info": {
   "codemirror_mode": {
    "name": "ipython",
    "version": 3
   },
   "file_extension": ".py",
   "mimetype": "text/x-python",
   "name": "python",
   "nbconvert_exporter": "python",
   "pygments_lexer": "ipython3",
   "version": "3.8.6"
  }
 },
 "nbformat": 4,
 "nbformat_minor": 5
}
