{
 "cells": [
  {
   "cell_type": "code",
   "execution_count": 1,
   "metadata": {},
   "outputs": [],
   "source": [
    "import numpy as np\n",
    "import pandas as pd\n",
    "import json\n",
    "import codecs\n",
    "import datetime\n",
    "import os\n",
    "import sys"
   ]
  },
  {
   "cell_type": "code",
   "execution_count": 2,
   "metadata": {},
   "outputs": [],
   "source": [
    "sys.path.append('.')"
   ]
  },
  {
   "cell_type": "code",
   "execution_count": 3,
   "metadata": {},
   "outputs": [],
   "source": [
    "import matplotlib as mpl\n",
    "import matplotlib.pyplot as plt\n"
   ]
  },
  {
   "cell_type": "code",
   "execution_count": 4,
   "metadata": {},
   "outputs": [],
   "source": [
    "path = '/Users/smuel/AndroidStudioProjects/LuckyMeIntgratedSDK/metadata_init_phase/'"
   ]
  },
  {
   "cell_type": "code",
   "execution_count": 5,
   "metadata": {},
   "outputs": [],
   "source": [
    "from vector_creator.raw_to_df.rawdata_to_df import *\n",
    "from vector_creator.score_vectors.score_vectors_assembly import *\n",
    "from vector_creator.preprocess.utils import calc_number_of_days\n",
    "from vector_creator.stats_models.estimators import minmax_scale, z_score\n",
    "from vector_creator.score_vectors.vector_indexer import vector_desc_call_logs"
   ]
  },
  {
   "cell_type": "code",
   "execution_count": 6,
   "metadata": {
    "scrolled": true
   },
   "outputs": [
    {
     "name": "stdout",
     "output_type": "stream",
     "text": [
      "photo-gallery:  724\n",
      "05fa68e5-0ba3-4783-9c07-42740c4914c6 processed\n",
      "photo-gallery:  1448\n",
      "12fa7561-2e77-4334-b9e1-6858ed27570f processed\n",
      "photo-gallery:  1558\n",
      "1362474c-0fb5-4932-a33d-5a30f23ac7e3 processed\n",
      "photo-gallery:  420\n",
      "148b0326-09e2-404f-9de6-aff6d44f2a38 processed\n",
      "photo-gallery:  1278\n",
      "17ac0e20-b292-492c-9adc-faf60a068926 processed\n",
      "photo-gallery:  311\n",
      "199ea69c-5e20-4b53-9bfb-0534aaeb68d6 processed\n",
      "photo-gallery:  462\n",
      "1abd59a3-553f-43db-a329-90c28c72afdd processed\n",
      "photo-gallery:  3294\n",
      "20380cd2-055e-4f3a-a339-90a1c7df4e1a processed\n",
      "photo-gallery:  1436\n",
      "236b91d2-cefb-405a-9de5-a3673ef1c736 processed\n",
      "photo-gallery:  1369\n",
      "25174909-3427-42d2-9e14-65f7c95f240b processed\n",
      "photo-gallery:  2398\n",
      "25ba2284-51e3-4eb9-a2c8-fa3a0eaeeca9 processed\n",
      "photo-gallery:  54\n",
      "29a43c47-05d7-4bb9-909b-e3cae08097ad to small to process\n",
      "photo-gallery:  607\n",
      "2afbf7b0-6202-49bb-814f-ddba906bab48 processed\n",
      "photo-gallery:  553\n",
      "2afc4c23-161f-4fc5-b4ba-e567f5327d22 processed\n",
      "photo-gallery:  193\n",
      "36f05b2e-4164-49a6-ba0c-d78997ecdcae processed\n",
      "photo-gallery:  204\n",
      "3e4c39d0-d2ec-45c3-91cc-4c80ccf171be processed\n",
      "photo-gallery:  137\n",
      "588aeafe-5c4d-4bc9-84c5-8ae28029c733 processed\n",
      "photo-gallery:  1526\n",
      "5e0b1bf2-2aba-4745-b91f-916554d51e9f processed\n",
      "photo-gallery:  964\n",
      "6ff9fca8-f981-46e5-93cc-4fab4190d758 processed\n",
      "photo-gallery:  897\n",
      "759240f7-1248-4334-aad5-fd384b524d3d processed\n",
      "photo-gallery:  28\n",
      "a296ae00-fcd4-418c-aaae-49b1f13fcbd5 to small to process\n",
      "(19, 23)\n"
     ]
    }
   ],
   "source": [
    "y = score_vector_constructor(path, 'photo-gallery')"
   ]
  },
  {
   "cell_type": "code",
   "execution_count": 7,
   "metadata": {},
   "outputs": [
    {
     "data": {
      "text/html": [
       "<div>\n",
       "<style scoped>\n",
       "    .dataframe tbody tr th:only-of-type {\n",
       "        vertical-align: middle;\n",
       "    }\n",
       "\n",
       "    .dataframe tbody tr th {\n",
       "        vertical-align: top;\n",
       "    }\n",
       "\n",
       "    .dataframe thead th {\n",
       "        text-align: right;\n",
       "    }\n",
       "</style>\n",
       "<table border=\"1\" class=\"dataframe\">\n",
       "  <thead>\n",
       "    <tr style=\"text-align: right;\">\n",
       "      <th>description</th>\n",
       "      <th>nz ratio daily photos</th>\n",
       "      <th>mean daily number photos</th>\n",
       "      <th>std daily number photos</th>\n",
       "      <th>hober mean daily number photos</th>\n",
       "      <th>mean daily unique format</th>\n",
       "      <th>std daily unique format</th>\n",
       "      <th>max ratio of photos by category</th>\n",
       "      <th>min ratio of photos by category</th>\n",
       "      <th>nz ratio weekend photos</th>\n",
       "      <th>mean weekend number photos</th>\n",
       "      <th>...</th>\n",
       "      <th>mean nightly number photos</th>\n",
       "      <th>std nightly number photos</th>\n",
       "      <th>hober mean nightly number photos</th>\n",
       "      <th>ar daily num of photos lag-1</th>\n",
       "      <th>ar daily num of photos lag-4</th>\n",
       "      <th>ar daily num of photos lag-8</th>\n",
       "      <th>ar daily num of photos lag-16</th>\n",
       "      <th>entropy on photo category</th>\n",
       "      <th>ivi irregularity on photos per day</th>\n",
       "      <th>ivi irregularity on time between photos</th>\n",
       "    </tr>\n",
       "  </thead>\n",
       "  <tbody>\n",
       "    <tr>\n",
       "      <th>05fa68e5-0ba3-4783-9c07-42740c4914c6</th>\n",
       "      <td>0.297251</td>\n",
       "      <td>1.243986</td>\n",
       "      <td>3.980915</td>\n",
       "      <td>2.219144</td>\n",
       "      <td>0.305842</td>\n",
       "      <td>0.479046</td>\n",
       "      <td>0.962707</td>\n",
       "      <td>0.037293</td>\n",
       "      <td>0.086304</td>\n",
       "      <td>0.510319</td>\n",
       "      <td>...</td>\n",
       "      <td>0.410619</td>\n",
       "      <td>2.666321</td>\n",
       "      <td>2.219144</td>\n",
       "      <td>0.925484</td>\n",
       "      <td>0.872492</td>\n",
       "      <td>0.820717</td>\n",
       "      <td>0.745602</td>\n",
       "      <td>0.229739</td>\n",
       "      <td>3.552876</td>\n",
       "      <td>3.552876</td>\n",
       "    </tr>\n",
       "    <tr>\n",
       "      <th>12fa7561-2e77-4334-b9e1-6858ed27570f</th>\n",
       "      <td>0.072011</td>\n",
       "      <td>1.967391</td>\n",
       "      <td>40.964845</td>\n",
       "      <td>2.219144</td>\n",
       "      <td>0.074728</td>\n",
       "      <td>0.278022</td>\n",
       "      <td>0.993094</td>\n",
       "      <td>0.000691</td>\n",
       "      <td>0.025388</td>\n",
       "      <td>1.755994</td>\n",
       "      <td>...</td>\n",
       "      <td>0.324534</td>\n",
       "      <td>2.090786</td>\n",
       "      <td>2.219144</td>\n",
       "      <td>5.376335</td>\n",
       "      <td>5.399935</td>\n",
       "      <td>5.416480</td>\n",
       "      <td>5.473496</td>\n",
       "      <td>0.035811</td>\n",
       "      <td>6.813005</td>\n",
       "      <td>6.813005</td>\n",
       "    </tr>\n",
       "    <tr>\n",
       "      <th>1362474c-0fb5-4932-a33d-5a30f23ac7e3</th>\n",
       "      <td>0.069153</td>\n",
       "      <td>0.652976</td>\n",
       "      <td>5.952898</td>\n",
       "      <td>2.219144</td>\n",
       "      <td>0.073345</td>\n",
       "      <td>0.276310</td>\n",
       "      <td>0.969833</td>\n",
       "      <td>0.030167</td>\n",
       "      <td>0.035486</td>\n",
       "      <td>0.448545</td>\n",
       "      <td>...</td>\n",
       "      <td>0.420369</td>\n",
       "      <td>5.321097</td>\n",
       "      <td>2.219144</td>\n",
       "      <td>2.521008</td>\n",
       "      <td>2.353925</td>\n",
       "      <td>2.317510</td>\n",
       "      <td>2.048216</td>\n",
       "      <td>0.195228</td>\n",
       "      <td>8.644890</td>\n",
       "      <td>8.644890</td>\n",
       "    </tr>\n",
       "    <tr>\n",
       "      <th>148b0326-09e2-404f-9de6-aff6d44f2a38</th>\n",
       "      <td>0.652174</td>\n",
       "      <td>3.043478</td>\n",
       "      <td>5.882755</td>\n",
       "      <td>2.219144</td>\n",
       "      <td>0.673913</td>\n",
       "      <td>0.513062</td>\n",
       "      <td>0.988095</td>\n",
       "      <td>0.002381</td>\n",
       "      <td>0.214815</td>\n",
       "      <td>1.088889</td>\n",
       "      <td>...</td>\n",
       "      <td>1.674074</td>\n",
       "      <td>4.063988</td>\n",
       "      <td>2.219144</td>\n",
       "      <td>0.681415</td>\n",
       "      <td>1.370590</td>\n",
       "      <td>1.331650</td>\n",
       "      <td>6.160249</td>\n",
       "      <td>0.109492</td>\n",
       "      <td>1.461692</td>\n",
       "      <td>1.461692</td>\n",
       "    </tr>\n",
       "    <tr>\n",
       "      <th>17ac0e20-b292-492c-9adc-faf60a068926</th>\n",
       "      <td>0.055348</td>\n",
       "      <td>0.955871</td>\n",
       "      <td>19.428915</td>\n",
       "      <td>4.438289</td>\n",
       "      <td>0.056096</td>\n",
       "      <td>0.233334</td>\n",
       "      <td>0.996870</td>\n",
       "      <td>0.003130</td>\n",
       "      <td>0.020942</td>\n",
       "      <td>0.718025</td>\n",
       "      <td>...</td>\n",
       "      <td>0.789828</td>\n",
       "      <td>19.356861</td>\n",
       "      <td>4.438289</td>\n",
       "      <td>1.556856</td>\n",
       "      <td>1.500113</td>\n",
       "      <td>1.538433</td>\n",
       "      <td>1.437105</td>\n",
       "      <td>0.030548</td>\n",
       "      <td>9.545207</td>\n",
       "      <td>9.545207</td>\n",
       "    </tr>\n",
       "  </tbody>\n",
       "</table>\n",
       "<p>5 rows × 23 columns</p>\n",
       "</div>"
      ],
      "text/plain": [
       "description                           nz ratio daily photos  \\\n",
       "05fa68e5-0ba3-4783-9c07-42740c4914c6               0.297251   \n",
       "12fa7561-2e77-4334-b9e1-6858ed27570f               0.072011   \n",
       "1362474c-0fb5-4932-a33d-5a30f23ac7e3               0.069153   \n",
       "148b0326-09e2-404f-9de6-aff6d44f2a38               0.652174   \n",
       "17ac0e20-b292-492c-9adc-faf60a068926               0.055348   \n",
       "\n",
       "description                           mean daily number photos  \\\n",
       "05fa68e5-0ba3-4783-9c07-42740c4914c6                  1.243986   \n",
       "12fa7561-2e77-4334-b9e1-6858ed27570f                  1.967391   \n",
       "1362474c-0fb5-4932-a33d-5a30f23ac7e3                  0.652976   \n",
       "148b0326-09e2-404f-9de6-aff6d44f2a38                  3.043478   \n",
       "17ac0e20-b292-492c-9adc-faf60a068926                  0.955871   \n",
       "\n",
       "description                           std daily number photos  \\\n",
       "05fa68e5-0ba3-4783-9c07-42740c4914c6                 3.980915   \n",
       "12fa7561-2e77-4334-b9e1-6858ed27570f                40.964845   \n",
       "1362474c-0fb5-4932-a33d-5a30f23ac7e3                 5.952898   \n",
       "148b0326-09e2-404f-9de6-aff6d44f2a38                 5.882755   \n",
       "17ac0e20-b292-492c-9adc-faf60a068926                19.428915   \n",
       "\n",
       "description                           hober mean daily number photos  \\\n",
       "05fa68e5-0ba3-4783-9c07-42740c4914c6                        2.219144   \n",
       "12fa7561-2e77-4334-b9e1-6858ed27570f                        2.219144   \n",
       "1362474c-0fb5-4932-a33d-5a30f23ac7e3                        2.219144   \n",
       "148b0326-09e2-404f-9de6-aff6d44f2a38                        2.219144   \n",
       "17ac0e20-b292-492c-9adc-faf60a068926                        4.438289   \n",
       "\n",
       "description                           mean daily unique format  \\\n",
       "05fa68e5-0ba3-4783-9c07-42740c4914c6                  0.305842   \n",
       "12fa7561-2e77-4334-b9e1-6858ed27570f                  0.074728   \n",
       "1362474c-0fb5-4932-a33d-5a30f23ac7e3                  0.073345   \n",
       "148b0326-09e2-404f-9de6-aff6d44f2a38                  0.673913   \n",
       "17ac0e20-b292-492c-9adc-faf60a068926                  0.056096   \n",
       "\n",
       "description                           std daily unique format  \\\n",
       "05fa68e5-0ba3-4783-9c07-42740c4914c6                 0.479046   \n",
       "12fa7561-2e77-4334-b9e1-6858ed27570f                 0.278022   \n",
       "1362474c-0fb5-4932-a33d-5a30f23ac7e3                 0.276310   \n",
       "148b0326-09e2-404f-9de6-aff6d44f2a38                 0.513062   \n",
       "17ac0e20-b292-492c-9adc-faf60a068926                 0.233334   \n",
       "\n",
       "description                           max ratio of photos by category  \\\n",
       "05fa68e5-0ba3-4783-9c07-42740c4914c6                         0.962707   \n",
       "12fa7561-2e77-4334-b9e1-6858ed27570f                         0.993094   \n",
       "1362474c-0fb5-4932-a33d-5a30f23ac7e3                         0.969833   \n",
       "148b0326-09e2-404f-9de6-aff6d44f2a38                         0.988095   \n",
       "17ac0e20-b292-492c-9adc-faf60a068926                         0.996870   \n",
       "\n",
       "description                           min ratio of photos by category  \\\n",
       "05fa68e5-0ba3-4783-9c07-42740c4914c6                         0.037293   \n",
       "12fa7561-2e77-4334-b9e1-6858ed27570f                         0.000691   \n",
       "1362474c-0fb5-4932-a33d-5a30f23ac7e3                         0.030167   \n",
       "148b0326-09e2-404f-9de6-aff6d44f2a38                         0.002381   \n",
       "17ac0e20-b292-492c-9adc-faf60a068926                         0.003130   \n",
       "\n",
       "description                           nz ratio weekend photos  \\\n",
       "05fa68e5-0ba3-4783-9c07-42740c4914c6                 0.086304   \n",
       "12fa7561-2e77-4334-b9e1-6858ed27570f                 0.025388   \n",
       "1362474c-0fb5-4932-a33d-5a30f23ac7e3                 0.035486   \n",
       "148b0326-09e2-404f-9de6-aff6d44f2a38                 0.214815   \n",
       "17ac0e20-b292-492c-9adc-faf60a068926                 0.020942   \n",
       "\n",
       "description                           mean weekend number photos  ...  \\\n",
       "05fa68e5-0ba3-4783-9c07-42740c4914c6                    0.510319  ...   \n",
       "12fa7561-2e77-4334-b9e1-6858ed27570f                    1.755994  ...   \n",
       "1362474c-0fb5-4932-a33d-5a30f23ac7e3                    0.448545  ...   \n",
       "148b0326-09e2-404f-9de6-aff6d44f2a38                    1.088889  ...   \n",
       "17ac0e20-b292-492c-9adc-faf60a068926                    0.718025  ...   \n",
       "\n",
       "description                           mean nightly number photos  \\\n",
       "05fa68e5-0ba3-4783-9c07-42740c4914c6                    0.410619   \n",
       "12fa7561-2e77-4334-b9e1-6858ed27570f                    0.324534   \n",
       "1362474c-0fb5-4932-a33d-5a30f23ac7e3                    0.420369   \n",
       "148b0326-09e2-404f-9de6-aff6d44f2a38                    1.674074   \n",
       "17ac0e20-b292-492c-9adc-faf60a068926                    0.789828   \n",
       "\n",
       "description                           std nightly number photos  \\\n",
       "05fa68e5-0ba3-4783-9c07-42740c4914c6                   2.666321   \n",
       "12fa7561-2e77-4334-b9e1-6858ed27570f                   2.090786   \n",
       "1362474c-0fb5-4932-a33d-5a30f23ac7e3                   5.321097   \n",
       "148b0326-09e2-404f-9de6-aff6d44f2a38                   4.063988   \n",
       "17ac0e20-b292-492c-9adc-faf60a068926                  19.356861   \n",
       "\n",
       "description                           hober mean nightly number photos  \\\n",
       "05fa68e5-0ba3-4783-9c07-42740c4914c6                          2.219144   \n",
       "12fa7561-2e77-4334-b9e1-6858ed27570f                          2.219144   \n",
       "1362474c-0fb5-4932-a33d-5a30f23ac7e3                          2.219144   \n",
       "148b0326-09e2-404f-9de6-aff6d44f2a38                          2.219144   \n",
       "17ac0e20-b292-492c-9adc-faf60a068926                          4.438289   \n",
       "\n",
       "description                           ar daily num of photos lag-1  \\\n",
       "05fa68e5-0ba3-4783-9c07-42740c4914c6                      0.925484   \n",
       "12fa7561-2e77-4334-b9e1-6858ed27570f                      5.376335   \n",
       "1362474c-0fb5-4932-a33d-5a30f23ac7e3                      2.521008   \n",
       "148b0326-09e2-404f-9de6-aff6d44f2a38                      0.681415   \n",
       "17ac0e20-b292-492c-9adc-faf60a068926                      1.556856   \n",
       "\n",
       "description                           ar daily num of photos lag-4  \\\n",
       "05fa68e5-0ba3-4783-9c07-42740c4914c6                      0.872492   \n",
       "12fa7561-2e77-4334-b9e1-6858ed27570f                      5.399935   \n",
       "1362474c-0fb5-4932-a33d-5a30f23ac7e3                      2.353925   \n",
       "148b0326-09e2-404f-9de6-aff6d44f2a38                      1.370590   \n",
       "17ac0e20-b292-492c-9adc-faf60a068926                      1.500113   \n",
       "\n",
       "description                           ar daily num of photos lag-8  \\\n",
       "05fa68e5-0ba3-4783-9c07-42740c4914c6                      0.820717   \n",
       "12fa7561-2e77-4334-b9e1-6858ed27570f                      5.416480   \n",
       "1362474c-0fb5-4932-a33d-5a30f23ac7e3                      2.317510   \n",
       "148b0326-09e2-404f-9de6-aff6d44f2a38                      1.331650   \n",
       "17ac0e20-b292-492c-9adc-faf60a068926                      1.538433   \n",
       "\n",
       "description                           ar daily num of photos lag-16  \\\n",
       "05fa68e5-0ba3-4783-9c07-42740c4914c6                       0.745602   \n",
       "12fa7561-2e77-4334-b9e1-6858ed27570f                       5.473496   \n",
       "1362474c-0fb5-4932-a33d-5a30f23ac7e3                       2.048216   \n",
       "148b0326-09e2-404f-9de6-aff6d44f2a38                       6.160249   \n",
       "17ac0e20-b292-492c-9adc-faf60a068926                       1.437105   \n",
       "\n",
       "description                           entropy on photo category  \\\n",
       "05fa68e5-0ba3-4783-9c07-42740c4914c6                   0.229739   \n",
       "12fa7561-2e77-4334-b9e1-6858ed27570f                   0.035811   \n",
       "1362474c-0fb5-4932-a33d-5a30f23ac7e3                   0.195228   \n",
       "148b0326-09e2-404f-9de6-aff6d44f2a38                   0.109492   \n",
       "17ac0e20-b292-492c-9adc-faf60a068926                   0.030548   \n",
       "\n",
       "description                           ivi irregularity on photos per day  \\\n",
       "05fa68e5-0ba3-4783-9c07-42740c4914c6                            3.552876   \n",
       "12fa7561-2e77-4334-b9e1-6858ed27570f                            6.813005   \n",
       "1362474c-0fb5-4932-a33d-5a30f23ac7e3                            8.644890   \n",
       "148b0326-09e2-404f-9de6-aff6d44f2a38                            1.461692   \n",
       "17ac0e20-b292-492c-9adc-faf60a068926                            9.545207   \n",
       "\n",
       "description                           ivi irregularity on time between photos  \n",
       "05fa68e5-0ba3-4783-9c07-42740c4914c6                                 3.552876  \n",
       "12fa7561-2e77-4334-b9e1-6858ed27570f                                 6.813005  \n",
       "1362474c-0fb5-4932-a33d-5a30f23ac7e3                                 8.644890  \n",
       "148b0326-09e2-404f-9de6-aff6d44f2a38                                 1.461692  \n",
       "17ac0e20-b292-492c-9adc-faf60a068926                                 9.545207  \n",
       "\n",
       "[5 rows x 23 columns]"
      ]
     },
     "execution_count": 7,
     "metadata": {},
     "output_type": "execute_result"
    }
   ],
   "source": [
    "y.head(5)"
   ]
  },
  {
   "cell_type": "code",
   "execution_count": 16,
   "metadata": {},
   "outputs": [],
   "source": [
    "nrm = normalize_scores(y, 'min-max')"
   ]
  },
  {
   "cell_type": "code",
   "execution_count": 17,
   "metadata": {},
   "outputs": [
    {
     "data": {
      "text/plain": [
       "pandas.core.frame.DataFrame"
      ]
     },
     "execution_count": 17,
     "metadata": {},
     "output_type": "execute_result"
    }
   ],
   "source": [
    "type(nrm)"
   ]
  },
  {
   "cell_type": "code",
   "execution_count": 10,
   "metadata": {},
   "outputs": [],
   "source": [
    "y.to_csv('/Users/smuel/Developer/Python/louie7_mvp/score_vec_minmax_photogallery.csv')"
   ]
  },
  {
   "cell_type": "code",
   "execution_count": 6,
   "metadata": {},
   "outputs": [],
   "source": [
    "rdata = list_of_json_files(path)"
   ]
  },
  {
   "cell_type": "code",
   "execution_count": 7,
   "metadata": {},
   "outputs": [
    {
     "data": {
      "text/plain": [
       "'05fa68e5-0ba3-4783-9c07-42740c4914c6'"
      ]
     },
     "execution_count": 7,
     "metadata": {},
     "output_type": "execute_result"
    }
   ],
   "source": [
    "rdata[0][0]"
   ]
  },
  {
   "cell_type": "code",
   "execution_count": 8,
   "metadata": {},
   "outputs": [],
   "source": [
    "raw = group_metadata(path)"
   ]
  },
  {
   "cell_type": "code",
   "execution_count": 9,
   "metadata": {},
   "outputs": [
    {
     "data": {
      "text/plain": [
       "{'unique_ids': ['a296ae00-fcd4-418c-aaae-49b1f13fcbd5',\n",
       "  '05fa68e5-0ba3-4783-9c07-42740c4914c6',\n",
       "  '148b0326-09e2-404f-9de6-aff6d44f2a38',\n",
       "  '6ff9fca8-f981-46e5-93cc-4fab4190d758',\n",
       "  '2afbf7b0-6202-49bb-814f-ddba906bab48',\n",
       "  '199ea69c-5e20-4b53-9bfb-0534aaeb68d6',\n",
       "  '5e0b1bf2-2aba-4745-b91f-916554d51e9f',\n",
       "  '588aeafe-5c4d-4bc9-84c5-8ae28029c733',\n",
       "  '36f05b2e-4164-49a6-ba0c-d78997ecdcae',\n",
       "  '2afc4c23-161f-4fc5-b4ba-e567f5327d22',\n",
       "  '12fa7561-2e77-4334-b9e1-6858ed27570f',\n",
       "  '20380cd2-055e-4f3a-a339-90a1c7df4e1a',\n",
       "  '3e4c39d0-d2ec-45c3-91cc-4c80ccf171be',\n",
       "  '1abd59a3-553f-43db-a329-90c28c72afdd',\n",
       "  '25174909-3427-42d2-9e14-65f7c95f240b',\n",
       "  '759240f7-1248-4334-aad5-fd384b524d3d',\n",
       "  '17ac0e20-b292-492c-9adc-faf60a068926',\n",
       "  '236b91d2-cefb-405a-9de5-a3673ef1c736',\n",
       "  '25ba2284-51e3-4eb9-a2c8-fa3a0eaeeca9',\n",
       "  '1362474c-0fb5-4932-a33d-5a30f23ac7e3',\n",
       "  '29a43c47-05d7-4bb9-909b-e3cae08097ad'],\n",
       " 'file_list': ['05fa68e5-0ba3-4783-9c07-42740c4914c6_11-06-2021_09-53-01.json',\n",
       "  '12fa7561-2e77-4334-b9e1-6858ed27570f_15-07-2021_21-30-54.json',\n",
       "  '1362474c-0fb5-4932-a33d-5a30f23ac7e3_14-07-2021_12-18-21.json',\n",
       "  '148b0326-09e2-404f-9de6-aff6d44f2a38_10-08-2021_20-19-48.json',\n",
       "  '17ac0e20-b292-492c-9adc-faf60a068926_18-07-2021_18-32-18.json',\n",
       "  '199ea69c-5e20-4b53-9bfb-0534aaeb68d6_22-07-2021_10-46-06.json',\n",
       "  '1abd59a3-553f-43db-a329-90c28c72afdd_20-07-2021_21-28-22.json',\n",
       "  '20380cd2-055e-4f3a-a339-90a1c7df4e1a_15-07-2021_02-24-42.json',\n",
       "  '236b91d2-cefb-405a-9de5-a3673ef1c736_30-06-2021_01-17-49.json',\n",
       "  '25174909-3427-42d2-9e14-65f7c95f240b_11-07-2021_15-31-16.json',\n",
       "  '25ba2284-51e3-4eb9-a2c8-fa3a0eaeeca9_11-07-2021_21-35-19.json',\n",
       "  '29a43c47-05d7-4bb9-909b-e3cae08097ad_05-08-2021_09-17-38.json',\n",
       "  '2afbf7b0-6202-49bb-814f-ddba906bab48_01-08-2021_10-24-29.json',\n",
       "  '2afc4c23-161f-4fc5-b4ba-e567f5327d22_31-07-2021_09-25-27.json',\n",
       "  '36f05b2e-4164-49a6-ba0c-d78997ecdcae_26-07-2021_13-43-03.json',\n",
       "  '3e4c39d0-d2ec-45c3-91cc-4c80ccf171be_20-07-2021_15-27-10.json',\n",
       "  '588aeafe-5c4d-4bc9-84c5-8ae28029c733_21-07-2021_08-13-31.json',\n",
       "  '5e0b1bf2-2aba-4745-b91f-916554d51e9f_13-07-2021_14-29-34.json',\n",
       "  '6ff9fca8-f981-46e5-93cc-4fab4190d758_01-08-2021_01-13-41.json',\n",
       "  '759240f7-1248-4334-aad5-fd384b524d3d_23-07-2021_21-44-32.json',\n",
       "  'a296ae00-fcd4-418c-aaae-49b1f13fcbd5_14-07-2021_01-50-32.json']}"
      ]
     },
     "execution_count": 9,
     "metadata": {},
     "output_type": "execute_result"
    }
   ],
   "source": [
    "raw"
   ]
  },
  {
   "cell_type": "code",
   "execution_count": 10,
   "metadata": {},
   "outputs": [],
   "source": [
    "uid  = 'a296ae00-fcd4-418c-aaae-49b1f13fcbd5'\n",
    "file = 'a296ae00-fcd4-418c-aaae-49b1f13fcbd5_14-07-2021_01-50-32.json'\n",
    "raw_data = json.load(codecs.open(path + file, 'r', 'utf-8-sig'))"
   ]
  },
  {
   "cell_type": "code",
   "execution_count": 11,
   "metadata": {},
   "outputs": [],
   "source": [
    "loc, df_r = create_df_from_init_metadata(uid, raw_data)"
   ]
  },
  {
   "cell_type": "code",
   "execution_count": 12,
   "metadata": {},
   "outputs": [
    {
     "data": {
      "text/plain": [
       "dict_keys(['SamplingConfigurations', 'CallLogs', 'ImgMetaData', 'InstallApps'])"
      ]
     },
     "execution_count": 12,
     "metadata": {},
     "output_type": "execute_result"
    }
   ],
   "source": [
    "raw_data.keys()"
   ]
  },
  {
   "cell_type": "code",
   "execution_count": 14,
   "metadata": {},
   "outputs": [
    {
     "data": {
      "text/plain": [
       "28"
      ]
     },
     "execution_count": 14,
     "metadata": {},
     "output_type": "execute_result"
    }
   ],
   "source": [
    "clogs = df_r['a296ae00-fcd4-418c-aaae-49b1f13fcbd5_ImgMetaData']\n",
    "len(clogs)"
   ]
  },
  {
   "cell_type": "code",
   "execution_count": 16,
   "metadata": {},
   "outputs": [
    {
     "data": {
      "text/html": [
       "<div>\n",
       "<style scoped>\n",
       "    .dataframe tbody tr th:only-of-type {\n",
       "        vertical-align: middle;\n",
       "    }\n",
       "\n",
       "    .dataframe tbody tr th {\n",
       "        vertical-align: top;\n",
       "    }\n",
       "\n",
       "    .dataframe thead th {\n",
       "        text-align: right;\n",
       "    }\n",
       "</style>\n",
       "<table border=\"1\" class=\"dataframe\">\n",
       "  <thead>\n",
       "    <tr style=\"text-align: right;\">\n",
       "      <th></th>\n",
       "      <th>IMAGE_TYPE</th>\n",
       "      <th>IMAGE_DATE_TIME</th>\n",
       "    </tr>\n",
       "  </thead>\n",
       "  <tbody>\n",
       "    <tr>\n",
       "      <th>23</th>\n",
       "      <td>image/jpeg</td>\n",
       "      <td>2021-07-11 15:47:20.000000000</td>\n",
       "    </tr>\n",
       "    <tr>\n",
       "      <th>24</th>\n",
       "      <td>image/jpeg</td>\n",
       "      <td>2021-07-11 15:47:37.000000000</td>\n",
       "    </tr>\n",
       "    <tr>\n",
       "      <th>25</th>\n",
       "      <td>image/jpeg</td>\n",
       "      <td>2021-07-12 12:48:25.000000000</td>\n",
       "    </tr>\n",
       "    <tr>\n",
       "      <th>26</th>\n",
       "      <td>image/jpeg</td>\n",
       "      <td>2021-07-13 16:09:43.000000000</td>\n",
       "    </tr>\n",
       "    <tr>\n",
       "      <th>27</th>\n",
       "      <td>image/png</td>\n",
       "      <td>2021-07-13 16:35:19.351000064</td>\n",
       "    </tr>\n",
       "  </tbody>\n",
       "</table>\n",
       "</div>"
      ],
      "text/plain": [
       "    IMAGE_TYPE               IMAGE_DATE_TIME\n",
       "23  image/jpeg 2021-07-11 15:47:20.000000000\n",
       "24  image/jpeg 2021-07-11 15:47:37.000000000\n",
       "25  image/jpeg 2021-07-12 12:48:25.000000000\n",
       "26  image/jpeg 2021-07-13 16:09:43.000000000\n",
       "27   image/png 2021-07-13 16:35:19.351000064"
      ]
     },
     "execution_count": 16,
     "metadata": {},
     "output_type": "execute_result"
    }
   ],
   "source": [
    "clogs.tail(5)"
   ]
  },
  {
   "cell_type": "code",
   "execution_count": 26,
   "metadata": {},
   "outputs": [],
   "source": [
    "x = clogs['CALL_DURATION']"
   ]
  },
  {
   "cell_type": "code",
   "execution_count": 27,
   "metadata": {},
   "outputs": [
    {
     "data": {
      "text/plain": [
       "19    54\n",
       "21    18\n",
       "22    43\n",
       "28    32\n",
       "31    28\n",
       "Name: CALL_DURATION, dtype: object"
      ]
     },
     "execution_count": 27,
     "metadata": {},
     "output_type": "execute_result"
    }
   ],
   "source": [
    "x[x != '0']"
   ]
  },
  {
   "cell_type": "code",
   "execution_count": 28,
   "metadata": {},
   "outputs": [],
   "source": [
    "def f(data):\n",
    "    y = lambda x: x.astype(np.float64)\n",
    "    return np.sum(y(data))"
   ]
  },
  {
   "cell_type": "code",
   "execution_count": 29,
   "metadata": {},
   "outputs": [],
   "source": [
    "sample_field = 'CALL_DATE_TIME'\n",
    "data_field = 'CALL_NUMBER'\n",
    "dur_field = 'CALL_DURATION'"
   ]
  },
  {
   "cell_type": "code",
   "execution_count": 30,
   "metadata": {},
   "outputs": [],
   "source": [
    "from vector_creator.preprocess.est_by_df_column import *\n",
    "from vector_creator.preprocess.entropy import *\n",
    "from vector_creator.preprocess.auto_regression import *\n",
    "from vector_creator.preprocess.ivi_irregularity import *\n",
    "from vector_creator.score_vectors.score_vectors_assembly import *"
   ]
  },
  {
   "cell_type": "code",
   "execution_count": 31,
   "metadata": {},
   "outputs": [
    {
     "data": {
      "text/plain": [
       "[0.02727272727272727, 58.333333333333336, 3.091206165165235, 1.482602218505602]"
      ]
     },
     "execution_count": 31,
     "metadata": {},
     "output_type": "execute_result"
    }
   ],
   "source": [
    "mean_std_func(clogs, sample_field, dur_field, f, 'D')"
   ]
  },
  {
   "cell_type": "code",
   "execution_count": 34,
   "metadata": {},
   "outputs": [
    {
     "data": {
      "text/plain": [
       "[0.0, 0.0]"
      ]
     },
     "execution_count": 34,
     "metadata": {},
     "output_type": "execute_result"
    }
   ],
   "source": [
    "daily_mean_std_by_cat(clogs, sample_field, data_field, 'CALL_TYPE', 'INCOMING', 'nunique')"
   ]
  },
  {
   "cell_type": "code",
   "execution_count": 33,
   "metadata": {},
   "outputs": [
    {
     "data": {
      "text/plain": [
       "[0.0, 0.0, 0.0]"
      ]
     },
     "execution_count": 33,
     "metadata": {},
     "output_type": "execute_result"
    }
   ],
   "source": [
    "daily_mean_std_by_cat(clogs, sample_field, dur_field, 'CALL_TYPE', 'INCOMING', f)"
   ]
  },
  {
   "cell_type": "code",
   "execution_count": 37,
   "metadata": {},
   "outputs": [],
   "source": [
    "call_logs = ['INCOMING', 'OUTGOING', 'MISSED']"
   ]
  },
  {
   "cell_type": "code",
   "execution_count": 35,
   "metadata": {},
   "outputs": [
    {
     "data": {
      "text/plain": [
       "[1.5742840955380732]"
      ]
     },
     "execution_count": 35,
     "metadata": {},
     "output_type": "execute_result"
    }
   ],
   "source": [
    "entropy_of_freq_by_cat(clogs, freq_col=sample_field, cat_col='CALL_TYPE', cat='OUTGOING')"
   ]
  },
  {
   "cell_type": "code",
   "execution_count": 42,
   "metadata": {},
   "outputs": [
    {
     "data": {
      "text/plain": [
       "[-1.0]"
      ]
     },
     "execution_count": 42,
     "metadata": {},
     "output_type": "execute_result"
    }
   ],
   "source": [
    "entropy_of_number_by_cat(clogs, data_field, 'CALL_TYPE', call_logs[0])"
   ]
  },
  {
   "cell_type": "code",
   "execution_count": 41,
   "metadata": {},
   "outputs": [
    {
     "data": {
      "text/plain": [
       "[2.251629167387823]"
      ]
     },
     "execution_count": 41,
     "metadata": {},
     "output_type": "execute_result"
    }
   ],
   "source": [
    "entropy_of_duration_by_cat(clogs, dur_field, 'CALL_TYPE', call_logs[1])"
   ]
  },
  {
   "cell_type": "code",
   "execution_count": 51,
   "metadata": {},
   "outputs": [],
   "source": [
    "a = np.array([1,0,2,3,0])"
   ]
  },
  {
   "cell_type": "code",
   "execution_count": 52,
   "metadata": {},
   "outputs": [
    {
     "data": {
      "text/plain": [
       "array([1, 2, 3])"
      ]
     },
     "execution_count": 52,
     "metadata": {},
     "output_type": "execute_result"
    }
   ],
   "source": [
    "a[a!=0]"
   ]
  },
  {
   "cell_type": "code",
   "execution_count": 13,
   "metadata": {},
   "outputs": [],
   "source": [
    "a = 4"
   ]
  },
  {
   "cell_type": "code",
   "execution_count": 14,
   "metadata": {},
   "outputs": [
    {
     "data": {
      "text/plain": [
       "False"
      ]
     },
     "execution_count": 14,
     "metadata": {},
     "output_type": "execute_result"
    }
   ],
   "source": [
    "a == str(a)"
   ]
  },
  {
   "cell_type": "code",
   "execution_count": null,
   "metadata": {},
   "outputs": [],
   "source": []
  }
 ],
 "metadata": {
  "kernelspec": {
   "display_name": "Python 3",
   "language": "python",
   "name": "python3"
  },
  "language_info": {
   "codemirror_mode": {
    "name": "ipython",
    "version": 3
   },
   "file_extension": ".py",
   "mimetype": "text/x-python",
   "name": "python",
   "nbconvert_exporter": "python",
   "pygments_lexer": "ipython3",
   "version": "3.8.6"
  }
 },
 "nbformat": 4,
 "nbformat_minor": 5
}
