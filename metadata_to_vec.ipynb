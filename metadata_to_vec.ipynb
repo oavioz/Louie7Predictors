{
 "cells": [
  {
   "cell_type": "code",
   "execution_count": 3,
   "metadata": {},
   "outputs": [],
   "source": [
    "import numpy as np\n",
    "import pandas as pd\n",
    "import json\n",
    "import codecs\n",
    "import datetime\n",
    "import os\n",
    "import sys"
   ]
  },
  {
   "cell_type": "code",
   "execution_count": 4,
   "metadata": {},
   "outputs": [],
   "source": [
    "sys.path.append('.')"
   ]
  },
  {
   "cell_type": "code",
   "execution_count": 5,
   "metadata": {},
   "outputs": [],
   "source": [
    "import matplotlib as mpl\n",
    "import matplotlib.pyplot as plt\n",
    "plt.rcParams[\"figure.figsize\"] = (24, 16)"
   ]
  },
  {
   "cell_type": "code",
   "execution_count": 6,
   "metadata": {},
   "outputs": [],
   "source": [
    "import oci\n",
    "import json\n",
    "from oci.config import validate_config\n",
    "from sklearn.covariance import MinCovDet "
   ]
  },
  {
   "cell_type": "code",
   "execution_count": 7,
   "metadata": {},
   "outputs": [],
   "source": [
    "tenancyId=\"ocid1.tenancy.oc1..aaaaaaaahkzl4rzvgxjfnrfcj7rzlsdav25h7tsx7kjxyv2bmwkfpzpag26q\" # Your tenancies OCID.\n",
    "authUserId=\"ocid1.user.oc1..aaaaaaaayltryoz33ole5eubwphwijkcvmi4ukbombh4aym2crp5j6xqxaxq\" # The OCID of the user ID being used.\n",
    "OCI_KEY_PATH=\"/home/datascience/.oci/oci_api_key.pem\" # Path of the key file.\n",
    "keyFingerprint=\"9a:47:38:96:c8:4d:bf:7e:32:3d:7c:c3:24:23:71:35\" # The fingerprint of the key file being used\n",
    "namespace = \"lrzustouvvrg\"\n",
    "bucket_name = \"sdk-initial-data-bucket\"\n",
    "config = {\n",
    "    \"user\": authUserId,\n",
    "    \"key_file\": OCI_KEY_PATH,\n",
    "    \"fingerprint\": keyFingerprint,\n",
    "    \"tenancy\": tenancyId,\n",
    "    \"region\": \"uk-london-1\"\n",
    "}"
   ]
  },
  {
   "cell_type": "code",
   "execution_count": 8,
   "metadata": {},
   "outputs": [],
   "source": [
    "validate_config(config)"
   ]
  },
  {
   "cell_type": "code",
   "execution_count": 9,
   "metadata": {},
   "outputs": [],
   "source": [
    "object_storage_client = oci.object_storage.ObjectStorageClient(config)\n",
    "next_starts_with = None\n",
    "object_list = object_storage_client.list_objects(namespace, bucket_name , fields='name, timeCreated, size', start=next_starts_with)"
   ]
  },
  {
   "cell_type": "code",
   "execution_count": 10,
   "metadata": {},
   "outputs": [],
   "source": [
    "f = object_list.data.objects"
   ]
  },
  {
   "cell_type": "code",
   "execution_count": 11,
   "metadata": {},
   "outputs": [
    {
     "data": {
      "text/plain": [
       "{\n",
       "  \"archival_state\": null,\n",
       "  \"etag\": null,\n",
       "  \"md5\": null,\n",
       "  \"name\": \"005b6c49-c4ed-438b-9092-ad02ed4d672e_26-07-2021_13-36-18.json\",\n",
       "  \"size\": 530965,\n",
       "  \"storage_tier\": null,\n",
       "  \"time_created\": \"2021-07-26T05:36:31.229000+00:00\",\n",
       "  \"time_modified\": null\n",
       "}"
      ]
     },
     "execution_count": 11,
     "metadata": {},
     "output_type": "execute_result"
    }
   ],
   "source": [
    "f[0]"
   ]
  },
  {
   "cell_type": "code",
   "execution_count": 12,
   "metadata": {},
   "outputs": [
    {
     "data": {
      "text/plain": [
       "{\n",
       "  \"archival_state\": null,\n",
       "  \"etag\": null,\n",
       "  \"md5\": null,\n",
       "  \"name\": \"005b6c49-c4ed-438b-9092-ad02ed4d672e_26-07-2021_13-36-18.json\",\n",
       "  \"size\": 530965,\n",
       "  \"storage_tier\": null,\n",
       "  \"time_created\": \"2021-07-26T05:36:31.229000+00:00\",\n",
       "  \"time_modified\": null\n",
       "}"
      ]
     },
     "execution_count": 12,
     "metadata": {},
     "output_type": "execute_result"
    }
   ],
   "source": [
    "object_list.data.objects[0]"
   ]
  },
  {
   "cell_type": "code",
   "execution_count": 13,
   "metadata": {},
   "outputs": [
    {
     "data": {
      "text/plain": [
       "1000"
      ]
     },
     "execution_count": 13,
     "metadata": {},
     "output_type": "execute_result"
    }
   ],
   "source": [
    "len(f)"
   ]
  },
  {
   "cell_type": "code",
   "execution_count": 14,
   "metadata": {},
   "outputs": [],
   "source": [
    "obj = object_storage_client.get_object(namespace, bucket_name, f[0].name).data"
   ]
  },
  {
   "cell_type": "code",
   "execution_count": 15,
   "metadata": {},
   "outputs": [
    {
     "data": {
      "text/plain": [
       "bytes"
      ]
     },
     "execution_count": 15,
     "metadata": {},
     "output_type": "execute_result"
    }
   ],
   "source": [
    "type(obj.content)"
   ]
  },
  {
   "cell_type": "code",
   "execution_count": 16,
   "metadata": {},
   "outputs": [],
   "source": [
    "j_obj = json.loads(obj.content)"
   ]
  },
  {
   "cell_type": "code",
   "execution_count": 17,
   "metadata": {},
   "outputs": [
    {
     "data": {
      "text/plain": [
       "dict"
      ]
     },
     "execution_count": 17,
     "metadata": {},
     "output_type": "execute_result"
    }
   ],
   "source": [
    "type(j_obj)"
   ]
  },
  {
   "cell_type": "code",
   "execution_count": 18,
   "metadata": {},
   "outputs": [],
   "source": [
    "from vector_creator.score_vectors.score_vectors_assembly import score_vector_from_bucket"
   ]
  },
  {
   "cell_type": "code",
   "execution_count": null,
   "metadata": {},
   "outputs": [],
   "source": [
    "res0 = score_vector_from_bucket(object_storage_client, 'photo-gallery', next_starts_with)"
   ]
  },
  {
   "cell_type": "code",
   "execution_count": 20,
   "metadata": {},
   "outputs": [
    {
     "data": {
      "text/plain": [
       "Index(['median daily number photos - location',\n",
       "       'mad daily number photos - scale', 'mean number of photos in burst',\n",
       "       'mean number of bursts a week', 'median number of bursts a week',\n",
       "       'median night time number photos', 'mad night time number photos',\n",
       "       'median day time number photos', 'mad day time number photos',\n",
       "       'median weekend number photos', 'mad weekend number photos',\n",
       "       'median work days number photos', 'mad work days number photos',\n",
       "       'ar daily num of photos lag-1', 'entropy on daily photos'],\n",
       "      dtype='object', name='description')"
      ]
     },
     "execution_count": 20,
     "metadata": {},
     "output_type": "execute_result"
    }
   ],
   "source": [
    "res0.columns"
   ]
  },
  {
   "cell_type": "code",
   "execution_count": 21,
   "metadata": {},
   "outputs": [],
   "source": [
    "res0.to_csv('csv_files/photogallery_ver3_0.csv')"
   ]
  },
  {
   "cell_type": "code",
   "execution_count": 22,
   "metadata": {},
   "outputs": [],
   "source": [
    "next_starts_with = object_list.data.next_start_with"
   ]
  },
  {
   "cell_type": "code",
   "execution_count": 23,
   "metadata": {},
   "outputs": [
    {
     "data": {
      "text/plain": [
       "{\n",
       "  \"archival_state\": null,\n",
       "  \"etag\": null,\n",
       "  \"md5\": null,\n",
       "  \"name\": \"78c170cc-9641-4925-bc48-6d0a6538d003_01-08-2021_21-49-56.json\",\n",
       "  \"size\": 35493,\n",
       "  \"storage_tier\": null,\n",
       "  \"time_created\": \"2021-08-01T13:49:57.369000+00:00\",\n",
       "  \"time_modified\": null\n",
       "}"
      ]
     },
     "execution_count": 23,
     "metadata": {},
     "output_type": "execute_result"
    }
   ],
   "source": [
    "osc = object_storage_client.list_objects(namespace, bucket_name, start=next_starts_with, fields='name, timeCreated, size')\n",
    "g = osc.data.objects\n",
    "g[0]"
   ]
  },
  {
   "cell_type": "code",
   "execution_count": 25,
   "metadata": {},
   "outputs": [
    {
     "data": {
      "text/plain": [
       "'78c170cc-9641-4925-bc48-6d0a6538d003_01-08-2021_21-49-56.json'"
      ]
     },
     "execution_count": 25,
     "metadata": {},
     "output_type": "execute_result"
    }
   ],
   "source": [
    "next_starts_with"
   ]
  },
  {
   "cell_type": "code",
   "execution_count": null,
   "metadata": {},
   "outputs": [],
   "source": [
    "res1 = score_vector_from_bucket(object_storage_client, 'photo-gallery', next_starts_with)"
   ]
  },
  {
   "cell_type": "code",
   "execution_count": 27,
   "metadata": {},
   "outputs": [],
   "source": [
    "res1.to_csv('csv_files/photogallery_ver3_1.csv')"
   ]
  },
  {
   "cell_type": "code",
   "execution_count": 28,
   "metadata": {},
   "outputs": [],
   "source": [
    "res = res0.append(res1)"
   ]
  },
  {
   "cell_type": "code",
   "execution_count": 29,
   "metadata": {},
   "outputs": [
    {
     "data": {
      "text/plain": [
       "(1116, 15)"
      ]
     },
     "execution_count": 29,
     "metadata": {},
     "output_type": "execute_result"
    }
   ],
   "source": [
    "res.shape"
   ]
  },
  {
   "cell_type": "code",
   "execution_count": 30,
   "metadata": {},
   "outputs": [],
   "source": [
    "res.to_csv('csv_files/photogallery_ver3.csv')"
   ]
  },
  {
   "cell_type": "code",
   "execution_count": 33,
   "metadata": {},
   "outputs": [
    {
     "data": {
      "text/plain": [
       "True"
      ]
     },
     "execution_count": 33,
     "metadata": {},
     "output_type": "execute_result"
    }
   ],
   "source": [
    "res.index.is_unique"
   ]
  },
  {
   "cell_type": "code",
   "execution_count": 34,
   "metadata": {},
   "outputs": [],
   "source": [
    "inxs = res.index.values"
   ]
  },
  {
   "cell_type": "code",
   "execution_count": 35,
   "metadata": {},
   "outputs": [
    {
     "data": {
      "text/plain": [
       "1116"
      ]
     },
     "execution_count": 35,
     "metadata": {},
     "output_type": "execute_result"
    }
   ],
   "source": [
    "len(inxs)"
   ]
  },
  {
   "cell_type": "code",
   "execution_count": 111,
   "metadata": {},
   "outputs": [],
   "source": [
    "df0 = pd.read_csv('csv_files/photogallery_ver3.csv')\n",
    "df1 = df0.set_index('Unnamed: 0')\n",
    "df1.head(5)"
   ]
  },
  {
   "cell_type": "code",
   "execution_count": 113,
   "metadata": {},
   "outputs": [
    {
     "data": {
      "text/html": [
       "<div>\n",
       "<style scoped>\n",
       "    .dataframe tbody tr th:only-of-type {\n",
       "        vertical-align: middle;\n",
       "    }\n",
       "\n",
       "    .dataframe tbody tr th {\n",
       "        vertical-align: top;\n",
       "    }\n",
       "\n",
       "    .dataframe thead th {\n",
       "        text-align: right;\n",
       "    }\n",
       "</style>\n",
       "<table border=\"1\" class=\"dataframe\">\n",
       "  <thead>\n",
       "    <tr style=\"text-align: right;\">\n",
       "      <th></th>\n",
       "      <th>median daily number photos - location</th>\n",
       "      <th>mad daily number photos - scale</th>\n",
       "      <th>mean number of photos in burst</th>\n",
       "      <th>mean number of bursts a week</th>\n",
       "      <th>median number of bursts a week</th>\n",
       "      <th>median night time number photos</th>\n",
       "      <th>mad night time number photos</th>\n",
       "      <th>median day time number photos</th>\n",
       "      <th>mad day time number photos</th>\n",
       "      <th>median weekend number photos</th>\n",
       "      <th>mad weekend number photos</th>\n",
       "      <th>median work days number photos</th>\n",
       "      <th>mad work days number photos</th>\n",
       "      <th>ar daily num of photos lag-1</th>\n",
       "      <th>entropy on daily photos</th>\n",
       "    </tr>\n",
       "    <tr>\n",
       "      <th>Unnamed: 0</th>\n",
       "      <th></th>\n",
       "      <th></th>\n",
       "      <th></th>\n",
       "      <th></th>\n",
       "      <th></th>\n",
       "      <th></th>\n",
       "      <th></th>\n",
       "      <th></th>\n",
       "      <th></th>\n",
       "      <th></th>\n",
       "      <th></th>\n",
       "      <th></th>\n",
       "      <th></th>\n",
       "      <th></th>\n",
       "      <th></th>\n",
       "    </tr>\n",
       "  </thead>\n",
       "  <tbody>\n",
       "    <tr>\n",
       "      <th>005b6c49-c4ed-438b-9092-ad02ed4d672e</th>\n",
       "      <td>2.0</td>\n",
       "      <td>1.482602</td>\n",
       "      <td>1.233292</td>\n",
       "      <td>0.702624</td>\n",
       "      <td>0.0</td>\n",
       "      <td>2.0</td>\n",
       "      <td>1.482602</td>\n",
       "      <td>2.0</td>\n",
       "      <td>1.482602</td>\n",
       "      <td>2.0</td>\n",
       "      <td>1.482602</td>\n",
       "      <td>2.0</td>\n",
       "      <td>1.482602</td>\n",
       "      <td>17.050272</td>\n",
       "      <td>7.228774</td>\n",
       "    </tr>\n",
       "    <tr>\n",
       "      <th>007a0785-1321-4112-be89-e6549a4725a2</th>\n",
       "      <td>3.0</td>\n",
       "      <td>2.965204</td>\n",
       "      <td>2.310658</td>\n",
       "      <td>1.816850</td>\n",
       "      <td>0.0</td>\n",
       "      <td>3.0</td>\n",
       "      <td>2.965204</td>\n",
       "      <td>3.0</td>\n",
       "      <td>2.965204</td>\n",
       "      <td>3.5</td>\n",
       "      <td>3.706506</td>\n",
       "      <td>3.0</td>\n",
       "      <td>2.965204</td>\n",
       "      <td>34.620526</td>\n",
       "      <td>4.114481</td>\n",
       "    </tr>\n",
       "    <tr>\n",
       "      <th>00e37960-250f-4185-94ac-143b319730e3</th>\n",
       "      <td>3.0</td>\n",
       "      <td>2.965204</td>\n",
       "      <td>1.152985</td>\n",
       "      <td>1.827586</td>\n",
       "      <td>1.0</td>\n",
       "      <td>2.0</td>\n",
       "      <td>1.482602</td>\n",
       "      <td>2.0</td>\n",
       "      <td>1.482602</td>\n",
       "      <td>3.0</td>\n",
       "      <td>2.965204</td>\n",
       "      <td>3.0</td>\n",
       "      <td>2.965204</td>\n",
       "      <td>5.616712</td>\n",
       "      <td>6.318157</td>\n",
       "    </tr>\n",
       "    <tr>\n",
       "      <th>01ae3991-50dc-4a67-9c37-cc88ddea90a2</th>\n",
       "      <td>2.0</td>\n",
       "      <td>1.482602</td>\n",
       "      <td>1.221239</td>\n",
       "      <td>0.863636</td>\n",
       "      <td>0.0</td>\n",
       "      <td>2.0</td>\n",
       "      <td>1.482602</td>\n",
       "      <td>2.0</td>\n",
       "      <td>1.482602</td>\n",
       "      <td>2.0</td>\n",
       "      <td>1.482602</td>\n",
       "      <td>2.0</td>\n",
       "      <td>1.482602</td>\n",
       "      <td>2.301788</td>\n",
       "      <td>5.804842</td>\n",
       "    </tr>\n",
       "    <tr>\n",
       "      <th>01c59096-22f1-40fa-b771-49725b91cc93</th>\n",
       "      <td>2.0</td>\n",
       "      <td>1.482602</td>\n",
       "      <td>1.470120</td>\n",
       "      <td>1.600000</td>\n",
       "      <td>1.0</td>\n",
       "      <td>1.5</td>\n",
       "      <td>0.741301</td>\n",
       "      <td>2.0</td>\n",
       "      <td>1.482602</td>\n",
       "      <td>2.0</td>\n",
       "      <td>1.482602</td>\n",
       "      <td>2.0</td>\n",
       "      <td>1.482602</td>\n",
       "      <td>1.077263</td>\n",
       "      <td>6.197594</td>\n",
       "    </tr>\n",
       "  </tbody>\n",
       "</table>\n",
       "</div>"
      ],
      "text/plain": [
       "                                      median daily number photos - location  \\\n",
       "Unnamed: 0                                                                    \n",
       "005b6c49-c4ed-438b-9092-ad02ed4d672e                                    2.0   \n",
       "007a0785-1321-4112-be89-e6549a4725a2                                    3.0   \n",
       "00e37960-250f-4185-94ac-143b319730e3                                    3.0   \n",
       "01ae3991-50dc-4a67-9c37-cc88ddea90a2                                    2.0   \n",
       "01c59096-22f1-40fa-b771-49725b91cc93                                    2.0   \n",
       "\n",
       "                                      mad daily number photos - scale  \\\n",
       "Unnamed: 0                                                              \n",
       "005b6c49-c4ed-438b-9092-ad02ed4d672e                         1.482602   \n",
       "007a0785-1321-4112-be89-e6549a4725a2                         2.965204   \n",
       "00e37960-250f-4185-94ac-143b319730e3                         2.965204   \n",
       "01ae3991-50dc-4a67-9c37-cc88ddea90a2                         1.482602   \n",
       "01c59096-22f1-40fa-b771-49725b91cc93                         1.482602   \n",
       "\n",
       "                                      mean number of photos in burst  \\\n",
       "Unnamed: 0                                                             \n",
       "005b6c49-c4ed-438b-9092-ad02ed4d672e                        1.233292   \n",
       "007a0785-1321-4112-be89-e6549a4725a2                        2.310658   \n",
       "00e37960-250f-4185-94ac-143b319730e3                        1.152985   \n",
       "01ae3991-50dc-4a67-9c37-cc88ddea90a2                        1.221239   \n",
       "01c59096-22f1-40fa-b771-49725b91cc93                        1.470120   \n",
       "\n",
       "                                      mean number of bursts a week  \\\n",
       "Unnamed: 0                                                           \n",
       "005b6c49-c4ed-438b-9092-ad02ed4d672e                      0.702624   \n",
       "007a0785-1321-4112-be89-e6549a4725a2                      1.816850   \n",
       "00e37960-250f-4185-94ac-143b319730e3                      1.827586   \n",
       "01ae3991-50dc-4a67-9c37-cc88ddea90a2                      0.863636   \n",
       "01c59096-22f1-40fa-b771-49725b91cc93                      1.600000   \n",
       "\n",
       "                                      median number of bursts a week  \\\n",
       "Unnamed: 0                                                             \n",
       "005b6c49-c4ed-438b-9092-ad02ed4d672e                             0.0   \n",
       "007a0785-1321-4112-be89-e6549a4725a2                             0.0   \n",
       "00e37960-250f-4185-94ac-143b319730e3                             1.0   \n",
       "01ae3991-50dc-4a67-9c37-cc88ddea90a2                             0.0   \n",
       "01c59096-22f1-40fa-b771-49725b91cc93                             1.0   \n",
       "\n",
       "                                      median night time number photos  \\\n",
       "Unnamed: 0                                                              \n",
       "005b6c49-c4ed-438b-9092-ad02ed4d672e                              2.0   \n",
       "007a0785-1321-4112-be89-e6549a4725a2                              3.0   \n",
       "00e37960-250f-4185-94ac-143b319730e3                              2.0   \n",
       "01ae3991-50dc-4a67-9c37-cc88ddea90a2                              2.0   \n",
       "01c59096-22f1-40fa-b771-49725b91cc93                              1.5   \n",
       "\n",
       "                                      mad night time number photos  \\\n",
       "Unnamed: 0                                                           \n",
       "005b6c49-c4ed-438b-9092-ad02ed4d672e                      1.482602   \n",
       "007a0785-1321-4112-be89-e6549a4725a2                      2.965204   \n",
       "00e37960-250f-4185-94ac-143b319730e3                      1.482602   \n",
       "01ae3991-50dc-4a67-9c37-cc88ddea90a2                      1.482602   \n",
       "01c59096-22f1-40fa-b771-49725b91cc93                      0.741301   \n",
       "\n",
       "                                      median day time number photos  \\\n",
       "Unnamed: 0                                                            \n",
       "005b6c49-c4ed-438b-9092-ad02ed4d672e                            2.0   \n",
       "007a0785-1321-4112-be89-e6549a4725a2                            3.0   \n",
       "00e37960-250f-4185-94ac-143b319730e3                            2.0   \n",
       "01ae3991-50dc-4a67-9c37-cc88ddea90a2                            2.0   \n",
       "01c59096-22f1-40fa-b771-49725b91cc93                            2.0   \n",
       "\n",
       "                                      mad day time number photos  \\\n",
       "Unnamed: 0                                                         \n",
       "005b6c49-c4ed-438b-9092-ad02ed4d672e                    1.482602   \n",
       "007a0785-1321-4112-be89-e6549a4725a2                    2.965204   \n",
       "00e37960-250f-4185-94ac-143b319730e3                    1.482602   \n",
       "01ae3991-50dc-4a67-9c37-cc88ddea90a2                    1.482602   \n",
       "01c59096-22f1-40fa-b771-49725b91cc93                    1.482602   \n",
       "\n",
       "                                      median weekend number photos  \\\n",
       "Unnamed: 0                                                           \n",
       "005b6c49-c4ed-438b-9092-ad02ed4d672e                           2.0   \n",
       "007a0785-1321-4112-be89-e6549a4725a2                           3.5   \n",
       "00e37960-250f-4185-94ac-143b319730e3                           3.0   \n",
       "01ae3991-50dc-4a67-9c37-cc88ddea90a2                           2.0   \n",
       "01c59096-22f1-40fa-b771-49725b91cc93                           2.0   \n",
       "\n",
       "                                      mad weekend number photos  \\\n",
       "Unnamed: 0                                                        \n",
       "005b6c49-c4ed-438b-9092-ad02ed4d672e                   1.482602   \n",
       "007a0785-1321-4112-be89-e6549a4725a2                   3.706506   \n",
       "00e37960-250f-4185-94ac-143b319730e3                   2.965204   \n",
       "01ae3991-50dc-4a67-9c37-cc88ddea90a2                   1.482602   \n",
       "01c59096-22f1-40fa-b771-49725b91cc93                   1.482602   \n",
       "\n",
       "                                      median work days number photos  \\\n",
       "Unnamed: 0                                                             \n",
       "005b6c49-c4ed-438b-9092-ad02ed4d672e                             2.0   \n",
       "007a0785-1321-4112-be89-e6549a4725a2                             3.0   \n",
       "00e37960-250f-4185-94ac-143b319730e3                             3.0   \n",
       "01ae3991-50dc-4a67-9c37-cc88ddea90a2                             2.0   \n",
       "01c59096-22f1-40fa-b771-49725b91cc93                             2.0   \n",
       "\n",
       "                                      mad work days number photos  \\\n",
       "Unnamed: 0                                                          \n",
       "005b6c49-c4ed-438b-9092-ad02ed4d672e                     1.482602   \n",
       "007a0785-1321-4112-be89-e6549a4725a2                     2.965204   \n",
       "00e37960-250f-4185-94ac-143b319730e3                     2.965204   \n",
       "01ae3991-50dc-4a67-9c37-cc88ddea90a2                     1.482602   \n",
       "01c59096-22f1-40fa-b771-49725b91cc93                     1.482602   \n",
       "\n",
       "                                      ar daily num of photos lag-1  \\\n",
       "Unnamed: 0                                                           \n",
       "005b6c49-c4ed-438b-9092-ad02ed4d672e                     17.050272   \n",
       "007a0785-1321-4112-be89-e6549a4725a2                     34.620526   \n",
       "00e37960-250f-4185-94ac-143b319730e3                      5.616712   \n",
       "01ae3991-50dc-4a67-9c37-cc88ddea90a2                      2.301788   \n",
       "01c59096-22f1-40fa-b771-49725b91cc93                      1.077263   \n",
       "\n",
       "                                      entropy on daily photos  \n",
       "Unnamed: 0                                                     \n",
       "005b6c49-c4ed-438b-9092-ad02ed4d672e                 7.228774  \n",
       "007a0785-1321-4112-be89-e6549a4725a2                 4.114481  \n",
       "00e37960-250f-4185-94ac-143b319730e3                 6.318157  \n",
       "01ae3991-50dc-4a67-9c37-cc88ddea90a2                 5.804842  \n",
       "01c59096-22f1-40fa-b771-49725b91cc93                 6.197594  "
      ]
     },
     "execution_count": 113,
     "metadata": {},
     "output_type": "execute_result"
    }
   ],
   "source": []
  },
  {
   "cell_type": "code",
   "execution_count": 36,
   "metadata": {},
   "outputs": [],
   "source": [
    "from sklearn.manifold import TSNE\n",
    "from sklearn.decomposition import PCA\n",
    "from sklearn.cluster import KMeans, MeanShift, estimate_bandwidth"
   ]
  },
  {
   "cell_type": "code",
   "execution_count": 37,
   "metadata": {},
   "outputs": [],
   "source": [
    "import seaborn as sns\n",
    "import matplotlib.pyplot as plt\n",
    "from itertools import cycle\n",
    "import pandas as pd"
   ]
  },
  {
   "cell_type": "code",
   "execution_count": 38,
   "metadata": {},
   "outputs": [],
   "source": [
    "from vector_creator.stats_models.estimators import *"
   ]
  },
  {
   "cell_type": "code",
   "execution_count": 39,
   "metadata": {},
   "outputs": [],
   "source": [
    "nz = z_score(res.values)"
   ]
  },
  {
   "cell_type": "code",
   "execution_count": 41,
   "metadata": {},
   "outputs": [
    {
     "data": {
      "text/plain": [
       "(1116, 15)"
      ]
     },
     "execution_count": 41,
     "metadata": {},
     "output_type": "execute_result"
    }
   ],
   "source": [
    "nz.shape"
   ]
  },
  {
   "cell_type": "markdown",
   "metadata": {},
   "source": [
    "--> Start tSNE for 2D "
   ]
  },
  {
   "cell_type": "code",
   "execution_count": 42,
   "metadata": {},
   "outputs": [],
   "source": [
    "tsne = TSNE(n_components=2, verbose=1, perplexity=50, n_iter=300, method='exact')"
   ]
  },
  {
   "cell_type": "code",
   "execution_count": 43,
   "metadata": {},
   "outputs": [
    {
     "name": "stdout",
     "output_type": "stream",
     "text": [
      "[t-SNE] Computing pairwise distances...\n",
      "[t-SNE] Computed conditional probabilities for sample 1000 / 1116\n",
      "[t-SNE] Computed conditional probabilities for sample 1116 / 1116\n",
      "[t-SNE] Mean sigma: 0.772342\n",
      "[t-SNE] KL divergence after 250 iterations with early exaggeration: 62.603747\n",
      "[t-SNE] KL divergence after 300 iterations: 0.998013\n"
     ]
    }
   ],
   "source": [
    "tsne_res = tsne.fit_transform(nz)"
   ]
  },
  {
   "cell_type": "code",
   "execution_count": 44,
   "metadata": {},
   "outputs": [],
   "source": [
    "df = pd.DataFrame(tsne_res, columns=['x_col', 'y_col'], index=inxs)"
   ]
  },
  {
   "cell_type": "code",
   "execution_count": 45,
   "metadata": {},
   "outputs": [
    {
     "data": {
      "text/plain": [
       "(1116, 2)"
      ]
     },
     "execution_count": 45,
     "metadata": {},
     "output_type": "execute_result"
    }
   ],
   "source": [
    "df.shape"
   ]
  },
  {
   "cell_type": "code",
   "execution_count": 46,
   "metadata": {},
   "outputs": [
    {
     "data": {
      "text/html": [
       "<div>\n",
       "<style scoped>\n",
       "    .dataframe tbody tr th:only-of-type {\n",
       "        vertical-align: middle;\n",
       "    }\n",
       "\n",
       "    .dataframe tbody tr th {\n",
       "        vertical-align: top;\n",
       "    }\n",
       "\n",
       "    .dataframe thead th {\n",
       "        text-align: right;\n",
       "    }\n",
       "</style>\n",
       "<table border=\"1\" class=\"dataframe\">\n",
       "  <thead>\n",
       "    <tr style=\"text-align: right;\">\n",
       "      <th></th>\n",
       "      <th>x_col</th>\n",
       "      <th>y_col</th>\n",
       "    </tr>\n",
       "  </thead>\n",
       "  <tbody>\n",
       "    <tr>\n",
       "      <th>005b6c49-c4ed-438b-9092-ad02ed4d672e</th>\n",
       "      <td>-9.204374</td>\n",
       "      <td>8.543803</td>\n",
       "    </tr>\n",
       "    <tr>\n",
       "      <th>007a0785-1321-4112-be89-e6549a4725a2</th>\n",
       "      <td>-15.056218</td>\n",
       "      <td>6.351846</td>\n",
       "    </tr>\n",
       "    <tr>\n",
       "      <th>00e37960-250f-4185-94ac-143b319730e3</th>\n",
       "      <td>0.284761</td>\n",
       "      <td>7.837973</td>\n",
       "    </tr>\n",
       "    <tr>\n",
       "      <th>01ae3991-50dc-4a67-9c37-cc88ddea90a2</th>\n",
       "      <td>10.838945</td>\n",
       "      <td>0.655456</td>\n",
       "    </tr>\n",
       "    <tr>\n",
       "      <th>01c59096-22f1-40fa-b771-49725b91cc93</th>\n",
       "      <td>12.055403</td>\n",
       "      <td>-3.184467</td>\n",
       "    </tr>\n",
       "  </tbody>\n",
       "</table>\n",
       "</div>"
      ],
      "text/plain": [
       "                                          x_col     y_col\n",
       "005b6c49-c4ed-438b-9092-ad02ed4d672e  -9.204374  8.543803\n",
       "007a0785-1321-4112-be89-e6549a4725a2 -15.056218  6.351846\n",
       "00e37960-250f-4185-94ac-143b319730e3   0.284761  7.837973\n",
       "01ae3991-50dc-4a67-9c37-cc88ddea90a2  10.838945  0.655456\n",
       "01c59096-22f1-40fa-b771-49725b91cc93  12.055403 -3.184467"
      ]
     },
     "execution_count": 46,
     "metadata": {},
     "output_type": "execute_result"
    }
   ],
   "source": [
    "df.head(5)"
   ]
  },
  {
   "cell_type": "code",
   "execution_count": 47,
   "metadata": {},
   "outputs": [
    {
     "data": {
      "text/plain": [
       "<AxesSubplot:xlabel='x_col', ylabel='y_col'>"
      ]
     },
     "execution_count": 47,
     "metadata": {},
     "output_type": "execute_result"
    },
    {
     "data": {
      "image/png": "[encoded data removed]",
      "text/plain": [
       "<Figure size 1728x1152 with 1 Axes>"
      ]
     },
     "metadata": {
      "needs_background": "light"
     },
     "output_type": "display_data"
    }
   ],
   "source": [
    "plt.figure()\n",
    "sns.scatterplot(\n",
    "    x='x_col', \n",
    "    y='y_col',\n",
    "    data=df\n",
    ")"
   ]
  },
  {
   "cell_type": "markdown",
   "metadata": {},
   "source": [
    "--> Mean Shift for tSNE-2D data frame"
   ]
  },
  {
   "cell_type": "code",
   "execution_count": 82,
   "metadata": {},
   "outputs": [],
   "source": [
    "bandwidth = estimate_bandwidth(df, quantile=0.25)"
   ]
  },
  {
   "cell_type": "code",
   "execution_count": 83,
   "metadata": {},
   "outputs": [
    {
     "data": {
      "text/plain": [
       "MeanShift(bandwidth=9.073128156127307, cluster_all=False)"
      ]
     },
     "execution_count": 83,
     "metadata": {},
     "output_type": "execute_result"
    }
   ],
   "source": [
    "ms = MeanShift(bandwidth=bandwidth, bin_seeding=False, cluster_all=False)\n",
    "ms.fit(df)"
   ]
  },
  {
   "cell_type": "code",
   "execution_count": 84,
   "metadata": {},
   "outputs": [],
   "source": [
    "labels = ms.labels_\n",
    "cluster_centers = ms.cluster_centers_\n",
    "labels_unique = np.unique(labels)\n",
    "n_clusters_ = len(labels_unique)"
   ]
  },
  {
   "cell_type": "code",
   "execution_count": 85,
   "metadata": {},
   "outputs": [
    {
     "data": {
      "text/plain": [
       "array([[ 6.2533574, -3.2943182],\n",
       "       [-7.15977  ,  7.2886324],\n",
       "       [-5.042539 , -3.6316292]], dtype=float32)"
      ]
     },
     "execution_count": 85,
     "metadata": {},
     "output_type": "execute_result"
    }
   ],
   "source": [
    "cluster_centers"
   ]
  },
  {
   "cell_type": "code",
   "execution_count": 86,
   "metadata": {},
   "outputs": [
    {
     "data": {
      "text/plain": [
       "array([-1,  0,  1,  2])"
      ]
     },
     "execution_count": 86,
     "metadata": {},
     "output_type": "execute_result"
    }
   ],
   "source": [
    "labels_unique"
   ]
  },
  {
   "cell_type": "code",
   "execution_count": 87,
   "metadata": {},
   "outputs": [
    {
     "data": {
      "text/plain": [
       "4"
      ]
     },
     "execution_count": 87,
     "metadata": {},
     "output_type": "execute_result"
    }
   ],
   "source": [
    "n_clusters_"
   ]
  },
  {
   "cell_type": "markdown",
   "metadata": {},
   "source": [
    "--> Plot tSNE mean-shift 2D with uids as index to df "
   ]
  },
  {
   "cell_type": "code",
   "execution_count": 88,
   "metadata": {},
   "outputs": [
    {
     "name": "stdout",
     "output_type": "stream",
     "text": [
      "b [ 6.2533574 -3.2943182] 0\n",
      "g [-7.15977    7.2886324] 1\n",
      "r [-5.042539  -3.6316292] 2\n"
     ]
    },
    {
     "data": {
      "image/png": "[encoded data removed]",
      "text/plain": [
       "<Figure size 1728x1152 with 1 Axes>"
      ]
     },
     "metadata": {
      "needs_background": "light"
     },
     "output_type": "display_data"
    }
   ],
   "source": [
    "plt.figure()\n",
    "plt.clf()\n",
    "X = df.values\n",
    "colors = cycle('bgrcmykbgrcmykbgrcmykbgrcmyk')\n",
    "for k, col in zip(range(n_clusters_-1), colors):\n",
    "    my_members = labels == k\n",
    "    print(col, cluster_centers[k], k)\n",
    "    cluster_center = cluster_centers[k]\n",
    "    plt.plot(X[my_members, 0], X[my_members, 1], col + '.')\n",
    "    plt.plot(cluster_center[0], cluster_center[1], 'o', markerfacecolor=col,\n",
    "             markeredgecolor='k', markersize=14)\n",
    "plt.title('Estimated number of clusters: %d' % n_clusters_)\n",
    "plt.show()"
   ]
  },
  {
   "cell_type": "code",
   "execution_count": 89,
   "metadata": {},
   "outputs": [],
   "source": [
    "lbls = np.unique(ms.labels_)"
   ]
  },
  {
   "cell_type": "code",
   "execution_count": 90,
   "metadata": {},
   "outputs": [],
   "source": [
    "res['labels']= ms.labels_"
   ]
  },
  {
   "cell_type": "code",
   "execution_count": 91,
   "metadata": {},
   "outputs": [
    {
     "data": {
      "text/plain": [
       "array([-1,  0,  1,  2])"
      ]
     },
     "execution_count": 91,
     "metadata": {},
     "output_type": "execute_result"
    }
   ],
   "source": [
    "lbls"
   ]
  },
  {
   "cell_type": "code",
   "execution_count": 92,
   "metadata": {},
   "outputs": [],
   "source": [
    "def createdf_dict_by_lbl():\n",
    "    df_dict = {}\n",
    "    df_anom = {}\n",
    "    for i in np.nditer(lbls):\n",
    "        lbl = 'label-' + str(i)\n",
    "        df_lbl_i = res[res.labels == i]\n",
    "        del df_lbl_i['labels']\n",
    "        df_dict[lbl] = df_lbl_i\n",
    "    return df_dict\n",
    "    \n",
    "def create_df_by_func(func):\n",
    "    for i in np.nditer(lbls):\n",
    "        if i >= 0:\n",
    "            df_lbl_i = res[res.labels == i]\n",
    "            del df_lbl_i['labels']\n",
    "            col = 'label-' + str(i)\n",
    "            if(i == 0):\n",
    "                df_median = df_lbl_i.agg(func).to_frame()\n",
    "                df_median = df_median.rename(columns = {0: col})\n",
    "            else:\n",
    "                df_median[col] = df_lbl_i.agg(func).values\n",
    "    return df_median"
   ]
  },
  {
   "cell_type": "code",
   "execution_count": 93,
   "metadata": {},
   "outputs": [],
   "source": [
    "df_lbl = createdf_dict_by_lbl()"
   ]
  },
  {
   "cell_type": "code",
   "execution_count": 94,
   "metadata": {},
   "outputs": [
    {
     "data": {
      "text/plain": [
       "dict_keys(['label--1', 'label-0', 'label-1', 'label-2'])"
      ]
     },
     "execution_count": 94,
     "metadata": {},
     "output_type": "execute_result"
    }
   ],
   "source": [
    "df_lbl.keys()"
   ]
  },
  {
   "cell_type": "code",
   "execution_count": 95,
   "metadata": {},
   "outputs": [
    {
     "data": {
      "text/plain": [
       "143"
      ]
     },
     "execution_count": 95,
     "metadata": {},
     "output_type": "execute_result"
    }
   ],
   "source": [
    "len(df_lbl['label--1'])"
   ]
  },
  {
   "cell_type": "code",
   "execution_count": 102,
   "metadata": {},
   "outputs": [],
   "source": [
    "df_median = create_df_by_func('median')\n",
    "df_mean = create_df_by_func('mean') "
   ]
  },
  {
   "cell_type": "code",
   "execution_count": 97,
   "metadata": {},
   "outputs": [
    {
     "data": {
      "text/plain": [
       "<AxesSubplot:xlabel='description'>"
      ]
     },
     "execution_count": 97,
     "metadata": {},
     "output_type": "execute_result"
    },
    {
     "data": {
      "text/plain": [
       "<Figure size 1728x1152 with 0 Axes>"
      ]
     },
     "metadata": {},
     "output_type": "display_data"
    },
    {
     "data": {
      "image/png": "[encoded data removed]",
      "text/plain": [
       "<Figure size 1728x1152 with 1 Axes>"
      ]
     },
     "metadata": {
      "needs_background": "light"
     },
     "output_type": "display_data"
    }
   ],
   "source": [
    "plt.figure()\n",
    "df_median.plot.bar(color=['b', 'g', 'r', 'c', 'm', 'y', 'k', 'b'])"
   ]
  },
  {
   "cell_type": "code",
   "execution_count": 103,
   "metadata": {},
   "outputs": [
    {
     "data": {
      "text/plain": [
       "<AxesSubplot:xlabel='description'>"
      ]
     },
     "execution_count": 103,
     "metadata": {},
     "output_type": "execute_result"
    },
    {
     "data": {
      "image/png": "[encoded data removed]",
      "text/plain": [
       "<Figure size 1728x1152 with 1 Axes>"
      ]
     },
     "metadata": {
      "needs_background": "light"
     },
     "output_type": "display_data"
    }
   ],
   "source": [
    "df_mean.plot.bar(color=['b', 'g', 'r', 'c', 'm', 'y', 'k', 'b'])"
   ]
  },
  {
   "cell_type": "code",
   "execution_count": 410,
   "metadata": {},
   "outputs": [],
   "source": [
    "#X = df_lbl['label-0'].values\n",
    "#Y = MinCovDet().fit(X)\n",
    "#Y.covariance_"
   ]
  },
  {
   "cell_type": "code",
   "execution_count": 99,
   "metadata": {},
   "outputs": [
    {
     "data": {
      "text/plain": [
       "dict_keys(['label--1', 'label-0', 'label-1', 'label-2'])"
      ]
     },
     "execution_count": 99,
     "metadata": {},
     "output_type": "execute_result"
    }
   ],
   "source": [
    "df_lbl.keys()"
   ]
  },
  {
   "cell_type": "code",
   "execution_count": 100,
   "metadata": {},
   "outputs": [
    {
     "data": {
      "image/png": "[encoded data removed]",
      "text/plain": [
       "<Figure size 1152x1152 with 1 Axes>"
      ]
     },
     "metadata": {
      "needs_background": "light"
     },
     "output_type": "display_data"
    }
   ],
   "source": [
    "c = df_lbl['label-0'].corr()\n",
    "plt.matshow(c)\n",
    "plt.show()"
   ]
  },
  {
   "cell_type": "code",
   "execution_count": 264,
   "metadata": {},
   "outputs": [],
   "source": [
    "#del df_lbl5['labels']\n",
    "#dflbl4 = srlbl4.to_frame()\n",
    "#dflbl4.rename(columns = {0:'lvl-4'})"
   ]
  },
  {
   "cell_type": "code",
   "execution_count": 269,
   "metadata": {},
   "outputs": [],
   "source": [
    "excel = df0.to_excel('csv_files/photo_gallery_yellow.xlsx')"
   ]
  },
  {
   "cell_type": "code",
   "execution_count": null,
   "metadata": {},
   "outputs": [],
   "source": [
    "#read the tags from firebase json file for user register non register and create df with tag column\n",
    "def create_tag_df(f): # 'entries.json'\n",
    "    tag_data = json.load(codecs.open(f, 'r', 'utf-8-sig'))\n",
    "    df_tag = pd.DataFrame(tag_data)\n",
    "    df_tag = df_tag.rename(columns={'app_userid': ''})\n",
    "    dftag = df_tag.set_index('')\n",
    "    return dftag"
   ]
  },
  {
   "cell_type": "code",
   "execution_count": null,
   "metadata": {},
   "outputs": [],
   "source": [
    "dftag = create_tag_df('entries.json')"
   ]
  },
  {
   "cell_type": "code",
   "execution_count": null,
   "metadata": {},
   "outputs": [],
   "source": [
    "dfjoin = df.join(dftag)"
   ]
  },
  {
   "cell_type": "code",
   "execution_count": null,
   "metadata": {},
   "outputs": [],
   "source": [
    "len(dfjoin)"
   ]
  },
  {
   "cell_type": "code",
   "execution_count": null,
   "metadata": {},
   "outputs": [],
   "source": [
    "dfjoin['User_Register'] = dfjoin['User_Register'].fillna('false')\n",
    "len(dfjoin[dfjoin.User_Register == 'false'])"
   ]
  },
  {
   "cell_type": "code",
   "execution_count": null,
   "metadata": {},
   "outputs": [],
   "source": [
    "dfjoin.to_csv('csv_files/taged_aggresive_photogallery.csv')"
   ]
  },
  {
   "cell_type": "code",
   "execution_count": null,
   "metadata": {},
   "outputs": [],
   "source": [
    "dfjoin.head(5)"
   ]
  },
  {
   "cell_type": "code",
   "execution_count": null,
   "metadata": {},
   "outputs": [],
   "source": [
    "#sns.scatterplot('population', 'Area', data=df, hue='continent')\n",
    "#sns.lmplot('population', 'Area', data=df, hue='continent', fit_reg=False)\n",
    "plt.figure(figsize=(10,8))\n",
    "sns.lmplot(\n",
    "    x='x_col', \n",
    "    y='y_col',\n",
    "    data=dfjoin,\n",
    "    hue='User_Register',\n",
    "    fit_reg=False,\n",
    "    height=8,\n",
    ")\n",
    "plt.show()"
   ]
  },
  {
   "cell_type": "markdown",
   "metadata": {},
   "source": [
    "--> tSNE for 3D"
   ]
  },
  {
   "cell_type": "code",
   "execution_count": null,
   "metadata": {},
   "outputs": [],
   "source": [
    "tsne_3d = TSNE(n_components=3, verbose=1, perplexity=40, n_iter=300, method='exact')"
   ]
  },
  {
   "cell_type": "code",
   "execution_count": null,
   "metadata": {},
   "outputs": [],
   "source": [
    "nz.shape"
   ]
  },
  {
   "cell_type": "code",
   "execution_count": null,
   "metadata": {},
   "outputs": [],
   "source": [
    "tsne_res_3 = tsne_3d.fit_transform(nz)"
   ]
  },
  {
   "cell_type": "code",
   "execution_count": null,
   "metadata": {},
   "outputs": [],
   "source": [
    "df3 = pd.DataFrame(tsne_res_3, columns=['x_col', 'y_col', 'z_col'], index=inxs)"
   ]
  },
  {
   "cell_type": "code",
   "execution_count": null,
   "metadata": {},
   "outputs": [],
   "source": [
    "df3.head(5)"
   ]
  },
  {
   "cell_type": "code",
   "execution_count": null,
   "metadata": {},
   "outputs": [],
   "source": [
    "ax = plt.figure(figsize=(16,10)).gca(projection='3d')\n",
    "plt.axis()\n",
    "ax.scatter(\n",
    "    xs = df3['x_col'],\n",
    "    ys = df3['y_col'],\n",
    "    zs = df3['z_col'],\n",
    "    cmap='tab2'\n",
    ")\n",
    "ax.set_xlabel('x')\n",
    "ax.set_ylabel('y')\n",
    "ax.set_zlabel('z')\n",
    "ax.set_xlim(-10, 10)\n",
    "ax.set_ylim(-10, 10)\n",
    "ax.set_zlim(-12, 12)\n",
    "plt.show()"
   ]
  },
  {
   "cell_type": "code",
   "execution_count": null,
   "metadata": {},
   "outputs": [],
   "source": [
    "bw = estimate_bandwidth(df3, quantile=0.2, n_samples=200)"
   ]
  },
  {
   "cell_type": "code",
   "execution_count": null,
   "metadata": {},
   "outputs": [],
   "source": [
    "ms = MeanShift(bandwidth=bw, bin_seeding=True)\n",
    "ms.fit(df3)"
   ]
  },
  {
   "cell_type": "code",
   "execution_count": null,
   "metadata": {},
   "outputs": [],
   "source": [
    "labels = ms.labels_\n",
    "cluster_centers = ms.cluster_centers_\n",
    "labels_unique = np.unique(labels)\n",
    "n_clusters_ = len(labels_unique)"
   ]
  },
  {
   "cell_type": "code",
   "execution_count": null,
   "metadata": {},
   "outputs": [],
   "source": [
    "cluster_centers"
   ]
  },
  {
   "cell_type": "code",
   "execution_count": null,
   "metadata": {},
   "outputs": [],
   "source": [
    "fig = plt.figure()\n",
    "ax = plt.figure(figsize=(16,10)).gca(projection='3d')\n",
    "ax.view_init(45, 180)\n",
    "plt.axis()\n",
    "X = df3.values\n",
    "colors = cycle('bgrcmykbgrcmykbgrcmykbgrcmyk')\n",
    "for k, col in zip(range(n_clusters_), colors):\n",
    "    my_members = labels == k\n",
    "    cluster_center = cluster_centers[k]\n",
    "    plt.plot(X[my_members, 0], X[my_members, 1], X[my_members, 2], col + '.')\n",
    "    plt.plot(cluster_center[0], cluster_center[1], cluster_center[2], 'o', markerfacecolor=col,\n",
    "             markeredgecolor='k', markersize=14)\n",
    "plt.title('Estimated number of 3D clusters: %d' % n_clusters_)\n",
    "plt.show()"
   ]
  },
  {
   "cell_type": "code",
   "execution_count": null,
   "metadata": {},
   "outputs": [],
   "source": [
    "dfj3 = df3.join(dftag)\n",
    "dfj3['User_Register'] = dfj3['User_Register'].fillna('false')\n",
    "dfj3['User_Register'] = dfj3['User_Register'].map({'true': 'blue', 'false': 'red'})"
   ]
  },
  {
   "cell_type": "code",
   "execution_count": null,
   "metadata": {},
   "outputs": [],
   "source": [
    "len(dfj3[dfj3.User_Register == 'blue'])"
   ]
  },
  {
   "cell_type": "code",
   "execution_count": null,
   "metadata": {},
   "outputs": [],
   "source": [
    "%matplotlib inline\n",
    "#%matplotlib notebook"
   ]
  },
  {
   "cell_type": "code",
   "execution_count": null,
   "metadata": {},
   "outputs": [],
   "source": [
    "from mpl_toolkits.mplot3d import Axes3D\n",
    "#ax = plt.figure(figsize=(16,10)).gca(projection='3d')\n",
    "fig = plt.figure()\n",
    "ax = Axes3D(plt.figure(figsize=(10,8)))\n",
    "ax.view_init(45, 180)\n",
    "plt.axis()\n",
    "ax.scatter(\n",
    "    xs = dfj3['x_col'],\n",
    "    ys = dfj3['y_col'],\n",
    "    zs = dfj3['z_col'],\n",
    "    c=dfj3['User_Register'],\n",
    "    cmap='coolwarm'\n",
    ")\n",
    "ax.set_xlabel('x')\n",
    "ax.set_ylabel('y')\n",
    "ax.set_zlabel('z')\n",
    "ax.set_xlim(-12, 12)\n",
    "ax.set_ylim(-12, 12)\n",
    "ax.set_zlim(-12, 12)\n",
    "plt.show()"
   ]
  },
  {
   "cell_type": "code",
   "execution_count": null,
   "metadata": {},
   "outputs": [],
   "source": [
    "type(ax)"
   ]
  },
  {
   "cell_type": "code",
   "execution_count": null,
   "metadata": {},
   "outputs": [],
   "source": []
  }
 ],
 "metadata": {
  "kernelspec": {
   "display_name": "Python 3",
   "language": "python",
   "name": "python3"
  },
  "language_info": {
   "codemirror_mode": {
    "name": "ipython",
    "version": 3
   },
   "file_extension": ".py",
   "mimetype": "text/x-python",
   "name": "python",
   "nbconvert_exporter": "python",
   "pygments_lexer": "ipython3",
   "version": "3.8.6"
  }
 },
 "nbformat": 4,
 "nbformat_minor": 5
}
