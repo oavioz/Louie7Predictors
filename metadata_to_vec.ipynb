{
 "cells": [
  {
   "cell_type": "code",
   "execution_count": 22,
   "metadata": {},
   "outputs": [],
   "source": [
    "import numpy as np\n",
    "import pandas as pd\n",
    "import json\n",
    "import codecs\n",
    "import datetime\n",
    "import os\n",
    "import sys"
   ]
  },
  {
   "cell_type": "code",
   "execution_count": 23,
   "metadata": {},
   "outputs": [],
   "source": [
    "sys.path.append('.')"
   ]
  },
  {
   "cell_type": "code",
   "execution_count": 24,
   "metadata": {},
   "outputs": [],
   "source": [
    "import matplotlib as mpl\n",
    "import matplotlib.pyplot as plt\n"
   ]
  },
  {
   "cell_type": "code",
   "execution_count": 25,
   "metadata": {},
   "outputs": [],
   "source": [
    "path = '/Users/smuel/AndroidStudioProjects/LuckyMeIntgratedSDK/metadata_init_phase/'"
   ]
  },
  {
   "cell_type": "code",
   "execution_count": 26,
   "metadata": {},
   "outputs": [],
   "source": [
    "from vector_creator.raw_to_df.rawdata_to_df import *\n",
    "from vector_creator.score_vectors.score_vectors_assembly import *\n",
    "from vector_creator.preprocess.entropy import *\n",
    "from vector_creator.preprocess.est_by_df_column import *\n",
    "from vector_creator.preprocess.auto_regression import *\n",
    "from vector_creator.stats_models.estimators import *\n",
    "from vector_creator.score_vectors.vector_indexer import vector_desc_call_logs"
   ]
  },
  {
   "cell_type": "code",
   "execution_count": 6,
   "metadata": {},
   "outputs": [
    {
     "name": "stdout",
     "output_type": "stream",
     "text": [
      "05fa68e5-0ba3-4783-9c07-42740c4914c6\n",
      "photo-gallery:  724\n",
      "-> to small to process\n",
      "12fa7561-2e77-4334-b9e1-6858ed27570f\n",
      "photo-gallery:  1448\n",
      "-> processed\n",
      "1362474c-0fb5-4932-a33d-5a30f23ac7e3\n",
      "photo-gallery:  1558\n",
      "-> processed\n",
      "148b0326-09e2-404f-9de6-aff6d44f2a38\n",
      "photo-gallery:  420\n",
      "-> to small to process\n",
      "17ac0e20-b292-492c-9adc-faf60a068926\n",
      "photo-gallery:  1278\n",
      "-> processed\n",
      "199ea69c-5e20-4b53-9bfb-0534aaeb68d6\n",
      "photo-gallery:  311\n",
      "-> to small to process\n",
      "1abd59a3-553f-43db-a329-90c28c72afdd\n",
      "photo-gallery:  462\n",
      "-> to small to process\n",
      "20380cd2-055e-4f3a-a339-90a1c7df4e1a\n",
      "photo-gallery:  3294\n",
      "-> processed\n",
      "236b91d2-cefb-405a-9de5-a3673ef1c736\n",
      "photo-gallery:  1436\n",
      "-> processed\n",
      "25174909-3427-42d2-9e14-65f7c95f240b\n",
      "photo-gallery:  1369\n",
      "-> processed\n",
      "25ba2284-51e3-4eb9-a2c8-fa3a0eaeeca9\n",
      "photo-gallery:  2398\n",
      "-> processed\n",
      "29a43c47-05d7-4bb9-909b-e3cae08097ad\n",
      "photo-gallery:  54\n",
      "-> to small to process\n",
      "2afbf7b0-6202-49bb-814f-ddba906bab48\n",
      "photo-gallery:  607\n",
      "-> to small to process\n",
      "2afc4c23-161f-4fc5-b4ba-e567f5327d22\n",
      "photo-gallery:  553\n",
      "-> to small to process\n",
      "36f05b2e-4164-49a6-ba0c-d78997ecdcae\n",
      "photo-gallery:  193\n",
      "-> to small to process\n",
      "3e4c39d0-d2ec-45c3-91cc-4c80ccf171be\n",
      "photo-gallery:  204\n",
      "-> to small to process\n",
      "588aeafe-5c4d-4bc9-84c5-8ae28029c733\n",
      "photo-gallery:  137\n",
      "-> to small to process\n",
      "5e0b1bf2-2aba-4745-b91f-916554d51e9f\n",
      "photo-gallery:  1526\n",
      "-> processed\n",
      "6ff9fca8-f981-46e5-93cc-4fab4190d758\n",
      "photo-gallery:  964\n",
      "-> processed\n",
      "759240f7-1248-4334-aad5-fd384b524d3d\n",
      "photo-gallery:  897\n",
      "-> processed\n",
      "a296ae00-fcd4-418c-aaae-49b1f13fcbd5\n",
      "photo-gallery:  28\n",
      "-> to small to process\n",
      "(10, 18)\n"
     ]
    }
   ],
   "source": [
    "y = score_vector_constructor(path, 'photo-gallery')"
   ]
  },
  {
   "cell_type": "code",
   "execution_count": 9,
   "metadata": {},
   "outputs": [
    {
     "data": {
      "text/html": [
       "<div>\n",
       "<style scoped>\n",
       "    .dataframe tbody tr th:only-of-type {\n",
       "        vertical-align: middle;\n",
       "    }\n",
       "\n",
       "    .dataframe tbody tr th {\n",
       "        vertical-align: top;\n",
       "    }\n",
       "\n",
       "    .dataframe thead th {\n",
       "        text-align: right;\n",
       "    }\n",
       "</style>\n",
       "<table border=\"1\" class=\"dataframe\">\n",
       "  <thead>\n",
       "    <tr style=\"text-align: right;\">\n",
       "      <th>description</th>\n",
       "      <th>mean daily number photos</th>\n",
       "      <th>std daily number photos</th>\n",
       "      <th>huber mean daily number photos</th>\n",
       "      <th>huber std daily number photos</th>\n",
       "      <th>ratio_of_nonzero_values_for_daily_photos</th>\n",
       "      <th>mean number of photos in burst</th>\n",
       "      <th>mean number of bursts a week</th>\n",
       "      <th>mean nightly number photos</th>\n",
       "      <th>std nightly number photos</th>\n",
       "      <th>ratio_of_nonzero_values_for_nightly_photos</th>\n",
       "      <th>mean weekend number photos</th>\n",
       "      <th>std weekend number photos</th>\n",
       "      <th>ratio_of_nonzero_values_for_weekend_photos</th>\n",
       "      <th>ar daily num of photos lag-1</th>\n",
       "      <th>ar daily num of photos lag-2</th>\n",
       "      <th>ar daily num of photos lag-4</th>\n",
       "      <th>entropy on photo category</th>\n",
       "      <th>entropy on daily photos</th>\n",
       "    </tr>\n",
       "  </thead>\n",
       "  <tbody>\n",
       "    <tr>\n",
       "      <th>12fa7561-2e77-4334-b9e1-6858ed27570f</th>\n",
       "      <td>27.320755</td>\n",
       "      <td>150.369579</td>\n",
       "      <td>4.933056</td>\n",
       "      <td>5.248961</td>\n",
       "      <td>0.072011</td>\n",
       "      <td>5.862348</td>\n",
       "      <td>2.330189</td>\n",
       "      <td>5.225000</td>\n",
       "      <td>6.691366</td>\n",
       "      <td>0.062112</td>\n",
       "      <td>69.166667</td>\n",
       "      <td>252.639895</td>\n",
       "      <td>0.025388</td>\n",
       "      <td>23.213346</td>\n",
       "      <td>23.851922</td>\n",
       "      <td>25.280040</td>\n",
       "      <td>0.035811</td>\n",
       "      <td>1.900352</td>\n",
       "    </tr>\n",
       "    <tr>\n",
       "      <th>1362474c-0fb5-4932-a33d-5a30f23ac7e3</th>\n",
       "      <td>9.442424</td>\n",
       "      <td>20.723095</td>\n",
       "      <td>4.707420</td>\n",
       "      <td>4.232136</td>\n",
       "      <td>0.069153</td>\n",
       "      <td>2.364188</td>\n",
       "      <td>1.926901</td>\n",
       "      <td>8.955357</td>\n",
       "      <td>22.951186</td>\n",
       "      <td>0.046940</td>\n",
       "      <td>12.640000</td>\n",
       "      <td>27.891762</td>\n",
       "      <td>0.035486</td>\n",
       "      <td>7.578176</td>\n",
       "      <td>7.270128</td>\n",
       "      <td>7.594923</td>\n",
       "      <td>0.195228</td>\n",
       "      <td>5.911040</td>\n",
       "    </tr>\n",
       "    <tr>\n",
       "      <th>17ac0e20-b292-492c-9adc-faf60a068926</th>\n",
       "      <td>17.270270</td>\n",
       "      <td>80.860624</td>\n",
       "      <td>5.924570</td>\n",
       "      <td>5.678164</td>\n",
       "      <td>0.055348</td>\n",
       "      <td>6.553846</td>\n",
       "      <td>1.015625</td>\n",
       "      <td>27.076923</td>\n",
       "      <td>110.151268</td>\n",
       "      <td>0.029170</td>\n",
       "      <td>34.285714</td>\n",
       "      <td>129.246127</td>\n",
       "      <td>0.020942</td>\n",
       "      <td>6.374083</td>\n",
       "      <td>6.327040</td>\n",
       "      <td>5.398185</td>\n",
       "      <td>0.030548</td>\n",
       "      <td>3.365487</td>\n",
       "    </tr>\n",
       "    <tr>\n",
       "      <th>20380cd2-055e-4f3a-a339-90a1c7df4e1a</th>\n",
       "      <td>10.943522</td>\n",
       "      <td>18.948964</td>\n",
       "      <td>7.647709</td>\n",
       "      <td>6.900941</td>\n",
       "      <td>0.631027</td>\n",
       "      <td>1.849523</td>\n",
       "      <td>25.811594</td>\n",
       "      <td>7.331818</td>\n",
       "      <td>14.828532</td>\n",
       "      <td>0.472103</td>\n",
       "      <td>12.625000</td>\n",
       "      <td>23.839415</td>\n",
       "      <td>0.153191</td>\n",
       "      <td>16.464636</td>\n",
       "      <td>16.032337</td>\n",
       "      <td>17.570474</td>\n",
       "      <td>0.790109</td>\n",
       "      <td>7.213645</td>\n",
       "    </tr>\n",
       "    <tr>\n",
       "      <th>236b91d2-cefb-405a-9de5-a3673ef1c736</th>\n",
       "      <td>13.054545</td>\n",
       "      <td>33.344438</td>\n",
       "      <td>5.217365</td>\n",
       "      <td>4.893011</td>\n",
       "      <td>0.604396</td>\n",
       "      <td>2.930612</td>\n",
       "      <td>18.148148</td>\n",
       "      <td>12.606383</td>\n",
       "      <td>35.451561</td>\n",
       "      <td>0.516484</td>\n",
       "      <td>7.593750</td>\n",
       "      <td>11.280125</td>\n",
       "      <td>0.180791</td>\n",
       "      <td>9.221194</td>\n",
       "      <td>9.111159</td>\n",
       "      <td>9.024470</td>\n",
       "      <td>0.256801</td>\n",
       "      <td>4.955326</td>\n",
       "    </tr>\n",
       "  </tbody>\n",
       "</table>\n",
       "</div>"
      ],
      "text/plain": [
       "description                           mean daily number photos  \\\n",
       "12fa7561-2e77-4334-b9e1-6858ed27570f                 27.320755   \n",
       "1362474c-0fb5-4932-a33d-5a30f23ac7e3                  9.442424   \n",
       "17ac0e20-b292-492c-9adc-faf60a068926                 17.270270   \n",
       "20380cd2-055e-4f3a-a339-90a1c7df4e1a                 10.943522   \n",
       "236b91d2-cefb-405a-9de5-a3673ef1c736                 13.054545   \n",
       "\n",
       "description                           std daily number photos  \\\n",
       "12fa7561-2e77-4334-b9e1-6858ed27570f               150.369579   \n",
       "1362474c-0fb5-4932-a33d-5a30f23ac7e3                20.723095   \n",
       "17ac0e20-b292-492c-9adc-faf60a068926                80.860624   \n",
       "20380cd2-055e-4f3a-a339-90a1c7df4e1a                18.948964   \n",
       "236b91d2-cefb-405a-9de5-a3673ef1c736                33.344438   \n",
       "\n",
       "description                           huber mean daily number photos  \\\n",
       "12fa7561-2e77-4334-b9e1-6858ed27570f                        4.933056   \n",
       "1362474c-0fb5-4932-a33d-5a30f23ac7e3                        4.707420   \n",
       "17ac0e20-b292-492c-9adc-faf60a068926                        5.924570   \n",
       "20380cd2-055e-4f3a-a339-90a1c7df4e1a                        7.647709   \n",
       "236b91d2-cefb-405a-9de5-a3673ef1c736                        5.217365   \n",
       "\n",
       "description                           huber std daily number photos  \\\n",
       "12fa7561-2e77-4334-b9e1-6858ed27570f                       5.248961   \n",
       "1362474c-0fb5-4932-a33d-5a30f23ac7e3                       4.232136   \n",
       "17ac0e20-b292-492c-9adc-faf60a068926                       5.678164   \n",
       "20380cd2-055e-4f3a-a339-90a1c7df4e1a                       6.900941   \n",
       "236b91d2-cefb-405a-9de5-a3673ef1c736                       4.893011   \n",
       "\n",
       "description                           ratio_of_nonzero_values_for_daily_photos  \\\n",
       "12fa7561-2e77-4334-b9e1-6858ed27570f                                  0.072011   \n",
       "1362474c-0fb5-4932-a33d-5a30f23ac7e3                                  0.069153   \n",
       "17ac0e20-b292-492c-9adc-faf60a068926                                  0.055348   \n",
       "20380cd2-055e-4f3a-a339-90a1c7df4e1a                                  0.631027   \n",
       "236b91d2-cefb-405a-9de5-a3673ef1c736                                  0.604396   \n",
       "\n",
       "description                           mean number of photos in burst  \\\n",
       "12fa7561-2e77-4334-b9e1-6858ed27570f                        5.862348   \n",
       "1362474c-0fb5-4932-a33d-5a30f23ac7e3                        2.364188   \n",
       "17ac0e20-b292-492c-9adc-faf60a068926                        6.553846   \n",
       "20380cd2-055e-4f3a-a339-90a1c7df4e1a                        1.849523   \n",
       "236b91d2-cefb-405a-9de5-a3673ef1c736                        2.930612   \n",
       "\n",
       "description                           mean number of bursts a week  \\\n",
       "12fa7561-2e77-4334-b9e1-6858ed27570f                      2.330189   \n",
       "1362474c-0fb5-4932-a33d-5a30f23ac7e3                      1.926901   \n",
       "17ac0e20-b292-492c-9adc-faf60a068926                      1.015625   \n",
       "20380cd2-055e-4f3a-a339-90a1c7df4e1a                     25.811594   \n",
       "236b91d2-cefb-405a-9de5-a3673ef1c736                     18.148148   \n",
       "\n",
       "description                           mean nightly number photos  \\\n",
       "12fa7561-2e77-4334-b9e1-6858ed27570f                    5.225000   \n",
       "1362474c-0fb5-4932-a33d-5a30f23ac7e3                    8.955357   \n",
       "17ac0e20-b292-492c-9adc-faf60a068926                   27.076923   \n",
       "20380cd2-055e-4f3a-a339-90a1c7df4e1a                    7.331818   \n",
       "236b91d2-cefb-405a-9de5-a3673ef1c736                   12.606383   \n",
       "\n",
       "description                           std nightly number photos  \\\n",
       "12fa7561-2e77-4334-b9e1-6858ed27570f                   6.691366   \n",
       "1362474c-0fb5-4932-a33d-5a30f23ac7e3                  22.951186   \n",
       "17ac0e20-b292-492c-9adc-faf60a068926                 110.151268   \n",
       "20380cd2-055e-4f3a-a339-90a1c7df4e1a                  14.828532   \n",
       "236b91d2-cefb-405a-9de5-a3673ef1c736                  35.451561   \n",
       "\n",
       "description                           ratio_of_nonzero_values_for_nightly_photos  \\\n",
       "12fa7561-2e77-4334-b9e1-6858ed27570f                                    0.062112   \n",
       "1362474c-0fb5-4932-a33d-5a30f23ac7e3                                    0.046940   \n",
       "17ac0e20-b292-492c-9adc-faf60a068926                                    0.029170   \n",
       "20380cd2-055e-4f3a-a339-90a1c7df4e1a                                    0.472103   \n",
       "236b91d2-cefb-405a-9de5-a3673ef1c736                                    0.516484   \n",
       "\n",
       "description                           mean weekend number photos  \\\n",
       "12fa7561-2e77-4334-b9e1-6858ed27570f                   69.166667   \n",
       "1362474c-0fb5-4932-a33d-5a30f23ac7e3                   12.640000   \n",
       "17ac0e20-b292-492c-9adc-faf60a068926                   34.285714   \n",
       "20380cd2-055e-4f3a-a339-90a1c7df4e1a                   12.625000   \n",
       "236b91d2-cefb-405a-9de5-a3673ef1c736                    7.593750   \n",
       "\n",
       "description                           std weekend number photos  \\\n",
       "12fa7561-2e77-4334-b9e1-6858ed27570f                 252.639895   \n",
       "1362474c-0fb5-4932-a33d-5a30f23ac7e3                  27.891762   \n",
       "17ac0e20-b292-492c-9adc-faf60a068926                 129.246127   \n",
       "20380cd2-055e-4f3a-a339-90a1c7df4e1a                  23.839415   \n",
       "236b91d2-cefb-405a-9de5-a3673ef1c736                  11.280125   \n",
       "\n",
       "description                           ratio_of_nonzero_values_for_weekend_photos  \\\n",
       "12fa7561-2e77-4334-b9e1-6858ed27570f                                    0.025388   \n",
       "1362474c-0fb5-4932-a33d-5a30f23ac7e3                                    0.035486   \n",
       "17ac0e20-b292-492c-9adc-faf60a068926                                    0.020942   \n",
       "20380cd2-055e-4f3a-a339-90a1c7df4e1a                                    0.153191   \n",
       "236b91d2-cefb-405a-9de5-a3673ef1c736                                    0.180791   \n",
       "\n",
       "description                           ar daily num of photos lag-1  \\\n",
       "12fa7561-2e77-4334-b9e1-6858ed27570f                     23.213346   \n",
       "1362474c-0fb5-4932-a33d-5a30f23ac7e3                      7.578176   \n",
       "17ac0e20-b292-492c-9adc-faf60a068926                      6.374083   \n",
       "20380cd2-055e-4f3a-a339-90a1c7df4e1a                     16.464636   \n",
       "236b91d2-cefb-405a-9de5-a3673ef1c736                      9.221194   \n",
       "\n",
       "description                           ar daily num of photos lag-2  \\\n",
       "12fa7561-2e77-4334-b9e1-6858ed27570f                     23.851922   \n",
       "1362474c-0fb5-4932-a33d-5a30f23ac7e3                      7.270128   \n",
       "17ac0e20-b292-492c-9adc-faf60a068926                      6.327040   \n",
       "20380cd2-055e-4f3a-a339-90a1c7df4e1a                     16.032337   \n",
       "236b91d2-cefb-405a-9de5-a3673ef1c736                      9.111159   \n",
       "\n",
       "description                           ar daily num of photos lag-4  \\\n",
       "12fa7561-2e77-4334-b9e1-6858ed27570f                     25.280040   \n",
       "1362474c-0fb5-4932-a33d-5a30f23ac7e3                      7.594923   \n",
       "17ac0e20-b292-492c-9adc-faf60a068926                      5.398185   \n",
       "20380cd2-055e-4f3a-a339-90a1c7df4e1a                     17.570474   \n",
       "236b91d2-cefb-405a-9de5-a3673ef1c736                      9.024470   \n",
       "\n",
       "description                           entropy on photo category  \\\n",
       "12fa7561-2e77-4334-b9e1-6858ed27570f                   0.035811   \n",
       "1362474c-0fb5-4932-a33d-5a30f23ac7e3                   0.195228   \n",
       "17ac0e20-b292-492c-9adc-faf60a068926                   0.030548   \n",
       "20380cd2-055e-4f3a-a339-90a1c7df4e1a                   0.790109   \n",
       "236b91d2-cefb-405a-9de5-a3673ef1c736                   0.256801   \n",
       "\n",
       "description                           entropy on daily photos  \n",
       "12fa7561-2e77-4334-b9e1-6858ed27570f                 1.900352  \n",
       "1362474c-0fb5-4932-a33d-5a30f23ac7e3                 5.911040  \n",
       "17ac0e20-b292-492c-9adc-faf60a068926                 3.365487  \n",
       "20380cd2-055e-4f3a-a339-90a1c7df4e1a                 7.213645  \n",
       "236b91d2-cefb-405a-9de5-a3673ef1c736                 4.955326  "
      ]
     },
     "execution_count": 9,
     "metadata": {},
     "output_type": "execute_result"
    }
   ],
   "source": [
    "y.head(5)"
   ]
  },
  {
   "cell_type": "code",
   "execution_count": 7,
   "metadata": {},
   "outputs": [],
   "source": [
    "nrm = normalize_scores(y, 'z-score')"
   ]
  },
  {
   "cell_type": "code",
   "execution_count": 10,
   "metadata": {},
   "outputs": [
    {
     "data": {
      "text/html": [
       "<div>\n",
       "<style scoped>\n",
       "    .dataframe tbody tr th:only-of-type {\n",
       "        vertical-align: middle;\n",
       "    }\n",
       "\n",
       "    .dataframe tbody tr th {\n",
       "        vertical-align: top;\n",
       "    }\n",
       "\n",
       "    .dataframe thead th {\n",
       "        text-align: right;\n",
       "    }\n",
       "</style>\n",
       "<table border=\"1\" class=\"dataframe\">\n",
       "  <thead>\n",
       "    <tr style=\"text-align: right;\">\n",
       "      <th>description</th>\n",
       "      <th>mean daily number photos</th>\n",
       "      <th>std daily number photos</th>\n",
       "      <th>huber mean daily number photos</th>\n",
       "      <th>huber std daily number photos</th>\n",
       "      <th>ratio_of_nonzero_values_for_daily_photos</th>\n",
       "      <th>mean number of photos in burst</th>\n",
       "      <th>mean number of bursts a week</th>\n",
       "      <th>mean nightly number photos</th>\n",
       "      <th>std nightly number photos</th>\n",
       "      <th>ratio_of_nonzero_values_for_nightly_photos</th>\n",
       "      <th>mean weekend number photos</th>\n",
       "      <th>std weekend number photos</th>\n",
       "      <th>ratio_of_nonzero_values_for_weekend_photos</th>\n",
       "      <th>ar daily num of photos lag-1</th>\n",
       "      <th>ar daily num of photos lag-2</th>\n",
       "      <th>ar daily num of photos lag-4</th>\n",
       "      <th>entropy on photo category</th>\n",
       "      <th>entropy on daily photos</th>\n",
       "    </tr>\n",
       "  </thead>\n",
       "  <tbody>\n",
       "    <tr>\n",
       "      <th>12fa7561-2e77-4334-b9e1-6858ed27570f</th>\n",
       "      <td>27.320755</td>\n",
       "      <td>150.369579</td>\n",
       "      <td>4.933056</td>\n",
       "      <td>5.248961</td>\n",
       "      <td>0.072011</td>\n",
       "      <td>5.862348</td>\n",
       "      <td>2.330189</td>\n",
       "      <td>5.225000</td>\n",
       "      <td>6.691366</td>\n",
       "      <td>0.062112</td>\n",
       "      <td>69.166667</td>\n",
       "      <td>252.639895</td>\n",
       "      <td>0.025388</td>\n",
       "      <td>23.213346</td>\n",
       "      <td>23.851922</td>\n",
       "      <td>25.280040</td>\n",
       "      <td>0.035811</td>\n",
       "      <td>1.900352</td>\n",
       "    </tr>\n",
       "    <tr>\n",
       "      <th>1362474c-0fb5-4932-a33d-5a30f23ac7e3</th>\n",
       "      <td>9.442424</td>\n",
       "      <td>20.723095</td>\n",
       "      <td>4.707420</td>\n",
       "      <td>4.232136</td>\n",
       "      <td>0.069153</td>\n",
       "      <td>2.364188</td>\n",
       "      <td>1.926901</td>\n",
       "      <td>8.955357</td>\n",
       "      <td>22.951186</td>\n",
       "      <td>0.046940</td>\n",
       "      <td>12.640000</td>\n",
       "      <td>27.891762</td>\n",
       "      <td>0.035486</td>\n",
       "      <td>7.578176</td>\n",
       "      <td>7.270128</td>\n",
       "      <td>7.594923</td>\n",
       "      <td>0.195228</td>\n",
       "      <td>5.911040</td>\n",
       "    </tr>\n",
       "    <tr>\n",
       "      <th>17ac0e20-b292-492c-9adc-faf60a068926</th>\n",
       "      <td>17.270270</td>\n",
       "      <td>80.860624</td>\n",
       "      <td>5.924570</td>\n",
       "      <td>5.678164</td>\n",
       "      <td>0.055348</td>\n",
       "      <td>6.553846</td>\n",
       "      <td>1.015625</td>\n",
       "      <td>27.076923</td>\n",
       "      <td>110.151268</td>\n",
       "      <td>0.029170</td>\n",
       "      <td>34.285714</td>\n",
       "      <td>129.246127</td>\n",
       "      <td>0.020942</td>\n",
       "      <td>6.374083</td>\n",
       "      <td>6.327040</td>\n",
       "      <td>5.398185</td>\n",
       "      <td>0.030548</td>\n",
       "      <td>3.365487</td>\n",
       "    </tr>\n",
       "    <tr>\n",
       "      <th>20380cd2-055e-4f3a-a339-90a1c7df4e1a</th>\n",
       "      <td>10.943522</td>\n",
       "      <td>18.948964</td>\n",
       "      <td>7.647709</td>\n",
       "      <td>6.900941</td>\n",
       "      <td>0.631027</td>\n",
       "      <td>1.849523</td>\n",
       "      <td>25.811594</td>\n",
       "      <td>7.331818</td>\n",
       "      <td>14.828532</td>\n",
       "      <td>0.472103</td>\n",
       "      <td>12.625000</td>\n",
       "      <td>23.839415</td>\n",
       "      <td>0.153191</td>\n",
       "      <td>16.464636</td>\n",
       "      <td>16.032337</td>\n",
       "      <td>17.570474</td>\n",
       "      <td>0.790109</td>\n",
       "      <td>7.213645</td>\n",
       "    </tr>\n",
       "    <tr>\n",
       "      <th>236b91d2-cefb-405a-9de5-a3673ef1c736</th>\n",
       "      <td>13.054545</td>\n",
       "      <td>33.344438</td>\n",
       "      <td>5.217365</td>\n",
       "      <td>4.893011</td>\n",
       "      <td>0.604396</td>\n",
       "      <td>2.930612</td>\n",
       "      <td>18.148148</td>\n",
       "      <td>12.606383</td>\n",
       "      <td>35.451561</td>\n",
       "      <td>0.516484</td>\n",
       "      <td>7.593750</td>\n",
       "      <td>11.280125</td>\n",
       "      <td>0.180791</td>\n",
       "      <td>9.221194</td>\n",
       "      <td>9.111159</td>\n",
       "      <td>9.024470</td>\n",
       "      <td>0.256801</td>\n",
       "      <td>4.955326</td>\n",
       "    </tr>\n",
       "  </tbody>\n",
       "</table>\n",
       "</div>"
      ],
      "text/plain": [
       "description                           mean daily number photos  \\\n",
       "12fa7561-2e77-4334-b9e1-6858ed27570f                 27.320755   \n",
       "1362474c-0fb5-4932-a33d-5a30f23ac7e3                  9.442424   \n",
       "17ac0e20-b292-492c-9adc-faf60a068926                 17.270270   \n",
       "20380cd2-055e-4f3a-a339-90a1c7df4e1a                 10.943522   \n",
       "236b91d2-cefb-405a-9de5-a3673ef1c736                 13.054545   \n",
       "\n",
       "description                           std daily number photos  \\\n",
       "12fa7561-2e77-4334-b9e1-6858ed27570f               150.369579   \n",
       "1362474c-0fb5-4932-a33d-5a30f23ac7e3                20.723095   \n",
       "17ac0e20-b292-492c-9adc-faf60a068926                80.860624   \n",
       "20380cd2-055e-4f3a-a339-90a1c7df4e1a                18.948964   \n",
       "236b91d2-cefb-405a-9de5-a3673ef1c736                33.344438   \n",
       "\n",
       "description                           huber mean daily number photos  \\\n",
       "12fa7561-2e77-4334-b9e1-6858ed27570f                        4.933056   \n",
       "1362474c-0fb5-4932-a33d-5a30f23ac7e3                        4.707420   \n",
       "17ac0e20-b292-492c-9adc-faf60a068926                        5.924570   \n",
       "20380cd2-055e-4f3a-a339-90a1c7df4e1a                        7.647709   \n",
       "236b91d2-cefb-405a-9de5-a3673ef1c736                        5.217365   \n",
       "\n",
       "description                           huber std daily number photos  \\\n",
       "12fa7561-2e77-4334-b9e1-6858ed27570f                       5.248961   \n",
       "1362474c-0fb5-4932-a33d-5a30f23ac7e3                       4.232136   \n",
       "17ac0e20-b292-492c-9adc-faf60a068926                       5.678164   \n",
       "20380cd2-055e-4f3a-a339-90a1c7df4e1a                       6.900941   \n",
       "236b91d2-cefb-405a-9de5-a3673ef1c736                       4.893011   \n",
       "\n",
       "description                           ratio_of_nonzero_values_for_daily_photos  \\\n",
       "12fa7561-2e77-4334-b9e1-6858ed27570f                                  0.072011   \n",
       "1362474c-0fb5-4932-a33d-5a30f23ac7e3                                  0.069153   \n",
       "17ac0e20-b292-492c-9adc-faf60a068926                                  0.055348   \n",
       "20380cd2-055e-4f3a-a339-90a1c7df4e1a                                  0.631027   \n",
       "236b91d2-cefb-405a-9de5-a3673ef1c736                                  0.604396   \n",
       "\n",
       "description                           mean number of photos in burst  \\\n",
       "12fa7561-2e77-4334-b9e1-6858ed27570f                        5.862348   \n",
       "1362474c-0fb5-4932-a33d-5a30f23ac7e3                        2.364188   \n",
       "17ac0e20-b292-492c-9adc-faf60a068926                        6.553846   \n",
       "20380cd2-055e-4f3a-a339-90a1c7df4e1a                        1.849523   \n",
       "236b91d2-cefb-405a-9de5-a3673ef1c736                        2.930612   \n",
       "\n",
       "description                           mean number of bursts a week  \\\n",
       "12fa7561-2e77-4334-b9e1-6858ed27570f                      2.330189   \n",
       "1362474c-0fb5-4932-a33d-5a30f23ac7e3                      1.926901   \n",
       "17ac0e20-b292-492c-9adc-faf60a068926                      1.015625   \n",
       "20380cd2-055e-4f3a-a339-90a1c7df4e1a                     25.811594   \n",
       "236b91d2-cefb-405a-9de5-a3673ef1c736                     18.148148   \n",
       "\n",
       "description                           mean nightly number photos  \\\n",
       "12fa7561-2e77-4334-b9e1-6858ed27570f                    5.225000   \n",
       "1362474c-0fb5-4932-a33d-5a30f23ac7e3                    8.955357   \n",
       "17ac0e20-b292-492c-9adc-faf60a068926                   27.076923   \n",
       "20380cd2-055e-4f3a-a339-90a1c7df4e1a                    7.331818   \n",
       "236b91d2-cefb-405a-9de5-a3673ef1c736                   12.606383   \n",
       "\n",
       "description                           std nightly number photos  \\\n",
       "12fa7561-2e77-4334-b9e1-6858ed27570f                   6.691366   \n",
       "1362474c-0fb5-4932-a33d-5a30f23ac7e3                  22.951186   \n",
       "17ac0e20-b292-492c-9adc-faf60a068926                 110.151268   \n",
       "20380cd2-055e-4f3a-a339-90a1c7df4e1a                  14.828532   \n",
       "236b91d2-cefb-405a-9de5-a3673ef1c736                  35.451561   \n",
       "\n",
       "description                           ratio_of_nonzero_values_for_nightly_photos  \\\n",
       "12fa7561-2e77-4334-b9e1-6858ed27570f                                    0.062112   \n",
       "1362474c-0fb5-4932-a33d-5a30f23ac7e3                                    0.046940   \n",
       "17ac0e20-b292-492c-9adc-faf60a068926                                    0.029170   \n",
       "20380cd2-055e-4f3a-a339-90a1c7df4e1a                                    0.472103   \n",
       "236b91d2-cefb-405a-9de5-a3673ef1c736                                    0.516484   \n",
       "\n",
       "description                           mean weekend number photos  \\\n",
       "12fa7561-2e77-4334-b9e1-6858ed27570f                   69.166667   \n",
       "1362474c-0fb5-4932-a33d-5a30f23ac7e3                   12.640000   \n",
       "17ac0e20-b292-492c-9adc-faf60a068926                   34.285714   \n",
       "20380cd2-055e-4f3a-a339-90a1c7df4e1a                   12.625000   \n",
       "236b91d2-cefb-405a-9de5-a3673ef1c736                    7.593750   \n",
       "\n",
       "description                           std weekend number photos  \\\n",
       "12fa7561-2e77-4334-b9e1-6858ed27570f                 252.639895   \n",
       "1362474c-0fb5-4932-a33d-5a30f23ac7e3                  27.891762   \n",
       "17ac0e20-b292-492c-9adc-faf60a068926                 129.246127   \n",
       "20380cd2-055e-4f3a-a339-90a1c7df4e1a                  23.839415   \n",
       "236b91d2-cefb-405a-9de5-a3673ef1c736                  11.280125   \n",
       "\n",
       "description                           ratio_of_nonzero_values_for_weekend_photos  \\\n",
       "12fa7561-2e77-4334-b9e1-6858ed27570f                                    0.025388   \n",
       "1362474c-0fb5-4932-a33d-5a30f23ac7e3                                    0.035486   \n",
       "17ac0e20-b292-492c-9adc-faf60a068926                                    0.020942   \n",
       "20380cd2-055e-4f3a-a339-90a1c7df4e1a                                    0.153191   \n",
       "236b91d2-cefb-405a-9de5-a3673ef1c736                                    0.180791   \n",
       "\n",
       "description                           ar daily num of photos lag-1  \\\n",
       "12fa7561-2e77-4334-b9e1-6858ed27570f                     23.213346   \n",
       "1362474c-0fb5-4932-a33d-5a30f23ac7e3                      7.578176   \n",
       "17ac0e20-b292-492c-9adc-faf60a068926                      6.374083   \n",
       "20380cd2-055e-4f3a-a339-90a1c7df4e1a                     16.464636   \n",
       "236b91d2-cefb-405a-9de5-a3673ef1c736                      9.221194   \n",
       "\n",
       "description                           ar daily num of photos lag-2  \\\n",
       "12fa7561-2e77-4334-b9e1-6858ed27570f                     23.851922   \n",
       "1362474c-0fb5-4932-a33d-5a30f23ac7e3                      7.270128   \n",
       "17ac0e20-b292-492c-9adc-faf60a068926                      6.327040   \n",
       "20380cd2-055e-4f3a-a339-90a1c7df4e1a                     16.032337   \n",
       "236b91d2-cefb-405a-9de5-a3673ef1c736                      9.111159   \n",
       "\n",
       "description                           ar daily num of photos lag-4  \\\n",
       "12fa7561-2e77-4334-b9e1-6858ed27570f                     25.280040   \n",
       "1362474c-0fb5-4932-a33d-5a30f23ac7e3                      7.594923   \n",
       "17ac0e20-b292-492c-9adc-faf60a068926                      5.398185   \n",
       "20380cd2-055e-4f3a-a339-90a1c7df4e1a                     17.570474   \n",
       "236b91d2-cefb-405a-9de5-a3673ef1c736                      9.024470   \n",
       "\n",
       "description                           entropy on photo category  \\\n",
       "12fa7561-2e77-4334-b9e1-6858ed27570f                   0.035811   \n",
       "1362474c-0fb5-4932-a33d-5a30f23ac7e3                   0.195228   \n",
       "17ac0e20-b292-492c-9adc-faf60a068926                   0.030548   \n",
       "20380cd2-055e-4f3a-a339-90a1c7df4e1a                   0.790109   \n",
       "236b91d2-cefb-405a-9de5-a3673ef1c736                   0.256801   \n",
       "\n",
       "description                           entropy on daily photos  \n",
       "12fa7561-2e77-4334-b9e1-6858ed27570f                 1.900352  \n",
       "1362474c-0fb5-4932-a33d-5a30f23ac7e3                 5.911040  \n",
       "17ac0e20-b292-492c-9adc-faf60a068926                 3.365487  \n",
       "20380cd2-055e-4f3a-a339-90a1c7df4e1a                 7.213645  \n",
       "236b91d2-cefb-405a-9de5-a3673ef1c736                 4.955326  "
      ]
     },
     "execution_count": 10,
     "metadata": {},
     "output_type": "execute_result"
    }
   ],
   "source": [
    "nrm.head(5)"
   ]
  },
  {
   "cell_type": "code",
   "execution_count": 11,
   "metadata": {},
   "outputs": [],
   "source": [
    "nrm.to_csv('/Users/smuel/Developer/Python/louie7_mvp/score_vec_photogallery_new.csv')"
   ]
  },
  {
   "cell_type": "code",
   "execution_count": 27,
   "metadata": {},
   "outputs": [],
   "source": [
    "rdata = list_of_json_files(path)"
   ]
  },
  {
   "cell_type": "code",
   "execution_count": 28,
   "metadata": {},
   "outputs": [
    {
     "data": {
      "text/plain": [
       "'05fa68e5-0ba3-4783-9c07-42740c4914c6'"
      ]
     },
     "execution_count": 28,
     "metadata": {},
     "output_type": "execute_result"
    }
   ],
   "source": [
    "rdata[0][0]"
   ]
  },
  {
   "cell_type": "code",
   "execution_count": 29,
   "metadata": {},
   "outputs": [],
   "source": [
    "raw = group_metadata(path)"
   ]
  },
  {
   "cell_type": "code",
   "execution_count": 30,
   "metadata": {},
   "outputs": [
    {
     "data": {
      "text/plain": [
       "{'unique_ids': ['1abd59a3-553f-43db-a329-90c28c72afdd',\n",
       "  '199ea69c-5e20-4b53-9bfb-0534aaeb68d6',\n",
       "  '36f05b2e-4164-49a6-ba0c-d78997ecdcae',\n",
       "  '588aeafe-5c4d-4bc9-84c5-8ae28029c733',\n",
       "  '2afbf7b0-6202-49bb-814f-ddba906bab48',\n",
       "  '759240f7-1248-4334-aad5-fd384b524d3d',\n",
       "  '05fa68e5-0ba3-4783-9c07-42740c4914c6',\n",
       "  '17ac0e20-b292-492c-9adc-faf60a068926',\n",
       "  '25ba2284-51e3-4eb9-a2c8-fa3a0eaeeca9',\n",
       "  '3e4c39d0-d2ec-45c3-91cc-4c80ccf171be',\n",
       "  '20380cd2-055e-4f3a-a339-90a1c7df4e1a',\n",
       "  '2afc4c23-161f-4fc5-b4ba-e567f5327d22',\n",
       "  '12fa7561-2e77-4334-b9e1-6858ed27570f',\n",
       "  '1362474c-0fb5-4932-a33d-5a30f23ac7e3',\n",
       "  '29a43c47-05d7-4bb9-909b-e3cae08097ad',\n",
       "  '25174909-3427-42d2-9e14-65f7c95f240b',\n",
       "  '5e0b1bf2-2aba-4745-b91f-916554d51e9f',\n",
       "  '148b0326-09e2-404f-9de6-aff6d44f2a38',\n",
       "  '6ff9fca8-f981-46e5-93cc-4fab4190d758',\n",
       "  'a296ae00-fcd4-418c-aaae-49b1f13fcbd5',\n",
       "  '236b91d2-cefb-405a-9de5-a3673ef1c736'],\n",
       " 'file_list': ['05fa68e5-0ba3-4783-9c07-42740c4914c6_11-06-2021_09-53-01.json',\n",
       "  '12fa7561-2e77-4334-b9e1-6858ed27570f_15-07-2021_21-30-54.json',\n",
       "  '1362474c-0fb5-4932-a33d-5a30f23ac7e3_14-07-2021_12-18-21.json',\n",
       "  '148b0326-09e2-404f-9de6-aff6d44f2a38_10-08-2021_20-19-48.json',\n",
       "  '17ac0e20-b292-492c-9adc-faf60a068926_18-07-2021_18-32-18.json',\n",
       "  '199ea69c-5e20-4b53-9bfb-0534aaeb68d6_22-07-2021_10-46-06.json',\n",
       "  '1abd59a3-553f-43db-a329-90c28c72afdd_20-07-2021_21-28-22.json',\n",
       "  '20380cd2-055e-4f3a-a339-90a1c7df4e1a_15-07-2021_02-24-42.json',\n",
       "  '236b91d2-cefb-405a-9de5-a3673ef1c736_30-06-2021_01-17-49.json',\n",
       "  '25174909-3427-42d2-9e14-65f7c95f240b_11-07-2021_15-31-16.json',\n",
       "  '25ba2284-51e3-4eb9-a2c8-fa3a0eaeeca9_11-07-2021_21-35-19.json',\n",
       "  '29a43c47-05d7-4bb9-909b-e3cae08097ad_05-08-2021_09-17-38.json',\n",
       "  '2afbf7b0-6202-49bb-814f-ddba906bab48_01-08-2021_10-24-29.json',\n",
       "  '2afc4c23-161f-4fc5-b4ba-e567f5327d22_31-07-2021_09-25-27.json',\n",
       "  '36f05b2e-4164-49a6-ba0c-d78997ecdcae_26-07-2021_13-43-03.json',\n",
       "  '3e4c39d0-d2ec-45c3-91cc-4c80ccf171be_20-07-2021_15-27-10.json',\n",
       "  '588aeafe-5c4d-4bc9-84c5-8ae28029c733_21-07-2021_08-13-31.json',\n",
       "  '5e0b1bf2-2aba-4745-b91f-916554d51e9f_13-07-2021_14-29-34.json',\n",
       "  '6ff9fca8-f981-46e5-93cc-4fab4190d758_01-08-2021_01-13-41.json',\n",
       "  '759240f7-1248-4334-aad5-fd384b524d3d_23-07-2021_21-44-32.json',\n",
       "  'a296ae00-fcd4-418c-aaae-49b1f13fcbd5_14-07-2021_01-50-32.json']}"
      ]
     },
     "execution_count": 30,
     "metadata": {},
     "output_type": "execute_result"
    }
   ],
   "source": [
    "raw"
   ]
  },
  {
   "cell_type": "code",
   "execution_count": 31,
   "metadata": {},
   "outputs": [],
   "source": [
    "uid  = '05fa68e5-0ba3-4783-9c07-42740c4914c6'\n",
    "file = '05fa68e5-0ba3-4783-9c07-42740c4914c6_11-06-2021_09-53-01.json'\n",
    "raw_data = json.load(codecs.open(path + file, 'r', 'utf-8-sig'))"
   ]
  },
  {
   "cell_type": "code",
   "execution_count": 32,
   "metadata": {},
   "outputs": [
    {
     "data": {
      "text/plain": [
       "dict_keys(['SamplingConfigurations', 'CallLogs', 'ImgMetaData', 'InstallApps', 'LocationInfo', 'BatteryInfo', 'WifiInfo', 'ScreenInfo'])"
      ]
     },
     "execution_count": 32,
     "metadata": {},
     "output_type": "execute_result"
    }
   ],
   "source": [
    "raw_data.keys()"
   ]
  },
  {
   "cell_type": "code",
   "execution_count": 33,
   "metadata": {},
   "outputs": [],
   "source": [
    "loc, df_r = create_df_from_init_metadata(uid, raw_data)"
   ]
  },
  {
   "cell_type": "code",
   "execution_count": 34,
   "metadata": {},
   "outputs": [
    {
     "data": {
      "text/plain": [
       "dict_keys(['05fa68e5-0ba3-4783-9c07-42740c4914c6_SamplingConfigurations', '05fa68e5-0ba3-4783-9c07-42740c4914c6_CallLogs', '05fa68e5-0ba3-4783-9c07-42740c4914c6_ImgMetaData', '05fa68e5-0ba3-4783-9c07-42740c4914c6_InstallApps', '05fa68e5-0ba3-4783-9c07-42740c4914c6_LocationInfo', '05fa68e5-0ba3-4783-9c07-42740c4914c6_BatteryInfo', '05fa68e5-0ba3-4783-9c07-42740c4914c6_WifiInfo', '05fa68e5-0ba3-4783-9c07-42740c4914c6_ScreenInfo'])"
      ]
     },
     "execution_count": 34,
     "metadata": {},
     "output_type": "execute_result"
    }
   ],
   "source": [
    "df_r.keys()"
   ]
  },
  {
   "cell_type": "code",
   "execution_count": 37,
   "metadata": {},
   "outputs": [
    {
     "data": {
      "text/plain": [
       "41"
      ]
     },
     "execution_count": 37,
     "metadata": {},
     "output_type": "execute_result"
    }
   ],
   "source": [
    "clogs = df_r['05fa68e5-0ba3-4783-9c07-42740c4914c6_InstallApps']\n",
    "len(clogs)"
   ]
  },
  {
   "cell_type": "code",
   "execution_count": 38,
   "metadata": {},
   "outputs": [
    {
     "data": {
      "text/html": [
       "<div>\n",
       "<style scoped>\n",
       "    .dataframe tbody tr th:only-of-type {\n",
       "        vertical-align: middle;\n",
       "    }\n",
       "\n",
       "    .dataframe tbody tr th {\n",
       "        vertical-align: top;\n",
       "    }\n",
       "\n",
       "    .dataframe thead th {\n",
       "        text-align: right;\n",
       "    }\n",
       "</style>\n",
       "<table border=\"1\" class=\"dataframe\">\n",
       "  <thead>\n",
       "    <tr style=\"text-align: right;\">\n",
       "      <th></th>\n",
       "      <th>INSTALL_DATETIME</th>\n",
       "      <th>APP_CATEGORY</th>\n",
       "      <th>APP_VARIANT</th>\n",
       "    </tr>\n",
       "  </thead>\n",
       "  <tbody>\n",
       "    <tr>\n",
       "      <th>36</th>\n",
       "      <td>2020-03-17 11:45:18.157999872</td>\n",
       "      <td>Simulation</td>\n",
       "      <td>Paid Feature</td>\n",
       "    </tr>\n",
       "    <tr>\n",
       "      <th>37</th>\n",
       "      <td>2019-11-23 17:17:10.605999872</td>\n",
       "      <td>Sports</td>\n",
       "      <td>Paid Feature</td>\n",
       "    </tr>\n",
       "    <tr>\n",
       "      <th>38</th>\n",
       "      <td>2020-10-20 05:22:40.272999936</td>\n",
       "      <td>Photography</td>\n",
       "      <td>Paid Feature</td>\n",
       "    </tr>\n",
       "    <tr>\n",
       "      <th>39</th>\n",
       "      <td>2020-03-26 13:05:53.877000192</td>\n",
       "      <td>app not found at app store</td>\n",
       "      <td>Free</td>\n",
       "    </tr>\n",
       "    <tr>\n",
       "      <th>40</th>\n",
       "      <td>2020-05-07 17:42:07.743000064</td>\n",
       "      <td>Education</td>\n",
       "      <td>Paid Feature</td>\n",
       "    </tr>\n",
       "  </tbody>\n",
       "</table>\n",
       "</div>"
      ],
      "text/plain": [
       "                INSTALL_DATETIME                APP_CATEGORY   APP_VARIANT\n",
       "36 2020-03-17 11:45:18.157999872                  Simulation  Paid Feature\n",
       "37 2019-11-23 17:17:10.605999872                      Sports  Paid Feature\n",
       "38 2020-10-20 05:22:40.272999936                 Photography  Paid Feature\n",
       "39 2020-03-26 13:05:53.877000192  app not found at app store          Free\n",
       "40 2020-05-07 17:42:07.743000064                   Education  Paid Feature"
      ]
     },
     "execution_count": 38,
     "metadata": {},
     "output_type": "execute_result"
    }
   ],
   "source": [
    "clogs.tail(5)"
   ]
  },
  {
   "cell_type": "code",
   "execution_count": 39,
   "metadata": {},
   "outputs": [],
   "source": [
    "sample_field = 'INSTALL_DATETIME'\n",
    "data_field = 'APP_CATEGORY'"
   ]
  },
  {
   "cell_type": "code",
   "execution_count": 135,
   "metadata": {},
   "outputs": [],
   "source": [
    "cats = clogs.groupby(data_field).agg({data_field: ['count']})\n",
    "cats.columns = cats.columns.get_level_values(0)"
   ]
  },
  {
   "cell_type": "code",
   "execution_count": 136,
   "metadata": {},
   "outputs": [
    {
     "data": {
      "image/png": "[encoded data removed]",
      "text/plain": [
       "<Figure size 432x288 with 1 Axes>"
      ]
     },
     "metadata": {
      "needs_background": "light"
     },
     "output_type": "display_data"
    }
   ],
   "source": [
    "h = cats.hist(column=data_field, bins=6)"
   ]
  },
  {
   "cell_type": "code",
   "execution_count": 89,
   "metadata": {
    "scrolled": true
   },
   "outputs": [],
   "source": [
    "cats['APP_CATEGORY'] = cats.values / np.sum(cats.values)"
   ]
  },
  {
   "cell_type": "code",
   "execution_count": 44,
   "metadata": {},
   "outputs": [],
   "source": [
    "apps = ['Art & Design', 'Auto & Vehicles', 'Beauty', 'Books & Reference', 'Business', 'Comics', 'Communications',\n",
    "        'Dating', 'Education', 'Entertainment', 'Events', 'Finance', 'Food & Drink', 'Health & Fitness', 'House & Home',\n",
    "        'Lifestyle', 'Maps & Navigation', 'Medical', 'Music & Audio', 'News & Magazines', 'Parenting',\n",
    "        'Personalization', 'Photography', 'Productivity', 'Shopping', 'Social', 'Sports', 'Tools', 'Travel & Local',\n",
    "        'Video Players & Editors', 'Weather', 'Libraries & Demo', 'Action', 'Adventure', 'Arcade', 'Board', 'Cards',\n",
    "        'Casino', 'Casual', 'Educational', 'Music Games', 'Puzzle', 'Racing', 'Role Playing',\n",
    "        'Simulation', 'Sport Games', 'Strategy', 'Trivia', 'Word Games', 'Family All Ages', 'Family Action',\n",
    "        'Family Brain Games', 'Family Create', 'Family Education', 'Family Music & Video', 'Family Pretend Play']"
   ]
  },
  {
   "cell_type": "code",
   "execution_count": 137,
   "metadata": {
    "scrolled": true
   },
   "outputs": [
    {
     "data": {
      "text/plain": [
       "0.375"
      ]
     },
     "execution_count": 137,
     "metadata": {},
     "output_type": "execute_result"
    }
   ],
   "source": [
    "len(cats)/len(apps)"
   ]
  },
  {
   "cell_type": "code",
   "execution_count": 138,
   "metadata": {},
   "outputs": [
    {
     "data": {
      "text/plain": [
       "41"
      ]
     },
     "execution_count": 138,
     "metadata": {},
     "output_type": "execute_result"
    }
   ],
   "source": [
    "np.sum(cats.values)"
   ]
  },
  {
   "cell_type": "code",
   "execution_count": 139,
   "metadata": {},
   "outputs": [],
   "source": [
    "cats.index.names = ['category']"
   ]
  },
  {
   "cell_type": "code",
   "execution_count": 140,
   "metadata": {},
   "outputs": [
    {
     "data": {
      "text/html": [
       "<div>\n",
       "<style scoped>\n",
       "    .dataframe tbody tr th:only-of-type {\n",
       "        vertical-align: middle;\n",
       "    }\n",
       "\n",
       "    .dataframe tbody tr th {\n",
       "        vertical-align: top;\n",
       "    }\n",
       "\n",
       "    .dataframe thead th {\n",
       "        text-align: right;\n",
       "    }\n",
       "</style>\n",
       "<table border=\"1\" class=\"dataframe\">\n",
       "  <thead>\n",
       "    <tr style=\"text-align: right;\">\n",
       "      <th></th>\n",
       "      <th>APP_CATEGORY</th>\n",
       "    </tr>\n",
       "    <tr>\n",
       "      <th>category</th>\n",
       "      <th></th>\n",
       "    </tr>\n",
       "  </thead>\n",
       "  <tbody>\n",
       "    <tr>\n",
       "      <th>Action</th>\n",
       "      <td>5</td>\n",
       "    </tr>\n",
       "    <tr>\n",
       "      <th>Adventure</th>\n",
       "      <td>3</td>\n",
       "    </tr>\n",
       "    <tr>\n",
       "      <th>Arcade</th>\n",
       "      <td>1</td>\n",
       "    </tr>\n",
       "    <tr>\n",
       "      <th>Board</th>\n",
       "      <td>1</td>\n",
       "    </tr>\n",
       "    <tr>\n",
       "      <th>Books &amp; Reference</th>\n",
       "      <td>1</td>\n",
       "    </tr>\n",
       "    <tr>\n",
       "      <th>Business</th>\n",
       "      <td>1</td>\n",
       "    </tr>\n",
       "    <tr>\n",
       "      <th>Education</th>\n",
       "      <td>2</td>\n",
       "    </tr>\n",
       "    <tr>\n",
       "      <th>Educational</th>\n",
       "      <td>1</td>\n",
       "    </tr>\n",
       "    <tr>\n",
       "      <th>Entertainment</th>\n",
       "      <td>2</td>\n",
       "    </tr>\n",
       "    <tr>\n",
       "      <th>Health &amp; Fitness</th>\n",
       "      <td>1</td>\n",
       "    </tr>\n",
       "    <tr>\n",
       "      <th>Lifestyle</th>\n",
       "      <td>1</td>\n",
       "    </tr>\n",
       "    <tr>\n",
       "      <th>Personalization</th>\n",
       "      <td>1</td>\n",
       "    </tr>\n",
       "    <tr>\n",
       "      <th>Photography</th>\n",
       "      <td>6</td>\n",
       "    </tr>\n",
       "    <tr>\n",
       "      <th>Productivity</th>\n",
       "      <td>2</td>\n",
       "    </tr>\n",
       "    <tr>\n",
       "      <th>Puzzle</th>\n",
       "      <td>1</td>\n",
       "    </tr>\n",
       "    <tr>\n",
       "      <th>Simulation</th>\n",
       "      <td>2</td>\n",
       "    </tr>\n",
       "    <tr>\n",
       "      <th>Social</th>\n",
       "      <td>1</td>\n",
       "    </tr>\n",
       "    <tr>\n",
       "      <th>Sports</th>\n",
       "      <td>2</td>\n",
       "    </tr>\n",
       "    <tr>\n",
       "      <th>Tools</th>\n",
       "      <td>3</td>\n",
       "    </tr>\n",
       "    <tr>\n",
       "      <th>Weather</th>\n",
       "      <td>1</td>\n",
       "    </tr>\n",
       "    <tr>\n",
       "      <th>app not found at app store</th>\n",
       "      <td>3</td>\n",
       "    </tr>\n",
       "  </tbody>\n",
       "</table>\n",
       "</div>"
      ],
      "text/plain": [
       "                            APP_CATEGORY\n",
       "category                                \n",
       "Action                                 5\n",
       "Adventure                              3\n",
       "Arcade                                 1\n",
       "Board                                  1\n",
       "Books & Reference                      1\n",
       "Business                               1\n",
       "Education                              2\n",
       "Educational                            1\n",
       "Entertainment                          2\n",
       "Health & Fitness                       1\n",
       "Lifestyle                              1\n",
       "Personalization                        1\n",
       "Photography                            6\n",
       "Productivity                           2\n",
       "Puzzle                                 1\n",
       "Simulation                             2\n",
       "Social                                 1\n",
       "Sports                                 2\n",
       "Tools                                  3\n",
       "Weather                                1\n",
       "app not found at app store             3"
      ]
     },
     "execution_count": 140,
     "metadata": {},
     "output_type": "execute_result"
    }
   ],
   "source": [
    "cats"
   ]
  },
  {
   "cell_type": "code",
   "execution_count": 149,
   "metadata": {},
   "outputs": [
    {
     "data": {
      "text/plain": [
       "1.9523809523809523"
      ]
     },
     "execution_count": 149,
     "metadata": {},
     "output_type": "execute_result"
    }
   ],
   "source": [
    "np.mean(cats.values)"
   ]
  },
  {
   "cell_type": "code",
   "execution_count": 141,
   "metadata": {},
   "outputs": [
    {
     "data": {
      "text/plain": [
       "<AxesSubplot:xlabel='category'>"
      ]
     },
     "execution_count": 141,
     "metadata": {},
     "output_type": "execute_result"
    },
    {
     "data": {
      "image/png": "[encoded data removed]",
      "text/plain": [
       "<Figure size 432x288 with 1 Axes>"
      ]
     },
     "metadata": {
      "needs_background": "light"
     },
     "output_type": "display_data"
    }
   ],
   "source": [
    "cats.plot(kind='bar')"
   ]
  },
  {
   "cell_type": "code",
   "execution_count": 155,
   "metadata": {},
   "outputs": [
    {
     "data": {
      "text/plain": [
       "<AxesSubplot:ylabel='Density'>"
      ]
     },
     "execution_count": 155,
     "metadata": {},
     "output_type": "execute_result"
    },
    {
     "data": {
      "image/png": "[encoded data removed]",
      "text/plain": [
       "<Figure size 432x288 with 1 Axes>"
      ]
     },
     "metadata": {
      "needs_background": "light"
     },
     "output_type": "display_data"
    }
   ],
   "source": [
    "cats.plot.kde(bw_method=0.3)"
   ]
  },
  {
   "cell_type": "code",
   "execution_count": 143,
   "metadata": {},
   "outputs": [
    {
     "data": {
      "text/plain": [
       "array([[-1.50000000e+00,  9.02802192e-09],\n",
       "       [-1.48998999e+00,  1.04104959e-08],\n",
       "       [-1.47997998e+00,  1.19978098e-08],\n",
       "       ...,\n",
       "       [ 8.47997998e+00,  1.09071001e-09],\n",
       "       [ 8.48998999e+00,  9.46408742e-10],\n",
       "       [ 8.50000000e+00,  8.20729282e-10]])"
      ]
     },
     "execution_count": 143,
     "metadata": {},
     "output_type": "execute_result"
    },
    {
     "data": {
      "image/png": "[encoded data removed]",
      "text/plain": [
       "<Figure size 432x288 with 1 Axes>"
      ]
     },
     "metadata": {
      "needs_background": "light"
     },
     "output_type": "display_data"
    }
   ],
   "source": [
    "cats.plot.kde(bw_method=0.3).get_lines()[0].get_xydata()"
   ]
  },
  {
   "cell_type": "code",
   "execution_count": 144,
   "metadata": {},
   "outputs": [],
   "source": [
    "from scipy.stats import gaussian_kde"
   ]
  },
  {
   "cell_type": "code",
   "execution_count": 145,
   "metadata": {},
   "outputs": [],
   "source": [
    "density = gaussian_kde(cats['APP_CATEGORY'], bw_method=0.3)"
   ]
  },
  {
   "cell_type": "code",
   "execution_count": 147,
   "metadata": {},
   "outputs": [],
   "source": [
    "x = np.linspace(-10,10,200)\n",
    "y = density(x)"
   ]
  },
  {
   "cell_type": "code",
   "execution_count": 56,
   "metadata": {
    "scrolled": false
   },
   "outputs": [
    {
     "data": {
      "text/plain": [
       "<AxesSubplot:title={'center':\"('APP_CATEGORY', 'count')\"}>"
      ]
     },
     "execution_count": 56,
     "metadata": {},
     "output_type": "execute_result"
    }
   ],
   "source": [
    "h.all()"
   ]
  },
  {
   "cell_type": "code",
   "execution_count": 28,
   "metadata": {
    "scrolled": true
   },
   "outputs": [
    {
     "data": {
      "text/plain": [
       "[4.184971098265896,\n",
       " 6.403612115091916,\n",
       " 2.707334951659146,\n",
       " 1.9737065162609069,\n",
       " 0.2972508591065292]"
      ]
     },
     "execution_count": 28,
     "metadata": {},
     "output_type": "execute_result"
    }
   ],
   "source": [
    "daily_func(clogs, sample_field, data_field, 'count', 'D')"
   ]
  },
  {
   "cell_type": "code",
   "execution_count": 53,
   "metadata": {},
   "outputs": [],
   "source": [
    "x = clogs.groupby(pd.Grouper(key=sample_field, freq='1Min')).agg({data_field: ['count']})"
   ]
  },
  {
   "cell_type": "code",
   "execution_count": 126,
   "metadata": {},
   "outputs": [],
   "source": [
    "x0 = x.loc[(x!=0).any(axis=1)]"
   ]
  },
  {
   "cell_type": "code",
   "execution_count": 127,
   "metadata": {},
   "outputs": [
    {
     "data": {
      "text/plain": [
       "pandas.core.frame.DataFrame"
      ]
     },
     "execution_count": 127,
     "metadata": {},
     "output_type": "execute_result"
    }
   ],
   "source": [
    "type(x0)"
   ]
  },
  {
   "cell_type": "code",
   "execution_count": 129,
   "metadata": {},
   "outputs": [],
   "source": [
    "x0.reset_index(level=0, inplace=True)"
   ]
  },
  {
   "cell_type": "code",
   "execution_count": 131,
   "metadata": {},
   "outputs": [
    {
     "data": {
      "text/plain": [
       "MultiIndex([('IMAGE_DATE_TIME',      ''),\n",
       "            (     'IMAGE_TYPE', 'count')],\n",
       "           )"
      ]
     },
     "execution_count": 131,
     "metadata": {},
     "output_type": "execute_result"
    }
   ],
   "source": [
    "x0.columns"
   ]
  },
  {
   "cell_type": "code",
   "execution_count": 134,
   "metadata": {},
   "outputs": [],
   "source": [
    "x0.columns = x0.columns.get_level_values(0)"
   ]
  },
  {
   "cell_type": "code",
   "execution_count": 141,
   "metadata": {
    "scrolled": true
   },
   "outputs": [
    {
     "data": {
      "text/plain": [
       "1.8805194805194805"
      ]
     },
     "execution_count": 141,
     "metadata": {},
     "output_type": "execute_result"
    }
   ],
   "source": [
    "np.mean(x0.IMAGE_TYPE.values)"
   ]
  },
  {
   "cell_type": "code",
   "execution_count": 136,
   "metadata": {},
   "outputs": [],
   "source": [
    "z = x0.groupby(pd.Grouper(key=sample_field, freq='W')).agg({data_field: ['count']})"
   ]
  },
  {
   "cell_type": "code",
   "execution_count": 139,
   "metadata": {
    "scrolled": true
   },
   "outputs": [
    {
     "data": {
      "text/html": [
       "<div>\n",
       "<style scoped>\n",
       "    .dataframe tbody tr th:only-of-type {\n",
       "        vertical-align: middle;\n",
       "    }\n",
       "\n",
       "    .dataframe tbody tr th {\n",
       "        vertical-align: top;\n",
       "    }\n",
       "\n",
       "    .dataframe thead tr th {\n",
       "        text-align: left;\n",
       "    }\n",
       "\n",
       "    .dataframe thead tr:last-of-type th {\n",
       "        text-align: right;\n",
       "    }\n",
       "</style>\n",
       "<table border=\"1\" class=\"dataframe\">\n",
       "  <thead>\n",
       "    <tr>\n",
       "      <th></th>\n",
       "      <th>IMAGE_TYPE</th>\n",
       "    </tr>\n",
       "    <tr>\n",
       "      <th></th>\n",
       "      <th>count</th>\n",
       "    </tr>\n",
       "    <tr>\n",
       "      <th>IMAGE_DATE_TIME</th>\n",
       "      <th></th>\n",
       "    </tr>\n",
       "  </thead>\n",
       "  <tbody>\n",
       "    <tr>\n",
       "      <th>2019-10-20</th>\n",
       "      <td>3</td>\n",
       "    </tr>\n",
       "    <tr>\n",
       "      <th>2019-10-27</th>\n",
       "      <td>2</td>\n",
       "    </tr>\n",
       "    <tr>\n",
       "      <th>2019-11-03</th>\n",
       "      <td>11</td>\n",
       "    </tr>\n",
       "    <tr>\n",
       "      <th>2019-11-10</th>\n",
       "      <td>1</td>\n",
       "    </tr>\n",
       "    <tr>\n",
       "      <th>2019-11-17</th>\n",
       "      <td>3</td>\n",
       "    </tr>\n",
       "  </tbody>\n",
       "</table>\n",
       "</div>"
      ],
      "text/plain": [
       "                IMAGE_TYPE\n",
       "                     count\n",
       "IMAGE_DATE_TIME           \n",
       "2019-10-20               3\n",
       "2019-10-27               2\n",
       "2019-11-03              11\n",
       "2019-11-10               1\n",
       "2019-11-17               3"
      ]
     },
     "execution_count": 139,
     "metadata": {},
     "output_type": "execute_result"
    }
   ],
   "source": [
    "z.head(5)"
   ]
  },
  {
   "cell_type": "code",
   "execution_count": 145,
   "metadata": {},
   "outputs": [
    {
     "data": {
      "text/plain": [
       "4.583333333333333"
      ]
     },
     "execution_count": 145,
     "metadata": {},
     "output_type": "execute_result"
    }
   ],
   "source": [
    "np.mean(z.values.T[0])"
   ]
  },
  {
   "cell_type": "code",
   "execution_count": 20,
   "metadata": {
    "collapsed": true
   },
   "outputs": [
    {
     "data": {
      "text/plain": [
       "[4.03757225433526, 6.0235596126069035, 2.649869057922282, 1.9221669965919856]"
      ]
     },
     "execution_count": 20,
     "metadata": {},
     "output_type": "execute_result"
    }
   ],
   "source": [
    "daily_cont_event(clogs, sample_field, data_field)"
   ]
  },
  {
   "cell_type": "code",
   "execution_count": 21,
   "metadata": {},
   "outputs": [
    {
     "data": {
      "text/plain": [
       "[4.549019607843137, 2.3428946330763263]"
      ]
     },
     "execution_count": 21,
     "metadata": {},
     "output_type": "execute_result"
    }
   ],
   "source": [
    "nh = NightHours(sample_field)\n",
    "nh(clogs, data_field)"
   ]
  },
  {
   "cell_type": "code",
   "execution_count": 22,
   "metadata": {},
   "outputs": [
    {
     "name": "stdout",
     "output_type": "stream",
     "text": [
      "[ 1  3 13  7  4  9 10  1  8  1 36  1  5 11  1  4  3  2  2  1  7  4  1  3\n",
      "  8  2 17  1  1  4 31  2  2  3  1  1  1 42  1  3  2  4  3  1  3  1]\n"
     ]
    },
    {
     "data": {
      "text/plain": [
       "[5.913043478260869, 8.853459375360183, 3.7868184083633945, 3.408258328067422]"
      ]
     },
     "execution_count": 22,
     "metadata": {},
     "output_type": "execute_result"
    }
   ],
   "source": [
    "loc_tuple = (loc[0]['Latitude'], loc[0]['Longitude'])\n",
    "wh = WeekendHours(clogs, sample_field, loc_tuple)\n",
    "wh(data_field, 'D')"
   ]
  },
  {
   "cell_type": "code",
   "execution_count": 23,
   "metadata": {},
   "outputs": [
    {
     "data": {
      "text/plain": [
       "[0.2297391051374809]"
      ]
     },
     "execution_count": 23,
     "metadata": {},
     "output_type": "execute_result"
    }
   ],
   "source": [
    "entropy_of_cat(clogs, data_field, photo_gallery['categories'], 'photo-gallery')"
   ]
  },
  {
   "cell_type": "code",
   "execution_count": 24,
   "metadata": {},
   "outputs": [
    {
     "data": {
      "text/plain": [
       "[6.535033406107279]"
      ]
     },
     "execution_count": 24,
     "metadata": {},
     "output_type": "execute_result"
    }
   ],
   "source": [
    "entropy_of_amount(clogs, sample_field, data_field)"
   ]
  },
  {
   "cell_type": "code",
   "execution_count": 25,
   "metadata": {},
   "outputs": [],
   "source": [
    "train, test = ar_count(clogs, sample_field, data_field)"
   ]
  },
  {
   "cell_type": "code",
   "execution_count": 26,
   "metadata": {},
   "outputs": [
    {
     "data": {
      "text/plain": [
       "4"
      ]
     },
     "execution_count": 26,
     "metadata": {},
     "output_type": "execute_result"
    }
   ],
   "source": [
    "len(test)"
   ]
  },
  {
   "cell_type": "code",
   "execution_count": 27,
   "metadata": {},
   "outputs": [
    {
     "data": {
      "text/plain": [
       "[7.460553966872168]"
      ]
     },
     "execution_count": 27,
     "metadata": {},
     "output_type": "execute_result"
    }
   ],
   "source": [
    "ar(train, test, 2, True)"
   ]
  },
  {
   "cell_type": "code",
   "execution_count": 19,
   "metadata": {},
   "outputs": [],
   "source": [
    "a = [ 1 , 6 , 6 , 4 , 5 , 2 , 1 , 2 , 3 , 1 , 3 , 2 , 1 , 1 , 1 ,21 , 8 , 2 , 1 , 1 , 4,  3 , 2 , 2,\n",
    "  9 , 7 , 1 , 1,  1 , 1 , 1 , 1 , 1 , 3 , 1 , 7 , 1 , 1 , 1 , 1,  1 , 1 , 9 , 1 , 2 ,15 , 2,  2,\n",
    "  1, 11, 12,  1,  1,  2,  2,  3,  1,  4,  2,  1,  1,  1,  3,  2,  9,  3,  2,  7,  2,  3 , 1 , 2,\n",
    "  1,  1,  3, 10,  1,  7,  1,  2,  1 , 1 , 8 , 2 , 1 , 1 , 1 , 1 , 1 , 3 , 2 ,16 , 2 , 1 , 7 , 2,\n",
    "  1,  2 , 1 , 6 ,10 , 5 , 8 , 8 , 3 ,13 ,23 , 5 , 5 ,13 , 1 , 1 , 1 , 4 , 8 , 1 , 1 , 1 , 2 ,13,\n",
    "  7 , 6 , 1 , 2 , 1 , 1 , 1]"
   ]
  },
  {
   "cell_type": "code",
   "execution_count": 20,
   "metadata": {},
   "outputs": [],
   "source": [
    "b= [ 6  ,6 , 2 , 2 , 1 , 8 , 4 , 7 , 1 , 2 , 1 , 1 , 2 , 1 , 2 , 3 , 2 , 7 , 1 , 2 , 7 , 2 , 1 , 3,\n",
    "  2,  2 , 5 , 8 ,23 , 5,  4,  8 ,13 , 7,  1]\n",
    "c = [ 29 , 3 , 1 , 2 , 1 , 1 , 1 , 3 ]"
   ]
  },
  {
   "cell_type": "code",
   "execution_count": 21,
   "metadata": {},
   "outputs": [
    {
     "data": {
      "text/plain": [
       "35"
      ]
     },
     "execution_count": 21,
     "metadata": {},
     "output_type": "execute_result"
    }
   ],
   "source": [
    "len(b)"
   ]
  },
  {
   "cell_type": "code",
   "execution_count": 27,
   "metadata": {},
   "outputs": [
    {
     "data": {
      "text/plain": [
       "(5.125, 4.121518891602457)"
      ]
     },
     "execution_count": 27,
     "metadata": {},
     "output_type": "execute_result"
    }
   ],
   "source": [
    "(np.mean(x), np.std(a))"
   ]
  },
  {
   "cell_type": "code",
   "execution_count": 23,
   "metadata": {},
   "outputs": [
    {
     "data": {
      "text/plain": [
       "23"
      ]
     },
     "execution_count": 23,
     "metadata": {},
     "output_type": "execute_result"
    }
   ],
   "source": [
    "np.max(a)"
   ]
  },
  {
   "cell_type": "code",
   "execution_count": 25,
   "metadata": {},
   "outputs": [
    {
     "name": "stdout",
     "output_type": "stream",
     "text": [
      "Exception ValueError\n"
     ]
    },
    {
     "name": "stderr",
     "output_type": "stream",
     "text": [
      "/Library/Frameworks/Python.framework/Versions/3.8/lib/python3.8/site-packages/statsmodels/robust/scale.py:303: RuntimeWarning: invalid value encountered in sqrt\n",
      "  nscale = np.sqrt(scale_num / scale_denom)\n"
     ]
    }
   ],
   "source": [
    "x = np.mean(c)\n",
    "try:\n",
    "    x = huber_est(c)\n",
    "except ValueError:\n",
    "    print('Exception ValueError')\n",
    "else:\n",
    "    print('Exception unknown')"
   ]
  },
  {
   "cell_type": "code",
   "execution_count": null,
   "metadata": {},
   "outputs": [],
   "source": []
  }
 ],
 "metadata": {
  "kernelspec": {
   "display_name": "Python 3",
   "language": "python",
   "name": "python3"
  },
  "language_info": {
   "codemirror_mode": {
    "name": "ipython",
    "version": 3
   },
   "file_extension": ".py",
   "mimetype": "text/x-python",
   "name": "python",
   "nbconvert_exporter": "python",
   "pygments_lexer": "ipython3",
   "version": "3.8.6"
  }
 },
 "nbformat": 4,
 "nbformat_minor": 5
}
