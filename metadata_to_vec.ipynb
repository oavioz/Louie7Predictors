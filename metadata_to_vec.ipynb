{
 "cells": [
  {
   "cell_type": "code",
   "execution_count": 1,
   "id": "e6f738c5",
   "metadata": {},
   "outputs": [],
   "source": [
    "import numpy as np\n",
    "import pandas as pd\n",
    "import json\n",
    "import codecs\n",
    "import datetime\n",
    "import os\n",
    "import sys"
   ]
  },
  {
   "cell_type": "code",
   "execution_count": 2,
   "id": "d39d28ee",
   "metadata": {},
   "outputs": [],
   "source": [
    "sys.path.append('.')"
   ]
  },
  {
   "cell_type": "code",
   "execution_count": 3,
   "id": "64dbee8d",
   "metadata": {},
   "outputs": [],
   "source": [
    "import matplotlib as mpl\n",
    "import matplotlib.pyplot as plt\n"
   ]
  },
  {
   "cell_type": "code",
   "execution_count": 4,
   "id": "f5caef77",
   "metadata": {},
   "outputs": [],
   "source": [
    "import oci\n",
    "import json\n",
    "from oci.config import validate_config"
   ]
  },
  {
   "cell_type": "code",
   "execution_count": 5,
   "id": "08beb884",
   "metadata": {},
   "outputs": [],
   "source": [
    "tenancyId=\"ocid1.tenancy.oc1..aaaaaaaahkzl4rzvgxjfnrfcj7rzlsdav25h7tsx7kjxyv2bmwkfpzpag26q\" # Your tenancies OCID.\n",
    "authUserId=\"ocid1.user.oc1..aaaaaaaayltryoz33ole5eubwphwijkcvmi4ukbombh4aym2crp5j6xqxaxq\" # The OCID of the user ID being used.\n",
    "OCI_KEY_PATH=\"/home/datascience/.oci/oci_api_key.pem\" # Path of the key file.\n",
    "keyFingerprint=\"9a:47:38:96:c8:4d:bf:7e:32:3d:7c:c3:24:23:71:35\" # The fingerprint of the key file being used\n",
    "namespace = \"lrzustouvvrg\"\n",
    "bucket_name = \"sdk-initial-data-bucket\"\n",
    "config = {\n",
    "    \"user\": authUserId,\n",
    "    \"key_file\": OCI_KEY_PATH,\n",
    "    \"fingerprint\": keyFingerprint,\n",
    "    \"tenancy\": tenancyId,\n",
    "    \"region\": \"uk-london-1\"\n",
    "}"
   ]
  },
  {
   "cell_type": "code",
   "execution_count": 6,
   "id": "f322e0b4",
   "metadata": {},
   "outputs": [],
   "source": [
    "validate_config(config)"
   ]
  },
  {
   "cell_type": "code",
   "execution_count": 7,
   "id": "8b4c2fbe",
   "metadata": {},
   "outputs": [],
   "source": [
    "object_storage_client = oci.object_storage.ObjectStorageClient(config)\n",
    "next_starts_with = None\n",
    "object_list = object_storage_client.list_objects(namespace, bucket_name , fields='name, timeCreated, size', start=next_starts_with)"
   ]
  },
  {
   "cell_type": "code",
   "execution_count": 8,
   "id": "fc208c7d",
   "metadata": {},
   "outputs": [],
   "source": [
    "f = object_list.data.objects"
   ]
  },
  {
   "cell_type": "code",
   "execution_count": 9,
   "id": "7e8f4f71",
   "metadata": {},
   "outputs": [
    {
     "data": {
      "text/plain": [
       "{\n",
       "  \"archival_state\": null,\n",
       "  \"etag\": null,\n",
       "  \"md5\": null,\n",
       "  \"name\": \"005b6c49-c4ed-438b-9092-ad02ed4d672e_26-07-2021_13-36-18.json\",\n",
       "  \"size\": 530965,\n",
       "  \"storage_tier\": null,\n",
       "  \"time_created\": \"2021-07-26T05:36:31.229000+00:00\",\n",
       "  \"time_modified\": null\n",
       "}"
      ]
     },
     "execution_count": 9,
     "metadata": {},
     "output_type": "execute_result"
    }
   ],
   "source": [
    "f[0]"
   ]
  },
  {
   "cell_type": "code",
   "execution_count": 10,
   "id": "959b6029",
   "metadata": {},
   "outputs": [
    {
     "data": {
      "text/plain": [
       "{\n",
       "  \"archival_state\": null,\n",
       "  \"etag\": null,\n",
       "  \"md5\": null,\n",
       "  \"name\": \"005b6c49-c4ed-438b-9092-ad02ed4d672e_26-07-2021_13-36-18.json\",\n",
       "  \"size\": 530965,\n",
       "  \"storage_tier\": null,\n",
       "  \"time_created\": \"2021-07-26T05:36:31.229000+00:00\",\n",
       "  \"time_modified\": null\n",
       "}"
      ]
     },
     "execution_count": 10,
     "metadata": {},
     "output_type": "execute_result"
    }
   ],
   "source": [
    "object_list.data.objects[0]"
   ]
  },
  {
   "cell_type": "code",
   "execution_count": 11,
   "id": "14b2daf5",
   "metadata": {},
   "outputs": [
    {
     "data": {
      "text/plain": [
       "1000"
      ]
     },
     "execution_count": 11,
     "metadata": {},
     "output_type": "execute_result"
    }
   ],
   "source": [
    "len(f)"
   ]
  },
  {
   "cell_type": "code",
   "execution_count": 12,
   "id": "645b6210",
   "metadata": {},
   "outputs": [],
   "source": [
    "obj = object_storage_client.get_object(namespace, bucket_name, f[0].name).data"
   ]
  },
  {
   "cell_type": "code",
   "execution_count": 13,
   "id": "bf87471f",
   "metadata": {},
   "outputs": [
    {
     "data": {
      "text/plain": [
       "bytes"
      ]
     },
     "execution_count": 13,
     "metadata": {},
     "output_type": "execute_result"
    }
   ],
   "source": [
    "type(obj.content)"
   ]
  },
  {
   "cell_type": "code",
   "execution_count": 14,
   "id": "dff4c763",
   "metadata": {},
   "outputs": [],
   "source": [
    "j_obj = json.loads(obj.content)"
   ]
  },
  {
   "cell_type": "code",
   "execution_count": 15,
   "id": "ef7118cb",
   "metadata": {},
   "outputs": [
    {
     "data": {
      "text/plain": [
       "dict"
      ]
     },
     "execution_count": 15,
     "metadata": {},
     "output_type": "execute_result"
    }
   ],
   "source": [
    "type(j_obj)"
   ]
  },
  {
   "cell_type": "code",
   "execution_count": 10,
   "id": "b945e958",
   "metadata": {},
   "outputs": [],
   "source": [
    "from vector_creator.score_vectors_assembly import score_vector_from_bucket, normalize_scores"
   ]
  },
  {
   "cell_type": "code",
   "execution_count": null,
   "id": "16ad244b",
   "metadata": {},
   "outputs": [],
   "source": [
    "res0 = score_vector_from_bucket(object_storage_client, 'photo-gallery', next_starts_with)"
   ]
  },
  {
   "cell_type": "code",
   "execution_count": 12,
   "id": "990296f7",
   "metadata": {},
   "outputs": [],
   "source": [
    "res0.to_csv('csv_files/photo_gallery_kobi_ver.csv')"
   ]
  },
  {
   "cell_type": "code",
   "execution_count": 13,
   "id": "f778336d",
   "metadata": {},
   "outputs": [],
   "source": [
    "next_starts_with = object_list.data.next_start_with"
   ]
  },
  {
   "cell_type": "code",
   "execution_count": 14,
   "id": "48bc4952",
   "metadata": {},
   "outputs": [
    {
     "data": {
      "text/plain": [
       "{\n",
       "  \"archival_state\": null,\n",
       "  \"etag\": null,\n",
       "  \"md5\": null,\n",
       "  \"name\": \"790cffbe-32d1-4c89-b22f-43bbdd3fe6be_13-07-2021_00-28-38.json\",\n",
       "  \"size\": 62083,\n",
       "  \"storage_tier\": null,\n",
       "  \"time_created\": \"2021-07-12T16:26:22.891000+00:00\",\n",
       "  \"time_modified\": null\n",
       "}"
      ]
     },
     "execution_count": 14,
     "metadata": {},
     "output_type": "execute_result"
    }
   ],
   "source": [
    "osc = object_storage_client.list_objects(namespace, bucket_name, start=next_starts_with, fields='name, timeCreated, size')\n",
    "g = osc.data.objects\n",
    "g[0]"
   ]
  },
  {
   "cell_type": "code",
   "execution_count": 15,
   "id": "731734b4",
   "metadata": {},
   "outputs": [
    {
     "data": {
      "text/plain": [
       "1000"
      ]
     },
     "execution_count": 15,
     "metadata": {},
     "output_type": "execute_result"
    }
   ],
   "source": [
    "len(g)"
   ]
  },
  {
   "cell_type": "code",
   "execution_count": null,
   "id": "a40f1ff1",
   "metadata": {},
   "outputs": [],
   "source": [
    "res1 = score_vector_from_bucket(object_storage_client, 'photo-gallery', next_starts_with)"
   ]
  },
  {
   "cell_type": "code",
   "execution_count": 17,
   "id": "e758bf7a",
   "metadata": {},
   "outputs": [],
   "source": [
    "res1.to_csv('csv_files/photo_gallery_kobi_ver_2.csv')"
   ]
  },
  {
   "cell_type": "code",
   "execution_count": 18,
   "id": "e182e3dc",
   "metadata": {},
   "outputs": [],
   "source": [
    "res = res0.append(res1)"
   ]
  },
  {
   "cell_type": "code",
   "execution_count": 29,
   "id": "14eaec69",
   "metadata": {},
   "outputs": [
    {
     "data": {
      "text/plain": [
       "(811, 27)"
      ]
     },
     "execution_count": 29,
     "metadata": {},
     "output_type": "execute_result"
    }
   ],
   "source": [
    "res.shape"
   ]
  },
  {
   "cell_type": "code",
   "execution_count": 20,
   "id": "ce06d8ad",
   "metadata": {},
   "outputs": [],
   "source": [
    "res.to_csv('csv_files/photo_gallery_kobi_ver_full.csv')"
   ]
  },
  {
   "cell_type": "code",
   "execution_count": null,
   "id": "c553c1b5",
   "metadata": {},
   "outputs": [],
   "source": [
    "next_starts_with = object_list.data.next_start_with"
   ]
  },
  {
   "cell_type": "code",
   "execution_count": null,
   "id": "893935ad",
   "metadata": {},
   "outputs": [],
   "source": [
    "osc = object_storage_client.list_objects(namespace, bucket_name, start=next_starts_with, fields='name, timeCreated, size')\n",
    "g = osc.data.objects\n",
    "g[0]"
   ]
  },
  {
   "cell_type": "code",
   "execution_count": null,
   "id": "b243d3fe",
   "metadata": {},
   "outputs": [],
   "source": [
    "len(g)"
   ]
  },
  {
   "cell_type": "code",
   "execution_count": null,
   "id": "8e2cd2dc",
   "metadata": {},
   "outputs": [],
   "source": [
    "res2 = score_vector_from_bucket(object_storage_client, 'photo-gallery', next_starts_with)"
   ]
  },
  {
   "cell_type": "code",
   "execution_count": null,
   "id": "3a13f714",
   "metadata": {},
   "outputs": [],
   "source": [
    "res.to_csv('score_vec_photogallery_aggresive.csv')"
   ]
  },
  {
   "cell_type": "code",
   "execution_count": 42,
   "id": "66d5629f",
   "metadata": {},
   "outputs": [
    {
     "data": {
      "text/plain": [
       "True"
      ]
     },
     "execution_count": 42,
     "metadata": {},
     "output_type": "execute_result"
    }
   ],
   "source": [
    "res.index.is_unique"
   ]
  },
  {
   "cell_type": "code",
   "execution_count": 43,
   "id": "433dad99",
   "metadata": {},
   "outputs": [],
   "source": [
    "inxs = res.index.values"
   ]
  },
  {
   "cell_type": "code",
   "execution_count": 44,
   "id": "75e8dddf",
   "metadata": {},
   "outputs": [
    {
     "data": {
      "text/plain": [
       "811"
      ]
     },
     "execution_count": 44,
     "metadata": {},
     "output_type": "execute_result"
    }
   ],
   "source": [
    "len(inxs)"
   ]
  },
  {
   "cell_type": "code",
   "execution_count": 30,
   "id": "faefe508",
   "metadata": {},
   "outputs": [],
   "source": [
    "from sklearn.manifold import TSNE\n",
    "from sklearn.decomposition import PCA\n",
    "from sklearn.cluster import KMeans, MeanShift, estimate_bandwidth"
   ]
  },
  {
   "cell_type": "code",
   "execution_count": 31,
   "id": "f9cd6366",
   "metadata": {},
   "outputs": [],
   "source": [
    "import seaborn as sns\n",
    "import matplotlib.pyplot as plt\n",
    "from itertools import cycle\n",
    "import pandas as pd"
   ]
  },
  {
   "cell_type": "code",
   "execution_count": 32,
   "id": "e53d9622",
   "metadata": {},
   "outputs": [],
   "source": [
    "def normalize_scores(df, method):\n",
    "    df_scale = df.transpose()\n",
    "    if len(df) > 20:\n",
    "        df_scale =  z_score(df_scale) if method == 'z-score' else minmax_scale(df_scale)\n",
    "    return df_scale.transpose()"
   ]
  },
  {
   "cell_type": "code",
   "execution_count": 33,
   "id": "ccbba8e2",
   "metadata": {},
   "outputs": [],
   "source": [
    "from vector_creator.stats_models.estimators import *"
   ]
  },
  {
   "cell_type": "code",
   "execution_count": 34,
   "id": "99fd129c",
   "metadata": {},
   "outputs": [],
   "source": [
    "nr = normalize_scores(res, 'min-max')"
   ]
  },
  {
   "cell_type": "code",
   "execution_count": 35,
   "id": "1da23531",
   "metadata": {},
   "outputs": [],
   "source": [
    "nz = normalize_scores(res, 'z-score')"
   ]
  },
  {
   "cell_type": "code",
   "execution_count": 36,
   "id": "b4863e0e",
   "metadata": {},
   "outputs": [
    {
     "data": {
      "text/plain": [
       "numpy.ndarray"
      ]
     },
     "execution_count": 36,
     "metadata": {},
     "output_type": "execute_result"
    }
   ],
   "source": [
    "type(nr)"
   ]
  },
  {
   "cell_type": "code",
   "execution_count": 270,
   "id": "98e61cdc",
   "metadata": {},
   "outputs": [
    {
     "data": {
      "text/plain": [
       "(811, 27)"
      ]
     },
     "execution_count": 270,
     "metadata": {},
     "output_type": "execute_result"
    }
   ],
   "source": [
    "nz.shape"
   ]
  },
  {
   "cell_type": "markdown",
   "id": "18e6d17d",
   "metadata": {},
   "source": [
    "--> Start tSNE for 2D "
   ]
  },
  {
   "cell_type": "code",
   "execution_count": 38,
   "id": "2beba679",
   "metadata": {},
   "outputs": [],
   "source": [
    "tsne = TSNE(n_components=2, verbose=1, perplexity=50, n_iter=300, method='exact')"
   ]
  },
  {
   "cell_type": "code",
   "execution_count": 39,
   "id": "d98b01ea",
   "metadata": {},
   "outputs": [
    {
     "name": "stdout",
     "output_type": "stream",
     "text": [
      "[t-SNE] Computing pairwise distances...\n",
      "[t-SNE] Computed conditional probabilities for sample 811 / 811\n",
      "[t-SNE] Mean sigma: 1.346275\n",
      "[t-SNE] KL divergence after 250 iterations with early exaggeration: 60.814583\n",
      "[t-SNE] KL divergence after 300 iterations: 0.808069\n"
     ]
    }
   ],
   "source": [
    "tsne_res = tsne.fit_transform(nz)"
   ]
  },
  {
   "cell_type": "code",
   "execution_count": 45,
   "id": "dccb181c",
   "metadata": {},
   "outputs": [],
   "source": [
    "df = pd.DataFrame(tsne_res, columns=['x_col', 'y_col'], index=inxs)"
   ]
  },
  {
   "cell_type": "code",
   "execution_count": 46,
   "id": "32685464",
   "metadata": {},
   "outputs": [
    {
     "data": {
      "text/plain": [
       "(811, 2)"
      ]
     },
     "execution_count": 46,
     "metadata": {},
     "output_type": "execute_result"
    }
   ],
   "source": [
    "df.shape"
   ]
  },
  {
   "cell_type": "code",
   "execution_count": 271,
   "id": "85d71f08",
   "metadata": {},
   "outputs": [
    {
     "data": {
      "text/html": [
       "<div>\n",
       "<style scoped>\n",
       "    .dataframe tbody tr th:only-of-type {\n",
       "        vertical-align: middle;\n",
       "    }\n",
       "\n",
       "    .dataframe tbody tr th {\n",
       "        vertical-align: top;\n",
       "    }\n",
       "\n",
       "    .dataframe thead th {\n",
       "        text-align: right;\n",
       "    }\n",
       "</style>\n",
       "<table border=\"1\" class=\"dataframe\">\n",
       "  <thead>\n",
       "    <tr style=\"text-align: right;\">\n",
       "      <th></th>\n",
       "      <th>x_col</th>\n",
       "      <th>y_col</th>\n",
       "    </tr>\n",
       "  </thead>\n",
       "  <tbody>\n",
       "    <tr>\n",
       "      <th>005b6c49-c4ed-438b-9092-ad02ed4d672e</th>\n",
       "      <td>-6.445101</td>\n",
       "      <td>-9.459874</td>\n",
       "    </tr>\n",
       "    <tr>\n",
       "      <th>007a0785-1321-4112-be89-e6549a4725a2</th>\n",
       "      <td>-6.622664</td>\n",
       "      <td>8.609216</td>\n",
       "    </tr>\n",
       "    <tr>\n",
       "      <th>00e37960-250f-4185-94ac-143b319730e3</th>\n",
       "      <td>9.927461</td>\n",
       "      <td>-6.759468</td>\n",
       "    </tr>\n",
       "    <tr>\n",
       "      <th>025aa94c-bbf4-4e15-9ba1-7a7c18153fce</th>\n",
       "      <td>13.009322</td>\n",
       "      <td>-8.127320</td>\n",
       "    </tr>\n",
       "    <tr>\n",
       "      <th>03363918-9d74-4668-89bf-46ea1f05e802</th>\n",
       "      <td>0.846786</td>\n",
       "      <td>-1.998743</td>\n",
       "    </tr>\n",
       "  </tbody>\n",
       "</table>\n",
       "</div>"
      ],
      "text/plain": [
       "                                          x_col     y_col\n",
       "005b6c49-c4ed-438b-9092-ad02ed4d672e  -6.445101 -9.459874\n",
       "007a0785-1321-4112-be89-e6549a4725a2  -6.622664  8.609216\n",
       "00e37960-250f-4185-94ac-143b319730e3   9.927461 -6.759468\n",
       "025aa94c-bbf4-4e15-9ba1-7a7c18153fce  13.009322 -8.127320\n",
       "03363918-9d74-4668-89bf-46ea1f05e802   0.846786 -1.998743"
      ]
     },
     "execution_count": 271,
     "metadata": {},
     "output_type": "execute_result"
    }
   ],
   "source": [
    "df.head(5)"
   ]
  },
  {
   "cell_type": "code",
   "execution_count": 48,
   "id": "219c0d93",
   "metadata": {},
   "outputs": [
    {
     "data": {
      "text/plain": [
       "<AxesSubplot:xlabel='x_col', ylabel='y_col'>"
      ]
     },
     "execution_count": 48,
     "metadata": {},
     "output_type": "execute_result"
    },
    {
     "data": {
      "image/png": "[encoded data removed]",
      "text/plain": [
       "<Figure size 720x576 with 1 Axes>"
      ]
     },
     "metadata": {
      "needs_background": "light"
     },
     "output_type": "display_data"
    }
   ],
   "source": [
    "plt.figure(figsize=(10,8))\n",
    "sns.scatterplot(\n",
    "    x='x_col', \n",
    "    y='y_col',\n",
    "    data=df\n",
    ")"
   ]
  },
  {
   "cell_type": "markdown",
   "id": "369978d8",
   "metadata": {},
   "source": [
    "--> Mean Shift for tSNE-2D data frame"
   ]
  },
  {
   "cell_type": "code",
   "execution_count": 333,
   "id": "2128b842",
   "metadata": {},
   "outputs": [],
   "source": [
    "bandwidth = estimate_bandwidth(df, quantile=0.10)"
   ]
  },
  {
   "cell_type": "code",
   "execution_count": 334,
   "id": "48b112e5",
   "metadata": {},
   "outputs": [
    {
     "data": {
      "text/plain": [
       "MeanShift(bandwidth=4.744894453228165, bin_seeding=True)"
      ]
     },
     "execution_count": 334,
     "metadata": {},
     "output_type": "execute_result"
    }
   ],
   "source": [
    "ms = MeanShift(bandwidth=bandwidth, bin_seeding=True)\n",
    "ms.fit(df)"
   ]
  },
  {
   "cell_type": "code",
   "execution_count": 335,
   "id": "ee8b7240",
   "metadata": {},
   "outputs": [],
   "source": [
    "labels = ms.labels_\n",
    "cluster_centers = ms.cluster_centers_\n",
    "labels_unique = np.unique(labels)\n",
    "n_clusters_ = len(labels_unique)"
   ]
  },
  {
   "cell_type": "code",
   "execution_count": 336,
   "id": "04e3e9ca",
   "metadata": {},
   "outputs": [
    {
     "data": {
      "text/plain": [
       "array([[ 10.98191  ,  -6.0501146],\n",
       "       [  4.809356 ,  -0.571983 ],\n",
       "       [ -1.1091182,   5.059934 ],\n",
       "       [ -4.0286922, -10.967394 ],\n",
       "       [ -9.612223 ,  13.573589 ],\n",
       "       [ -9.498581 ,   2.0001378],\n",
       "       [  5.5599613,  -9.6128   ],\n",
       "       [ -4.1020365,  -4.587527 ]], dtype=float32)"
      ]
     },
     "execution_count": 336,
     "metadata": {},
     "output_type": "execute_result"
    }
   ],
   "source": [
    "cluster_centers"
   ]
  },
  {
   "cell_type": "code",
   "execution_count": 337,
   "id": "4f3b47c6",
   "metadata": {},
   "outputs": [
    {
     "data": {
      "text/plain": [
       "array([0, 1, 2, 3, 4, 5, 6, 7])"
      ]
     },
     "execution_count": 337,
     "metadata": {},
     "output_type": "execute_result"
    }
   ],
   "source": [
    "labels_unique"
   ]
  },
  {
   "cell_type": "markdown",
   "id": "a733bf38",
   "metadata": {},
   "source": [
    "--> Plot tSNE mean-shift 2D with uids as index to df "
   ]
  },
  {
   "cell_type": "code",
   "execution_count": 338,
   "id": "32069fee",
   "metadata": {},
   "outputs": [
    {
     "name": "stdout",
     "output_type": "stream",
     "text": [
      "b [10.98191   -6.0501146] 0\n",
      "g [ 4.809356 -0.571983] 1\n",
      "r [-1.1091182  5.059934 ] 2\n",
      "c [ -4.0286922 -10.967394 ] 3\n",
      "m [-9.612223 13.573589] 4\n",
      "y [-9.498581   2.0001378] 5\n",
      "k [ 5.5599613 -9.6128   ] 6\n",
      "b [-4.1020365 -4.587527 ] 7\n"
     ]
    },
    {
     "data": {
      "image/png": "[encoded data removed]",
      "text/plain": [
       "<Figure size 720x576 with 1 Axes>"
      ]
     },
     "metadata": {
      "needs_background": "light"
     },
     "output_type": "display_data"
    }
   ],
   "source": [
    "plt.figure(figsize=(10,8))\n",
    "plt.clf()\n",
    "X = df.values\n",
    "colors = cycle('bgrcmykbgrcmykbgrcmykbgrcmyk')\n",
    "for k, col in zip(range(n_clusters_), colors):\n",
    "    my_members = labels == k\n",
    "    print(col, cluster_centers[k], k)\n",
    "    cluster_center = cluster_centers[k]\n",
    "    plt.plot(X[my_members, 0], X[my_members, 1], col + '.')\n",
    "    plt.plot(cluster_center[0], cluster_center[1], 'o', markerfacecolor=col,\n",
    "             markeredgecolor='k', markersize=14)\n",
    "plt.title('Estimated number of clusters: %d' % n_clusters_)\n",
    "plt.show()"
   ]
  },
  {
   "cell_type": "code",
   "execution_count": 339,
   "id": "731df399",
   "metadata": {},
   "outputs": [],
   "source": [
    "lbls = np.unique(ms.labels_)"
   ]
  },
  {
   "cell_type": "code",
   "execution_count": 340,
   "id": "4f96c915",
   "metadata": {},
   "outputs": [],
   "source": [
    "res['labels']= ms.labels_"
   ]
  },
  {
   "cell_type": "code",
   "execution_count": 341,
   "id": "d8a45133",
   "metadata": {},
   "outputs": [
    {
     "data": {
      "text/html": [
       "<div>\n",
       "<style scoped>\n",
       "    .dataframe tbody tr th:only-of-type {\n",
       "        vertical-align: middle;\n",
       "    }\n",
       "\n",
       "    .dataframe tbody tr th {\n",
       "        vertical-align: top;\n",
       "    }\n",
       "\n",
       "    .dataframe thead th {\n",
       "        text-align: right;\n",
       "    }\n",
       "</style>\n",
       "<table border=\"1\" class=\"dataframe\">\n",
       "  <thead>\n",
       "    <tr style=\"text-align: right;\">\n",
       "      <th>description</th>\n",
       "      <th>mean daily number photos</th>\n",
       "      <th>std daily number photos</th>\n",
       "      <th>huber mean daily number photos</th>\n",
       "      <th>huber std daily number photos</th>\n",
       "      <th>mean number of photos in burst</th>\n",
       "      <th>mean number of bursts a week</th>\n",
       "      <th>mean night time number photos</th>\n",
       "      <th>std night time number photos</th>\n",
       "      <th>huber mean night time number photos</th>\n",
       "      <th>huber std night time number photos</th>\n",
       "      <th>...</th>\n",
       "      <th>mean work days number photos</th>\n",
       "      <th>std work days number photos</th>\n",
       "      <th>huber mean work days number photos</th>\n",
       "      <th>huber std work days number photos</th>\n",
       "      <th>ar daily num of photos lag-1</th>\n",
       "      <th>ar daily num of photos lag-2</th>\n",
       "      <th>ar daily num of photos lag-4</th>\n",
       "      <th>entropy on photo category</th>\n",
       "      <th>entropy on daily photos</th>\n",
       "      <th>labels</th>\n",
       "    </tr>\n",
       "  </thead>\n",
       "  <tbody>\n",
       "    <tr>\n",
       "      <th>005b6c49-c4ed-438b-9092-ad02ed4d672e</th>\n",
       "      <td>5.371968</td>\n",
       "      <td>11.820840</td>\n",
       "      <td>3.001997</td>\n",
       "      <td>2.406267</td>\n",
       "      <td>1.233292</td>\n",
       "      <td>2.675497</td>\n",
       "      <td>5.200000</td>\n",
       "      <td>12.277594</td>\n",
       "      <td>2.581362</td>\n",
       "      <td>1.972111</td>\n",
       "      <td>...</td>\n",
       "      <td>5.477612</td>\n",
       "      <td>12.847682</td>\n",
       "      <td>2.902985</td>\n",
       "      <td>2.301713</td>\n",
       "      <td>14.575820</td>\n",
       "      <td>14.730884</td>\n",
       "      <td>14.826054</td>\n",
       "      <td>0.077163</td>\n",
       "      <td>7.228774</td>\n",
       "      <td>3</td>\n",
       "    </tr>\n",
       "    <tr>\n",
       "      <th>007a0785-1321-4112-be89-e6549a4725a2</th>\n",
       "      <td>26.128205</td>\n",
       "      <td>64.759983</td>\n",
       "      <td>5.557214</td>\n",
       "      <td>5.698175</td>\n",
       "      <td>2.310658</td>\n",
       "      <td>3.230769</td>\n",
       "      <td>9.958333</td>\n",
       "      <td>20.175231</td>\n",
       "      <td>4.320968</td>\n",
       "      <td>3.919970</td>\n",
       "      <td>...</td>\n",
       "      <td>23.216667</td>\n",
       "      <td>56.811997</td>\n",
       "      <td>4.831715</td>\n",
       "      <td>4.606796</td>\n",
       "      <td>27.657266</td>\n",
       "      <td>27.783265</td>\n",
       "      <td>27.788143</td>\n",
       "      <td>0.024808</td>\n",
       "      <td>4.114481</td>\n",
       "      <td>4</td>\n",
       "    </tr>\n",
       "    <tr>\n",
       "      <th>00e37960-250f-4185-94ac-143b319730e3</th>\n",
       "      <td>4.944000</td>\n",
       "      <td>5.832741</td>\n",
       "      <td>4.048776</td>\n",
       "      <td>3.305434</td>\n",
       "      <td>1.152985</td>\n",
       "      <td>18.482759</td>\n",
       "      <td>2.901235</td>\n",
       "      <td>2.618099</td>\n",
       "      <td>2.506584</td>\n",
       "      <td>1.846115</td>\n",
       "      <td>...</td>\n",
       "      <td>5.287356</td>\n",
       "      <td>6.501827</td>\n",
       "      <td>4.224183</td>\n",
       "      <td>3.417475</td>\n",
       "      <td>4.890694</td>\n",
       "      <td>4.848025</td>\n",
       "      <td>4.526093</td>\n",
       "      <td>0.282838</td>\n",
       "      <td>6.318157</td>\n",
       "      <td>0</td>\n",
       "    </tr>\n",
       "    <tr>\n",
       "      <th>025aa94c-bbf4-4e15-9ba1-7a7c18153fce</th>\n",
       "      <td>11.486842</td>\n",
       "      <td>7.831269</td>\n",
       "      <td>11.386725</td>\n",
       "      <td>8.717991</td>\n",
       "      <td>1.310811</td>\n",
       "      <td>51.230769</td>\n",
       "      <td>7.657143</td>\n",
       "      <td>5.564905</td>\n",
       "      <td>7.374863</td>\n",
       "      <td>5.677751</td>\n",
       "      <td>...</td>\n",
       "      <td>13.037736</td>\n",
       "      <td>8.070356</td>\n",
       "      <td>12.988232</td>\n",
       "      <td>9.133273</td>\n",
       "      <td>7.515937</td>\n",
       "      <td>7.685804</td>\n",
       "      <td>7.569735</td>\n",
       "      <td>0.000000</td>\n",
       "      <td>5.882369</td>\n",
       "      <td>0</td>\n",
       "    </tr>\n",
       "    <tr>\n",
       "      <th>03363918-9d74-4668-89bf-46ea1f05e802</th>\n",
       "      <td>3.669516</td>\n",
       "      <td>3.890841</td>\n",
       "      <td>2.989229</td>\n",
       "      <td>2.143765</td>\n",
       "      <td>1.260274</td>\n",
       "      <td>2.328018</td>\n",
       "      <td>2.966942</td>\n",
       "      <td>3.436397</td>\n",
       "      <td>2.396525</td>\n",
       "      <td>1.628969</td>\n",
       "      <td>...</td>\n",
       "      <td>3.609053</td>\n",
       "      <td>3.288501</td>\n",
       "      <td>3.019313</td>\n",
       "      <td>2.118362</td>\n",
       "      <td>1.098323</td>\n",
       "      <td>1.090561</td>\n",
       "      <td>0.973541</td>\n",
       "      <td>0.110858</td>\n",
       "      <td>7.913938</td>\n",
       "      <td>1</td>\n",
       "    </tr>\n",
       "  </tbody>\n",
       "</table>\n",
       "<p>5 rows × 28 columns</p>\n",
       "</div>"
      ],
      "text/plain": [
       "description                           mean daily number photos  \\\n",
       "005b6c49-c4ed-438b-9092-ad02ed4d672e                  5.371968   \n",
       "007a0785-1321-4112-be89-e6549a4725a2                 26.128205   \n",
       "00e37960-250f-4185-94ac-143b319730e3                  4.944000   \n",
       "025aa94c-bbf4-4e15-9ba1-7a7c18153fce                 11.486842   \n",
       "03363918-9d74-4668-89bf-46ea1f05e802                  3.669516   \n",
       "\n",
       "description                           std daily number photos  \\\n",
       "005b6c49-c4ed-438b-9092-ad02ed4d672e                11.820840   \n",
       "007a0785-1321-4112-be89-e6549a4725a2                64.759983   \n",
       "00e37960-250f-4185-94ac-143b319730e3                 5.832741   \n",
       "025aa94c-bbf4-4e15-9ba1-7a7c18153fce                 7.831269   \n",
       "03363918-9d74-4668-89bf-46ea1f05e802                 3.890841   \n",
       "\n",
       "description                           huber mean daily number photos  \\\n",
       "005b6c49-c4ed-438b-9092-ad02ed4d672e                        3.001997   \n",
       "007a0785-1321-4112-be89-e6549a4725a2                        5.557214   \n",
       "00e37960-250f-4185-94ac-143b319730e3                        4.048776   \n",
       "025aa94c-bbf4-4e15-9ba1-7a7c18153fce                       11.386725   \n",
       "03363918-9d74-4668-89bf-46ea1f05e802                        2.989229   \n",
       "\n",
       "description                           huber std daily number photos  \\\n",
       "005b6c49-c4ed-438b-9092-ad02ed4d672e                       2.406267   \n",
       "007a0785-1321-4112-be89-e6549a4725a2                       5.698175   \n",
       "00e37960-250f-4185-94ac-143b319730e3                       3.305434   \n",
       "025aa94c-bbf4-4e15-9ba1-7a7c18153fce                       8.717991   \n",
       "03363918-9d74-4668-89bf-46ea1f05e802                       2.143765   \n",
       "\n",
       "description                           mean number of photos in burst  \\\n",
       "005b6c49-c4ed-438b-9092-ad02ed4d672e                        1.233292   \n",
       "007a0785-1321-4112-be89-e6549a4725a2                        2.310658   \n",
       "00e37960-250f-4185-94ac-143b319730e3                        1.152985   \n",
       "025aa94c-bbf4-4e15-9ba1-7a7c18153fce                        1.310811   \n",
       "03363918-9d74-4668-89bf-46ea1f05e802                        1.260274   \n",
       "\n",
       "description                           mean number of bursts a week  \\\n",
       "005b6c49-c4ed-438b-9092-ad02ed4d672e                      2.675497   \n",
       "007a0785-1321-4112-be89-e6549a4725a2                      3.230769   \n",
       "00e37960-250f-4185-94ac-143b319730e3                     18.482759   \n",
       "025aa94c-bbf4-4e15-9ba1-7a7c18153fce                     51.230769   \n",
       "03363918-9d74-4668-89bf-46ea1f05e802                      2.328018   \n",
       "\n",
       "description                           mean night time number photos  \\\n",
       "005b6c49-c4ed-438b-9092-ad02ed4d672e                       5.200000   \n",
       "007a0785-1321-4112-be89-e6549a4725a2                       9.958333   \n",
       "00e37960-250f-4185-94ac-143b319730e3                       2.901235   \n",
       "025aa94c-bbf4-4e15-9ba1-7a7c18153fce                       7.657143   \n",
       "03363918-9d74-4668-89bf-46ea1f05e802                       2.966942   \n",
       "\n",
       "description                           std night time number photos  \\\n",
       "005b6c49-c4ed-438b-9092-ad02ed4d672e                     12.277594   \n",
       "007a0785-1321-4112-be89-e6549a4725a2                     20.175231   \n",
       "00e37960-250f-4185-94ac-143b319730e3                      2.618099   \n",
       "025aa94c-bbf4-4e15-9ba1-7a7c18153fce                      5.564905   \n",
       "03363918-9d74-4668-89bf-46ea1f05e802                      3.436397   \n",
       "\n",
       "description                           huber mean night time number photos  \\\n",
       "005b6c49-c4ed-438b-9092-ad02ed4d672e                             2.581362   \n",
       "007a0785-1321-4112-be89-e6549a4725a2                             4.320968   \n",
       "00e37960-250f-4185-94ac-143b319730e3                             2.506584   \n",
       "025aa94c-bbf4-4e15-9ba1-7a7c18153fce                             7.374863   \n",
       "03363918-9d74-4668-89bf-46ea1f05e802                             2.396525   \n",
       "\n",
       "description                           huber std night time number photos  ...  \\\n",
       "005b6c49-c4ed-438b-9092-ad02ed4d672e                            1.972111  ...   \n",
       "007a0785-1321-4112-be89-e6549a4725a2                            3.919970  ...   \n",
       "00e37960-250f-4185-94ac-143b319730e3                            1.846115  ...   \n",
       "025aa94c-bbf4-4e15-9ba1-7a7c18153fce                            5.677751  ...   \n",
       "03363918-9d74-4668-89bf-46ea1f05e802                            1.628969  ...   \n",
       "\n",
       "description                           mean work days number photos  \\\n",
       "005b6c49-c4ed-438b-9092-ad02ed4d672e                      5.477612   \n",
       "007a0785-1321-4112-be89-e6549a4725a2                     23.216667   \n",
       "00e37960-250f-4185-94ac-143b319730e3                      5.287356   \n",
       "025aa94c-bbf4-4e15-9ba1-7a7c18153fce                     13.037736   \n",
       "03363918-9d74-4668-89bf-46ea1f05e802                      3.609053   \n",
       "\n",
       "description                           std work days number photos  \\\n",
       "005b6c49-c4ed-438b-9092-ad02ed4d672e                    12.847682   \n",
       "007a0785-1321-4112-be89-e6549a4725a2                    56.811997   \n",
       "00e37960-250f-4185-94ac-143b319730e3                     6.501827   \n",
       "025aa94c-bbf4-4e15-9ba1-7a7c18153fce                     8.070356   \n",
       "03363918-9d74-4668-89bf-46ea1f05e802                     3.288501   \n",
       "\n",
       "description                           huber mean work days number photos  \\\n",
       "005b6c49-c4ed-438b-9092-ad02ed4d672e                            2.902985   \n",
       "007a0785-1321-4112-be89-e6549a4725a2                            4.831715   \n",
       "00e37960-250f-4185-94ac-143b319730e3                            4.224183   \n",
       "025aa94c-bbf4-4e15-9ba1-7a7c18153fce                           12.988232   \n",
       "03363918-9d74-4668-89bf-46ea1f05e802                            3.019313   \n",
       "\n",
       "description                           huber std work days number photos  \\\n",
       "005b6c49-c4ed-438b-9092-ad02ed4d672e                           2.301713   \n",
       "007a0785-1321-4112-be89-e6549a4725a2                           4.606796   \n",
       "00e37960-250f-4185-94ac-143b319730e3                           3.417475   \n",
       "025aa94c-bbf4-4e15-9ba1-7a7c18153fce                           9.133273   \n",
       "03363918-9d74-4668-89bf-46ea1f05e802                           2.118362   \n",
       "\n",
       "description                           ar daily num of photos lag-1  \\\n",
       "005b6c49-c4ed-438b-9092-ad02ed4d672e                     14.575820   \n",
       "007a0785-1321-4112-be89-e6549a4725a2                     27.657266   \n",
       "00e37960-250f-4185-94ac-143b319730e3                      4.890694   \n",
       "025aa94c-bbf4-4e15-9ba1-7a7c18153fce                      7.515937   \n",
       "03363918-9d74-4668-89bf-46ea1f05e802                      1.098323   \n",
       "\n",
       "description                           ar daily num of photos lag-2  \\\n",
       "005b6c49-c4ed-438b-9092-ad02ed4d672e                     14.730884   \n",
       "007a0785-1321-4112-be89-e6549a4725a2                     27.783265   \n",
       "00e37960-250f-4185-94ac-143b319730e3                      4.848025   \n",
       "025aa94c-bbf4-4e15-9ba1-7a7c18153fce                      7.685804   \n",
       "03363918-9d74-4668-89bf-46ea1f05e802                      1.090561   \n",
       "\n",
       "description                           ar daily num of photos lag-4  \\\n",
       "005b6c49-c4ed-438b-9092-ad02ed4d672e                     14.826054   \n",
       "007a0785-1321-4112-be89-e6549a4725a2                     27.788143   \n",
       "00e37960-250f-4185-94ac-143b319730e3                      4.526093   \n",
       "025aa94c-bbf4-4e15-9ba1-7a7c18153fce                      7.569735   \n",
       "03363918-9d74-4668-89bf-46ea1f05e802                      0.973541   \n",
       "\n",
       "description                           entropy on photo category  \\\n",
       "005b6c49-c4ed-438b-9092-ad02ed4d672e                   0.077163   \n",
       "007a0785-1321-4112-be89-e6549a4725a2                   0.024808   \n",
       "00e37960-250f-4185-94ac-143b319730e3                   0.282838   \n",
       "025aa94c-bbf4-4e15-9ba1-7a7c18153fce                   0.000000   \n",
       "03363918-9d74-4668-89bf-46ea1f05e802                   0.110858   \n",
       "\n",
       "description                           entropy on daily photos  labels  \n",
       "005b6c49-c4ed-438b-9092-ad02ed4d672e                 7.228774       3  \n",
       "007a0785-1321-4112-be89-e6549a4725a2                 4.114481       4  \n",
       "00e37960-250f-4185-94ac-143b319730e3                 6.318157       0  \n",
       "025aa94c-bbf4-4e15-9ba1-7a7c18153fce                 5.882369       0  \n",
       "03363918-9d74-4668-89bf-46ea1f05e802                 7.913938       1  \n",
       "\n",
       "[5 rows x 28 columns]"
      ]
     },
     "execution_count": 341,
     "metadata": {},
     "output_type": "execute_result"
    }
   ],
   "source": [
    "res.head(5)"
   ]
  },
  {
   "cell_type": "code",
   "execution_count": 348,
   "id": "69a12346",
   "metadata": {},
   "outputs": [],
   "source": [
    "def create_df_by_func(func):\n",
    "    for i in np.nditer(lbls):\n",
    "        df_lbl_i = res[res.labels == i]\n",
    "        del df_lbl_i['labels']\n",
    "        col = 'label-' + str(i)\n",
    "        if(i == 0):\n",
    "            df_median = df_lbl_i.agg(func).to_frame()\n",
    "            df_median = df_median.rename(columns = {0: col})\n",
    "        else:\n",
    "            df_median[col] = df_lbl_i.agg(func).values\n",
    "    return df_median"
   ]
  },
  {
   "cell_type": "code",
   "execution_count": 349,
   "id": "9401c34e",
   "metadata": {},
   "outputs": [],
   "source": [
    "df_med = create_df_by_func('median')"
   ]
  },
  {
   "cell_type": "code",
   "execution_count": 350,
   "id": "992780d6",
   "metadata": {},
   "outputs": [
    {
     "data": {
      "text/html": [
       "<div>\n",
       "<style scoped>\n",
       "    .dataframe tbody tr th:only-of-type {\n",
       "        vertical-align: middle;\n",
       "    }\n",
       "\n",
       "    .dataframe tbody tr th {\n",
       "        vertical-align: top;\n",
       "    }\n",
       "\n",
       "    .dataframe thead th {\n",
       "        text-align: right;\n",
       "    }\n",
       "</style>\n",
       "<table border=\"1\" class=\"dataframe\">\n",
       "  <thead>\n",
       "    <tr style=\"text-align: right;\">\n",
       "      <th></th>\n",
       "      <th>label-0</th>\n",
       "      <th>label-1</th>\n",
       "      <th>label-2</th>\n",
       "      <th>label-3</th>\n",
       "      <th>label-4</th>\n",
       "      <th>label-5</th>\n",
       "      <th>label-6</th>\n",
       "      <th>label-7</th>\n",
       "    </tr>\n",
       "    <tr>\n",
       "      <th>description</th>\n",
       "      <th></th>\n",
       "      <th></th>\n",
       "      <th></th>\n",
       "      <th></th>\n",
       "      <th></th>\n",
       "      <th></th>\n",
       "      <th></th>\n",
       "      <th></th>\n",
       "    </tr>\n",
       "  </thead>\n",
       "  <tbody>\n",
       "    <tr>\n",
       "      <th>mean daily number photos</th>\n",
       "      <td>7.637931</td>\n",
       "      <td>4.666667</td>\n",
       "      <td>7.960938</td>\n",
       "      <td>5.450949</td>\n",
       "      <td>8.949367</td>\n",
       "      <td>7.842213</td>\n",
       "      <td>7.730797</td>\n",
       "      <td>5.593512</td>\n",
       "    </tr>\n",
       "    <tr>\n",
       "      <th>std daily number photos</th>\n",
       "      <td>8.540812</td>\n",
       "      <td>6.017917</td>\n",
       "      <td>15.935382</td>\n",
       "      <td>9.009963</td>\n",
       "      <td>20.862424</td>\n",
       "      <td>17.784128</td>\n",
       "      <td>9.141933</td>\n",
       "      <td>9.004929</td>\n",
       "    </tr>\n",
       "    <tr>\n",
       "      <th>huber mean daily number photos</th>\n",
       "      <td>6.500862</td>\n",
       "      <td>3.376083</td>\n",
       "      <td>4.492023</td>\n",
       "      <td>3.571605</td>\n",
       "      <td>4.625014</td>\n",
       "      <td>3.835387</td>\n",
       "      <td>5.960674</td>\n",
       "      <td>3.856551</td>\n",
       "    </tr>\n",
       "    <tr>\n",
       "      <th>huber std daily number photos</th>\n",
       "      <td>5.299274</td>\n",
       "      <td>2.745385</td>\n",
       "      <td>3.911578</td>\n",
       "      <td>3.026282</td>\n",
       "      <td>4.329538</td>\n",
       "      <td>3.364136</td>\n",
       "      <td>5.329437</td>\n",
       "      <td>3.290594</td>\n",
       "    </tr>\n",
       "    <tr>\n",
       "      <th>mean number of photos in burst</th>\n",
       "      <td>1.248460</td>\n",
       "      <td>1.261920</td>\n",
       "      <td>1.540710</td>\n",
       "      <td>1.369057</td>\n",
       "      <td>1.871217</td>\n",
       "      <td>1.810085</td>\n",
       "      <td>1.296531</td>\n",
       "      <td>1.314863</td>\n",
       "    </tr>\n",
       "  </tbody>\n",
       "</table>\n",
       "</div>"
      ],
      "text/plain": [
       "                                 label-0   label-1    label-2   label-3  \\\n",
       "description                                                               \n",
       "mean daily number photos        7.637931  4.666667   7.960938  5.450949   \n",
       "std daily number photos         8.540812  6.017917  15.935382  9.009963   \n",
       "huber mean daily number photos  6.500862  3.376083   4.492023  3.571605   \n",
       "huber std daily number photos   5.299274  2.745385   3.911578  3.026282   \n",
       "mean number of photos in burst  1.248460  1.261920   1.540710  1.369057   \n",
       "\n",
       "                                  label-4    label-5   label-6   label-7  \n",
       "description                                                               \n",
       "mean daily number photos         8.949367   7.842213  7.730797  5.593512  \n",
       "std daily number photos         20.862424  17.784128  9.141933  9.004929  \n",
       "huber mean daily number photos   4.625014   3.835387  5.960674  3.856551  \n",
       "huber std daily number photos    4.329538   3.364136  5.329437  3.290594  \n",
       "mean number of photos in burst   1.871217   1.810085  1.296531  1.314863  "
      ]
     },
     "execution_count": 350,
     "metadata": {},
     "output_type": "execute_result"
    }
   ],
   "source": [
    "df_med.head(5)"
   ]
  },
  {
   "cell_type": "code",
   "execution_count": 356,
   "id": "27da27c1",
   "metadata": {},
   "outputs": [
    {
     "data": {
      "text/plain": [
       "<AxesSubplot:xlabel='description'>"
      ]
     },
     "execution_count": 356,
     "metadata": {},
     "output_type": "execute_result"
    },
    {
     "data": {
      "text/plain": [
       "<Figure size 432x288 with 0 Axes>"
      ]
     },
     "metadata": {},
     "output_type": "display_data"
    },
    {
     "data": {
      "image/png": "[encoded data removed]",
      "text/plain": [
       "<Figure size 432x288 with 1 Axes>"
      ]
     },
     "metadata": {
      "needs_background": "light"
     },
     "output_type": "display_data"
    }
   ],
   "source": [
    "plt.figure()\n",
    "df_med.plot.bar()"
   ]
  },
  {
   "cell_type": "code",
   "execution_count": 264,
   "id": "9ee9fbb7",
   "metadata": {},
   "outputs": [],
   "source": [
    "#del df_lbl5['labels']\n",
    "#dflbl4 = srlbl4.to_frame()\n",
    "#dflbl4.rename(columns = {0:'lvl-4'})"
   ]
  },
  {
   "cell_type": "code",
   "execution_count": 269,
   "id": "b54e1bf4",
   "metadata": {},
   "outputs": [],
   "source": [
    "excel = df0.to_excel('csv_files/photo_gallery_yellow.xlsx')"
   ]
  },
  {
   "cell_type": "code",
   "execution_count": null,
   "id": "48872540",
   "metadata": {},
   "outputs": [],
   "source": [
    "#read the tags from firebase json file for user register non register and create df with tag column\n",
    "def create_tag_df(f): # 'entries.json'\n",
    "    tag_data = json.load(codecs.open(f, 'r', 'utf-8-sig'))\n",
    "    df_tag = pd.DataFrame(tag_data)\n",
    "    df_tag = df_tag.rename(columns={'app_userid': ''})\n",
    "    dftag = df_tag.set_index('')\n",
    "    return dftag"
   ]
  },
  {
   "cell_type": "code",
   "execution_count": null,
   "id": "ef4a779a",
   "metadata": {},
   "outputs": [],
   "source": [
    "dftag = create_tag_df('entries.json')"
   ]
  },
  {
   "cell_type": "code",
   "execution_count": null,
   "id": "01fa280a",
   "metadata": {},
   "outputs": [],
   "source": [
    "dfjoin = df.join(dftag)"
   ]
  },
  {
   "cell_type": "code",
   "execution_count": null,
   "id": "41f96799",
   "metadata": {},
   "outputs": [],
   "source": [
    "len(dfjoin)"
   ]
  },
  {
   "cell_type": "code",
   "execution_count": null,
   "id": "462f2480",
   "metadata": {},
   "outputs": [],
   "source": [
    "dfjoin['User_Register'] = dfjoin['User_Register'].fillna('false')\n",
    "len(dfjoin[dfjoin.User_Register == 'false'])"
   ]
  },
  {
   "cell_type": "code",
   "execution_count": null,
   "id": "eff39119",
   "metadata": {},
   "outputs": [],
   "source": [
    "dfjoin.to_csv('csv_files/taged_aggresive_photogallery.csv')"
   ]
  },
  {
   "cell_type": "code",
   "execution_count": null,
   "id": "cd75b70a",
   "metadata": {},
   "outputs": [],
   "source": [
    "dfjoin.head(5)"
   ]
  },
  {
   "cell_type": "code",
   "execution_count": null,
   "id": "f068b027",
   "metadata": {},
   "outputs": [],
   "source": [
    "#sns.scatterplot('population', 'Area', data=df, hue='continent')\n",
    "#sns.lmplot('population', 'Area', data=df, hue='continent', fit_reg=False)\n",
    "plt.figure(figsize=(10,8))\n",
    "sns.lmplot(\n",
    "    x='x_col', \n",
    "    y='y_col',\n",
    "    data=dfjoin,\n",
    "    hue='User_Register',\n",
    "    fit_reg=False,\n",
    "    height=8,\n",
    ")\n",
    "plt.show()"
   ]
  },
  {
   "cell_type": "markdown",
   "id": "18122ccb",
   "metadata": {},
   "source": [
    "--> tSNE for 3D"
   ]
  },
  {
   "cell_type": "code",
   "execution_count": null,
   "id": "e7ff15d2",
   "metadata": {},
   "outputs": [],
   "source": [
    "tsne_3d = TSNE(n_components=3, verbose=1, perplexity=40, n_iter=300, method='exact')"
   ]
  },
  {
   "cell_type": "code",
   "execution_count": null,
   "id": "93db82f0",
   "metadata": {},
   "outputs": [],
   "source": [
    "nz.shape"
   ]
  },
  {
   "cell_type": "code",
   "execution_count": null,
   "id": "92e2f231",
   "metadata": {},
   "outputs": [],
   "source": [
    "tsne_res_3 = tsne_3d.fit_transform(nz)"
   ]
  },
  {
   "cell_type": "code",
   "execution_count": null,
   "id": "95f1286e",
   "metadata": {},
   "outputs": [],
   "source": [
    "df3 = pd.DataFrame(tsne_res_3, columns=['x_col', 'y_col', 'z_col'], index=inxs)"
   ]
  },
  {
   "cell_type": "code",
   "execution_count": null,
   "id": "61f9863a",
   "metadata": {},
   "outputs": [],
   "source": [
    "df3.head(5)"
   ]
  },
  {
   "cell_type": "code",
   "execution_count": null,
   "id": "ecb16fa6",
   "metadata": {},
   "outputs": [],
   "source": [
    "ax = plt.figure(figsize=(16,10)).gca(projection='3d')\n",
    "plt.axis()\n",
    "ax.scatter(\n",
    "    xs = df3['x_col'],\n",
    "    ys = df3['y_col'],\n",
    "    zs = df3['z_col'],\n",
    "    cmap='tab2'\n",
    ")\n",
    "ax.set_xlabel('x')\n",
    "ax.set_ylabel('y')\n",
    "ax.set_zlabel('z')\n",
    "ax.set_xlim(-10, 10)\n",
    "ax.set_ylim(-10, 10)\n",
    "ax.set_zlim(-12, 12)\n",
    "plt.show()"
   ]
  },
  {
   "cell_type": "code",
   "execution_count": null,
   "id": "d9c192d5",
   "metadata": {},
   "outputs": [],
   "source": [
    "bw = estimate_bandwidth(df3, quantile=0.2, n_samples=200)"
   ]
  },
  {
   "cell_type": "code",
   "execution_count": null,
   "id": "38daeab7",
   "metadata": {},
   "outputs": [],
   "source": [
    "ms = MeanShift(bandwidth=bw, bin_seeding=True)\n",
    "ms.fit(df3)"
   ]
  },
  {
   "cell_type": "code",
   "execution_count": null,
   "id": "6f7675ef",
   "metadata": {},
   "outputs": [],
   "source": [
    "labels = ms.labels_\n",
    "cluster_centers = ms.cluster_centers_\n",
    "labels_unique = np.unique(labels)\n",
    "n_clusters_ = len(labels_unique)"
   ]
  },
  {
   "cell_type": "code",
   "execution_count": null,
   "id": "759d3c72",
   "metadata": {},
   "outputs": [],
   "source": [
    "cluster_centers"
   ]
  },
  {
   "cell_type": "code",
   "execution_count": null,
   "id": "689b3da9",
   "metadata": {},
   "outputs": [],
   "source": [
    "fig = plt.figure()\n",
    "ax = plt.figure(figsize=(16,10)).gca(projection='3d')\n",
    "ax.view_init(45, 180)\n",
    "plt.axis()\n",
    "X = df3.values\n",
    "colors = cycle('bgrcmykbgrcmykbgrcmykbgrcmyk')\n",
    "for k, col in zip(range(n_clusters_), colors):\n",
    "    my_members = labels == k\n",
    "    cluster_center = cluster_centers[k]\n",
    "    plt.plot(X[my_members, 0], X[my_members, 1], X[my_members, 2], col + '.')\n",
    "    plt.plot(cluster_center[0], cluster_center[1], cluster_center[2], 'o', markerfacecolor=col,\n",
    "             markeredgecolor='k', markersize=14)\n",
    "plt.title('Estimated number of 3D clusters: %d' % n_clusters_)\n",
    "plt.show()"
   ]
  },
  {
   "cell_type": "code",
   "execution_count": null,
   "id": "492c9e49",
   "metadata": {},
   "outputs": [],
   "source": [
    "dfj3 = df3.join(dftag)\n",
    "dfj3['User_Register'] = dfj3['User_Register'].fillna('false')\n",
    "dfj3['User_Register'] = dfj3['User_Register'].map({'true': 'blue', 'false': 'red'})"
   ]
  },
  {
   "cell_type": "code",
   "execution_count": null,
   "id": "ae82810d",
   "metadata": {},
   "outputs": [],
   "source": [
    "len(dfj3[dfj3.User_Register == 'blue'])"
   ]
  },
  {
   "cell_type": "code",
   "execution_count": null,
   "id": "9dd20273",
   "metadata": {},
   "outputs": [],
   "source": [
    "%matplotlib inline\n",
    "#%matplotlib notebook"
   ]
  },
  {
   "cell_type": "code",
   "execution_count": null,
   "id": "7d1f7c4b",
   "metadata": {},
   "outputs": [],
   "source": [
    "from mpl_toolkits.mplot3d import Axes3D\n",
    "#ax = plt.figure(figsize=(16,10)).gca(projection='3d')\n",
    "fig = plt.figure()\n",
    "ax = Axes3D(plt.figure(figsize=(10,8)))\n",
    "ax.view_init(45, 180)\n",
    "plt.axis()\n",
    "ax.scatter(\n",
    "    xs = dfj3['x_col'],\n",
    "    ys = dfj3['y_col'],\n",
    "    zs = dfj3['z_col'],\n",
    "    c=dfj3['User_Register'],\n",
    "    cmap='coolwarm'\n",
    ")\n",
    "ax.set_xlabel('x')\n",
    "ax.set_ylabel('y')\n",
    "ax.set_zlabel('z')\n",
    "ax.set_xlim(-12, 12)\n",
    "ax.set_ylim(-12, 12)\n",
    "ax.set_zlim(-12, 12)\n",
    "plt.show()"
   ]
  },
  {
   "cell_type": "code",
   "execution_count": null,
   "id": "5da192b7",
   "metadata": {},
   "outputs": [],
   "source": [
    "type(ax)"
   ]
  },
  {
   "cell_type": "code",
   "execution_count": null,
   "id": "5a117556",
   "metadata": {},
   "outputs": [],
   "source": []
  }
 ],
 "metadata": {
  "kernelspec": {
   "display_name": "Python [conda env:dataexpl_p37_cpu_v1]",
   "language": "python",
   "name": "conda-env-dataexpl_p37_cpu_v1-py"
  },
  "language_info": {
   "codemirror_mode": {
    "name": "ipython",
    "version": 3
   },
   "file_extension": ".py",
   "mimetype": "text/x-python",
   "name": "python",
   "nbconvert_exporter": "python",
   "pygments_lexer": "ipython3",
   "version": "3.7.10"
  }
 },
 "nbformat": 4,
 "nbformat_minor": 5
}
