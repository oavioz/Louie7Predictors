{
 "cells": [
  {
   "cell_type": "code",
   "execution_count": 1,
   "id": "34f1d806",
   "metadata": {},
   "outputs": [],
   "source": [
    "import numpy as np\n",
    "import pandas as pd\n",
    "import json\n",
    "import codecs\n",
    "import datetime\n",
    "import os\n",
    "import sys"
   ]
  },
  {
   "cell_type": "code",
   "execution_count": 2,
   "id": "8aea2f9a",
   "metadata": {},
   "outputs": [],
   "source": [
    "sys.path.append('.')"
   ]
  },
  {
   "cell_type": "code",
   "execution_count": 373,
   "id": "89bf4dc5",
   "metadata": {},
   "outputs": [],
   "source": [
    "import matplotlib as mpl\n",
    "import matplotlib.pyplot as plt\n",
    "plt.rcParams[\"figure.figsize\"] = (24, 16)"
   ]
  },
  {
   "cell_type": "code",
   "execution_count": 386,
   "id": "f41e40b1",
   "metadata": {},
   "outputs": [],
   "source": [
    "import oci\n",
    "import json\n",
    "from oci.config import validate_config\n",
    "from sklearn.covariance import MinCovDet "
   ]
  },
  {
   "cell_type": "code",
   "execution_count": 5,
   "id": "0da79608",
   "metadata": {},
   "outputs": [],
   "source": [
    "tenancyId=\"ocid1.tenancy.oc1..aaaaaaaahkzl4rzvgxjfnrfcj7rzlsdav25h7tsx7kjxyv2bmwkfpzpag26q\" # Your tenancies OCID.\n",
    "authUserId=\"ocid1.user.oc1..aaaaaaaayltryoz33ole5eubwphwijkcvmi4ukbombh4aym2crp5j6xqxaxq\" # The OCID of the user ID being used.\n",
    "OCI_KEY_PATH=\"/home/datascience/.oci/oci_api_key.pem\" # Path of the key file.\n",
    "keyFingerprint=\"9a:47:38:96:c8:4d:bf:7e:32:3d:7c:c3:24:23:71:35\" # The fingerprint of the key file being used\n",
    "namespace = \"lrzustouvvrg\"\n",
    "bucket_name = \"sdk-initial-data-bucket\"\n",
    "config = {\n",
    "    \"user\": authUserId,\n",
    "    \"key_file\": OCI_KEY_PATH,\n",
    "    \"fingerprint\": keyFingerprint,\n",
    "    \"tenancy\": tenancyId,\n",
    "    \"region\": \"uk-london-1\"\n",
    "}"
   ]
  },
  {
   "cell_type": "code",
   "execution_count": 6,
   "id": "00ac61a0",
   "metadata": {},
   "outputs": [],
   "source": [
    "validate_config(config)"
   ]
  },
  {
   "cell_type": "code",
   "execution_count": 7,
   "id": "a2000edf",
   "metadata": {},
   "outputs": [],
   "source": [
    "object_storage_client = oci.object_storage.ObjectStorageClient(config)\n",
    "next_starts_with = None\n",
    "object_list = object_storage_client.list_objects(namespace, bucket_name , fields='name, timeCreated, size', start=next_starts_with)"
   ]
  },
  {
   "cell_type": "code",
   "execution_count": 8,
   "id": "706a95e3",
   "metadata": {},
   "outputs": [],
   "source": [
    "f = object_list.data.objects"
   ]
  },
  {
   "cell_type": "code",
   "execution_count": 9,
   "id": "e6f6bb0e",
   "metadata": {},
   "outputs": [
    {
     "data": {
      "text/plain": [
       "{\n",
       "  \"archival_state\": null,\n",
       "  \"etag\": null,\n",
       "  \"md5\": null,\n",
       "  \"name\": \"005b6c49-c4ed-438b-9092-ad02ed4d672e_26-07-2021_13-36-18.json\",\n",
       "  \"size\": 530965,\n",
       "  \"storage_tier\": null,\n",
       "  \"time_created\": \"2021-07-26T05:36:31.229000+00:00\",\n",
       "  \"time_modified\": null\n",
       "}"
      ]
     },
     "execution_count": 9,
     "metadata": {},
     "output_type": "execute_result"
    }
   ],
   "source": [
    "f[0]"
   ]
  },
  {
   "cell_type": "code",
   "execution_count": 10,
   "id": "a5cbd97e",
   "metadata": {},
   "outputs": [
    {
     "data": {
      "text/plain": [
       "{\n",
       "  \"archival_state\": null,\n",
       "  \"etag\": null,\n",
       "  \"md5\": null,\n",
       "  \"name\": \"005b6c49-c4ed-438b-9092-ad02ed4d672e_26-07-2021_13-36-18.json\",\n",
       "  \"size\": 530965,\n",
       "  \"storage_tier\": null,\n",
       "  \"time_created\": \"2021-07-26T05:36:31.229000+00:00\",\n",
       "  \"time_modified\": null\n",
       "}"
      ]
     },
     "execution_count": 10,
     "metadata": {},
     "output_type": "execute_result"
    }
   ],
   "source": [
    "object_list.data.objects[0]"
   ]
  },
  {
   "cell_type": "code",
   "execution_count": 11,
   "id": "5a2ca142",
   "metadata": {},
   "outputs": [
    {
     "data": {
      "text/plain": [
       "1000"
      ]
     },
     "execution_count": 11,
     "metadata": {},
     "output_type": "execute_result"
    }
   ],
   "source": [
    "len(f)"
   ]
  },
  {
   "cell_type": "code",
   "execution_count": 12,
   "id": "2755afde",
   "metadata": {},
   "outputs": [],
   "source": [
    "obj = object_storage_client.get_object(namespace, bucket_name, f[0].name).data"
   ]
  },
  {
   "cell_type": "code",
   "execution_count": 13,
   "id": "485ae9f0",
   "metadata": {},
   "outputs": [
    {
     "data": {
      "text/plain": [
       "bytes"
      ]
     },
     "execution_count": 13,
     "metadata": {},
     "output_type": "execute_result"
    }
   ],
   "source": [
    "type(obj.content)"
   ]
  },
  {
   "cell_type": "code",
   "execution_count": 14,
   "id": "18377d14",
   "metadata": {},
   "outputs": [],
   "source": [
    "j_obj = json.loads(obj.content)"
   ]
  },
  {
   "cell_type": "code",
   "execution_count": 15,
   "id": "83181f68",
   "metadata": {},
   "outputs": [
    {
     "data": {
      "text/plain": [
       "dict"
      ]
     },
     "execution_count": 15,
     "metadata": {},
     "output_type": "execute_result"
    }
   ],
   "source": [
    "type(j_obj)"
   ]
  },
  {
   "cell_type": "code",
   "execution_count": 10,
   "id": "f68b3fbc",
   "metadata": {},
   "outputs": [],
   "source": [
    "from vector_creator.score_vectors_assembly import score_vector_from_bucket, normalize_scores"
   ]
  },
  {
   "cell_type": "code",
   "execution_count": null,
   "id": "b9ad9288",
   "metadata": {},
   "outputs": [],
   "source": [
    "res0 = score_vector_from_bucket(object_storage_client, 'photo-gallery', next_starts_with)"
   ]
  },
  {
   "cell_type": "code",
   "execution_count": 12,
   "id": "fa33d8de",
   "metadata": {},
   "outputs": [],
   "source": [
    "res0.to_csv('csv_files/photo_gallery_kobi_ver.csv')"
   ]
  },
  {
   "cell_type": "code",
   "execution_count": 13,
   "id": "95ec21bb",
   "metadata": {},
   "outputs": [],
   "source": [
    "next_starts_with = object_list.data.next_start_with"
   ]
  },
  {
   "cell_type": "code",
   "execution_count": 14,
   "id": "5cceb14b",
   "metadata": {},
   "outputs": [
    {
     "data": {
      "text/plain": [
       "{\n",
       "  \"archival_state\": null,\n",
       "  \"etag\": null,\n",
       "  \"md5\": null,\n",
       "  \"name\": \"790cffbe-32d1-4c89-b22f-43bbdd3fe6be_13-07-2021_00-28-38.json\",\n",
       "  \"size\": 62083,\n",
       "  \"storage_tier\": null,\n",
       "  \"time_created\": \"2021-07-12T16:26:22.891000+00:00\",\n",
       "  \"time_modified\": null\n",
       "}"
      ]
     },
     "execution_count": 14,
     "metadata": {},
     "output_type": "execute_result"
    }
   ],
   "source": [
    "osc = object_storage_client.list_objects(namespace, bucket_name, start=next_starts_with, fields='name, timeCreated, size')\n",
    "g = osc.data.objects\n",
    "g[0]"
   ]
  },
  {
   "cell_type": "code",
   "execution_count": 15,
   "id": "fdaa76c5",
   "metadata": {},
   "outputs": [
    {
     "data": {
      "text/plain": [
       "1000"
      ]
     },
     "execution_count": 15,
     "metadata": {},
     "output_type": "execute_result"
    }
   ],
   "source": [
    "len(g)"
   ]
  },
  {
   "cell_type": "code",
   "execution_count": null,
   "id": "772e843a",
   "metadata": {},
   "outputs": [],
   "source": [
    "res1 = score_vector_from_bucket(object_storage_client, 'photo-gallery', next_starts_with)"
   ]
  },
  {
   "cell_type": "code",
   "execution_count": 17,
   "id": "18a4fca8",
   "metadata": {},
   "outputs": [],
   "source": [
    "res1.to_csv('csv_files/photo_gallery_kobi_ver_2.csv')"
   ]
  },
  {
   "cell_type": "code",
   "execution_count": 18,
   "id": "be17c9df",
   "metadata": {},
   "outputs": [],
   "source": [
    "res = res0.append(res1)"
   ]
  },
  {
   "cell_type": "code",
   "execution_count": 29,
   "id": "129e16a8",
   "metadata": {},
   "outputs": [
    {
     "data": {
      "text/plain": [
       "(811, 27)"
      ]
     },
     "execution_count": 29,
     "metadata": {},
     "output_type": "execute_result"
    }
   ],
   "source": [
    "res.shape"
   ]
  },
  {
   "cell_type": "code",
   "execution_count": 20,
   "id": "65ea5e57",
   "metadata": {},
   "outputs": [],
   "source": [
    "res.to_csv('csv_files/photo_gallery_kobi_ver_full.csv')"
   ]
  },
  {
   "cell_type": "code",
   "execution_count": null,
   "id": "a1914ef8",
   "metadata": {},
   "outputs": [],
   "source": [
    "next_starts_with = object_list.data.next_start_with"
   ]
  },
  {
   "cell_type": "code",
   "execution_count": null,
   "id": "b2343c06",
   "metadata": {},
   "outputs": [],
   "source": [
    "osc = object_storage_client.list_objects(namespace, bucket_name, start=next_starts_with, fields='name, timeCreated, size')\n",
    "g = osc.data.objects\n",
    "g[0]"
   ]
  },
  {
   "cell_type": "code",
   "execution_count": null,
   "id": "17421262",
   "metadata": {},
   "outputs": [],
   "source": [
    "len(g)"
   ]
  },
  {
   "cell_type": "code",
   "execution_count": null,
   "id": "4c44967a",
   "metadata": {},
   "outputs": [],
   "source": [
    "res2 = score_vector_from_bucket(object_storage_client, 'photo-gallery', next_starts_with)"
   ]
  },
  {
   "cell_type": "code",
   "execution_count": null,
   "id": "d5939fef",
   "metadata": {},
   "outputs": [],
   "source": [
    "res.to_csv('score_vec_photogallery_aggresive.csv')"
   ]
  },
  {
   "cell_type": "code",
   "execution_count": 42,
   "id": "03ff571c",
   "metadata": {},
   "outputs": [
    {
     "data": {
      "text/plain": [
       "True"
      ]
     },
     "execution_count": 42,
     "metadata": {},
     "output_type": "execute_result"
    }
   ],
   "source": [
    "res.index.is_unique"
   ]
  },
  {
   "cell_type": "code",
   "execution_count": 43,
   "id": "bfa3932d",
   "metadata": {},
   "outputs": [],
   "source": [
    "inxs = res.index.values"
   ]
  },
  {
   "cell_type": "code",
   "execution_count": 44,
   "id": "b6bc287e",
   "metadata": {},
   "outputs": [
    {
     "data": {
      "text/plain": [
       "811"
      ]
     },
     "execution_count": 44,
     "metadata": {},
     "output_type": "execute_result"
    }
   ],
   "source": [
    "len(inxs)"
   ]
  },
  {
   "cell_type": "code",
   "execution_count": 30,
   "id": "4d7ce2d2",
   "metadata": {},
   "outputs": [],
   "source": [
    "from sklearn.manifold import TSNE\n",
    "from sklearn.decomposition import PCA\n",
    "from sklearn.cluster import KMeans, MeanShift, estimate_bandwidth"
   ]
  },
  {
   "cell_type": "code",
   "execution_count": 31,
   "id": "68a333e2",
   "metadata": {},
   "outputs": [],
   "source": [
    "import seaborn as sns\n",
    "import matplotlib.pyplot as plt\n",
    "from itertools import cycle\n",
    "import pandas as pd"
   ]
  },
  {
   "cell_type": "code",
   "execution_count": 32,
   "id": "ea6349c7",
   "metadata": {},
   "outputs": [],
   "source": [
    "def normalize_scores(df, method):\n",
    "    df_scale = df.transpose()\n",
    "    if len(df) > 20:\n",
    "        df_scale =  z_score(df_scale) if method == 'z-score' else minmax_scale(df_scale)\n",
    "    return df_scale.transpose()"
   ]
  },
  {
   "cell_type": "code",
   "execution_count": 33,
   "id": "f72f8aae",
   "metadata": {},
   "outputs": [],
   "source": [
    "from vector_creator.stats_models.estimators import *"
   ]
  },
  {
   "cell_type": "code",
   "execution_count": 34,
   "id": "d5189e8a",
   "metadata": {},
   "outputs": [],
   "source": [
    "nr = normalize_scores(res, 'min-max')"
   ]
  },
  {
   "cell_type": "code",
   "execution_count": 35,
   "id": "b0f2fbde",
   "metadata": {},
   "outputs": [],
   "source": [
    "nz = normalize_scores(res, 'z-score')"
   ]
  },
  {
   "cell_type": "code",
   "execution_count": 36,
   "id": "e7085a63",
   "metadata": {},
   "outputs": [
    {
     "data": {
      "text/plain": [
       "numpy.ndarray"
      ]
     },
     "execution_count": 36,
     "metadata": {},
     "output_type": "execute_result"
    }
   ],
   "source": [
    "type(nr)"
   ]
  },
  {
   "cell_type": "code",
   "execution_count": 270,
   "id": "347c0c3d",
   "metadata": {},
   "outputs": [
    {
     "data": {
      "text/plain": [
       "(811, 27)"
      ]
     },
     "execution_count": 270,
     "metadata": {},
     "output_type": "execute_result"
    }
   ],
   "source": [
    "nz.shape"
   ]
  },
  {
   "cell_type": "markdown",
   "id": "9d9519fb",
   "metadata": {},
   "source": [
    "--> Start tSNE for 2D "
   ]
  },
  {
   "cell_type": "code",
   "execution_count": 38,
   "id": "440c45c3",
   "metadata": {},
   "outputs": [],
   "source": [
    "tsne = TSNE(n_components=2, verbose=1, perplexity=50, n_iter=300, method='exact')"
   ]
  },
  {
   "cell_type": "code",
   "execution_count": 39,
   "id": "0037051e",
   "metadata": {},
   "outputs": [
    {
     "name": "stdout",
     "output_type": "stream",
     "text": [
      "[t-SNE] Computing pairwise distances...\n",
      "[t-SNE] Computed conditional probabilities for sample 811 / 811\n",
      "[t-SNE] Mean sigma: 1.346275\n",
      "[t-SNE] KL divergence after 250 iterations with early exaggeration: 60.814583\n",
      "[t-SNE] KL divergence after 300 iterations: 0.808069\n"
     ]
    }
   ],
   "source": [
    "tsne_res = tsne.fit_transform(nz)"
   ]
  },
  {
   "cell_type": "code",
   "execution_count": 45,
   "id": "7a21e073",
   "metadata": {},
   "outputs": [],
   "source": [
    "df = pd.DataFrame(tsne_res, columns=['x_col', 'y_col'], index=inxs)"
   ]
  },
  {
   "cell_type": "code",
   "execution_count": 46,
   "id": "b65c7538",
   "metadata": {},
   "outputs": [
    {
     "data": {
      "text/plain": [
       "(811, 2)"
      ]
     },
     "execution_count": 46,
     "metadata": {},
     "output_type": "execute_result"
    }
   ],
   "source": [
    "df.shape"
   ]
  },
  {
   "cell_type": "code",
   "execution_count": 271,
   "id": "7c01c125",
   "metadata": {},
   "outputs": [
    {
     "data": {
      "text/html": [
       "<div>\n",
       "<style scoped>\n",
       "    .dataframe tbody tr th:only-of-type {\n",
       "        vertical-align: middle;\n",
       "    }\n",
       "\n",
       "    .dataframe tbody tr th {\n",
       "        vertical-align: top;\n",
       "    }\n",
       "\n",
       "    .dataframe thead th {\n",
       "        text-align: right;\n",
       "    }\n",
       "</style>\n",
       "<table border=\"1\" class=\"dataframe\">\n",
       "  <thead>\n",
       "    <tr style=\"text-align: right;\">\n",
       "      <th></th>\n",
       "      <th>x_col</th>\n",
       "      <th>y_col</th>\n",
       "    </tr>\n",
       "  </thead>\n",
       "  <tbody>\n",
       "    <tr>\n",
       "      <th>005b6c49-c4ed-438b-9092-ad02ed4d672e</th>\n",
       "      <td>-6.445101</td>\n",
       "      <td>-9.459874</td>\n",
       "    </tr>\n",
       "    <tr>\n",
       "      <th>007a0785-1321-4112-be89-e6549a4725a2</th>\n",
       "      <td>-6.622664</td>\n",
       "      <td>8.609216</td>\n",
       "    </tr>\n",
       "    <tr>\n",
       "      <th>00e37960-250f-4185-94ac-143b319730e3</th>\n",
       "      <td>9.927461</td>\n",
       "      <td>-6.759468</td>\n",
       "    </tr>\n",
       "    <tr>\n",
       "      <th>025aa94c-bbf4-4e15-9ba1-7a7c18153fce</th>\n",
       "      <td>13.009322</td>\n",
       "      <td>-8.127320</td>\n",
       "    </tr>\n",
       "    <tr>\n",
       "      <th>03363918-9d74-4668-89bf-46ea1f05e802</th>\n",
       "      <td>0.846786</td>\n",
       "      <td>-1.998743</td>\n",
       "    </tr>\n",
       "  </tbody>\n",
       "</table>\n",
       "</div>"
      ],
      "text/plain": [
       "                                          x_col     y_col\n",
       "005b6c49-c4ed-438b-9092-ad02ed4d672e  -6.445101 -9.459874\n",
       "007a0785-1321-4112-be89-e6549a4725a2  -6.622664  8.609216\n",
       "00e37960-250f-4185-94ac-143b319730e3   9.927461 -6.759468\n",
       "025aa94c-bbf4-4e15-9ba1-7a7c18153fce  13.009322 -8.127320\n",
       "03363918-9d74-4668-89bf-46ea1f05e802   0.846786 -1.998743"
      ]
     },
     "execution_count": 271,
     "metadata": {},
     "output_type": "execute_result"
    }
   ],
   "source": [
    "df.head(5)"
   ]
  },
  {
   "cell_type": "code",
   "execution_count": 48,
   "id": "9fe6af6d",
   "metadata": {},
   "outputs": [
    {
     "data": {
      "text/plain": [
       "<AxesSubplot:xlabel='x_col', ylabel='y_col'>"
      ]
     },
     "execution_count": 48,
     "metadata": {},
     "output_type": "execute_result"
    },
    {
     "data": {
      "image/png": "[encoded data removed]",
      "text/plain": [
       "<Figure size 720x576 with 1 Axes>"
      ]
     },
     "metadata": {
      "needs_background": "light"
     },
     "output_type": "display_data"
    }
   ],
   "source": [
    "plt.figure(figsize=(10,8))\n",
    "sns.scatterplot(\n",
    "    x='x_col', \n",
    "    y='y_col',\n",
    "    data=df\n",
    ")"
   ]
  },
  {
   "cell_type": "markdown",
   "id": "5e49dccc",
   "metadata": {},
   "source": [
    "--> Mean Shift for tSNE-2D data frame"
   ]
  },
  {
   "cell_type": "code",
   "execution_count": 397,
   "id": "4a16e6cd",
   "metadata": {},
   "outputs": [],
   "source": [
    "bandwidth = estimate_bandwidth(df, quantile=0.12)"
   ]
  },
  {
   "cell_type": "code",
   "execution_count": 398,
   "id": "9b203415",
   "metadata": {},
   "outputs": [
    {
     "data": {
      "text/plain": [
       "MeanShift(bandwidth=5.387254202432055, bin_seeding=True)"
      ]
     },
     "execution_count": 398,
     "metadata": {},
     "output_type": "execute_result"
    }
   ],
   "source": [
    "ms = MeanShift(bandwidth=bandwidth, bin_seeding=True)\n",
    "ms.fit(df)"
   ]
  },
  {
   "cell_type": "code",
   "execution_count": 399,
   "id": "7236fd85",
   "metadata": {},
   "outputs": [],
   "source": [
    "labels = ms.labels_\n",
    "cluster_centers = ms.cluster_centers_\n",
    "labels_unique = np.unique(labels)\n",
    "n_clusters_ = len(labels_unique)"
   ]
  },
  {
   "cell_type": "code",
   "execution_count": 400,
   "id": "20705d83",
   "metadata": {},
   "outputs": [
    {
     "data": {
      "text/plain": [
       "array([[  4.431119  ,   0.09215192],\n",
       "       [ 10.446054  ,  -5.8441925 ],\n",
       "       [ -0.14183226,   4.668445  ],\n",
       "       [ -7.31948   ,   2.27914   ],\n",
       "       [ -3.8561764 , -10.546412  ],\n",
       "       [ -9.256774  ,  13.035744  ]], dtype=float32)"
      ]
     },
     "execution_count": 400,
     "metadata": {},
     "output_type": "execute_result"
    }
   ],
   "source": [
    "cluster_centers"
   ]
  },
  {
   "cell_type": "code",
   "execution_count": 401,
   "id": "f74b859c",
   "metadata": {},
   "outputs": [
    {
     "data": {
      "text/plain": [
       "array([0, 1, 2, 3, 4, 5])"
      ]
     },
     "execution_count": 401,
     "metadata": {},
     "output_type": "execute_result"
    }
   ],
   "source": [
    "labels_unique"
   ]
  },
  {
   "cell_type": "markdown",
   "id": "001cd493",
   "metadata": {},
   "source": [
    "--> Plot tSNE mean-shift 2D with uids as index to df "
   ]
  },
  {
   "cell_type": "code",
   "execution_count": 402,
   "id": "d73961d9",
   "metadata": {},
   "outputs": [
    {
     "name": "stdout",
     "output_type": "stream",
     "text": [
      "b [4.431119   0.09215192] 0\n",
      "g [10.446054  -5.8441925] 1\n",
      "r [-0.14183226  4.668445  ] 2\n",
      "c [-7.31948  2.27914] 3\n",
      "m [ -3.8561764 -10.546412 ] 4\n",
      "y [-9.256774 13.035744] 5\n"
     ]
    },
    {
     "data": {
      "image/png": "[encoded data removed]",
      "text/plain": [
       "<Figure size 1728x1152 with 1 Axes>"
      ]
     },
     "metadata": {
      "needs_background": "light"
     },
     "output_type": "display_data"
    }
   ],
   "source": [
    "plt.figure()\n",
    "plt.clf()\n",
    "X = df.values\n",
    "colors = cycle('bgrcmykbgrcmykbgrcmykbgrcmyk')\n",
    "for k, col in zip(range(n_clusters_), colors):\n",
    "    my_members = labels == k\n",
    "    print(col, cluster_centers[k], k)\n",
    "    cluster_center = cluster_centers[k]\n",
    "    plt.plot(X[my_members, 0], X[my_members, 1], col + '.')\n",
    "    plt.plot(cluster_center[0], cluster_center[1], 'o', markerfacecolor=col,\n",
    "             markeredgecolor='k', markersize=14)\n",
    "plt.title('Estimated number of clusters: %d' % n_clusters_)\n",
    "plt.show()"
   ]
  },
  {
   "cell_type": "code",
   "execution_count": 403,
   "id": "2d9fce23",
   "metadata": {},
   "outputs": [],
   "source": [
    "lbls = np.unique(ms.labels_)"
   ]
  },
  {
   "cell_type": "code",
   "execution_count": 404,
   "id": "89891d99",
   "metadata": {},
   "outputs": [],
   "source": [
    "res['labels']= ms.labels_"
   ]
  },
  {
   "cell_type": "code",
   "execution_count": 405,
   "id": "3ac910d4",
   "metadata": {},
   "outputs": [],
   "source": [
    "def createdf_dict_by_lbl():\n",
    "    df_dict = {}\n",
    "    for i in np.nditer(lbls):\n",
    "        lbl = 'label-' + str(i)\n",
    "        df_lbl_i = res[res.labels == i]\n",
    "        del df_lbl_i['labels']\n",
    "        df_dict[lbl] = df_lbl_i\n",
    "    return df_dict\n",
    "    \n",
    "def create_df_by_func(func):\n",
    "    for i in np.nditer(lbls):\n",
    "        df_lbl_i = res[res.labels == i]\n",
    "        del df_lbl_i['labels']\n",
    "        col = 'label-' + str(i)\n",
    "        if(i == 0):\n",
    "            df_median = df_lbl_i.agg(func).to_frame()\n",
    "            df_median = df_median.rename(columns = {0: col})\n",
    "        else:\n",
    "            df_median[col] = df_lbl_i.agg(func).values\n",
    "    return df_median"
   ]
  },
  {
   "cell_type": "code",
   "execution_count": 406,
   "id": "d6eed42f",
   "metadata": {},
   "outputs": [],
   "source": [
    "df_lbl = createdf_dict_by_lbl()"
   ]
  },
  {
   "cell_type": "code",
   "execution_count": 407,
   "id": "2b3234e7",
   "metadata": {},
   "outputs": [],
   "source": [
    "df_median = create_df_by_func('median')\n",
    "df_mad = create_df_by_func('mad') "
   ]
  },
  {
   "cell_type": "code",
   "execution_count": 419,
   "id": "70b59665",
   "metadata": {},
   "outputs": [
    {
     "data": {
      "text/plain": [
       "<AxesSubplot:xlabel='description'>"
      ]
     },
     "execution_count": 419,
     "metadata": {},
     "output_type": "execute_result"
    },
    {
     "data": {
      "text/plain": [
       "<Figure size 1728x1152 with 0 Axes>"
      ]
     },
     "metadata": {},
     "output_type": "display_data"
    },
    {
     "data": {
      "image/png": "[encoded data removed]",
      "text/plain": [
       "<Figure size 1728x1152 with 1 Axes>"
      ]
     },
     "metadata": {
      "needs_background": "light"
     },
     "output_type": "display_data"
    }
   ],
   "source": [
    "plt.figure()\n",
    "df_median.plot.bar(color=['b', 'g', 'r', 'c', 'm', 'y'])"
   ]
  },
  {
   "cell_type": "code",
   "execution_count": 420,
   "id": "94886eff",
   "metadata": {},
   "outputs": [
    {
     "data": {
      "text/plain": [
       "<AxesSubplot:xlabel='description'>"
      ]
     },
     "execution_count": 420,
     "metadata": {},
     "output_type": "execute_result"
    },
    {
     "data": {
      "image/png": "[encoded data removed]",
      "text/plain": [
       "<Figure size 1728x1152 with 1 Axes>"
      ]
     },
     "metadata": {
      "needs_background": "light"
     },
     "output_type": "display_data"
    }
   ],
   "source": [
    "df_mad.plot.bar(color=['b', 'g', 'r', 'c', 'm', 'y'])"
   ]
  },
  {
   "cell_type": "code",
   "execution_count": 410,
   "id": "2743853a",
   "metadata": {},
   "outputs": [],
   "source": [
    "#X = df_lbl['label-0'].values\n",
    "#Y = MinCovDet().fit(X)\n",
    "#Y.covariance_"
   ]
  },
  {
   "cell_type": "code",
   "execution_count": 422,
   "id": "fc5c7d1a",
   "metadata": {},
   "outputs": [
    {
     "data": {
      "text/plain": [
       "dict_keys(['label-0', 'label-1', 'label-2', 'label-3', 'label-4', 'label-5'])"
      ]
     },
     "execution_count": 422,
     "metadata": {},
     "output_type": "execute_result"
    }
   ],
   "source": [
    "df_lbl.keys()"
   ]
  },
  {
   "cell_type": "code",
   "execution_count": 424,
   "id": "57d4be48",
   "metadata": {},
   "outputs": [
    {
     "data": {
      "image/png": "[encoded data removed]",
      "text/plain": [
       "<Figure size 1152x1152 with 1 Axes>"
      ]
     },
     "metadata": {
      "needs_background": "light"
     },
     "output_type": "display_data"
    }
   ],
   "source": [
    "c = df_lbl['label-4'].corr()\n",
    "plt.matshow(c)\n",
    "plt.show()"
   ]
  },
  {
   "cell_type": "code",
   "execution_count": 264,
   "id": "ae7a875f",
   "metadata": {},
   "outputs": [],
   "source": [
    "#del df_lbl5['labels']\n",
    "#dflbl4 = srlbl4.to_frame()\n",
    "#dflbl4.rename(columns = {0:'lvl-4'})"
   ]
  },
  {
   "cell_type": "code",
   "execution_count": 269,
   "id": "a4f1a71f",
   "metadata": {},
   "outputs": [],
   "source": [
    "excel = df0.to_excel('csv_files/photo_gallery_yellow.xlsx')"
   ]
  },
  {
   "cell_type": "code",
   "execution_count": null,
   "id": "25da2b51",
   "metadata": {},
   "outputs": [],
   "source": [
    "#read the tags from firebase json file for user register non register and create df with tag column\n",
    "def create_tag_df(f): # 'entries.json'\n",
    "    tag_data = json.load(codecs.open(f, 'r', 'utf-8-sig'))\n",
    "    df_tag = pd.DataFrame(tag_data)\n",
    "    df_tag = df_tag.rename(columns={'app_userid': ''})\n",
    "    dftag = df_tag.set_index('')\n",
    "    return dftag"
   ]
  },
  {
   "cell_type": "code",
   "execution_count": null,
   "id": "f66e9624",
   "metadata": {},
   "outputs": [],
   "source": [
    "dftag = create_tag_df('entries.json')"
   ]
  },
  {
   "cell_type": "code",
   "execution_count": null,
   "id": "41608d1a",
   "metadata": {},
   "outputs": [],
   "source": [
    "dfjoin = df.join(dftag)"
   ]
  },
  {
   "cell_type": "code",
   "execution_count": null,
   "id": "5c5d0d01",
   "metadata": {},
   "outputs": [],
   "source": [
    "len(dfjoin)"
   ]
  },
  {
   "cell_type": "code",
   "execution_count": null,
   "id": "d48db7c8",
   "metadata": {},
   "outputs": [],
   "source": [
    "dfjoin['User_Register'] = dfjoin['User_Register'].fillna('false')\n",
    "len(dfjoin[dfjoin.User_Register == 'false'])"
   ]
  },
  {
   "cell_type": "code",
   "execution_count": null,
   "id": "208572e8",
   "metadata": {},
   "outputs": [],
   "source": [
    "dfjoin.to_csv('csv_files/taged_aggresive_photogallery.csv')"
   ]
  },
  {
   "cell_type": "code",
   "execution_count": null,
   "id": "eaaf3c65",
   "metadata": {},
   "outputs": [],
   "source": [
    "dfjoin.head(5)"
   ]
  },
  {
   "cell_type": "code",
   "execution_count": null,
   "id": "b9dcdd27",
   "metadata": {},
   "outputs": [],
   "source": [
    "#sns.scatterplot('population', 'Area', data=df, hue='continent')\n",
    "#sns.lmplot('population', 'Area', data=df, hue='continent', fit_reg=False)\n",
    "plt.figure(figsize=(10,8))\n",
    "sns.lmplot(\n",
    "    x='x_col', \n",
    "    y='y_col',\n",
    "    data=dfjoin,\n",
    "    hue='User_Register',\n",
    "    fit_reg=False,\n",
    "    height=8,\n",
    ")\n",
    "plt.show()"
   ]
  },
  {
   "cell_type": "markdown",
   "id": "690ad7fc",
   "metadata": {},
   "source": [
    "--> tSNE for 3D"
   ]
  },
  {
   "cell_type": "code",
   "execution_count": null,
   "id": "ad0b178f",
   "metadata": {},
   "outputs": [],
   "source": [
    "tsne_3d = TSNE(n_components=3, verbose=1, perplexity=40, n_iter=300, method='exact')"
   ]
  },
  {
   "cell_type": "code",
   "execution_count": null,
   "id": "7c352e23",
   "metadata": {},
   "outputs": [],
   "source": [
    "nz.shape"
   ]
  },
  {
   "cell_type": "code",
   "execution_count": null,
   "id": "52e39d58",
   "metadata": {},
   "outputs": [],
   "source": [
    "tsne_res_3 = tsne_3d.fit_transform(nz)"
   ]
  },
  {
   "cell_type": "code",
   "execution_count": null,
   "id": "c6917ab1",
   "metadata": {},
   "outputs": [],
   "source": [
    "df3 = pd.DataFrame(tsne_res_3, columns=['x_col', 'y_col', 'z_col'], index=inxs)"
   ]
  },
  {
   "cell_type": "code",
   "execution_count": null,
   "id": "7789c54b",
   "metadata": {},
   "outputs": [],
   "source": [
    "df3.head(5)"
   ]
  },
  {
   "cell_type": "code",
   "execution_count": null,
   "id": "9f3058f2",
   "metadata": {},
   "outputs": [],
   "source": [
    "ax = plt.figure(figsize=(16,10)).gca(projection='3d')\n",
    "plt.axis()\n",
    "ax.scatter(\n",
    "    xs = df3['x_col'],\n",
    "    ys = df3['y_col'],\n",
    "    zs = df3['z_col'],\n",
    "    cmap='tab2'\n",
    ")\n",
    "ax.set_xlabel('x')\n",
    "ax.set_ylabel('y')\n",
    "ax.set_zlabel('z')\n",
    "ax.set_xlim(-10, 10)\n",
    "ax.set_ylim(-10, 10)\n",
    "ax.set_zlim(-12, 12)\n",
    "plt.show()"
   ]
  },
  {
   "cell_type": "code",
   "execution_count": null,
   "id": "fc575750",
   "metadata": {},
   "outputs": [],
   "source": [
    "bw = estimate_bandwidth(df3, quantile=0.2, n_samples=200)"
   ]
  },
  {
   "cell_type": "code",
   "execution_count": null,
   "id": "94e2be10",
   "metadata": {},
   "outputs": [],
   "source": [
    "ms = MeanShift(bandwidth=bw, bin_seeding=True)\n",
    "ms.fit(df3)"
   ]
  },
  {
   "cell_type": "code",
   "execution_count": null,
   "id": "db9bc2ff",
   "metadata": {},
   "outputs": [],
   "source": [
    "labels = ms.labels_\n",
    "cluster_centers = ms.cluster_centers_\n",
    "labels_unique = np.unique(labels)\n",
    "n_clusters_ = len(labels_unique)"
   ]
  },
  {
   "cell_type": "code",
   "execution_count": null,
   "id": "ec299d79",
   "metadata": {},
   "outputs": [],
   "source": [
    "cluster_centers"
   ]
  },
  {
   "cell_type": "code",
   "execution_count": null,
   "id": "c7c18177",
   "metadata": {},
   "outputs": [],
   "source": [
    "fig = plt.figure()\n",
    "ax = plt.figure(figsize=(16,10)).gca(projection='3d')\n",
    "ax.view_init(45, 180)\n",
    "plt.axis()\n",
    "X = df3.values\n",
    "colors = cycle('bgrcmykbgrcmykbgrcmykbgrcmyk')\n",
    "for k, col in zip(range(n_clusters_), colors):\n",
    "    my_members = labels == k\n",
    "    cluster_center = cluster_centers[k]\n",
    "    plt.plot(X[my_members, 0], X[my_members, 1], X[my_members, 2], col + '.')\n",
    "    plt.plot(cluster_center[0], cluster_center[1], cluster_center[2], 'o', markerfacecolor=col,\n",
    "             markeredgecolor='k', markersize=14)\n",
    "plt.title('Estimated number of 3D clusters: %d' % n_clusters_)\n",
    "plt.show()"
   ]
  },
  {
   "cell_type": "code",
   "execution_count": null,
   "id": "39d9d5c0",
   "metadata": {},
   "outputs": [],
   "source": [
    "dfj3 = df3.join(dftag)\n",
    "dfj3['User_Register'] = dfj3['User_Register'].fillna('false')\n",
    "dfj3['User_Register'] = dfj3['User_Register'].map({'true': 'blue', 'false': 'red'})"
   ]
  },
  {
   "cell_type": "code",
   "execution_count": null,
   "id": "2430039b",
   "metadata": {},
   "outputs": [],
   "source": [
    "len(dfj3[dfj3.User_Register == 'blue'])"
   ]
  },
  {
   "cell_type": "code",
   "execution_count": null,
   "id": "1ff97762",
   "metadata": {},
   "outputs": [],
   "source": [
    "%matplotlib inline\n",
    "#%matplotlib notebook"
   ]
  },
  {
   "cell_type": "code",
   "execution_count": null,
   "id": "890ac1c6",
   "metadata": {},
   "outputs": [],
   "source": [
    "from mpl_toolkits.mplot3d import Axes3D\n",
    "#ax = plt.figure(figsize=(16,10)).gca(projection='3d')\n",
    "fig = plt.figure()\n",
    "ax = Axes3D(plt.figure(figsize=(10,8)))\n",
    "ax.view_init(45, 180)\n",
    "plt.axis()\n",
    "ax.scatter(\n",
    "    xs = dfj3['x_col'],\n",
    "    ys = dfj3['y_col'],\n",
    "    zs = dfj3['z_col'],\n",
    "    c=dfj3['User_Register'],\n",
    "    cmap='coolwarm'\n",
    ")\n",
    "ax.set_xlabel('x')\n",
    "ax.set_ylabel('y')\n",
    "ax.set_zlabel('z')\n",
    "ax.set_xlim(-12, 12)\n",
    "ax.set_ylim(-12, 12)\n",
    "ax.set_zlim(-12, 12)\n",
    "plt.show()"
   ]
  },
  {
   "cell_type": "code",
   "execution_count": null,
   "id": "93b320ac",
   "metadata": {},
   "outputs": [],
   "source": [
    "type(ax)"
   ]
  },
  {
   "cell_type": "code",
   "execution_count": null,
   "id": "0d50b7d0",
   "metadata": {},
   "outputs": [],
   "source": []
  }
 ],
 "metadata": {
  "kernelspec": {
   "display_name": "Python [conda env:dataexpl_p37_cpu_v1]",
   "language": "python",
   "name": "conda-env-dataexpl_p37_cpu_v1-py"
  },
  "language_info": {
   "codemirror_mode": {
    "name": "ipython",
    "version": 3
   },
   "file_extension": ".py",
   "mimetype": "text/x-python",
   "name": "python",
   "nbconvert_exporter": "python",
   "pygments_lexer": "ipython3",
   "version": "3.7.10"
  }
 },
 "nbformat": 4,
 "nbformat_minor": 5
}
