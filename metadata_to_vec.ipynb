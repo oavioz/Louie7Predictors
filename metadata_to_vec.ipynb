{
 "cells": [
  {
   "cell_type": "code",
   "execution_count": 43,
   "metadata": {},
   "outputs": [],
   "source": [
    "import numpy as np\n",
    "import pandas as pd\n",
    "import json\n",
    "import codecs\n",
    "import datetime\n",
    "import os\n",
    "import sys"
   ]
  },
  {
   "cell_type": "code",
   "execution_count": 44,
   "metadata": {},
   "outputs": [],
   "source": [
    "sys.path.append('.')"
   ]
  },
  {
   "cell_type": "code",
   "execution_count": 45,
   "metadata": {},
   "outputs": [],
   "source": [
    "import matplotlib as mpl\n",
    "import matplotlib.pyplot as plt\n"
   ]
  },
  {
   "cell_type": "code",
   "execution_count": 46,
   "metadata": {},
   "outputs": [],
   "source": [
    "path = '/Users/smuel/AndroidStudioProjects/LuckyMeIntgratedSDK/metadata_init_phase/'"
   ]
  },
  {
   "cell_type": "code",
   "execution_count": 47,
   "metadata": {},
   "outputs": [],
   "source": [
    "from vector_creator.raw_to_df.rawdata_to_df import *\n",
    "from vector_creator.score_vectors.score_vectors_assembly import *\n",
    "from vector_creator.preprocess.utils import calc_number_of_days\n",
    "from vector_creator.stats_models.estimators import minmax_scale, z_score\n",
    "from vector_creator.score_vectors.vector_indexer import vector_desc_call_logs"
   ]
  },
  {
   "cell_type": "code",
   "execution_count": 48,
   "metadata": {
    "scrolled": true
   },
   "outputs": [
    {
     "name": "stdout",
     "output_type": "stream",
     "text": [
      "call-logs:  493\n",
      "05fa68e5-0ba3-4783-9c07-42740c4914c6 processed\n",
      "call-logs:  3\n",
      "12fa7561-2e77-4334-b9e1-6858ed27570f to small to process\n",
      "call-logs:  1400\n",
      "1362474c-0fb5-4932-a33d-5a30f23ac7e3 processed\n",
      "call-logs:  32\n",
      "148b0326-09e2-404f-9de6-aff6d44f2a38 processed\n",
      "call-logs:  189\n",
      "17ac0e20-b292-492c-9adc-faf60a068926 processed\n",
      "call-logs:  813\n",
      "199ea69c-5e20-4b53-9bfb-0534aaeb68d6 processed\n",
      "call-logs:  1049\n",
      "1abd59a3-553f-43db-a329-90c28c72afdd processed\n",
      "call-logs:  2000\n",
      "20380cd2-055e-4f3a-a339-90a1c7df4e1a processed\n",
      "call-logs:  2500\n",
      "236b91d2-cefb-405a-9de5-a3673ef1c736 processed\n",
      "call-logs:  38\n",
      "25174909-3427-42d2-9e14-65f7c95f240b processed\n",
      "call-logs:  15\n",
      "25ba2284-51e3-4eb9-a2c8-fa3a0eaeeca9 to small to process\n",
      "call-logs:  23\n",
      "29a43c47-05d7-4bb9-909b-e3cae08097ad processed\n",
      "call-logs:  2710\n",
      "2afbf7b0-6202-49bb-814f-ddba906bab48 processed\n",
      "call-logs:  0\n",
      "2afc4c23-161f-4fc5-b4ba-e567f5327d22 to small to process\n",
      "call-logs:  217\n",
      "36f05b2e-4164-49a6-ba0c-d78997ecdcae to small to process\n",
      "call-logs:  277\n",
      "3e4c39d0-d2ec-45c3-91cc-4c80ccf171be processed\n",
      "call-logs:  24\n",
      "588aeafe-5c4d-4bc9-84c5-8ae28029c733 to small to process\n",
      "call-logs:  918\n",
      "5e0b1bf2-2aba-4745-b91f-916554d51e9f processed\n",
      "call-logs:  30\n",
      "6ff9fca8-f981-46e5-93cc-4fab4190d758 to small to process\n",
      "call-logs:  167\n",
      "759240f7-1248-4334-aad5-fd384b524d3d processed\n",
      "call-logs:  2\n",
      "a296ae00-fcd4-418c-aaae-49b1f13fcbd5 to small to process\n",
      "(14, 92)\n"
     ]
    }
   ],
   "source": [
    "y = score_vector_constructor(path, 'call-logs')"
   ]
  },
  {
   "cell_type": "code",
   "execution_count": 49,
   "metadata": {
    "scrolled": true
   },
   "outputs": [
    {
     "data": {
      "text/html": [
       "<div>\n",
       "<style scoped>\n",
       "    .dataframe tbody tr th:only-of-type {\n",
       "        vertical-align: middle;\n",
       "    }\n",
       "\n",
       "    .dataframe tbody tr th {\n",
       "        vertical-align: top;\n",
       "    }\n",
       "\n",
       "    .dataframe thead th {\n",
       "        text-align: right;\n",
       "    }\n",
       "</style>\n",
       "<table border=\"1\" class=\"dataframe\">\n",
       "  <thead>\n",
       "    <tr style=\"text-align: right;\">\n",
       "      <th>description</th>\n",
       "      <th>nz ratio daily calls</th>\n",
       "      <th>mean daily calls</th>\n",
       "      <th>std daily calls</th>\n",
       "      <th>mad daily calls</th>\n",
       "      <th>mean unique daily calls</th>\n",
       "      <th>std unique daily calls</th>\n",
       "      <th>nz ratio daily duration</th>\n",
       "      <th>mean duration daily calls</th>\n",
       "      <th>std duration daily calls</th>\n",
       "      <th>mad duration daily calls</th>\n",
       "      <th>...</th>\n",
       "      <th>ar daily num of calls lag-16</th>\n",
       "      <th>ar daily mean dur of calls lag-1</th>\n",
       "      <th>ar daily mean dur of calls lag-4</th>\n",
       "      <th>ar daily mean dur of calls lag-16</th>\n",
       "      <th>ivi irregularity daily number calls</th>\n",
       "      <th>ivi irregularity daily duration calls</th>\n",
       "      <th>ivi irr daily mean delta between calls</th>\n",
       "      <th>ivi irregularity daily night calls</th>\n",
       "      <th>ivi irregularity daily number incoming calls</th>\n",
       "      <th>ivi irregularity daily number outgoing calls</th>\n",
       "    </tr>\n",
       "  </thead>\n",
       "  <tbody>\n",
       "    <tr>\n",
       "      <th>05fa68e5-0ba3-4783-9c07-42740c4914c6</th>\n",
       "      <td>1.638166</td>\n",
       "      <td>0.459233</td>\n",
       "      <td>-0.282473</td>\n",
       "      <td>0.569944</td>\n",
       "      <td>2.417638</td>\n",
       "      <td>1.543069</td>\n",
       "      <td>1.821908</td>\n",
       "      <td>0.002234</td>\n",
       "      <td>0.027925</td>\n",
       "      <td>0.273862</td>\n",
       "      <td>...</td>\n",
       "      <td>1.350323</td>\n",
       "      <td>0.532214</td>\n",
       "      <td>0.055539</td>\n",
       "      <td>0.400933</td>\n",
       "      <td>-1.310688</td>\n",
       "      <td>-0.858116</td>\n",
       "      <td>-1.395794</td>\n",
       "      <td>-0.718810</td>\n",
       "      <td>-0.468080</td>\n",
       "      <td>-0.632501</td>\n",
       "    </tr>\n",
       "    <tr>\n",
       "      <th>1362474c-0fb5-4932-a33d-5a30f23ac7e3</th>\n",
       "      <td>0.530928</td>\n",
       "      <td>-0.125398</td>\n",
       "      <td>0.240713</td>\n",
       "      <td>0.019653</td>\n",
       "      <td>-0.229103</td>\n",
       "      <td>-0.166655</td>\n",
       "      <td>0.437510</td>\n",
       "      <td>-0.061838</td>\n",
       "      <td>0.652226</td>\n",
       "      <td>-0.331285</td>\n",
       "      <td>...</td>\n",
       "      <td>0.377994</td>\n",
       "      <td>0.530889</td>\n",
       "      <td>0.730464</td>\n",
       "      <td>0.599494</td>\n",
       "      <td>-0.453643</td>\n",
       "      <td>0.076641</td>\n",
       "      <td>-0.503213</td>\n",
       "      <td>-0.298964</td>\n",
       "      <td>0.419390</td>\n",
       "      <td>0.407210</td>\n",
       "    </tr>\n",
       "    <tr>\n",
       "      <th>148b0326-09e2-404f-9de6-aff6d44f2a38</th>\n",
       "      <td>-1.059317</td>\n",
       "      <td>-0.039864</td>\n",
       "      <td>-0.295534</td>\n",
       "      <td>0.569944</td>\n",
       "      <td>-0.838731</td>\n",
       "      <td>-1.300833</td>\n",
       "      <td>-0.957274</td>\n",
       "      <td>-0.598171</td>\n",
       "      <td>-1.060460</td>\n",
       "      <td>-0.639011</td>\n",
       "      <td>...</td>\n",
       "      <td>0.281590</td>\n",
       "      <td>-0.814580</td>\n",
       "      <td>-0.785701</td>\n",
       "      <td>-0.849949</td>\n",
       "      <td>-0.929211</td>\n",
       "      <td>-0.836690</td>\n",
       "      <td>-1.062755</td>\n",
       "      <td>-1.223528</td>\n",
       "      <td>-1.427204</td>\n",
       "      <td>-0.331969</td>\n",
       "    </tr>\n",
       "    <tr>\n",
       "      <th>17ac0e20-b292-492c-9adc-faf60a068926</th>\n",
       "      <td>-0.707446</td>\n",
       "      <td>-0.634108</td>\n",
       "      <td>-0.643700</td>\n",
       "      <td>-0.530637</td>\n",
       "      <td>-0.604507</td>\n",
       "      <td>-0.831617</td>\n",
       "      <td>-0.719502</td>\n",
       "      <td>-0.370019</td>\n",
       "      <td>-0.271252</td>\n",
       "      <td>-0.509442</td>\n",
       "      <td>...</td>\n",
       "      <td>-1.010840</td>\n",
       "      <td>-0.695880</td>\n",
       "      <td>-0.677418</td>\n",
       "      <td>-0.750684</td>\n",
       "      <td>0.569370</td>\n",
       "      <td>1.290186</td>\n",
       "      <td>0.679299</td>\n",
       "      <td>0.745929</td>\n",
       "      <td>1.620069</td>\n",
       "      <td>1.377839</td>\n",
       "    </tr>\n",
       "    <tr>\n",
       "      <th>199ea69c-5e20-4b53-9bfb-0534aaeb68d6</th>\n",
       "      <td>0.008153</td>\n",
       "      <td>-0.257167</td>\n",
       "      <td>-0.194140</td>\n",
       "      <td>0.019653</td>\n",
       "      <td>0.162353</td>\n",
       "      <td>0.721189</td>\n",
       "      <td>0.034761</td>\n",
       "      <td>-0.428433</td>\n",
       "      <td>-0.502395</td>\n",
       "      <td>-0.445394</td>\n",
       "      <td>...</td>\n",
       "      <td>0.281252</td>\n",
       "      <td>-0.532110</td>\n",
       "      <td>-0.410885</td>\n",
       "      <td>-0.051088</td>\n",
       "      <td>-0.289241</td>\n",
       "      <td>0.084908</td>\n",
       "      <td>-0.086507</td>\n",
       "      <td>-0.178381</td>\n",
       "      <td>0.548996</td>\n",
       "      <td>0.473382</td>\n",
       "    </tr>\n",
       "  </tbody>\n",
       "</table>\n",
       "<p>5 rows × 92 columns</p>\n",
       "</div>"
      ],
      "text/plain": [
       "description                           nz ratio daily calls  mean daily calls  \\\n",
       "05fa68e5-0ba3-4783-9c07-42740c4914c6              1.638166          0.459233   \n",
       "1362474c-0fb5-4932-a33d-5a30f23ac7e3              0.530928         -0.125398   \n",
       "148b0326-09e2-404f-9de6-aff6d44f2a38             -1.059317         -0.039864   \n",
       "17ac0e20-b292-492c-9adc-faf60a068926             -0.707446         -0.634108   \n",
       "199ea69c-5e20-4b53-9bfb-0534aaeb68d6              0.008153         -0.257167   \n",
       "\n",
       "description                           std daily calls  mad daily calls  \\\n",
       "05fa68e5-0ba3-4783-9c07-42740c4914c6        -0.282473         0.569944   \n",
       "1362474c-0fb5-4932-a33d-5a30f23ac7e3         0.240713         0.019653   \n",
       "148b0326-09e2-404f-9de6-aff6d44f2a38        -0.295534         0.569944   \n",
       "17ac0e20-b292-492c-9adc-faf60a068926        -0.643700        -0.530637   \n",
       "199ea69c-5e20-4b53-9bfb-0534aaeb68d6        -0.194140         0.019653   \n",
       "\n",
       "description                           mean unique daily calls  \\\n",
       "05fa68e5-0ba3-4783-9c07-42740c4914c6                 2.417638   \n",
       "1362474c-0fb5-4932-a33d-5a30f23ac7e3                -0.229103   \n",
       "148b0326-09e2-404f-9de6-aff6d44f2a38                -0.838731   \n",
       "17ac0e20-b292-492c-9adc-faf60a068926                -0.604507   \n",
       "199ea69c-5e20-4b53-9bfb-0534aaeb68d6                 0.162353   \n",
       "\n",
       "description                           std unique daily calls  \\\n",
       "05fa68e5-0ba3-4783-9c07-42740c4914c6                1.543069   \n",
       "1362474c-0fb5-4932-a33d-5a30f23ac7e3               -0.166655   \n",
       "148b0326-09e2-404f-9de6-aff6d44f2a38               -1.300833   \n",
       "17ac0e20-b292-492c-9adc-faf60a068926               -0.831617   \n",
       "199ea69c-5e20-4b53-9bfb-0534aaeb68d6                0.721189   \n",
       "\n",
       "description                           nz ratio daily duration  \\\n",
       "05fa68e5-0ba3-4783-9c07-42740c4914c6                 1.821908   \n",
       "1362474c-0fb5-4932-a33d-5a30f23ac7e3                 0.437510   \n",
       "148b0326-09e2-404f-9de6-aff6d44f2a38                -0.957274   \n",
       "17ac0e20-b292-492c-9adc-faf60a068926                -0.719502   \n",
       "199ea69c-5e20-4b53-9bfb-0534aaeb68d6                 0.034761   \n",
       "\n",
       "description                           mean duration daily calls  \\\n",
       "05fa68e5-0ba3-4783-9c07-42740c4914c6                   0.002234   \n",
       "1362474c-0fb5-4932-a33d-5a30f23ac7e3                  -0.061838   \n",
       "148b0326-09e2-404f-9de6-aff6d44f2a38                  -0.598171   \n",
       "17ac0e20-b292-492c-9adc-faf60a068926                  -0.370019   \n",
       "199ea69c-5e20-4b53-9bfb-0534aaeb68d6                  -0.428433   \n",
       "\n",
       "description                           std duration daily calls  \\\n",
       "05fa68e5-0ba3-4783-9c07-42740c4914c6                  0.027925   \n",
       "1362474c-0fb5-4932-a33d-5a30f23ac7e3                  0.652226   \n",
       "148b0326-09e2-404f-9de6-aff6d44f2a38                 -1.060460   \n",
       "17ac0e20-b292-492c-9adc-faf60a068926                 -0.271252   \n",
       "199ea69c-5e20-4b53-9bfb-0534aaeb68d6                 -0.502395   \n",
       "\n",
       "description                           mad duration daily calls  ...  \\\n",
       "05fa68e5-0ba3-4783-9c07-42740c4914c6                  0.273862  ...   \n",
       "1362474c-0fb5-4932-a33d-5a30f23ac7e3                 -0.331285  ...   \n",
       "148b0326-09e2-404f-9de6-aff6d44f2a38                 -0.639011  ...   \n",
       "17ac0e20-b292-492c-9adc-faf60a068926                 -0.509442  ...   \n",
       "199ea69c-5e20-4b53-9bfb-0534aaeb68d6                 -0.445394  ...   \n",
       "\n",
       "description                           ar daily num of calls lag-16  \\\n",
       "05fa68e5-0ba3-4783-9c07-42740c4914c6                      1.350323   \n",
       "1362474c-0fb5-4932-a33d-5a30f23ac7e3                      0.377994   \n",
       "148b0326-09e2-404f-9de6-aff6d44f2a38                      0.281590   \n",
       "17ac0e20-b292-492c-9adc-faf60a068926                     -1.010840   \n",
       "199ea69c-5e20-4b53-9bfb-0534aaeb68d6                      0.281252   \n",
       "\n",
       "description                           ar daily mean dur of calls lag-1  \\\n",
       "05fa68e5-0ba3-4783-9c07-42740c4914c6                          0.532214   \n",
       "1362474c-0fb5-4932-a33d-5a30f23ac7e3                          0.530889   \n",
       "148b0326-09e2-404f-9de6-aff6d44f2a38                         -0.814580   \n",
       "17ac0e20-b292-492c-9adc-faf60a068926                         -0.695880   \n",
       "199ea69c-5e20-4b53-9bfb-0534aaeb68d6                         -0.532110   \n",
       "\n",
       "description                           ar daily mean dur of calls lag-4  \\\n",
       "05fa68e5-0ba3-4783-9c07-42740c4914c6                          0.055539   \n",
       "1362474c-0fb5-4932-a33d-5a30f23ac7e3                          0.730464   \n",
       "148b0326-09e2-404f-9de6-aff6d44f2a38                         -0.785701   \n",
       "17ac0e20-b292-492c-9adc-faf60a068926                         -0.677418   \n",
       "199ea69c-5e20-4b53-9bfb-0534aaeb68d6                         -0.410885   \n",
       "\n",
       "description                           ar daily mean dur of calls lag-16  \\\n",
       "05fa68e5-0ba3-4783-9c07-42740c4914c6                           0.400933   \n",
       "1362474c-0fb5-4932-a33d-5a30f23ac7e3                           0.599494   \n",
       "148b0326-09e2-404f-9de6-aff6d44f2a38                          -0.849949   \n",
       "17ac0e20-b292-492c-9adc-faf60a068926                          -0.750684   \n",
       "199ea69c-5e20-4b53-9bfb-0534aaeb68d6                          -0.051088   \n",
       "\n",
       "description                           ivi irregularity daily number calls  \\\n",
       "05fa68e5-0ba3-4783-9c07-42740c4914c6                            -1.310688   \n",
       "1362474c-0fb5-4932-a33d-5a30f23ac7e3                            -0.453643   \n",
       "148b0326-09e2-404f-9de6-aff6d44f2a38                            -0.929211   \n",
       "17ac0e20-b292-492c-9adc-faf60a068926                             0.569370   \n",
       "199ea69c-5e20-4b53-9bfb-0534aaeb68d6                            -0.289241   \n",
       "\n",
       "description                           ivi irregularity daily duration calls  \\\n",
       "05fa68e5-0ba3-4783-9c07-42740c4914c6                              -0.858116   \n",
       "1362474c-0fb5-4932-a33d-5a30f23ac7e3                               0.076641   \n",
       "148b0326-09e2-404f-9de6-aff6d44f2a38                              -0.836690   \n",
       "17ac0e20-b292-492c-9adc-faf60a068926                               1.290186   \n",
       "199ea69c-5e20-4b53-9bfb-0534aaeb68d6                               0.084908   \n",
       "\n",
       "description                           ivi irr daily mean delta between calls  \\\n",
       "05fa68e5-0ba3-4783-9c07-42740c4914c6                               -1.395794   \n",
       "1362474c-0fb5-4932-a33d-5a30f23ac7e3                               -0.503213   \n",
       "148b0326-09e2-404f-9de6-aff6d44f2a38                               -1.062755   \n",
       "17ac0e20-b292-492c-9adc-faf60a068926                                0.679299   \n",
       "199ea69c-5e20-4b53-9bfb-0534aaeb68d6                               -0.086507   \n",
       "\n",
       "description                           ivi irregularity daily night calls  \\\n",
       "05fa68e5-0ba3-4783-9c07-42740c4914c6                           -0.718810   \n",
       "1362474c-0fb5-4932-a33d-5a30f23ac7e3                           -0.298964   \n",
       "148b0326-09e2-404f-9de6-aff6d44f2a38                           -1.223528   \n",
       "17ac0e20-b292-492c-9adc-faf60a068926                            0.745929   \n",
       "199ea69c-5e20-4b53-9bfb-0534aaeb68d6                           -0.178381   \n",
       "\n",
       "description                           ivi irregularity daily number incoming calls  \\\n",
       "05fa68e5-0ba3-4783-9c07-42740c4914c6                                     -0.468080   \n",
       "1362474c-0fb5-4932-a33d-5a30f23ac7e3                                      0.419390   \n",
       "148b0326-09e2-404f-9de6-aff6d44f2a38                                     -1.427204   \n",
       "17ac0e20-b292-492c-9adc-faf60a068926                                      1.620069   \n",
       "199ea69c-5e20-4b53-9bfb-0534aaeb68d6                                      0.548996   \n",
       "\n",
       "description                           ivi irregularity daily number outgoing calls  \n",
       "05fa68e5-0ba3-4783-9c07-42740c4914c6                                     -0.632501  \n",
       "1362474c-0fb5-4932-a33d-5a30f23ac7e3                                      0.407210  \n",
       "148b0326-09e2-404f-9de6-aff6d44f2a38                                     -0.331969  \n",
       "17ac0e20-b292-492c-9adc-faf60a068926                                      1.377839  \n",
       "199ea69c-5e20-4b53-9bfb-0534aaeb68d6                                      0.473382  \n",
       "\n",
       "[5 rows x 92 columns]"
      ]
     },
     "execution_count": 49,
     "metadata": {},
     "output_type": "execute_result"
    }
   ],
   "source": [
    "y.head(5)"
   ]
  },
  {
   "cell_type": "code",
   "execution_count": 8,
   "metadata": {},
   "outputs": [],
   "source": [
    "y.to_csv('/Users/smuel/Developer/Python/louie7_mvp/score_vec_zscore_0.csv')"
   ]
  },
  {
   "cell_type": "code",
   "execution_count": 19,
   "metadata": {},
   "outputs": [],
   "source": [
    "rdata = list_of_json_files(path)"
   ]
  },
  {
   "cell_type": "code",
   "execution_count": 20,
   "metadata": {},
   "outputs": [
    {
     "data": {
      "text/plain": [
       "'148b0326-09e2-404f-9de6-aff6d44f2a38'"
      ]
     },
     "execution_count": 20,
     "metadata": {},
     "output_type": "execute_result"
    }
   ],
   "source": [
    "rdata[3][0]"
   ]
  },
  {
   "cell_type": "code",
   "execution_count": 21,
   "metadata": {},
   "outputs": [],
   "source": [
    "raw = group_metadata(path)"
   ]
  },
  {
   "cell_type": "code",
   "execution_count": 22,
   "metadata": {},
   "outputs": [],
   "source": [
    "uid  = '148b0326-09e2-404f-9de6-aff6d44f2a38'\n",
    "file = '148b0326-09e2-404f-9de6-aff6d44f2a38_10-08-2021_20-19-48.json'\n",
    "raw_data = json.load(codecs.open(path + file, 'r', 'utf-8-sig'))"
   ]
  },
  {
   "cell_type": "code",
   "execution_count": 23,
   "metadata": {},
   "outputs": [],
   "source": [
    "loc, df_r = create_df_from_init_metadata(uid, raw_data)"
   ]
  },
  {
   "cell_type": "code",
   "execution_count": 24,
   "metadata": {},
   "outputs": [
    {
     "data": {
      "text/plain": [
       "32"
      ]
     },
     "execution_count": 24,
     "metadata": {},
     "output_type": "execute_result"
    }
   ],
   "source": [
    "clogs = df_r['148b0326-09e2-404f-9de6-aff6d44f2a38_CallLogs']\n",
    "len(clogs)"
   ]
  },
  {
   "cell_type": "code",
   "execution_count": 25,
   "metadata": {},
   "outputs": [
    {
     "data": {
      "text/html": [
       "<div>\n",
       "<style scoped>\n",
       "    .dataframe tbody tr th:only-of-type {\n",
       "        vertical-align: middle;\n",
       "    }\n",
       "\n",
       "    .dataframe tbody tr th {\n",
       "        vertical-align: top;\n",
       "    }\n",
       "\n",
       "    .dataframe thead th {\n",
       "        text-align: right;\n",
       "    }\n",
       "</style>\n",
       "<table border=\"1\" class=\"dataframe\">\n",
       "  <thead>\n",
       "    <tr style=\"text-align: right;\">\n",
       "      <th></th>\n",
       "      <th>CALL_NUMBER</th>\n",
       "      <th>CALL_DATE_TIME</th>\n",
       "      <th>CALL_TYPE</th>\n",
       "      <th>CALL_DURATION</th>\n",
       "    </tr>\n",
       "  </thead>\n",
       "  <tbody>\n",
       "    <tr>\n",
       "      <th>0</th>\n",
       "      <td>5E3274DC1E352E75268D4E2AA2B793EAF2765289</td>\n",
       "      <td>2021-03-23 11:18:30.387000064</td>\n",
       "      <td>OUTGOING</td>\n",
       "      <td>0</td>\n",
       "    </tr>\n",
       "    <tr>\n",
       "      <th>1</th>\n",
       "      <td>0727634E9CA7A06166970C05823974A0EAECE1DF</td>\n",
       "      <td>2021-03-24 06:13:43.811000064</td>\n",
       "      <td>OUTGOING</td>\n",
       "      <td>0</td>\n",
       "    </tr>\n",
       "    <tr>\n",
       "      <th>2</th>\n",
       "      <td>0727634E9CA7A06166970C05823974A0EAECE1DF</td>\n",
       "      <td>2021-03-24 06:14:21.612000000</td>\n",
       "      <td>OUTGOING</td>\n",
       "      <td>0</td>\n",
       "    </tr>\n",
       "    <tr>\n",
       "      <th>3</th>\n",
       "      <td>0727634E9CA7A06166970C05823974A0EAECE1DF</td>\n",
       "      <td>2021-03-24 06:14:57.224000000</td>\n",
       "      <td>OUTGOING</td>\n",
       "      <td>0</td>\n",
       "    </tr>\n",
       "    <tr>\n",
       "      <th>4</th>\n",
       "      <td>0727634E9CA7A06166970C05823974A0EAECE1DF</td>\n",
       "      <td>2021-03-24 06:15:32.982000128</td>\n",
       "      <td>OUTGOING</td>\n",
       "      <td>0</td>\n",
       "    </tr>\n",
       "  </tbody>\n",
       "</table>\n",
       "</div>"
      ],
      "text/plain": [
       "                                CALL_NUMBER                CALL_DATE_TIME  \\\n",
       "0  5E3274DC1E352E75268D4E2AA2B793EAF2765289 2021-03-23 11:18:30.387000064   \n",
       "1  0727634E9CA7A06166970C05823974A0EAECE1DF 2021-03-24 06:13:43.811000064   \n",
       "2  0727634E9CA7A06166970C05823974A0EAECE1DF 2021-03-24 06:14:21.612000000   \n",
       "3  0727634E9CA7A06166970C05823974A0EAECE1DF 2021-03-24 06:14:57.224000000   \n",
       "4  0727634E9CA7A06166970C05823974A0EAECE1DF 2021-03-24 06:15:32.982000128   \n",
       "\n",
       "  CALL_TYPE CALL_DURATION  \n",
       "0  OUTGOING             0  \n",
       "1  OUTGOING             0  \n",
       "2  OUTGOING             0  \n",
       "3  OUTGOING             0  \n",
       "4  OUTGOING             0  "
      ]
     },
     "execution_count": 25,
     "metadata": {},
     "output_type": "execute_result"
    }
   ],
   "source": [
    "clogs.head(5)"
   ]
  },
  {
   "cell_type": "code",
   "execution_count": 26,
   "metadata": {},
   "outputs": [],
   "source": [
    "x = clogs['CALL_DURATION']"
   ]
  },
  {
   "cell_type": "code",
   "execution_count": 27,
   "metadata": {},
   "outputs": [
    {
     "data": {
      "text/plain": [
       "19    54\n",
       "21    18\n",
       "22    43\n",
       "28    32\n",
       "31    28\n",
       "Name: CALL_DURATION, dtype: object"
      ]
     },
     "execution_count": 27,
     "metadata": {},
     "output_type": "execute_result"
    }
   ],
   "source": [
    "x[x != '0']"
   ]
  },
  {
   "cell_type": "code",
   "execution_count": 28,
   "metadata": {},
   "outputs": [],
   "source": [
    "def f(data):\n",
    "    y = lambda x: x.astype(np.float64)\n",
    "    return np.sum(y(data))"
   ]
  },
  {
   "cell_type": "code",
   "execution_count": 29,
   "metadata": {},
   "outputs": [],
   "source": [
    "sample_field = 'CALL_DATE_TIME'\n",
    "data_field = 'CALL_NUMBER'\n",
    "dur_field = 'CALL_DURATION'"
   ]
  },
  {
   "cell_type": "code",
   "execution_count": 30,
   "metadata": {},
   "outputs": [],
   "source": [
    "from vector_creator.preprocess.est_by_df_column import *\n",
    "from vector_creator.preprocess.entropy import *\n",
    "from vector_creator.preprocess.auto_regression import *\n",
    "from vector_creator.preprocess.ivi_irregularity import *\n",
    "from vector_creator.score_vectors.score_vectors_assembly import *"
   ]
  },
  {
   "cell_type": "code",
   "execution_count": 31,
   "metadata": {},
   "outputs": [
    {
     "data": {
      "text/plain": [
       "[0.02727272727272727, 58.333333333333336, 3.091206165165235, 1.482602218505602]"
      ]
     },
     "execution_count": 31,
     "metadata": {},
     "output_type": "execute_result"
    }
   ],
   "source": [
    "mean_std_func(clogs, sample_field, dur_field, f, 'D')"
   ]
  },
  {
   "cell_type": "code",
   "execution_count": 34,
   "metadata": {},
   "outputs": [
    {
     "data": {
      "text/plain": [
       "[0.0, 0.0]"
      ]
     },
     "execution_count": 34,
     "metadata": {},
     "output_type": "execute_result"
    }
   ],
   "source": [
    "daily_mean_std_by_cat(clogs, sample_field, data_field, 'CALL_TYPE', 'INCOMING', 'nunique')"
   ]
  },
  {
   "cell_type": "code",
   "execution_count": 33,
   "metadata": {},
   "outputs": [
    {
     "data": {
      "text/plain": [
       "[0.0, 0.0, 0.0]"
      ]
     },
     "execution_count": 33,
     "metadata": {},
     "output_type": "execute_result"
    }
   ],
   "source": [
    "daily_mean_std_by_cat(clogs, sample_field, dur_field, 'CALL_TYPE', 'INCOMING', f)"
   ]
  },
  {
   "cell_type": "code",
   "execution_count": 37,
   "metadata": {},
   "outputs": [],
   "source": [
    "call_logs = ['INCOMING', 'OUTGOING', 'MISSED']"
   ]
  },
  {
   "cell_type": "code",
   "execution_count": 35,
   "metadata": {},
   "outputs": [
    {
     "data": {
      "text/plain": [
       "[1.5742840955380732]"
      ]
     },
     "execution_count": 35,
     "metadata": {},
     "output_type": "execute_result"
    }
   ],
   "source": [
    "entropy_of_freq_by_cat(clogs, freq_col=sample_field, cat_col='CALL_TYPE', cat='OUTGOING')"
   ]
  },
  {
   "cell_type": "code",
   "execution_count": 42,
   "metadata": {},
   "outputs": [
    {
     "data": {
      "text/plain": [
       "[-1.0]"
      ]
     },
     "execution_count": 42,
     "metadata": {},
     "output_type": "execute_result"
    }
   ],
   "source": [
    "entropy_of_number_by_cat(clogs, data_field, 'CALL_TYPE', call_logs[0])"
   ]
  },
  {
   "cell_type": "code",
   "execution_count": 41,
   "metadata": {},
   "outputs": [
    {
     "data": {
      "text/plain": [
       "[2.251629167387823]"
      ]
     },
     "execution_count": 41,
     "metadata": {},
     "output_type": "execute_result"
    }
   ],
   "source": [
    "entropy_of_duration_by_cat(clogs, dur_field, 'CALL_TYPE', call_logs[1])"
   ]
  },
  {
   "cell_type": "code",
   "execution_count": null,
   "metadata": {},
   "outputs": [],
   "source": []
  }
 ],
 "metadata": {
  "kernelspec": {
   "display_name": "Python 3",
   "language": "python",
   "name": "python3"
  },
  "language_info": {
   "codemirror_mode": {
    "name": "ipython",
    "version": 3
   },
   "file_extension": ".py",
   "mimetype": "text/x-python",
   "name": "python",
   "nbconvert_exporter": "python",
   "pygments_lexer": "ipython3",
   "version": "3.8.6"
  }
 },
 "nbformat": 4,
 "nbformat_minor": 5
}
