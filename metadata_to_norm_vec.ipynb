{
 "cells": [
  {
   "cell_type": "code",
   "execution_count": 1,
   "metadata": {},
   "outputs": [],
   "source": [
    "import numpy as np\n",
    "import pandas as pd\n",
    "import json\n",
    "import codecs\n",
    "import datetime\n",
    "import os\n",
    "import sys"
   ]
  },
  {
   "cell_type": "code",
   "execution_count": 2,
   "metadata": {},
   "outputs": [],
   "source": [
    "sys.path.append('.')"
   ]
  },
  {
   "cell_type": "code",
   "execution_count": 3,
   "metadata": {},
   "outputs": [],
   "source": [
    "import matplotlib as mpl\n",
    "import matplotlib.pyplot as plt\n"
   ]
  },
  {
   "cell_type": "code",
   "execution_count": 4,
   "metadata": {},
   "outputs": [],
   "source": [
    "from statsmodels.graphics.tsaplots import plot_pacf\n",
    "from statsmodels.graphics.tsaplots import plot_acf"
   ]
  },
  {
   "cell_type": "code",
   "execution_count": 5,
   "metadata": {},
   "outputs": [],
   "source": [
    "def plot_df(df, x, y, title=\"\", xlabel='Date', ylabel='Value', dpi=100):\n",
    "    plt.figure(figsize=(16,9), dpi=dpi)\n",
    "    plt.plot(x, y, color='tab:blue')\n",
    "    plt.gca().set(title=title, xlabel=xlabel, ylabel=ylabel)\n",
    "    plt.show()"
   ]
  },
  {
   "cell_type": "code",
   "execution_count": 6,
   "metadata": {},
   "outputs": [],
   "source": [
    "path = '/Users/smuel/AndroidStudioProjects/LuckyMeIntgratedSDK/metadata_init_phase/'"
   ]
  },
  {
   "cell_type": "code",
   "execution_count": 7,
   "metadata": {},
   "outputs": [],
   "source": [
    "from vector_creator.raw_to_df.rawdata_to_df import create_df_from_init_metadata, group_metadata \n",
    "from vector_creator.score_vectors.score_vectors_assembly import run_score_vector, score_vector_constructor, score_vector_for_init_metadata\n",
    "from vector_creator.preprocess.utils import calc_number_of_days\n",
    "from vector_creator.preprocess.entropy import entropy_of_freq_by_cat"
   ]
  },
  {
   "cell_type": "code",
   "execution_count": 8,
   "metadata": {},
   "outputs": [
    {
     "name": "stdout",
     "output_type": "stream",
     "text": [
      "call-logs:  493\n",
      "05fa68e5-0ba3-4783-9c07-42740c4914c6 processed\n",
      "call-logs:  3\n",
      "12fa7561-2e77-4334-b9e1-6858ed27570f to small to process\n",
      "call-logs:  1400\n",
      "1362474c-0fb5-4932-a33d-5a30f23ac7e3 processed\n",
      "call-logs:  189\n",
      "17ac0e20-b292-492c-9adc-faf60a068926 processed\n",
      "call-logs:  813\n",
      "199ea69c-5e20-4b53-9bfb-0534aaeb68d6 processed\n",
      "call-logs:  1049\n",
      "1abd59a3-553f-43db-a329-90c28c72afdd processed\n",
      "call-logs:  2000\n",
      "20380cd2-055e-4f3a-a339-90a1c7df4e1a processed\n",
      "call-logs:  2500\n",
      "236b91d2-cefb-405a-9de5-a3673ef1c736 processed\n",
      "call-logs:  38\n",
      "25174909-3427-42d2-9e14-65f7c95f240b processed\n",
      "call-logs:  15\n",
      "25ba2284-51e3-4eb9-a2c8-fa3a0eaeeca9 to small to process\n",
      "call-logs:  2710\n",
      "2afbf7b0-6202-49bb-814f-ddba906bab48 processed\n",
      "call-logs:  0\n",
      "2afc4c23-161f-4fc5-b4ba-e567f5327d22 to small to process\n",
      "call-logs:  217\n",
      "36f05b2e-4164-49a6-ba0c-d78997ecdcae to small to process\n",
      "call-logs:  277\n",
      "3e4c39d0-d2ec-45c3-91cc-4c80ccf171be processed\n",
      "call-logs:  24\n",
      "588aeafe-5c4d-4bc9-84c5-8ae28029c733 to small to process\n",
      "call-logs:  918\n",
      "5e0b1bf2-2aba-4745-b91f-916554d51e9f processed\n",
      "call-logs:  30\n",
      "6ff9fca8-f981-46e5-93cc-4fab4190d758 to small to process\n",
      "call-logs:  167\n",
      "759240f7-1248-4334-aad5-fd384b524d3d processed\n",
      "call-logs:  2\n",
      "a296ae00-fcd4-418c-aaae-49b1f13fcbd5 to small to process\n",
      "(12, 92)\n"
     ]
    }
   ],
   "source": [
    "res1 = score_vector_constructor(path, 'call-logs')"
   ]
  },
  {
   "cell_type": "code",
   "execution_count": 9,
   "metadata": {},
   "outputs": [
    {
     "data": {
      "text/plain": [
       "description\n",
       "nz ratio daily calls                            0.476635\n",
       "mean daily calls                                7.013447\n",
       "std daily calls                                 6.733207\n",
       "mad daily calls                                 3.026980\n",
       "mean unique daily calls                         2.300418\n",
       "                                                  ...   \n",
       "ivi irregularity daily duration calls           2.965504\n",
       "ivi irr daily mean delta between calls          2.687804\n",
       "ivi irregularity daily night calls              2.612522\n",
       "ivi irregularity daily number incoming calls    1.828819\n",
       "ivi irregularity daily number outgoing calls    1.899580\n",
       "Length: 92, dtype: float64"
      ]
     },
     "execution_count": 9,
     "metadata": {},
     "output_type": "execute_result"
    }
   ],
   "source": [
    "res1[1]"
   ]
  },
  {
   "cell_type": "code",
   "execution_count": 10,
   "metadata": {},
   "outputs": [
    {
     "data": {
      "text/plain": [
       "92"
      ]
     },
     "execution_count": 10,
     "metadata": {},
     "output_type": "execute_result"
    }
   ],
   "source": [
    "len(res1[0].columns)"
   ]
  },
  {
   "cell_type": "code",
   "execution_count": 11,
   "metadata": {},
   "outputs": [],
   "source": [
    "res1[0].to_csv('/Users/smuel/Developer/Python/louie7_mvp/score_vec_norm.csv')\n",
    "res1[1].to_csv('/Users/smuel/Developer/Python/louie7_mvp/score_vec_meam.csv')"
   ]
  },
  {
   "cell_type": "code",
   "execution_count": 7,
   "metadata": {},
   "outputs": [],
   "source": [
    "rows_with_nan = [index for index, row in res0.iterrows() if row.isnull().any()]"
   ]
  },
  {
   "cell_type": "code",
   "execution_count": 8,
   "metadata": {},
   "outputs": [
    {
     "data": {
      "text/plain": [
       "[]"
      ]
     },
     "execution_count": 8,
     "metadata": {},
     "output_type": "execute_result"
    }
   ],
   "source": [
    "rows_with_nan"
   ]
  },
  {
   "cell_type": "code",
   "execution_count": 5,
   "metadata": {},
   "outputs": [],
   "source": [
    "import oci\n",
    "import json\n",
    "from oci.config import validate_config"
   ]
  },
  {
   "cell_type": "code",
   "execution_count": 9,
   "metadata": {},
   "outputs": [],
   "source": [
    "rdata = list_of_json_files(path)"
   ]
  },
  {
   "cell_type": "code",
   "execution_count": 10,
   "metadata": {},
   "outputs": [
    {
     "data": {
      "text/plain": [
       "'6ff9fca8-f981-46e5-93cc-4fab4190d758'"
      ]
     },
     "execution_count": 10,
     "metadata": {},
     "output_type": "execute_result"
    }
   ],
   "source": [
    "rdata[16][0]"
   ]
  },
  {
   "cell_type": "code",
   "execution_count": 8,
   "metadata": {},
   "outputs": [],
   "source": [
    "raw = group_metadata(path)"
   ]
  },
  {
   "cell_type": "code",
   "execution_count": 9,
   "metadata": {},
   "outputs": [],
   "source": [
    "uid  = '05fa68e5-0ba3-4783-9c07-42740c4914c6'\n",
    "file = '05fa68e5-0ba3-4783-9c07-42740c4914c6_11-06-2021_09-53-01.json'\n",
    "raw_data = json.load(codecs.open(path + file, 'r', 'utf-8-sig'))"
   ]
  },
  {
   "cell_type": "code",
   "execution_count": 10,
   "metadata": {},
   "outputs": [],
   "source": [
    "loc, df_r = create_df_from_init_metadata(uid, raw_data)"
   ]
  },
  {
   "cell_type": "code",
   "execution_count": 11,
   "metadata": {},
   "outputs": [
    {
     "data": {
      "text/plain": [
       "493"
      ]
     },
     "execution_count": 11,
     "metadata": {},
     "output_type": "execute_result"
    }
   ],
   "source": [
    "clogs = df_r['05fa68e5-0ba3-4783-9c07-42740c4914c6_CallLogs']\n",
    "len(clogs)"
   ]
  },
  {
   "cell_type": "code",
   "execution_count": 12,
   "metadata": {},
   "outputs": [
    {
     "data": {
      "text/html": [
       "<div>\n",
       "<style scoped>\n",
       "    .dataframe tbody tr th:only-of-type {\n",
       "        vertical-align: middle;\n",
       "    }\n",
       "\n",
       "    .dataframe tbody tr th {\n",
       "        vertical-align: top;\n",
       "    }\n",
       "\n",
       "    .dataframe thead th {\n",
       "        text-align: right;\n",
       "    }\n",
       "</style>\n",
       "<table border=\"1\" class=\"dataframe\">\n",
       "  <thead>\n",
       "    <tr style=\"text-align: right;\">\n",
       "      <th></th>\n",
       "      <th>CALL_NUMBER</th>\n",
       "      <th>CALL_DATE_TIME</th>\n",
       "      <th>CALL_TYPE</th>\n",
       "      <th>CALL_DURATION</th>\n",
       "    </tr>\n",
       "  </thead>\n",
       "  <tbody>\n",
       "    <tr>\n",
       "      <th>0</th>\n",
       "      <td>588957574B738DBFD1C851F3F2FE248C1D20A20C</td>\n",
       "      <td>2020-07-12 15:33:27.936999936</td>\n",
       "      <td>INCOMING</td>\n",
       "      <td>42</td>\n",
       "    </tr>\n",
       "    <tr>\n",
       "      <th>1</th>\n",
       "      <td>588957574B738DBFD1C851F3F2FE248C1D20A20C</td>\n",
       "      <td>2020-07-13 06:22:11.676000000</td>\n",
       "      <td>INCOMING</td>\n",
       "      <td>43</td>\n",
       "    </tr>\n",
       "    <tr>\n",
       "      <th>2</th>\n",
       "      <td>588957574B738DBFD1C851F3F2FE248C1D20A20C</td>\n",
       "      <td>2020-07-13 09:59:22.920000000</td>\n",
       "      <td>NaN</td>\n",
       "      <td>0</td>\n",
       "    </tr>\n",
       "    <tr>\n",
       "      <th>3</th>\n",
       "      <td>588957574B738DBFD1C851F3F2FE248C1D20A20C</td>\n",
       "      <td>2020-07-13 09:59:38.879000064</td>\n",
       "      <td>OUTGOING</td>\n",
       "      <td>0</td>\n",
       "    </tr>\n",
       "    <tr>\n",
       "      <th>4</th>\n",
       "      <td>AE183B922FA98F156CF973AAED3FA7C194D3BA37</td>\n",
       "      <td>2020-07-13 10:33:59.004000000</td>\n",
       "      <td>MISSED</td>\n",
       "      <td>0</td>\n",
       "    </tr>\n",
       "  </tbody>\n",
       "</table>\n",
       "</div>"
      ],
      "text/plain": [
       "                                CALL_NUMBER                CALL_DATE_TIME  \\\n",
       "0  588957574B738DBFD1C851F3F2FE248C1D20A20C 2020-07-12 15:33:27.936999936   \n",
       "1  588957574B738DBFD1C851F3F2FE248C1D20A20C 2020-07-13 06:22:11.676000000   \n",
       "2  588957574B738DBFD1C851F3F2FE248C1D20A20C 2020-07-13 09:59:22.920000000   \n",
       "3  588957574B738DBFD1C851F3F2FE248C1D20A20C 2020-07-13 09:59:38.879000064   \n",
       "4  AE183B922FA98F156CF973AAED3FA7C194D3BA37 2020-07-13 10:33:59.004000000   \n",
       "\n",
       "  CALL_TYPE CALL_DURATION  \n",
       "0  INCOMING            42  \n",
       "1  INCOMING            43  \n",
       "2       NaN             0  \n",
       "3  OUTGOING             0  \n",
       "4    MISSED             0  "
      ]
     },
     "execution_count": 12,
     "metadata": {},
     "output_type": "execute_result"
    }
   ],
   "source": [
    "clogs.head(5)"
   ]
  },
  {
   "cell_type": "code",
   "execution_count": 13,
   "metadata": {},
   "outputs": [],
   "source": [
    "x = clogs['CALL_DURATION']"
   ]
  },
  {
   "cell_type": "code",
   "execution_count": 21,
   "metadata": {},
   "outputs": [
    {
     "data": {
      "text/plain": [
       "0       42\n",
       "1       43\n",
       "5       63\n",
       "8      215\n",
       "12     881\n",
       "      ... \n",
       "487     33\n",
       "488    103\n",
       "489     14\n",
       "491     27\n",
       "492     20\n",
       "Name: CALL_DURATION, Length: 289, dtype: object"
      ]
     },
     "execution_count": 21,
     "metadata": {},
     "output_type": "execute_result"
    }
   ],
   "source": [
    "x[x != '0']"
   ]
  },
  {
   "cell_type": "code",
   "execution_count": 17,
   "metadata": {},
   "outputs": [
    {
     "data": {
      "text/plain": [
       "0      15\n",
       "1       6\n",
       "2       9\n",
       "3       9\n",
       "4      10\n",
       "       ..\n",
       "488     8\n",
       "489     9\n",
       "490     9\n",
       "491    13\n",
       "492    14\n",
       "Name: CALL_DATE_TIME, Length: 493, dtype: int64"
      ]
     },
     "execution_count": 17,
     "metadata": {},
     "output_type": "execute_result"
    }
   ],
   "source": [
    "clogs.CALL_DATE_TIME.dt.hour"
   ]
  },
  {
   "cell_type": "code",
   "execution_count": 18,
   "metadata": {},
   "outputs": [],
   "source": [
    "freq_col = 'CALL_DATE_TIME'\n",
    "clogs['HOUR'] = clogs.CALL_DATE_TIME.dt.hour\n",
    "y = clogs.groupby('HOUR')['HOUR'].agg('count')"
   ]
  },
  {
   "cell_type": "code",
   "execution_count": 15,
   "metadata": {},
   "outputs": [],
   "source": [
    "z = clogs.groupby('CALL_NUMBER')['CALL_NUMBER'].agg('count')"
   ]
  },
  {
   "cell_type": "code",
   "execution_count": 16,
   "metadata": {},
   "outputs": [
    {
     "data": {
      "text/plain": [
       "76"
      ]
     },
     "execution_count": 16,
     "metadata": {},
     "output_type": "execute_result"
    }
   ],
   "source": [
    "len(z)"
   ]
  },
  {
   "cell_type": "code",
   "execution_count": 17,
   "metadata": {},
   "outputs": [
    {
     "data": {
      "text/plain": [
       "array([  1,   4,  20,   4,   1,   4,   3,   5,   1,   1,  12,   1, 103,\n",
       "         2,   1,   1,   1,   9,   1,   1,  15,   1,   2,   1,  72,   4,\n",
       "         1,   1,   3,  10,   1,   1,   2,   2,   2,   1,   1,   5,   1,\n",
       "        12,   2,   1,  20,   1,   3,   8,   4,   4,   1,   2,   1,   1,\n",
       "        41,   2,   1,   2,   1,   1,  15,   3,   3,   1,   1,   2,   1,\n",
       "         3,   1,  14,   2,   1,   5,  13,   1,  14,   2,   1])"
      ]
     },
     "execution_count": 17,
     "metadata": {},
     "output_type": "execute_result"
    }
   ],
   "source": [
    "z.to_numpy()"
   ]
  },
  {
   "cell_type": "code",
   "execution_count": 13,
   "metadata": {},
   "outputs": [],
   "source": [
    "def f(data):\n",
    "    y = lambda x: x.astype(np.float64)\n",
    "    return np.sum(y(data))"
   ]
  },
  {
   "cell_type": "code",
   "execution_count": 14,
   "metadata": {},
   "outputs": [],
   "source": [
    "sample_field = 'CALL_DATE_TIME'\n",
    "data_field = 'CALL_NUMBER'\n",
    "dur_field = 'CALL_DURATION'\n",
    "x = clogs.groupby(pd.Grouper(key=sample_field, freq='D')).agg({dur_field : [f]})"
   ]
  },
  {
   "cell_type": "code",
   "execution_count": 16,
   "metadata": {},
   "outputs": [],
   "source": [
    "a = x[dur_field].values.T[0]"
   ]
  },
  {
   "cell_type": "code",
   "execution_count": 17,
   "metadata": {},
   "outputs": [
    {
     "data": {
      "text/plain": [
       "55"
      ]
     },
     "execution_count": 17,
     "metadata": {},
     "output_type": "execute_result"
    }
   ],
   "source": [
    "len(a)"
   ]
  },
  {
   "cell_type": "code",
   "execution_count": 24,
   "metadata": {},
   "outputs": [],
   "source": [
    "b = a[a>0]"
   ]
  },
  {
   "cell_type": "code",
   "execution_count": 25,
   "metadata": {},
   "outputs": [
    {
     "data": {
      "text/plain": [
       "0.9818181818181818"
      ]
     },
     "execution_count": 25,
     "metadata": {},
     "output_type": "execute_result"
    }
   ],
   "source": [
    "len(b)/len(a)"
   ]
  },
  {
   "cell_type": "code",
   "execution_count": 24,
   "metadata": {},
   "outputs": [],
   "source": [
    "ds = clogs.groupby(pd.Grouper(key=sample_field, freq='D')).apply(lambda x : x.pivot_table(index=[data_field], aggfunc='size'))"
   ]
  },
  {
   "cell_type": "code",
   "execution_count": 25,
   "metadata": {},
   "outputs": [],
   "source": [
    "ds0 = ds[ds > 0]"
   ]
  },
  {
   "cell_type": "code",
   "execution_count": 26,
   "metadata": {},
   "outputs": [
    {
     "data": {
      "text/plain": [
       "pandas.core.series.Series"
      ]
     },
     "execution_count": 26,
     "metadata": {},
     "output_type": "execute_result"
    }
   ],
   "source": [
    "type(ds0)"
   ]
  },
  {
   "cell_type": "code",
   "execution_count": 27,
   "metadata": {},
   "outputs": [
    {
     "data": {
      "text/plain": [
       "1.0"
      ]
     },
     "execution_count": 27,
     "metadata": {},
     "output_type": "execute_result"
    }
   ],
   "source": [
    "len(ds0)/ len(ds)"
   ]
  },
  {
   "cell_type": "code",
   "execution_count": 28,
   "metadata": {},
   "outputs": [],
   "source": [
    "x1 = ds.groupby(level=0).agg(np.mean)"
   ]
  },
  {
   "cell_type": "code",
   "execution_count": 29,
   "metadata": {},
   "outputs": [
    {
     "data": {
      "text/plain": [
       "54"
      ]
     },
     "execution_count": 29,
     "metadata": {},
     "output_type": "execute_result"
    }
   ],
   "source": [
    "len(x1.values)"
   ]
  },
  {
   "cell_type": "code",
   "execution_count": 30,
   "metadata": {},
   "outputs": [
    {
     "data": {
      "text/plain": [
       "265"
      ]
     },
     "execution_count": 30,
     "metadata": {},
     "output_type": "execute_result"
    }
   ],
   "source": [
    "len(ds)"
   ]
  },
  {
   "cell_type": "code",
   "execution_count": 1,
   "metadata": {},
   "outputs": [],
   "source": [
    "from vector_creator.preprocess.est_by_df_column import *\n",
    "from vector_creator.preprocess.entropy import *\n",
    "from vector_creator.score_vectors.score_vectors_assembly import *"
   ]
  },
  {
   "cell_type": "code",
   "execution_count": 28,
   "metadata": {},
   "outputs": [
    {
     "data": {
      "text/plain": [
       "[1355.037037037037, 1369.1015973306885, 920.6959776919789]"
      ]
     },
     "execution_count": 28,
     "metadata": {},
     "output_type": "execute_result"
    }
   ],
   "source": [
    "mean_std_func(clogs, sample_field, dur_field, f, 'D')"
   ]
  },
  {
   "cell_type": "code",
   "execution_count": 29,
   "metadata": {},
   "outputs": [
    {
     "data": {
      "text/plain": [
       "[2.34, 1.258729518204765, 1.482602218505602]"
      ]
     },
     "execution_count": 29,
     "metadata": {},
     "output_type": "execute_result"
    }
   ],
   "source": [
    "daily_mean_std_by_cat(clogs, sample_field, data_field, 'CALL_TYPE', 'INCOMING', 'nunique')"
   ]
  },
  {
   "cell_type": "code",
   "execution_count": 30,
   "metadata": {},
   "outputs": [
    {
     "data": {
      "text/plain": [
       "[515.86, 738.84488250241, 260.937990456986]"
      ]
     },
     "execution_count": 30,
     "metadata": {},
     "output_type": "execute_result"
    }
   ],
   "source": [
    "daily_mean_std_by_cat(clogs, sample_field, dur_field, 'CALL_TYPE', 'INCOMING', f)"
   ]
  },
  {
   "cell_type": "code",
   "execution_count": 35,
   "metadata": {},
   "outputs": [
    {
     "data": {
      "text/plain": [
       "[3.8068484118337214]"
      ]
     },
     "execution_count": 35,
     "metadata": {},
     "output_type": "execute_result"
    }
   ],
   "source": [
    "entropy_of_freq_by_cat(clogs, freq_col=sample_field, cat_col='CALL_TYPE', cat='INCOMING')"
   ]
  },
  {
   "cell_type": "code",
   "execution_count": 15,
   "metadata": {},
   "outputs": [
    {
     "data": {
      "text/plain": [
       "0.8458327267604646"
      ]
     },
     "execution_count": 15,
     "metadata": {},
     "output_type": "execute_result"
    }
   ],
   "source": [
    "5.932203/7.013447"
   ]
  },
  {
   "cell_type": "code",
   "execution_count": null,
   "metadata": {},
   "outputs": [],
   "source": []
  }
 ],
 "metadata": {
  "kernelspec": {
   "display_name": "Python 3",
   "language": "python",
   "name": "python3"
  },
  "language_info": {
   "codemirror_mode": {
    "name": "ipython",
    "version": 3
   },
   "file_extension": ".py",
   "mimetype": "text/x-python",
   "name": "python",
   "nbconvert_exporter": "python",
   "pygments_lexer": "ipython3",
   "version": "3.8.6"
  }
 },
 "nbformat": 4,
 "nbformat_minor": 5
}
