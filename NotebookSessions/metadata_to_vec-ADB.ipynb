{
 "cells": [
  {
   "cell_type": "code",
   "execution_count": null,
   "id": "5e6c955e",
   "metadata": {},
   "outputs": [],
   "source": [
    "import numpy as np\n",
    "import pandas as pd\n",
    "import json\n",
    "import codecs\n",
    "import datetime\n",
    "import os\n",
    "import sys"
   ]
  },
  {
   "cell_type": "code",
   "execution_count": null,
   "id": "67f583ea",
   "metadata": {},
   "outputs": [],
   "source": [
    "sys.path.append('../')"
   ]
  },
  {
   "cell_type": "code",
   "execution_count": null,
   "id": "77250771",
   "metadata": {},
   "outputs": [],
   "source": [
    "import matplotlib as mpl\n",
    "import matplotlib.pyplot as plt\n",
    "plt.rcParams[\"figure.figsize\"] = (24, 16)"
   ]
  },
  {
   "cell_type": "code",
   "execution_count": null,
   "id": "5581e38d",
   "metadata": {},
   "outputs": [],
   "source": [
    "import oci\n",
    "import json\n",
    "from oci.config import validate_config\n",
    "from sklearn.covariance import MinCovDet "
   ]
  },
  {
   "cell_type": "code",
   "execution_count": null,
   "id": "36c5f46b",
   "metadata": {},
   "outputs": [],
   "source": [
    "namespace = \"lrzustouvvrg\"\n",
    "bucket_name = \"sdk-initial-data-bucket\"\n",
    "config = oci.config.from_file(\n",
    "        \"~/.oci/config\",\n",
    "        \"DEFAULT\")"
   ]
  },
  {
   "cell_type": "code",
   "execution_count": null,
   "id": "1a73b2cf",
   "metadata": {},
   "outputs": [],
   "source": [
    "\n"
   ]
  },
  {
   "cell_type": "code",
   "execution_count": null,
   "id": "c32f9467",
   "metadata": {},
   "outputs": [],
   "source": [
    "validate_config(config)"
   ]
  },
  {
   "cell_type": "code",
   "execution_count": null,
   "id": "2d63f7fc",
   "metadata": {},
   "outputs": [],
   "source": [
    "object_storage_client = oci.object_storage.ObjectStorageClient(config)\n",
    "next_starts_with = None\n",
    "object_list = object_storage_client.list_objects(namespace, bucket_name , fields='name, timeCreated, size', start=next_starts_with)"
   ]
  },
  {
   "cell_type": "code",
   "execution_count": 13,
   "id": "6e236d38",
   "metadata": {},
   "outputs": [],
   "source": [
    "from vector_creator.score_vectors.score_vectors_assembly import score_vector_from_bucket\n"
   ]
  },
  {
   "cell_type": "code",
   "execution_count": 14,
   "id": "c62bf3c5",
   "metadata": {},
   "outputs": [],
   "source": [
    "import multiprocessing as mp"
   ]
  },
  {
   "cell_type": "code",
   "execution_count": 15,
   "id": "d1894b34",
   "metadata": {},
   "outputs": [
    {
     "ename": "NameError",
     "evalue": "name 'mp' is not defined",
     "output_type": "error",
     "traceback": [
      "\u001b[0;31m---------------------------------------------------------------------------\u001b[0m",
      "\u001b[0;31mNameError\u001b[0m                                 Traceback (most recent call last)",
      "\u001b[0;32m<ipython-input-15-9f9fef7fa169>\u001b[0m in \u001b[0;36m<module>\u001b[0;34m\u001b[0m\n\u001b[1;32m      6\u001b[0m                                  \u001b[0mbucket_name\u001b[0m\u001b[0;34m,\u001b[0m\u001b[0;34m\u001b[0m\u001b[0;34m\u001b[0m\u001b[0m\n\u001b[1;32m      7\u001b[0m                                  \u001b[0mnext_starts_with\u001b[0m\u001b[0;34m,\u001b[0m\u001b[0;34m\u001b[0m\u001b[0;34m\u001b[0m\u001b[0m\n\u001b[0;32m----> 8\u001b[0;31m                                  mp.cpu_count())\n\u001b[0m\u001b[1;32m      9\u001b[0m     \u001b[0mnext_starts_with\u001b[0m \u001b[0;34m=\u001b[0m \u001b[0mobject_list\u001b[0m\u001b[0;34m.\u001b[0m\u001b[0mdata\u001b[0m\u001b[0;34m.\u001b[0m\u001b[0mnext_start_with\u001b[0m\u001b[0;34m\u001b[0m\u001b[0;34m\u001b[0m\u001b[0m\n\u001b[1;32m     10\u001b[0m     \u001b[0mres\u001b[0m\u001b[0;34m.\u001b[0m\u001b[0mappend\u001b[0m\u001b[0;34m(\u001b[0m\u001b[0mr\u001b[0m\u001b[0;34m)\u001b[0m\u001b[0;34m\u001b[0m\u001b[0;34m\u001b[0m\u001b[0m\n",
      "\u001b[0;32m~/Louie7Predictors/vector_creator/score_vectors/score_vectors_assembly.py\u001b[0m in \u001b[0;36mscore_vector_from_bucket\u001b[0;34m(object_storage_client, flag, namespace, bucket_name, start_str, procs)\u001b[0m\n\u001b[1;32m    142\u001b[0m     \u001b[0mscore_vector_dict\u001b[0m \u001b[0;34m=\u001b[0m \u001b[0;34m{\u001b[0m\u001b[0;34m}\u001b[0m\u001b[0;34m\u001b[0m\u001b[0;34m\u001b[0m\u001b[0m\n\u001b[1;32m    143\u001b[0m     \u001b[0mobject_list\u001b[0m \u001b[0;34m=\u001b[0m \u001b[0mobject_storage_client\u001b[0m\u001b[0;34m.\u001b[0m\u001b[0mlist_objects\u001b[0m\u001b[0;34m(\u001b[0m\u001b[0mnamespace\u001b[0m\u001b[0;34m,\u001b[0m \u001b[0mbucket_name\u001b[0m\u001b[0;34m,\u001b[0m \u001b[0mstart\u001b[0m\u001b[0;34m=\u001b[0m\u001b[0mstart_str\u001b[0m\u001b[0;34m,\u001b[0m \u001b[0mfields\u001b[0m\u001b[0;34m=\u001b[0m\u001b[0;34m'name, timeCreated, size'\u001b[0m\u001b[0;34m)\u001b[0m\u001b[0;34m\u001b[0m\u001b[0;34m\u001b[0m\u001b[0m\n\u001b[0;32m--> 144\u001b[0;31m     \u001b[0mv_scores\u001b[0m \u001b[0;34m=\u001b[0m \u001b[0mpool_handler\u001b[0m\u001b[0;34m(\u001b[0m\u001b[0mobject_list\u001b[0m\u001b[0;34m.\u001b[0m\u001b[0mdata\u001b[0m\u001b[0;34m.\u001b[0m\u001b[0mobjects\u001b[0m\u001b[0;34m)\u001b[0m\u001b[0;34m\u001b[0m\u001b[0;34m\u001b[0m\u001b[0m\n\u001b[0m\u001b[1;32m    145\u001b[0m     \u001b[0;32mfor\u001b[0m \u001b[0mv_score\u001b[0m \u001b[0;32min\u001b[0m \u001b[0mv_scores\u001b[0m\u001b[0;34m:\u001b[0m\u001b[0;34m\u001b[0m\u001b[0;34m\u001b[0m\u001b[0m\n\u001b[1;32m    146\u001b[0m         \u001b[0mscore_vector_dict\u001b[0m\u001b[0;34m[\u001b[0m\u001b[0mv_score\u001b[0m\u001b[0;34m[\u001b[0m\u001b[0;36m0\u001b[0m\u001b[0;34m]\u001b[0m\u001b[0;34m.\u001b[0m\u001b[0mname\u001b[0m\u001b[0;34m]\u001b[0m \u001b[0;34m=\u001b[0m \u001b[0mv_score\u001b[0m\u001b[0;34m[\u001b[0m\u001b[0;36m0\u001b[0m\u001b[0;34m]\u001b[0m\u001b[0;34m\u001b[0m\u001b[0;34m\u001b[0m\u001b[0m\n",
      "\u001b[0;32m~/Louie7Predictors/vector_creator/score_vectors/score_vectors_assembly.py\u001b[0m in \u001b[0;36mpool_handler\u001b[0;34m(data)\u001b[0m\n\u001b[1;32m    136\u001b[0m \u001b[0;34m\u001b[0m\u001b[0m\n\u001b[1;32m    137\u001b[0m     \u001b[0;32mdef\u001b[0m \u001b[0mpool_handler\u001b[0m\u001b[0;34m(\u001b[0m\u001b[0mdata\u001b[0m\u001b[0;34m)\u001b[0m\u001b[0;34m:\u001b[0m\u001b[0;34m\u001b[0m\u001b[0;34m\u001b[0m\u001b[0m\n\u001b[0;32m--> 138\u001b[0;31m         \u001b[0mpool\u001b[0m \u001b[0;34m=\u001b[0m \u001b[0mmp\u001b[0m\u001b[0;34m.\u001b[0m\u001b[0mPool\u001b[0m\u001b[0;34m(\u001b[0m\u001b[0mprocesses\u001b[0m\u001b[0;34m=\u001b[0m\u001b[0mprocs\u001b[0m\u001b[0;34m)\u001b[0m\u001b[0;34m\u001b[0m\u001b[0;34m\u001b[0m\u001b[0m\n\u001b[0m\u001b[1;32m    139\u001b[0m         \u001b[0mv_scores\u001b[0m \u001b[0;34m=\u001b[0m \u001b[0mpool\u001b[0m\u001b[0;34m.\u001b[0m\u001b[0mmap\u001b[0m\u001b[0;34m(\u001b[0m\u001b[0mscore_vector_creator\u001b[0m\u001b[0;34m,\u001b[0m \u001b[0mdata\u001b[0m\u001b[0;34m)\u001b[0m\u001b[0;34m\u001b[0m\u001b[0;34m\u001b[0m\u001b[0m\n\u001b[1;32m    140\u001b[0m         \u001b[0;32mreturn\u001b[0m \u001b[0mv_scores\u001b[0m\u001b[0;34m\u001b[0m\u001b[0;34m\u001b[0m\u001b[0m\n",
      "\u001b[0;31mNameError\u001b[0m: name 'mp' is not defined"
     ]
    }
   ],
   "source": [
    "res = pd.DataFrame()\n",
    "for x in range (0,3):\n",
    "    r = score_vector_from_bucket(object_storage_client,\n",
    "                                 'photo-gallery', \n",
    "                                 namespace, \n",
    "                                 bucket_name, \n",
    "                                 next_starts_with,\n",
    "                                 mp.cpu_count())\n",
    "    next_starts_with = object_list.data.next_start_with\n",
    "    res.append(r)"
   ]
  },
  {
   "cell_type": "code",
   "execution_count": null,
   "id": "0fa3b64b",
   "metadata": {},
   "outputs": [],
   "source": [
    "next_starts_with = object_list.data.next_start_with"
   ]
  },
  {
   "cell_type": "code",
   "execution_count": null,
   "id": "e94fb38b",
   "metadata": {},
   "outputs": [],
   "source": [
    "res1 = score_vector_from_bucket(object_storage_client, 'photo-gallery', next_starts_with)\n",
    "#res1 = score_vector_from_bucket(object_storage_client, 'photo-gallery', namespace, bucket_name, next_starts_with)\n"
   ]
  },
  {
   "cell_type": "code",
   "execution_count": null,
   "id": "12f86feb",
   "metadata": {},
   "outputs": [],
   "source": [
    "res = res0.append(res1)"
   ]
  },
  {
   "cell_type": "code",
   "execution_count": null,
   "id": "33a281f5",
   "metadata": {},
   "outputs": [],
   "source": [
    "#res.to_csv('csv_files/photogallery_ver3.csv')"
   ]
  },
  {
   "cell_type": "code",
   "execution_count": null,
   "id": "761d0d13",
   "metadata": {},
   "outputs": [],
   "source": [
    "res.index.is_unique"
   ]
  },
  {
   "cell_type": "code",
   "execution_count": null,
   "id": "60db7ade",
   "metadata": {},
   "outputs": [],
   "source": [
    "inxs = res.index.values"
   ]
  },
  {
   "cell_type": "code",
   "execution_count": null,
   "id": "3e44fcce",
   "metadata": {},
   "outputs": [],
   "source": [
    "len(inxs)"
   ]
  },
  {
   "cell_type": "code",
   "execution_count": null,
   "id": "ac28e216",
   "metadata": {},
   "outputs": [],
   "source": [
    "from sklearn import preprocessing\n",
    "import ocifs\n",
    "import oci \n",
    "from ocifs import OCIFileSystem\n",
    "\n",
    "fs = OCIFileSystem()"
   ]
  },
  {
   "cell_type": "code",
   "execution_count": null,
   "id": "b9eb0d22",
   "metadata": {},
   "outputs": [],
   "source": [
    "def norm_df_2(df):\n",
    "    inxs = df.index.values\n",
    "    std_scale = preprocessing.StandardScaler().fit(df)\n",
    "    df_std = std_scale.transform(df)\n",
    "    return pd.DataFrame(df_std, columns=df.columns, index=inxs)\n",
    "\n",
    "#read the tags from json file for user register non register and create df with tag column\n",
    "def create_tag_df(json_file_path, column_name): # 'entries.json'\n",
    "    tag_data = json.load(codecs.open(json_file_path, 'r', 'utf-8-sig'))\n",
    "    df_tag = pd.DataFrame(tag_data)\n",
    "    df_tag = df_tag.rename(columns={column_name: ''}) # 'app_userid'\n",
    "    dftag = df_tag.set_index('')\n",
    "    return dftag"
   ]
  },
  {
   "cell_type": "code",
   "execution_count": null,
   "id": "c214b3cb",
   "metadata": {},
   "outputs": [],
   "source": [
    "df_n = norm_df_2(res)"
   ]
  },
  {
   "cell_type": "code",
   "execution_count": null,
   "id": "15d2ef5f",
   "metadata": {},
   "outputs": [],
   "source": [
    "df_n.values[:,4].std()"
   ]
  },
  {
   "cell_type": "code",
   "execution_count": null,
   "id": "9d21b954",
   "metadata": {},
   "outputs": [],
   "source": [
    "df_t = create_tag_df('entries.json', 'app_userid')\n",
    "df_j = df_n.join(df_t)\n",
    "df_j['User_Register'] = df_j['User_Register'].fillna('false')\n",
    "df_j.head(5)"
   ]
  },
  {
   "cell_type": "code",
   "execution_count": null,
   "id": "c54433e4",
   "metadata": {},
   "outputs": [],
   "source": [
    "len(df_j[df_j.User_Register == 'true'])"
   ]
  },
  {
   "cell_type": "code",
   "execution_count": null,
   "id": "3fb119ae",
   "metadata": {},
   "outputs": [],
   "source": [
    "#df_j.to_csv('csv_files/ModelFiles/photogallery_with_tag_for_xgboost_Oshik.csv')"
   ]
  },
  {
   "cell_type": "code",
   "execution_count": null,
   "id": "d05666fd",
   "metadata": {},
   "outputs": [],
   "source": [
    "   # to write the data to object storage use oci://bucket#namespace/part_{i}.csv\"\n",
    "res1.to_csv('oci://photogallery_with_tag@lrzustouvvrg/photogallery_with_tag_for_xgboost_Oshik.csv')"
   ]
  },
  {
   "cell_type": "code",
   "execution_count": null,
   "id": "4d17a2cd",
   "metadata": {},
   "outputs": [],
   "source": [
    "res1.head(5)"
   ]
  },
  {
   "cell_type": "code",
   "execution_count": null,
   "id": "cfa6b119",
   "metadata": {},
   "outputs": [],
   "source": [
    "import seaborn as sns\n",
    "import matplotlib.pyplot as plt\n",
    "from itertools import cycle\n",
    "import pandas as pd"
   ]
  },
  {
   "cell_type": "code",
   "execution_count": null,
   "id": "e1cef787",
   "metadata": {},
   "outputs": [],
   "source": [
    "from vector_creator.stats_models.estimators import *"
   ]
  },
  {
   "cell_type": "code",
   "execution_count": null,
   "id": "1a3e5f75",
   "metadata": {},
   "outputs": [],
   "source": [
    "nz = z_score(res.values)"
   ]
  },
  {
   "cell_type": "markdown",
   "id": "ce1e9cc8",
   "metadata": {},
   "source": [
    "<a id='setup'></a>\n",
    " Setting up your notebook session to access ADB"
   ]
  },
  {
   "cell_type": "code",
   "execution_count": null,
   "id": "1a5e4ad9",
   "metadata": {},
   "outputs": [],
   "source": [
    "import os\n",
    "# Enter connection information and wallet file directory\n",
    "\n",
    "database_name = \"DBlouie7\"\n",
    "wallet_storage_directory = os.path.join(os.path.expanduser(\"~\"),\"ADB\")"
   ]
  },
  {
   "cell_type": "code",
   "execution_count": null,
   "id": "0c4f281f",
   "metadata": {},
   "outputs": [],
   "source": []
  },
  {
   "cell_type": "code",
   "execution_count": null,
   "id": "8d200734",
   "metadata": {},
   "outputs": [],
   "source": []
  },
  {
   "cell_type": "code",
   "execution_count": null,
   "id": "4f2f4397",
   "metadata": {},
   "outputs": [],
   "source": [
    "import ads\n",
    "import configparser\n",
    "import re\n",
    "import shutil\n",
    "from tempfile import NamedTemporaryFile\n",
    "from zipfile import ZipFile\n",
    "\n",
    "ads.set_documentation_mode(False)\n",
    "\n",
    "# Create the wallet directory if missing: \n",
    "#os.makedirs(wallet_storage_directory, mode=0o700, exist_ok=True)\n",
    "\n",
    "wallet_path = os.path.join(wallet_storage_directory, database_name)\n",
    "\n",
    "# Prepare to store ADB connection information\n",
    "adb_config = os.path.join(wallet_storage_directory, '.credentials')\n",
    "\n",
    "# Write a configuration file for login creds.\n",
    "config = configparser.ConfigParser()\n",
    "config.read(adb_config)\n"
   ]
  },
  {
   "cell_type": "markdown",
   "id": "3b6a02ee",
   "metadata": {},
   "source": [
    "### Test the connection to the ADB.\n",
    "\n",
    "The easiest way to test the ADB connection is to run the `sqlplus` CLI tool. The `TNS_ADMIN` variable needs to be set and then the connection string is used to connect. This connection string is of the format `\\<user_name>/\\<password>@\\<SID>`. This information can be obtained from the credentials file.\n",
    "\n",
    "Once this is working, the notebook will demonstrate other methods to connect that are more practical for use within notebooks."
   ]
  },
  {
   "cell_type": "code",
   "execution_count": null,
   "id": "af5811db",
   "metadata": {},
   "outputs": [],
   "source": [
    "# Add TNS_ADMIN to the environment\n",
    "os.environ['TNS_ADMIN'] = config[database_name].get('tns_admin')\n",
    "\n",
    "# Test the database connection\n",
    "creds = config[database_name]\n",
    "connect = 'sqlplus ' + creds.get('user') + '/' + creds.get('password') + '@' + creds.get('sid')\n",
    "print(os.popen(connect).read())"
   ]
  },
  {
   "cell_type": "code",
   "execution_count": null,
   "id": "31ca46fd",
   "metadata": {},
   "outputs": [],
   "source": [
    "connection_parameters = {\n",
    "    \"user_name\": creds.get('user'),\n",
    "    \"password\": creds.get('password'),\n",
    "    \"service_name\": creds.get('sid'),\n",
    "    \"wallet_location\": \"/home/datascience/ADB/Wallet_DBlouie7.zip\",\n",
    "}"
   ]
  },
  {
   "cell_type": "markdown",
   "id": "db982a3e",
   "metadata": {},
   "source": [
    "df_j.ads.to_sql(\n",
    "    \"photogallery_with_tag_for_xgboost\",\n",
    "    connection_parameters=connection_parameters,\n",
    "    if_exists=\"replace\"\n",
    ")"
   ]
  },
  {
   "cell_type": "code",
   "execution_count": null,
   "id": "ea7d76b2",
   "metadata": {},
   "outputs": [],
   "source": [
    "df_j.ads.to_sql(\n",
    "    \"photogallery_with_tag_for_xgboost\",\n",
    "    connection_parameters=connection_parameters,\n",
    "    if_exists=\"replace\"\n",
    ")"
   ]
  },
  {
   "cell_type": "code",
   "execution_count": null,
   "id": "a50ead57",
   "metadata": {},
   "outputs": [],
   "source": [
    "df_j.head(5)"
   ]
  },
  {
   "cell_type": "markdown",
   "id": "0705d8eb",
   "metadata": {},
   "source": [
    "for i, df in enumerate(pd.DataFrame.ads.read_sql(\n",
    "        \"SELECT * FROM SH.SALES\",\n",
    "        chunksize=100000 # rows per chunk,\n",
    "        connection_parameters=connection_parameters,\n",
    "      ))\n",
    "   # each df will contain up to 100000 rows (chunksize)\n",
    "   # to write the data to object storage use oci://bucket#namespace/part_{i}.csv\"\n",
    "   df_j.to_csv(f\"(oci://photogallery_with_tag@lrzustouvvrg/part_{i}.csv\")"
   ]
  },
  {
   "cell_type": "code",
   "execution_count": null,
   "id": "86129d09",
   "metadata": {},
   "outputs": [],
   "source": [
    "res1.to_csv(\"oci://photogallery_with_tag@myanmespace/photogallery_with_tags.csv\", \n",
    "                storage_options={\"config\": \"~/.oci/config\"})"
   ]
  }
 ],
 "metadata": {
  "kernelspec": {
   "display_name": "Python [conda env:dataexpl_p37_cpu_v2]",
   "language": "python",
   "name": "conda-env-dataexpl_p37_cpu_v2-py"
  },
  "language_info": {
   "codemirror_mode": {
    "name": "ipython",
    "version": 3
   },
   "file_extension": ".py",
   "mimetype": "text/x-python",
   "name": "python",
   "nbconvert_exporter": "python",
   "pygments_lexer": "ipython3",
   "version": "3.7.10"
  }
 },
 "nbformat": 4,
 "nbformat_minor": 5
}
