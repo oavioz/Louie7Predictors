{
 "cells": [
  {
   "cell_type": "code",
   "execution_count": null,
   "id": "3ada38c1",
   "metadata": {},
   "outputs": [],
   "source": [
    "import numpy as np\n",
    "import pandas as pd\n",
    "import json\n",
    "import codecs\n",
    "import datetime\n",
    "import os\n",
    "import sys"
   ]
  },
  {
   "cell_type": "code",
   "execution_count": null,
   "id": "a1b9915f",
   "metadata": {},
   "outputs": [],
   "source": [
    "sys.path.append('../')"
   ]
  },
  {
   "cell_type": "code",
   "execution_count": null,
   "id": "c4f22335",
   "metadata": {},
   "outputs": [],
   "source": [
    "import matplotlib as mpl\n",
    "import matplotlib.pyplot as plt\n",
    "plt.rcParams[\"figure.figsize\"] = (24, 16)"
   ]
  },
  {
   "cell_type": "code",
   "execution_count": null,
   "id": "da9f8091",
   "metadata": {},
   "outputs": [],
   "source": [
    "import oci\n",
    "import json\n",
    "from oci.config import validate_config\n",
    "from sklearn.covariance import MinCovDet "
   ]
  },
  {
   "cell_type": "code",
   "execution_count": null,
   "id": "0f7185d7",
   "metadata": {},
   "outputs": [],
   "source": [
    "tenancyId=\"ocid1.tenancy.oc1..aaaaaaaahkzl4rzvgxjfnrfcj7rzlsdav25h7tsx7kjxyv2bmwkfpzpag26q\" # Your tenancies OCID.\n",
    "authUserId=\"ocid1.user.oc1..aaaaaaaayltryoz33ole5eubwphwijkcvmi4ukbombh4aym2crp5j6xqxaxq\" # The OCID of the user ID being used.\n",
    "OCI_KEY_PATH=\"/home/datascience/.oci/oci_api_key.pem\" # Path of the key file.\n",
    "keyFingerprint=\"9a:47:38:96:c8:4d:bf:7e:32:3d:7c:c3:24:23:71:35\" # The fingerprint of the key file being used\n",
    "namespace = \"lrzustouvvrg\"\n",
    "bucket_name = \"sdk-initial-data-bucket\"\n",
    "config = {\n",
    "    \"user\": authUserId,\n",
    "    \"key_file\": OCI_KEY_PATH,\n",
    "    \"fingerprint\": keyFingerprint,\n",
    "    \"tenancy\": tenancyId,\n",
    "    \"region\": \"uk-london-1\"\n",
    "}"
   ]
  },
  {
   "cell_type": "code",
   "execution_count": null,
   "id": "420b3085",
   "metadata": {},
   "outputs": [],
   "source": [
    "validate_config(config)"
   ]
  },
  {
   "cell_type": "code",
   "execution_count": null,
   "id": "67a086ef",
   "metadata": {},
   "outputs": [],
   "source": [
    "object_storage_client = oci.object_storage.ObjectStorageClient(config)\n",
    "next_starts_with = None\n",
    "object_list = object_storage_client.list_objects(namespace, bucket_name , fields='name, timeCreated, size', start=next_starts_with)"
   ]
  },
  {
   "cell_type": "code",
   "execution_count": null,
   "id": "e7aa8083",
   "metadata": {},
   "outputs": [],
   "source": [
    "f = object_list.data.objects"
   ]
  },
  {
   "cell_type": "code",
   "execution_count": null,
   "id": "57abfab9",
   "metadata": {},
   "outputs": [],
   "source": [
    "f[0]"
   ]
  },
  {
   "cell_type": "code",
   "execution_count": null,
   "id": "9e7f663c",
   "metadata": {},
   "outputs": [],
   "source": [
    "object_list.data.objects[0]"
   ]
  },
  {
   "cell_type": "code",
   "execution_count": null,
   "id": "857addea",
   "metadata": {},
   "outputs": [],
   "source": [
    "len(f)"
   ]
  },
  {
   "cell_type": "code",
   "execution_count": null,
   "id": "822ecc58",
   "metadata": {},
   "outputs": [],
   "source": [
    "obj = object_storage_client.get_object(namespace, bucket_name, f[0].name).data"
   ]
  },
  {
   "cell_type": "code",
   "execution_count": null,
   "id": "37a7966d",
   "metadata": {},
   "outputs": [],
   "source": [
    "type(obj.content)"
   ]
  },
  {
   "cell_type": "code",
   "execution_count": null,
   "id": "2e1fbc3d",
   "metadata": {},
   "outputs": [],
   "source": [
    "j_obj = json.loads(obj.content)"
   ]
  },
  {
   "cell_type": "code",
   "execution_count": null,
   "id": "27070e2f",
   "metadata": {},
   "outputs": [],
   "source": [
    "type(j_obj)"
   ]
  },
  {
   "cell_type": "code",
   "execution_count": null,
   "id": "e3a44b3f",
   "metadata": {},
   "outputs": [],
   "source": [
    "from vector_creator.score_vectors.score_vectors_assembly import score_vector_from_bucket"
   ]
  },
  {
   "cell_type": "code",
   "execution_count": null,
   "id": "fb044d58",
   "metadata": {},
   "outputs": [],
   "source": [
    "res0 = score_vector_from_bucket(object_storage_client, 'photo-gallery', next_starts_with)"
   ]
  },
  {
   "cell_type": "code",
   "execution_count": null,
   "id": "a4c8d470",
   "metadata": {},
   "outputs": [],
   "source": [
    "res0.columns"
   ]
  },
  {
   "cell_type": "code",
   "execution_count": null,
   "id": "b75d3518",
   "metadata": {},
   "outputs": [],
   "source": [
    "next_starts_with = object_list.data.next_start_with"
   ]
  },
  {
   "cell_type": "code",
   "execution_count": null,
   "id": "bdca0a9e",
   "metadata": {},
   "outputs": [],
   "source": [
    "osc = object_storage_client.list_objects(namespace, bucket_name, start=next_starts_with, fields='name, timeCreated, size')\n",
    "g = osc.data.objects\n",
    "g[0], len(g)"
   ]
  },
  {
   "cell_type": "code",
   "execution_count": null,
   "id": "34dc03e2",
   "metadata": {},
   "outputs": [],
   "source": [
    "res1 = score_vector_from_bucket(object_storage_client, 'photo-gallery', next_starts_with)"
   ]
  },
  {
   "cell_type": "code",
   "execution_count": null,
   "id": "4ef982fc",
   "metadata": {},
   "outputs": [],
   "source": [
    "res = res0.append(res1)"
   ]
  },
  {
   "cell_type": "code",
   "execution_count": null,
   "id": "55c2c76c",
   "metadata": {},
   "outputs": [],
   "source": [
    "res.shape"
   ]
  },
  {
   "cell_type": "code",
   "execution_count": null,
   "id": "fd36d088",
   "metadata": {},
   "outputs": [],
   "source": [
    "res.index.is_unique"
   ]
  },
  {
   "cell_type": "code",
   "execution_count": null,
   "id": "9d633dbe",
   "metadata": {},
   "outputs": [],
   "source": [
    "inxs = res.index.values"
   ]
  },
  {
   "cell_type": "code",
   "execution_count": null,
   "id": "65c0094b",
   "metadata": {},
   "outputs": [],
   "source": [
    "len(inxs)"
   ]
  },
  {
   "cell_type": "code",
   "execution_count": null,
   "id": "fe5d627f",
   "metadata": {},
   "outputs": [],
   "source": [
    "from sklearn import preprocessing"
   ]
  },
  {
   "cell_type": "code",
   "execution_count": null,
   "id": "ad0b7a3c",
   "metadata": {},
   "outputs": [],
   "source": [
    "def norm_df_2(df):\n",
    "    inxs = df.index.values\n",
    "    std_scale = preprocessing.StandardScaler().fit(df)\n",
    "    df_std = std_scale.transform(df)\n",
    "    return pd.DataFrame(df_std, columns=df.columns, index=inxs)\n",
    "\n",
    "def minmax_norm(df):\n",
    "    inxs = df.index.values\n",
    "    minmax_scale = preprocessing.MinMaxScaler().fit(df)\n",
    "    df_minmax = minmax_scale.transform(df)\n",
    "    return pd.DataFrame(df_minmax, columns=df.columns, index=inxs)\n",
    "\n",
    "#read the tags from json file for user register non register and create df with tag column\n",
    "def create_tag_df(json_file_path, column_name): # 'entries.json'\n",
    "    tag_data = json.load(codecs.open(json_file_path, 'r', 'utf-8-sig'))\n",
    "    df_tag = pd.DataFrame(tag_data)\n",
    "    df_tag = df_tag.rename(columns={column_name: ''}) # 'app_userid'\n",
    "    dftag = df_tag.set_index('')\n",
    "    return dftag"
   ]
  },
  {
   "cell_type": "code",
   "execution_count": null,
   "id": "6c89235f",
   "metadata": {},
   "outputs": [],
   "source": [
    "df_n = norm_df_2(res)\n",
    "df_n.values[:,4].std()"
   ]
  },
  {
   "cell_type": "code",
   "execution_count": null,
   "id": "2c780b83",
   "metadata": {},
   "outputs": [],
   "source": [
    "df_mm = minmax_norm(res)"
   ]
  },
  {
   "cell_type": "code",
   "execution_count": null,
   "id": "e90b8020",
   "metadata": {},
   "outputs": [],
   "source": [
    "def join_target_to_df(df):\n",
    "    df_t = create_tag_df('../entries.json', 'app_userid')\n",
    "    df_t['User_Register'] = pd.Series(np.where(df_t.User_Register.values == 'true', 1, 0), df_t.index)\n",
    "    df_j = df.join(df_t)\n",
    "    return df_j"
   ]
  },
  {
   "cell_type": "code",
   "execution_count": null,
   "id": "42b2d428",
   "metadata": {},
   "outputs": [],
   "source": [
    "df_j = join_target_to_df(res)"
   ]
  },
  {
   "cell_type": "code",
   "execution_count": null,
   "id": "3389f842",
   "metadata": {},
   "outputs": [],
   "source": [
    "len(df_j[df_j.User_Register == 0.0]) , len(df_j[df_j.User_Register == 1.0])"
   ]
  },
  {
   "cell_type": "code",
   "execution_count": null,
   "id": "88b7deef",
   "metadata": {},
   "outputs": [],
   "source": [
    "df_j.to_csv('../temp.csv')"
   ]
  },
  {
   "cell_type": "code",
   "execution_count": null,
   "id": "ae303c2c",
   "metadata": {},
   "outputs": [],
   "source": [
    "len(df_j)"
   ]
  },
  {
   "cell_type": "code",
   "execution_count": null,
   "id": "3cdbf84c",
   "metadata": {},
   "outputs": [],
   "source": [
    "df_j.to_csv('../csv_files/ModelFiles/photogallery_installedapss_with_target_for_ml_model.csv')"
   ]
  },
  {
   "cell_type": "markdown",
   "id": "3d542781",
   "metadata": {},
   "source": [
    "TEST PHASE :"
   ]
  },
  {
   "cell_type": "code",
   "execution_count": null,
   "id": "5e8a3062",
   "metadata": {},
   "outputs": [],
   "source": [
    "from sklearn.manifold import TSNE\n",
    "from sklearn.decomposition import PCA\n",
    "from sklearn.cluster import KMeans, MeanShift, estimate_bandwidth"
   ]
  },
  {
   "cell_type": "code",
   "execution_count": null,
   "id": "1643b20e",
   "metadata": {},
   "outputs": [],
   "source": [
    "import seaborn as sns\n",
    "import matplotlib.pyplot as plt\n",
    "from itertools import cycle\n",
    "import pandas as pd"
   ]
  },
  {
   "cell_type": "code",
   "execution_count": null,
   "id": "c0da1eaf",
   "metadata": {},
   "outputs": [],
   "source": [
    "from vector_creator.stats_models.estimators import *"
   ]
  },
  {
   "cell_type": "code",
   "execution_count": null,
   "id": "a8faec36",
   "metadata": {},
   "outputs": [],
   "source": [
    "nz = z_score(res.values)"
   ]
  },
  {
   "cell_type": "code",
   "execution_count": null,
   "id": "2912e276",
   "metadata": {},
   "outputs": [],
   "source": [
    "nz.shape"
   ]
  },
  {
   "cell_type": "markdown",
   "id": "03c815e8",
   "metadata": {},
   "source": [
    "--> Start tSNE for 2D "
   ]
  },
  {
   "cell_type": "code",
   "execution_count": null,
   "id": "1bd76208",
   "metadata": {},
   "outputs": [],
   "source": [
    "tsne = TSNE(n_components=2, verbose=1, perplexity=50, n_iter=300, method='exact')"
   ]
  },
  {
   "cell_type": "code",
   "execution_count": null,
   "id": "ec8f9c1e",
   "metadata": {},
   "outputs": [],
   "source": [
    "tsne_res = tsne.fit_transform(res.values)"
   ]
  },
  {
   "cell_type": "code",
   "execution_count": null,
   "id": "cfdc047f",
   "metadata": {},
   "outputs": [],
   "source": [
    "df = pd.DataFrame(tsne_res, columns=['x_col', 'y_col'], index=inxs)"
   ]
  },
  {
   "cell_type": "code",
   "execution_count": null,
   "id": "91a44540",
   "metadata": {},
   "outputs": [],
   "source": [
    "df.shape"
   ]
  },
  {
   "cell_type": "code",
   "execution_count": null,
   "id": "118dee1c",
   "metadata": {},
   "outputs": [],
   "source": [
    "df.head(5)"
   ]
  },
  {
   "cell_type": "code",
   "execution_count": null,
   "id": "279efd8d",
   "metadata": {},
   "outputs": [],
   "source": [
    "plt.figure()\n",
    "sns.scatterplot(\n",
    "    x='x_col', \n",
    "    y='y_col',\n",
    "    data=df\n",
    ")"
   ]
  },
  {
   "cell_type": "markdown",
   "id": "c6e704a1",
   "metadata": {},
   "source": [
    "--> Mean Shift for tSNE-2D data frame"
   ]
  },
  {
   "cell_type": "code",
   "execution_count": null,
   "id": "28951bcb",
   "metadata": {},
   "outputs": [],
   "source": [
    "bandwidth = estimate_bandwidth(df, quantile=0.15)"
   ]
  },
  {
   "cell_type": "code",
   "execution_count": null,
   "id": "de495068",
   "metadata": {},
   "outputs": [],
   "source": [
    "ms = MeanShift(bandwidth=bandwidth, bin_seeding=False, cluster_all=False)\n",
    "ms.fit(df)"
   ]
  },
  {
   "cell_type": "code",
   "execution_count": null,
   "id": "04ee962b",
   "metadata": {},
   "outputs": [],
   "source": [
    "labels = ms.labels_\n",
    "cluster_centers = ms.cluster_centers_\n",
    "labels_unique = np.unique(labels)\n",
    "n_clusters_ = len(labels_unique)"
   ]
  },
  {
   "cell_type": "code",
   "execution_count": null,
   "id": "ecf382e6",
   "metadata": {},
   "outputs": [],
   "source": [
    "cluster_centers"
   ]
  },
  {
   "cell_type": "code",
   "execution_count": null,
   "id": "d98e73eb",
   "metadata": {},
   "outputs": [],
   "source": [
    "labels_unique"
   ]
  },
  {
   "cell_type": "code",
   "execution_count": null,
   "id": "712a2aaa",
   "metadata": {},
   "outputs": [],
   "source": [
    "n_clusters_"
   ]
  },
  {
   "cell_type": "markdown",
   "id": "c88cd8d3",
   "metadata": {},
   "source": [
    "--> Plot tSNE mean-shift 2D with uids as index to df "
   ]
  },
  {
   "cell_type": "code",
   "execution_count": null,
   "id": "426fdadc",
   "metadata": {},
   "outputs": [],
   "source": [
    "plt.figure()\n",
    "plt.clf()\n",
    "X = df.values\n",
    "colors = cycle('bgrcmykbgrcmykbgrcmykbgrcmyk')\n",
    "for k, col in zip(range(n_clusters_-1), colors):\n",
    "    my_members = labels == k\n",
    "    print(col, cluster_centers[k], k)\n",
    "    cluster_center = cluster_centers[k]\n",
    "    plt.plot(X[my_members, 0], X[my_members, 1], col + '.')\n",
    "    plt.plot(cluster_center[0], cluster_center[1], 'o', markerfacecolor=col,\n",
    "             markeredgecolor='k', markersize=14)\n",
    "plt.title('Estimated number of clusters: %d' % n_clusters_)\n",
    "plt.show()"
   ]
  },
  {
   "cell_type": "code",
   "execution_count": null,
   "id": "ac8084b6",
   "metadata": {},
   "outputs": [],
   "source": [
    "lbls = np.unique(ms.labels_)"
   ]
  },
  {
   "cell_type": "code",
   "execution_count": null,
   "id": "7ec68a64",
   "metadata": {},
   "outputs": [],
   "source": [
    "res['labels']= ms.labels_"
   ]
  },
  {
   "cell_type": "code",
   "execution_count": null,
   "id": "c4a0e307",
   "metadata": {},
   "outputs": [],
   "source": [
    "res.to_csv('../csv_files/ModelFiles/photogallery_installedapss_with_cluster_labels_for_ml_model.csv')"
   ]
  },
  {
   "cell_type": "code",
   "execution_count": null,
   "id": "c3abecd5",
   "metadata": {},
   "outputs": [],
   "source": [
    "def createdf_dict_by_lbl():\n",
    "    df_dict = {}\n",
    "    df_anom = {}\n",
    "    for i in np.nditer(lbls):\n",
    "        lbl = 'label-' + str(i)\n",
    "        df_lbl_i = res[res.labels == i]\n",
    "        del df_lbl_i['labels']\n",
    "        df_dict[lbl] = df_lbl_i\n",
    "    return df_dict\n",
    "    \n",
    "def create_df_by_func(func):\n",
    "    for i in np.nditer(lbls):\n",
    "        if i >= 0:\n",
    "            df_lbl_i = res[res.labels == i]\n",
    "            del df_lbl_i['labels']\n",
    "            col = 'label-' + str(i)\n",
    "            if(i == 0):\n",
    "                df_median = df_lbl_i.agg(func).to_frame()\n",
    "                df_median = df_median.rename(columns = {0: col})\n",
    "            else:\n",
    "                df_median[col] = df_lbl_i.agg(func).values\n",
    "    return df_median"
   ]
  },
  {
   "cell_type": "code",
   "execution_count": null,
   "id": "cc87c621",
   "metadata": {},
   "outputs": [],
   "source": [
    "df_lbl = createdf_dict_by_lbl()"
   ]
  },
  {
   "cell_type": "code",
   "execution_count": null,
   "id": "fbcb426d",
   "metadata": {},
   "outputs": [],
   "source": [
    "df_lbl.keys()"
   ]
  },
  {
   "cell_type": "code",
   "execution_count": null,
   "id": "3a1d00ec",
   "metadata": {},
   "outputs": [],
   "source": [
    "len(df_lbl['label--1'])"
   ]
  },
  {
   "cell_type": "code",
   "execution_count": null,
   "id": "78d62fe8",
   "metadata": {},
   "outputs": [],
   "source": [
    "df_median = create_df_by_func('median')\n",
    "df_mean = create_df_by_func('mean') "
   ]
  },
  {
   "cell_type": "code",
   "execution_count": null,
   "id": "612418c8",
   "metadata": {},
   "outputs": [],
   "source": [
    "plt.figure()\n",
    "df_median.plot.bar(color=['b', 'g', 'r', 'c', 'm', 'y', 'k', 'b'])"
   ]
  },
  {
   "cell_type": "code",
   "execution_count": null,
   "id": "76a7b00e",
   "metadata": {},
   "outputs": [],
   "source": [
    "df_mean.plot.bar(color=['b', 'g', 'r', 'c', 'm', 'y', 'k', 'b'])"
   ]
  },
  {
   "cell_type": "code",
   "execution_count": null,
   "id": "b2bde253",
   "metadata": {},
   "outputs": [],
   "source": [
    "#X = df_lbl['label-0'].values\n",
    "#Y = MinCovDet().fit(X)\n",
    "#Y.covariance_"
   ]
  },
  {
   "cell_type": "code",
   "execution_count": null,
   "id": "a7b6bc65",
   "metadata": {},
   "outputs": [],
   "source": [
    "df_lbl.keys()"
   ]
  },
  {
   "cell_type": "code",
   "execution_count": null,
   "id": "4248f2f6",
   "metadata": {},
   "outputs": [],
   "source": [
    "c = df_lbl['label-0'].corr()\n",
    "plt.matshow(c)\n",
    "plt.show()"
   ]
  },
  {
   "cell_type": "code",
   "execution_count": null,
   "id": "0bc9a5bf",
   "metadata": {},
   "outputs": [],
   "source": [
    "#del df_lbl5['labels']\n",
    "#dflbl4 = srlbl4.to_frame()\n",
    "#dflbl4.rename(columns = {0:'lvl-4'})"
   ]
  },
  {
   "cell_type": "code",
   "execution_count": null,
   "id": "e8f74615",
   "metadata": {},
   "outputs": [],
   "source": [
    "excel = df0.to_excel('csv_files/photo_gallery_yellow.xlsx')"
   ]
  },
  {
   "cell_type": "code",
   "execution_count": null,
   "id": "6eedcab8",
   "metadata": {},
   "outputs": [],
   "source": [
    "#read the tags from firebase json file for user register non register and create df with tag column\n",
    "def create_tag_df(f): # 'entries.json'\n",
    "    tag_data = json.load(codecs.open(f, 'r', 'utf-8-sig'))\n",
    "    df_tag = pd.DataFrame(tag_data)\n",
    "    df_tag = df_tag.rename(columns={'app_userid': ''})\n",
    "    dftag = df_tag.set_index('')\n",
    "    return dftag"
   ]
  },
  {
   "cell_type": "code",
   "execution_count": null,
   "id": "7f21dc68",
   "metadata": {},
   "outputs": [],
   "source": [
    "dftag = create_tag_df('entries.json')"
   ]
  },
  {
   "cell_type": "code",
   "execution_count": null,
   "id": "6e600ef2",
   "metadata": {},
   "outputs": [],
   "source": [
    "dfjoin = df.join(dftag)"
   ]
  },
  {
   "cell_type": "code",
   "execution_count": null,
   "id": "cdcb5b2a",
   "metadata": {},
   "outputs": [],
   "source": [
    "len(dfjoin)"
   ]
  },
  {
   "cell_type": "code",
   "execution_count": null,
   "id": "ac2846fe",
   "metadata": {},
   "outputs": [],
   "source": [
    "dfjoin['User_Register'] = dfjoin['User_Register'].fillna('false')\n",
    "len(dfjoin[dfjoin.User_Register == 'false'])"
   ]
  },
  {
   "cell_type": "code",
   "execution_count": null,
   "id": "55b610be",
   "metadata": {},
   "outputs": [],
   "source": [
    "dfjoin.to_csv('csv_files/taged_aggresive_photogallery.csv')"
   ]
  },
  {
   "cell_type": "code",
   "execution_count": null,
   "id": "804e6412",
   "metadata": {},
   "outputs": [],
   "source": [
    "dfjoin.head(5)"
   ]
  },
  {
   "cell_type": "code",
   "execution_count": null,
   "id": "6ed0747e",
   "metadata": {},
   "outputs": [],
   "source": [
    "#sns.scatterplot('population', 'Area', data=df, hue='continent')\n",
    "#sns.lmplot('population', 'Area', data=df, hue='continent', fit_reg=False)\n",
    "plt.figure(figsize=(10,8))\n",
    "sns.lmplot(\n",
    "    x='x_col', \n",
    "    y='y_col',\n",
    "    data=dfjoin,\n",
    "    hue='User_Register',\n",
    "    fit_reg=False,\n",
    "    height=8,\n",
    ")\n",
    "plt.show()"
   ]
  },
  {
   "cell_type": "markdown",
   "id": "4caa148c",
   "metadata": {},
   "source": [
    "--> tSNE for 3D"
   ]
  },
  {
   "cell_type": "code",
   "execution_count": null,
   "id": "7322573e",
   "metadata": {},
   "outputs": [],
   "source": [
    "tsne_3d = TSNE(n_components=3, verbose=1, perplexity=40, n_iter=300, method='exact')"
   ]
  },
  {
   "cell_type": "code",
   "execution_count": null,
   "id": "6298a4e4",
   "metadata": {},
   "outputs": [],
   "source": [
    "nz.shape"
   ]
  },
  {
   "cell_type": "code",
   "execution_count": null,
   "id": "0d2fe2cb",
   "metadata": {},
   "outputs": [],
   "source": [
    "tsne_res_3 = tsne_3d.fit_transform(nz)"
   ]
  },
  {
   "cell_type": "code",
   "execution_count": null,
   "id": "affbfc9d",
   "metadata": {},
   "outputs": [],
   "source": [
    "df3 = pd.DataFrame(tsne_res_3, columns=['x_col', 'y_col', 'z_col'], index=inxs)"
   ]
  },
  {
   "cell_type": "code",
   "execution_count": null,
   "id": "9c397d77",
   "metadata": {},
   "outputs": [],
   "source": [
    "df3.head(5)"
   ]
  },
  {
   "cell_type": "code",
   "execution_count": null,
   "id": "e9a5e5c0",
   "metadata": {},
   "outputs": [],
   "source": [
    "ax = plt.figure(figsize=(16,10)).gca(projection='3d')\n",
    "plt.axis()\n",
    "ax.scatter(\n",
    "    xs = df3['x_col'],\n",
    "    ys = df3['y_col'],\n",
    "    zs = df3['z_col'],\n",
    "    cmap='tab2'\n",
    ")\n",
    "ax.set_xlabel('x')\n",
    "ax.set_ylabel('y')\n",
    "ax.set_zlabel('z')\n",
    "ax.set_xlim(-10, 10)\n",
    "ax.set_ylim(-10, 10)\n",
    "ax.set_zlim(-12, 12)\n",
    "plt.show()"
   ]
  },
  {
   "cell_type": "code",
   "execution_count": null,
   "id": "76f8978a",
   "metadata": {},
   "outputs": [],
   "source": [
    "bw = estimate_bandwidth(df3, quantile=0.2, n_samples=200)"
   ]
  },
  {
   "cell_type": "code",
   "execution_count": null,
   "id": "98506dda",
   "metadata": {},
   "outputs": [],
   "source": [
    "ms = MeanShift(bandwidth=bw, bin_seeding=True)\n",
    "ms.fit(df3)"
   ]
  },
  {
   "cell_type": "code",
   "execution_count": null,
   "id": "1e949541",
   "metadata": {},
   "outputs": [],
   "source": [
    "labels = ms.labels_\n",
    "cluster_centers = ms.cluster_centers_\n",
    "labels_unique = np.unique(labels)\n",
    "n_clusters_ = len(labels_unique)"
   ]
  },
  {
   "cell_type": "code",
   "execution_count": null,
   "id": "9dcc4124",
   "metadata": {},
   "outputs": [],
   "source": [
    "cluster_centers"
   ]
  },
  {
   "cell_type": "code",
   "execution_count": null,
   "id": "d417a9c6",
   "metadata": {},
   "outputs": [],
   "source": [
    "fig = plt.figure()\n",
    "ax = plt.figure(figsize=(16,10)).gca(projection='3d')\n",
    "ax.view_init(45, 180)\n",
    "plt.axis()\n",
    "X = df3.values\n",
    "colors = cycle('bgrcmykbgrcmykbgrcmykbgrcmyk')\n",
    "for k, col in zip(range(n_clusters_), colors):\n",
    "    my_members = labels == k\n",
    "    cluster_center = cluster_centers[k]\n",
    "    plt.plot(X[my_members, 0], X[my_members, 1], X[my_members, 2], col + '.')\n",
    "    plt.plot(cluster_center[0], cluster_center[1], cluster_center[2], 'o', markerfacecolor=col,\n",
    "             markeredgecolor='k', markersize=14)\n",
    "plt.title('Estimated number of 3D clusters: %d' % n_clusters_)\n",
    "plt.show()"
   ]
  },
  {
   "cell_type": "code",
   "execution_count": null,
   "id": "2b413de3",
   "metadata": {},
   "outputs": [],
   "source": [
    "dfj3 = df3.join(dftag)\n",
    "dfj3['User_Register'] = dfj3['User_Register'].fillna('false')\n",
    "dfj3['User_Register'] = dfj3['User_Register'].map({'true': 'blue', 'false': 'red'})"
   ]
  },
  {
   "cell_type": "code",
   "execution_count": null,
   "id": "67f3003e",
   "metadata": {},
   "outputs": [],
   "source": [
    "len(dfj3[dfj3.User_Register == 'blue'])"
   ]
  },
  {
   "cell_type": "code",
   "execution_count": null,
   "id": "7269f5d0",
   "metadata": {},
   "outputs": [],
   "source": [
    "%matplotlib inline\n",
    "#%matplotlib notebook"
   ]
  },
  {
   "cell_type": "code",
   "execution_count": null,
   "id": "c23d0d30",
   "metadata": {},
   "outputs": [],
   "source": [
    "from mpl_toolkits.mplot3d import Axes3D\n",
    "#ax = plt.figure(figsize=(16,10)).gca(projection='3d')\n",
    "fig = plt.figure()\n",
    "ax = Axes3D(plt.figure(figsize=(10,8)))\n",
    "ax.view_init(45, 180)\n",
    "plt.axis()\n",
    "ax.scatter(\n",
    "    xs = dfj3['x_col'],\n",
    "    ys = dfj3['y_col'],\n",
    "    zs = dfj3['z_col'],\n",
    "    c=dfj3['User_Register'],\n",
    "    cmap='coolwarm'\n",
    ")\n",
    "ax.set_xlabel('x')\n",
    "ax.set_ylabel('y')\n",
    "ax.set_zlabel('z')\n",
    "ax.set_xlim(-12, 12)\n",
    "ax.set_ylim(-12, 12)\n",
    "ax.set_zlim(-12, 12)\n",
    "plt.show()"
   ]
  },
  {
   "cell_type": "code",
   "execution_count": null,
   "id": "90f2ba68",
   "metadata": {},
   "outputs": [],
   "source": [
    "type(ax)"
   ]
  },
  {
   "cell_type": "code",
   "execution_count": null,
   "id": "6e89bd41",
   "metadata": {},
   "outputs": [],
   "source": []
  }
 ],
 "metadata": {
  "kernelspec": {
   "display_name": "Python [conda env:dataexpl_p37_cpu_v1]",
   "language": "python",
   "name": "conda-env-dataexpl_p37_cpu_v1-py"
  },
  "language_info": {
   "codemirror_mode": {
    "name": "ipython",
    "version": 3
   },
   "file_extension": ".py",
   "mimetype": "text/x-python",
   "name": "python",
   "nbconvert_exporter": "python",
   "pygments_lexer": "ipython3",
   "version": "3.7.10"
  }
 },
 "nbformat": 4,
 "nbformat_minor": 5
}
