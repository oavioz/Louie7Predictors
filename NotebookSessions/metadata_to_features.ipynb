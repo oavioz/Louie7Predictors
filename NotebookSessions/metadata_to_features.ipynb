{
 "cells": [
  {
   "cell_type": "code",
   "execution_count": 1,
   "id": "f4be1988",
   "metadata": {},
   "outputs": [],
   "source": [
    "import numpy as np\n",
    "import pandas as pd\n",
    "import json\n",
    "import codecs\n",
    "import datetime\n",
    "import os\n",
    "import sys"
   ]
  },
  {
   "cell_type": "code",
   "execution_count": 2,
   "id": "434825b2",
   "metadata": {},
   "outputs": [],
   "source": [
    "sys.path.append('../')"
   ]
  },
  {
   "cell_type": "code",
   "execution_count": 3,
   "id": "511c8845",
   "metadata": {},
   "outputs": [],
   "source": [
    "import matplotlib as mpl\n",
    "import matplotlib.pyplot as plt\n",
    "plt.rcParams[\"figure.figsize\"] = (24, 16)"
   ]
  },
  {
   "cell_type": "code",
   "execution_count": 4,
   "id": "c684d979",
   "metadata": {},
   "outputs": [],
   "source": [
    "import oci\n",
    "import json\n",
    "from oci.config import validate_config\n",
    "from sklearn.covariance import MinCovDet "
   ]
  },
  {
   "cell_type": "code",
   "execution_count": 39,
   "id": "f1744664",
   "metadata": {},
   "outputs": [],
   "source": [
    "import multiprocessing as mp"
   ]
  },
  {
   "cell_type": "code",
   "execution_count": 6,
   "id": "e0930d5e",
   "metadata": {},
   "outputs": [],
   "source": [
    "namespace = \"lrzustouvvrg\"\n",
    "bucket_name = \"sdk-initial-data-bucket\"\n",
    "config = oci.config.from_file(\n",
    "        \"~/.oci/config\",\n",
    "        \"DEFAULT\")"
   ]
  },
  {
   "cell_type": "code",
   "execution_count": 7,
   "id": "e9312b0b",
   "metadata": {},
   "outputs": [],
   "source": [
    "validate_config(config)"
   ]
  },
  {
   "cell_type": "code",
   "execution_count": 8,
   "id": "0a2967a9",
   "metadata": {},
   "outputs": [],
   "source": [
    "object_storage_client = oci.object_storage.ObjectStorageClient(config)\n",
    "next_starts_with = None\n",
    "object_list = object_storage_client.list_objects(namespace, bucket_name , fields='name, timeCreated, size', start=next_starts_with)"
   ]
  },
  {
   "cell_type": "code",
   "execution_count": 33,
   "id": "32ef64a4",
   "metadata": {},
   "outputs": [],
   "source": [
    "f = object_list.data.objects"
   ]
  },
  {
   "cell_type": "code",
   "execution_count": 34,
   "id": "1d19a914",
   "metadata": {},
   "outputs": [
    {
     "data": {
      "text/plain": [
       "{\n",
       "  \"archival_state\": null,\n",
       "  \"etag\": null,\n",
       "  \"md5\": null,\n",
       "  \"name\": \"005b6c49-c4ed-438b-9092-ad02ed4d672e_26-07-2021_13-36-18.json\",\n",
       "  \"size\": 530965,\n",
       "  \"storage_tier\": null,\n",
       "  \"time_created\": \"2021-07-26T05:36:31.229000+00:00\",\n",
       "  \"time_modified\": null\n",
       "}"
      ]
     },
     "execution_count": 34,
     "metadata": {},
     "output_type": "execute_result"
    }
   ],
   "source": [
    "f[0]"
   ]
  },
  {
   "cell_type": "code",
   "execution_count": 35,
   "id": "c692f996",
   "metadata": {},
   "outputs": [
    {
     "data": {
      "text/plain": [
       "1000"
      ]
     },
     "execution_count": 35,
     "metadata": {},
     "output_type": "execute_result"
    }
   ],
   "source": [
    "len(f)"
   ]
  },
  {
   "cell_type": "code",
   "execution_count": 28,
   "id": "8785abc1",
   "metadata": {},
   "outputs": [],
   "source": [
    "obj = object_storage_client.get_object(namespace, bucket_name, f[0].name).data"
   ]
  },
  {
   "cell_type": "code",
   "execution_count": 29,
   "id": "18629277",
   "metadata": {},
   "outputs": [
    {
     "data": {
      "text/plain": [
       "bytes"
      ]
     },
     "execution_count": 29,
     "metadata": {},
     "output_type": "execute_result"
    }
   ],
   "source": [
    "type(obj.content)"
   ]
  },
  {
   "cell_type": "code",
   "execution_count": 30,
   "id": "7e1b2fca",
   "metadata": {},
   "outputs": [],
   "source": [
    "j_obj = json.loads(obj.content)"
   ]
  },
  {
   "cell_type": "code",
   "execution_count": 31,
   "id": "d808513e",
   "metadata": {},
   "outputs": [
    {
     "data": {
      "text/plain": [
       "dict"
      ]
     },
     "execution_count": 31,
     "metadata": {},
     "output_type": "execute_result"
    }
   ],
   "source": [
    "type(j_obj)"
   ]
  },
  {
   "cell_type": "code",
   "execution_count": 42,
   "id": "519a2392",
   "metadata": {},
   "outputs": [
    {
     "name": "stdout",
     "output_type": "stream",
     "text": [
      "Number of cpu :  4\n"
     ]
    }
   ],
   "source": [
    "print(\"Number of cpu : \", mp.cpu_count())"
   ]
  },
  {
   "cell_type": "markdown",
   "id": "cc24ded7",
   "metadata": {},
   "source": [
    "next_starts_with = object_list.data.next_start_with\n",
    "object_list = object_storage_client.list_objects(namespace, bucket_name , fields='name, timeCreated, size', start=next_starts_with)"
   ]
  },
  {
   "cell_type": "code",
   "execution_count": null,
   "id": "2306317c",
   "metadata": {},
   "outputs": [],
   "source": [
    "from vector_creator.score_vectors.score_vectors_assembly import score_vector_from_bucket"
   ]
  },
  {
   "cell_type": "code",
   "execution_count": null,
   "id": "934059c6",
   "metadata": {},
   "outputs": [],
   "source": [
    "res = pd.DataFrame()\n",
    "for x in range (0,3):\n",
    "    r = score_vector_from_bucket(object_storage_client,\n",
    "                                 namespace, \n",
    "                                 bucket_name, \n",
    "                                 next_starts_with,\n",
    "                                 mp.cpu_count())\n",
    "    next_starts_with = object_list.data.next_start_with\n",
    "    res.append(r)"
   ]
  },
  {
   "cell_type": "markdown",
   "id": "35202715",
   "metadata": {},
   "source": [
    "next_starts_with = object_list.data.next_start_with\n",
    "osc = object_storage_client.list_objects(namespace, bucket_name, start=next_starts_with, fields='name, timeCreated, size')\n",
    "g = osc.data.objects\n",
    "g[0], len(g)"
   ]
  },
  {
   "cell_type": "markdown",
   "id": "f5585aa1",
   "metadata": {},
   "source": [
    "res1 = score_vector_from_bucket(object_storage_client, 'photo-gallery', namespace, bucket_name, next_starts_with)\n",
    "res = res0.append(res1)"
   ]
  },
  {
   "cell_type": "code",
   "execution_count": null,
   "id": "caa4c76e",
   "metadata": {},
   "outputs": [],
   "source": [
    "res.shape"
   ]
  },
  {
   "cell_type": "code",
   "execution_count": null,
   "id": "89b651d0",
   "metadata": {},
   "outputs": [],
   "source": [
    "res.index.is_unique"
   ]
  },
  {
   "cell_type": "code",
   "execution_count": null,
   "id": "409d685d",
   "metadata": {},
   "outputs": [],
   "source": [
    "inxs = res.index.values"
   ]
  },
  {
   "cell_type": "code",
   "execution_count": null,
   "id": "44307cad",
   "metadata": {},
   "outputs": [],
   "source": [
    "len(inxs)"
   ]
  },
  {
   "cell_type": "code",
   "execution_count": null,
   "id": "10f37ff9",
   "metadata": {},
   "outputs": [],
   "source": [
    "from sklearn import preprocessing"
   ]
  },
  {
   "cell_type": "code",
   "execution_count": null,
   "id": "df2a890a",
   "metadata": {},
   "outputs": [],
   "source": [
    "def norm_df_2(df):\n",
    "    inxs = df.index.values\n",
    "    std_scale = preprocessing.StandardScaler().fit(df)\n",
    "    df_std = std_scale.transform(df)\n",
    "    return pd.DataFrame(df_std, columns=df.columns, index=inxs)\n",
    "\n",
    "def minmax_norm(df):\n",
    "    inxs = df.index.values\n",
    "    minmax_scale = preprocessing.MinMaxScaler().fit(df)\n",
    "    df_minmax = minmax_scale.transform(df)\n",
    "    return pd.DataFrame(df_minmax, columns=df.columns, index=inxs)\n",
    "\n",
    "#read the tags from json file for user register non register and create df with tag column\n",
    "def create_tag_df(json_file_path, column_name): # 'entries.json'\n",
    "    tag_data = json.load(codecs.open(json_file_path, 'r', 'utf-8-sig'))\n",
    "    df_tag = pd.DataFrame(tag_data)\n",
    "    df_tag = df_tag.rename(columns={column_name: ''}) # 'app_userid'\n",
    "    dftag = df_tag.set_index('')\n",
    "    return dftag"
   ]
  },
  {
   "cell_type": "code",
   "execution_count": null,
   "id": "fdabeac0",
   "metadata": {},
   "outputs": [],
   "source": [
    "df_n = norm_df_2(res)\n",
    "df_n.values[:,4].std()"
   ]
  },
  {
   "cell_type": "code",
   "execution_count": null,
   "id": "2aa13f7a",
   "metadata": {},
   "outputs": [],
   "source": [
    "df_mm = minmax_norm(res)"
   ]
  },
  {
   "cell_type": "code",
   "execution_count": null,
   "id": "7b518cd4",
   "metadata": {},
   "outputs": [],
   "source": [
    "def join_target_to_df(df):\n",
    "    df_t = create_tag_df('../entries.json', 'app_userid')\n",
    "    df_t['User_Register'] = pd.Series(np.where(df_t.User_Register.values == 'true', 1, 0), df_t.index)\n",
    "    df_j = df.join(df_t)\n",
    "    return df_j"
   ]
  },
  {
   "cell_type": "code",
   "execution_count": null,
   "id": "eac4c026",
   "metadata": {},
   "outputs": [],
   "source": [
    "df_j = join_target_to_df(res)"
   ]
  },
  {
   "cell_type": "code",
   "execution_count": null,
   "id": "55dde746",
   "metadata": {},
   "outputs": [],
   "source": [
    "len(df_j[df_j.User_Register == 0.0]) , len(df_j[df_j.User_Register == 1.0])"
   ]
  },
  {
   "cell_type": "code",
   "execution_count": null,
   "id": "ba0cd75c",
   "metadata": {},
   "outputs": [],
   "source": [
    "len(df_j)"
   ]
  },
  {
   "cell_type": "code",
   "execution_count": null,
   "id": "40dceb72",
   "metadata": {},
   "outputs": [],
   "source": [
    "df_j.to_csv('../csv_files/ModelFiles/photogallery_installedapss_with_target_for_ml_model.csv')"
   ]
  },
  {
   "cell_type": "markdown",
   "id": "0b0ce62c",
   "metadata": {},
   "source": [
    "TEST PHASE :"
   ]
  },
  {
   "cell_type": "code",
   "execution_count": null,
   "id": "78f5b50f",
   "metadata": {},
   "outputs": [],
   "source": [
    "from sklearn.manifold import TSNE\n",
    "from sklearn.decomposition import PCA\n",
    "from sklearn.cluster import KMeans, MeanShift, estimate_bandwidth"
   ]
  },
  {
   "cell_type": "code",
   "execution_count": null,
   "id": "06f7743f",
   "metadata": {},
   "outputs": [],
   "source": [
    "import seaborn as sns\n",
    "import matplotlib.pyplot as plt\n",
    "from itertools import cycle\n",
    "import pandas as pd"
   ]
  },
  {
   "cell_type": "code",
   "execution_count": null,
   "id": "9ae3ad53",
   "metadata": {},
   "outputs": [],
   "source": [
    "from vector_creator.stats_models.estimators import *"
   ]
  },
  {
   "cell_type": "markdown",
   "id": "b8f0484a",
   "metadata": {},
   "source": [
    "--> Start tSNE for 2D "
   ]
  },
  {
   "cell_type": "code",
   "execution_count": null,
   "id": "fd787aab",
   "metadata": {},
   "outputs": [],
   "source": [
    "tsne = TSNE(n_components=2, verbose=1, perplexity=50, n_iter=300, method='exact')"
   ]
  },
  {
   "cell_type": "code",
   "execution_count": null,
   "id": "8871d1fd",
   "metadata": {},
   "outputs": [],
   "source": [
    "tsne_res = tsne.fit_transform(res.values)"
   ]
  },
  {
   "cell_type": "code",
   "execution_count": 68,
   "id": "3e150031",
   "metadata": {},
   "outputs": [
    {
     "data": {
      "text/plain": [
       "(1999, 52)"
      ]
     },
     "execution_count": 68,
     "metadata": {},
     "output_type": "execute_result"
    }
   ],
   "source": [
    "res.values.shape"
   ]
  },
  {
   "cell_type": "code",
   "execution_count": 69,
   "id": "949f0410",
   "metadata": {},
   "outputs": [],
   "source": [
    "df = pd.DataFrame(tsne_res, columns=['x_col', 'y_col'], index=inxs)"
   ]
  },
  {
   "cell_type": "code",
   "execution_count": 70,
   "id": "14847a34",
   "metadata": {},
   "outputs": [
    {
     "data": {
      "text/plain": [
       "(1999, 2)"
      ]
     },
     "execution_count": 70,
     "metadata": {},
     "output_type": "execute_result"
    }
   ],
   "source": [
    "df.shape"
   ]
  },
  {
   "cell_type": "code",
   "execution_count": null,
   "id": "39b58f12",
   "metadata": {},
   "outputs": [],
   "source": [
    "df.head(5)"
   ]
  },
  {
   "cell_type": "code",
   "execution_count": null,
   "id": "33a0852e",
   "metadata": {},
   "outputs": [],
   "source": [
    "plt.figure()\n",
    "sns.scatterplot(\n",
    "    x='x_col', \n",
    "    y='y_col',\n",
    "    data=df\n",
    ")"
   ]
  },
  {
   "cell_type": "markdown",
   "id": "fe09bc4e",
   "metadata": {},
   "source": [
    "--> Mean Shift for tSNE-2D data frame"
   ]
  },
  {
   "cell_type": "code",
   "execution_count": null,
   "id": "9750fb92",
   "metadata": {},
   "outputs": [],
   "source": [
    "bandwidth = estimate_bandwidth(df, quantile=0.15)"
   ]
  },
  {
   "cell_type": "code",
   "execution_count": null,
   "id": "cf5c52c3",
   "metadata": {},
   "outputs": [],
   "source": [
    "ms = MeanShift(bandwidth=bandwidth, bin_seeding=False, cluster_all=False)\n",
    "ms.fit(df)"
   ]
  },
  {
   "cell_type": "code",
   "execution_count": 65,
   "id": "b5a60817",
   "metadata": {},
   "outputs": [],
   "source": [
    "labels = ms.labels_\n",
    "cluster_centers = ms.cluster_centers_\n",
    "labels_unique = np.unique(labels)\n",
    "n_clusters_ = len(labels_unique)"
   ]
  },
  {
   "cell_type": "code",
   "execution_count": 66,
   "id": "9e0021e1",
   "metadata": {},
   "outputs": [
    {
     "data": {
      "text/plain": [
       "array([[ -0.34306493,   6.828894  ],\n",
       "       [  2.5643718 ,  -9.183258  ],\n",
       "       [-11.705486  ,  -0.06974211]], dtype=float32)"
      ]
     },
     "execution_count": 66,
     "metadata": {},
     "output_type": "execute_result"
    }
   ],
   "source": [
    "cluster_centers"
   ]
  },
  {
   "cell_type": "code",
   "execution_count": 67,
   "id": "16f29541",
   "metadata": {},
   "outputs": [
    {
     "data": {
      "text/plain": [
       "array([-1,  0,  1,  2])"
      ]
     },
     "execution_count": 67,
     "metadata": {},
     "output_type": "execute_result"
    }
   ],
   "source": [
    "labels_unique"
   ]
  },
  {
   "cell_type": "code",
   "execution_count": null,
   "id": "9cdd9fa0",
   "metadata": {},
   "outputs": [],
   "source": [
    "n_clusters_"
   ]
  },
  {
   "cell_type": "markdown",
   "id": "3bf28baa",
   "metadata": {},
   "source": [
    "--> Plot tSNE mean-shift 2D with uids as index to df "
   ]
  },
  {
   "cell_type": "code",
   "execution_count": 71,
   "id": "8dd7eb15",
   "metadata": {},
   "outputs": [
    {
     "name": "stdout",
     "output_type": "stream",
     "text": [
      "b [-0.34306493  6.828894  ] 0\n",
      "g [ 2.5643718 -9.183258 ] 1\n",
      "r [-11.705486    -0.06974211] 2\n"
     ]
    },
    {
     "data": {
      "image/png": "[encoded data removed]",
      "text/plain": [
       "<Figure size 1728x1152 with 1 Axes>"
      ]
     },
     "metadata": {
      "needs_background": "light"
     },
     "output_type": "display_data"
    }
   ],
   "source": [
    "plt.figure()\n",
    "plt.clf()\n",
    "X = df.values\n",
    "colors = cycle('bgrcmykbgrcmykbgrcmykbgrcmyk')\n",
    "for k, col in zip(range(n_clusters_-1), colors):\n",
    "    my_members = labels == k\n",
    "    print(col, cluster_centers[k], k)\n",
    "    cluster_center = cluster_centers[k]\n",
    "    plt.plot(X[my_members, 0], X[my_members, 1], col + '.')\n",
    "    plt.plot(cluster_center[0], cluster_center[1], 'o', markerfacecolor=col,\n",
    "             markeredgecolor='k', markersize=14)\n",
    "plt.title('Estimated number of clusters: %d' % n_clusters_)\n",
    "plt.show()"
   ]
  },
  {
   "cell_type": "code",
   "execution_count": null,
   "id": "534fc93b",
   "metadata": {},
   "outputs": [],
   "source": [
    "lbls = np.unique(ms.labels_)"
   ]
  },
  {
   "cell_type": "code",
   "execution_count": null,
   "id": "7a9a2cdd",
   "metadata": {},
   "outputs": [],
   "source": [
    "res['labels']= ms.labels_"
   ]
  },
  {
   "cell_type": "code",
   "execution_count": null,
   "id": "bdd5a6d7",
   "metadata": {},
   "outputs": [],
   "source": [
    "res.to_csv('../csv_files/ModelFiles/photogallery_installedapss_with_cluster_labels_for_ml_model_2.csv')"
   ]
  },
  {
   "cell_type": "code",
   "execution_count": null,
   "id": "0f3dd60b",
   "metadata": {},
   "outputs": [],
   "source": [
    "def createdf_dict_by_lbl():\n",
    "    df_dict = {}\n",
    "    df_anom = {}\n",
    "    for i in np.nditer(lbls):\n",
    "        lbl = 'label-' + str(i)\n",
    "        df_lbl_i = res[res.labels == i]\n",
    "        del df_lbl_i['labels']\n",
    "        df_dict[lbl] = df_lbl_i\n",
    "    return df_dict\n",
    "    \n",
    "def create_df_by_func(func):\n",
    "    for i in np.nditer(lbls):\n",
    "        if i >= 0:\n",
    "            df_lbl_i = res[res.labels == i]\n",
    "            del df_lbl_i['labels']\n",
    "            col = 'label-' + str(i)\n",
    "            if(i == 0):\n",
    "                df_median = df_lbl_i.agg(func).to_frame()\n",
    "                df_median = df_median.rename(columns = {0: col})\n",
    "            else:\n",
    "                df_median[col] = df_lbl_i.agg(func).values\n",
    "    return df_median"
   ]
  },
  {
   "cell_type": "code",
   "execution_count": null,
   "id": "3dd1ae13",
   "metadata": {},
   "outputs": [],
   "source": [
    "df_lbl = createdf_dict_by_lbl()"
   ]
  },
  {
   "cell_type": "code",
   "execution_count": null,
   "id": "82e8cc06",
   "metadata": {},
   "outputs": [],
   "source": [
    "df_lbl.keys()"
   ]
  },
  {
   "cell_type": "code",
   "execution_count": null,
   "id": "42c2ae64",
   "metadata": {},
   "outputs": [],
   "source": [
    "len(df_lbl['label--1'])"
   ]
  },
  {
   "cell_type": "code",
   "execution_count": null,
   "id": "7865a8eb",
   "metadata": {},
   "outputs": [],
   "source": [
    "df_median = create_df_by_func('median')\n",
    "df_mean = create_df_by_func('mean') "
   ]
  },
  {
   "cell_type": "code",
   "execution_count": null,
   "id": "e5fec909",
   "metadata": {},
   "outputs": [],
   "source": [
    "plt.figure()\n",
    "df_median.plot.bar(color=['b', 'g', 'r', 'c', 'm', 'y', 'k', 'b'])"
   ]
  },
  {
   "cell_type": "code",
   "execution_count": null,
   "id": "89567194",
   "metadata": {},
   "outputs": [],
   "source": [
    "df_mean.plot.bar(color=['b', 'g', 'r', 'c', 'm', 'y', 'k', 'b'])"
   ]
  },
  {
   "cell_type": "code",
   "execution_count": null,
   "id": "d367ab41",
   "metadata": {},
   "outputs": [],
   "source": [
    "#X = df_lbl['label-0'].values\n",
    "#Y = MinCovDet().fit(X)\n",
    "#Y.covariance_"
   ]
  },
  {
   "cell_type": "code",
   "execution_count": null,
   "id": "46070b17",
   "metadata": {},
   "outputs": [],
   "source": [
    "df_lbl.keys()"
   ]
  },
  {
   "cell_type": "code",
   "execution_count": null,
   "id": "8bc75673",
   "metadata": {},
   "outputs": [],
   "source": [
    "c = df_lbl['label-0'].corr()\n",
    "plt.matshow(c)\n",
    "plt.show()"
   ]
  },
  {
   "cell_type": "code",
   "execution_count": null,
   "id": "63223373",
   "metadata": {},
   "outputs": [],
   "source": [
    "#del df_lbl5['labels']\n",
    "#dflbl4 = srlbl4.to_frame()\n",
    "#dflbl4.rename(columns = {0:'lvl-4'})"
   ]
  },
  {
   "cell_type": "code",
   "execution_count": null,
   "id": "de696aa7",
   "metadata": {},
   "outputs": [],
   "source": [
    "excel = df0.to_excel('csv_files/photo_gallery_yellow.xlsx')"
   ]
  },
  {
   "cell_type": "code",
   "execution_count": null,
   "id": "b24cace5",
   "metadata": {},
   "outputs": [],
   "source": [
    "#read the tags from firebase json file for user register non register and create df with tag column\n",
    "def create_tag_df(f): # 'entries.json'\n",
    "    tag_data = json.load(codecs.open(f, 'r', 'utf-8-sig'))\n",
    "    df_tag = pd.DataFrame(tag_data)\n",
    "    df_tag = df_tag.rename(columns={'app_userid': ''})\n",
    "    dftag = df_tag.set_index('')\n",
    "    return dftag"
   ]
  },
  {
   "cell_type": "code",
   "execution_count": null,
   "id": "18d348bd",
   "metadata": {},
   "outputs": [],
   "source": [
    "dftag = create_tag_df('entries.json')"
   ]
  },
  {
   "cell_type": "code",
   "execution_count": null,
   "id": "0298021b",
   "metadata": {},
   "outputs": [],
   "source": [
    "dfjoin = df.join(dftag)"
   ]
  },
  {
   "cell_type": "code",
   "execution_count": null,
   "id": "b12cf584",
   "metadata": {},
   "outputs": [],
   "source": [
    "len(dfjoin)"
   ]
  },
  {
   "cell_type": "code",
   "execution_count": null,
   "id": "97a72ee8",
   "metadata": {},
   "outputs": [],
   "source": [
    "dfjoin['User_Register'] = dfjoin['User_Register'].fillna('false')\n",
    "len(dfjoin[dfjoin.User_Register == 'false'])"
   ]
  },
  {
   "cell_type": "code",
   "execution_count": null,
   "id": "eb745825",
   "metadata": {},
   "outputs": [],
   "source": [
    "dfjoin.to_csv('csv_files/taged_aggresive_photogallery.csv')"
   ]
  },
  {
   "cell_type": "code",
   "execution_count": null,
   "id": "0493a309",
   "metadata": {},
   "outputs": [],
   "source": [
    "dfjoin.head(5)"
   ]
  },
  {
   "cell_type": "code",
   "execution_count": null,
   "id": "8589b2ff",
   "metadata": {},
   "outputs": [],
   "source": [
    "#sns.scatterplot('population', 'Area', data=df, hue='continent')\n",
    "#sns.lmplot('population', 'Area', data=df, hue='continent', fit_reg=False)\n",
    "plt.figure(figsize=(10,8))\n",
    "sns.lmplot(\n",
    "    x='x_col', \n",
    "    y='y_col',\n",
    "    data=dfjoin,\n",
    "    hue='User_Register',\n",
    "    fit_reg=False,\n",
    "    height=8,\n",
    ")\n",
    "plt.show()"
   ]
  },
  {
   "cell_type": "markdown",
   "id": "5688ea8c",
   "metadata": {},
   "source": [
    "--> tSNE for 3D"
   ]
  },
  {
   "cell_type": "code",
   "execution_count": null,
   "id": "356e0e4a",
   "metadata": {},
   "outputs": [],
   "source": [
    "tsne_3d = TSNE(n_components=3, verbose=1, perplexity=40, n_iter=300, method='exact')"
   ]
  },
  {
   "cell_type": "code",
   "execution_count": null,
   "id": "b087591f",
   "metadata": {},
   "outputs": [],
   "source": [
    "nz.shape"
   ]
  },
  {
   "cell_type": "code",
   "execution_count": null,
   "id": "1cada06b",
   "metadata": {},
   "outputs": [],
   "source": [
    "tsne_res_3 = tsne_3d.fit_transform(nz)"
   ]
  },
  {
   "cell_type": "code",
   "execution_count": null,
   "id": "014cc55d",
   "metadata": {},
   "outputs": [],
   "source": [
    "df3 = pd.DataFrame(tsne_res_3, columns=['x_col', 'y_col', 'z_col'], index=inxs)"
   ]
  },
  {
   "cell_type": "code",
   "execution_count": null,
   "id": "35840779",
   "metadata": {},
   "outputs": [],
   "source": [
    "df3.head(5)"
   ]
  },
  {
   "cell_type": "code",
   "execution_count": null,
   "id": "2e4f324c",
   "metadata": {},
   "outputs": [],
   "source": [
    "ax = plt.figure(figsize=(16,10)).gca(projection='3d')\n",
    "plt.axis()\n",
    "ax.scatter(\n",
    "    xs = df3['x_col'],\n",
    "    ys = df3['y_col'],\n",
    "    zs = df3['z_col'],\n",
    "    cmap='tab2'\n",
    ")\n",
    "ax.set_xlabel('x')\n",
    "ax.set_ylabel('y')\n",
    "ax.set_zlabel('z')\n",
    "ax.set_xlim(-10, 10)\n",
    "ax.set_ylim(-10, 10)\n",
    "ax.set_zlim(-12, 12)\n",
    "plt.show()"
   ]
  },
  {
   "cell_type": "code",
   "execution_count": null,
   "id": "4c4c3eaf",
   "metadata": {},
   "outputs": [],
   "source": [
    "bw = estimate_bandwidth(df3, quantile=0.2, n_samples=200)"
   ]
  },
  {
   "cell_type": "code",
   "execution_count": null,
   "id": "6f2f7c92",
   "metadata": {},
   "outputs": [],
   "source": [
    "ms = MeanShift(bandwidth=bw, bin_seeding=True)\n",
    "ms.fit(df3)"
   ]
  },
  {
   "cell_type": "code",
   "execution_count": null,
   "id": "7a8336ca",
   "metadata": {},
   "outputs": [],
   "source": [
    "labels = ms.labels_\n",
    "cluster_centers = ms.cluster_centers_\n",
    "labels_unique = np.unique(labels)\n",
    "n_clusters_ = len(labels_unique)"
   ]
  },
  {
   "cell_type": "code",
   "execution_count": null,
   "id": "a7832488",
   "metadata": {},
   "outputs": [],
   "source": [
    "cluster_centers"
   ]
  },
  {
   "cell_type": "code",
   "execution_count": null,
   "id": "4f071e30",
   "metadata": {},
   "outputs": [],
   "source": [
    "fig = plt.figure()\n",
    "ax = plt.figure(figsize=(16,10)).gca(projection='3d')\n",
    "ax.view_init(45, 180)\n",
    "plt.axis()\n",
    "X = df3.values\n",
    "colors = cycle('bgrcmykbgrcmykbgrcmykbgrcmyk')\n",
    "for k, col in zip(range(n_clusters_), colors):\n",
    "    my_members = labels == k\n",
    "    cluster_center = cluster_centers[k]\n",
    "    plt.plot(X[my_members, 0], X[my_members, 1], X[my_members, 2], col + '.')\n",
    "    plt.plot(cluster_center[0], cluster_center[1], cluster_center[2], 'o', markerfacecolor=col,\n",
    "             markeredgecolor='k', markersize=14)\n",
    "plt.title('Estimated number of 3D clusters: %d' % n_clusters_)\n",
    "plt.show()"
   ]
  },
  {
   "cell_type": "code",
   "execution_count": null,
   "id": "e427a058",
   "metadata": {},
   "outputs": [],
   "source": [
    "dfj3 = df3.join(dftag)\n",
    "dfj3['User_Register'] = dfj3['User_Register'].fillna('false')\n",
    "dfj3['User_Register'] = dfj3['User_Register'].map({'true': 'blue', 'false': 'red'})"
   ]
  },
  {
   "cell_type": "code",
   "execution_count": null,
   "id": "4bc3551c",
   "metadata": {},
   "outputs": [],
   "source": [
    "len(dfj3[dfj3.User_Register == 'blue'])"
   ]
  },
  {
   "cell_type": "code",
   "execution_count": null,
   "id": "b7d41b53",
   "metadata": {},
   "outputs": [],
   "source": [
    "%matplotlib inline\n",
    "#%matplotlib notebook"
   ]
  },
  {
   "cell_type": "code",
   "execution_count": null,
   "id": "01eba6df",
   "metadata": {},
   "outputs": [],
   "source": [
    "from mpl_toolkits.mplot3d import Axes3D\n",
    "#ax = plt.figure(figsize=(16,10)).gca(projection='3d')\n",
    "fig = plt.figure()\n",
    "ax = Axes3D(plt.figure(figsize=(10,8)))\n",
    "ax.view_init(45, 180)\n",
    "plt.axis()\n",
    "ax.scatter(\n",
    "    xs = dfj3['x_col'],\n",
    "    ys = dfj3['y_col'],\n",
    "    zs = dfj3['z_col'],\n",
    "    c=dfj3['User_Register'],\n",
    "    cmap='coolwarm'\n",
    ")\n",
    "ax.set_xlabel('x')\n",
    "ax.set_ylabel('y')\n",
    "ax.set_zlabel('z')\n",
    "ax.set_xlim(-12, 12)\n",
    "ax.set_ylim(-12, 12)\n",
    "ax.set_zlim(-12, 12)\n",
    "plt.show()"
   ]
  },
  {
   "cell_type": "code",
   "execution_count": null,
   "id": "be9bf4c4",
   "metadata": {},
   "outputs": [],
   "source": [
    "type(ax)"
   ]
  },
  {
   "cell_type": "code",
   "execution_count": null,
   "id": "7a527efa",
   "metadata": {},
   "outputs": [],
   "source": []
  }
 ],
 "metadata": {
  "kernelspec": {
   "display_name": "Python [conda env:dataexpl_p37_cpu_v1]",
   "language": "python",
   "name": "conda-env-dataexpl_p37_cpu_v1-py"
  },
  "language_info": {
   "codemirror_mode": {
    "name": "ipython",
    "version": 3
   },
   "file_extension": ".py",
   "mimetype": "text/x-python",
   "name": "python",
   "nbconvert_exporter": "python",
   "pygments_lexer": "ipython3",
   "version": "3.7.10"
  }
 },
 "nbformat": 4,
 "nbformat_minor": 5
}
