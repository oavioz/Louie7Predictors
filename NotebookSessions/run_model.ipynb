{
 "cells": [
  {
   "cell_type": "markdown",
   "metadata": {},
   "source": [
    "### OCI Data Science - Useful Tips\n",
    "<details>\n",
    "<summary><font size=\"2\">Check for Public Internet Access</font></summary>\n",
    "\n",
    "```python\n",
    "import requests\n",
    "response = requests.get(\"https://oracle.com\")\n",
    "assert response.status_code==200, \"Internet connection failed\"\n",
    "```\n",
    "</details>\n",
    "<details>\n",
    "<summary><font size=\"2\">Helpful Documentation </font></summary>\n",
    "<ul><li><a href=\"https://docs.cloud.oracle.com/en-us/iaas/data-science/using/data-science.htm\">Data Science Service Documentation</a></li>\n",
    "<li><a href=\"https://docs.cloud.oracle.com/iaas/tools/ads-sdk/latest/index.html\">ADS documentation</a></li>\n",
    "</ul>\n",
    "</details>\n",
    "<details>\n",
    "<summary><font size=\"2\">Typical Cell Imports and Settings for ADS</font></summary>\n",
    "\n",
    "```python\n",
    "%load_ext autoreload\n",
    "%autoreload 2\n",
    "%matplotlib inline\n",
    "\n",
    "import warnings\n",
    "warnings.filterwarnings('ignore')\n",
    "\n",
    "import logging\n",
    "logging.basicConfig(format='%(levelname)s:%(message)s', level=logging.ERROR)\n",
    "\n",
    "import ads\n",
    "from ads.dataset.factory import DatasetFactory\n",
    "from ads.automl.provider import OracleAutoMLProvider\n",
    "from ads.automl.driver import AutoML\n",
    "from ads.evaluations.evaluator import ADSEvaluator\n",
    "from ads.common.data import ADSData\n",
    "from ads.explanations.explainer import ADSExplainer\n",
    "from ads.explanations.mlx_global_explainer import MLXGlobalExplainer\n",
    "from ads.explanations.mlx_local_explainer import MLXLocalExplainer\n",
    "from ads.catalog.model import ModelCatalog\n",
    "from ads.common.model_artifact import ModelArtifact\n",
    "```\n",
    "</details>\n",
    "<details>\n",
    "<summary><font size=\"2\">Useful Environment Variables</font></summary>\n",
    "\n",
    "```python\n",
    "import os\n",
    "print(os.environ[\"NB_SESSION_COMPARTMENT_OCID\"])\n",
    "print(os.environ[\"PROJECT_OCID\"])\n",
    "print(os.environ[\"USER_OCID\"])\n",
    "print(os.environ[\"TENANCY_OCID\"])\n",
    "print(os.environ[\"NB_REGION\"])\n",
    "```\n",
    "</details>"
   ]
  },
  {
   "cell_type": "code",
   "execution_count": 1,
   "metadata": {},
   "outputs": [],
   "source": [
    "import numpy as np\n",
    "import pandas as pd\n",
    "import json\n",
    "import codecs\n",
    "import datetime\n",
    "import os\n",
    "import sys\n",
    "sys.path.append('../')"
   ]
  },
  {
   "cell_type": "code",
   "execution_count": 2,
   "metadata": {},
   "outputs": [],
   "source": [
    "import matplotlib as mpl\n",
    "import matplotlib.pyplot as plt\n",
    "plt.rcParams[\"figure.figsize\"] = (24, 16)"
   ]
  },
  {
   "cell_type": "code",
   "execution_count": 3,
   "metadata": {},
   "outputs": [],
   "source": [
    "from sklearn.ensemble import RandomForestClassifier\n",
    "from sklearn.model_selection import RandomizedSearchCV"
   ]
  },
  {
   "cell_type": "code",
   "execution_count": 4,
   "metadata": {},
   "outputs": [],
   "source": [
    "from sklearn.model_selection import train_test_split"
   ]
  },
  {
   "cell_type": "code",
   "execution_count": 5,
   "metadata": {},
   "outputs": [],
   "source": [
    "from sklearn.metrics import accuracy_score, confusion_matrix, classification_report"
   ]
  },
  {
   "cell_type": "code",
   "execution_count": 32,
   "metadata": {},
   "outputs": [],
   "source": [
    "def csv_to_df(path):\n",
    "    x = pd.read_csv(path)\n",
    "    x.rename(columns={'Unnamed: 0': 'description'}, inplace=True)\n",
    "    x = x.set_index('description')\n",
    "    return x\n",
    "X = csv_to_df('../csv_files/ModelFiles/photogallery_installedapss_with_cluster_labels_for_ml_model.csv')"
   ]
  },
  {
   "cell_type": "code",
   "execution_count": 33,
   "metadata": {},
   "outputs": [
    {
     "data": {
      "text/html": [
       "<div>\n",
       "<style scoped>\n",
       "    .dataframe tbody tr th:only-of-type {\n",
       "        vertical-align: middle;\n",
       "    }\n",
       "\n",
       "    .dataframe tbody tr th {\n",
       "        vertical-align: top;\n",
       "    }\n",
       "\n",
       "    .dataframe thead th {\n",
       "        text-align: right;\n",
       "    }\n",
       "</style>\n",
       "<table border=\"1\" class=\"dataframe\">\n",
       "  <thead>\n",
       "    <tr style=\"text-align: right;\">\n",
       "      <th></th>\n",
       "      <th>median number photos taken in day - location</th>\n",
       "      <th>mad number photos taken in day - scale</th>\n",
       "      <th>mean number photos taken in day</th>\n",
       "      <th>sample non zero days ratio</th>\n",
       "      <th>mean number of photos in burst</th>\n",
       "      <th>mean number of bursts a week</th>\n",
       "      <th>median night time number photos - location</th>\n",
       "      <th>mad night time number photos - scale</th>\n",
       "      <th>mean night time number photos</th>\n",
       "      <th>sampled non zero nights ratio</th>\n",
       "      <th>...</th>\n",
       "      <th>ratio of weekend and full week mean photos in burst</th>\n",
       "      <th>ratio of weekend and full week bursts a week</th>\n",
       "      <th>ar of num of photos in day time lag-1</th>\n",
       "      <th>entropy on number of photos taken in day</th>\n",
       "      <th>mean max ratio of category of installed apps</th>\n",
       "      <th>median max ratio of category of installed apps</th>\n",
       "      <th>app category coverage ratio</th>\n",
       "      <th>entropy of app categories</th>\n",
       "      <th>entropy of install app time of day</th>\n",
       "      <th>labels</th>\n",
       "    </tr>\n",
       "    <tr>\n",
       "      <th>description</th>\n",
       "      <th></th>\n",
       "      <th></th>\n",
       "      <th></th>\n",
       "      <th></th>\n",
       "      <th></th>\n",
       "      <th></th>\n",
       "      <th></th>\n",
       "      <th></th>\n",
       "      <th></th>\n",
       "      <th></th>\n",
       "      <th></th>\n",
       "      <th></th>\n",
       "      <th></th>\n",
       "      <th></th>\n",
       "      <th></th>\n",
       "      <th></th>\n",
       "      <th></th>\n",
       "      <th></th>\n",
       "      <th></th>\n",
       "      <th></th>\n",
       "      <th></th>\n",
       "    </tr>\n",
       "  </thead>\n",
       "  <tbody>\n",
       "    <tr>\n",
       "      <th>005b6c49-c4ed-438b-9092-ad02ed4d672e</th>\n",
       "      <td>2.0</td>\n",
       "      <td>1.482602</td>\n",
       "      <td>5.371968</td>\n",
       "      <td>0.087831</td>\n",
       "      <td>1.300914</td>\n",
       "      <td>0.845481</td>\n",
       "      <td>2.0</td>\n",
       "      <td>1.482602</td>\n",
       "      <td>5.200000</td>\n",
       "      <td>0.068655</td>\n",
       "      <td>...</td>\n",
       "      <td>1.001396</td>\n",
       "      <td>0.427252</td>\n",
       "      <td>17.050272</td>\n",
       "      <td>7.228774</td>\n",
       "      <td>0.416667</td>\n",
       "      <td>0.333333</td>\n",
       "      <td>0.214286</td>\n",
       "      <td>3.180833</td>\n",
       "      <td>2.689246</td>\n",
       "      <td>-1</td>\n",
       "    </tr>\n",
       "    <tr>\n",
       "      <th>005d6e1d-7a19-422f-a71a-1555b6ca5724</th>\n",
       "      <td>1.0</td>\n",
       "      <td>0.000000</td>\n",
       "      <td>1.562500</td>\n",
       "      <td>0.101106</td>\n",
       "      <td>1.111111</td>\n",
       "      <td>0.250000</td>\n",
       "      <td>1.0</td>\n",
       "      <td>0.000000</td>\n",
       "      <td>1.390244</td>\n",
       "      <td>0.065916</td>\n",
       "      <td>...</td>\n",
       "      <td>0.990000</td>\n",
       "      <td>8.000000</td>\n",
       "      <td>0.503928</td>\n",
       "      <td>5.536507</td>\n",
       "      <td>0.466667</td>\n",
       "      <td>0.333333</td>\n",
       "      <td>0.267857</td>\n",
       "      <td>3.419382</td>\n",
       "      <td>1.976648</td>\n",
       "      <td>-1</td>\n",
       "    </tr>\n",
       "    <tr>\n",
       "      <th>007a0785-1321-4112-be89-e6549a4725a2</th>\n",
       "      <td>3.0</td>\n",
       "      <td>2.965204</td>\n",
       "      <td>26.128205</td>\n",
       "      <td>0.040902</td>\n",
       "      <td>2.791781</td>\n",
       "      <td>1.641026</td>\n",
       "      <td>3.0</td>\n",
       "      <td>2.965204</td>\n",
       "      <td>9.958333</td>\n",
       "      <td>0.026287</td>\n",
       "      <td>...</td>\n",
       "      <td>0.958653</td>\n",
       "      <td>0.377574</td>\n",
       "      <td>34.620526</td>\n",
       "      <td>4.114481</td>\n",
       "      <td>0.666667</td>\n",
       "      <td>0.500000</td>\n",
       "      <td>0.214286</td>\n",
       "      <td>3.235926</td>\n",
       "      <td>2.358459</td>\n",
       "      <td>-1</td>\n",
       "    </tr>\n",
       "    <tr>\n",
       "      <th>008e4a51-2ded-4a7f-a822-e1a4756d7ebd</th>\n",
       "      <td>2.0</td>\n",
       "      <td>1.482602</td>\n",
       "      <td>2.250000</td>\n",
       "      <td>0.153191</td>\n",
       "      <td>1.285714</td>\n",
       "      <td>0.485714</td>\n",
       "      <td>2.0</td>\n",
       "      <td>1.482602</td>\n",
       "      <td>2.157895</td>\n",
       "      <td>0.080851</td>\n",
       "      <td>...</td>\n",
       "      <td>0.777778</td>\n",
       "      <td>-2.058824</td>\n",
       "      <td>2.886932</td>\n",
       "      <td>4.880111</td>\n",
       "      <td>0.261905</td>\n",
       "      <td>0.125000</td>\n",
       "      <td>0.375000</td>\n",
       "      <td>3.875725</td>\n",
       "      <td>2.623889</td>\n",
       "      <td>0</td>\n",
       "    </tr>\n",
       "    <tr>\n",
       "      <th>00c86b27-f076-4560-bb3d-2fb0364b23a1</th>\n",
       "      <td>2.0</td>\n",
       "      <td>1.482602</td>\n",
       "      <td>2.625000</td>\n",
       "      <td>0.096386</td>\n",
       "      <td>1.363636</td>\n",
       "      <td>0.283333</td>\n",
       "      <td>2.0</td>\n",
       "      <td>1.482602</td>\n",
       "      <td>2.461538</td>\n",
       "      <td>0.066667</td>\n",
       "      <td>...</td>\n",
       "      <td>0.782222</td>\n",
       "      <td>3.529412</td>\n",
       "      <td>5.491979</td>\n",
       "      <td>4.940170</td>\n",
       "      <td>0.336842</td>\n",
       "      <td>0.200000</td>\n",
       "      <td>0.339286</td>\n",
       "      <td>3.783465</td>\n",
       "      <td>2.475188</td>\n",
       "      <td>-1</td>\n",
       "    </tr>\n",
       "  </tbody>\n",
       "</table>\n",
       "<p>5 rows × 48 columns</p>\n",
       "</div>"
      ],
      "text/plain": [
       "                                      median number photos taken in day - location  \\\n",
       "description                                                                          \n",
       "005b6c49-c4ed-438b-9092-ad02ed4d672e                                           2.0   \n",
       "005d6e1d-7a19-422f-a71a-1555b6ca5724                                           1.0   \n",
       "007a0785-1321-4112-be89-e6549a4725a2                                           3.0   \n",
       "008e4a51-2ded-4a7f-a822-e1a4756d7ebd                                           2.0   \n",
       "00c86b27-f076-4560-bb3d-2fb0364b23a1                                           2.0   \n",
       "\n",
       "                                      mad number photos taken in day - scale  \\\n",
       "description                                                                    \n",
       "005b6c49-c4ed-438b-9092-ad02ed4d672e                                1.482602   \n",
       "005d6e1d-7a19-422f-a71a-1555b6ca5724                                0.000000   \n",
       "007a0785-1321-4112-be89-e6549a4725a2                                2.965204   \n",
       "008e4a51-2ded-4a7f-a822-e1a4756d7ebd                                1.482602   \n",
       "00c86b27-f076-4560-bb3d-2fb0364b23a1                                1.482602   \n",
       "\n",
       "                                      mean number photos taken in day  \\\n",
       "description                                                             \n",
       "005b6c49-c4ed-438b-9092-ad02ed4d672e                         5.371968   \n",
       "005d6e1d-7a19-422f-a71a-1555b6ca5724                         1.562500   \n",
       "007a0785-1321-4112-be89-e6549a4725a2                        26.128205   \n",
       "008e4a51-2ded-4a7f-a822-e1a4756d7ebd                         2.250000   \n",
       "00c86b27-f076-4560-bb3d-2fb0364b23a1                         2.625000   \n",
       "\n",
       "                                      sample non zero days ratio  \\\n",
       "description                                                        \n",
       "005b6c49-c4ed-438b-9092-ad02ed4d672e                    0.087831   \n",
       "005d6e1d-7a19-422f-a71a-1555b6ca5724                    0.101106   \n",
       "007a0785-1321-4112-be89-e6549a4725a2                    0.040902   \n",
       "008e4a51-2ded-4a7f-a822-e1a4756d7ebd                    0.153191   \n",
       "00c86b27-f076-4560-bb3d-2fb0364b23a1                    0.096386   \n",
       "\n",
       "                                      mean number of photos in burst  \\\n",
       "description                                                            \n",
       "005b6c49-c4ed-438b-9092-ad02ed4d672e                        1.300914   \n",
       "005d6e1d-7a19-422f-a71a-1555b6ca5724                        1.111111   \n",
       "007a0785-1321-4112-be89-e6549a4725a2                        2.791781   \n",
       "008e4a51-2ded-4a7f-a822-e1a4756d7ebd                        1.285714   \n",
       "00c86b27-f076-4560-bb3d-2fb0364b23a1                        1.363636   \n",
       "\n",
       "                                      mean number of bursts a week  \\\n",
       "description                                                          \n",
       "005b6c49-c4ed-438b-9092-ad02ed4d672e                      0.845481   \n",
       "005d6e1d-7a19-422f-a71a-1555b6ca5724                      0.250000   \n",
       "007a0785-1321-4112-be89-e6549a4725a2                      1.641026   \n",
       "008e4a51-2ded-4a7f-a822-e1a4756d7ebd                      0.485714   \n",
       "00c86b27-f076-4560-bb3d-2fb0364b23a1                      0.283333   \n",
       "\n",
       "                                      median night time number photos - location  \\\n",
       "description                                                                        \n",
       "005b6c49-c4ed-438b-9092-ad02ed4d672e                                         2.0   \n",
       "005d6e1d-7a19-422f-a71a-1555b6ca5724                                         1.0   \n",
       "007a0785-1321-4112-be89-e6549a4725a2                                         3.0   \n",
       "008e4a51-2ded-4a7f-a822-e1a4756d7ebd                                         2.0   \n",
       "00c86b27-f076-4560-bb3d-2fb0364b23a1                                         2.0   \n",
       "\n",
       "                                      mad night time number photos - scale  \\\n",
       "description                                                                  \n",
       "005b6c49-c4ed-438b-9092-ad02ed4d672e                              1.482602   \n",
       "005d6e1d-7a19-422f-a71a-1555b6ca5724                              0.000000   \n",
       "007a0785-1321-4112-be89-e6549a4725a2                              2.965204   \n",
       "008e4a51-2ded-4a7f-a822-e1a4756d7ebd                              1.482602   \n",
       "00c86b27-f076-4560-bb3d-2fb0364b23a1                              1.482602   \n",
       "\n",
       "                                      mean night time number photos  \\\n",
       "description                                                           \n",
       "005b6c49-c4ed-438b-9092-ad02ed4d672e                       5.200000   \n",
       "005d6e1d-7a19-422f-a71a-1555b6ca5724                       1.390244   \n",
       "007a0785-1321-4112-be89-e6549a4725a2                       9.958333   \n",
       "008e4a51-2ded-4a7f-a822-e1a4756d7ebd                       2.157895   \n",
       "00c86b27-f076-4560-bb3d-2fb0364b23a1                       2.461538   \n",
       "\n",
       "                                      sampled non zero nights ratio  ...  \\\n",
       "description                                                          ...   \n",
       "005b6c49-c4ed-438b-9092-ad02ed4d672e                       0.068655  ...   \n",
       "005d6e1d-7a19-422f-a71a-1555b6ca5724                       0.065916  ...   \n",
       "007a0785-1321-4112-be89-e6549a4725a2                       0.026287  ...   \n",
       "008e4a51-2ded-4a7f-a822-e1a4756d7ebd                       0.080851  ...   \n",
       "00c86b27-f076-4560-bb3d-2fb0364b23a1                       0.066667  ...   \n",
       "\n",
       "                                      ratio of weekend and full week mean photos in burst  \\\n",
       "description                                                                                 \n",
       "005b6c49-c4ed-438b-9092-ad02ed4d672e                                           1.001396     \n",
       "005d6e1d-7a19-422f-a71a-1555b6ca5724                                           0.990000     \n",
       "007a0785-1321-4112-be89-e6549a4725a2                                           0.958653     \n",
       "008e4a51-2ded-4a7f-a822-e1a4756d7ebd                                           0.777778     \n",
       "00c86b27-f076-4560-bb3d-2fb0364b23a1                                           0.782222     \n",
       "\n",
       "                                      ratio of weekend and full week bursts a week  \\\n",
       "description                                                                          \n",
       "005b6c49-c4ed-438b-9092-ad02ed4d672e                                      0.427252   \n",
       "005d6e1d-7a19-422f-a71a-1555b6ca5724                                      8.000000   \n",
       "007a0785-1321-4112-be89-e6549a4725a2                                      0.377574   \n",
       "008e4a51-2ded-4a7f-a822-e1a4756d7ebd                                     -2.058824   \n",
       "00c86b27-f076-4560-bb3d-2fb0364b23a1                                      3.529412   \n",
       "\n",
       "                                      ar of num of photos in day time lag-1  \\\n",
       "description                                                                   \n",
       "005b6c49-c4ed-438b-9092-ad02ed4d672e                              17.050272   \n",
       "005d6e1d-7a19-422f-a71a-1555b6ca5724                               0.503928   \n",
       "007a0785-1321-4112-be89-e6549a4725a2                              34.620526   \n",
       "008e4a51-2ded-4a7f-a822-e1a4756d7ebd                               2.886932   \n",
       "00c86b27-f076-4560-bb3d-2fb0364b23a1                               5.491979   \n",
       "\n",
       "                                      entropy on number of photos taken in day  \\\n",
       "description                                                                      \n",
       "005b6c49-c4ed-438b-9092-ad02ed4d672e                                  7.228774   \n",
       "005d6e1d-7a19-422f-a71a-1555b6ca5724                                  5.536507   \n",
       "007a0785-1321-4112-be89-e6549a4725a2                                  4.114481   \n",
       "008e4a51-2ded-4a7f-a822-e1a4756d7ebd                                  4.880111   \n",
       "00c86b27-f076-4560-bb3d-2fb0364b23a1                                  4.940170   \n",
       "\n",
       "                                      mean max ratio of category of installed apps  \\\n",
       "description                                                                          \n",
       "005b6c49-c4ed-438b-9092-ad02ed4d672e                                      0.416667   \n",
       "005d6e1d-7a19-422f-a71a-1555b6ca5724                                      0.466667   \n",
       "007a0785-1321-4112-be89-e6549a4725a2                                      0.666667   \n",
       "008e4a51-2ded-4a7f-a822-e1a4756d7ebd                                      0.261905   \n",
       "00c86b27-f076-4560-bb3d-2fb0364b23a1                                      0.336842   \n",
       "\n",
       "                                      median max ratio of category of installed apps  \\\n",
       "description                                                                            \n",
       "005b6c49-c4ed-438b-9092-ad02ed4d672e                                        0.333333   \n",
       "005d6e1d-7a19-422f-a71a-1555b6ca5724                                        0.333333   \n",
       "007a0785-1321-4112-be89-e6549a4725a2                                        0.500000   \n",
       "008e4a51-2ded-4a7f-a822-e1a4756d7ebd                                        0.125000   \n",
       "00c86b27-f076-4560-bb3d-2fb0364b23a1                                        0.200000   \n",
       "\n",
       "                                      app category coverage ratio  \\\n",
       "description                                                         \n",
       "005b6c49-c4ed-438b-9092-ad02ed4d672e                     0.214286   \n",
       "005d6e1d-7a19-422f-a71a-1555b6ca5724                     0.267857   \n",
       "007a0785-1321-4112-be89-e6549a4725a2                     0.214286   \n",
       "008e4a51-2ded-4a7f-a822-e1a4756d7ebd                     0.375000   \n",
       "00c86b27-f076-4560-bb3d-2fb0364b23a1                     0.339286   \n",
       "\n",
       "                                      entropy of app categories  \\\n",
       "description                                                       \n",
       "005b6c49-c4ed-438b-9092-ad02ed4d672e                   3.180833   \n",
       "005d6e1d-7a19-422f-a71a-1555b6ca5724                   3.419382   \n",
       "007a0785-1321-4112-be89-e6549a4725a2                   3.235926   \n",
       "008e4a51-2ded-4a7f-a822-e1a4756d7ebd                   3.875725   \n",
       "00c86b27-f076-4560-bb3d-2fb0364b23a1                   3.783465   \n",
       "\n",
       "                                      entropy of install app time of day  \\\n",
       "description                                                                \n",
       "005b6c49-c4ed-438b-9092-ad02ed4d672e                            2.689246   \n",
       "005d6e1d-7a19-422f-a71a-1555b6ca5724                            1.976648   \n",
       "007a0785-1321-4112-be89-e6549a4725a2                            2.358459   \n",
       "008e4a51-2ded-4a7f-a822-e1a4756d7ebd                            2.623889   \n",
       "00c86b27-f076-4560-bb3d-2fb0364b23a1                            2.475188   \n",
       "\n",
       "                                      labels  \n",
       "description                                   \n",
       "005b6c49-c4ed-438b-9092-ad02ed4d672e      -1  \n",
       "005d6e1d-7a19-422f-a71a-1555b6ca5724      -1  \n",
       "007a0785-1321-4112-be89-e6549a4725a2      -1  \n",
       "008e4a51-2ded-4a7f-a822-e1a4756d7ebd       0  \n",
       "00c86b27-f076-4560-bb3d-2fb0364b23a1      -1  \n",
       "\n",
       "[5 rows x 48 columns]"
      ]
     },
     "execution_count": 33,
     "metadata": {},
     "output_type": "execute_result"
    }
   ],
   "source": [
    "X.head(5)"
   ]
  },
  {
   "cell_type": "code",
   "execution_count": 34,
   "metadata": {},
   "outputs": [],
   "source": [
    "# Number of trees in random forest\n",
    "n_estimators = [int(x) for x in np.linspace(start = 200, stop = 2000, num = 10)]\n",
    "# Number of features to consider at every split\n",
    "max_features = ['auto', 'sqrt']\n",
    "# Maximum number of levels in tree\n",
    "max_depth = [int(x) for x in np.linspace(10, 110, num = 11)]\n",
    "max_depth.append(None)\n",
    "# Minimum number of samples required to split a node\n",
    "min_samples_split = [2, 5, 10]\n",
    "# Minimum number of samples required at each leaf node\n",
    "min_samples_leaf = [1, 2, 4]\n",
    "# Method of selecting samples for training each tree\n",
    "bootstrap = [True, False]\n",
    "# Create the random grid\n",
    "random_grid = {'n_estimators': n_estimators,\n",
    "               'max_features': max_features,\n",
    "               'max_depth': max_depth,\n",
    "               'min_samples_split': min_samples_split,\n",
    "               'min_samples_leaf': min_samples_leaf,\n",
    "               'bootstrap': bootstrap}"
   ]
  },
  {
   "cell_type": "code",
   "execution_count": 35,
   "metadata": {},
   "outputs": [
    {
     "data": {
      "text/plain": [
       "{'n_estimators': [200, 400, 600, 800, 1000, 1200, 1400, 1600, 1800, 2000],\n",
       " 'max_features': ['auto', 'sqrt'],\n",
       " 'max_depth': [10, 20, 30, 40, 50, 60, 70, 80, 90, 100, 110, None],\n",
       " 'min_samples_split': [2, 5, 10],\n",
       " 'min_samples_leaf': [1, 2, 4],\n",
       " 'bootstrap': [True, False]}"
      ]
     },
     "execution_count": 35,
     "metadata": {},
     "output_type": "execute_result"
    }
   ],
   "source": [
    "random_grid"
   ]
  },
  {
   "cell_type": "code",
   "execution_count": 36,
   "metadata": {},
   "outputs": [],
   "source": [
    "feature_lst = list(X.columns)\n",
    "lbls = np.array(X['labels'])"
   ]
  },
  {
   "cell_type": "code",
   "execution_count": 37,
   "metadata": {},
   "outputs": [],
   "source": [
    "data = X.drop('labels', axis = 1)"
   ]
  },
  {
   "cell_type": "code",
   "execution_count": 38,
   "metadata": {},
   "outputs": [],
   "source": [
    "dat = np.array(data)"
   ]
  },
  {
   "cell_type": "code",
   "execution_count": 39,
   "metadata": {},
   "outputs": [],
   "source": [
    "# Split the data into training and testing sets\n",
    "X_train, X_test, y_train, y_test = train_test_split(dat, lbls, test_size = 0.25, random_state = 42)"
   ]
  },
  {
   "cell_type": "code",
   "execution_count": 43,
   "metadata": {},
   "outputs": [
    {
     "data": {
      "text/plain": [
       "(1499, 47)"
      ]
     },
     "execution_count": 43,
     "metadata": {},
     "output_type": "execute_result"
    }
   ],
   "source": [
    "X_train.shape"
   ]
  },
  {
   "cell_type": "code",
   "execution_count": 52,
   "metadata": {},
   "outputs": [],
   "source": [
    "def evaluate(model, X_test, y_test):\n",
    "    predictions = model.predict(X_test)\n",
    "    #errors = abs(predictions - y_test)\n",
    "    accuracy = accuracy_score(y_test, predictions)\n",
    "    conf_matrix = confusion_matrix(y_test, predictions)\n",
    "    #class_report = classification_report(y_test, predictions)\n",
    "    #print('Model Performance')\n",
    "    #print('Average Error: {:0.4f} degrees.'.format(np.mean(errors)))\n",
    "    #print('Accuracy = {:0.2f}%.'.format(accuracy))\n",
    "    return accuracy, conf_matrix #, class_report"
   ]
  },
  {
   "cell_type": "code",
   "execution_count": 45,
   "metadata": {},
   "outputs": [
    {
     "name": "stdout",
     "output_type": "stream",
     "text": [
      "Fitting 5 folds for each of 50 candidates, totalling 250 fits\n"
     ]
    },
    {
     "name": "stderr",
     "output_type": "stream",
     "text": [
      "[Parallel(n_jobs=-1)]: Using backend LokyBackend with 4 concurrent workers.\n",
      "[Parallel(n_jobs=-1)]: Done  33 tasks      | elapsed:  3.4min\n",
      "[Parallel(n_jobs=-1)]: Done 154 tasks      | elapsed: 15.7min\n",
      "[Parallel(n_jobs=-1)]: Done 250 out of 250 | elapsed: 21.5min finished\n"
     ]
    },
    {
     "data": {
      "text/plain": [
       "RandomizedSearchCV(cv=5, estimator=RandomForestClassifier(), n_iter=50,\n",
       "                   n_jobs=-1,\n",
       "                   param_distributions={'bootstrap': [True, False],\n",
       "                                        'max_depth': [10, 20, 30, 40, 50, 60,\n",
       "                                                      70, 80, 90, 100, 110,\n",
       "                                                      None],\n",
       "                                        'max_features': ['auto', 'sqrt'],\n",
       "                                        'min_samples_leaf': [1, 2, 4],\n",
       "                                        'min_samples_split': [2, 5, 10],\n",
       "                                        'n_estimators': [200, 400, 600, 800,\n",
       "                                                         1000, 1200, 1400, 1600,\n",
       "                                                         1800, 2000]},\n",
       "                   random_state=42, verbose=2)"
      ]
     },
     "execution_count": 45,
     "metadata": {},
     "output_type": "execute_result"
    }
   ],
   "source": [
    "rf = RandomForestClassifier()\n",
    "# Random search of parameters, using 3 fold cross validation, \n",
    "# search across 100 different combinations, and use all available cores\n",
    "rf_random = RandomizedSearchCV(estimator = rf, param_distributions = random_grid, n_iter = 50, cv = 5, verbose=2, random_state=42, n_jobs = -1)\n",
    "# Fit the random search model\n",
    "rf_random.fit(X_train, y_train)"
   ]
  },
  {
   "cell_type": "code",
   "execution_count": 50,
   "metadata": {},
   "outputs": [
    {
     "data": {
      "text/plain": [
       "RandomForestClassifier(bootstrap=False, max_features='sqrt', n_estimators=400)"
      ]
     },
     "execution_count": 50,
     "metadata": {},
     "output_type": "execute_result"
    }
   ],
   "source": [
    "best_random = rf_random.best_estimator_\n",
    "best_random"
   ]
  },
  {
   "cell_type": "code",
   "execution_count": 54,
   "metadata": {},
   "outputs": [
    {
     "name": "stdout",
     "output_type": "stream",
     "text": [
      "Accuracy = 0.91%.\n"
     ]
    }
   ],
   "source": [
    "random_accuracy, confusion_mat = evaluate(best_random, X_test, y_test)\n",
    "print('Accuracy = {:0.2f}%.'.format(random_accuracy))"
   ]
  },
  {
   "cell_type": "code",
   "execution_count": 55,
   "metadata": {},
   "outputs": [
    {
     "name": "stdout",
     "output_type": "stream",
     "text": [
      "[[144   6   4   0   0]\n",
      " [  2 123   5   0   0]\n",
      " [ 16   4 108   0   0]\n",
      " [  0   0   2  56   0]\n",
      " [  0   2   2   0  26]]\n"
     ]
    }
   ],
   "source": [
    "'''\n",
    "confusion matrix :\n",
    "c[0,0] c[0,1]\n",
    "c[1,0] c[1,1]\n",
    "\n",
    "C[0,0] - true negative \n",
    "C[1,0] - false negative\n",
    "C[0,1] - false positive\n",
    "C[1,1] - true positive \n",
    "'''\n",
    "print(confusion_mat)"
   ]
  },
  {
   "cell_type": "markdown",
   "metadata": {},
   "source": [
    "# prcision = correct_identify / total_identify    \n",
    "      example for positive is :   true_positive / (true_positive + true_negative)\n",
    "# recall = correct_identify / total_class_member\n",
    "      example for positive is :   true_positive / (true_positive + false_negative)\n",
    "# f1-score = good classifier estimation"
   ]
  },
  {
   "cell_type": "code",
   "execution_count": 29,
   "metadata": {},
   "outputs": [
    {
     "name": "stdout",
     "output_type": "stream",
     "text": [
      "              precision    recall  f1-score   support\n",
      "\n",
      "         0.0       0.66      0.97      0.78       314\n",
      "         1.0       0.47      0.05      0.09       167\n",
      "\n",
      "    accuracy                           0.65       481\n",
      "   macro avg       0.56      0.51      0.44       481\n",
      "weighted avg       0.59      0.65      0.54       481\n",
      "\n"
     ]
    }
   ],
   "source": [
    "print(classification_report)"
   ]
  },
  {
   "cell_type": "code",
   "execution_count": 56,
   "metadata": {},
   "outputs": [],
   "source": [
    "def feature_importence(rf, feature_list):\n",
    "    # Get numerical feature importances\n",
    "    importances = list(rf.feature_importances_)\n",
    "    # List of tuples with variable and importance\n",
    "    feature_importances = [(feature, round(importance, 2)) for feature, importance in zip(feature_list, importances)]\n",
    "    # Sort the feature importances by most important first\n",
    "    feature_importances = sorted(feature_importances, key = lambda x: x[1], reverse = True)\n",
    "    # Print out the feature and importances \n",
    "    [print('Variable: {:20} Importance: {}'.format(*pair)) for pair in feature_importances]"
   ]
  },
  {
   "cell_type": "code",
   "execution_count": 57,
   "metadata": {},
   "outputs": [
    {
     "name": "stdout",
     "output_type": "stream",
     "text": [
      "Variable: ar of num of photos in day time lag-1 Importance: 0.15\n",
      "Variable: mean number photos taken in day Importance: 0.11\n",
      "Variable: mean work days number photos Importance: 0.06\n",
      "Variable: median number photos taken in day - location Importance: 0.03\n",
      "Variable: sample non zero days ratio Importance: 0.03\n",
      "Variable: mean number of bursts a week Importance: 0.03\n",
      "Variable: mean day time number photos Importance: 0.03\n",
      "Variable: mean weekend number photos Importance: 0.03\n",
      "Variable: mad number photos taken in day - scale Importance: 0.02\n",
      "Variable: mean number of photos in burst Importance: 0.02\n",
      "Variable: mean night time number photos Importance: 0.02\n",
      "Variable: median work days number photos - location Importance: 0.02\n",
      "Variable: sampled weekdays ratio Importance: 0.02\n",
      "Variable: mean number of bursts in weekdays Importance: 0.02\n",
      "Variable: ratio of week work days and week daily mean number of photos Importance: 0.02\n",
      "Variable: ratio of weekend and full week bursts a week Importance: 0.02\n",
      "Variable: entropy on number of photos taken in day Importance: 0.02\n",
      "Variable: mean max ratio of category of installed apps Importance: 0.02\n",
      "Variable: median max ratio of category of installed apps Importance: 0.02\n",
      "Variable: app category coverage ratio Importance: 0.02\n",
      "Variable: entropy of app categories Importance: 0.02\n",
      "Variable: entropy of install app time of day Importance: 0.02\n",
      "Variable: median night time number photos - location Importance: 0.01\n",
      "Variable: sampled non zero nights ratio Importance: 0.01\n",
      "Variable: mean number of photos in burst at night Importance: 0.01\n",
      "Variable: mean number of bursts a week nights Importance: 0.01\n",
      "Variable: median day time number photos - location Importance: 0.01\n",
      "Variable: sampled non zero days ratio Importance: 0.01\n",
      "Variable: mean number of photos in burst at daytime Importance: 0.01\n",
      "Variable: mean number of bursts a week daytime Importance: 0.01\n",
      "Variable: median weekend number photos - location Importance: 0.01\n",
      "Variable: mad weekend number photos - scale Importance: 0.01\n",
      "Variable: sampled non zero weekends ratio Importance: 0.01\n",
      "Variable: mean number of photos in burst at weekend Importance: 0.01\n",
      "Variable: mean number of bursts in weekend Importance: 0.01\n",
      "Variable: mad work days number photos - scale Importance: 0.01\n",
      "Variable: mean number of photos in burst at weekdays Importance: 0.01\n",
      "Variable: ratio of night hours and daily mean number of photos Importance: 0.01\n",
      "Variable: ratio of day hours and daily mean number of photos Importance: 0.01\n",
      "Variable: ratio of night hours and day hours mean number of photos Importance: 0.01\n",
      "Variable: ratio of weekend and week daily mean number of photos Importance: 0.01\n",
      "Variable: ratio of weekend and week work days daily mean number of photos Importance: 0.01\n",
      "Variable: ratio of night hours and daily mean photos in burst Importance: 0.01\n",
      "Variable: ratio of night hours and daily mean bursts a week Importance: 0.01\n",
      "Variable: ratio of weekend and full week mean photos in burst Importance: 0.01\n",
      "Variable: mad night time number photos - scale Importance: 0.0\n",
      "Variable: mad day time number photos - scale Importance: 0.0\n"
     ]
    }
   ],
   "source": [
    "feature_importence(best_random, feature_lst)"
   ]
  },
  {
   "cell_type": "code",
   "execution_count": 58,
   "metadata": {},
   "outputs": [],
   "source": [
    "Y = csv_to_df('../csv_files/ModelFiles/photogallery_installedapss_with_target_for_ml_model.csv')"
   ]
  },
  {
   "cell_type": "code",
   "execution_count": 63,
   "metadata": {},
   "outputs": [],
   "source": [
    "from sklearn.preprocessing import MinMaxScaler\n",
    "from sklearn.linear_model import LogisticRegression"
   ]
  },
  {
   "cell_type": "code",
   "execution_count": 60,
   "metadata": {},
   "outputs": [
    {
     "data": {
      "text/plain": [
       "Index(['median number photos taken in day - location',\n",
       "       'mad number photos taken in day - scale',\n",
       "       'mean number photos taken in day', 'sample non zero days ratio',\n",
       "       'mean number of photos in burst', 'mean number of bursts a week',\n",
       "       'median night time number photos - location',\n",
       "       'mad night time number photos - scale', 'mean night time number photos',\n",
       "       'sampled non zero nights ratio',\n",
       "       'mean number of photos in burst at night',\n",
       "       'mean number of bursts a week nights',\n",
       "       'median day time number photos - location',\n",
       "       'mad day time number photos - scale', 'mean day time number photos',\n",
       "       'sampled non zero days ratio',\n",
       "       'mean number of photos in burst at daytime',\n",
       "       'mean number of bursts a week daytime',\n",
       "       'median weekend number photos - location',\n",
       "       'mad weekend number photos - scale', 'mean weekend number photos',\n",
       "       'sampled non zero weekends ratio',\n",
       "       'mean number of photos in burst at weekend',\n",
       "       'mean number of bursts in weekend',\n",
       "       'median work days number photos - location',\n",
       "       'mad work days number photos - scale', 'mean work days number photos',\n",
       "       'sampled weekdays ratio', 'mean number of photos in burst at weekdays',\n",
       "       'mean number of bursts in weekdays',\n",
       "       'ratio of night hours and daily mean number of photos',\n",
       "       'ratio of day hours and daily mean number of photos',\n",
       "       'ratio of night hours and day hours mean number of photos',\n",
       "       'ratio of weekend and week daily mean number of photos',\n",
       "       'ratio of week work days and week daily mean number of photos',\n",
       "       'ratio of weekend and week work days daily mean number of photos',\n",
       "       'ratio of night hours and daily mean photos in burst',\n",
       "       'ratio of night hours and daily mean bursts a week',\n",
       "       'ratio of weekend and full week mean photos in burst',\n",
       "       'ratio of weekend and full week bursts a week',\n",
       "       'ar of num of photos in day time lag-1',\n",
       "       'entropy on number of photos taken in day',\n",
       "       'mean max ratio of category of installed apps',\n",
       "       'median max ratio of category of installed apps',\n",
       "       'app category coverage ratio', 'entropy of app categories',\n",
       "       'entropy of install app time of day', 'User_Register'],\n",
       "      dtype='object')"
      ]
     },
     "execution_count": 60,
     "metadata": {},
     "output_type": "execute_result"
    }
   ],
   "source": [
    "Y.columns"
   ]
  },
  {
   "cell_type": "code",
   "execution_count": 62,
   "metadata": {},
   "outputs": [],
   "source": [
    "target = np.array(Y['User_Register'])\n",
    "data = Y.drop('User_Register', axis = 1)\n",
    "dat = np.array(data)"
   ]
  },
  {
   "cell_type": "code",
   "execution_count": 64,
   "metadata": {},
   "outputs": [],
   "source": [
    "scaler = MinMaxScaler()\n",
    "S = scaler.fit_transform(dat)\n",
    "X_tr, X_te, y_tr, y_te = train_test_split(S, target, test_size = 0.2, random_state = 42)"
   ]
  },
  {
   "cell_type": "code",
   "execution_count": 66,
   "metadata": {},
   "outputs": [
    {
     "data": {
      "text/plain": [
       "(385, 47)"
      ]
     },
     "execution_count": 66,
     "metadata": {},
     "output_type": "execute_result"
    }
   ],
   "source": [
    "X_te.shape"
   ]
  },
  {
   "cell_type": "code",
   "execution_count": 67,
   "metadata": {},
   "outputs": [],
   "source": [
    "logmodel = LogisticRegression(max_iter=10000)\n",
    "logmodel.fit(X_tr, y_tr)\n",
    "pred = logmodel.predict(X_te)"
   ]
  },
  {
   "cell_type": "code",
   "execution_count": 70,
   "metadata": {},
   "outputs": [
    {
     "data": {
      "text/plain": [
       "array([0., 0., 0., 0., 0., 0., 0., 0., 0., 0., 0., 0., 0., 0., 0., 0., 0.,\n",
       "       0., 0., 0., 0., 0., 0., 0., 0., 0., 0., 0., 0., 0., 0., 0., 0., 0.,\n",
       "       0., 0., 0., 0., 0., 0., 0., 0., 0., 0., 0., 0., 0., 0., 0., 0., 0.,\n",
       "       0., 0., 0., 0., 0., 0., 0., 0., 0., 0., 0., 0., 0., 0., 0., 0., 0.,\n",
       "       0., 0., 0., 0., 0., 0., 0., 0., 0., 0., 0., 0., 0., 0., 0., 0., 0.,\n",
       "       0., 0., 1., 0., 0., 0., 0., 0., 0., 0., 0., 0., 0., 0., 0., 0., 0.,\n",
       "       0., 0., 0., 0., 0., 0., 0., 0., 0., 0., 0., 0., 0., 0., 0., 0., 0.,\n",
       "       0., 0., 0., 0., 0., 0., 0., 0., 0., 0., 0., 0., 0., 0., 0., 0., 0.,\n",
       "       0., 0., 0., 0., 0., 0., 0., 0., 0., 0., 0., 0., 0., 0., 0., 0., 0.,\n",
       "       0., 0., 0., 0., 0., 0., 0., 0., 0., 0., 0., 0., 0., 0., 0., 0., 0.,\n",
       "       0., 0., 0., 0., 0., 0., 0., 0., 0., 0., 0., 0., 0., 0., 0., 0., 0.,\n",
       "       0., 0., 0., 0., 0., 0., 0., 0., 0., 0., 0., 0., 0., 0., 0., 0., 0.,\n",
       "       0., 0., 0., 0., 0., 0., 0., 0., 0., 0., 0., 0., 0., 0., 0., 0., 0.,\n",
       "       0., 0., 0., 0., 0., 0., 0., 0., 0., 0., 0., 0., 0., 0., 0., 0., 0.,\n",
       "       0., 0., 0., 0., 0., 0., 1., 0., 0., 0., 0., 0., 0., 0., 1., 0., 0.,\n",
       "       0., 0., 0., 0., 0., 0., 0., 0., 0., 0., 0., 0., 0., 0., 0., 0., 0.,\n",
       "       0., 0., 0., 0., 0., 0., 0., 0., 0., 0., 0., 0., 0., 0., 0., 0., 0.,\n",
       "       0., 0., 0., 0., 0., 0., 0., 0., 0., 0., 0., 0., 0., 0., 0., 0., 0.,\n",
       "       0., 0., 0., 0., 0., 0., 0., 0., 0., 0., 0., 0., 0., 0., 0., 0., 0.,\n",
       "       0., 0., 0., 0., 0., 0., 0., 0., 0., 0., 0., 0., 0., 0., 0., 0., 0.,\n",
       "       0., 0., 0., 0., 0., 0., 0., 0., 0., 0., 0., 0., 0., 0., 0., 0., 0.,\n",
       "       0., 0., 0., 0., 0., 0., 0., 0., 0., 0., 0., 0., 0., 0., 0., 0., 0.,\n",
       "       0., 0., 0., 0., 0., 0., 0., 0., 0., 0., 0.])"
      ]
     },
     "execution_count": 70,
     "metadata": {},
     "output_type": "execute_result"
    }
   ],
   "source": [
    "pred"
   ]
  },
  {
   "cell_type": "code",
   "execution_count": null,
   "metadata": {},
   "outputs": [],
   "source": []
  }
 ],
 "metadata": {
  "kernelspec": {
   "display_name": "Python [conda env:dataexpl_p37_cpu_v2]",
   "language": "python",
   "name": "conda-env-dataexpl_p37_cpu_v2-py"
  },
  "language_info": {
   "codemirror_mode": {
    "name": "ipython",
    "version": 3
   },
   "file_extension": ".py",
   "mimetype": "text/x-python",
   "name": "python",
   "nbconvert_exporter": "python",
   "pygments_lexer": "ipython3",
   "version": "3.7.10"
  }
 },
 "nbformat": 4,
 "nbformat_minor": 4
}
