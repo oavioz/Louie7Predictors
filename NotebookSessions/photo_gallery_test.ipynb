{
 "cells": [
  {
   "cell_type": "code",
   "execution_count": 1,
   "metadata": {},
   "outputs": [],
   "source": [
    "import numpy as np\n",
    "import pandas as pd\n",
    "import json\n",
    "import codecs\n",
    "import datetime\n",
    "import os\n",
    "import sys\n",
    "sys.path.append('.')\n",
    "import matplotlib as mpl\n",
    "import matplotlib.pyplot as plt\n",
    "from vector_creator.raw_to_df.rawdata_to_df import *\n",
    "from vector_creator.score_vectors.score_vectors_assembly import *\n",
    "from vector_creator.stats_models.entropy import *\n",
    "from vector_creator.preprocess.est_by_df_column import *\n",
    "from vector_creator.stats_models.auto_regression import *\n",
    "from vector_creator.preprocess.install_apps_features import *\n",
    "from vector_creator.stats_models.estimators import *\n",
    "from vector_creator.score_vectors.vector_indexer import vector_desc_call_logs\n",
    "from vector_creator.score_vectors.vector_descriptor import *\n",
    "path = '/Users/smuel/AndroidStudioProjects/LuckyMeIntgratedSDK/metadata_init_phase/'"
   ]
  },
  {
   "cell_type": "code",
   "execution_count": 2,
   "metadata": {},
   "outputs": [
    {
     "data": {
      "text/plain": [
       "'05fa68e5-0ba3-4783-9c07-42740c4914c6'"
      ]
     },
     "execution_count": 2,
     "metadata": {},
     "output_type": "execute_result"
    }
   ],
   "source": [
    "rdata = list_of_json_files(path)\n",
    "rdata[0][0]"
   ]
  },
  {
   "cell_type": "code",
   "execution_count": 3,
   "metadata": {},
   "outputs": [],
   "source": [
    "raw = group_metadata(path)\n",
    "uid  = '05fa68e5-0ba3-4783-9c07-42740c4914c6'\n",
    "file = '05fa68e5-0ba3-4783-9c07-42740c4914c6_11-06-2021_09-53-01.json'\n",
    "raw_data = json.load(codecs.open(path + file, 'r', 'utf-8-sig'))"
   ]
  },
  {
   "cell_type": "code",
   "execution_count": 4,
   "metadata": {},
   "outputs": [
    {
     "data": {
      "text/plain": [
       "dict_keys(['SamplingConfigurations', 'CallLogs', 'ImgMetaData', 'InstallApps', 'LocationInfo', 'BatteryInfo', 'WifiInfo', 'ScreenInfo'])"
      ]
     },
     "execution_count": 4,
     "metadata": {},
     "output_type": "execute_result"
    }
   ],
   "source": [
    "raw_data.keys()"
   ]
  },
  {
   "cell_type": "code",
   "execution_count": 5,
   "metadata": {},
   "outputs": [],
   "source": [
    "loc, df_r = create_df_from_init_metadata(uid, raw_data)"
   ]
  },
  {
   "cell_type": "code",
   "execution_count": 6,
   "metadata": {},
   "outputs": [
    {
     "data": {
      "text/plain": [
       "dict_keys(['05fa68e5-0ba3-4783-9c07-42740c4914c6_SamplingConfigurations', '05fa68e5-0ba3-4783-9c07-42740c4914c6_CallLogs', '05fa68e5-0ba3-4783-9c07-42740c4914c6_ImgMetaData', '05fa68e5-0ba3-4783-9c07-42740c4914c6_InstallApps', '05fa68e5-0ba3-4783-9c07-42740c4914c6_LocationInfo', '05fa68e5-0ba3-4783-9c07-42740c4914c6_BatteryInfo', '05fa68e5-0ba3-4783-9c07-42740c4914c6_WifiInfo', '05fa68e5-0ba3-4783-9c07-42740c4914c6_ScreenInfo'])"
      ]
     },
     "execution_count": 6,
     "metadata": {},
     "output_type": "execute_result"
    }
   ],
   "source": [
    "df_r.keys()"
   ]
  },
  {
   "cell_type": "code",
   "execution_count": 7,
   "metadata": {},
   "outputs": [],
   "source": [
    "df=df_r['05fa68e5-0ba3-4783-9c07-42740c4914c6_ImgMetaData']"
   ]
  },
  {
   "cell_type": "code",
   "execution_count": 8,
   "metadata": {},
   "outputs": [
    {
     "data": {
      "text/html": [
       "<div>\n",
       "<style scoped>\n",
       "    .dataframe tbody tr th:only-of-type {\n",
       "        vertical-align: middle;\n",
       "    }\n",
       "\n",
       "    .dataframe tbody tr th {\n",
       "        vertical-align: top;\n",
       "    }\n",
       "\n",
       "    .dataframe thead th {\n",
       "        text-align: right;\n",
       "    }\n",
       "</style>\n",
       "<table border=\"1\" class=\"dataframe\">\n",
       "  <thead>\n",
       "    <tr style=\"text-align: right;\">\n",
       "      <th></th>\n",
       "      <th>IMAGE_TYPE</th>\n",
       "      <th>IMAGE_DATE_TIME</th>\n",
       "    </tr>\n",
       "  </thead>\n",
       "  <tbody>\n",
       "    <tr>\n",
       "      <th>0</th>\n",
       "      <td>image/jpeg</td>\n",
       "      <td>2019-10-16 08:48:55</td>\n",
       "    </tr>\n",
       "    <tr>\n",
       "      <th>1</th>\n",
       "      <td>image/jpeg</td>\n",
       "      <td>2019-10-16 08:49:06</td>\n",
       "    </tr>\n",
       "    <tr>\n",
       "      <th>2</th>\n",
       "      <td>image/jpeg</td>\n",
       "      <td>2019-10-16 08:49:07</td>\n",
       "    </tr>\n",
       "    <tr>\n",
       "      <th>3</th>\n",
       "      <td>image/jpeg</td>\n",
       "      <td>2019-10-20 15:42:48</td>\n",
       "    </tr>\n",
       "    <tr>\n",
       "      <th>4</th>\n",
       "      <td>image/jpeg</td>\n",
       "      <td>2019-10-22 14:09:27</td>\n",
       "    </tr>\n",
       "  </tbody>\n",
       "</table>\n",
       "</div>"
      ],
      "text/plain": [
       "   IMAGE_TYPE     IMAGE_DATE_TIME\n",
       "0  image/jpeg 2019-10-16 08:48:55\n",
       "1  image/jpeg 2019-10-16 08:49:06\n",
       "2  image/jpeg 2019-10-16 08:49:07\n",
       "3  image/jpeg 2019-10-20 15:42:48\n",
       "4  image/jpeg 2019-10-22 14:09:27"
      ]
     },
     "execution_count": 8,
     "metadata": {},
     "output_type": "execute_result"
    }
   ],
   "source": [
    "df.head(5)"
   ]
  },
  {
   "cell_type": "code",
   "execution_count": 9,
   "metadata": {},
   "outputs": [],
   "source": [
    "loc_tuple = (loc[0]['Latitude'], loc[0]['Longitude'])"
   ]
  },
  {
   "cell_type": "code",
   "execution_count": 10,
   "metadata": {
    "scrolled": false
   },
   "outputs": [
    {
     "name": "stdout",
     "output_type": "stream",
     "text": [
      "-> processed -> 724\n",
      "-> processed -> 1448\n",
      "-> processed -> 1558\n",
      "-> processed -> 420\n",
      "-> processed -> 1278\n",
      "-> processed -> 311\n",
      "-> processed -> 462\n",
      "-> processed -> 3294\n",
      "-> processed -> 1436\n",
      "-> processed -> 1369\n",
      "-> processed -> 2398\n",
      "-> data to small to process -> 54\n",
      "-> processed -> 607\n",
      "-> processed -> 553\n",
      "-> data to small to process -> 193\n",
      "-> processed -> 204\n",
      "-> data to small to process -> 137\n",
      "-> processed -> 1526\n",
      "-> processed -> 964\n",
      "-> processed -> 897\n",
      "-> data to small to process -> 28\n",
      "(17, 33)\n"
     ]
    }
   ],
   "source": [
    "x = score_vector_constructor(path, 'photo-gallery')"
   ]
  },
  {
   "cell_type": "code",
   "execution_count": 11,
   "metadata": {},
   "outputs": [],
   "source": [
    "from scipy.stats import zscore\n",
    "from sklearn import preprocessing"
   ]
  },
  {
   "cell_type": "code",
   "execution_count": 12,
   "metadata": {},
   "outputs": [],
   "source": [
    "#read the tags from json file for user register non register and create df with tag column\n",
    "def create_tag_df(json_file_path, column_name): # 'entries.json'\n",
    "    tag_data = json.load(codecs.open(json_file_path, 'r', 'utf-8-sig'))\n",
    "    df_tag = pd.DataFrame(tag_data)\n",
    "    df_tag = df_tag.rename(columns={column_name: ''}) # 'app_userid'\n",
    "    dftag = df_tag.set_index('')\n",
    "    return dftag"
   ]
  },
  {
   "cell_type": "code",
   "execution_count": 13,
   "metadata": {},
   "outputs": [],
   "source": [
    "def norm_df(old_df):\n",
    "    inxs = old_df.index.values\n",
    "    zs = zscore(old_df.values, axis=0, ddof=1)\n",
    "    return pd.DataFrame(zs, columns=old_df.columns, index=inxs)\n",
    "n_df = norm_df(x)"
   ]
  },
  {
   "cell_type": "code",
   "execution_count": 14,
   "metadata": {},
   "outputs": [],
   "source": [
    "def norm_df_2(df):\n",
    "    inxs = df.index.values\n",
    "    std_scale = preprocessing.StandardScaler().fit(df)\n",
    "    df_std = std_scale.transform(df)\n",
    "    return pd.DataFrame(df_std, columns=df.columns, index=inxs)\n",
    "n2_df = norm_df_2(x)"
   ]
  },
  {
   "cell_type": "code",
   "execution_count": 27,
   "metadata": {},
   "outputs": [],
   "source": [
    "def minmax_norm(df):\n",
    "    inxs = df.index.values\n",
    "    minmax_scale = preprocessing.MinMaxScaler().fit(df)\n",
    "    df_minmax = minmax_scale.transform(df)\n",
    "    return pd.DataFrame(df_minmax, columns=df.columns, index=inxs)\n",
    "mm_df = minmax_norm(x)"
   ]
  },
  {
   "cell_type": "code",
   "execution_count": 35,
   "metadata": {},
   "outputs": [
    {
     "data": {
      "text/plain": [
       "description\n",
       "median number photos taken in week - location      1.0\n",
       "mad number photos taken in week - scale            1.0\n",
       "sample weeks ratio                                 1.0\n",
       "mean number of photos in burst                     1.0\n",
       "mean number of bursts a week                       1.0\n",
       "median night time number photos                    1.0\n",
       "mad night time number photos                       1.0\n",
       "sampled week nights ratio                          1.0\n",
       "entropy on number of photos taken in night time    1.0\n",
       "ar of num of photos in night time lag-1            1.0\n",
       "mean number of photos in burst at night            1.0\n",
       "mean number of bursts a week nights                1.0\n",
       "median day time number photos                      1.0\n",
       "mad day time number photos                         1.0\n",
       "sampled week days ratio                            1.0\n",
       "entropy on number of photos taken in day time      1.0\n",
       "ar of num of photos in day time lag-1              1.0\n",
       "mean number of photos in burst at daytime          1.0\n",
       "mean number of bursts a week daytime               1.0\n",
       "median weekend number photos                       1.0\n",
       "mad weekend number photos                          1.0\n",
       "sampled weekends ratio                             1.0\n",
       "entropy on number of photos taken in weekend       1.0\n",
       "ar of num of photos in weekend lag-1               1.0\n",
       "mean number of photos in burst at weekend          1.0\n",
       "mean number of bursts in weekend                   1.0\n",
       "median work days number photos                     1.0\n",
       "mad work days number photos                        1.0\n",
       "sampled weekdays ratio                             1.0\n",
       "entropy on number of photos taken in weekdays      1.0\n",
       "ar of num of photos in weekdays lag-1              1.0\n",
       "mean number of photos in burst at weekdays         1.0\n",
       "mean number of bursts in weekdays                  1.0\n",
       "dtype: float64"
      ]
     },
     "execution_count": 35,
     "metadata": {},
     "output_type": "execute_result"
    }
   ],
   "source": [
    "mm_df.max(axis=0)"
   ]
  },
  {
   "cell_type": "code",
   "execution_count": 26,
   "metadata": {
    "scrolled": true
   },
   "outputs": [
    {
     "data": {
      "text/plain": [
       "2.1224851941363285e-17"
      ]
     },
     "execution_count": 26,
     "metadata": {},
     "output_type": "execute_result"
    }
   ],
   "source": [
    "n_df.values[:,0].mean()"
   ]
  },
  {
   "cell_type": "code",
   "execution_count": 18,
   "metadata": {},
   "outputs": [
    {
     "data": {
      "text/html": [
       "<div>\n",
       "<style scoped>\n",
       "    .dataframe tbody tr th:only-of-type {\n",
       "        vertical-align: middle;\n",
       "    }\n",
       "\n",
       "    .dataframe tbody tr th {\n",
       "        vertical-align: top;\n",
       "    }\n",
       "\n",
       "    .dataframe thead th {\n",
       "        text-align: right;\n",
       "    }\n",
       "</style>\n",
       "<table border=\"1\" class=\"dataframe\">\n",
       "  <thead>\n",
       "    <tr style=\"text-align: right;\">\n",
       "      <th></th>\n",
       "      <th>User_Register</th>\n",
       "    </tr>\n",
       "    <tr>\n",
       "      <th></th>\n",
       "      <th></th>\n",
       "    </tr>\n",
       "  </thead>\n",
       "  <tbody>\n",
       "    <tr>\n",
       "      <th>005b6c49-c4ed-438b-9092-ad02ed4d672e</th>\n",
       "      <td>false</td>\n",
       "    </tr>\n",
       "    <tr>\n",
       "      <th>005d6e1d-7a19-422f-a71a-1555b6ca5724</th>\n",
       "      <td>false</td>\n",
       "    </tr>\n",
       "    <tr>\n",
       "      <th>007a0785-1321-4112-be89-e6549a4725a2</th>\n",
       "      <td>true</td>\n",
       "    </tr>\n",
       "    <tr>\n",
       "      <th>008e4a51-2ded-4a7f-a822-e1a4756d7ebd</th>\n",
       "      <td>false</td>\n",
       "    </tr>\n",
       "    <tr>\n",
       "      <th>00c86b27-f076-4560-bb3d-2fb0364b23a1</th>\n",
       "      <td>false</td>\n",
       "    </tr>\n",
       "    <tr>\n",
       "      <th>...</th>\n",
       "      <td>...</td>\n",
       "    </tr>\n",
       "    <tr>\n",
       "      <th>ff992f28-a57d-400d-87eb-5249fdc84337</th>\n",
       "      <td>true</td>\n",
       "    </tr>\n",
       "    <tr>\n",
       "      <th>ffc7b3ed-d66e-4075-ba35-aa1b96c88db7</th>\n",
       "      <td>false</td>\n",
       "    </tr>\n",
       "    <tr>\n",
       "      <th>ffccdd4d-03a1-41ba-bfcf-5f1428db631b</th>\n",
       "      <td>false</td>\n",
       "    </tr>\n",
       "    <tr>\n",
       "      <th>ffe09b02-12df-4551-9d88-3f7f52707d57</th>\n",
       "      <td>true</td>\n",
       "    </tr>\n",
       "    <tr>\n",
       "      <th>fff4c564-d0f5-4358-9d34-0a15da2d588e</th>\n",
       "      <td>true</td>\n",
       "    </tr>\n",
       "  </tbody>\n",
       "</table>\n",
       "<p>2976 rows × 1 columns</p>\n",
       "</div>"
      ],
      "text/plain": [
       "                                     User_Register\n",
       "                                                  \n",
       "005b6c49-c4ed-438b-9092-ad02ed4d672e         false\n",
       "005d6e1d-7a19-422f-a71a-1555b6ca5724         false\n",
       "007a0785-1321-4112-be89-e6549a4725a2          true\n",
       "008e4a51-2ded-4a7f-a822-e1a4756d7ebd         false\n",
       "00c86b27-f076-4560-bb3d-2fb0364b23a1         false\n",
       "...                                            ...\n",
       "ff992f28-a57d-400d-87eb-5249fdc84337          true\n",
       "ffc7b3ed-d66e-4075-ba35-aa1b96c88db7         false\n",
       "ffccdd4d-03a1-41ba-bfcf-5f1428db631b         false\n",
       "ffe09b02-12df-4551-9d88-3f7f52707d57          true\n",
       "fff4c564-d0f5-4358-9d34-0a15da2d588e          true\n",
       "\n",
       "[2976 rows x 1 columns]"
      ]
     },
     "execution_count": 18,
     "metadata": {},
     "output_type": "execute_result"
    }
   ],
   "source": [
    "dftag = create_tag_df('entries.json', 'app_userid')\n",
    "dftag"
   ]
  },
  {
   "cell_type": "code",
   "execution_count": 19,
   "metadata": {},
   "outputs": [
    {
     "data": {
      "text/plain": [
       "2976"
      ]
     },
     "execution_count": 19,
     "metadata": {},
     "output_type": "execute_result"
    }
   ],
   "source": [
    "len(dftag)"
   ]
  },
  {
   "cell_type": "code",
   "execution_count": 20,
   "metadata": {},
   "outputs": [],
   "source": [
    "dfjoin = n_df.join(dftag)\n",
    "dfjoin['User_Register'] = dfjoin['User_Register'].fillna('false')"
   ]
  },
  {
   "cell_type": "code",
   "execution_count": 22,
   "metadata": {},
   "outputs": [
    {
     "data": {
      "text/plain": [
       "13"
      ]
     },
     "execution_count": 22,
     "metadata": {},
     "output_type": "execute_result"
    }
   ],
   "source": [
    "len(dfjoin[dfjoin.User_Register == 'false'])"
   ]
  },
  {
   "cell_type": "code",
   "execution_count": 25,
   "metadata": {},
   "outputs": [
    {
     "data": {
      "text/plain": [
       "(0.970142500145332, 2.7755575615628914e-17)"
      ]
     },
     "execution_count": 25,
     "metadata": {},
     "output_type": "execute_result"
    }
   ],
   "source": [
    "dfjoin.values[:,0].std(), dfjoin.values[:,0].mean()"
   ]
  },
  {
   "cell_type": "code",
   "execution_count": null,
   "metadata": {},
   "outputs": [],
   "source": []
  }
 ],
 "metadata": {
  "kernelspec": {
   "display_name": "Python 3",
   "language": "python",
   "name": "python3"
  },
  "language_info": {
   "codemirror_mode": {
    "name": "ipython",
    "version": 3
   },
   "file_extension": ".py",
   "mimetype": "text/x-python",
   "name": "python",
   "nbconvert_exporter": "python",
   "pygments_lexer": "ipython3",
   "version": "3.8.6"
  }
 },
 "nbformat": 4,
 "nbformat_minor": 4
}
