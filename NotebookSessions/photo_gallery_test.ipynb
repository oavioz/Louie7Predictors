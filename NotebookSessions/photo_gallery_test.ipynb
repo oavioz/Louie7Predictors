{
 "cells": [
  {
   "cell_type": "code",
   "execution_count": 1,
   "metadata": {},
   "outputs": [],
   "source": [
    "import numpy as np\n",
    "import pandas as pd\n",
    "import json\n",
    "import codecs\n",
    "import datetime\n",
    "import os\n",
    "import sys\n",
    "sys.path.append('../')\n",
    "import matplotlib as mpl\n",
    "import matplotlib.pyplot as plt\n",
    "from vector_creator.raw_to_df.rawdata_to_df import *\n",
    "from vector_creator.score_vectors.score_vectors_assembly import *\n",
    "from vector_creator.stats_models.entropy import *\n",
    "from vector_creator.preprocess.est_by_df_column import *\n",
    "from vector_creator.stats_models.auto_regression import *\n",
    "from vector_creator.preprocess.install_apps_features import *\n",
    "from vector_creator.stats_models.estimators import *\n",
    "from vector_creator.score_vectors.vector_indexer import vector_desc_call_logs\n",
    "from vector_creator.score_vectors.vector_descriptor import *\n",
    "path = '/Users/smuel/AndroidStudioProjects/LuckyMeIntgratedSDK/metadata_init_phase/'"
   ]
  },
  {
   "cell_type": "code",
   "execution_count": 2,
   "metadata": {},
   "outputs": [
    {
     "data": {
      "text/plain": [
       "'05fa68e5-0ba3-4783-9c07-42740c4914c6'"
      ]
     },
     "execution_count": 2,
     "metadata": {},
     "output_type": "execute_result"
    }
   ],
   "source": [
    "rdata = list_of_json_files(path)\n",
    "rdata[0][0]"
   ]
  },
  {
   "cell_type": "code",
   "execution_count": 3,
   "metadata": {},
   "outputs": [],
   "source": [
    "raw = group_metadata(path)\n",
    "uid  = '05fa68e5-0ba3-4783-9c07-42740c4914c6'\n",
    "file = '05fa68e5-0ba3-4783-9c07-42740c4914c6_11-06-2021_09-53-01.json'\n",
    "raw_data = json.load(codecs.open(path + file, 'r', 'utf-8-sig'))"
   ]
  },
  {
   "cell_type": "code",
   "execution_count": 4,
   "metadata": {},
   "outputs": [
    {
     "data": {
      "text/plain": [
       "dict_keys(['SamplingConfigurations', 'CallLogs', 'ImgMetaData', 'InstallApps', 'LocationInfo', 'BatteryInfo', 'WifiInfo', 'ScreenInfo'])"
      ]
     },
     "execution_count": 4,
     "metadata": {},
     "output_type": "execute_result"
    }
   ],
   "source": [
    "raw_data.keys()"
   ]
  },
  {
   "cell_type": "code",
   "execution_count": 5,
   "metadata": {},
   "outputs": [],
   "source": [
    "loc, df_r = create_df_from_init_metadata(uid, raw_data)"
   ]
  },
  {
   "cell_type": "code",
   "execution_count": 6,
   "metadata": {},
   "outputs": [
    {
     "data": {
      "text/plain": [
       "dict_keys(['05fa68e5-0ba3-4783-9c07-42740c4914c6_SamplingConfigurations', '05fa68e5-0ba3-4783-9c07-42740c4914c6_CallLogs', '05fa68e5-0ba3-4783-9c07-42740c4914c6_ImgMetaData', '05fa68e5-0ba3-4783-9c07-42740c4914c6_InstallApps', '05fa68e5-0ba3-4783-9c07-42740c4914c6_LocationInfo', '05fa68e5-0ba3-4783-9c07-42740c4914c6_BatteryInfo', '05fa68e5-0ba3-4783-9c07-42740c4914c6_WifiInfo', '05fa68e5-0ba3-4783-9c07-42740c4914c6_ScreenInfo'])"
      ]
     },
     "execution_count": 6,
     "metadata": {},
     "output_type": "execute_result"
    }
   ],
   "source": [
    "df_r.keys()"
   ]
  },
  {
   "cell_type": "code",
   "execution_count": 7,
   "metadata": {},
   "outputs": [],
   "source": [
    "df=df_r['05fa68e5-0ba3-4783-9c07-42740c4914c6_ImgMetaData']"
   ]
  },
  {
   "cell_type": "code",
   "execution_count": 8,
   "metadata": {},
   "outputs": [
    {
     "data": {
      "text/html": [
       "<div>\n",
       "<style scoped>\n",
       "    .dataframe tbody tr th:only-of-type {\n",
       "        vertical-align: middle;\n",
       "    }\n",
       "\n",
       "    .dataframe tbody tr th {\n",
       "        vertical-align: top;\n",
       "    }\n",
       "\n",
       "    .dataframe thead th {\n",
       "        text-align: right;\n",
       "    }\n",
       "</style>\n",
       "<table border=\"1\" class=\"dataframe\">\n",
       "  <thead>\n",
       "    <tr style=\"text-align: right;\">\n",
       "      <th></th>\n",
       "      <th>IMAGE_TYPE</th>\n",
       "      <th>IMAGE_DATE_TIME</th>\n",
       "    </tr>\n",
       "  </thead>\n",
       "  <tbody>\n",
       "    <tr>\n",
       "      <th>0</th>\n",
       "      <td>image/jpeg</td>\n",
       "      <td>2019-10-16 08:48:55</td>\n",
       "    </tr>\n",
       "    <tr>\n",
       "      <th>1</th>\n",
       "      <td>image/jpeg</td>\n",
       "      <td>2019-10-16 08:49:06</td>\n",
       "    </tr>\n",
       "    <tr>\n",
       "      <th>2</th>\n",
       "      <td>image/jpeg</td>\n",
       "      <td>2019-10-16 08:49:07</td>\n",
       "    </tr>\n",
       "    <tr>\n",
       "      <th>3</th>\n",
       "      <td>image/jpeg</td>\n",
       "      <td>2019-10-20 15:42:48</td>\n",
       "    </tr>\n",
       "    <tr>\n",
       "      <th>4</th>\n",
       "      <td>image/jpeg</td>\n",
       "      <td>2019-10-22 14:09:27</td>\n",
       "    </tr>\n",
       "  </tbody>\n",
       "</table>\n",
       "</div>"
      ],
      "text/plain": [
       "   IMAGE_TYPE     IMAGE_DATE_TIME\n",
       "0  image/jpeg 2019-10-16 08:48:55\n",
       "1  image/jpeg 2019-10-16 08:49:06\n",
       "2  image/jpeg 2019-10-16 08:49:07\n",
       "3  image/jpeg 2019-10-20 15:42:48\n",
       "4  image/jpeg 2019-10-22 14:09:27"
      ]
     },
     "execution_count": 8,
     "metadata": {},
     "output_type": "execute_result"
    }
   ],
   "source": [
    "df.head(5)"
   ]
  },
  {
   "cell_type": "code",
   "execution_count": 9,
   "metadata": {},
   "outputs": [],
   "source": [
    "loc_tuple = (loc[0]['Latitude'], loc[0]['Longitude'])"
   ]
  },
  {
   "cell_type": "code",
   "execution_count": 11,
   "metadata": {},
   "outputs": [],
   "source": [
    "import multiprocessing as mp"
   ]
  },
  {
   "cell_type": "code",
   "execution_count": 13,
   "metadata": {},
   "outputs": [
    {
     "name": "stdout",
     "output_type": "stream",
     "text": [
      "<_MainProcess name='MainProcess' parent=None started>\n"
     ]
    }
   ],
   "source": [
    "print(mp.current_process())"
   ]
  },
  {
   "cell_type": "code",
   "execution_count": 10,
   "metadata": {
    "scrolled": false
   },
   "outputs": [
    {
     "name": "stdout",
     "output_type": "stream",
     "text": [
      "(21, 52)\n"
     ]
    }
   ],
   "source": [
    "x = score_vector_constructor(path, 4)"
   ]
  },
  {
   "cell_type": "code",
   "execution_count": 25,
   "metadata": {},
   "outputs": [
    {
     "data": {
      "text/html": [
       "<div>\n",
       "<style scoped>\n",
       "    .dataframe tbody tr th:only-of-type {\n",
       "        vertical-align: middle;\n",
       "    }\n",
       "\n",
       "    .dataframe tbody tr th {\n",
       "        vertical-align: top;\n",
       "    }\n",
       "\n",
       "    .dataframe thead th {\n",
       "        text-align: right;\n",
       "    }\n",
       "</style>\n",
       "<table border=\"1\" class=\"dataframe\">\n",
       "  <thead>\n",
       "    <tr style=\"text-align: right;\">\n",
       "      <th>description</th>\n",
       "      <th>median number photos taken in day - location</th>\n",
       "      <th>mad number photos taken in day - scale</th>\n",
       "      <th>mean number photos taken in day</th>\n",
       "      <th>sample non zero days ratio</th>\n",
       "      <th>mean number of photos in burst</th>\n",
       "      <th>mean number of bursts a week</th>\n",
       "      <th>median night time number photos - location</th>\n",
       "      <th>mad night time number photos - scale</th>\n",
       "      <th>mean night time number photos</th>\n",
       "      <th>sampled non zero nights ratio</th>\n",
       "      <th>...</th>\n",
       "      <th>ratio of weekend and full week bursts a week</th>\n",
       "      <th>ratio of weekdays and full week bursts a week</th>\n",
       "      <th>ar of num of photos in day time lag-1</th>\n",
       "      <th>ar of num of photos in day time lag-3</th>\n",
       "      <th>entropy on number of photos taken in day</th>\n",
       "      <th>mean max ratio of category of installed apps</th>\n",
       "      <th>median max ratio of category of installed apps</th>\n",
       "      <th>app category coverage ratio</th>\n",
       "      <th>entropy of app categories</th>\n",
       "      <th>entropy of install app time of day</th>\n",
       "    </tr>\n",
       "  </thead>\n",
       "  <tbody>\n",
       "    <tr>\n",
       "      <th>05fa68e5-0ba3-4783-9c07-42740c4914c6</th>\n",
       "      <td>2.0</td>\n",
       "      <td>1.482602</td>\n",
       "      <td>4.184971</td>\n",
       "      <td>0.297251</td>\n",
       "      <td>1.711584</td>\n",
       "      <td>1.532468</td>\n",
       "      <td>2.0</td>\n",
       "      <td>1.482602</td>\n",
       "      <td>4.549020</td>\n",
       "      <td>0.090265</td>\n",
       "      <td>...</td>\n",
       "      <td>0.381356</td>\n",
       "      <td>0.466102</td>\n",
       "      <td>0.925484</td>\n",
       "      <td>0.924120</td>\n",
       "      <td>6.535033</td>\n",
       "      <td>0.325397</td>\n",
       "      <td>0.166667</td>\n",
       "      <td>0.375000</td>\n",
       "      <td>4.020844</td>\n",
       "      <td>2.526873</td>\n",
       "    </tr>\n",
       "    <tr>\n",
       "      <th>12fa7561-2e77-4334-b9e1-6858ed27570f</th>\n",
       "      <td>3.0</td>\n",
       "      <td>2.965204</td>\n",
       "      <td>27.320755</td>\n",
       "      <td>0.072011</td>\n",
       "      <td>5.382900</td>\n",
       "      <td>0.650485</td>\n",
       "      <td>2.0</td>\n",
       "      <td>1.482602</td>\n",
       "      <td>5.225000</td>\n",
       "      <td>0.062112</td>\n",
       "      <td>...</td>\n",
       "      <td>0.746269</td>\n",
       "      <td>0.268657</td>\n",
       "      <td>5.376335</td>\n",
       "      <td>5.391280</td>\n",
       "      <td>1.900352</td>\n",
       "      <td>0.345455</td>\n",
       "      <td>0.200000</td>\n",
       "      <td>0.196429</td>\n",
       "      <td>3.128085</td>\n",
       "      <td>2.121276</td>\n",
       "    </tr>\n",
       "    <tr>\n",
       "      <th>1362474c-0fb5-4932-a33d-5a30f23ac7e3</th>\n",
       "      <td>3.0</td>\n",
       "      <td>2.965204</td>\n",
       "      <td>9.442424</td>\n",
       "      <td>0.069153</td>\n",
       "      <td>1.902320</td>\n",
       "      <td>1.794872</td>\n",
       "      <td>3.0</td>\n",
       "      <td>2.965204</td>\n",
       "      <td>8.955357</td>\n",
       "      <td>0.046940</td>\n",
       "      <td>...</td>\n",
       "      <td>0.480000</td>\n",
       "      <td>0.494286</td>\n",
       "      <td>2.521008</td>\n",
       "      <td>2.398544</td>\n",
       "      <td>5.911040</td>\n",
       "      <td>0.500000</td>\n",
       "      <td>0.500000</td>\n",
       "      <td>0.196429</td>\n",
       "      <td>2.866587</td>\n",
       "      <td>2.478349</td>\n",
       "    </tr>\n",
       "    <tr>\n",
       "      <th>148b0326-09e2-404f-9de6-aff6d44f2a38</th>\n",
       "      <td>2.0</td>\n",
       "      <td>1.482602</td>\n",
       "      <td>4.666667</td>\n",
       "      <td>0.652174</td>\n",
       "      <td>1.700405</td>\n",
       "      <td>3.600000</td>\n",
       "      <td>2.0</td>\n",
       "      <td>1.482602</td>\n",
       "      <td>4.109091</td>\n",
       "      <td>0.407407</td>\n",
       "      <td>...</td>\n",
       "      <td>0.388889</td>\n",
       "      <td>0.513889</td>\n",
       "      <td>0.681415</td>\n",
       "      <td>1.056694</td>\n",
       "      <td>5.570877</td>\n",
       "      <td>0.279412</td>\n",
       "      <td>0.125000</td>\n",
       "      <td>0.303571</td>\n",
       "      <td>3.461320</td>\n",
       "      <td>2.483226</td>\n",
       "    </tr>\n",
       "    <tr>\n",
       "      <th>17ac0e20-b292-492c-9adc-faf60a068926</th>\n",
       "      <td>4.0</td>\n",
       "      <td>4.447807</td>\n",
       "      <td>17.270270</td>\n",
       "      <td>0.055348</td>\n",
       "      <td>5.605263</td>\n",
       "      <td>0.376963</td>\n",
       "      <td>3.0</td>\n",
       "      <td>2.965204</td>\n",
       "      <td>27.076923</td>\n",
       "      <td>0.029170</td>\n",
       "      <td>...</td>\n",
       "      <td>0.500000</td>\n",
       "      <td>0.472222</td>\n",
       "      <td>1.556856</td>\n",
       "      <td>1.508826</td>\n",
       "      <td>3.365487</td>\n",
       "      <td>0.600000</td>\n",
       "      <td>0.500000</td>\n",
       "      <td>0.178571</td>\n",
       "      <td>2.947703</td>\n",
       "      <td>2.418296</td>\n",
       "    </tr>\n",
       "  </tbody>\n",
       "</table>\n",
       "<p>5 rows × 52 columns</p>\n",
       "</div>"
      ],
      "text/plain": [
       "description                           median number photos taken in day - location  \\\n",
       "05fa68e5-0ba3-4783-9c07-42740c4914c6                                           2.0   \n",
       "12fa7561-2e77-4334-b9e1-6858ed27570f                                           3.0   \n",
       "1362474c-0fb5-4932-a33d-5a30f23ac7e3                                           3.0   \n",
       "148b0326-09e2-404f-9de6-aff6d44f2a38                                           2.0   \n",
       "17ac0e20-b292-492c-9adc-faf60a068926                                           4.0   \n",
       "\n",
       "description                           mad number photos taken in day - scale  \\\n",
       "05fa68e5-0ba3-4783-9c07-42740c4914c6                                1.482602   \n",
       "12fa7561-2e77-4334-b9e1-6858ed27570f                                2.965204   \n",
       "1362474c-0fb5-4932-a33d-5a30f23ac7e3                                2.965204   \n",
       "148b0326-09e2-404f-9de6-aff6d44f2a38                                1.482602   \n",
       "17ac0e20-b292-492c-9adc-faf60a068926                                4.447807   \n",
       "\n",
       "description                           mean number photos taken in day  \\\n",
       "05fa68e5-0ba3-4783-9c07-42740c4914c6                         4.184971   \n",
       "12fa7561-2e77-4334-b9e1-6858ed27570f                        27.320755   \n",
       "1362474c-0fb5-4932-a33d-5a30f23ac7e3                         9.442424   \n",
       "148b0326-09e2-404f-9de6-aff6d44f2a38                         4.666667   \n",
       "17ac0e20-b292-492c-9adc-faf60a068926                        17.270270   \n",
       "\n",
       "description                           sample non zero days ratio  \\\n",
       "05fa68e5-0ba3-4783-9c07-42740c4914c6                    0.297251   \n",
       "12fa7561-2e77-4334-b9e1-6858ed27570f                    0.072011   \n",
       "1362474c-0fb5-4932-a33d-5a30f23ac7e3                    0.069153   \n",
       "148b0326-09e2-404f-9de6-aff6d44f2a38                    0.652174   \n",
       "17ac0e20-b292-492c-9adc-faf60a068926                    0.055348   \n",
       "\n",
       "description                           mean number of photos in burst  \\\n",
       "05fa68e5-0ba3-4783-9c07-42740c4914c6                        1.711584   \n",
       "12fa7561-2e77-4334-b9e1-6858ed27570f                        5.382900   \n",
       "1362474c-0fb5-4932-a33d-5a30f23ac7e3                        1.902320   \n",
       "148b0326-09e2-404f-9de6-aff6d44f2a38                        1.700405   \n",
       "17ac0e20-b292-492c-9adc-faf60a068926                        5.605263   \n",
       "\n",
       "description                           mean number of bursts a week  \\\n",
       "05fa68e5-0ba3-4783-9c07-42740c4914c6                      1.532468   \n",
       "12fa7561-2e77-4334-b9e1-6858ed27570f                      0.650485   \n",
       "1362474c-0fb5-4932-a33d-5a30f23ac7e3                      1.794872   \n",
       "148b0326-09e2-404f-9de6-aff6d44f2a38                      3.600000   \n",
       "17ac0e20-b292-492c-9adc-faf60a068926                      0.376963   \n",
       "\n",
       "description                           median night time number photos - location  \\\n",
       "05fa68e5-0ba3-4783-9c07-42740c4914c6                                         2.0   \n",
       "12fa7561-2e77-4334-b9e1-6858ed27570f                                         2.0   \n",
       "1362474c-0fb5-4932-a33d-5a30f23ac7e3                                         3.0   \n",
       "148b0326-09e2-404f-9de6-aff6d44f2a38                                         2.0   \n",
       "17ac0e20-b292-492c-9adc-faf60a068926                                         3.0   \n",
       "\n",
       "description                           mad night time number photos - scale  \\\n",
       "05fa68e5-0ba3-4783-9c07-42740c4914c6                              1.482602   \n",
       "12fa7561-2e77-4334-b9e1-6858ed27570f                              1.482602   \n",
       "1362474c-0fb5-4932-a33d-5a30f23ac7e3                              2.965204   \n",
       "148b0326-09e2-404f-9de6-aff6d44f2a38                              1.482602   \n",
       "17ac0e20-b292-492c-9adc-faf60a068926                              2.965204   \n",
       "\n",
       "description                           mean night time number photos  \\\n",
       "05fa68e5-0ba3-4783-9c07-42740c4914c6                       4.549020   \n",
       "12fa7561-2e77-4334-b9e1-6858ed27570f                       5.225000   \n",
       "1362474c-0fb5-4932-a33d-5a30f23ac7e3                       8.955357   \n",
       "148b0326-09e2-404f-9de6-aff6d44f2a38                       4.109091   \n",
       "17ac0e20-b292-492c-9adc-faf60a068926                      27.076923   \n",
       "\n",
       "description                           sampled non zero nights ratio  ...  \\\n",
       "05fa68e5-0ba3-4783-9c07-42740c4914c6                       0.090265  ...   \n",
       "12fa7561-2e77-4334-b9e1-6858ed27570f                       0.062112  ...   \n",
       "1362474c-0fb5-4932-a33d-5a30f23ac7e3                       0.046940  ...   \n",
       "148b0326-09e2-404f-9de6-aff6d44f2a38                       0.407407  ...   \n",
       "17ac0e20-b292-492c-9adc-faf60a068926                       0.029170  ...   \n",
       "\n",
       "description                           ratio of weekend and full week bursts a week  \\\n",
       "05fa68e5-0ba3-4783-9c07-42740c4914c6                                      0.381356   \n",
       "12fa7561-2e77-4334-b9e1-6858ed27570f                                      0.746269   \n",
       "1362474c-0fb5-4932-a33d-5a30f23ac7e3                                      0.480000   \n",
       "148b0326-09e2-404f-9de6-aff6d44f2a38                                      0.388889   \n",
       "17ac0e20-b292-492c-9adc-faf60a068926                                      0.500000   \n",
       "\n",
       "description                           ratio of weekdays and full week bursts a week  \\\n",
       "05fa68e5-0ba3-4783-9c07-42740c4914c6                                       0.466102   \n",
       "12fa7561-2e77-4334-b9e1-6858ed27570f                                       0.268657   \n",
       "1362474c-0fb5-4932-a33d-5a30f23ac7e3                                       0.494286   \n",
       "148b0326-09e2-404f-9de6-aff6d44f2a38                                       0.513889   \n",
       "17ac0e20-b292-492c-9adc-faf60a068926                                       0.472222   \n",
       "\n",
       "description                           ar of num of photos in day time lag-1  \\\n",
       "05fa68e5-0ba3-4783-9c07-42740c4914c6                               0.925484   \n",
       "12fa7561-2e77-4334-b9e1-6858ed27570f                               5.376335   \n",
       "1362474c-0fb5-4932-a33d-5a30f23ac7e3                               2.521008   \n",
       "148b0326-09e2-404f-9de6-aff6d44f2a38                               0.681415   \n",
       "17ac0e20-b292-492c-9adc-faf60a068926                               1.556856   \n",
       "\n",
       "description                           ar of num of photos in day time lag-3  \\\n",
       "05fa68e5-0ba3-4783-9c07-42740c4914c6                               0.924120   \n",
       "12fa7561-2e77-4334-b9e1-6858ed27570f                               5.391280   \n",
       "1362474c-0fb5-4932-a33d-5a30f23ac7e3                               2.398544   \n",
       "148b0326-09e2-404f-9de6-aff6d44f2a38                               1.056694   \n",
       "17ac0e20-b292-492c-9adc-faf60a068926                               1.508826   \n",
       "\n",
       "description                           entropy on number of photos taken in day  \\\n",
       "05fa68e5-0ba3-4783-9c07-42740c4914c6                                  6.535033   \n",
       "12fa7561-2e77-4334-b9e1-6858ed27570f                                  1.900352   \n",
       "1362474c-0fb5-4932-a33d-5a30f23ac7e3                                  5.911040   \n",
       "148b0326-09e2-404f-9de6-aff6d44f2a38                                  5.570877   \n",
       "17ac0e20-b292-492c-9adc-faf60a068926                                  3.365487   \n",
       "\n",
       "description                           mean max ratio of category of installed apps  \\\n",
       "05fa68e5-0ba3-4783-9c07-42740c4914c6                                      0.325397   \n",
       "12fa7561-2e77-4334-b9e1-6858ed27570f                                      0.345455   \n",
       "1362474c-0fb5-4932-a33d-5a30f23ac7e3                                      0.500000   \n",
       "148b0326-09e2-404f-9de6-aff6d44f2a38                                      0.279412   \n",
       "17ac0e20-b292-492c-9adc-faf60a068926                                      0.600000   \n",
       "\n",
       "description                           median max ratio of category of installed apps  \\\n",
       "05fa68e5-0ba3-4783-9c07-42740c4914c6                                        0.166667   \n",
       "12fa7561-2e77-4334-b9e1-6858ed27570f                                        0.200000   \n",
       "1362474c-0fb5-4932-a33d-5a30f23ac7e3                                        0.500000   \n",
       "148b0326-09e2-404f-9de6-aff6d44f2a38                                        0.125000   \n",
       "17ac0e20-b292-492c-9adc-faf60a068926                                        0.500000   \n",
       "\n",
       "description                           app category coverage ratio  \\\n",
       "05fa68e5-0ba3-4783-9c07-42740c4914c6                     0.375000   \n",
       "12fa7561-2e77-4334-b9e1-6858ed27570f                     0.196429   \n",
       "1362474c-0fb5-4932-a33d-5a30f23ac7e3                     0.196429   \n",
       "148b0326-09e2-404f-9de6-aff6d44f2a38                     0.303571   \n",
       "17ac0e20-b292-492c-9adc-faf60a068926                     0.178571   \n",
       "\n",
       "description                           entropy of app categories  \\\n",
       "05fa68e5-0ba3-4783-9c07-42740c4914c6                   4.020844   \n",
       "12fa7561-2e77-4334-b9e1-6858ed27570f                   3.128085   \n",
       "1362474c-0fb5-4932-a33d-5a30f23ac7e3                   2.866587   \n",
       "148b0326-09e2-404f-9de6-aff6d44f2a38                   3.461320   \n",
       "17ac0e20-b292-492c-9adc-faf60a068926                   2.947703   \n",
       "\n",
       "description                           entropy of install app time of day  \n",
       "05fa68e5-0ba3-4783-9c07-42740c4914c6                            2.526873  \n",
       "12fa7561-2e77-4334-b9e1-6858ed27570f                            2.121276  \n",
       "1362474c-0fb5-4932-a33d-5a30f23ac7e3                            2.478349  \n",
       "148b0326-09e2-404f-9de6-aff6d44f2a38                            2.483226  \n",
       "17ac0e20-b292-492c-9adc-faf60a068926                            2.418296  \n",
       "\n",
       "[5 rows x 52 columns]"
      ]
     },
     "execution_count": 25,
     "metadata": {},
     "output_type": "execute_result"
    }
   ],
   "source": [
    "x.iloc[0:5, 0:52]"
   ]
  },
  {
   "cell_type": "code",
   "execution_count": 12,
   "metadata": {},
   "outputs": [],
   "source": [
    "#read the tags from json file for user register non register and create df with tag column\n",
    "def create_tag_df(json_file_path, column_name): # 'entries.json'\n",
    "    tag_data = json.load(codecs.open(json_file_path, 'r', 'utf-8-sig'))\n",
    "    df_tag = pd.DataFrame(tag_data)\n",
    "    df_tag = df_tag.rename(columns={column_name: ''}) # 'app_userid'\n",
    "    dftag = df_tag.set_index('')\n",
    "    return dftag"
   ]
  },
  {
   "cell_type": "code",
   "execution_count": 13,
   "metadata": {},
   "outputs": [],
   "source": [
    "def norm_df(old_df):\n",
    "    inxs = old_df.index.values\n",
    "    zs = zscore(old_df.values, axis=0, ddof=1)\n",
    "    return pd.DataFrame(zs, columns=old_df.columns, index=inxs)\n",
    "n_df = norm_df(x)"
   ]
  },
  {
   "cell_type": "code",
   "execution_count": 14,
   "metadata": {},
   "outputs": [],
   "source": [
    "def norm_df_2(df):\n",
    "    inxs = df.index.values\n",
    "    std_scale = preprocessing.StandardScaler().fit(df)\n",
    "    df_std = std_scale.transform(df)\n",
    "    return pd.DataFrame(df_std, columns=df.columns, index=inxs)\n",
    "n2_df = norm_df_2(x)"
   ]
  },
  {
   "cell_type": "code",
   "execution_count": 15,
   "metadata": {},
   "outputs": [],
   "source": [
    "def minmax_norm(df):\n",
    "    inxs = df.index.values\n",
    "    minmax_scale = preprocessing.MinMaxScaler().fit(df)\n",
    "    df_minmax = minmax_scale.transform(df)\n",
    "    return pd.DataFrame(df_minmax, columns=df.columns, index=inxs)\n",
    "mm_df = minmax_norm(x)"
   ]
  },
  {
   "cell_type": "code",
   "execution_count": null,
   "metadata": {},
   "outputs": [],
   "source": [
    "mm_df.max(axis=0)"
   ]
  },
  {
   "cell_type": "code",
   "execution_count": null,
   "metadata": {
    "scrolled": true
   },
   "outputs": [],
   "source": [
    "n_df.values[:,0].mean()"
   ]
  },
  {
   "cell_type": "code",
   "execution_count": null,
   "metadata": {},
   "outputs": [],
   "source": [
    "dftag = create_tag_df('entries.json', 'app_userid')\n",
    "dftag"
   ]
  },
  {
   "cell_type": "code",
   "execution_count": null,
   "metadata": {},
   "outputs": [],
   "source": [
    "len(dftag)"
   ]
  },
  {
   "cell_type": "code",
   "execution_count": null,
   "metadata": {},
   "outputs": [],
   "source": [
    "dfjoin = n_df.join(dftag)\n",
    "dfjoin['User_Register'] = dfjoin['User_Register'].fillna('false')"
   ]
  },
  {
   "cell_type": "code",
   "execution_count": null,
   "metadata": {},
   "outputs": [],
   "source": [
    "len(dfjoin[dfjoin.User_Register == 'false'])"
   ]
  },
  {
   "cell_type": "code",
   "execution_count": null,
   "metadata": {},
   "outputs": [],
   "source": [
    "dfjoin.values[:,0].std(), dfjoin.values[:,0].mean()"
   ]
  },
  {
   "cell_type": "code",
   "execution_count": null,
   "metadata": {},
   "outputs": [],
   "source": [
    "x = pd.read_csv('/Users/smuel/Developer/Python/csv_fles/photogallery_with_tag_for_xgboost.csv')"
   ]
  },
  {
   "cell_type": "code",
   "execution_count": null,
   "metadata": {},
   "outputs": [],
   "source": [
    "x = pd.read_csv('/Users/smuel/Developer/Python/csv_fles/photogallery_with_tag_for_xgboost.csv')\n"
   ]
  },
  {
   "cell_type": "code",
   "execution_count": null,
   "metadata": {},
   "outputs": [],
   "source": [
    "x.rename(columns={'Unnamed: 0': 'description'}, inplace=True)"
   ]
  },
  {
   "cell_type": "code",
   "execution_count": null,
   "metadata": {},
   "outputs": [],
   "source": [
    "x.head(5)"
   ]
  },
  {
   "cell_type": "code",
   "execution_count": null,
   "metadata": {},
   "outputs": [],
   "source": [
    "x = x.set_index('description')"
   ]
  },
  {
   "cell_type": "code",
   "execution_count": null,
   "metadata": {},
   "outputs": [],
   "source": [
    "len(x)"
   ]
  },
  {
   "cell_type": "code",
   "execution_count": null,
   "metadata": {},
   "outputs": [],
   "source": [
    "len(x[x.User_Register == 1])"
   ]
  },
  {
   "cell_type": "code",
   "execution_count": null,
   "metadata": {},
   "outputs": [],
   "source": [
    "def csv_to_df(path):\n",
    "    x = pd.read_csv(path)\n",
    "    x.rename(columns={'Unnamed: 0': 'description'}, inplace=True)\n",
    "    x = x.set_index('description')\n",
    "    return x\n"
   ]
  },
  {
   "cell_type": "code",
   "execution_count": null,
   "metadata": {},
   "outputs": [],
   "source": []
  }
 ],
 "metadata": {
  "kernelspec": {
   "display_name": "Python 3",
   "language": "python",
   "name": "python3"
  },
  "language_info": {
   "codemirror_mode": {
    "name": "ipython",
    "version": 3
   },
   "file_extension": ".py",
   "mimetype": "text/x-python",
   "name": "python",
   "nbconvert_exporter": "python",
   "pygments_lexer": "ipython3",
   "version": "3.8.6"
  }
 },
 "nbformat": 4,
 "nbformat_minor": 4
}
